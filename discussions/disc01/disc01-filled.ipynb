{
 "cells": [
  {
   "cell_type": "markdown",
   "id": "3143de48",
   "metadata": {
    "slideshow": {
     "slide_type": "slide"
    },
    "tags": []
   },
   "source": [
    "<div class=\"alert alert-info\" markdown=\"1\">\n",
    "\n",
    "#### Discussion 1\n",
    "\n",
    "# Introductions, Python Review\n",
    "\n",
    "### EECS 398-003: Practical Data Science, Fall 2024\n",
    "\n",
    "<small><a style=\"text-decoration: none\" href=\"https://practicaldsc.org\">practicaldsc.org</a> • <a style=\"text-decoration: none\" href=\"https://github.com/practicaldsc/fa24\">github.com/practicaldsc/fa24</a></small>\n",
    "    \n",
    "</div>"
   ]
  },
  {
   "cell_type": "markdown",
   "id": "504aee40",
   "metadata": {
    "slideshow": {
     "slide_type": "slide"
    }
   },
   "source": [
    "### Agenda\n",
    "\n",
    "- Announcements.\n",
    "- Introductions.\n",
    "- Quick environment setup.\n",
    "- Python practice.\n",
    "- This first week is a little different. Normally, we would work through old exam problems, but this week is mostly review.\n",
    "- We will adjust discussion content throughout the semester and make sure it suits your needs."
   ]
  },
  {
   "cell_type": "markdown",
   "id": "d7361539",
   "metadata": {
    "slideshow": {
     "slide_type": "slide"
    }
   },
   "source": [
    "### Announcements\n",
    "- There's a [walkthrough video](https://www.youtube.com/watch?v=IaEuWJCcwjk) of the area codes dictionary problem from lecture on the course website.\n",
    "- Homework 1 released! It is due Thursday."
   ]
  },
  {
   "cell_type": "markdown",
   "id": "05e13dd0",
   "metadata": {
    "slideshow": {
     "slide_type": "slide"
    }
   },
   "source": [
    "## Introductions\n",
    "\n",
    "---"
   ]
  },
  {
   "cell_type": "markdown",
   "id": "79aca36b",
   "metadata": {
    "slideshow": {
     "slide_type": "slide"
    }
   },
   "source": [
    "### Hi, I'm Pranavi! 👋\n",
    "* 5th year undergrad \n",
    "* Majors: Mathematical Sciences: Discrete & Algorithmic Methods and Computer Science\n",
    "* Minor: Creative Writing\n",
    "* Hobbies: Reading/writing, hiking, singing, \n",
    "* Ask me about: My dog☁, ResponsibleAI🤖, Consulting vs. SWE👩‍💻, Scuba Diving🤿\n",
    "<!-- ![IMG_6067.JPG](attachment:IMG_6067.JPG)\n",
    "![IMG_0159.HEIC](attachment:IMG_0159.HEIC) -->"
   ]
  },
  {
   "cell_type": "markdown",
   "id": "32532a5a",
   "metadata": {
    "slideshow": {
     "slide_type": "slide"
    }
   },
   "source": [
    "### Hi, I'm Yutong!\n",
    "- 4th year, Mathematics & Computer Science\n",
    "- Hobbies: Reading, working out, building mental model of the world\n",
    "- Ask me about: mindful living, MFAMS"
   ]
  },
  {
   "cell_type": "markdown",
   "id": "0320a7f4",
   "metadata": {
    "slideshow": {
     "slide_type": "slide"
    }
   },
   "source": [
    "### Hi, I'm Kyle\n",
    "\n",
    "- Fourth year Data Science student\n",
    "- Ann Arbor, MI\n",
    "- Frisbee, music, movies"
   ]
  },
  {
   "cell_type": "markdown",
   "id": "25c72920",
   "metadata": {
    "slideshow": {
     "slide_type": "slide"
    }
   },
   "source": [
    "### Icebreaker!\n",
    "- Turn to the person next to you.\n",
    "- Share your name, major, year, best memory from the summer.\n",
    "- Two truths and a lie but with music.\n",
    "    - Share two artists you like, one artist you don't like."
   ]
  },
  {
   "cell_type": "markdown",
   "id": "36d531c4",
   "metadata": {
    "slideshow": {
     "slide_type": "slide"
    }
   },
   "source": [
    "### Discussion Environment Setup\n",
    "- Pull the `fa24` git repo.\n",
    "- Activate `pds` environment.\n",
    "- run `jupyter lab`.\n",
    "- There are many useful jupyter shortcuts (press H to see).\n",
    "---"
   ]
  },
  {
   "cell_type": "markdown",
   "id": "0fb8e32a",
   "metadata": {
    "slideshow": {
     "slide_type": "slide"
    }
   },
   "source": [
    "## Python Practice\n",
    "\n",
    "---"
   ]
  },
  {
   "cell_type": "markdown",
   "id": "0ce9703f",
   "metadata": {
    "slideshow": {
     "slide_type": "slide"
    }
   },
   "source": [
    "### Dictionaries\n",
    "- Collection of key value pairs.\n",
    "- It is iterable.\n",
    "- It is mutable."
   ]
  },
  {
   "cell_type": "markdown",
   "id": "55726976",
   "metadata": {
    "slideshow": {
     "slide_type": "-"
    }
   },
   "source": [
    "- Here we have a dictionary where the key is the slang terms and the value is the full form of the slang."
   ]
  },
  {
   "cell_type": "code",
   "execution_count": null,
   "id": "68b1ee3e",
   "metadata": {
    "slideshow": {
     "slide_type": "-"
    }
   },
   "outputs": [],
   "source": [
    "slang = {\n",
    "    'fyi': 'for your information',\n",
    "    'lol': 'laugh out loud',\n",
    "    'lmao': 'leave me at the office',\n",
    "}"
   ]
  },
  {
   "cell_type": "markdown",
   "id": "95197051",
   "metadata": {
    "slideshow": {
     "slide_type": "fragment"
    }
   },
   "source": [
    "- Indexing a current key modifies the value of that key."
   ]
  },
  {
   "cell_type": "code",
   "execution_count": null,
   "id": "9f9ca771",
   "metadata": {
    "slideshow": {
     "slide_type": "-"
    }
   },
   "outputs": [],
   "source": [
    "slang['lol'] = 'lower our loudness'\n",
    "slang"
   ]
  },
  {
   "cell_type": "markdown",
   "id": "1a15f8c0",
   "metadata": {
    "slideshow": {
     "slide_type": "fragment"
    }
   },
   "source": [
    "- If the key does not exist in the dictionary, it creates a new key."
   ]
  },
  {
   "cell_type": "code",
   "execution_count": null,
   "id": "bbf3eadc",
   "metadata": {
    "slideshow": {
     "slide_type": "-"
    }
   },
   "outputs": [],
   "source": [
    "slang['omw'] = 'On my way!'\n",
    "slang"
   ]
  },
  {
   "cell_type": "markdown",
   "id": "562df959",
   "metadata": {
    "slideshow": {
     "slide_type": "slide"
    }
   },
   "source": [
    "- Keys can't be mutable. Since a list is mutable, it can not be used as a key."
   ]
  },
  {
   "cell_type": "code",
   "execution_count": null,
   "id": "416f822d",
   "metadata": {
    "slideshow": {
     "slide_type": "-"
    }
   },
   "outputs": [],
   "source": [
    "slang[[1, 2]] = 'hey'"
   ]
  },
  {
   "cell_type": "markdown",
   "id": "f1642e3f",
   "metadata": {
    "slideshow": {
     "slide_type": "slide"
    }
   },
   "source": [
    "<div class=\"alert alert-success\">\n",
    "<h3>Activity</h3>\n",
    "\n",
    "Complete the implementation of the given function, `replace_slang`, which takes in a sentence and replaces all occurances of abbreviations with their full forms. Example behavior is shown below.\n",
    "    \n",
    "```py\n",
    ">>> replace_slang('hey lmao i gotta go lol')\n",
    "    'hey leave me at the office i gotta go laugh out loud'\n",
    "    \n",
    ">>> replace_slang('fyi i am omw')\n",
    "    'for your information i am On my way!'\n",
    "```\n",
    "    \n",
    "</div>"
   ]
  },
  {
   "cell_type": "code",
   "execution_count": null,
   "id": "c7174a36",
   "metadata": {
    "slideshow": {
     "slide_type": "skip"
    }
   },
   "outputs": [],
   "source": [
    "def replace_slang(sentence):\n",
    "    for arb in slang:\n",
    "        sentence = sentence.replace(arb, slang[arb])\n",
    "    return sentence"
   ]
  },
  {
   "cell_type": "markdown",
   "id": "958b6c08",
   "metadata": {
    "slideshow": {
     "slide_type": "skip"
    }
   },
   "source": [
    "- Run test cases below."
   ]
  },
  {
   "cell_type": "code",
   "execution_count": null,
   "id": "69b64fee",
   "metadata": {
    "scrolled": true,
    "slideshow": {
     "slide_type": "skip"
    }
   },
   "outputs": [],
   "source": [
    "# Expecting: 'hey leave me at the office i gotta go lower our loudness'\n",
    "replace_slang('hey lmao i gotta go lol')"
   ]
  },
  {
   "cell_type": "code",
   "execution_count": null,
   "id": "5ca05e8e",
   "metadata": {
    "slideshow": {
     "slide_type": "skip"
    }
   },
   "outputs": [],
   "source": [
    "# Expecting: 'for your information i am On my way!'\n",
    "replace_slang('fyi i am omw')"
   ]
  },
  {
   "cell_type": "markdown",
   "id": "56a603db",
   "metadata": {
    "slideshow": {
     "slide_type": "slide"
    }
   },
   "source": [
    "### List mutability"
   ]
  },
  {
   "cell_type": "markdown",
   "id": "c09ff13b",
   "metadata": {},
   "source": [
    "- Here we define a function to take in a list and append 'hi' at the end.\n",
    "- `append` is destructive: it does not return an output and modifies something in place."
   ]
  },
  {
   "cell_type": "code",
   "execution_count": null,
   "id": "374da01c",
   "metadata": {
    "slideshow": {
     "slide_type": "-"
    }
   },
   "outputs": [],
   "source": [
    "def format_my_list(lst):\n",
    "    return lst.append('hi')"
   ]
  },
  {
   "cell_type": "code",
   "execution_count": null,
   "id": "8a4f20c5",
   "metadata": {
    "slideshow": {
     "slide_type": "fragment"
    }
   },
   "outputs": [],
   "source": [
    "vals = [2, 5]"
   ]
  },
  {
   "cell_type": "code",
   "execution_count": null,
   "id": "e792d5ff",
   "metadata": {
    "slideshow": {
     "slide_type": "fragment"
    }
   },
   "outputs": [],
   "source": [
    "format_my_list(vals)"
   ]
  },
  {
   "cell_type": "markdown",
   "id": "59dbf352",
   "metadata": {
    "slideshow": {
     "slide_type": "fragment"
    }
   },
   "source": [
    "- Notice how when `vals` is passed into the function, it is modified."
   ]
  },
  {
   "cell_type": "code",
   "execution_count": null,
   "id": "613dc283",
   "metadata": {
    "slideshow": {
     "slide_type": "-"
    }
   },
   "outputs": [],
   "source": [
    "vals"
   ]
  },
  {
   "cell_type": "markdown",
   "id": "bcae9953",
   "metadata": {},
   "source": [
    "- Here we concatenate `['hi']` to `vals`."
   ]
  },
  {
   "cell_type": "code",
   "execution_count": null,
   "id": "e84aff3a",
   "metadata": {
    "slideshow": {
     "slide_type": "-"
    }
   },
   "outputs": [],
   "source": [
    "vals + ['hi']"
   ]
  },
  {
   "cell_type": "markdown",
   "id": "521d0d83",
   "metadata": {
    "slideshow": {
     "slide_type": "fragment"
    }
   },
   "source": [
    "- List concatenation is not destructive. It does not modify `vals` in place."
   ]
  },
  {
   "cell_type": "code",
   "execution_count": null,
   "id": "a2eed773",
   "metadata": {
    "slideshow": {
     "slide_type": "-"
    }
   },
   "outputs": [],
   "source": [
    " vals"
   ]
  },
  {
   "cell_type": "markdown",
   "id": "da15e33a",
   "metadata": {
    "slideshow": {
     "slide_type": "slide"
    }
   },
   "source": [
    "### A more complicated example"
   ]
  },
  {
   "cell_type": "markdown",
   "id": "4a084dfe",
   "metadata": {},
   "source": [
    "- Here is a [walk through](https://pythontutor.com/render.html#code=def%20unclear%28lst%29%3A%0A%20%20%20%20for%20i%20in%20range%28len%28lst%29%29%3A%0A%20%20%20%20%20%20%20%20lst%5Bi%5D%20%3D%20%5Blst%5Bi%5D%5D%0A%20%20%20%20lst%5B0%5D.append%28lst.pop%28%29%29%0A%20%20%20%20%0Avals%20%3D%20%5B1,%202,%203,%204%5D%0Aunclear%28vals%29&cumulative=false&curInstr=0&heapPrimitives=nevernest&mode=display&origin=opt-frontend.js&py=3&rawInputLstJSON=%5B%5D&textReferences=false) as to what this code is doing.\n",
    "- [Python Tutor](https://pythontutor.com/render.html#mode=edit) is a wonderful tool to use to understand code."
   ]
  },
  {
   "cell_type": "code",
   "execution_count": null,
   "id": "4c8ada2f",
   "metadata": {
    "slideshow": {
     "slide_type": "-"
    }
   },
   "outputs": [],
   "source": [
    "def unclear(lst):\n",
    "    for i in range(len(lst)):\n",
    "        lst[i] = [lst[i]]\n",
    "    lst[0].append(lst.pop())"
   ]
  },
  {
   "cell_type": "code",
   "execution_count": null,
   "id": "45383d2f",
   "metadata": {
    "slideshow": {
     "slide_type": "-"
    }
   },
   "outputs": [],
   "source": [
    "vals = [1, 2, 3, 4]\n",
    "unclear(vals)"
   ]
  },
  {
   "cell_type": "code",
   "execution_count": null,
   "id": "8387ee91",
   "metadata": {
    "slideshow": {
     "slide_type": "-"
    }
   },
   "outputs": [],
   "source": [
    "vals"
   ]
  },
  {
   "cell_type": "markdown",
   "id": "ed661488",
   "metadata": {
    "slideshow": {
     "slide_type": "slide"
    }
   },
   "source": [
    "### Immutable objects (strings)"
   ]
  },
  {
   "cell_type": "code",
   "execution_count": null,
   "id": "c8570dca",
   "metadata": {
    "slideshow": {
     "slide_type": "-"
    }
   },
   "outputs": [],
   "source": [
    "def format_my_string(name):\n",
    "    return name.replace('i', 'o')"
   ]
  },
  {
   "cell_type": "code",
   "execution_count": null,
   "id": "b82e2fb4",
   "metadata": {
    "slideshow": {
     "slide_type": "-"
    }
   },
   "outputs": [],
   "source": [
    "name = 'University of Michigan'"
   ]
  },
  {
   "cell_type": "code",
   "execution_count": null,
   "id": "cc7fb06a",
   "metadata": {
    "slideshow": {
     "slide_type": "-"
    }
   },
   "outputs": [],
   "source": [
    "name = format_my_string(name)"
   ]
  },
  {
   "cell_type": "markdown",
   "id": "35845b5c",
   "metadata": {
    "slideshow": {
     "slide_type": "fragment"
    }
   },
   "source": [
    "- Notice how format_my_string does not alter `name`."
   ]
  },
  {
   "cell_type": "code",
   "execution_count": null,
   "id": "b322780e",
   "metadata": {
    "slideshow": {
     "slide_type": "-"
    }
   },
   "outputs": [],
   "source": [
    "name"
   ]
  },
  {
   "cell_type": "markdown",
   "id": "1650566d",
   "metadata": {
    "slideshow": {
     "slide_type": "slide"
    }
   },
   "source": [
    "<div class=\"alert alert-success\">\n",
    "<h3>Activity</h3>\n",
    "\n",
    "Complete the implementation of the function `one_streak`, which takes in a list `charts` representing the position of a song in the Billboard 200 over several consecutive weeks and returns the most consecutive weeks that song was ranked #1. Example behavior is shown below.\n",
    "\n",
    "```py\n",
    ">>> one_streak([13, 3, 2, 1, 2, 1, 1, 1, 1, 1, 1, 1, 1, 1, 2, 3, 2, 5, 7, 8])\n",
    "9\n",
    "\n",
    ">>> one_streak([4, 1, 1, 1, 2, 3, 11, 1, 1, 1, 1, 1])\n",
    "5\n",
    "\n",
    ">>> one_streak([5, 4, 1, 1, 1, 3, 2, 1, 2, 3])\n",
    "3\n",
    "```    \n",
    "</div>"
   ]
  },
  {
   "cell_type": "code",
   "execution_count": null,
   "id": "d7de3193",
   "metadata": {
    "slideshow": {
     "slide_type": "skip"
    }
   },
   "outputs": [],
   "source": [
    "def one_streak(charts):\n",
    "    counter = 0\n",
    "    most = 0\n",
    "    for i in range(len(charts)):\n",
    "        if charts[i] == 1:\n",
    "            counter += 1\n",
    "            most = max(most, counter)\n",
    "        else:\n",
    "            counter = 0\n",
    "    return most"
   ]
  },
  {
   "cell_type": "markdown",
   "id": "e669ea09",
   "metadata": {
    "slideshow": {
     "slide_type": "skip"
    }
   },
   "source": [
    "- Run test cases below."
   ]
  },
  {
   "cell_type": "code",
   "execution_count": null,
   "id": "2f3f2195",
   "metadata": {
    "slideshow": {
     "slide_type": "skip"
    }
   },
   "outputs": [],
   "source": [
    "# Expecting: 9.\n",
    "one_streak([13, 3, 2, 1, 2, 1, 1, 1, 1, 1, 1, 1, 1, 1, 2, 3, 2, 5, 7, 8])"
   ]
  },
  {
   "cell_type": "code",
   "execution_count": null,
   "id": "37addccc",
   "metadata": {
    "slideshow": {
     "slide_type": "skip"
    }
   },
   "outputs": [],
   "source": [
    "# Expecting: 5.\n",
    "one_streak([4, 1, 1, 1, 2, 3, 11, 1, 1, 1, 1, 1])"
   ]
  },
  {
   "cell_type": "code",
   "execution_count": null,
   "id": "a100b9d9",
   "metadata": {
    "slideshow": {
     "slide_type": "skip"
    }
   },
   "outputs": [],
   "source": [
    "# Expecting: 3.\n",
    "one_streak([5, 4, 1, 1, 1, 3, 2, 1, 2, 3])"
   ]
  },
  {
   "cell_type": "code",
   "execution_count": null,
   "id": "61ce92fb",
   "metadata": {
    "scrolled": true,
    "slideshow": {
     "slide_type": "skip"
    }
   },
   "outputs": [],
   "source": [
    "# Expecting: 1.\n",
    "one_streak([1, 2, 3, 4, 5])"
   ]
  },
  {
   "cell_type": "code",
   "execution_count": null,
   "id": "b2bd84bb",
   "metadata": {
    "slideshow": {
     "slide_type": "skip"
    }
   },
   "outputs": [],
   "source": [
    "# Expecting: 1.\n",
    "one_streak([0, 0, 0, 0, 1])"
   ]
  }
 ],
 "metadata": {
  "kernelspec": {
   "display_name": "Python 3 (ipykernel)",
   "language": "python",
   "name": "python3"
  },
  "language_info": {
   "codemirror_mode": {
    "name": "ipython",
    "version": 3
   },
   "file_extension": ".py",
   "mimetype": "text/x-python",
   "name": "python",
   "nbconvert_exporter": "python",
   "pygments_lexer": "ipython3",
   "version": "3.10.14"
  },
  "livereveal": {
   "scroll": true
  },
  "rise": {
   "transition": "none"
  }
 },
 "nbformat": 4,
 "nbformat_minor": 5
}
