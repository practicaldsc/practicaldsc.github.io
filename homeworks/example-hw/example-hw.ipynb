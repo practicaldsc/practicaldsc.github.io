{
 "cells": [
  {
   "cell_type": "markdown",
   "id": "ad4adf63",
   "metadata": {},
   "source": [
    "<div class=\"alert alert-success\" markdown=\"1\">\n",
    "\n",
    "#### Homework -1\n",
    "\n",
    "# Example Homework\n",
    "\n",
    "### EECS 398-003: Practical Data Science, Fall 2024\n",
    "\n",
    "#### **No Due Date**\n",
    "    \n",
    "</div>"
   ]
  },
  {
   "cell_type": "markdown",
   "id": "3dd54ad2",
   "metadata": {},
   "source": [
    "## Instructions\n",
    "\n",
    "Welcome!\n",
    "\n",
    "**This is not a real assignment**, and is not due. Instead, it exists just to make sure you're able to access and run Jupyter Notebooks locally, along with all of the packages necessary for this class. It also walks you through how your work is autograded, both locally in your notebook and on Gradescope.\n",
    "\n",
    "To access this notebook, you'll need to clone our [public GitHub repository](https://github.com/practicaldsc/fa24/). The [⚙️ Environment Setup](https://practicaldsc.org/env-setup) page on the course website walks you through the necessary steps."
   ]
  },
  {
   "cell_type": "markdown",
   "id": "649a3150",
   "metadata": {},
   "source": [
    "## Imports and Getting Started\n",
    "\n",
    "**To start, run the cell below**, either by clicking it and hitting `SHIFT + ENTER` on your keyboard or the Play ▶️ button in the toolbar at the top of the page.\n",
    "\n",
    "If it runs without an error, that's a great sign. All it's doing is importing several Python libraries and configuring our notebook so that it's ready to go for data analysis. If you'd like, you can open the file `lec_utils.py` – all of the code there is run when we run the cell below. \n",
    "\n",
    "(If it says \"Matplotlib is building the font cache; this may take a moment.\" don't worry.)"
   ]
  },
  {
   "cell_type": "code",
   "execution_count": null,
   "id": "a532796b",
   "metadata": {},
   "outputs": [],
   "source": [
    "from lec_utils import *"
   ]
  },
  {
   "cell_type": "markdown",
   "id": "783f8891",
   "metadata": {},
   "source": [
    "If everything was successful, you should see a `[1]` to the left of the cell above. This is telling us that the cell above is the first cell we've run so far. If you run the cell above again, the `[1]` will change to a `[2]`. Try it!"
   ]
  },
  {
   "cell_type": "markdown",
   "id": "ef4b8f6a",
   "metadata": {},
   "source": [
    "Now that all of our packages are loaded, we can use them!\n",
    "\n",
    "Run the cell below to load in a dataset containing the latitude and longitude of every state's capital."
   ]
  },
  {
   "cell_type": "code",
   "execution_count": null,
   "id": "5a3d0dd8",
   "metadata": {},
   "outputs": [],
   "source": [
    "capitals = pd.read_csv('data/us-state-capitals.csv')\n",
    "capitals.head()"
   ]
  },
  {
   "cell_type": "markdown",
   "id": "f7c9a569",
   "metadata": {},
   "source": [
    "If you see a table above with 5 rows and 4 columns, you're in good shape. The table above is called a DataFrame, which is `pandas`' name for tables. `pandas` is a popular Python library in the data science ecosystem for working with **tab**ular data (that is, data that looks like a **tab**le).\n",
    "\n",
    "Note that the bolded values at the far left – that is, **0**, **1**, **2**, ..., – are **not part of a column**! Instead, the bolded values at the far left form the **index** of the DataFrame. We'll hear more about these in lecture.\n",
    "\n",
    "Where's Michigan? Above, we ran `capitals.head()`, which is showing us just the head, or first 5 rows, of the DataFrame. We can find the row corresponding to Michigan by **querying** for it:"
   ]
  },
  {
   "cell_type": "code",
   "execution_count": null,
   "id": "e64bb649",
   "metadata": {},
   "outputs": [],
   "source": [
    "capitals[capitals['name'] == 'Michigan']"
   ]
  },
  {
   "cell_type": "markdown",
   "id": "c5998171",
   "metadata": {},
   "source": [
    "We can also do things like find the state whose capital is the furthest north:"
   ]
  },
  {
   "cell_type": "code",
   "execution_count": null,
   "id": "ee742983",
   "metadata": {},
   "outputs": [],
   "source": [
    "capitals.sort_values('latitude', ascending=False)['name'].iloc[0]"
   ]
  },
  {
   "cell_type": "markdown",
   "id": "2736c389",
   "metadata": {},
   "source": [
    "Or furthest east:"
   ]
  },
  {
   "cell_type": "code",
   "execution_count": null,
   "id": "73355dc5",
   "metadata": {},
   "outputs": [],
   "source": [
    "capitals.sort_values('longitude')['name'].iloc[-1]"
   ]
  },
  {
   "cell_type": "markdown",
   "id": "f1cf8034",
   "metadata": {},
   "source": [
    "We can also create powerful visualizations, like a map of the 50 states with a circle at each capital:"
   ]
  },
  {
   "cell_type": "code",
   "execution_count": null,
   "id": "f5546bae",
   "metadata": {},
   "outputs": [],
   "source": [
    "fig = px.scatter_geo(capitals, lat='latitude', lon='longitude', hover_name='description')\n",
    "fig.update_layout(geo_scope='usa', template='plotly', title='Locations of US State Capitals')"
   ]
  },
  {
   "cell_type": "markdown",
   "id": "d1be2ae0",
   "metadata": {},
   "source": [
    "Cool! Note that the map is interactive, meaning you can hover over each dot to see the name of the capital."
   ]
  },
  {
   "cell_type": "markdown",
   "id": "216ff34f",
   "metadata": {},
   "source": [
    "## The Autograder\n",
    "\n",
    "Like you may have seen in other programming classes, your work in this class will be autograded – that is, automatically graded by the computer. The Python module we'll be using for autograding is called [Otter Grader](https://otter-grader.readthedocs.io/en/latest/), and it was developed by Berkeley specifically for use in data science classes like ours.\n",
    "\n",
    "Run the cell below to import `otter` and initialize it for this notebook. In most homeworks, this cell will be the very first cell in your notebook."
   ]
  },
  {
   "cell_type": "code",
   "execution_count": null,
   "id": "055516e3",
   "metadata": {},
   "outputs": [],
   "source": [
    "import otter\n",
    "grader = otter.Notebook(\"example-hw.ipynb\")"
   ]
  },
  {
   "cell_type": "markdown",
   "id": "724ae927",
   "metadata": {},
   "source": [
    "Let's work through a few example questions to get a feel for how it works."
   ]
  },
  {
   "cell_type": "markdown",
   "id": "5d1009c0",
   "metadata": {},
   "source": [
    "### Question 1: Seconds in an Hour\n",
    "\n",
    "Below, you should see a question, a place to write your answer, and another cell containing `grader.check('q1')`. Running this last cell will check your answer to the question. If it's wrong, you'll see an error message. Try putting in a really small number, like 15, just to see what happens.\n",
    "\n",
    "Assign `seconds_in_an_hour` to the number of seconds in an hour."
   ]
  },
  {
   "cell_type": "code",
   "execution_count": null,
   "id": "a3bb1b74",
   "metadata": {
    "tags": []
   },
   "outputs": [],
   "source": [
    "seconds_in_an_hour = ...\n",
    "seconds_in_an_hour"
   ]
  },
  {
   "cell_type": "code",
   "execution_count": null,
   "id": "39864234",
   "metadata": {
    "deletable": false,
    "editable": false
   },
   "outputs": [],
   "source": [
    "grader.check(\"q1\")"
   ]
  },
  {
   "cell_type": "markdown",
   "id": "090fecfa",
   "metadata": {},
   "source": [
    "### Question 2: Furthest South Capital\n",
    "\n",
    "Unlike the question above, most questions we ask you will involve writing multiple lines of code. You're always free to define intermediate variables before the final answer, as long as your final answer is assigned to the correct variable name.\n",
    "\n",
    "Typically, the tests that you have access to in your notebook only verify that your answer is of the right data type and on the right track. These tests **will not** guarantee that your answer is correct. We will run hidden tests on your code once you submit to Gradescope. Here's an example of how that may work.\n",
    "\n",
    "Assign `state_capital_furthest_south` to the name of the state whose capital is furthest south. You **shouldn't** hard-code the answer – that is, don't type `'Texas'` if you think the answer is Texas – rather, you should use Python code to arrive at the answer. (Note that we already did something very similar right before we drew the map above – you can start with that code.) "
   ]
  },
  {
   "cell_type": "code",
   "execution_count": null,
   "id": "ca2062d3",
   "metadata": {
    "tags": []
   },
   "outputs": [],
   "source": [
    "state_capital_furthest_south = ...\n",
    "state_capital_furthest_south"
   ]
  },
  {
   "cell_type": "code",
   "execution_count": null,
   "id": "503015e0",
   "metadata": {
    "deletable": false,
    "editable": false
   },
   "outputs": [],
   "source": [
    "grader.check(\"q2\")"
   ]
  },
  {
   "cell_type": "markdown",
   "id": "4c132795",
   "metadata": {},
   "source": [
    "Notice above that no matter what state you give as your answer, `grader.check('q2')` tells you your answer passes all of the test cases. (Try putting `'Michigan'` as your answer and see what happens.) That's because we're only verifying that your answer is indeed a state, but not necessarily the correct state. When you submit this notebook to Gradescope, it'll verify that your answer is actually correct."
   ]
  },
  {
   "cell_type": "markdown",
   "id": "86101acf",
   "metadata": {},
   "source": [
    "### Question 3: First Letter\n",
    "\n",
    "Often, you'll be asked to define a function rather than a standalone variable. In such questions, our test cases will assess the behavior of your function on various inputs, including edge cases. Here's one such question.\n",
    "\n",
    "Complete the implementation of the function `starts_with`, which takes in `letter`, a string of length one, and returns a list containing the names of all the states whose first letter is `letter`, in any order. If there are no states that begin with `letter`, return the string `'No such states'`. Example behavior is shown below.\n",
    "\n",
    "```python\n",
    ">>> starts_with('P')\n",
    "['Pennsylvania']\n",
    "\n",
    ">>> starts_with('A')\n",
    "['Alabama', 'Alaska', 'Arizona', 'Arkansas']\n",
    "\n",
    ">>> starts_with('X')\n",
    "'No such states'\n",
    "```\n",
    "\n",
    "Note that you're not supposed to already know how to do this! Try if you'd like, and if you get stuck, click the box below to see the answer. You're welcome to create additional cells above the one below to experiment with code on the way to writing your solution.\n",
    "\n",
    "<details>\n",
    "    <summary><b><span style=\"background-color: #FFCB05; color: #00274C\">Click me</span> to see the solution, which you can copy-paste into the function definition below.</summary>\n",
    "\n",
    "```python\n",
    "    names = capitals['name']\n",
    "    names_starting = list(names[names.str[0] == letter])\n",
    "    if len(names_starting) == 0:\n",
    "        print('No such states')\n",
    "    return names_starting\n",
    "```\n",
    "\n",
    "</details>"
   ]
  },
  {
   "cell_type": "code",
   "execution_count": null,
   "id": "db38e6f4",
   "metadata": {
    "tags": []
   },
   "outputs": [],
   "source": [
    "def starts_with(letter):\n",
    "    ..."
   ]
  },
  {
   "cell_type": "code",
   "execution_count": null,
   "id": "318cfa5f",
   "metadata": {
    "deletable": false,
    "editable": false
   },
   "outputs": [],
   "source": [
    "grader.check(\"q3\")"
   ]
  },
  {
   "cell_type": "markdown",
   "id": "974cc773",
   "metadata": {},
   "source": [
    "## Finish Line 🏁\n",
    "\n",
    "Congratulations! You're ready to submit the Example Homework. Again, this isn't required, but it's a good idea to walk through this before Homework 1 rolls around."
   ]
  },
  {
   "cell_type": "markdown",
   "id": "07744a81",
   "metadata": {},
   "source": [
    "To submit your homework:\n",
    "\n",
    "1. Select `Kernel -> Restart & Run All` to ensure that you have executed all cells, including the test cells.\n",
    "2. Read through the notebook to make sure everything is fine and all tests passed.\n",
    "3. Run the cell below to run all tests, and make sure that they all pass.\n",
    "4. Download your notebook using `File -> Download as -> Notebook (.ipynb)`, then upload your notebook to Gradescope under \"Example Homework (Not Due)\".\n",
    "5. Stick around while the Gradescope autograder grades your work. Make sure you see that all **public tests** have passed on Gradescope. **Remember that homeworks have hidden tests, which you will not see your scores on until a few days after the deadline!**\n",
    "6. Check that you have a confirmation email from Gradescope and save it as proof of your submission."
   ]
  },
  {
   "cell_type": "markdown",
   "id": "58bf89ab",
   "metadata": {
    "deletable": false,
    "editable": false
   },
   "source": [
    "---\n",
    "\n",
    "To double-check your work, the cell below will rerun all of the autograder tests."
   ]
  },
  {
   "cell_type": "code",
   "execution_count": null,
   "id": "e2ed1281",
   "metadata": {
    "deletable": false,
    "editable": false
   },
   "outputs": [],
   "source": [
    "grader.check_all()"
   ]
  }
 ],
 "metadata": {
  "kernelspec": {
   "display_name": "Python 3 (ipykernel)",
   "language": "python",
   "name": "python3"
  },
  "language_info": {
   "codemirror_mode": {
    "name": "ipython",
    "version": 3
   },
   "file_extension": ".py",
   "mimetype": "text/x-python",
   "name": "python",
   "nbconvert_exporter": "python",
   "pygments_lexer": "ipython3",
   "version": "3.10.14"
  },
  "otter": {
   "tests": {
    "q1": {
     "name": "q1",
     "points": null,
     "suites": [
      {
       "cases": [
        {
         "code": ">>> isinstance(seconds_in_an_hour, int)\nTrue",
         "hidden": false,
         "locked": false,
         "points": 0.5
        },
        {
         "code": ">>> seconds_in_an_hour > 3000\nTrue",
         "failure_message": "Your answer is too small!",
         "hidden": false,
         "locked": false,
         "points": 0.5
        },
        {
         "code": ">>> seconds_in_an_hour == 3600\nTrue",
         "hidden": false,
         "locked": false,
         "points": 1,
         "success_message": "Nice job!"
        }
       ],
       "scored": true,
       "setup": "",
       "teardown": "",
       "type": "doctest"
      }
     ]
    },
    "q2": {
     "name": "q2",
     "points": null,
     "suites": [
      {
       "cases": [
        {
         "code": ">>> isinstance(state_capital_furthest_south, str)\nTrue",
         "hidden": false,
         "locked": false,
         "points": 0.5
        },
        {
         "code": ">>> state_capital_furthest_south in set(capitals['name'])\nTrue",
         "hidden": false,
         "locked": false,
         "points": 0.5
        }
       ],
       "scored": true,
       "setup": "",
       "teardown": "",
       "type": "doctest"
      }
     ]
    },
    "q3": {
     "name": "q3",
     "points": null,
     "suites": [
      {
       "cases": [
        {
         "code": ">>> callable(starts_with)\nTrue",
         "hidden": false,
         "locked": false,
         "points": 0.5
        },
        {
         "code": ">>> isinstance(starts_with('A'), list)\nTrue",
         "hidden": false,
         "locked": false,
         "points": 0.5
        },
        {
         "code": ">>> set(starts_with('A')) == {'Alabama', 'Alaska', 'Arizona', 'Arkansas'}\nTrue",
         "hidden": false,
         "locked": false,
         "points": 1
        }
       ],
       "scored": true,
       "setup": "",
       "teardown": "",
       "type": "doctest"
      }
     ]
    }
   }
  }
 },
 "nbformat": 4,
 "nbformat_minor": 5
}
