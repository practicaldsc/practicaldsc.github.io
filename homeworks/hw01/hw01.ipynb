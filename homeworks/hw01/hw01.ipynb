{
 "cells": [
  {
   "cell_type": "code",
   "execution_count": null,
   "id": "3b25ccdc",
   "metadata": {
    "deletable": false,
    "editable": false
   },
   "outputs": [],
   "source": [
    "# Initialize Otter\n",
    "import otter\n",
    "grader = otter.Notebook(\"hw01.ipynb\")"
   ]
  },
  {
   "cell_type": "markdown",
   "id": "98da9e32",
   "metadata": {},
   "source": [
    "<div class=\"alert alert-success\" markdown=\"1\">\n",
    "\n",
    "#### Homework 1\n",
    "\n",
    "# Python Fundamentals\n",
    "\n",
    "### EECS 398-003: Practical Data Science, Fall 2024\n",
    "\n",
    "#### Due Thursday, September 5th at 11:59PM\n",
    "    \n",
    "</div>"
   ]
  },
  {
   "attachments": {},
   "cell_type": "markdown",
   "id": "c6d382c9",
   "metadata": {},
   "source": [
    "## Instructions\n",
    "\n",
    "Welcome to Homework 1! In this homework, you will practice with core features of the Python language, including defining functions, writing conditional statements and loops, and working with lists and strings. You'll also gain experience in reading documentation to figure out how to work with unfamiliar libraries. See the [Readings section of the Resources tab on the course website](https://practicaldsc.org/resources/#readings) for supplemental resources.\n",
    "\n",
    "You are given six slip days throughout the semester to extend deadlines. See the [Syllabus](https://practicaldsc.org/syllabus) for more details. With the exception of using slip days, late work will not be accepted unless you have made special arrangements with your instructor.\n",
    "\n",
    "To access this notebook, you'll need to clone our [public GitHub repository](https://github.com/practicaldsc/fa24/). The [⚙️ Environment Setup](https://practicaldsc.org/env-setup) page on the course website walks you through the necessary steps. Once you're done, you'll submit your completed notebook to Gradescope.\n",
    "\n",
    "Please start early and submit often. You can submit as many times as you'd like to Gradescope, and we'll take your **most recent** submission. Remember that the public `grader.check` tests in your notebook are not comprehensive, and that your work will also be graded on hidden test cases on Gradescope after the submission deadline.\n",
    "\n",
    "This homework is worth a total of **40 points**. The number of points each question is worth is listed at the start of each question. **The four parts of the assignment are independent**; with the exception of Part 1, in which the questions build off one another, you can complete the questions in any order. Tip: if you're using Jupyter Lab, you can see a Table of Contents for the notebook by going to View > Table of Contents.\n",
    "\n",
    "To get started, run the import cell below."
   ]
  },
  {
   "cell_type": "code",
   "execution_count": null,
   "id": "645a8703",
   "metadata": {},
   "outputs": [],
   "source": [
    "import numpy as np\n",
    "from IPython.display import HTML, YouTubeVideo, clear_output\n",
    "from ipywidgets import interact"
   ]
  },
  {
   "cell_type": "markdown",
   "id": "0be408e2",
   "metadata": {},
   "source": [
    "## Part 1: Death and Taxes 💰💸\n",
    "\n",
    "---\n",
    "\n",
    "The United States, like many countries, uses a progressive tax bracket system. This means that as your earnings increase, the percentage of your earnings you owe in tax also increases. In addition, the US tax system uses marginal tax brackets – what this means is that US taxpayers pay different tax percentages on different \"chunks\" of their earnings.\n",
    "\n",
    "Let's suppose the tax brackets for the 2024 tax year for single filers are defined by the table below. These are close to the actual brackets, but for simplicity's sake we'll use 5 brackets instead of 7. \n",
    "\n",
    "| Tax Bracket | Taxable Income |\n",
    "| --- | --- |\n",
    "| 10% | [$0, \\\\$11,000] |\n",
    "| 12% | (\\\\$11,000, \\\\$44,725] |\n",
    "| 22% | (\\\\$44,725, \\\\$95,375] |\n",
    "| 24% | (\\\\$95,375, \\\\$182,100] |\n",
    "| 32% | Over \\\\$182,100 |\n",
    "\n",
    "**You will need to use these numbers throughout Questions 1-3.**\n",
    "\n",
    "A few notes:\n",
    "- The notation $(a, b]$ means \"greater than $a$ and less than or equal to $b$\". For example, someone with a taxable income of \\\\$44,725 is in the 12% bracket, but someone with a taxable income of \\\\$44,725.01 is in the 22% bracket. For simplicity, we will only test your code on integer values of taxable income.\n",
    "- \"Taxable income\" refers to the part of one's income that is taxable; in the US there is what's known as a \"standard deduction\" which can be thought of as a discount on your taxes. Here, we won't worry about deductions.\n",
    "\n",
    "If someone has a taxable income of \\\\$75,000, we say they are in the 22% tax bracket. However, such an individual doesn't owe 22% of \\\\$75,000 in taxes. Instead, they owe:\n",
    "- 10% of \\\\$11,000, **plus**\n",
    "- 12% of \\\\$33,725 (which is \\\\$44,725 - \\\\$11,000), **plus**\n",
    "- 22% of \\\\$30,275 (which is \\\\$75,000 - \\\\$44,725).\n",
    "\n",
    "More concretely, their tax owed is:\n",
    "$$0.1 \\cdot \\$11{,}000 + 0.12 \\cdot \\$33{,}725 + 0.22 \\cdot \\$30{,}275 = \\$11{,}807.50.$$ \n",
    "\n",
    "This makes their **effective tax rate**:\n",
    "$$\\frac{\\$11{,}807.50}{\\$75{,}000} = 0.15743,$$\n",
    "or 15.743\\%, because they wound up having to pay 15.743\\% of their taxable income in taxes. We will give effective tax rates as percentages, rounded to three decimal places.\n",
    "\n",
    "If you want to read more about the US federal income tax system, click [here](https://www.taxpolicycenter.org/briefing-book/how-do-federal-income-tax-rates-work)."
   ]
  },
  {
   "cell_type": "markdown",
   "id": "9bc70564",
   "metadata": {},
   "source": [
    "### Question 1: Tax Brackets <div style=\"display:inline-block; vertical-align: middle; padding:7px 7px; font-size:10px; font-weight:light; color:white; background-color:#e84c4a; border-radius:7px; text-align:left;\">3 Points</div>\n",
    "\n",
    "Complete the implementation of the function `tax_bracket`, which takes in a taxable income, `income`, and returns the tax bracket it is in, as a **proportion**. Assume that `income` is a non-negative integer. Example behavior is given below.\n",
    "\n",
    "```python\n",
    ">>> tax_bracket(75000)\n",
    "0.22\n",
    "\n",
    ">>> tax_bracket(402150)\n",
    "0.32\n",
    "```\n",
    "\n",
    "For your convenience, the tax bracket table is shown again below.\n",
    "\n",
    "| Tax Bracket | Taxable Income |\n",
    "| --- | --- |\n",
    "| 10% | [$0, \\\\$11,000] |\n",
    "| 12% | (\\\\$11,000, \\\\$44,725] |\n",
    "| 22% | (\\\\$44,725, \\\\$95,375] |\n",
    "| 24% | (\\\\$95,375, \\\\$182,100] |\n",
    "| 32% | Over \\\\$182,100 |"
   ]
  },
  {
   "cell_type": "code",
   "execution_count": null,
   "id": "1eaf1d37",
   "metadata": {
    "tags": []
   },
   "outputs": [],
   "source": [
    "def tax_bracket(income):\n",
    "    ...\n",
    "\n",
    "# Feel free to change this input to make sure your function works correctly.\n",
    "tax_bracket(75000)"
   ]
  },
  {
   "cell_type": "code",
   "execution_count": null,
   "id": "50d8e525",
   "metadata": {
    "deletable": false,
    "editable": false
   },
   "outputs": [],
   "source": [
    "grader.check(\"q1\")"
   ]
  },
  {
   "cell_type": "markdown",
   "id": "dd8a3eb9",
   "metadata": {},
   "source": [
    "### Question 2: Tax Owed <div style=\"display:inline-block; vertical-align: middle; padding:7px 7px; font-size:10px; font-weight:light; color:white; background-color:#e84c4a; border-radius:7px; text-align:left;\">6 Points</div>\n",
    "\n",
    "Complete the implementation of the function `tax_owed`, which takes in a taxable income, `income`, and returns the amount of tax owed by an individual with that taxable income. Assume that `income` is a non-negative integer. Example behavior is given below.\n",
    "\n",
    "```python\n",
    ">>> tax_owed(75000)\n",
    "11807.5\n",
    "```\n",
    "\n",
    "For your convenience, the tax bracket table is shown again below.\n",
    "\n",
    "| Tax Bracket | Taxable Income |\n",
    "| --- | --- |\n",
    "| 10% | [$0, \\\\$11,000] |\n",
    "| 12% | (\\\\$11,000, \\\\$44,725] |\n",
    "| 22% | (\\\\$44,725, \\\\$95,375] |\n",
    "| 24% | (\\\\$95,375, \\\\$182,100] |\n",
    "| 32% | Over \\\\$182,100 |\n",
    "\n",
    "Below are some suggested steps to break down this problem into manageable chunks.\n",
    "1. Make sure you understand the example calculating the tax owed on \\\\$75,000 of taxable income. \n",
    "2. Once you're sure you understand the given example calculation, then calculate the tax owed for a different taxable income, say \\\\$152,000, by hand. \n",
    "3. In a blank cell in your notebook, write Python code to compute the tax owed for \\\\$152,000 in taxable income and verify you get the same answer as when you did it by hand. \n",
    "4. Once you have that working, write the more general function and test it on a variety of inputs."
   ]
  },
  {
   "cell_type": "code",
   "execution_count": null,
   "id": "020d6a7c",
   "metadata": {
    "tags": []
   },
   "outputs": [],
   "source": [
    "def tax_owed(income):\n",
    "    ...\n",
    "\n",
    "# Feel free to change this input to make sure your function works correctly.\n",
    "tax_owed(75000)"
   ]
  },
  {
   "cell_type": "code",
   "execution_count": null,
   "id": "a30f7d62",
   "metadata": {
    "deletable": false,
    "editable": false
   },
   "outputs": [],
   "source": [
    "grader.check(\"q2\")"
   ]
  },
  {
   "cell_type": "markdown",
   "id": "69996100",
   "metadata": {},
   "source": [
    "### Question 3: Effective Tax Rate <div style=\"display:inline-block; vertical-align: middle; padding:7px 7px; font-size:10px; font-weight:light; color:white; background-color:#e84c4a; border-radius:7px; text-align:left;\">2 Points</div>\n",
    "\n",
    "Finally, complete the implementation of `effective_tax_rate`, which takes in a taxable income, `income`, and returns the effective tax rate for an individual with that taxable income, as a **percentage** rounded to three decimal places. Here, `income` is still an integer, but don't assume that `income` is non-negative; if it is less than or equal to 0, return `0`. Example behavior is given below.\n",
    "\n",
    "```python\n",
    ">>> effective_tax_rate(75000)\n",
    "15.743\n",
    "\n",
    "# If income is <= 0, return 0.\n",
    ">>> effective_tax_rate(-15)\n",
    "0\n",
    "```"
   ]
  },
  {
   "cell_type": "code",
   "execution_count": null,
   "id": "81d99da9",
   "metadata": {
    "tags": []
   },
   "outputs": [],
   "source": [
    "def effective_tax_rate(income):\n",
    "    ..."
   ]
  },
  {
   "cell_type": "code",
   "execution_count": null,
   "id": "bb6045e6",
   "metadata": {
    "deletable": false,
    "editable": false
   },
   "outputs": [],
   "source": [
    "grader.check(\"q3\")"
   ]
  },
  {
   "cell_type": "markdown",
   "id": "e73dd037",
   "metadata": {},
   "source": [
    "### Fun Demo\n",
    "\n",
    "You just did all of the math necessary to build an income tax calculator, like the ones you see on many financial websites. Run the following cell once you've completed the rest of this question!"
   ]
  },
  {
   "cell_type": "code",
   "execution_count": null,
   "id": "0ddde226",
   "metadata": {},
   "outputs": [],
   "source": [
    "# Don't worry about the code, just play with the slider that appears after running.\n",
    "def plot_income_calculator(income):\n",
    "    s = f'''\n",
    "    <h1>EECS 398-003 Tax Calculator 💰💸</h1>\n",
    "    <h3>{'${:,.2f}'.format(income)}</h3>\n",
    "    Taxable Income\n",
    "    \n",
    "    <h2>{'${:,.2f}'.format(tax_owed(income))}</h2>\n",
    "    Tax Owed\n",
    "    \n",
    "    <h3>{'{:,.1f}'.format((effective_tax_rate(income))) + '%'}</h3>\n",
    "    Effective Tax Rate\n",
    "    \n",
    "    '''\n",
    "    display(HTML(s))\n",
    "    \n",
    "interact(plot_income_calculator, income=(0, 200000, 1000));"
   ]
  },
  {
   "cell_type": "markdown",
   "id": "2c7c816b",
   "metadata": {},
   "source": [
    "<br>\n",
    "\n",
    "## Part 2: Fun with Loops 🔁\n",
    "\n",
    "---\n",
    "\n",
    "In this part, you'll work through a few separate questions that involve writing loops in Python."
   ]
  },
  {
   "cell_type": "markdown",
   "id": "a4f7aa29",
   "metadata": {},
   "source": [
    "### Question 4: Collatz Conjecture <div style=\"display:inline-block; vertical-align: middle; padding:7px 7px; font-size:10px; font-weight:light; color:white; background-color:#e84c4a; border-radius:7px; text-align:left;\">5 Points</div>\n",
    "\n",
    "Before we get started, observe the behavior in the cell below:"
   ]
  },
  {
   "cell_type": "code",
   "execution_count": null,
   "id": "0fd0f6c1",
   "metadata": {},
   "outputs": [],
   "source": [
    "def my_function(stuff):\n",
    "    print(stuff + 2)\n",
    "    print('hey' * stuff)\n",
    "    return (stuff + 0.1) ** 2\n",
    "\n",
    "my_function(6)"
   ]
  },
  {
   "cell_type": "markdown",
   "id": "707f31db",
   "metadata": {},
   "source": [
    "- The values `8` and `'heyheyheyheyheyhey'`are **printed**, because we used the `print` function to display them within the body of `my_function`. No numbers appear in square brackets to the left of these values.\n",
    "- The value `37.2099999999` is displayed, even though we didn't explicitly ask for it to be displayed. That's because it's the value of the last expression in the cell, i.e. it is what the function `my_function` returned when called on the input `6`. Note a value in square brackets to the left of it, e.g. `[55]`.\n",
    "\n",
    "Keep this in mind as you work through this question, as you'll have to `print` some values and `return` other values in the function you define."
   ]
  },
  {
   "cell_type": "markdown",
   "id": "3e97f343",
   "metadata": {},
   "source": [
    "Now, run the following cell and watch the video that pops up. It's short."
   ]
  },
  {
   "cell_type": "code",
   "execution_count": null,
   "id": "cf22ab3b",
   "metadata": {},
   "outputs": [],
   "source": [
    "YouTubeVideo('m4CjXk_b8zo', width=600, height=300)"
   ]
  },
  {
   "cell_type": "markdown",
   "id": "69fbd375",
   "metadata": {},
   "source": [
    "The video above describes the [Collatz conjecture](https://en.wikipedia.org/wiki/Collatz_conjecture), which says the following:\n",
    "\n",
    "1. Pick a positive integer `n` as the start.\n",
    "2. If `n` is even, divide it by 2.\n",
    "3. If `n` is odd, multiply it by 3 and add 1.\n",
    "4. Continue this process until `n` is 1.\n",
    "\n",
    "The number `n` will travel up and down but eventually end at 1 (at least for all numbers that have ever been tried – nobody has ever proved that the sequence will terminate). Analogously, a hailstone travels up and down in the atmosphere before eventually landing on earth, which is why this sequence is sometimes called the **hailstone sequence**.\n",
    "\n",
    "For instance, if we start with $n = 10$:\n",
    "\n",
    "$$10 \\rightarrow 5 \\rightarrow 16 \\rightarrow 8 \\rightarrow 4 \\rightarrow 2 \\rightarrow 1$$\n",
    "\n",
    "So, **for $n = 10$, we'd say the hailstone sequence is of length 7.**\n",
    "\n",
    "Complete the implementation of the function `hailstone`, which takes in a positive integer `n`, **prints** out the hailstone sequence starting at `n` (including `n` and `1`), and **returns** the **length** of the sequence. Example behavior is given below.\n",
    "\n",
    "```python\n",
    "In  [5]: hailstone(10)\n",
    "         10\n",
    "         5\n",
    "         16\n",
    "         8\n",
    "         4\n",
    "         2\n",
    "         1\n",
    "Out [5]: 7\n",
    "```\n",
    "\n",
    "Note that the `[5]` above is arbitrary; what's meant to be highlighted is the fact that the numbers 10, 5, 16, ..., 1 are being printed, but the value of `hailstone(10)` is `7`.\n",
    "\n",
    "***Hint***: You'll need to write the kind of loop that we **didn't** write in [Lecture 2](https://practicaldsc.org/resources/lectures/lec02/lec02.html). It's a good idea to write out the hailstone sequence for an arbitrary number by hand on paper to make sure you understand how it works."
   ]
  },
  {
   "cell_type": "code",
   "execution_count": null,
   "id": "1a490d64",
   "metadata": {
    "tags": []
   },
   "outputs": [],
   "source": [
    "def hailstone(n):\n",
    "    # Tip: You can make cells above this one to experiment!\n",
    "    ...\n",
    "\n",
    "# Feel free to change this input to make sure your function works correctly.\n",
    "hailstone(10)"
   ]
  },
  {
   "cell_type": "code",
   "execution_count": null,
   "id": "aacf1dc5",
   "metadata": {
    "deletable": false,
    "editable": false
   },
   "outputs": [],
   "source": [
    "grader.check(\"q4\")"
   ]
  },
  {
   "cell_type": "markdown",
   "id": "9f75afef",
   "metadata": {},
   "source": [
    "### Question 5: Alternating Sign Mean <div style=\"display:inline-block; vertical-align: middle; padding:7px 7px; font-size:10px; font-weight:light; color:white; background-color:#e84c4a; border-radius:7px; text-align:left;\">4 Points</div>\n",
    "\n",
    "In math, the word \"alternating\" is sometimes used to indicate that the signs of the elements of a sequence oscillate, or \"bounce\", back and forth between positive and negative.\n",
    "\n",
    "Complete the implementation of the function `alternating_sign_mean`, which takes in a list of positive numbers, `values`, and computes the mean of **_every_ element** in the original list with **alternating signs**, starting with a positive sign for the element at position 0, a negative sign for the element at position 1, and so on. Example behavior is shown below.\n",
    "\n",
    "```python\n",
    ">>> alternating_sign_mean([3, 2, 9.5])\n",
    "3.5 # Comes from (3 + (-2) + 9.5) / 3.\n",
    "\n",
    ">>> alternating_sign_mean([3, 2.5, 7, 6.5])\n",
    "0.25 # Comes from (3 + (-2.5) + 7 + (-6.5)) / 4.\n",
    "```\n",
    "\n",
    "Note that you **should not** use any additional packages (e.g. `math`, `numpy`) in your solution – everything should be done using base Python."
   ]
  },
  {
   "cell_type": "code",
   "execution_count": null,
   "id": "aee483f6",
   "metadata": {
    "tags": []
   },
   "outputs": [],
   "source": [
    "def alternating_sign_mean(values):\n",
    "    ...\n",
    "    \n",
    "# Feel free to change this input to make sure your function works correctly.\n",
    "alternating_sign_mean([3, 2, 9.5])"
   ]
  },
  {
   "cell_type": "code",
   "execution_count": null,
   "id": "b85288ff",
   "metadata": {
    "deletable": false,
    "editable": false
   },
   "outputs": [],
   "source": [
    "grader.check(\"q5\")"
   ]
  },
  {
   "cell_type": "markdown",
   "id": "4e24e3b3",
   "metadata": {},
   "source": [
    "### Question 6: Big Tippers <div style=\"display:inline-block; vertical-align: middle; padding:7px 7px; font-size:10px; font-weight:light; color:white; background-color:#e84c4a; border-radius:7px; text-align:left;\">5 Points</div>\n",
    "\n",
    "Suppose we are waiters at a restaurant, and we keep track of the tips that we receive in a given night. Specifically, we store in a list the first names of our customers along with the tip that they gave, like so:\n",
    "\n",
    "```python\n",
    "[name_1, tip_1, name_2, tip_2, name_3, tip_3, ...]\n",
    "```\n",
    "\n",
    "Names are strings, while tips are non-negative numbers, either `int` or `float`.\n",
    "\n",
    "Complete the implementation of the function `big_tippers`, which takes in a list `tips` as described above and returns only the names of the customers who tipped **strictly more** than the average tip. Example behavior is given below.\n",
    "\n",
    "```python\n",
    ">>> tips = ['yutong', 15, 'kyle', 9, 'pranavi', 19]\n",
    ">>> big_tippers(tips)\n",
    "['yutong', 'pranavi']\n",
    "```\n",
    "\n",
    "In the example above, the average tip is $\\frac{15 + 9 + 19}{3} = 14.33$, and both `'yutong'` and `'pranavi'` tipped more than that, so your function should return `['yutong', 'pranavi']`.\n",
    "\n",
    "You may assume that `tips` is well-formed, i.e. has an even, positive number of entries, in the correct order.\n",
    "\n",
    "Note that you **should not** use any additional packages (e.g. `math`, `numpy`) in your solution – everything should be done using base Python."
   ]
  },
  {
   "cell_type": "code",
   "execution_count": null,
   "id": "3b0d2de5",
   "metadata": {
    "tags": []
   },
   "outputs": [],
   "source": [
    "def big_tippers(tips):\n",
    "    ...\n",
    "\n",
    "# Feel free to change this input to make sure your function works correctly.\n",
    "big_tippers(['yutong', 15, 'kyle', 9, 'pranavi', 19])"
   ]
  },
  {
   "cell_type": "code",
   "execution_count": null,
   "id": "e2f7b72f",
   "metadata": {
    "deletable": false,
    "editable": false
   },
   "outputs": [],
   "source": [
    "grader.check(\"q6\")"
   ]
  },
  {
   "cell_type": "markdown",
   "id": "0a685a46",
   "metadata": {
    "slideshow": {
     "slide_type": "slide"
    }
   },
   "source": [
    "## Part 3: String Theory 🧵\n",
    "\n",
    "---\n",
    "\n",
    "In this part, you'll practice working with strings in Python. It's a good idea to review the [Strings section of Lecture 2](https://practicaldsc.org/resources/lectures/lec02/lec02.html#Strings) before proceeding."
   ]
  },
  {
   "cell_type": "markdown",
   "id": "e1635f8f",
   "metadata": {},
   "source": [
    "### Question 7: Running, Eating, and Living <div style=\"display:inline-block; vertical-align: middle; padding:7px 7px; font-size:10px; font-weight:light; color:white; background-color:#e84c4a; border-radius:7px; text-align:left;\">2 Points</div>\n",
    "\n",
    "Complete the implementation of the function `is_ing`, which takes in a string `s` and returns `True` if `s` ends in \"ing\" and `False` otherwise. Example behavior is given below.\n",
    "\n",
    "```python\n",
    ">>> is_ing('running')\n",
    "True\n",
    "\n",
    "# Not case sensitive!\n",
    ">>> is_ing('eatInG')\n",
    "True\n",
    "\n",
    ">>> is_ing('science')\n",
    "False\n",
    "\n",
    ">>> is_ing('25')\n",
    "False\n",
    "```"
   ]
  },
  {
   "cell_type": "code",
   "execution_count": null,
   "id": "931151f7",
   "metadata": {
    "tags": []
   },
   "outputs": [],
   "source": [
    "def is_ing(s):\n",
    "    ...\n",
    "\n",
    "# Feel free to change this input to make sure your function works correctly.\n",
    "is_ing('running')"
   ]
  },
  {
   "cell_type": "code",
   "execution_count": null,
   "id": "219f7313",
   "metadata": {
    "deletable": false,
    "editable": false
   },
   "outputs": [],
   "source": [
    "grader.check(\"q7\")"
   ]
  },
  {
   "cell_type": "markdown",
   "id": "9c0baed2",
   "metadata": {},
   "source": [
    "### Question 8: Pump the Brakes <div style=\"display:inline-block; vertical-align: middle; padding:7px 7px; font-size:10px; font-weight:light; color:white; background-color:#e84c4a; border-radius:7px; text-align:left;\">3 Points</div>\n",
    "\n",
    "Complete the implementation of the function `pump`, which takes in a string `base` and integer `rep` and returns a string with the same first and last characters as `base`, and with everything except the first and last characters in `base` repeated `rep` times. Example behavior is given below.\n",
    "\n",
    "```python\n",
    ">>> pump('zebra', 4)\n",
    "'zebrebrebrebra'\n",
    "\n",
    "# If base is <= 2 characters long, return base.\n",
    ">>> pump('hi', 2)\n",
    "'hi'\n",
    "```"
   ]
  },
  {
   "cell_type": "code",
   "execution_count": null,
   "id": "d502f6a5",
   "metadata": {
    "tags": []
   },
   "outputs": [],
   "source": [
    "def pump(base, rep):\n",
    "    ...\n",
    "\n",
    "# Feel free to change this input to make sure your function works correctly.\n",
    "pump('zebra', 4)"
   ]
  },
  {
   "cell_type": "code",
   "execution_count": null,
   "id": "d98725b8",
   "metadata": {
    "deletable": false,
    "editable": false
   },
   "outputs": [],
   "source": [
    "grader.check(\"q8\")"
   ]
  },
  {
   "cell_type": "markdown",
   "id": "e9b35018",
   "metadata": {},
   "source": [
    "### Question 9: $n$ Prefixes <div style=\"display:inline-block; vertical-align: middle; padding:7px 7px; font-size:10px; font-weight:light; color:white; background-color:#e84c4a; border-radius:7px; text-align:left;\">4 Points</div>\n",
    "\n",
    "Complete the implementation of the function `n_prefixes`, which takes in a string `s` and a positive integer `n`, and returns a string containing the first `n` consecutive prefixes of `s` in reverse order. Example behavior is given below.\n",
    "\n",
    "```python\n",
    ">>> n_prefixes('Billy!', 4)\n",
    "'BillBilBiB'\n",
    "\n",
    ">>> n_prefixes('Michigan', 3)\n",
    "'MicMiM'\n",
    "```\n",
    "\n",
    "Let's take a closer look at the first example above. The consecutive prefixes of `'Billy!'` are:\n",
    "- `'B'`\n",
    "- `'Bi'`\n",
    "- `'Bil'`\n",
    "- `'Bill'`\n",
    "- `'Billy'`\n",
    "- `'Billy!'`\n",
    "\n",
    "The first 4 of these are `'B'`, `'Bi'`, `'Bil'`, and `'Bill'`. If we combine these 4 in reverse order, we get `'BillBilBiB'`, which is what `n_prefixes('Billy!', 4)` should return.\n",
    "\n",
    "You may assume that `n <= len(s)`."
   ]
  },
  {
   "cell_type": "code",
   "execution_count": null,
   "id": "8aaa436b",
   "metadata": {
    "tags": [
     "to-py"
    ]
   },
   "outputs": [],
   "source": [
    "def n_prefixes(s, n):\n",
    "    ...\n",
    "\n",
    "# Feel free to change this input to make sure your function works correctly.\n",
    "n_prefixes('Billy!', 4)"
   ]
  },
  {
   "cell_type": "code",
   "execution_count": null,
   "id": "c3329505",
   "metadata": {
    "deletable": false,
    "editable": false
   },
   "outputs": [],
   "source": [
    "grader.check(\"q9\")"
   ]
  },
  {
   "cell_type": "markdown",
   "id": "652f49bb",
   "metadata": {},
   "source": [
    "## Part 4: Plotly 📈\n",
    "\n",
    "---"
   ]
  },
  {
   "cell_type": "markdown",
   "id": "683cfda2",
   "metadata": {},
   "source": [
    "As a data scientist, you're often going to have to work with unfamiliar libraries. In this final part of the homework, you're going to familiarize yourself with `plotly`, a library for making interactive visualizations in Python. `plotly` is the library we used to make the bar charts and line charts in [Lecture 1](https://practicaldsc.org/resources/lectures/lec01/lec01.html). We'll gain more exposure to using `plotly` for data analysis specifically in lecture and future homeworks, but in this question, you'll learn how to use it for a different (but related) purpose: graphing functions. We'll use it as an opportunity to review key concepts from calculus, too.\n",
    "\n",
    "Run the cell below to load in the necessary `plotly` modules (there are a few)."
   ]
  },
  {
   "cell_type": "code",
   "execution_count": null,
   "id": "fd76b598",
   "metadata": {},
   "outputs": [],
   "source": [
    "import plotly.express as px\n",
    "import plotly.graph_objects as go"
   ]
  },
  {
   "cell_type": "markdown",
   "id": "5e8b755a",
   "metadata": {},
   "source": [
    "First, let's walk through an example. Consider the function $f(x)$:\n",
    "\n",
    "$$f(x) = x^2 - 12x + 3$$\n",
    "\n",
    "$f$ is a degree-2 polynomial, and has the shape of a parabola. To plot a graph of $f$, we could use the following code:"
   ]
  },
  {
   "cell_type": "code",
   "execution_count": null,
   "id": "630c334d",
   "metadata": {},
   "outputs": [],
   "source": [
    "def f(x):\n",
    "    return x**2 - 12 * x + 3\n",
    "\n",
    "xs = np.linspace(-10, 30)\n",
    "ys = f(xs)\n",
    "\n",
    "fig = px.line(x=xs, y=ys, width=600, template='simple_white')\n",
    "fig.add_trace(go.Scatter(x=[20], y=[163], mode='markers', marker=dict(color='red'), name='Random Point'))"
   ]
  },
  {
   "cell_type": "markdown",
   "id": "089b4fa7",
   "metadata": {},
   "source": [
    "There are many ways you can customize a `plotly` graph. Some features are customized by setting various [keyword arguments](https://www.w3schools.com/python/gloss_python_function_keyword_arguments.asp) in the `px.<plot type>` function when you call it, and others are customized by using `fig.add_trace`, `fig.update_traces`, or `fig.update_layout` on the resulting `fig` object afterwards. Here, we used `fig.add_trace` to add a particular point to the plot.\n",
    "\n",
    "Remember that in a Jupyter Notebook, you can view the documentation (including the possible arguments) for a function inline. To see the documentation, run `function?`, where function is the name of the function."
   ]
  },
  {
   "cell_type": "code",
   "execution_count": null,
   "id": "23ea2295",
   "metadata": {},
   "outputs": [],
   "source": [
    "px.line?"
   ]
  },
  {
   "cell_type": "markdown",
   "id": "c1226f07",
   "metadata": {},
   "source": [
    "To see possible functions in a module, you can use tab to autocomplete. Check out what happens when you hit tab in the cell below."
   ]
  },
  {
   "cell_type": "code",
   "execution_count": null,
   "id": "b8322a82",
   "metadata": {},
   "outputs": [],
   "source": [
    "px."
   ]
  },
  {
   "cell_type": "markdown",
   "id": "227f9fad",
   "metadata": {},
   "source": [
    "And once you've picked a function, and you're exploring the various keyword arguments it supports, you can use tab to get suggestions as well:\n",
    "\n",
    "<center><img src=\"imgs/tab.png\" width=200></center>\n",
    "\n",
    "With that said, it's time for your job."
   ]
  },
  {
   "cell_type": "markdown",
   "id": "c575f061",
   "metadata": {},
   "source": [
    "### Question 10: Recreation <div style=\"display:inline-block; vertical-align: middle; padding:7px 7px; font-size:10px; font-weight:light; color:white; background-color:#e84c4a; border-radius:7px; text-align:left;\">6 Points</div>\n",
    "\n",
    "Below, assign `polyfig` to a `plotly` Figure object, corresponding to the graph of the following polynomial:\n",
    "\n",
    "$$g(x) = 2x^3 - 15x^2 + 36x - 5$$\n",
    "\n",
    "You can choose the colors, theme, etc. of your graph yourself. However, your graph must have:\n",
    "\n",
    "- A title of your choosing.\n",
    "- A plot of $g(x)$.\n",
    "- An $x$-axis range of 1 to 4.\n",
    "- A width of 800 and a height of 600.\n",
    "- On top of the plot of $g(x)$, two **points**: one at the local maximum of $g(x)$ and one at the local minimum of $g(x)$. **You'll need to do some math to figure out where these are!** These should appear in the legend as `'Local Maximum'` and `'Local Minimum'`, respectively, and should be colored with different colors.\n",
    "- A legend whose title says `'Legend'`.\n",
    "\n",
    "You can get pretty far by copying the code we gave a few cells above to create $f(x)$, but you'll need to do some research to figure out how to achieve the goals we set out.\n",
    "\n",
    "Yes, this question is also autograded! Unlike other questions, this question has no hidden tests, so you'll be able to verify if your graph meets our requirements before you submit."
   ]
  },
  {
   "cell_type": "code",
   "execution_count": null,
   "id": "1d0073e3",
   "metadata": {
    "tags": []
   },
   "outputs": [],
   "source": [
    "polyfig = ..."
   ]
  },
  {
   "cell_type": "code",
   "execution_count": null,
   "id": "1f7da73d",
   "metadata": {
    "deletable": false,
    "editable": false
   },
   "outputs": [],
   "source": [
    "grader.check(\"q10\")"
   ]
  },
  {
   "cell_type": "markdown",
   "id": "3cbe2753",
   "metadata": {},
   "source": [
    "## Finish Line 🏁\n",
    "\n",
    "Congratulations! You're ready to submit Homework 1."
   ]
  },
  {
   "cell_type": "markdown",
   "id": "8e3f6634",
   "metadata": {},
   "source": [
    "To submit your homework:\n",
    "\n",
    "1. Select `Kernel -> Restart & Run All` to ensure that you have executed all cells, including the test cells.\n",
    "2. Read through the notebook to make sure everything is fine and all tests passed.\n",
    "3. Run the cell below to run all tests, and make sure that they all pass.\n",
    "4. Download your notebook using `File -> Download as -> Notebook (.ipynb)`, then upload your notebook to Gradescope under \"Homework 1\".\n",
    "5. Stick around while the Gradescope autograder grades your work. Make sure you see that all **public tests** have passed on Gradescope. **Remember that homeworks have hidden tests, which you will not see your scores on until a few days after the deadline!**\n",
    "6. Check that you have a confirmation email from Gradescope and save it as proof of your submission."
   ]
  },
  {
   "cell_type": "markdown",
   "id": "24855bc7",
   "metadata": {
    "deletable": false,
    "editable": false
   },
   "source": [
    "---\n",
    "\n",
    "To double-check your work, the cell below will rerun all of the autograder tests."
   ]
  },
  {
   "cell_type": "code",
   "execution_count": null,
   "id": "7e4cec09",
   "metadata": {
    "deletable": false,
    "editable": false
   },
   "outputs": [],
   "source": [
    "grader.check_all()"
   ]
  }
 ],
 "metadata": {
  "kernelspec": {
   "display_name": "Python 3 (ipykernel)",
   "language": "python",
   "name": "python3"
  },
  "language_info": {
   "codemirror_mode": {
    "name": "ipython",
    "version": 3
   },
   "file_extension": ".py",
   "mimetype": "text/x-python",
   "name": "python",
   "nbconvert_exporter": "python",
   "pygments_lexer": "ipython3",
   "version": "3.10.14"
  },
  "otter": {
   "tests": {
    "q1": {
     "name": "q1",
     "points": 3,
     "suites": [
      {
       "cases": [
        {
         "code": ">>> tax_bracket(11000) == 0.10\nTrue",
         "hidden": false,
         "locked": false
        },
        {
         "code": ">>> tax_bracket(100_000) == 0.24\nTrue",
         "hidden": false,
         "locked": false
        }
       ],
       "scored": true,
       "setup": "",
       "teardown": "",
       "type": "doctest"
      }
     ]
    },
    "q10": {
     "name": "q10",
     "points": 6,
     "suites": [
      {
       "cases": [
        {
         "code": ">>> str(type(polyfig)) == \"<class 'plotly.graph_objs._figure.Figure'>\"\nTrue",
         "failure_message": "Make sure polyfig is a plotly Figure object.",
         "hidden": false,
         "locked": false
        },
        {
         "code": ">>> len(polyfig.data) == 3\nTrue",
         "failure_message": "Make sure there are three elements in your graph.",
         "hidden": false,
         "locked": false
        },
        {
         "code": ">>> isinstance(polyfig.layout['title']['text'], str)\nTrue",
         "failure_message": "Make sure to give your graph a title.",
         "hidden": false,
         "locked": false
        },
        {
         "code": ">>> points = [(t['x'][0], t['y'][0]) for t in polyfig.data[1:]]\n>>> (2, 23) in points\nTrue",
         "failure_message": "Make sure your local maximum is in the correct position.",
         "hidden": false,
         "locked": false
        },
        {
         "code": ">>> points = [(t['x'][0], t['y'][0]) for t in polyfig.data[1:]]\n>>> (3, 22) in points\nTrue",
         "failure_message": "Make sure your local minimum is in the correct position.",
         "hidden": false,
         "locked": false
        },
        {
         "code": ">>> names = [t['name'] for t in polyfig.data[1:]]\n>>> sorted(names) == ['Local Maximum', 'Local Minimum']\nTrue",
         "failure_message": "Make sure you've labeled your maxima and minima correctly.",
         "hidden": false,
         "locked": false
        },
        {
         "code": ">>> np.isclose(polyfig.data[0]['x'].min(), 1) and np.isclose(polyfig.data[0]['x'].max(), 4)\nTrue",
         "failure_message": "Make sure your x-axis range is correct.",
         "hidden": false,
         "locked": false
        },
        {
         "code": ">>> len(set([t['marker']['color'] for t in polyfig.data[1:]])) == 2\nTrue",
         "failure_message": "Make sure your maxima and minima are labeled different colors.",
         "hidden": false,
         "locked": false
        },
        {
         "code": ">>> polyfig.layout['legend']['title']['text'] == 'Legend'\nTrue",
         "failure_message": "Make sure the title of your legend is 'Legend'.",
         "hidden": false,
         "locked": false
        }
       ],
       "scored": true,
       "setup": "",
       "teardown": "",
       "type": "doctest"
      }
     ]
    },
    "q2": {
     "name": "q2",
     "points": 6,
     "suites": [
      {
       "cases": [
        {
         "code": ">>> np.isclose(tax_owed(75000), 11807.50)\nTrue",
         "hidden": false,
         "locked": false
        },
        {
         "code": ">>> np.isclose(tax_owed(39), 3.9)\nTrue",
         "hidden": false,
         "locked": false
        }
       ],
       "scored": true,
       "setup": "",
       "teardown": "",
       "type": "doctest"
      }
     ]
    },
    "q3": {
     "name": "q3",
     "points": 2,
     "suites": [
      {
       "cases": [
        {
         "code": ">>> np.isclose(effective_tax_rate(75000), 15.743)\nTrue",
         "hidden": false,
         "locked": false
        },
        {
         "code": ">>> effective_tax_rate(-1) == 0\nTrue",
         "failure_message": "Make sure you address the case where the input is less than or equal to 0. The function should evaluate to 0 in that case.",
         "hidden": false,
         "locked": false
        }
       ],
       "scored": true,
       "setup": "",
       "teardown": "",
       "type": "doctest"
      }
     ]
    },
    "q4": {
     "name": "q4",
     "points": 5,
     "suites": [
      {
       "cases": [
        {
         "code": ">>> hailstone(4)\n4\n2\n1\n3",
         "hidden": false,
         "locked": false
        },
        {
         "code": ">>> hailstone(10)\n10\n5\n16\n8\n4\n2\n1\n7",
         "hidden": false,
         "locked": false
        }
       ],
       "scored": true,
       "setup": "",
       "teardown": "",
       "type": "doctest"
      }
     ]
    },
    "q5": {
     "name": "q5",
     "points": 4,
     "suites": [
      {
       "cases": [
        {
         "code": ">>> np.isclose(alternating_sign_mean([3, 1.5, 9.9]), 3.8)\nTrue",
         "hidden": false,
         "locked": false
        },
        {
         "code": ">>> np.isclose(alternating_sign_mean([2, 4.5, 3, 7]), -6.5 / 4)\nTrue",
         "hidden": false,
         "locked": false
        }
       ],
       "scored": true,
       "setup": "",
       "teardown": "",
       "type": "doctest"
      }
     ]
    },
    "q6": {
     "name": "q6",
     "points": 5,
     "suites": [
      {
       "cases": [
        {
         "code": ">>> big_tippers(['yutong', 15, 'kyle', 9, 'pranavi', 19]) == ['yutong', 'pranavi']\nTrue",
         "hidden": false,
         "locked": false
        }
       ],
       "scored": true,
       "setup": "",
       "teardown": "",
       "type": "doctest"
      }
     ]
    },
    "q7": {
     "name": "q7",
     "points": 2,
     "suites": [
      {
       "cases": [
        {
         "code": ">>> is_ing('running')\nTrue",
         "hidden": false,
         "locked": false
        },
        {
         "code": ">>> is_ing('eatInG')\nTrue",
         "hidden": false,
         "locked": false
        },
        {
         "code": ">>> not is_ing('science')\nTrue",
         "hidden": false,
         "locked": false
        },
        {
         "code": ">>> not is_ing('25')\nTrue",
         "hidden": false,
         "locked": false
        }
       ],
       "scored": true,
       "setup": "",
       "teardown": "",
       "type": "doctest"
      }
     ]
    },
    "q8": {
     "name": "q8",
     "points": 3,
     "suites": [
      {
       "cases": [
        {
         "code": ">>> pump('zebra', 4) == 'zebrebrebrebra'\nTrue",
         "hidden": false,
         "locked": false
        },
        {
         "code": ">>> pump('hi', 2) == 'hi'\nTrue",
         "hidden": false,
         "locked": false
        }
       ],
       "scored": true,
       "setup": "",
       "teardown": "",
       "type": "doctest"
      }
     ]
    },
    "q9": {
     "name": "q9",
     "points": 4,
     "suites": [
      {
       "cases": [
        {
         "code": ">>> n_prefixes('Billy', 4) == 'BillBilBiB'\nTrue",
         "hidden": false,
         "locked": false
        },
        {
         "code": ">>> n_prefixes('Michigan', 3) == 'MicMiM'\nTrue",
         "hidden": false,
         "locked": false
        },
        {
         "code": ">>> n_prefixes('aaron', 2) == 'aaa'\nTrue",
         "hidden": false,
         "locked": false
        }
       ],
       "scored": true,
       "setup": "",
       "teardown": "",
       "type": "doctest"
      }
     ]
    }
   }
  }
 },
 "nbformat": 4,
 "nbformat_minor": 5
}
