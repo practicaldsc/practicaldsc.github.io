{
 "cells": [
  {
   "cell_type": "code",
   "execution_count": null,
   "id": "4c8752f5",
   "metadata": {
    "deletable": false,
    "editable": false
   },
   "outputs": [],
   "source": [
    "# Initialize Otter\n",
    "import otter\n",
    "grader = otter.Notebook(\"hw02.ipynb\")"
   ]
  },
  {
   "cell_type": "markdown",
   "id": "64df7253",
   "metadata": {},
   "source": [
    "<div class=\"alert alert-success\" markdown=\"1\">\n",
    "\n",
    "#### Homework 2\n",
    "\n",
    "# Arrays and DataFrames\n",
    "\n",
    "### EECS 398-003: Practical Data Science, Fall 2024\n",
    "\n",
    "#### Due Thursday, September 12th at 11:59PM\n",
    "    \n",
    "</div>"
   ]
  },
  {
   "cell_type": "markdown",
   "id": "d1cb57c1",
   "metadata": {},
   "source": [
    "## Instructions\n",
    "\n",
    "Welcome to Homework 2! In this homework, you will practice with `numpy` arrays and `pandas` DataFrames, as we saw in Lectures 3 and 4. See the [Readings section of the Resources tab on the course website](https://practicaldsc.org/resources/#readings) for supplemental resources.\n",
    "\n",
    "You are given six slip days throughout the semester to extend deadlines. See the [Syllabus](https://practicaldsc.org/syllabus) for more details. With the exception of using slip days, late work will not be accepted unless you have made special arrangements with your instructor.\n",
    "\n",
    "To access this notebook, you'll need to clone our [public GitHub repository](https://github.com/practicaldsc/fa24/). The [⚙️ Environment Setup](https://practicaldsc.org/env-setup) page on the course website walks you through the necessary steps. Once you're done, you'll submit your completed notebook to Gradescope.\n",
    "\n",
    "Please start early and submit often. You can submit as many times as you'd like to Gradescope, and we'll grade your **most recent** submission. Remember that the public `grader.check` tests in your notebook are not comprehensive, and that your work will also be graded on hidden test cases on Gradescope after the submission deadline.\n",
    "\n",
    "This homework is worth a total of **51 points**, 49 of which come from the autograder, **and 2 of which are manually graded by us** (Question 3). The number of points each question is worth is listed at the start of each question. **The three parts of the assignment are independent, so feel free to move around if you get stuck**. Tip: if you're using Jupyter Lab, you can see a Table of Contents for the notebook by going to View > Table of Contents.\n",
    "\n",
    "To get started, run the **two** import cells below, plus the cell at the top of the notebook that imports and initializes `otter`. The first cell below installs a new package that wasn't included in the `pds` conda environment that we'll need for Part 1."
   ]
  },
  {
   "cell_type": "code",
   "execution_count": null,
   "id": "c4f14633",
   "metadata": {},
   "outputs": [],
   "source": [
    "!pip install networkx"
   ]
  },
  {
   "cell_type": "code",
   "execution_count": null,
   "id": "5f0b4b7a",
   "metadata": {},
   "outputs": [],
   "source": [
    "import pandas as pd\n",
    "import numpy as np\n",
    "import matplotlib.pyplot as plt\n",
    "import seaborn as sns\n",
    "from matplotlib_inline.backend_inline import set_matplotlib_formats\n",
    "\n",
    "import plotly\n",
    "import plotly.graph_objects as go\n",
    "import plotly.express as px\n",
    "import plotly.io as pio\n",
    "\n",
    "# Preferred styles\n",
    "pio.templates[\"pds\"] = go.layout.Template(\n",
    "    layout=dict(\n",
    "        margin=dict(l=30, r=30, t=30, b=30),\n",
    "        autosize=True,\n",
    "        width=600,\n",
    "        height=400,\n",
    "        xaxis=dict(showgrid=True),\n",
    "        yaxis=dict(showgrid=True),\n",
    "        title=dict(x=0.5, xanchor=\"center\"),\n",
    "    )\n",
    ")\n",
    "pio.templates.default = \"simple_white+pds\"\n",
    "\n",
    "set_matplotlib_formats(\"svg\")\n",
    "sns.set_context(\"poster\")\n",
    "sns.set_style(\"whitegrid\")\n",
    "plt.rcParams[\"figure.figsize\"] = (10, 5)\n",
    "\n",
    "# Use plotly as default plotting engine\n",
    "pd.options.plotting.backend = \"plotly\"\n",
    "\n",
    "import networkx as nx"
   ]
  },
  {
   "cell_type": "markdown",
   "id": "54d69c00",
   "metadata": {},
   "source": [
    "## Part 1: PageRank 🔗\n",
    "\n",
    "---\n",
    "\n",
    "In this part of the homework, you'll replicate the PageRank algorithm, the algorithm that Google uses to decide how to rank search results. Along the way, you'll develop proficiency with using arrays in the context of linear algebra.\n",
    "\n",
    "### Overview\n",
    "\n",
    "Larry Page and Sergey Brin developed the Google search engine (originally known as \"BackRub\") while PhD students at Stanford University. Their key innovation was the **PageRank** algorithm. PageRank works by assigning each page on the internet a \"score\" based on its relative importance. Today, PageRank is one of the many algorithms that Google uses in determining how to rank search results.\n",
    "\n",
    "We'll give an explanation of the necessary components of PageRank here, but you may also want to refer to these slides, which inspired our exposition: [**The Billion Dollar Eigenvector**](https://jdc.math.uwo.ca/M1600b-2014/l/pagerank-1600.pdf).\n",
    "\n",
    "**Key idea: The more incoming links a page has, the more important it is!**\n",
    "\n",
    "<center>\n",
    "\n",
    "<img src=\"imgs/network.png\" width=300><br><small>An example network of pages.</small>\n",
    "    \n",
    "</center>\n",
    "\n",
    "There are a few naïve approaches to scoring pages given that key idea, but they have their flaws:\n",
    "- One idea: the score of a page is equal to the number of pages that link to it. This doesn't work because it doesn't account for the importance of the incoming links. For example, if my personal website links to [apple.com](https://apple.com), that doesn't make [apple.com](https://apple.com) any more important than it already was. But if [apple.com](https://apple.com) links to my personal website, that must mean my personal website is important!\n",
    "- Another idea: The score of a page is equal to the sum of the scores of the pages that link to it. This also doesn't work, because there is no non-zero solution!\n",
    "\n",
    "The actual solution assigns scores to pages such that **when a page links to several other pages, the score it gives to them is shared**.\n",
    "\n",
    "In the example graph above, we see that:\n",
    "- Page 1 links to Page 2.\n",
    "- Page 2 links to Pages 1 and 4.\n",
    "- Page 3 links to Pages 1 and 4.\n",
    "- Page 4 links to Pages 1, 2, and 3.\n",
    "\n",
    "If we let $x_i$ be the score assigned to Page $i$, we're looking for the solution to the equations:\n",
    "\n",
    "$$\\begin{align*}\n",
    "x_1 &= &\\frac{1}{2}x_2 &+ \\frac{1}{2}x_3 &+ \\frac{1}{3}x_4 \\\\\n",
    "x_2 &= x_1 &&           &+ \\frac{1}{3}x_4 \\\\\n",
    "x_3 &= &&               & \\frac{1}{3}x_4 \\\\\n",
    "x_4 &= &\\frac{1}{2}x_2 &+ \\frac{1}{2}x_3\n",
    "\\end{align*}$$\n",
    "\n",
    "A more concise way to express the system above is in matrix form, which we can do like so:\n",
    "\n",
    "$$\\vec{x} = A \\vec{x}, \\qquad A = \\begin{bmatrix}\n",
    "0 & \\frac{1}{2} & \\frac{1}{2} & \\frac{1}{3} \\\\\n",
    "1 & 0 & 0 & \\frac{1}{3} \\\\\n",
    "0 & 0 & 0 & \\frac{1}{3} \\\\\n",
    "0 & \\frac{1}{2} & \\frac{1}{2} & 0\n",
    "\\end{bmatrix} \\qquad \\vec x = \\begin{bmatrix} x_1 \\\\ x_2 \\\\ x_3 \\\\ x_4 \\end{bmatrix}$$\n",
    "\n",
    "**Our goal**: Given an adjacency matrix $A$, find the solution to the equation $\\vec{x} = A \\vec{x}$. We will return to solving this goal in Question 2, but keep it at the back of your mind.\n",
    "\n",
    "For now, we'll aim to understand the structure of adjacency matrices.\n",
    "- Each **column** of an adjacency matrix describes the movement **from** a given page; the sums of the columns in an adjacency matrix are equal to 1.\n",
    "- Each **row** of an adjacency matrix describes the movement **into** a given page; the sums of the rows in an adjacency matrix don't necessarily add to 1.\n",
    "\n",
    "Below, we've defined a 2D array, `A`, representing $A$ above:"
   ]
  },
  {
   "cell_type": "code",
   "execution_count": null,
   "id": "e1fb0ab4",
   "metadata": {},
   "outputs": [],
   "source": [
    "A = np.array([[0, 1 / 2, 1 / 2, 1 / 3],\n",
    "              [1, 0, 0, 1 / 3],\n",
    "              [0, 0, 0, 1 / 3],\n",
    "              [0, 1 / 2, 1 / 2, 0]])\n",
    "A"
   ]
  },
  {
   "cell_type": "markdown",
   "id": "78b5dbcd",
   "metadata": {},
   "source": [
    "The function below draws a network given an adjacency matrix. Run the next two cells."
   ]
  },
  {
   "cell_type": "code",
   "execution_count": null,
   "id": "a73f7447",
   "metadata": {},
   "outputs": [],
   "source": [
    "def plot_from_adjacency(adjacency_matrix, node_sizes=0.25):\n",
    "    np.random.seed(25)\n",
    "    plt.figure(figsize=(8, 5))\n",
    "    G = nx.from_numpy_array(adjacency_matrix.T, create_using=nx.DiGraph)\n",
    "    layout = nx.spring_layout(G)\n",
    "    labels_dict={i: i+1 for i in range(adjacency_matrix.shape[0])}\n",
    "    nx.draw(G, layout, \n",
    "            node_size=15000 * node_sizes, labels=labels_dict, with_labels=True, font_color='white', font_weight='bold', font_size=15, \n",
    "            connectionstyle='arc3, rad = 0.1')\n",
    "    plt.show()\n",
    "\n",
    "plot_from_adjacency(A)"
   ]
  },
  {
   "cell_type": "markdown",
   "id": "3ae3db62",
   "metadata": {},
   "source": [
    "Cool!"
   ]
  },
  {
   "cell_type": "markdown",
   "id": "a027ff7a",
   "metadata": {},
   "source": [
    "### Question 1: Creating Adjacency Matrices  <div style=\"display:inline-block; vertical-align: middle; padding:7px 7px; font-size:10px; font-weight:light; color:white; background-color:#e84c4a; border-radius:7px; text-align:left;\">4 Points</div>\n",
    "\n",
    "Having to specify an adjacency matrix manually is slightly cumbersome. It is more natural and convenient for us to describe the links between webpages using a dictionary. Once such example is as follows:"
   ]
  },
  {
   "cell_type": "code",
   "execution_count": null,
   "id": "30ee3b32",
   "metadata": {},
   "outputs": [],
   "source": [
    "example_net = {\n",
    "    1: [2],\n",
    "    2: [1, 4],\n",
    "    3: [1, 4],\n",
    "    4: [1, 2, 3]\n",
    "}"
   ]
  },
  {
   "cell_type": "markdown",
   "id": "3ac314fd",
   "metadata": {},
   "source": [
    "In the above \"network dictionary\", we are told that:\n",
    "- Page 1 links to Page 2.\n",
    "- Page 2 links to Pages 1 and 4.\n",
    "- Page 3 links to Pages 1 and 4.\n",
    "- Page 4 links to Pages 1, 2, and 3.\n",
    "\n",
    "**Note that this dictionary describes the same network that the adjacency matrix `A` does.**\n",
    "\n",
    "Below, complete the implementation of the function `create_adjacency`, which takes in a network dictionary, `network` (formatted similarly to `example_net`) and returns the adjacency matrix that corresponds to `network`. Example behavior is given below.\n",
    "\n",
    "```python\n",
    ">>> create_adjacency(example_net)\n",
    "array([[0.        , 0.5       , 0.5       , 0.33333333],\n",
    "       [1.        , 0.        , 0.        , 0.33333333],\n",
    "       [0.        , 0.        , 0.        , 0.33333333],\n",
    "       [0.        , 0.5       , 0.5       , 0.        ]])\n",
    "```\n",
    "\n",
    "A few notes:\n",
    "- It is **not** guaranteed that there are 4 pages in the network. \n",
    "- It **is** guaranteed that all pages link to at least one page – potentially itself – and that there is at least one page.\n",
    "- Remember that adjacency matrices are 1-indexed, like in math, but Python is 0-indexed.\n",
    "\n",
    "***Hint***: Look into `np.zeros`. You _can_ use a (nested) `for`-loop."
   ]
  },
  {
   "cell_type": "code",
   "execution_count": null,
   "id": "5bafc60c",
   "metadata": {
    "tags": []
   },
   "outputs": [],
   "source": [
    "def create_adjacency(network):\n",
    "    ...\n",
    "\n",
    "# Feel free to change this input to make sure your function works correctly.\n",
    "create_adjacency(example_net)"
   ]
  },
  {
   "cell_type": "code",
   "execution_count": null,
   "id": "121eab3b",
   "metadata": {
    "deletable": false,
    "editable": false
   },
   "outputs": [],
   "source": [
    "grader.check(\"q01\")"
   ]
  },
  {
   "cell_type": "markdown",
   "id": "704bbfe2",
   "metadata": {},
   "source": [
    "### Question 2: Ranking Pages\n",
    "\n",
    "Now, back to the task at hand.\n",
    "\n",
    "**Our goal**: Given an adjacency matrix $A$, find the solution to the equation $\\vec{x} = A \\vec{x}$. In our example network $A$, the setup looks like:\n",
    "\n",
    "$$A = \\begin{bmatrix}\n",
    "0 & \\frac{1}{2} & \\frac{1}{2} & \\frac{1}{3} \\\\\n",
    "1 & 0 & 0 & \\frac{1}{3} \\\\\n",
    "0 & 0 & 0 & \\frac{1}{3} \\\\\n",
    "0 & \\frac{1}{2} & \\frac{1}{2} & 0\n",
    "\\end{bmatrix} \\qquad \\vec x = \\begin{bmatrix} x_1 \\\\ x_2 \\\\ x_3 \\\\ x_4 \\end{bmatrix}$$\n",
    "\n",
    "How do we find $\\vec x$? It turns out that for all valid adjacency matrices, $\\vec x$ is an **eigenvector** that corresponds to the **eigenvalue of 1**. Not sure what that means? That's okay – you can learn more about eigen-everything [here](https://youtu.be/PhfbEr2btGQ?si=1diIM4b31qSYrDOZ).\n",
    "\n",
    "But for our purposes, you don't actually _need_ to know about eigenvalues and eigenvectors. That's because, due to some mathematical theory that's outside of the scope of the course, we can estimate $\\vec x$ with great accuracy if we follow the following process:\n",
    "\n",
    "1. Start by initializing $\\vec x^{(0)}$ to a uniform array that sums to 1. This is our initial, or 0th, guess of the true value of $\\vec x$. In our example $A$, since $\\vec x \\in \\mathbb{R}^4$, we'd initialize $\\vec x^{(0)} = \\begin{bmatrix} \\frac{1}{4} \\\\ \\frac{1}{4} \\\\ \\frac{1}{4} \\\\ \\frac{1}{4} \\end{bmatrix}$. You can imagine this means that a user is equally likely to be on any of the four pages before clicking anything.\n",
    "1. Simulate the process of the user clicking one link by multiplying $A$ by $\\vec x^{(0)}$, and call this $\\vec x^{(1)}$, our next guess of the true $\\vec x$. In other words, $\\vec x^{(1)} = A \\vec x^{(0)}$.\n",
    "2. Repeat this again, so $\\vec x^{(2)} = A \\vec x^{(1)} = A^2 \\vec x^{(0)}$.\n",
    "3. Repeat many, many times, until the difference between $\\vec x^{(i)}$ and $\\vec x^{(i-1)}$ is minimal.\n",
    "\n",
    "Eventually, our guesses $\\vec x^{(i)}$ will converge on the true value of $\\vec x$, which we can interpret as containing the probability that a user is on any particular page in the long run. **Larger probabilities mean more important pages!**\n",
    "\n",
    "In short, to estimate $\\vec x$, we evaluate $A^{m} \\vec x^{(0)}$, where $m$ is some large integer and $x^{(0)}$ is a uniform vector. $m = 100$ is usually sufficient.\n",
    "\n",
    "Let's work this out concretely with our example adjacency matrix, $A$. Let's initialize `x` to an array of length 4 in which each value is `1 / 4`."
   ]
  },
  {
   "cell_type": "code",
   "execution_count": null,
   "id": "1a5dffe7",
   "metadata": {},
   "outputs": [],
   "source": [
    "x = np.ones(4) / 4\n",
    "x"
   ]
  },
  {
   "cell_type": "markdown",
   "id": "727faea9",
   "metadata": {},
   "source": [
    "A better solution than writing:\n",
    "\n",
    "```python\n",
    "A @ A @ A @ A @ A @ A @ ... @ x\n",
    "```\n",
    "\n",
    "or even:\n",
    "\n",
    "```python\n",
    "for i in range(100):\n",
    "    x = A @ x\n",
    "```"
   ]
  },
  {
   "cell_type": "markdown",
   "id": "3315a467",
   "metadata": {},
   "source": [
    "is using `np.linalg.matrix_power`:"
   ]
  },
  {
   "cell_type": "code",
   "execution_count": null,
   "id": "fa823a7f",
   "metadata": {},
   "outputs": [],
   "source": [
    "scores = np.linalg.matrix_power(A, 100) @ x\n",
    "scores"
   ]
  },
  {
   "cell_type": "markdown",
   "id": "a9ddc61d",
   "metadata": {},
   "source": [
    "Above are what we call the PageRank scores of each page. Remember, larger scores are more important! This is telling us that:\n",
    "- Page 2 is the most important,\n",
    "- then Page 1,\n",
    "- then Page 4,\n",
    "- then Page 3.\n",
    "\n",
    "So, if we were Google, we'd show Page 2 first, then Page 1, then Page 4, then Page 3.\n",
    "\n",
    "Now it's your turn! We've broken this question up into two smaller parts."
   ]
  },
  {
   "cell_type": "markdown",
   "id": "b20e957f",
   "metadata": {},
   "source": [
    "#### Question 2.1: Computing Scores  <div style=\"display:inline-block; vertical-align: middle; padding:7px 7px; font-size:10px; font-weight:light; color:white; background-color:#e84c4a; border-radius:7px; text-align:left;\">2 Points</div>\n",
    "\n",
    "Complete the implementation of the function `compute_scores`, which takes in an adjacency matrix `matrix` of shape `(n, n)`, where `n` is a positive integer, and returns an array of length `n` containing the PageRank scores of all pages. Compute the PageRank scores using a matrix power of 100, as we did above. Example behavior is given below.\n",
    "\n",
    "```python\n",
    "# Remember, compute_scores should work for any adjacency matrix, not just A!\n",
    ">>> compute_scores(A)\n",
    "array([0.30769231, 0.38461538, 0.07692308, 0.23076923])\n",
    "```"
   ]
  },
  {
   "cell_type": "code",
   "execution_count": null,
   "id": "fb6b7940",
   "metadata": {
    "tags": []
   },
   "outputs": [],
   "source": [
    "def compute_scores(matrix):\n",
    "    ...\n",
    "\n",
    "# Feel free to change this input to make sure your function works correctly.\n",
    "compute_scores(A)"
   ]
  },
  {
   "cell_type": "code",
   "execution_count": null,
   "id": "7c94afdc",
   "metadata": {
    "deletable": false,
    "editable": false
   },
   "outputs": [],
   "source": [
    "grader.check(\"q02_1\")"
   ]
  },
  {
   "cell_type": "markdown",
   "id": "d69dbd16",
   "metadata": {},
   "source": [
    "We can change the sizes of the pages in our network to be proportional to their PageRank scores. To do this, use the `node_sizes` argument in `plot_from_adjacency`."
   ]
  },
  {
   "cell_type": "code",
   "execution_count": null,
   "id": "e19a1580",
   "metadata": {},
   "outputs": [],
   "source": [
    "plot_from_adjacency(A, node_sizes=compute_scores(A))"
   ]
  },
  {
   "cell_type": "markdown",
   "id": "7ae25b13",
   "metadata": {},
   "source": [
    "#### Question 2.2: Ranking Pages  <div style=\"display:inline-block; vertical-align: middle; padding:7px 7px; font-size:10px; font-weight:light; color:white; background-color:#e84c4a; border-radius:7px; text-align:left;\">2 Points</div>\n",
    "\n",
    "Complete the implementation of the function `pagerank`, which takes in an adjacency matrix `matrix` of shape `(n, n)`, where `n` is a positive integer, and returns a list containing the **numbers** of the pages in the matrix, in **decreasing** order of PageRank score as computed by `compute_scores`. If there are ties in scores, return the pages in any order. Example behavior is given below.\n",
    "\n",
    "```python\n",
    ">>> pagerank(A)\n",
    "[2, 1, 4, 3]\n",
    "```\n",
    "\n",
    "***Hint:*** Look into `np.argsort`. This should only take 2-3 lines; do not write a `for`-loop."
   ]
  },
  {
   "cell_type": "code",
   "execution_count": null,
   "id": "ec7d1622",
   "metadata": {
    "tags": []
   },
   "outputs": [],
   "source": [
    "def pagerank(matrix):\n",
    "    ...\n",
    "\n",
    "# Feel free to change this input to make sure your function works correctly.\n",
    "pagerank(A)"
   ]
  },
  {
   "cell_type": "code",
   "execution_count": null,
   "id": "4656c314",
   "metadata": {
    "deletable": false,
    "editable": false
   },
   "outputs": [],
   "source": [
    "grader.check(\"q02_2\")"
   ]
  },
  {
   "cell_type": "markdown",
   "id": "188a034a",
   "metadata": {},
   "source": [
    "Once you've completed `pagerank`, run the following cell to try your work ."
   ]
  },
  {
   "cell_type": "code",
   "execution_count": null,
   "id": "a0f22ccd",
   "metadata": {},
   "outputs": [],
   "source": [
    "# Here's another example network, which you can use to test your code.\n",
    "test_net = {1: [6], 2: [1, 3, 4, 6], 3: [2, 5, 6], 4: [1], 5: [1, 2, 6], 6: [2, 4]}\n",
    "print(test_net)\n",
    "test_net_adjacency = create_adjacency(test_net)\n",
    "test_net_scores = compute_scores(test_net_adjacency)\n",
    "plot_from_adjacency(test_net_adjacency, node_sizes=test_net_scores)"
   ]
  },
  {
   "cell_type": "markdown",
   "id": "cee706ae",
   "metadata": {},
   "source": [
    "Great work! You've recreated the magic behind Google. (Does this mean you automatically get a job at Google now? Unfortunately, no...)"
   ]
  },
  {
   "cell_type": "markdown",
   "id": "6bddde45",
   "metadata": {},
   "source": [
    "### Question 3: Sinkholes  <div style=\"display:inline-block; vertical-align: middle; padding:7px 7px; font-size:10px; font-weight:light; color:white; background-color:#e84c4a; border-radius:7px; text-align:left;\">2 Points</div>\n",
    "\n",
    "Let's wrap up this part of the homework with a puzzle. Consider the following network:"
   ]
  },
  {
   "cell_type": "code",
   "execution_count": null,
   "id": "b3868d44",
   "metadata": {},
   "outputs": [],
   "source": [
    "weird_net = {\n",
    "    1: [1],\n",
    "    2: [1, 3, 5],\n",
    "    3: [2, 4],\n",
    "    4: [1, 2, 3],\n",
    "    5: [3]\n",
    "}"
   ]
  },
  {
   "cell_type": "markdown",
   "id": "4721366b",
   "metadata": {},
   "source": [
    "Note that Page 1 links to itself and to no other pages. Practically speaking, we can interpret Page 1 as being a \"dead end\" or \"sinkhole\", with no outgoing links.\n",
    "\n",
    "Run the cells below to compute the adjacency matrix and scores for the above network and to visualize it."
   ]
  },
  {
   "cell_type": "code",
   "execution_count": null,
   "id": "222f0065",
   "metadata": {},
   "outputs": [],
   "source": [
    "weird_matrix = create_adjacency(weird_net)\n",
    "weird_scores = compute_scores(weird_matrix)\n",
    "print(weird_scores)\n",
    "plot_from_adjacency(weird_matrix, node_sizes=weird_scores)"
   ]
  },
  {
   "cell_type": "markdown",
   "id": "522c6771",
   "metadata": {},
   "source": [
    "<!-- BEGIN QUESTION -->\n",
    "\n",
    "It appears that Page 1's score is 1, and all of the other pages' scores are 0! (`9.6409e-10` means $9.64 \\cdot 10^{-10}$, which is a really, really small number.)\n",
    "\n",
    "<span style=\"color:red\"><b>In the cell below, write your answers to the following two _manually-graded_ prompts.</b></span>\n",
    "\n",
    "- Why do you think Page 1's score is so high, and the other pages' scores are so low? (***Hint:*** Think about how we interpret the score of a page.)\n",
    "- Read the [Damping factor](https://en.wikipedia.org/wiki/PageRank#Damping_factor) section of the Wikipedia article on PageRank. In two sentences, describe (to the best of your ability) how using damping would prevent the score of Page 1 from becoming 1. (If you read the article closely, the answer is there – describe it in your own words.)"
   ]
  },
  {
   "cell_type": "markdown",
   "id": "05c5780a",
   "metadata": {},
   "source": [
    "_Type your answer here, replacing this text._"
   ]
  },
  {
   "cell_type": "markdown",
   "id": "5cdb56c9",
   "metadata": {},
   "source": [
    "<!-- END QUESTION -->\n",
    "\n",
    "## Part 2: Euchre Returns! 🃏\n",
    "\n",
    "---\n",
    "\n",
    "In this part of the homework, we'll practice simulating various probabilities in the context of the popular card game, [Euchre](https://www.wikihow.com/Play-Euchre)!\n",
    "\n",
    "Euchre, as you may have seen in EECS 280, is a 4-player card game, in which the players are named Player 0, Player 1, Player 2, and Player 3. Euchre is played with a deck of **24 cards**. Each card has two attributes:\n",
    "- a **suit**, which is either hearts (<span style=\"color:red\">❤️</span>), diamonds (<span style=\"color:red\">♦️</span>), clubs (♣), or spades (♠).\n",
    "- a **face value**, which is either 9, 10, Jack (J), Queen (Q), King (K), or Ace (A).\n",
    "\n",
    "The full deck of 24 cards is shown below.\n",
    "\n",
    "<div align=\"center\">\n",
    "\n",
    "<span style=\"color:red\">❤️: 9, 10, J, Q, K, A</span><br>\n",
    "<span style=\"color:red\">♦️: 9, 10, J, Q, K, A</span><br>\n",
    "<span style=\"color:black\">♣: 9, 10, J, Q, K, A</span><br>\n",
    "<span style=\"color:black\">♠: 9, 10, J, Q, K, A</span><br>\n",
    "\n",
    "</center>\n",
    "\n",
    "The 24 cards are all different. The list `deck`, defined below, represents our deck of 24 cards. Each element in deck is a string representing a card, in the format `'{face} {suit}'`.\n",
    "\n",
    "Note that you don't need to know how Euchre is played, beyond what is explained above, to work on the following question. (Suraj has never played Euchre before – he's never taken EECS 280 either!)"
   ]
  },
  {
   "cell_type": "code",
   "execution_count": null,
   "id": "2ec96b5b",
   "metadata": {},
   "outputs": [],
   "source": [
    "# Do NOT edit this cell! \n",
    "# In our hidden tests, we will assume deck is defined exactly as below.\n",
    "suits = ['Hearts', 'Diamonds', 'Clubs', 'Spades']\n",
    "faces = ['9', '10', 'J', 'Q', 'K', 'A']\n",
    "deck = [f'{face} {suit}' for suit in suits for face in faces]\n",
    "deck"
   ]
  },
  {
   "cell_type": "markdown",
   "id": "3383c4de",
   "metadata": {},
   "source": [
    "At the start of a round of Euchre, the 24 cards are randomly distributed to the 4 players such that each player gets 5 cards, and the remaining 4 cards ($24 - 5 \\cdot 4 = 4$) are put to the side. \n",
    "\n",
    "You should use functions built into `np.random` to simulate the act of shuffling and distributing cards. You may find `np.random.choice` and `np.random.permutation` to be useful, but be careful about the arguments you provide and the assumptions they make. You're free to define helper functions to use throughout your work, too – **we did this ourselves** – and you'll need to research various string, list, array, and `np.random` functions and methods to get this all to work.\n",
    "\n",
    "Your answers will be (very) slightly different than those of your peers, and slightly different each time you run your notebook, due to randomness. This is expected, and our autograder tests will account for this. **Don't** work out the math by hand – that isn't the point of these questions, rather the point is to build your fluency in simulating."
   ]
  },
  {
   "cell_type": "markdown",
   "id": "dc3d0ef5",
   "metadata": {},
   "source": [
    "### Question 4: At Least $k$ Same Suit  <div style=\"display:inline-block; vertical-align: middle; padding:7px 7px; font-size:10px; font-weight:light; color:white; background-color:#e84c4a; border-radius:7px; text-align:left;\">5 Points</div>\n",
    "\n",
    "Complete the implementation of the function `prob_at_least_k_same_suit`, which takes in an integer `k` and returns a simulated estimate of the **probability that Player 0 ends up with at least $k$ cards of the same suit**. Remember, the 24 cards in the Euchre deck (`deck`) are distributed such that Player 0, Player 1, Player 2, and Player 3 each receive 5 cards, and 4 cards are put to the side.\n",
    "\n",
    "Example behavior is given below.\n",
    "\n",
    "```python\n",
    ">>> prob_at_least_k_same_suit(4)\n",
    "0.02693\n",
    "\n",
    "# Each time we call prob_at_least_k_same_suit with the same input,\n",
    "# we should see a slightly different result.\n",
    ">>> prob_at_least_k_same_suit(4)\n",
    "0.02591\n",
    "```\n",
    "\n",
    "Some extra guidance:\n",
    "- Use 100,000 repetitions in your simulation.\n",
    "- If `k` is negative or `0`, return `0`. If `k` is greater than the number of cards given to Player 0, return `0`. (Note that there are some values of `k` for which you'll always end up returning `1` – it's useful to think about which values of `k` these are. Think back to the pigeonhole principle from EECS 203!)\n",
    "- Look at the default `replace` argument in `np.random.choice` – you may need to set this to something else."
   ]
  },
  {
   "cell_type": "code",
   "execution_count": null,
   "id": "99748876",
   "metadata": {
    "tags": []
   },
   "outputs": [],
   "source": [
    "def prob_at_least_k_same_suit(k):\n",
    "    ...\n",
    "\n",
    "# Feel free to change this input to make sure your function works correctly.\n",
    "# Each time you run this cell, you should see a slightly different result!\n",
    "prob_at_least_k_same_suit(4)"
   ]
  },
  {
   "cell_type": "code",
   "execution_count": null,
   "id": "8834df06",
   "metadata": {
    "deletable": false,
    "editable": false
   },
   "outputs": [],
   "source": [
    "grader.check(\"q04\")"
   ]
  },
  {
   "cell_type": "markdown",
   "id": "b146b0b2",
   "metadata": {},
   "source": [
    "### Question 5: Evenly Distributed Jacks  <div style=\"display:inline-block; vertical-align: middle; padding:7px 7px; font-size:10px; font-weight:light; color:white; background-color:#e84c4a; border-radius:7px; text-align:left;\">5 Points</div>\n",
    "\n",
    "Complete the implementation of the function `prob_all_one_jack`, which takes no arguments and returns a simulated estimate of the **probability that each player ends up with exactly one Jack (J)**.\n",
    "\n",
    "Again, use 100,000 repetitions in your simulation."
   ]
  },
  {
   "cell_type": "code",
   "execution_count": null,
   "id": "5943ae5f",
   "metadata": {
    "tags": []
   },
   "outputs": [],
   "source": [
    "def prob_all_one_jack():\n",
    "    ...\n",
    "\n",
    "# Each time you run this cell, you should see a slightly different result!\n",
    "prob_all_one_jack()"
   ]
  },
  {
   "cell_type": "code",
   "execution_count": null,
   "id": "bca39cef",
   "metadata": {
    "deletable": false,
    "editable": false
   },
   "outputs": [],
   "source": [
    "grader.check(\"q05\")"
   ]
  },
  {
   "cell_type": "markdown",
   "id": "cf6c17bc",
   "metadata": {},
   "source": [
    "## Part 3: Movies 🎥\n",
    "\n",
    "---\n",
    "\n",
    "In this final part of the homework, we'll build our skills in working with DataFrames in `pandas`.\n"
   ]
  },
  {
   "cell_type": "markdown",
   "id": "51ea2eb2",
   "metadata": {},
   "source": [
    "Run the cell below to load in a dataset with information about various movies from [IMDb](https://www.imdb.com/), the Internet Movie Database. (The dataset comes from [Kaggle](https://www.kaggle.com/datasets/parthdande/imdb-dataset-2024-updated))."
   ]
  },
  {
   "cell_type": "code",
   "execution_count": null,
   "id": "c0ef630e",
   "metadata": {},
   "outputs": [],
   "source": [
    "imdb = pd.read_csv('data/imdb-2024-cleaned.csv')\n",
    "imdb"
   ]
  },
  {
   "cell_type": "markdown",
   "id": "e555175b",
   "metadata": {},
   "source": [
    "As the preview above shows us, `imdb` has 255 rows, and has some brand new movies, like `'A Quiet Place: Day One'`, released earlier this year.\n",
    "\n",
    "Not sure what one of the columns means? Google it, as data scientists do – you'll find helpful information directly on IMDb's website.\n",
    "\n",
    "In lecture, we learned that it's good practice to set the index of a DataFrame to a unique identifier for each row, if one exists. At first glance, it may seem like the values in the `'Title'` column are unique, but upon further investigation we see that there are actually duplicate `'Title'`s:"
   ]
  },
  {
   "cell_type": "code",
   "execution_count": null,
   "id": "7cef88ca",
   "metadata": {},
   "outputs": [],
   "source": [
    "imdb['Title'].value_counts()"
   ]
  },
  {
   "cell_type": "markdown",
   "id": "6f00c557",
   "metadata": {},
   "source": [
    "There are 2 rows for `'Planet of the Apes'`, for example. We can query to see just those rows:"
   ]
  },
  {
   "cell_type": "code",
   "execution_count": null,
   "id": "341a8808",
   "metadata": {},
   "outputs": [],
   "source": [
    "imdb[imdb['Title'] == 'Planet of the Apes']"
   ]
  },
  {
   "cell_type": "markdown",
   "id": "8d4040c0",
   "metadata": {},
   "source": [
    "It seems like there are indeed multiple different `'Planet of the Apes'` movies, released in different years. So, for now, we'll leave the index of `imdb` as-is.\n",
    "\n",
    "Time to get to work!  Note that all of the following questions are answerable using concepts from [Lecture 4](https://practicaldsc.org/resources/lectures/lec04/lec04-filled.html), though you may find them to be slightly easier after you've gained more practice in Lecture 5.\n",
    "\n",
    "Important: **DO NOT** modify the `imdb` DataFrame at any point in this notebook! If you do, your code won't be graded correctly when you submit it to Gradescope."
   ]
  },
  {
   "cell_type": "markdown",
   "id": "a47b941c",
   "metadata": {},
   "source": [
    "### Question 6: Exploring the Data\n",
    "\n",
    "In this question, which is made up of 7 smaller subparts, we'll ask you to answer various questions involving the `imdb` DataFrame. **Don't** hard-code your answers; use `pandas` code to find them programatically."
   ]
  },
  {
   "cell_type": "markdown",
   "id": "13c52513",
   "metadata": {},
   "source": [
    "#### Question 6.1: Highest Rating Ever  <div style=\"display:inline-block; vertical-align: middle; padding:7px 7px; font-size:10px; font-weight:light; color:white; background-color:#e84c4a; border-radius:7px; text-align:left;\">1 Point</div>\n",
    "\n",
    "Assign `highest_rating_ever` to the highest `'IMDb Rating'` of any movie in `imdb`. Your answer should be a float."
   ]
  },
  {
   "cell_type": "code",
   "execution_count": null,
   "id": "90cbbe7b",
   "metadata": {
    "tags": []
   },
   "outputs": [],
   "source": [
    "highest_rating_ever = ...\n",
    "highest_rating_ever"
   ]
  },
  {
   "cell_type": "code",
   "execution_count": null,
   "id": "42b384b3",
   "metadata": {
    "deletable": false,
    "editable": false
   },
   "outputs": [],
   "source": [
    "grader.check(\"q06_1\")"
   ]
  },
  {
   "cell_type": "markdown",
   "id": "5c747851",
   "metadata": {},
   "source": [
    "#### Question 6.2: Movie with Highest Rating Ever  <div style=\"display:inline-block; vertical-align: middle; padding:7px 7px; font-size:10px; font-weight:light; color:white; background-color:#e84c4a; border-radius:7px; text-align:left;\">2 Points</div>"
   ]
  },
  {
   "cell_type": "markdown",
   "id": "c63146dd",
   "metadata": {},
   "source": [
    "Assign `movie_with_highest_rating_ever` to the `'Title'` of the movie with the highest `'IMDb Rating'` of any movie in `imdb`. Assume there are no ties. Your answer should be a string."
   ]
  },
  {
   "cell_type": "code",
   "execution_count": null,
   "id": "2a655bbf",
   "metadata": {
    "tags": []
   },
   "outputs": [],
   "source": [
    "movie_with_highest_rating_ever = ...\n",
    "movie_with_highest_rating_ever"
   ]
  },
  {
   "cell_type": "code",
   "execution_count": null,
   "id": "58ac2d56",
   "metadata": {
    "deletable": false,
    "editable": false
   },
   "outputs": [],
   "source": [
    "grader.check(\"q06_2\")"
   ]
  },
  {
   "cell_type": "markdown",
   "id": "7118be75",
   "metadata": {},
   "source": [
    "#### Question 6.3: Comedy Movies  <div style=\"display:inline-block; vertical-align: middle; padding:7px 7px; font-size:10px; font-weight:light; color:white; background-color:#e84c4a; border-radius:7px; text-align:left;\">1 Point</div>"
   ]
  },
  {
   "cell_type": "markdown",
   "id": "4818289d",
   "metadata": {},
   "source": [
    "Assign `num_comedy` to the number of movies in `imdb` with a `'Genre'` of `'Comedy'`. Your answer should be an int."
   ]
  },
  {
   "cell_type": "code",
   "execution_count": null,
   "id": "99fdf63e",
   "metadata": {
    "tags": []
   },
   "outputs": [],
   "source": [
    "num_comedy = ...\n",
    "num_comedy"
   ]
  },
  {
   "cell_type": "code",
   "execution_count": null,
   "id": "a8705122",
   "metadata": {
    "deletable": false,
    "editable": false
   },
   "outputs": [],
   "source": [
    "grader.check(\"q06_3\")"
   ]
  },
  {
   "cell_type": "markdown",
   "id": "cfc612a7",
   "metadata": {},
   "source": [
    "#### Question 6.4: Most Common Genre in 2024  <div style=\"display:inline-block; vertical-align: middle; padding:7px 7px; font-size:10px; font-weight:light; color:white; background-color:#e84c4a; border-radius:7px; text-align:left;\">2 Points</div>\n",
    "\n",
    "Assign `most_common_genre_2024` to the name of the most common `'Genre'` among all movies in `imdb` released in 2024. Assume there are no ties. Your answer should be a string."
   ]
  },
  {
   "cell_type": "code",
   "execution_count": null,
   "id": "84309173",
   "metadata": {
    "tags": []
   },
   "outputs": [],
   "source": [
    "most_common_genre_2024 = ...\n",
    "most_common_genre_2024"
   ]
  },
  {
   "cell_type": "code",
   "execution_count": null,
   "id": "6bf1cdaf",
   "metadata": {
    "deletable": false,
    "editable": false
   },
   "outputs": [],
   "source": [
    "grader.check(\"q06_4\")"
   ]
  },
  {
   "cell_type": "markdown",
   "id": "fec5a95b",
   "metadata": {},
   "source": [
    "#### Question 6.5: Big Directors <div style=\"display:inline-block; vertical-align: middle; padding:7px 7px; font-size:10px; font-weight:light; color:white; background-color:#e84c4a; border-radius:7px; text-align:left;\">3 Points</div>\n",
    "\n",
    "Assign `prop_big_directors` to the **proportion** of movies in `imdb` directed by the top 4 `'Director'`s, when `'Director'`s are ranked by the number of movies they've directed in descending order. Assume that the top 4 `'Directors'` are unambiguous; i.e. that there isn't a 5th director that is tied with one of the top 4. Your answer should be a float between 0 and 1."
   ]
  },
  {
   "cell_type": "code",
   "execution_count": null,
   "id": "52835445",
   "metadata": {
    "tags": []
   },
   "outputs": [],
   "source": [
    "prop_big_directors = ...\n",
    "prop_big_directors"
   ]
  },
  {
   "cell_type": "code",
   "execution_count": null,
   "id": "48438baf",
   "metadata": {
    "deletable": false,
    "editable": false
   },
   "outputs": [],
   "source": [
    "grader.check(\"q06_5\")"
   ]
  },
  {
   "cell_type": "markdown",
   "id": "2ec7fd42",
   "metadata": {},
   "source": [
    "#### Question 6.6: Harry Potter  <div style=\"display:inline-block; vertical-align: middle; padding:7px 7px; font-size:10px; font-weight:light; color:white; background-color:#e84c4a; border-radius:7px; text-align:left;\">2 Points</div>\n",
    "\n",
    "Assign `average_harry_potter` to the mean `'IMDb Rating'` of all movies with the string `'Harry Potter'` in the `'Title'`. Your answer should be a float."
   ]
  },
  {
   "cell_type": "code",
   "execution_count": null,
   "id": "fadfd381",
   "metadata": {
    "tags": []
   },
   "outputs": [],
   "source": [
    "average_harry_potter = ...\n",
    "average_harry_potter"
   ]
  },
  {
   "cell_type": "code",
   "execution_count": null,
   "id": "0a88a79b",
   "metadata": {
    "deletable": false,
    "editable": false
   },
   "outputs": [],
   "source": [
    "grader.check(\"q07_6\")"
   ]
  },
  {
   "cell_type": "markdown",
   "id": "141315b5",
   "metadata": {},
   "source": [
    "#### Question 6.7: Family Friendly  <div style=\"display:inline-block; vertical-align: middle; padding:7px 7px; font-size:10px; font-weight:light; color:white; background-color:#e84c4a; border-radius:7px; text-align:left;\">4 Points</div>\n",
    "\n",
    "Assign `num_hours_family_friendly` to the number of **hours** it would take you to watch the 10 highest-rated `'PG-13'` movies whose `'Genre'` is either `'Action'` or `'Adventure'`. By highest-rated, we're referring to movies with the highest `'IMDb Rating'`s. Assume that there are no ties in `'IMDb Rating'`s. Your answer should be a float."
   ]
  },
  {
   "cell_type": "code",
   "execution_count": null,
   "id": "9ab878bd",
   "metadata": {
    "tags": []
   },
   "outputs": [],
   "source": [
    "num_hours_family_friendly =  ...\n",
    "num_hours_family_friendly"
   ]
  },
  {
   "cell_type": "code",
   "execution_count": null,
   "id": "f7fa2a0d",
   "metadata": {
    "deletable": false,
    "editable": false
   },
   "outputs": [],
   "source": [
    "grader.check(\"q06_7\")"
   ]
  },
  {
   "cell_type": "markdown",
   "id": "75dcf64a",
   "metadata": {},
   "source": [
    "### Question 7: Star Struck\n",
    "\n",
    "Take a look at the `'Star Cast'` column of `imdb`, which we didn't use in Question 7:"
   ]
  },
  {
   "cell_type": "code",
   "execution_count": null,
   "id": "42111223",
   "metadata": {},
   "outputs": [],
   "source": [
    "imdb['Star Cast']"
   ]
  },
  {
   "cell_type": "markdown",
   "id": "8987bd9f",
   "metadata": {},
   "source": [
    "Right now, actors' names aren't separated by spaces. With `'Star Cast'` in this form, we can still perform _some_ queries, like looking at all of the movies Margot Robbie was in:"
   ]
  },
  {
   "cell_type": "code",
   "execution_count": null,
   "id": "31ab2844",
   "metadata": {},
   "outputs": [],
   "source": [
    "imdb[imdb['Star Cast'].str.contains('Margot Robbie')]"
   ]
  },
  {
   "cell_type": "markdown",
   "id": "f10af6b9",
   "metadata": {},
   "source": [
    "But we **can't** answer questions like, which actor was in the most movies? Let's change that.\n",
    "\n",
    "#### Question 7.1: Data Cleaning  <div style=\"display:inline-block; vertical-align: middle; padding:7px 7px; font-size:10px; font-weight:light; color:white; background-color:#e84c4a; border-radius:7px; text-align:left;\">5 Points</div>\n",
    "\n",
    "Complete the implementation of the function `extract_names`, which takes in `s`, a single string formatted like those in the `'Star Cast'` column of `imdb`, and returns a **list** of strings with the names of all of the actors in `s`. Example behavior is given below.\n",
    "\n",
    "```python\n",
    ">>> extract_names('Makoto ShinkaiClark Cheng')\n",
    "['Makoto Shinkai', 'Clark Cheng']\n",
    "\n",
    ">>> extract_names('Anya Taylor-JoyChris HemsworthTom Burke')\n",
    "['Anya Taylor-Joy', 'Chris Hemsworth', 'Tom Burke']\n",
    "\n",
    ">>> extract_names('Santa Ono')\n",
    "['Santa Ono']\n",
    "```\n",
    "\n",
    "For simplicity, you **must** assume that:\n",
    "- Each actor only has a single first name and a single last name.\n",
    "- First names and last names are both at least two letters long, contain no spaces, and contain exactly one uppercase letter\n",
    "- If there is a dash (`'-'`) in an actor's first name or last name, it is not the first or last letter. Dashes are the only non-alphabetic characters that can appear in a first name or last name.\n",
    "\n",
    "Note that the above assumptions mean that `extract_names` _will_ work incorrectly for cases like the one below; we're adding this simplifying assumption to make your life easier.\n",
    "\n",
    "```python\n",
    ">>> extract_names('Leonardo DiCaprioJonah HillMargot Robbie')\n",
    "['Leonardo Di', 'Caprio', 'Jonah Hill', 'Margot Robbie']\n",
    "```\n",
    "\n",
    "Note that the implementation of `extract_names` doesn't involve any `pandas` methods; it's a pure Python problem."
   ]
  },
  {
   "cell_type": "code",
   "execution_count": null,
   "id": "6fd61bc5",
   "metadata": {
    "tags": []
   },
   "outputs": [],
   "source": [
    "def extract_names(s):\n",
    "    ...\n",
    "\n",
    "# Feel free to change this input to make sure your function works correctly.\n",
    "extract_names('Makoto ShinkaiClark Cheng')"
   ]
  },
  {
   "cell_type": "code",
   "execution_count": null,
   "id": "97bea2d4",
   "metadata": {
    "deletable": false,
    "editable": false
   },
   "outputs": [],
   "source": [
    "grader.check(\"q07_1\")"
   ]
  },
  {
   "cell_type": "markdown",
   "id": "0f905c04",
   "metadata": {},
   "source": [
    "Now, using syntax we'll see in Week 3, we've defined for you a Series, named `star_names`, containing the names of all individual actors in `'Star Cast'`. This involves using the Series `apply` method to call your `extract_names` function on every value in `imdb['Star Cast']`, and then combining the resulting lists into one massive list, and finally converting that to Series."
   ]
  },
  {
   "cell_type": "code",
   "execution_count": null,
   "id": "e38c02ae",
   "metadata": {},
   "outputs": [],
   "source": [
    "star_names = pd.Series(imdb['Star Cast'].apply(extract_names).sum())\n",
    "star_names"
   ]
  },
  {
   "cell_type": "markdown",
   "id": "994b926f",
   "metadata": {},
   "source": [
    "Note that the values in `star_names` are not unique!"
   ]
  },
  {
   "cell_type": "markdown",
   "id": "b424c602",
   "metadata": {},
   "source": [
    "#### Question 7.2: Modes  <div style=\"display:inline-block; vertical-align: middle; padding:7px 7px; font-size:10px; font-weight:light; color:white; background-color:#e84c4a; border-radius:7px; text-align:left;\">2 Points</div>\n",
    "\n",
    "Complete the implementation of the function `most_common`, which takes in a Series, `ser`, and returns a **list** containing the mode(s) of `ser`. The order of the elements in the returned list does not matter. Assume `ser` contains at least one element. Example behavior is given below.\n",
    "\n",
    "```python\n",
    ">>> most_common(pd.Series([1, 2, 2]))\n",
    "[2]\n",
    "\n",
    ">>> most_common(pd.Series([1, 2]))\n",
    "[1, 2]\n",
    "\n",
    "# This works strangely because of our assumptions in 7.1.\n",
    "# We're intentionally not showing you the entire output.\n",
    ">>> star_names_output = most_common(star_names)\n",
    ">>> 'Caprio' in star_names_output and 'Leonardo Di' in star_names_output\n",
    "True\n",
    "```"
   ]
  },
  {
   "cell_type": "code",
   "execution_count": null,
   "id": "a7737f13",
   "metadata": {
    "tags": []
   },
   "outputs": [],
   "source": [
    "def most_common(ser):\n",
    "    ...\n",
    "\n",
    "# Feel free to change this input to make sure your function works correctly.\n",
    "most_common(pd.Series([1, 2, 2]))"
   ]
  },
  {
   "cell_type": "code",
   "execution_count": null,
   "id": "4c4cd84d",
   "metadata": {
    "deletable": false,
    "editable": false
   },
   "outputs": [],
   "source": [
    "grader.check(\"q07_2\")"
   ]
  },
  {
   "cell_type": "markdown",
   "id": "bbab52ea",
   "metadata": {},
   "source": [
    "After you've implemented `most_common`, run the cell below."
   ]
  },
  {
   "cell_type": "code",
   "execution_count": null,
   "id": "f52b17ab",
   "metadata": {},
   "outputs": [],
   "source": [
    "most_common(star_names)"
   ]
  },
  {
   "cell_type": "markdown",
   "id": "37d9f100",
   "metadata": {},
   "source": [
    "You may recognize some of these names, but not others. You should explore! For instance, query `imdb` for all the movies that `'Pete Docter'` starred in. What do you notice?"
   ]
  },
  {
   "cell_type": "code",
   "execution_count": null,
   "id": "ae8d20f0",
   "metadata": {},
   "outputs": [],
   "source": [
    "# You're NOT required to do this, but you should – it's fun!\n",
    "# BEGIN SOLUTION\n",
    "imdb[imdb['Star Cast'].str.contains('Pete Docter')]\n",
    "# END SOLUTION"
   ]
  },
  {
   "cell_type": "markdown",
   "id": "2e6a157a",
   "metadata": {},
   "source": [
    "### Question 8: Diving Deeper\n",
    "\n",
    "To wrap up, let's revisit the larger DataFrame to answer a few more involved questions. Make sure your functions don't make in-place modifications to the input DataFrames!"
   ]
  },
  {
   "cell_type": "markdown",
   "id": "a5e66fdb",
   "metadata": {},
   "source": [
    "#### Question 8.1: Longest Title  <div style=\"display:inline-block; vertical-align: middle; padding:7px 7px; font-size:10px; font-weight:light; color:white; background-color:#e84c4a; border-radius:7px; text-align:left;\">3 Points</div>\n",
    "\n",
    "Complete the implementation of the function `longest_title`, which takes in a DataFrame `df` and returns the longest movie `'Title'`. Assume that `df` has the same 9 column titles as `imdb`, with the same data types, but potentially a different number of rows in a different order, with a potentially different index. Assume that `df` has at least one row, and assume there are no ties. Example behavior is given below.\n",
    "\n",
    "```python\n",
    "# Remember, imdb.head(5) is a DataFrame with just the first 5 rows of imdb.\n",
    ">>> longest_title(imdb.head(5))\n",
    "'10 Things I Hate About You'\n",
    "```"
   ]
  },
  {
   "cell_type": "code",
   "execution_count": null,
   "id": "de111ca1",
   "metadata": {
    "tags": []
   },
   "outputs": [],
   "source": [
    "def longest_title(df):\n",
    "    ...\n",
    "\n",
    "# Feel free to change this input to make sure your function works correctly.\n",
    "longest_title(imdb.head(5))"
   ]
  },
  {
   "cell_type": "code",
   "execution_count": null,
   "id": "3316cc66",
   "metadata": {
    "deletable": false,
    "editable": false
   },
   "outputs": [],
   "source": [
    "grader.check(\"q08_1\")"
   ]
  },
  {
   "cell_type": "markdown",
   "id": "055038fc",
   "metadata": {},
   "source": [
    "Once you've implemented `longest_title`, run the cell below to see the longest movie title in `imdb`."
   ]
  },
  {
   "cell_type": "code",
   "execution_count": null,
   "id": "95b2d625",
   "metadata": {},
   "outputs": [],
   "source": [
    "longest_title(imdb)"
   ]
  },
  {
   "cell_type": "markdown",
   "id": "85c7ca9e",
   "metadata": {},
   "source": [
    "#### Question 8.2: Outliers  <div style=\"display:inline-block; vertical-align: middle; padding:7px 7px; font-size:10px; font-weight:light; color:white; background-color:#e84c4a; border-radius:7px; text-align:left;\">3 Points</div>\n",
    "\n",
    "Typically, it seems that `'IMDb Rating'`, which are determined by user ratings, and `'MetaScore'` ratings, which are weighted averages of scores given by trusted movie critics, are correlated. That is, movies with high `'IMDb Rating'`s tend to have high `'MetaScore'` ratings, and movies with low `'IMDb Rating'`s tend to have low `'MetaScore'` ratings. We can see this trend in the following scatter plot. Hover over points to see the names of the movies."
   ]
  },
  {
   "cell_type": "code",
   "execution_count": null,
   "id": "de716849",
   "metadata": {},
   "outputs": [],
   "source": [
    "imdb.plot(kind='scatter', x='IMDb Rating', y='MetaScore', hover_name='Title', width=800, height=600)"
   ]
  },
  {
   "cell_type": "markdown",
   "id": "1cc7ec26",
   "metadata": {},
   "source": [
    "As you can see, there are some outliers, i.e. movies that had relatively high `'MetaScore'`s but relatively low `'IMDb Rating'`s, or vice versa.\n",
    "\n",
    "We define the `'MetaScore'` to `'IMDb Rating'` ratio of a movie as follows:\n",
    "\n",
    "$$\\frac{\\text{Movie's MetaScore}}{\\text{Movie's IMDb Rating}}$$\n",
    "\n",
    "Complete the implementation of the function `metascore_to_rating_outlier`, which takes in a DataFrame `df` and returns the movie with the **largest** `'MetaScore'` to `'IMDb Rating'`. (Note that this is only one of the two types of outliers mentioned in the paragraph at the top of this cell, but use this definition in your solution.)\n",
    "\n",
    "Assume that `df` has the same 9 column titles as `imdb`, with the same data types, but potentially a different number of rows in a different order, with a potentially different index. Assume that `df` has at least one row, and assume there are no ties. Example behavior is given below.\n",
    "\n",
    "\n",
    "```python\n",
    ">>> metascore_to_rating_outlier(imdb.head(5))\n",
    "'A Quiet Place'\n",
    "```"
   ]
  },
  {
   "cell_type": "code",
   "execution_count": null,
   "id": "e28591f8",
   "metadata": {
    "tags": []
   },
   "outputs": [],
   "source": [
    "def metascore_to_rating_outlier(df):\n",
    "    ...\n",
    "\n",
    "# Feel free to change this input to make sure your function works correctly.\n",
    "metascore_to_rating_outlier(imdb.head(5))"
   ]
  },
  {
   "cell_type": "code",
   "execution_count": null,
   "id": "22c013ae",
   "metadata": {
    "deletable": false,
    "editable": false
   },
   "outputs": [],
   "source": [
    "grader.check(\"q08_2\")"
   ]
  },
  {
   "cell_type": "markdown",
   "id": "57c81699",
   "metadata": {},
   "source": [
    "#### Question 8.3: Recommended For Me <div style=\"display:inline-block; vertical-align: middle; padding:7px 7px; font-size:10px; font-weight:light; color:white; background-color:#e84c4a; border-radius:7px; text-align:left;\">3 Points</div>\n",
    "\n",
    "And finally, now that you're almost done Homework 2, it's time to find new movies in your favorite genre that the data thinks you might like.\n",
    "\n",
    "Complete the implementation of the function `genre_specific`, which takes in a DataFrame `df` and a string, `genre`, corresponding to a `'Genre'` in `imdb`. `genre_specific(df, genre)` should return a DataFrame that:\n",
    "- Contains all of the movies in `df` of `'Genre'` `genre` **released in 2024**. Assume `genre` is a valid value in `df['Genre']`.\n",
    "- Is sorted in descending order of `'IMDb Rating'`, with ties broken by `'MetaScore'` in descending order. Assume no two movies have both the same `'IMDb Rating'` and the same `'MetaScore'`. (There are a few cases where this happens, but you won't be tested on them in the hidden test cases.)\n",
    "- Is indexed by `'Title'`, and only has two columns: `'IMDb Rating'` and `'MetaScore'`.\n",
    "\n",
    "Example behavior is given below.\n",
    "\n",
    "```python\n",
    ">>> genre_specific(imdb, 'Horror')\n",
    "```\n",
    "\n",
    "<div style=\"text-align: left;\">\n",
    "  <table border=\"1\" class=\"dataframe\">\n",
    "    <thead>\n",
    "      <tr>\n",
    "        <th style=\"text-align: left;\"></th>\n",
    "        <th style=\"text-align: left;\">IMDb Rating</th>\n",
    "        <th style=\"text-align: left;\">MetaScore</th>\n",
    "      </tr>\n",
    "      <tr>\n",
    "        <th>Title</th>\n",
    "        <th></th>\n",
    "        <th></th>\n",
    "      </tr>\n",
    "    </thead>\n",
    "    <tbody>\n",
    "      <tr>\n",
    "        <th>Alien: Romulus</th>\n",
    "        <td>7.1</td>\n",
    "        <td>66.9</td>\n",
    "      </tr>\n",
    "      <tr>\n",
    "        <th>Exhuma</th>\n",
    "        <td>7.0</td>\n",
    "        <td>66.9</td>\n",
    "      </tr>\n",
    "      <tr>\n",
    "        <th>The First Omen</th>\n",
    "        <td>6.7</td>\n",
    "        <td>65.0</td>\n",
    "      </tr>\n",
    "      <tr>\n",
    "        <th>Abigail</th>\n",
    "        <td>6.7</td>\n",
    "        <td>62.0</td>\n",
    "      </tr>\n",
    "      <tr>\n",
    "        <th>Immaculate</th>\n",
    "        <td>5.8</td>\n",
    "        <td>57.0</td>\n",
    "      </tr>\n",
    "      <tr>\n",
    "        <th>Sting</th>\n",
    "        <td>5.7</td>\n",
    "        <td>57.0</td>\n",
    "      </tr>\n",
    "      <tr>\n",
    "        <th>The Strangers: Chapter 1</th>\n",
    "        <td>5.0</td>\n",
    "        <td>43.0</td>\n",
    "      </tr>\n",
    "      <tr>\n",
    "        <th>Tarot</th>\n",
    "        <td>4.9</td>\n",
    "        <td>36.0</td>\n",
    "      </tr>\n",
    "    </tbody>\n",
    "  </table>\n",
    "</div>\n"
   ]
  },
  {
   "cell_type": "code",
   "execution_count": null,
   "id": "a719e622",
   "metadata": {
    "tags": []
   },
   "outputs": [],
   "source": [
    "def genre_specific(df, genre):\n",
    "    ..."
   ]
  },
  {
   "cell_type": "code",
   "execution_count": null,
   "id": "b4b136ce",
   "metadata": {
    "deletable": false,
    "editable": false
   },
   "outputs": [],
   "source": [
    "grader.check(\"q08_3\")"
   ]
  },
  {
   "cell_type": "markdown",
   "id": "8b5e18cc",
   "metadata": {},
   "source": [
    "## Finish Line 🏁\n",
    "\n",
    "Congratulations! You're ready to submit Homework 2."
   ]
  },
  {
   "cell_type": "markdown",
   "id": "144beb17",
   "metadata": {},
   "source": [
    "To submit your homework:\n",
    "\n",
    "1. Select `Kernel -> Restart & Run All` to ensure that you have executed all cells, including the test cells.\n",
    "2. Read through the notebook to make sure everything is fine and all tests passed.\n",
    "3. Run the cell below to run all tests, and make sure that they all pass.\n",
    "4. Download your notebook using `File -> Download as -> Notebook (.ipynb)`, then upload your notebook to Gradescope under \"Homework 2\".\n",
    "5. Stick around while the Gradescope autograder grades your work. Make sure you see that all **public tests** have passed on Gradescope. **Remember that homeworks have hidden tests, which you will not see your scores on until a few days after the deadline!**\n",
    "6. Check that you have a confirmation email from Gradescope and save it as proof of your submission."
   ]
  },
  {
   "cell_type": "markdown",
   "id": "bf07ce6d",
   "metadata": {
    "deletable": false,
    "editable": false
   },
   "source": [
    "---\n",
    "\n",
    "To double-check your work, the cell below will rerun all of the autograder tests."
   ]
  },
  {
   "cell_type": "code",
   "execution_count": null,
   "id": "683c33be",
   "metadata": {
    "deletable": false,
    "editable": false
   },
   "outputs": [],
   "source": [
    "grader.check_all()"
   ]
  }
 ],
 "metadata": {
  "kernelspec": {
   "display_name": "Python 3 (ipykernel)",
   "language": "python",
   "name": "python3"
  },
  "language_info": {
   "codemirror_mode": {
    "name": "ipython",
    "version": 3
   },
   "file_extension": ".py",
   "mimetype": "text/x-python",
   "name": "python",
   "nbconvert_exporter": "python",
   "pygments_lexer": "ipython3",
   "version": "3.10.14"
  },
  "otter": {
   "tests": {
    "q01": {
     "name": "q01",
     "points": 4,
     "suites": [
      {
       "cases": [
        {
         "code": ">>> callable(create_adjacency) and isinstance(create_adjacency(example_net), np.ndarray)\nTrue",
         "hidden": false,
         "locked": false
        },
        {
         "code": ">>> example_net_output = create_adjacency(example_net)\n>>> example_net_output.shape == (4, 4) and np.allclose(example_net_output, A)\nTrue",
         "hidden": false,
         "locked": false
        },
        {
         "code": ">>> public_test_net = {1: [2, 3], 2: [1, 3], 3: [1, 2]}\n>>> public_test_net_output = create_adjacency(public_test_net)\n>>> public_test_net_output.shape == (3, 3) and np.allclose(public_test_net_output, np.array([[0, 0.5, 0.5], [0.5, 0, 0.5], [0.5, 0.5, 0]]))\nTrue",
         "hidden": false,
         "locked": false
        }
       ],
       "scored": true,
       "setup": "",
       "teardown": "",
       "type": "doctest"
      }
     ]
    },
    "q02_1": {
     "name": "q02_1",
     "points": 2,
     "suites": [
      {
       "cases": [
        {
         "code": ">>> callable(compute_scores) and isinstance(compute_scores(A), np.ndarray)\nTrue",
         "hidden": false,
         "locked": false
        },
        {
         "code": ">>> np.allclose(compute_scores(A), np.array([0.30769231, 0.38461538, 0.07692308, 0.23076923]))\nTrue",
         "hidden": false,
         "locked": false
        }
       ],
       "scored": true,
       "setup": "",
       "teardown": "",
       "type": "doctest"
      }
     ]
    },
    "q02_2": {
     "name": "q02_2",
     "points": 2,
     "suites": [
      {
       "cases": [
        {
         "code": ">>> callable(pagerank) and isinstance(pagerank(A), list)\nTrue",
         "hidden": false,
         "locked": false
        },
        {
         "code": ">>> np.allclose(pagerank(A), [2, 1, 4, 3])\nTrue",
         "hidden": false,
         "locked": false
        }
       ],
       "scored": true,
       "setup": "",
       "teardown": "",
       "type": "doctest"
      }
     ]
    },
    "q04": {
     "name": "q04",
     "points": 5,
     "suites": [
      {
       "cases": [
        {
         "code": ">>> callable(prob_at_least_k_same_suit) and isinstance(prob_at_least_k_same_suit(4), float)\nTrue",
         "hidden": false,
         "locked": false
        },
        {
         "code": ">>> call_one = prob_at_least_k_same_suit(4)\n>>> call_two = prob_at_least_k_same_suit(4)\n>>> call_one != call_two\nTrue",
         "failure_message": "Make sure your function doesn't just return the same value every time!",
         "hidden": false,
         "locked": false
        },
        {
         "code": ">>> 0.022 <= prob_at_least_k_same_suit(4) <= 0.029\nTrue",
         "failure_message": "Failing this but think you did your simulation correctly? Check your replacement strategy.",
         "hidden": false,
         "locked": false
        }
       ],
       "scored": true,
       "setup": "",
       "teardown": "",
       "type": "doctest"
      }
     ]
    },
    "q05": {
     "name": "q05",
     "points": 5,
     "suites": [
      {
       "cases": [
        {
         "code": ">>> callable(prob_all_one_jack) and isinstance(prob_all_one_jack(), float)\nTrue",
         "hidden": false,
         "locked": false
        },
        {
         "code": ">>> call_one = prob_all_one_jack()\n>>> call_two = prob_all_one_jack()\n>>> call_one != call_two\nTrue",
         "failure_message": "Make sure your function doesn't just return the same value every time!",
         "hidden": false,
         "locked": false
        }
       ],
       "scored": true,
       "setup": "",
       "teardown": "",
       "type": "doctest"
      }
     ]
    },
    "q06_1": {
     "name": "q06_1",
     "points": 1,
     "suites": [
      {
       "cases": [
        {
         "code": ">>> (isinstance(highest_rating_ever, float) or isinstance(highest_rating_ever, np.float64)) and highest_rating_ever in list(imdb['IMDb Rating'])\nTrue",
         "hidden": false,
         "locked": false
        }
       ],
       "scored": true,
       "setup": "",
       "teardown": "",
       "type": "doctest"
      }
     ]
    },
    "q06_2": {
     "name": "q06_2",
     "points": 2,
     "suites": [
      {
       "cases": [
        {
         "code": ">>> isinstance(movie_with_highest_rating_ever, str) and movie_with_highest_rating_ever in list(imdb['Title'])\nTrue",
         "hidden": false,
         "locked": false
        }
       ],
       "scored": true,
       "setup": "",
       "teardown": "",
       "type": "doctest"
      }
     ]
    },
    "q06_3": {
     "name": "q06_3",
     "points": 1,
     "suites": [
      {
       "cases": [
        {
         "code": ">>> (isinstance(num_comedy, int) or isinstance(num_comedy, np.int64)) and num_comedy < imdb.shape[0]\nTrue",
         "hidden": false,
         "locked": false
        }
       ],
       "scored": true,
       "setup": "",
       "teardown": "",
       "type": "doctest"
      }
     ]
    },
    "q06_4": {
     "name": "q06_4",
     "points": 2,
     "suites": [
      {
       "cases": [
        {
         "code": ">>> isinstance(most_common_genre_2024, str) and most_common_genre_2024 in list(imdb['Genre'])\nTrue",
         "hidden": false,
         "locked": false
        }
       ],
       "scored": true,
       "setup": "",
       "teardown": "",
       "type": "doctest"
      }
     ]
    },
    "q06_5": {
     "name": "q06_5",
     "points": 3,
     "suites": [
      {
       "cases": [
        {
         "code": ">>> (isinstance(prop_big_directors, float) or isinstance(prop_big_directors, np.float64)) and 0 < prop_big_directors < 1\nTrue",
         "hidden": false,
         "locked": false
        }
       ],
       "scored": true,
       "setup": "",
       "teardown": "",
       "type": "doctest"
      }
     ]
    },
    "q06_7": {
     "name": "q06_7",
     "points": 4,
     "suites": [
      {
       "cases": [
        {
         "code": ">>> (isinstance(num_hours_family_friendly, float) or isinstance(num_hours_family_friendly, np.float64)) and num_hours_family_friendly < 48\nTrue",
         "hidden": false,
         "locked": false
        }
       ],
       "scored": true,
       "setup": "",
       "teardown": "",
       "type": "doctest"
      }
     ]
    },
    "q07_1": {
     "name": "q07_1",
     "points": 5,
     "suites": [
      {
       "cases": [
        {
         "code": ">>> callable(extract_names) and isinstance(extract_names('Makoto ShinkaiClark Cheng'), list)\nTrue",
         "hidden": false,
         "locked": false
        },
        {
         "code": ">>> extract_names('Makoto ShinkaiClark Cheng') == ['Makoto Shinkai', 'Clark Cheng']\nTrue",
         "hidden": false,
         "locked": false
        },
        {
         "code": ">>> extract_names('Anya Taylor-JoyChris HemsworthTom Burke') == ['Anya Taylor-Joy', 'Chris Hemsworth', 'Tom Burke']\nTrue",
         "hidden": false,
         "locked": false
        }
       ],
       "scored": true,
       "setup": "",
       "teardown": "",
       "type": "doctest"
      }
     ]
    },
    "q07_2": {
     "name": "q07_2",
     "points": 2,
     "suites": [
      {
       "cases": [
        {
         "code": ">>> callable(most_common) and isinstance(most_common(pd.Series([1, 2, 2])), list)\nTrue",
         "hidden": false,
         "locked": false
        },
        {
         "code": ">>> most_common(pd.Series([1, 2, 2])) == [2]\nTrue",
         "hidden": false,
         "locked": false
        },
        {
         "code": ">>> most_common(pd.Series([1, 2])) == [1, 2] or most_common(pd.Series([1, 2])) == [2, 1]\nTrue",
         "hidden": false,
         "locked": false
        }
       ],
       "scored": true,
       "setup": "",
       "teardown": "",
       "type": "doctest"
      }
     ]
    },
    "q07_6": {
     "name": "q07_6",
     "points": 2,
     "suites": [
      {
       "cases": [
        {
         "code": ">>> (isinstance(average_harry_potter, float) or isinstance(average_harry_potter, np.float64)) and 3.9 < average_harry_potter < 9.2\nTrue",
         "hidden": false,
         "locked": false
        }
       ],
       "scored": true,
       "setup": "",
       "teardown": "",
       "type": "doctest"
      }
     ]
    },
    "q08_1": {
     "name": "q08_1",
     "points": 3,
     "suites": [
      {
       "cases": [
        {
         "code": ">>> callable(longest_title) and isinstance(longest_title(imdb.head(5)), str)\nTrue",
         "hidden": false,
         "locked": false
        },
        {
         "code": ">>> longest_title(imdb.head(5)) == '10 Things I Hate About You'\nTrue",
         "hidden": false,
         "locked": false
        },
        {
         "code": ">>> longest_title(imdb.tail(5)) == \"You Can't Run Forever\"\nTrue",
         "hidden": false,
         "locked": false
        }
       ],
       "scored": true,
       "setup": "",
       "teardown": "",
       "type": "doctest"
      }
     ]
    },
    "q08_2": {
     "name": "q08_2",
     "points": 3,
     "suites": [
      {
       "cases": [
        {
         "code": ">>> callable(metascore_to_rating_outlier) and isinstance(metascore_to_rating_outlier(imdb.head(5)), str)\nTrue",
         "hidden": false,
         "locked": false
        },
        {
         "code": ">>> metascore_to_rating_outlier(imdb.head(5)) == 'A Quiet Place'\nTrue",
         "hidden": false,
         "locked": false
        },
        {
         "code": ">>> metascore_to_rating_outlier(imdb.iloc[15:25]) == 'Barbie'\nTrue",
         "hidden": false,
         "locked": false
        }
       ],
       "scored": true,
       "setup": "",
       "teardown": "",
       "type": "doctest"
      }
     ]
    },
    "q08_3": {
     "name": "q08_3",
     "points": 3,
     "suites": [
      {
       "cases": [
        {
         "code": ">>> callable(genre_specific) and isinstance(genre_specific(imdb, 'Horror'), pd.DataFrame)\nTrue",
         "hidden": false,
         "locked": false
        },
        {
         "code": ">>> horror_output = genre_specific(imdb, 'Horror')\n>>> horror_output.shape == (8, 2)\nTrue",
         "hidden": false,
         "locked": false
        },
        {
         "code": ">>> horror_output = genre_specific(imdb, 'Horror')\n>>> np.all(horror_output.index == ['Alien: Romulus', 'Exhuma', 'The First Omen', 'Abigail', 'Immaculate', 'Sting', 'The Strangers: Chapter 1', 'Tarot'])\nTrue",
         "hidden": false,
         "locked": false
        }
       ],
       "scored": true,
       "setup": "",
       "teardown": "",
       "type": "doctest"
      }
     ]
    }
   }
  }
 },
 "nbformat": 4,
 "nbformat_minor": 5
}
