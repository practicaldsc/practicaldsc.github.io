{
 "cells": [
  {
   "cell_type": "code",
   "execution_count": null,
   "id": "bb45b9e7",
   "metadata": {
    "deletable": false,
    "editable": false
   },
   "outputs": [],
   "source": [
    "# Initialize Otter\n",
    "import otter\n",
    "grader = otter.Notebook(\"hw06.ipynb\")"
   ]
  },
  {
   "cell_type": "markdown",
   "id": "528a768e",
   "metadata": {},
   "source": [
    "<div class=\"alert alert-success\" markdown=\"1\">\n",
    "\n",
    "#### Homework 6\n",
    "\n",
    "# SQL, Regular Expressions, and GPTEECS\n",
    "\n",
    "### EECS 398-003: Practical Data Science, Fall 2024\n",
    "\n",
    "#### Due Thursday, October 17th at 11:59PM (due in **two** weeks)\n",
    "    \n",
    "</div>"
   ]
  },
  {
   "cell_type": "markdown",
   "id": "4008d33c",
   "metadata": {},
   "source": [
    "## Instructions\n",
    "\n",
    "Welcome to Homework 6! In this homework, you will practice writing SQL queries, use regular expressions to extract meaning out of messy text data, and apply your knowledge of cosine similarity and TF-IDF to implement a supercharged ChatGPT-like bot. See the [Readings section of the Resources tab on the course website](https://practicaldsc.org/resources/#readings) for supplemental resources.\n",
    "\n",
    "You are given six slip days throughout the semester to extend deadlines. See the [Syllabus](https://practicaldsc.org/syllabus) for more details. With the exception of using slip days, late work will not be accepted unless you have made special arrangements with your instructor.\n",
    "\n",
    "To access this notebook, you'll need to clone our [public GitHub repository](https://github.com/practicaldsc/fa24/). The [⚙️ Environment Setup](https://practicaldsc.org/env-setup) page on the course website walks you through the necessary steps. Once you're done, you'll submit your completed notebook to Gradescope.\n",
    "\n",
    "Please start early and submit often. You can submit as many times as you'd like to Gradescope, and we'll grade your **most recent** submission.\n",
    "\n",
    "<div class=\"alert alert-success\" markdown=\"1\">\n",
    "Unlike other homeworks, Homework 6 <b>has no hidden tests</b>, because of its proximity to the Midterm Exam. This means the tests you see in your notebook are the exact same as the ones that will be used to grade your work on Gradescope. When you submit on Gradescope, you'll see your score shortly after you submit, once the autograder finishes running.\n",
    "<br><br>\n",
    "<b>Even though Homework 6 is due after the Midterm Exam, you should work on it before, since everything in the homework is in scope for the exam!</b> In particular, we recommend working on Questions 1-3 before the exam, because they provide core practice with SQL and regular expressions, both of which will appear on the exam. Question 4 is more \"applied\", and while cosine similarity, bag of words, and TF-IDF will appear on the exam, the best way to practice with those ideas is by working on relevant old exam problems at the <a href=\"https://study.practicaldsc.org\"><b>study site</b></a>.\n",
    "</div>\n",
    "\n",
    "If you do fail a test in your notebook, look for a brief failure message that describes the error.\n",
    "\n",
    "This homework is worth a total of **56 points**, all of which come from the autograder. The number of points each question is worth is listed at the start of each question. **The four questions in the assignment are independent, so feel free to move around if you get stuck**. Tip: if you're using Jupyter Lab, you can see a Table of Contents for the notebook by going to View > Table of Contents.\n",
    "\n",
    "<!-- <a name='like-dataframe'>\n",
    "\n",
    "</a>\n",
    "\n",
    "<div class=\"alert alert-warning\" markdown=\"1\">\n",
    "    \n",
    "**Note**: Throughout this homework, you'll see statements like this frequently:\n",
    "\n",
    "<blockquote>Complete the implementation of the function ____, which takes in a DataFrame <code>df</code> like <code>other_df</code> and _____.</blockquote>\n",
    "\n",
    "What this means is that you should assume that `df` has the same number of columns as `other_df`, with the same column titles and data types, but potentially a different number of rows in a different order, with a potentially different index. You should always also assume that `df` has at least one row.\n",
    "\n",
    "We have you implement functions like this to prevent you from hard-coding your answers to one specific dataset.\n",
    "\n",
    "</div>\n",
    " -->\n",
    " \n",
    "<div class=\"alert alert-danger\" markdown=\"1\">\n",
    "<tt>for</tt>-loops are <strong>allowed</strong> throughout this entire homework.\n",
    "\n",
    "</div>"
   ]
  },
  {
   "cell_type": "markdown",
   "id": "77719143",
   "metadata": {},
   "source": [
    "To get started, run the **two** cells below, plus the cell at the top of the notebook that imports and initializes `otter`. The cell below installs a few new packages that weren't included in the `pds` conda environment that we'll need throughout the assignment."
   ]
  },
  {
   "cell_type": "code",
   "execution_count": null,
   "id": "85994216",
   "metadata": {},
   "outputs": [],
   "source": [
    "!pip install duckdb\n",
    "!pip install groq"
   ]
  },
  {
   "cell_type": "code",
   "execution_count": null,
   "id": "e17e5222",
   "metadata": {},
   "outputs": [],
   "source": [
    "import duckdb\n",
    "import pandas as pd\n",
    "import numpy as np\n",
    "import os\n",
    "import re\n",
    "import groq\n",
    "from IPython.display import Markdown"
   ]
  },
  {
   "cell_type": "markdown",
   "id": "25786e43",
   "metadata": {},
   "source": [
    "## Question 1: LoansQL 💵\n",
    "\n",
    "---\n",
    "\n",
    "In this question, you'll practice writing SQL queries involving the LendingClub loans dataset from [Lecture 7](https://practicaldsc.org/resources/lectures/lec07/lec07-filled.html) and Homework 4. Run the cell below to load in our dataset as the DataFrame `loans` and clean it using the same steps from lecture."
   ]
  },
  {
   "cell_type": "code",
   "execution_count": null,
   "id": "24fb367c",
   "metadata": {},
   "outputs": [],
   "source": [
    "def clean_term_column(df):\n",
    "    return df.assign(\n",
    "        term=df['term'].str.split().str[0].astype(int)\n",
    "    )\n",
    "\n",
    "def clean_date_column(df):\n",
    "    return (\n",
    "        df\n",
    "        .assign(date=pd.to_datetime(df['issue_d'], format='%b-%Y'))\n",
    "        .drop(columns=['issue_d'])\n",
    "    )\n",
    "\n",
    "loans = (\n",
    "    pd.read_csv('data/loans.csv')\n",
    "    .pipe(clean_term_column)\n",
    "    .pipe(clean_date_column)\n",
    ")\n",
    "\n",
    "loans"
   ]
  },
  {
   "cell_type": "markdown",
   "id": "687f6403",
   "metadata": {},
   "source": [
    "As we did in [Lecture 10](https://practicaldsc.org/resources/lectures/lec10/lec10-filled.html#SQL), we will use the Python module `duckdb` to execute SQL queries within our Jupyter Notebook. We've included code to install and import `duckdb` at the top of this notebook.\n",
    "\n",
    "Specifically, we will use the `run_sql` function we defined in lecture.\n",
    "- `run_sql` takes in a string containing a SQL query.\n",
    "- `run_sql` outputs the result of running the query, treating all DataFrames mentioned in the query as if they were SQL tables. The result it outputs (here) is a **DataFrame**."
   ]
  },
  {
   "cell_type": "code",
   "execution_count": null,
   "id": "328ef5f8",
   "metadata": {},
   "outputs": [],
   "source": [
    "def run_sql(query_str):\n",
    "    if query_str == ... or query_str.strip() == '':\n",
    "        raise NotImplementedError('The input passed to run_sql is empty. Update it to include your query.')\n",
    "    out = duckdb.query(query_str)\n",
    "    return out.to_df()"
   ]
  },
  {
   "cell_type": "markdown",
   "id": "896cd265",
   "metadata": {},
   "source": [
    "For example, the following call to `run_sql` references `loans`, a DataFrame already defined in our notebook. It returns a new DataFrame (and doesn't modify the original `loans` DataFrame)."
   ]
  },
  {
   "cell_type": "code",
   "execution_count": null,
   "id": "5668617d",
   "metadata": {},
   "outputs": [],
   "source": [
    "run_sql('''\n",
    "SELECT * FROM loans\n",
    "WHERE term = 60 AND loan_amnt > 20000\n",
    "''')"
   ]
  },
  {
   "cell_type": "markdown",
   "id": "db6b8f4a",
   "metadata": {},
   "source": [
    "The above query happens to be equivalent to the following:"
   ]
  },
  {
   "cell_type": "code",
   "execution_count": null,
   "id": "45723a1a",
   "metadata": {},
   "outputs": [],
   "source": [
    "loans[(loans['term'] == 60) & (loans['loan_amnt'] > 20000)]"
   ]
  },
  {
   "cell_type": "markdown",
   "id": "4db673b1",
   "metadata": {},
   "source": [
    "All of the questions below will ask you to assign your answer to a **string**. To test your code, we will call `run_sql` on the string that you define, and make sure the resulting DataFrame has the right properties. We suggest you use multi-line strings (defined by `'''` triple quotes `'''`) like in the example call to `run_sql` above.\n",
    "\n",
    "Most of the syntax you need to answer the queries here was covered in Lecture 10. The chart at the start of the [SQL section of Lecture 10](https://practicaldsc.org/resources/lectures/lec10/lec10-filled.html#SQL) contains a nice summary of the necessary keywords."
   ]
  },
  {
   "cell_type": "markdown",
   "id": "09fab172",
   "metadata": {},
   "source": [
    "### Question 1.1 <div style=\"display:inline-block; vertical-align: middle; padding:7px 7px; font-size:10px; font-weight:light; color:white; background-color:#e84c4a; border-radius:7px; text-align:left;\">2 Points</div>\n",
    "\n",
    "Assign `query_1` to a string containing a SQL query that finds **the total (sum) of all loan amounts for each loan purpose, only among loans given in Michigan (`'MI'`)**. The DataFrame that results from calling `run_sql(query_1)` should have two columns, **`'purpose'`** and **`'total_loans'`**, and should be sorted in **descending order** of `'total_loans'`."
   ]
  },
  {
   "cell_type": "code",
   "execution_count": null,
   "id": "f2119228",
   "metadata": {
    "tags": []
   },
   "outputs": [],
   "source": [
    "query_1 = '''\n",
    "...\n",
    "'''\n",
    "run_sql(query_1)"
   ]
  },
  {
   "cell_type": "code",
   "execution_count": null,
   "id": "908df34c",
   "metadata": {
    "deletable": false,
    "editable": false
   },
   "outputs": [],
   "source": [
    "grader.check(\"q01_01\")"
   ]
  },
  {
   "cell_type": "markdown",
   "id": "a7dfca59",
   "metadata": {},
   "source": [
    "### Question 1.2 <div style=\"display:inline-block; vertical-align: middle; padding:7px 7px; font-size:10px; font-weight:light; color:white; background-color:#e84c4a; border-radius:7px; text-align:left;\">2 Points</div>\n",
    "\n",
    "Assign `query_2` to a string containing a SQL query that finds **the average credit score per state, among states _having_ at least 150 loans**. The DataFrame that results from calling `run_sql(query_2)` should have two columns, **`'state'`** and **`'average_credit'`**, and should be sorted in **increasing order** of `'average_credit'`.\n",
    "\n",
    "Some guidance:\n",
    "- Extract credit scores from the `'fico_range_low'` column in `loans`.\n",
    "- One of the SQL keywords you need to use was _italicized_ in the first sentence above."
   ]
  },
  {
   "cell_type": "code",
   "execution_count": null,
   "id": "94087ae5",
   "metadata": {
    "tags": []
   },
   "outputs": [],
   "source": [
    "query_2 = '''\n",
    "...\n",
    "'''\n",
    "run_sql(query_2)"
   ]
  },
  {
   "cell_type": "code",
   "execution_count": null,
   "id": "e342202f",
   "metadata": {
    "deletable": false,
    "editable": false
   },
   "outputs": [],
   "source": [
    "grader.check(\"q01_02\")"
   ]
  },
  {
   "cell_type": "markdown",
   "id": "ae32230a",
   "metadata": {},
   "source": [
    "### Question 1.3 <div style=\"display:inline-block; vertical-align: middle; padding:7px 7px; font-size:10px; font-weight:light; color:white; background-color:#e84c4a; border-radius:7px; text-align:left;\">2 Points</div>\n",
    "\n",
    "The LendingClub uses **simple interest** to calculate loan payments. Using simple interest, the total amount due for a loan is:\n",
    "\n",
    "$$\\text{Total Amount Due} = \\text{Loan Amount} \\cdot \\left(1 + (\\text{Interest Rate} \\cdot \\text{Loan Length in Years}) \\right)$$\n",
    "\n",
    "For example, a loan for \\\\$10,000 at an interest rate of 15% for 5 years would pay a total amount of \\\\$17,500:\n",
    "\n",
    "$$10000 \\cdot (1 + 0.15 \\cdot 5) = 17500$$\n",
    "\n",
    "Since there are 60 months in 5 years, this lendee would pay $\\frac{\\$17,500}{60} = \\$291.67$ per month for 60 months. **Note that the percentage 15% is equivalent to the decimal 0.15.**\n",
    "\n",
    "More generally:\n",
    "\n",
    "$$\\text{Monthly Payments} = \\frac{\\text{Total Amount Due}}{\\text{Loan Length in Months}} = \\frac{\\text{Loan Amount} \\cdot \\left(1 + (\\text{Interest Rate} \\cdot \\text{Loan Length in Years}) \\right)}{\\text{Loan Length in Months}}$$\n",
    "\n",
    "Assign `query_3` to a string containing a SQL query that finds **loan amount, term, interest rate, and monthly payment amount of the single loanholder with the highest monthly payments**. The DataFrame that results from calling `run_sql(query_3)` should have four columns, `'amount'`, `'term'`, `'interest'`, and `'monthly'`, and should only have a **single row**."
   ]
  },
  {
   "cell_type": "code",
   "execution_count": null,
   "id": "df307092",
   "metadata": {
    "tags": []
   },
   "outputs": [],
   "source": [
    "query_3 = '''\n",
    "...\n",
    "'''\n",
    "run_sql(query_3)"
   ]
  },
  {
   "cell_type": "code",
   "execution_count": null,
   "id": "a82806af",
   "metadata": {
    "deletable": false,
    "editable": false
   },
   "outputs": [],
   "source": [
    "grader.check(\"q01_03\")"
   ]
  },
  {
   "attachments": {},
   "cell_type": "markdown",
   "id": "9c20d2bf",
   "metadata": {
    "tags": []
   },
   "source": [
    "## Question 2: Practice with Regular Expressions 📕\n",
    "\n",
    "---\n",
    "\n",
    "Regular expressions can be tricky, and the best way to gain familiarity with them is through lots of practice.\n",
    "\n",
    "In this question, you will work through 10 parts, **each of which requires you to write a regular expression that matches strings that satisfy certain criteria**. You will do this by – as usual – completing the implementation of a function. In Questions 2.1 through 2.9, your function will take in a string and return `True` if the string follows the pattern and `False` otherwise.\n",
    "\n",
    "- Make sure to take a close look at the examples for each function, as they provide useful guidance for the types of strings you should and shouldn't match.\n",
    "- Make sure to refer to the [Regular Expression Resources](https://practicaldsc.org/resources/#regular-expressions) on the course website. In particular, we recommend having [regex101.com](https://regex101.com/) open while working, along with the [cheat sheet](https://practicaldsc.org/resources/other/berkeley-regex-reference.pdf).\n",
    "- The number of points each part is worth tells you its relative difficulty level – some are worth <div style=\"display:inline-block; vertical-align: middle; padding:7px 7px; font-size:10px; font-weight:light; color:white; background-color:#e84c4a; border-radius:7px; text-align:left;\">2 Points</div> and some are worth <div style=\"display:inline-block; vertical-align: middle; padding:7px 7px; font-size:10px; font-weight:light; color:white; background-color:#e84c4a; border-radius:7px; text-align:left;\">3 Points</div>. If you're spending lots of time on exercises worth <div style=\"display:inline-block; vertical-align: middle; padding:7px 7px; font-size:10px; font-weight:light; color:white; background-color:#e84c4a; border-radius:7px; text-align:left;\">2 Points</div>, take a close look at the syntax from [Lecture 9](https://practicaldsc.org/resources/lectures/lec09/lec09-filled.html), as there is probably an easier way of writing the necessary pattern!\n",
    "- The 10 parts are all independent, and are **not** sorted by difficulty – some of the easiest parts are in the middle or towards the end!"
   ]
  },
  {
   "cell_type": "markdown",
   "id": "065c71b3",
   "metadata": {},
   "source": [
    "### Question 2.1  <div style=\"display:inline-block; vertical-align: middle; padding:7px 7px; font-size:10px; font-weight:light; color:white; background-color:#e84c4a; border-radius:7px; text-align:left;\">2 Points</div>\n",
    "\n",
    "Write a regular expression that matches strings that have `'['` as the third character and `']'` as the sixth character. Example behavior is given below.\n",
    "\n",
    "```python\n",
    ">>> match_1(\"abcde]\")\n",
    "False\n",
    "\n",
    ">>> match_1(\"ab[cde\")\n",
    "False\n",
    "\n",
    ">>> match_1(\"ab[cd]ef\")\n",
    "True\n",
    "```"
   ]
  },
  {
   "cell_type": "code",
   "execution_count": null,
   "id": "97bccd6e",
   "metadata": {
    "tags": []
   },
   "outputs": [],
   "source": [
    "def match_1(string):\n",
    "    pattern = ...\n",
    "\n",
    "    # Do not edit the following code.\n",
    "    return re.findall(pattern, string) != []"
   ]
  },
  {
   "cell_type": "code",
   "execution_count": null,
   "id": "2951570a",
   "metadata": {
    "deletable": false,
    "editable": false
   },
   "outputs": [],
   "source": [
    "grader.check(\"q02_01\")"
   ]
  },
  {
   "cell_type": "markdown",
   "id": "a68a2344",
   "metadata": {},
   "source": [
    "### Question 2.2 <div style=\"display:inline-block; vertical-align: middle; padding:7px 7px; font-size:10px; font-weight:light; color:white; background-color:#e84c4a; border-radius:7px; text-align:left;\">2 Points</div>\n",
    "\n",
    "Write a regular expression that matches strings that are phone numbers that start with `'(734)'` and follow the format `'(xxx) xxx-xxxx'` (`'x'` represents a digit). Example behavior is given below.\n",
    "\n",
    "```python\n",
    ">>> match_2(\"(734) 456-7890\")\n",
    "True\n",
    "\n",
    ">>> match_2(\"(123) 456-7890\")\n",
    "False\n",
    "\n",
    ">>> match_2(\"(734) 456-7890b\")\n",
    "False\n",
    "```\n",
    "\n",
    "Note that there is a space between `'(xxx)'` and `'xxx-xxxx'`!"
   ]
  },
  {
   "cell_type": "code",
   "execution_count": null,
   "id": "764039e9",
   "metadata": {
    "tags": []
   },
   "outputs": [],
   "source": [
    "def match_2(string):\n",
    "    pattern = ...\n",
    "\n",
    "    # Do not edit the following code.\n",
    "    return re.findall(pattern, string) != []"
   ]
  },
  {
   "cell_type": "code",
   "execution_count": null,
   "id": "fad35c53",
   "metadata": {
    "deletable": false,
    "editable": false
   },
   "outputs": [],
   "source": [
    "grader.check(\"q02_02\")"
   ]
  },
  {
   "cell_type": "markdown",
   "id": "271f53e6",
   "metadata": {},
   "source": [
    "### Question 2.3 <div style=\"display:inline-block; vertical-align: middle; padding:7px 7px; font-size:10px; font-weight:light; color:white; background-color:#e84c4a; border-radius:7px; text-align:left;\">2 Points</div>\n",
    "\n",
    "Write a regular expression that matches strings that:\n",
    "- are between 6 and 10 characters long (inclusive),\n",
    "- contain only alphanumeric characters, whitespace and `'?'`, and\n",
    "- end with `'?'`.\n",
    "\n",
    "Example behavior is given below.\n",
    "\n",
    "```python\n",
    ">>> match_3('qw?ertsd?')\n",
    "True\n",
    "\n",
    ">>> match_3(\"ab   c ?\")\n",
    "True\n",
    "\n",
    ">>> match_3(\" adf!qes ?\")\n",
    "False\n",
    "\n",
    ">>> match_3('wwwWW .? ')\n",
    "False\n",
    "```\n",
    "\n",
    "Note that `'?'` is a special character."
   ]
  },
  {
   "cell_type": "code",
   "execution_count": null,
   "id": "a844ca9d",
   "metadata": {
    "tags": []
   },
   "outputs": [],
   "source": [
    "def match_3(string):\n",
    "    pattern = ...\n",
    "\n",
    "    # Do not edit the following code.\n",
    "    return re.findall(pattern, string) != []"
   ]
  },
  {
   "cell_type": "code",
   "execution_count": null,
   "id": "d8091d14",
   "metadata": {
    "deletable": false,
    "editable": false
   },
   "outputs": [],
   "source": [
    "grader.check(\"q02_03\")"
   ]
  },
  {
   "cell_type": "markdown",
   "id": "31ab37af",
   "metadata": {},
   "source": [
    "### Question 2.4 <div style=\"display:inline-block; vertical-align: middle; padding:7px 7px; font-size:10px; font-weight:light; color:white; background-color:#e84c4a; border-radius:7px; text-align:left;\">3 Points</div>\n",
    "\n",
    "Write a regular expression that matches strings with exactly two `'$'`, one of which is at the start of the string, such that:\n",
    "- the characters between the two `'$'` can be anything (including nothing) except the lowercase letters `'a'`, `'b'`, and `'c'`, (and `'$'`), and\n",
    "- the characters after the second `'$'` can only be the **lowercase or uppercase** letters `'a'`/`'A'`, `'b'`/`'B'`, and `'c'`/`'C'`, with every `'a'`/`'A'` before every `'b'`/`'B'`, and every `'b'`/`'B'` before every `'c'`/`'C'`. There **must be** at least one `'a'` or `'A'`, at least one `'b'` or `'B'`, and at least one `'c'` or `'C'`.\n",
    "\n",
    "Example behavior is given below.\n",
    "\n",
    "```python\n",
    ">>> match_4(\"$!@#$aABc\")\n",
    "True\n",
    "\n",
    ">>> match_4('$qw!!  $aaBC')\n",
    "True\n",
    "\n",
    ">>> match_4('$a$aABc')\n",
    "False\n",
    "\n",
    ">>> match_4('$!@$')\n",
    "False\n",
    "```"
   ]
  },
  {
   "cell_type": "code",
   "execution_count": null,
   "id": "6719436c",
   "metadata": {
    "tags": []
   },
   "outputs": [],
   "source": [
    "def match_4(string):\n",
    "    pattern = ...\n",
    "\n",
    "    # Do not edit the following code.\n",
    "    return re.findall(pattern, string) != []"
   ]
  },
  {
   "cell_type": "code",
   "execution_count": null,
   "id": "4a846719",
   "metadata": {
    "deletable": false,
    "editable": false
   },
   "outputs": [],
   "source": [
    "grader.check(\"q02_04\")"
   ]
  },
  {
   "cell_type": "markdown",
   "id": "e4f341ad",
   "metadata": {
    "tags": []
   },
   "source": [
    "### Question 2.5 <div style=\"display:inline-block; vertical-align: middle; padding:7px 7px; font-size:10px; font-weight:light; color:white; background-color:#e84c4a; border-radius:7px; text-align:left;\">2 Points</div>\n",
    "\n",
    "Write a regular expression that matches strings that represent valid Python file names, including the extension. For simplicity, assume that file names only contain letters, numbers, and underscores. Example behavior is given below.\n",
    "\n",
    "```python\n",
    ">>> match_5(\"eecs398.py\")\n",
    "True\n",
    "\n",
    ">>> match_5('eecs398_.py')\n",
    "True\n",
    "\n",
    ">>> match_5(\"here is a Python file eecs398.py\")\n",
    "False\n",
    "\n",
    ">>> match_5(\"eecs398+.py\")\n",
    "False\n",
    "```"
   ]
  },
  {
   "cell_type": "code",
   "execution_count": null,
   "id": "f4bb640f",
   "metadata": {
    "tags": []
   },
   "outputs": [],
   "source": [
    "def match_5(string):\n",
    "    pattern = ...\n",
    "\n",
    "    # Do not edit the following code.\n",
    "    return re.findall(pattern, string) != []"
   ]
  },
  {
   "cell_type": "code",
   "execution_count": null,
   "id": "fe4e3cda",
   "metadata": {
    "deletable": false,
    "editable": false
   },
   "outputs": [],
   "source": [
    "grader.check(\"q02_05\")"
   ]
  },
  {
   "cell_type": "markdown",
   "id": "37362564",
   "metadata": {},
   "source": [
    "### Question 2.6 <div style=\"display:inline-block; vertical-align: middle; padding:7px 7px; font-size:10px; font-weight:light; color:white; background-color:#e84c4a; border-radius:7px; text-align:left;\">2 Points</div>\n",
    "\n",
    "Write a regular expression that matches strings that:\n",
    "- are made up of only lowercase letters and exactly one underscore (`'_'`), and\n",
    "- have at least one lowercase letter on both sides of the underscore.\n",
    "\n",
    "Example behavior is given below.\n",
    "\n",
    "```python\n",
    ">>> match_6(\"aab_cbbbc\")\n",
    "True\n",
    "\n",
    ">>> match_6(\"zebra_d\")\n",
    "True\n",
    "\n",
    ">>> match_6(\"aab_Abbbc\")\n",
    "False\n",
    "\n",
    ">>> match_6(\"zebra_\")\n",
    "False\n",
    "```"
   ]
  },
  {
   "cell_type": "code",
   "execution_count": null,
   "id": "e17cb09c",
   "metadata": {
    "tags": []
   },
   "outputs": [],
   "source": [
    "def match_6(string):\n",
    "    pattern = ...\n",
    "\n",
    "    # Do not edit the following code.\n",
    "    return re.findall(pattern, string) != []"
   ]
  },
  {
   "cell_type": "code",
   "execution_count": null,
   "id": "07765cca",
   "metadata": {
    "deletable": false,
    "editable": false
   },
   "outputs": [],
   "source": [
    "grader.check(\"q02_06\")"
   ]
  },
  {
   "cell_type": "markdown",
   "id": "d45bb3cd",
   "metadata": {},
   "source": [
    "### Question 2.7 <div style=\"display:inline-block; vertical-align: middle; padding:7px 7px; font-size:10px; font-weight:light; color:white; background-color:#e84c4a; border-radius:7px; text-align:left;\">2 Points</div>\n",
    "\n",
    "Write a regular expression that matches strings that start with and end with an underscore (`'_'`). Example behavior is given below.\n",
    "\n",
    "```python\n",
    ">>> match_7(\"_abc_\")\n",
    "True\n",
    "\n",
    ">>> match_7(\"_ZeBr@45Din000!!!\\b_\")\n",
    "True\n",
    "\n",
    ">>> match_7(\"abc\")\n",
    "False\n",
    "\n",
    ">>> match_7(\"_ncde\")\n",
    "False\n",
    "\n",
    ">>> match_7(\"_\") # Need at least two underscores!\n",
    "False\n",
    "```"
   ]
  },
  {
   "cell_type": "code",
   "execution_count": null,
   "id": "de481ab8",
   "metadata": {
    "tags": []
   },
   "outputs": [],
   "source": [
    "def match_7(string):\n",
    "    pattern = ...\n",
    "\n",
    "    # Do not edit the following code.\n",
    "    return re.findall(pattern, string) != []"
   ]
  },
  {
   "cell_type": "code",
   "execution_count": null,
   "id": "bbb2c220",
   "metadata": {
    "deletable": false,
    "editable": false
   },
   "outputs": [],
   "source": [
    "grader.check(\"q02_07\")"
   ]
  },
  {
   "cell_type": "markdown",
   "id": "8bb76fc2",
   "metadata": {},
   "source": [
    "### Question 2.8 <div style=\"display:inline-block; vertical-align: middle; padding:7px 7px; font-size:10px; font-weight:light; color:white; background-color:#e84c4a; border-radius:7px; text-align:left;\">2 Points</div>\n",
    "\n",
    "Apple serial numbers are strings of length 1 or more that are made up of any characters, other than\n",
    "- the uppercase letter `'O'`, \n",
    "- the lowercase letter `'i`', and \n",
    "- the number `'1'`.\n",
    "\n",
    "Write a regular expression that matches strings that are valid Apple serial numbers. Example behavior is given below.\n",
    "\n",
    "```python\n",
    ">>> match_8('ASDJKL9380JKAL')\n",
    "True\n",
    "\n",
    ">>> match_8(\"ASJDKLFK0ASDo!!!!!!! !!!!!!!!!\")\n",
    "True\n",
    "\n",
    ">>> match_8('iPhone 10')\n",
    "False\n",
    "\n",
    ">>> match_8(\"hi ASDJKL9380JKAL\")\n",
    "False\n",
    "```"
   ]
  },
  {
   "cell_type": "code",
   "execution_count": null,
   "id": "b873e01a",
   "metadata": {
    "tags": []
   },
   "outputs": [],
   "source": [
    "def match_8(string):\n",
    "    pattern = ...\n",
    "\n",
    "    # Do not edit the following code.\n",
    "    return re.findall(pattern, string) != []"
   ]
  },
  {
   "cell_type": "code",
   "execution_count": null,
   "id": "eed5fec6",
   "metadata": {
    "deletable": false,
    "editable": false
   },
   "outputs": [],
   "source": [
    "grader.check(\"q02_08\")"
   ]
  },
  {
   "cell_type": "markdown",
   "id": "37c726f5",
   "metadata": {},
   "source": [
    "### Question 2.9 <div style=\"display:inline-block; vertical-align: middle; padding:7px 7px; font-size:10px; font-weight:light; color:white; background-color:#e84c4a; border-radius:7px; text-align:left;\">3 Points</div>\n",
    "\n",
    "Suppose DataID numbers are formatted as `'SC-NN-CCC-NNNN'`, where \n",
    "- SC represents state code in uppercase (e.g. `'MI'`),\n",
    "- NN represents a number with 2 digits (e.g. `'98'`),\n",
    "- CCC represents a three letter city code in uppercase (e.g. `'DTW'`), and\n",
    "- NNNN represents a number with 4 digits (e.g. `'1998'`).\n",
    "\n",
    "Write a regular expression that matches strings that are DataID numbers corresponding to the cities of `'DTW'` (Detroit) or `'LAN'` (Lansing), or the state of `'TX'` (Texas). Assume that there is only one city named `'DTW'` and only one city named `'LAN'`.\n",
    "\n",
    "Example behavior is given below.\n",
    "\n",
    "```python\n",
    ">>> match_9('MI-32-LAN-1232')\n",
    "True\n",
    "\n",
    ">>> match_9('TX-32-DTW-1232')\n",
    "True\n",
    "\n",
    "# Lansing is not in California!\n",
    ">>> match_9('CA-32-LAN-1232')\n",
    "False\n",
    "\n",
    ">>> match_9('mI-32-LAN-1232')\n",
    "False\n",
    "```"
   ]
  },
  {
   "cell_type": "code",
   "execution_count": null,
   "id": "83e139a6",
   "metadata": {
    "tags": []
   },
   "outputs": [],
   "source": [
    "def match_9(string):\n",
    "    pattern = ...\n",
    "\n",
    "    # Do not edit the following code.\n",
    "    return re.findall(pattern, string) != []"
   ]
  },
  {
   "cell_type": "code",
   "execution_count": null,
   "id": "83f92ca3",
   "metadata": {
    "deletable": false,
    "editable": false
   },
   "outputs": [],
   "source": [
    "grader.check(\"q02_09\")"
   ]
  },
  {
   "cell_type": "markdown",
   "id": "f6cba24f",
   "metadata": {},
   "source": [
    "### Question 2.10 <div style=\"display:inline-block; vertical-align: middle; padding:7px 7px; font-size:10px; font-weight:light; color:white; background-color:#e84c4a; border-radius:7px; text-align:left;\">3 Points</div>\n",
    "\n",
    "In this final part, your task involves more than writing a single regular expression.\n",
    "\n",
    "Complete the implementation of the function `match_10`, which takes in a string (`string`) and:\n",
    "- converts the string to lowercase,\n",
    "- removes all non-alphanumeric characters (i.e. removes everything that is not in the `\\w` character class), and the letter `'a'`, and\n",
    "- returns a list of every **non-overlapping** three-character substring in the remaining string, starting from the beginning of the string.\n",
    "   \n",
    "Example behavior is given below.\n",
    "\n",
    "```python\n",
    ">>> match_10('Ab..DEF')\n",
    "['bde']\n",
    "\n",
    ">>> match_10('FINALS are COMING A')\n",
    "['fin', 'lsr', 'eco', 'min']\n",
    "\n",
    ">>> match_10('h9i9hOWW44areY@')\n",
    "['h9i', '9ho', 'ww4', '4re']\n",
    "```\n",
    "\n",
    "Here's how `match_10` should process `'Ab..DEF'`:\n",
    "\n",
    "1. Convert to lowercase: `'ab..def'`.\n",
    "2. Remove non-alphanumeric characters and the letter `'a'`: `'bdef'`.\n",
    "3. Starting from the beginning of the string, there is only a single non-overlapping three character substring: `'bde'`. Hence, we return `['bde']`.\n",
    "\n",
    "Some guidance: \n",
    "- Perform your operations in the exact order described above, otherwise your code may not pass all the tests.\n",
    "- Don't use a `for`-loop. You'll need to use `re.sub` in addition to `re.findall`."
   ]
  },
  {
   "cell_type": "code",
   "execution_count": null,
   "id": "5d5ea941",
   "metadata": {
    "tags": [
     "to-py"
    ]
   },
   "outputs": [],
   "source": [
    "def match_10(string):\n",
    "    ...\n",
    "\n",
    "# Feel free to change the input below to test out your implementation of match_10.\n",
    "match_10('FINALS are COMING A')"
   ]
  },
  {
   "cell_type": "code",
   "execution_count": null,
   "id": "3c3cc1d9",
   "metadata": {
    "deletable": false,
    "editable": false
   },
   "outputs": [],
   "source": [
    "grader.check(\"q02_10\")"
   ]
  },
  {
   "cell_type": "markdown",
   "id": "a48857db",
   "metadata": {
    "tags": []
   },
   "source": [
    "## Question 3: Capture Groups 📡\n",
    "\n",
    "---\n",
    "\n",
    "The dataset stored in `data/messy.txt` contains personal information from a fictional website that a user scraped from web server logs. Within this dataset, there are four fields that are of interest to you:\n",
    "1. Social Security Numbers\n",
    "1. Bitcoin Addresses\n",
    "1. Email Addresses \n",
    "1. Street Addresses\n",
    "\n",
    "Your job is to use `re.findall` to extract out the relevant pieces of information from `messy.txt`. **Since this data is very messy, your function will be allowed to miss ~5% of the records in each list. Good spot checking using certain useful substrings (e.g. `'@'` for emails) should help assure correctness!** As usual, your functions will be tested on a sample of the file `messy.txt`.\n",
    "\n",
    "Note that there are multiple \"delimiters\" (separators) in use in the file; there are few enough of them that you can safely determine what they are. **Before attempting any of the parts here, open `data/messy.txt` in your favorite text editor and explore!**"
   ]
  },
  {
   "cell_type": "markdown",
   "id": "4944f2d3",
   "metadata": {
    "tags": []
   },
   "source": [
    "### Question 3.1 <div style=\"display:inline-block; vertical-align: middle; padding:7px 7px; font-size:10px; font-weight:light; color:white; background-color:#e84c4a; border-radius:7px; text-align:left;\">2 Points</div>\n",
    "\n",
    "Complete the implementation of the function `extract_ssns`, which takes in a string (`string`) containing the contents of a server log file and returns the Social Security Numbers in the file as a list. Example behavior is given below.\n",
    "\n",
    "```python\n",
    ">>> extract_ssns('bitcoin:1BvBMSEYstWetqTFn5Au4m4GFg7xJaNVN2$jk%^3\\t,test@test55.umich.edu,lkj5r%ji|ssn:423-01-9575,530 High Street')\n",
    "['423-01-9575']\n",
    "\n",
    ">>> out = extract_ssns(open('data/messy.txt', encoding='utf8').read())\n",
    ">>> out[0]\n",
    "'380-09-9403'\n",
    "```\n",
    "\n",
    "Some guidance:\n",
    "- For our purposes, an SSN is a string of the form 3 digits-2 digits-4 digits.\n",
    "- The returned list should not contain any empty strings or the string `'null'`."
   ]
  },
  {
   "cell_type": "code",
   "execution_count": null,
   "id": "875381e1",
   "metadata": {
    "tags": []
   },
   "outputs": [],
   "source": [
    "def extract_ssns(string):\n",
    "    ...\n",
    "    \n",
    "# To test your work, first run:\n",
    "extract_ssns('bitcoin:1BvBMSEYstWetqTFn5Au4m4GFg7xJaNVN2$jk%^3\\t,test@test55.umich.edu,lkj5r%ji|ssn:423-01-9575,530 High Street')\n",
    "# Then, once that works, uncomment:\n",
    "# extract_ssns(open('data/messy.txt', encoding='utf8').read())"
   ]
  },
  {
   "cell_type": "code",
   "execution_count": null,
   "id": "24c42309",
   "metadata": {
    "deletable": false,
    "editable": false
   },
   "outputs": [],
   "source": [
    "grader.check(\"q03_01\")"
   ]
  },
  {
   "cell_type": "markdown",
   "id": "f93786fb",
   "metadata": {
    "tags": []
   },
   "source": [
    "### Question 3.2  <div style=\"display:inline-block; vertical-align: middle; padding:7px 7px; font-size:10px; font-weight:light; color:white; background-color:#e84c4a; border-radius:7px; text-align:left;\">2 Points</div>\n",
    "\n",
    "Complete the implementation of the function `extract_bitcoin_addresses`, which takes in a string (`string`) containing the contents of a server log file and returns the Bitcoin addresses in the file as a list. Example behavior is given below. \n",
    "\n",
    "```python\n",
    ">>> extract_bitcoin_addresses('bitcoin:1BvBMSEYstWetqTFn5Au4m4GFg7xJaNVN2$jk%^3\\t,test@test55.umich.edu,lkj5r%ji|ssn:423-01-9575,530 High Street')\n",
    "['1BvBMSEYstWetqTFn5Au4m4GFg7xJaNVN2']\n",
    "\n",
    ">>> out = extract_bitcoin_addresses(open('data/messy.txt', encoding='utf8').read())\n",
    ">>> out[0]\n",
    "'18A8rBU3wvbLTSxMjqrPNc9mvonpA4XMiv'\n",
    "```\n",
    "\n",
    "Some guidance:\n",
    "- Assume Bitcoin addresses are alphanumeric strings.\n",
    "- The returned list should not contain any empty strings or the string `'null'`."
   ]
  },
  {
   "cell_type": "code",
   "execution_count": null,
   "id": "e18bda3a",
   "metadata": {
    "tags": []
   },
   "outputs": [],
   "source": [
    "def extract_bitcoin_addresses(string):\n",
    "    ...\n",
    "    \n",
    "# To test your work, first run:\n",
    "extract_bitcoin_addresses('bitcoin:1BvBMSEYstWetqTFn5Au4m4GFg7xJaNVN2$jk%^3\\t,test@test55.umich.edu,lkj5r%ji|ssn:423-01-9575,530 High Street')\n",
    "# Then, once that works, uncomment:\n",
    "# extract_bitcoin_addresses(open('data/messy.txt', encoding='utf8').read())"
   ]
  },
  {
   "cell_type": "code",
   "execution_count": null,
   "id": "c789ffe5",
   "metadata": {
    "deletable": false,
    "editable": false
   },
   "outputs": [],
   "source": [
    "grader.check(\"q03_02\")"
   ]
  },
  {
   "cell_type": "markdown",
   "id": "f15babce",
   "metadata": {
    "tags": []
   },
   "source": [
    "### Question 3.3 <div style=\"display:inline-block; vertical-align: middle; padding:7px 7px; font-size:10px; font-weight:light; color:white; background-color:#e84c4a; border-radius:7px; text-align:left;\">2 Points</div>\n",
    "\n",
    "Complete the implementation of the function `extract_emails`, which takes in a string (`string`) containing the contents of a server log file and returns the email addresses in the file as a list. Example behavior is given below.\n",
    "\n",
    "```python\n",
    ">>> extract_emails('bitcoin:1BvBMSEYstWetqTFn5Au4m4GFg7xJaNVN2$jk%^3\\t,test@test55.umich.edu,lkj5r%ji|ssn:423-01-9575,530 High Street')\n",
    "['test@test55.umich.edu']\n",
    "\n",
    ">>> out = extract_emails(open('data/messy.txt', encoding='utf8').read())\n",
    ">>> out[0]\n",
    "'dottewell0@gnu.org'\n",
    "```\n",
    "\n",
    "Some guidance:\n",
    "- Assume that the usernames and domain names in an email address are alphanumeric. Domain names don't need to end in `'.com'` – assume that all parts of a domain name, including the very end, can be made up of any alphanumeric characters.\n",
    "- The returned list should not contain any empty strings or the string `'null'`. (It likely won't by default, but we've included this instruction in all four parts of this question.)"
   ]
  },
  {
   "cell_type": "code",
   "execution_count": null,
   "id": "74648b61",
   "metadata": {
    "tags": []
   },
   "outputs": [],
   "source": [
    "def extract_emails(string):\n",
    "    ...\n",
    "    \n",
    "# To test your work, first run:\n",
    "extract_emails('bitcoin:1BvBMSEYstWetqTFn5Au4m4GFg7xJaNVN2$jk%^3\\t,test@test55.umich.edu,lkj5r%ji|ssn:423-01-9575,530 High Street')\n",
    "# Then, once that works, uncomment:\n",
    "# extract_emails(open('data/messy.txt', encoding='utf8').read())"
   ]
  },
  {
   "cell_type": "code",
   "execution_count": null,
   "id": "a32a13d4",
   "metadata": {
    "deletable": false,
    "editable": false
   },
   "outputs": [],
   "source": [
    "grader.check(\"q03_03\")"
   ]
  },
  {
   "cell_type": "markdown",
   "id": "86e7b6e8",
   "metadata": {
    "tags": []
   },
   "source": [
    "### Question 3.4 <div style=\"display:inline-block; vertical-align: middle; padding:7px 7px; font-size:10px; font-weight:light; color:white; background-color:#e84c4a; border-radius:7px; text-align:left;\">2 Points</div>\n",
    "\n",
    "Complete the implementation of the function `extract_street_addresses`, which takes in a string (`string`) containing the contents of a server log file and returns the street addresses in the file as a list. Example behavior is given below.\n",
    "\n",
    "```python\n",
    ">>> extract_street_addresses('bitcoin:1BvBMSEYstWetqTFn5Au4m4GFg7xJaNVN2$jk%^3\\t,test@test55.umich.edu,lkj5r%ji|ssn:423-01-9575,530 High Street')\n",
    "['530 High Street']\n",
    "\n",
    ">>> out = extract_street_addresses(open('data/messy.txt', encoding='utf8').read())\n",
    ">>> out[0]\n",
    "'814 Monterey Court'\n",
    "```\n",
    "\n",
    "As before, the returned list should not contain any empty strings or the string `'null'`."
   ]
  },
  {
   "cell_type": "code",
   "execution_count": null,
   "id": "2aaf53fb",
   "metadata": {
    "tags": []
   },
   "outputs": [],
   "source": [
    "def extract_street_addresses(string):\n",
    "    ...\n",
    "\n",
    "# To test your work, first run:\n",
    "extract_street_addresses('bitcoin:1BvBMSEYstWetqTFn5Au4m4GFg7xJaNVN2$jk%^3\\t,test@test55.umich.edu,lkj5r%ji|ssn:423-01-9575,530 High Street')\n",
    "# Then, once that works, uncomment:\n",
    "# extract_street_addresses(open('data/messy.txt', encoding='utf8').read())"
   ]
  },
  {
   "cell_type": "code",
   "execution_count": null,
   "id": "8e762bea",
   "metadata": {
    "deletable": false,
    "editable": false
   },
   "outputs": [],
   "source": [
    "grader.check(\"q03_04\")"
   ]
  },
  {
   "cell_type": "markdown",
   "id": "5294bc0e",
   "metadata": {
    "tags": []
   },
   "source": [
    "## Question 4: GPTEECS 🤖\n",
    "\n",
    "---\n",
    "\n",
    "### Overview\n",
    "\n",
    "Large Language Models (LLM), like GPT-4 by OpenAI, Claude by Anthropic, or Llama by Meta, are statistical models that were trained on massive datasets for the purpose of generating useful new text. [ChatGPT](https://chat.openai.com) and other similar chat interfaces make calls to an LLM API under-the-hood, and show you the results in a text message-like format.\n",
    "\n",
    "Open ChatGPT or your favorite other LLM chat interface, and ask it:\n",
    "\n",
    "> What's the difference between the late submission policy in EECS 467 and EECS 492?\n",
    "\n",
    "Until very recently (when ChatGPT started being able to search the internet), ChatGPT would tell you that it doesn't know what EECS 467 and EECS 492 are. And even if it did give you an answer, it's not necessarily clear whether it pulled the answer from a reliable source, or whether it's still true today (it may have found syllabi online from many years ago, and could be hallucinating). \n",
    "\n",
    "### Retrieval-Augmented Generation (RAG)\n",
    "\n",
    "A solution to this issue is **Retrieval-Augmented Generation (RAG)**. **In this question, we will use RAG to implement GPTEECS, a chat interface designed to answer questions about EECS syllabi.** Here's the general idea behind RAG, and how we'll use it in this question:\n",
    "\n",
    "1. We want to implement a chat bot that can answer questions about something specific.<br><small>**Here**, we want our chat bot to answer questions about EECS class' syllabi.</small>\n",
    "1. To do so, we download and store documents that contain the relevant context that we wish our LLM knew about.<br><small>**Here**, we'll download the syllabi of various EECS classes and store them as `.txt` files. We've already done this for you.</small>\n",
    "1. Then, when the user asks a question – called a **query** – we determine which of our locally-stored documents are most relevant in answering their question.<br><small>**Here**, when a user asks a question about EECS class(es), we'll determine which syllabus documents are most likely to have the answer.</small>\n",
    "1. Once we find the most relevant documents, we send the user's query, **along with** the most relevant documents, to our language model, allowing it to find the answer for us with the context it needs.\n",
    "\n",
    "<center><img src=\"imgs/retrieval-augmented-generation.png\" width=700><br>(<a href=\"https://towhee.io/tasks/detail/pipeline/retrieval-augmented-generation\">image source</a>)</center>\n",
    "\n",
    "RAG enables organizations to create customized chat interfaces that are better equipped to answer questions about the organization than an out-of-the-box language model. For instance, if you operated a store and wanted an AI-powered customer support chat, you may use RAG to create a chat bot that knows about your store's catalog, return policies, etc. ChatGPT even allows you to make custom GPTs [yourself](https://openai.com/index/introducing-gpts/) by uploading customized knowledge bases, and these (likely) use a process similar to RAG.\n",
    "\n",
    "### FAQs\n",
    "\n",
    "- **How do we determine which documents are most relevant to the user's query?** Here, we'll implement this using TF-IDF and cosine similarity, as we've seen in [Lecture 12](https://practicaldsc.org/resources/lectures/lec12/lec12-filled.html)! In practice, more sophisticated, state-of-the-art techniques for converting text to numbers are used (if you're curious, look into \"word embeddings\").\n",
    "- **Why not just send all of the documents to our language model, instead of finding the documents that are most relevant?** LLMs have a [context window](https://www.hopsworks.ai/dictionary/context-window-for-llms), which is a limit on the length of the input query they can take in. If your query is too long, an LLM may not be able to process it. (And, if it includes unnecessary information, it can be hard for the LLM to give you an accurate response.)\n",
    "\n",
    "### Your Task\n",
    "The folder `data/syllabi` contains syllabi for several EECS classes. These documents together comprise our **corpus**."
   ]
  },
  {
   "cell_type": "code",
   "execution_count": 1,
   "id": "a6a64715",
   "metadata": {},
   "outputs": [
    {
     "name": "stdout",
     "output_type": "stream",
     "text": [
      "183.txt 280.txt 373.txt 390.txt 465.txt 471.txt 481.txt 484.txt 489.txt 493.txt\n",
      "203.txt 281.txt 376.txt 445.txt 467.txt 473.txt 482.txt 485.txt 490.txt 494.txt\n",
      "270.txt 370.txt 388.txt 453.txt 470.txt 475.txt 483.txt 487.txt 492.txt\n"
     ]
    }
   ],
   "source": [
    "!ls data/syllabi"
   ]
  },
  {
   "cell_type": "markdown",
   "id": "20f5ef03",
   "metadata": {},
   "source": [
    "Shortly, using the ideas from Lecture 12, you will develop a working implementation of the following function:\n",
    "\n",
    "```python\n",
    ">>> top_n_similar_documents('C++ programming and systems design', 4, bow)\n",
    "['482.txt', '473.txt', '370.txt', '281.txt']\n",
    "```\n",
    "\n",
    "And even cooler, you'll implement a function that can fully answer questions, like:\n",
    "\n",
    "```python\n",
    ">>> ask_gpteecs(\"I really want to learn theoretical probability and math, what should I take?\")\n",
    "'Based on your interest in theoretical probability and math, I recommend taking EECS 445: Introduction to Machine Learning. This course covers the foundational algorithms and \"tricks of the trade\" in machine learning, including regression, classification...'\n",
    "```"
   ]
  },
  {
   "cell_type": "markdown",
   "id": "04368aef",
   "metadata": {},
   "source": [
    "### Question 4.1 <div style=\"display:inline-block; vertical-align: middle; padding:7px 7px; font-size:10px; font-weight:light; color:white; background-color:#e84c4a; border-radius:7px; text-align:left;\">1 Point</div>\n",
    "\n",
    "First, let's figure out how to call a Large Language Model directly from our notebook.\n",
    "\n",
    "OpenAI does have a Python API, but it's relatively limited on the free plan. Instead, we'll use tools from [Groq](https://groq.com/). Groq is a hardware company designing processors for training LLMs efficiently, and allows for fast, free access to open-source LLM APIs. We'll use the [Groq API](https://console.groq.com/docs/quickstart) to make calls to Meta's Llama 3 API. (As mentioned at the start of this section, Llama is Meta's competitor to GPT. So technically, we're not implementing GPTEECS, but EECSLlama?)\n",
    "\n",
    "Go [**here**](https://console.groq.com/docs/quickstart) and create a Groq API key. Then, complete the implementation of `query_llama`, a function that takes in a string (`query_string`) and returns the text response that results from passing `query_string` to Groq. The function has largely been implemented for you; most of what you need to do is create an API key and put it in the right place below.\n",
    "\n",
    "(Yes, confusingly, we're using the word \"query\" in this homework to refer to slightly different, but related, ideas: in SQL, queries are used to extract information from a **database**, and here, our queries pull information from an API.)"
   ]
  },
  {
   "cell_type": "code",
   "execution_count": null,
   "id": "8e89fce1",
   "metadata": {
    "tags": []
   },
   "outputs": [],
   "source": [
    "def query_llama(query_string):\n",
    "    client = groq.Groq(\n",
    "        api_key= ...\n",
    "    )\n",
    "    \n",
    "    chat_completion = client.chat.completions.create(\n",
    "        messages=[\n",
    "            {\n",
    "                \"role\": \"user\",\n",
    "                \"content\": query_string\n",
    "            }\n",
    "        ],\n",
    "        model=\"llama3-8b-8192\",\n",
    "        # temperature=0 # Try uncommenting this and running the call to query_llama below many times. What do you notice? Recomment it out afterwards.\n",
    "    )\n",
    "\n",
    "    return chat_completion.choices[0].message.content\n",
    "\n",
    "# Feel free to change the input below to test out your implementation of query_llama.\n",
    "# The Markdown function behaves like the print function,\n",
    "# but renders text formatting (e.g. bolding, bullet points) when the output from Llama\n",
    "# contains these elements.\n",
    "Markdown(query_llama('Tell me a joke about data science'))"
   ]
  },
  {
   "cell_type": "code",
   "execution_count": null,
   "id": "afa6842a",
   "metadata": {
    "deletable": false,
    "editable": false
   },
   "outputs": [],
   "source": [
    "grader.check(\"q04_01\")"
   ]
  },
  {
   "cell_type": "markdown",
   "id": "b577e425",
   "metadata": {},
   "source": [
    "Now, we can call `query_llama`! Run the cell below."
   ]
  },
  {
   "cell_type": "code",
   "execution_count": null,
   "id": "d262d88a",
   "metadata": {},
   "outputs": [],
   "source": [
    "Markdown(query_llama('Tell me about EECS 485 at Michigan, but keep it concise: just one paragraph.'))"
   ]
  },
  {
   "cell_type": "markdown",
   "id": "7fe509f9",
   "metadata": {},
   "source": [
    "To experiment:\n",
    "- Run the cell many times. You'll notice that the response is very different every time – and it's almost never accurate! (Click [here](https://eecs485.org) to see what EECS 485 here is actually about.)\n",
    "- Uncomment the line that says `temperature=0` in your definition of `query_llama`, and then run the above cell many times again. What do you notice now? (To see what argument is doing, go to the [documentation](https://console.groq.com/docs/api-reference#chat-create) and search for \"temperature\".) Recomment out the line before proceeding.\n",
    "- If you remove \"but keep it concise: just one paragraph.\", what do you notice?\n",
    "\n",
    "Now we have a way of passing queries to a Large Language Model and getting back results. Right now, it's not knowledgeable enough to answer questions about EECS classes. Soon, we'll change that.\n",
    "\n",
    "We'll get back to using `query_llama` in the final part of this question. For now, we need to switch our attention to implementing RAG – that is, being able to find the syllabus documents that are most similar to our input query. Once we implement it, when we pass our (new) function the input `'Tell me about EECS 485 at Michigan, but keep it concise: just one paragraph.'`, it'll provide accurate, up-to-date information about EECS 485, since we'll send the syllabus for EECS 485 to Llama along with the original input. **Keep this goal in mind. The next few parts may seem unrelated, but they all come together at the end!**"
   ]
  },
  {
   "cell_type": "markdown",
   "id": "f0f0367a",
   "metadata": {},
   "source": [
    "### Question 4.2 <div style=\"display:inline-block; vertical-align: middle; padding:7px 7px; font-size:10px; font-weight:light; color:white; background-color:#e84c4a; border-radius:7px; text-align:left;\">1 Point</div>\n",
    "\n",
    "A **token** is an alphanumeric string. In Lecture 12, we referred to tokens as \"terms\". Before computing any numbers, we need to find the terms in each syllabus, i.e. we need to **tokenize** each syllabus.\n",
    "\n",
    "Complete the implementation of the function `tokenize`, which takes in a string (`string`) of text and returns a list containing all of the tokens in `string`. Convert all characters to lowercase before extracting tokens.\n",
    "\n",
    "Example behavior is given below.\n",
    "\n",
    "```python\n",
    ">>> tokenize(\"EECS 398-003 Practical Data Science's about data management and applied machine learning.\")\n",
    "['eecs',\n",
    " '398',\n",
    " '003',\n",
    " 'practical',\n",
    " 'data',\n",
    " 'science',\n",
    " 's',\n",
    " 'about',\n",
    " 'data',\n",
    " 'management',\n",
    " 'and',\n",
    " 'applied',\n",
    " 'machine',\n",
    " 'learning']\n",
    "\n",
    ">>> tokenize(open('data/syllabi/485.txt').read())[:20]\n",
    "['eecs',\n",
    " '485',\n",
    " 'web',\n",
    " 'systems',\n",
    " 'syllabus',\n",
    " 'the',\n",
    " 'university',\n",
    " 'of',\n",
    " 'michigan',\n",
    " 'fall',\n",
    " '2024',\n",
    " 'a',\n",
    " 'holistic',\n",
    " 'course',\n",
    " 'of',\n",
    " 'modern',\n",
    " 'web',\n",
    " 'systems',\n",
    " 'and',\n",
    " 'technologies']\n",
    "```\n",
    "\n",
    "Note that this part is only worth 1 point, so it shouldn't take very long!"
   ]
  },
  {
   "cell_type": "code",
   "execution_count": null,
   "id": "f96d0892",
   "metadata": {
    "tags": []
   },
   "outputs": [],
   "source": [
    "def tokenize(string):\n",
    "    ...\n",
    "\n",
    "# Feel free to change the input below to test out your implementation of tokenize.\n",
    "tokenize(\"EECS 398-003 Practical Data Science's about data management and applied machine learning.\")"
   ]
  },
  {
   "cell_type": "code",
   "execution_count": null,
   "id": "225bde6e",
   "metadata": {
    "deletable": false,
    "editable": false
   },
   "outputs": [],
   "source": [
    "grader.check(\"q04_02\")"
   ]
  },
  {
   "cell_type": "markdown",
   "id": "5bda969b",
   "metadata": {},
   "source": [
    "Before we move onto Question 4.3, it's worth mentioning that in practice, we'd put a bit more care into tokenizing our documents. For one, we might **lemmatize** our tokens, which would allow us to group words like `'eating'`, `'ate'`, and `'eatery'` all to `'eat'`. We've omitted such steps here for simplicity."
   ]
  },
  {
   "cell_type": "markdown",
   "id": "d0829d64",
   "metadata": {},
   "source": [
    "### Question 4.3 <div style=\"display:inline-block; vertical-align: middle; padding:7px 7px; font-size:10px; font-weight:light; color:white; background-color:#e84c4a; border-radius:7px; text-align:left;\">4 Points</div>\n",
    "\n",
    "Complete the implementation of the function `files_to_bow`, which takes in a string describing the **path** to a folder with syllabus files (`path`) and returns the corresponding **bag of words matrix** as a DataFrame, with:\n",
    "- One row per file, indexed by the file name. The DataFrame should be sorted by the index in ascending order.\n",
    "- One column per unique word (token) among all syllabi (i.e. across the entire corpus). The order of the columns in the DataFrame does not matter.\n",
    "- Values corresponding to the number of occurrences of each word in each file.\n",
    "\n",
    "Example behavior is given below.\n",
    "\n",
    "```python\n",
    ">>> out = files_to_bow('data/syllabi')\n",
    ">>> out.shape\n",
    "(29, 4306)\n",
    "\n",
    ">>> out.loc['280.txt', 'computer']\n",
    "12\n",
    "```\n",
    "\n",
    "Some guidance:\n",
    "- You must implement all of the steps by hand, i.e. no using `sklearn`'s `CountVectorizer`.\n",
    "- To find all of the files in a folder, use `os.listdir` (we've already imported `os`). Make sure to verify that the files you're processing end in `.txt` – there may be other files in `path` that aren't valid syllabi, and we don't want to process those.\n",
    "- Our solution involved creating an intermediate helper function that read in the necessary files, tokenized them, and stored them in an appropriate data structure. You can design your implementation however you'd like, but it's a good idea to break it down into smaller pieces.\n",
    "- Since we've already tokenized each file, it's not necessary to use regular expressions to count the number of occurrences of particular words in each document. Look into the list `count` method, which you can use in conjunction with a `for`-loop or the Series `apply` method. Our solution follows the work in Lecture 12 closely.\n",
    "- Our solution only takes ~5 seconds to run on `files_to_bow('data/syllabi')`. Make sure yours is similarly quick."
   ]
  },
  {
   "cell_type": "code",
   "execution_count": null,
   "id": "46c435e6",
   "metadata": {
    "tags": []
   },
   "outputs": [],
   "source": [
    "def files_to_bow(path):\n",
    "    ...\n",
    "\n",
    "# Uncomment the line below once you've implemented files_to_bow.\n",
    "# files_to_bow('data/syllabi')"
   ]
  },
  {
   "cell_type": "code",
   "execution_count": null,
   "id": "dd4bb1d9",
   "metadata": {
    "deletable": false,
    "editable": false
   },
   "outputs": [],
   "source": [
    "grader.check(\"q04_03\")"
   ]
  },
  {
   "cell_type": "markdown",
   "id": "42a4d451",
   "metadata": {},
   "source": [
    "Since we'll need it in all of our future calculations, we'll create a globally-defined instance of `bow` below. **Make sure that throughout the rest of your notebook, `bow` is defined exactly as below!**"
   ]
  },
  {
   "cell_type": "code",
   "execution_count": null,
   "id": "956eea95",
   "metadata": {},
   "outputs": [],
   "source": [
    "bow = files_to_bow('data/syllabi')\n",
    "bow.head()"
   ]
  },
  {
   "cell_type": "markdown",
   "id": "8ea9a0a2",
   "metadata": {
    "id": "69ae9112"
   },
   "source": [
    "### Question 4.4 <div style=\"display:inline-block; vertical-align: middle; padding:7px 7px; font-size:10px; font-weight:light; color:white; background-color:#e84c4a; border-radius:7px; text-align:left;\">3 Points</div>\n",
    "\n",
    "Complete the implementation of the function `bow_to_tfidf`, which takes in a bag of words matrix (`bow`) returned by `files_to_bow`. `bow_to_tfidf` should return a DataFrame with the same row labels and column labels as `bow`, but with all values converted to TF-IDFs – that is, the outputted DataFrame should contain the TF-IDF of every word in every file.\n",
    "\n",
    "Example behavior is given below.\n",
    "\n",
    "```python\n",
    "# Here, we're referring to the globally-defined bow.\n",
    ">>> out = bow_to_tfidf(bow)\n",
    ">>> out.shape == bow.shape\n",
    "True\n",
    "\n",
    ">>> out.loc['485.txt', 'science']\n",
    "0.0005272966438261625\n",
    "```\n",
    "\n",
    "Some guidance:\n",
    "- Follow our logic from Lecture 12 to convert `bow` to a TF-IDF matrix. Your implementation here should be relatively short (< 10 lines).\n",
    "- While not strictly required (in that we won't test it), we recommend you implement `compute_idfs`, which takes in a DataFrame like `bow` and returns a **Series** containing the inverse document frequency (IDF) of each word in `bow`. Not only will this help compartmentalize your work for this question, but it'll make your life much easier in Question 4.5, when you'll again need to use the IDFs of every word in the corpus."
   ]
  },
  {
   "cell_type": "code",
   "execution_count": null,
   "id": "9ebb7e8b",
   "metadata": {
    "id": "78cb787f",
    "tags": []
   },
   "outputs": [],
   "source": [
    "def compute_idfs(bow):\n",
    "    # Not required, but suggested!\n",
    "    ...\n",
    "\n",
    "def bow_to_tfidf(bow):\n",
    "    ...\n",
    "\n",
    "# Uncomment the line below once you've implemented bow_to_tfidf.\n",
    "# bow_to_tfidf(bow).head()"
   ]
  },
  {
   "cell_type": "code",
   "execution_count": null,
   "id": "e927b997",
   "metadata": {
    "deletable": false,
    "editable": false
   },
   "outputs": [],
   "source": [
    "grader.check(\"q04_04\")"
   ]
  },
  {
   "cell_type": "markdown",
   "id": "b08c6bf5",
   "metadata": {},
   "source": [
    "Before we move forward, it's worth stopping and looking at what we've already accomplished. Run the cell below to see the 5 words with the highest TF-IDFs in each syllabus."
   ]
  },
  {
   "cell_type": "code",
   "execution_count": null,
   "id": "5042aafd",
   "metadata": {},
   "outputs": [],
   "source": [
    "def five_largest(row):\n",
    "    return ', '.join(row.index[row.argsort()][-5:])\n",
    "\n",
    "bow_to_tfidf(bow).apply(five_largest, axis=1)"
   ]
  },
  {
   "cell_type": "markdown",
   "id": "ee7d6634",
   "metadata": {},
   "source": [
    "Compare that to the 5 words with the highest frequences in each syllabus:"
   ]
  },
  {
   "cell_type": "code",
   "execution_count": null,
   "id": "29cf4190",
   "metadata": {},
   "outputs": [],
   "source": [
    "bow.apply(five_largest, axis=1)"
   ]
  },
  {
   "cell_type": "markdown",
   "id": "03e5bdd6",
   "metadata": {},
   "source": [
    "Hopefully, the value of TF-IDF is clear, but it's also clear that TF-IDF isn't perfect in summarizing documents. But, as we'll soon see, it'll serve our purposes well!\n",
    "\n",
    "Before you move to Question 4.5, there's one piece of syntax that you'll find useful: the Series `reindex` method. Here's an example of how it works:"
   ]
  },
  {
   "cell_type": "code",
   "execution_count": null,
   "id": "127dd449",
   "metadata": {},
   "outputs": [],
   "source": [
    "things = pd.Series({'a': 2, 'b': 5, 'c': 1})\n",
    "things"
   ]
  },
  {
   "cell_type": "code",
   "execution_count": null,
   "id": "52cdc24e",
   "metadata": {},
   "outputs": [],
   "source": [
    "stuff = pd.Series({'a': 'hello', 'b': 'hi', 'x': 9})\n",
    "stuff"
   ]
  },
  {
   "cell_type": "code",
   "execution_count": null,
   "id": "da0a709a",
   "metadata": {},
   "outputs": [],
   "source": [
    "things.reindex(stuff.index)"
   ]
  },
  {
   "cell_type": "code",
   "execution_count": null,
   "id": "8da402e3",
   "metadata": {},
   "outputs": [],
   "source": [
    "things.reindex(stuff.index).fillna(0)"
   ]
  },
  {
   "cell_type": "markdown",
   "id": "1ede056c",
   "metadata": {
    "id": "37808b3c"
   },
   "source": [
    "### Question 4.5 <div style=\"display:inline-block; vertical-align: middle; padding:7px 7px; font-size:10px; font-weight:light; color:white; background-color:#e84c4a; border-radius:7px; text-align:left;\">3 Points</div>\n",
    "\n",
    "Complete the implementation of the function `new_query_to_tfidf`, which takes in a string (`query_string`) and a bag of words matrix (`bow`) and returns a Series such that:\n",
    "- The index contains the same labels as `bow`'s columns (meaning that if `bow` has 4306 columns, the outputted Series should have 4306 elements).\n",
    "- The values contain the TF-IDF of each word, using `query_string` to compute TFs and **the entire corpus of syllabi (not including the new query)** to compute IDFs.\n",
    "\n",
    "Example behavior is given below.\n",
    "\n",
    "```python\n",
    ">>> out = new_query_to_tfidf('yooo I am very very very interested in a practical machine learning course', bow)\n",
    ">>> out.shape\n",
    "(4306,)\n",
    "\n",
    "# Most of the values in out are 0, since\n",
    "# \"yooo I am very very very interested in a practical machine learning course\"\n",
    "# doesn't contain most of the 4306 words in bow.\n",
    "# Since 'yooo' is not in bow.columns, it doesn't appear in the index of out, either.\n",
    ">>> out[out > 0]\n",
    "machine       0.090005\n",
    "interested    0.174514\n",
    "very          0.328012\n",
    "am            0.152385\n",
    "i             0.032527\n",
    "practical     0.109337\n",
    "learning      0.050711\n",
    "dtype: float64\n",
    "```\n",
    "\n",
    "To be clear, the TF-IDF of a word $t$ in a new query string $q$ is:\n",
    "\n",
    "$$\\text{tfidf}(t, q) = \\underbrace{\\frac{\\text{\\# of occurrences of $t$ in $q$}}{\\text{total \\# of tokens in $q$}}}_{\\text{computed using } q \\: (\\texttt{query\\_string})} \\cdot \\underbrace{\\log \\left(\\frac{\\text{total \\# of syllabi}}{\\text{\\# of syllabi in which $t$ appears}} \\right)}_{\\text{computed solely using \\texttt{bow}}}$$\n",
    "\n",
    "Note that this means that the IDFs of each word have nothing to do with the `query_string` that is passed in. This is precisely why we suggested you implement `compute_idfs(bow)` in the previous part – because it would help your implementation of `bow_to_tfidf`, and also help your implementation of `new_query_to_tfidf`.\n",
    "\n",
    "Some additional guidance:\n",
    "- This function should only take a few lines to implement, but requires combining several steps, going all the way back to Question 4.2. Think about how the `reindex` method might be useful.\n",
    "- In the function signature below, you'll see `new_query_to_tfidf(query_string, bow=bow)`. `bow=bow` sets the default value of the `bow` argument to the globally-defined value of `bow`, meaning if we only pass one argument (`query_string`) to `new_query_to_tfidf`, it will automatically use the global `bow`. It's important for our function to be able to take in bag of words matrices other than our globally-defined `bow`, in case we want to use it on a different corpus of documents. But, most of the time we will call it on the global `bow`, so this is done for convenience."
   ]
  },
  {
   "cell_type": "code",
   "execution_count": null,
   "id": "9cfaeab1",
   "metadata": {
    "tags": []
   },
   "outputs": [],
   "source": [
    "def new_query_to_tfidf(query_string, bow=bow):\n",
    "    ...\n",
    "\n",
    "# Feel free to change the input below to test out your implementation of new_query_to_tfidf.\n",
    "out = new_query_to_tfidf('yooo I am very very very interested in a practical machine learning course')\n",
    "out[out > 0]"
   ]
  },
  {
   "cell_type": "code",
   "execution_count": null,
   "id": "599d469d",
   "metadata": {
    "deletable": false,
    "editable": false
   },
   "outputs": [],
   "source": [
    "grader.check(\"q04_05\")"
   ]
  },
  {
   "cell_type": "markdown",
   "id": "de1e3345",
   "metadata": {},
   "source": [
    "Let's take stock of what we have so far.\n",
    "- We have the TF-IDFs of every word in every document in our corpus. This means that we have a **vector representation** of each syllabus.\n",
    "- We have a function that can take any query string and turn it into a **vector** of TF-IDF scores, as well.\n",
    "\n",
    "Now, we can use techniques from Lecture 12 – specifically, cosine similarity – to find the syllabi that are most similar (and, hence, most relevant) to our query string!"
   ]
  },
  {
   "cell_type": "markdown",
   "id": "eeb19266",
   "metadata": {},
   "source": [
    "### Question 4.6 <div style=\"display:inline-block; vertical-align: middle; padding:7px 7px; font-size:10px; font-weight:light; color:white; background-color:#e84c4a; border-radius:7px; text-align:left;\">3 Points</div>\n",
    "\n",
    "Complete the implementation of the function `top_n_similar_documents`, which takes in a string (`query_string`), a positive integer `n`, and a bag of words matrix (`bow`) and returns a list containing the names of the `n` most similar documents to `query_string`. \n",
    "\n",
    "Use cosine similarity to measure the similarity between two vectors; you can implement cosine similarity however you'd like. Remember that document names are stored in the index of `bow`. The documents in the returned list should be sorted in **decreasing order of similarity**.\n",
    "\n",
    "Example behavior is given below.\n",
    "\n",
    "```python\n",
    ">>> top_n_similar_documents('yooo I am very very very interested in a practical machine learning course', 3, bow)\n",
    "['467.txt', '445.txt', '453.txt']\n",
    "\n",
    ">>> top_n_similar_documents('C++ programming and systems design', 4, bow)\n",
    "['482.txt', '473.txt', '370.txt', '281.txt']\n",
    "```"
   ]
  },
  {
   "cell_type": "code",
   "execution_count": null,
   "id": "5059a1a0",
   "metadata": {
    "tags": []
   },
   "outputs": [],
   "source": [
    "def top_n_similar_documents(query_string, n, bow=bow):\n",
    "    ...\n",
    "\n",
    "# Feel free to change the inputs below to test out your implementation of top_n_similar_documents.\n",
    "top_n_similar_documents('yooo I am very very very interested in a practical machine learning course', 3)"
   ]
  },
  {
   "cell_type": "code",
   "execution_count": null,
   "id": "59f48a23",
   "metadata": {
    "deletable": false,
    "editable": false
   },
   "outputs": [],
   "source": [
    "grader.check(\"q04_06\")"
   ]
  },
  {
   "cell_type": "markdown",
   "id": "dbca0989",
   "metadata": {},
   "source": [
    "Awesome! You've implemented the retrieval step in RAG. That is, given a query, you're able to automatically find the most relevant documents in our \"knowledge database\" for answering that query.\n",
    "\n",
    "It's time for the final step: passing a `query_string`, along with the contents of the most relevant documents, to a Large Language Model (which we already learned how to access, using `query_llama`)."
   ]
  },
  {
   "cell_type": "markdown",
   "id": "62b7530b",
   "metadata": {},
   "source": [
    "### Question 4.7 <div style=\"display:inline-block; vertical-align: middle; padding:7px 7px; font-size:10px; font-weight:light; color:white; background-color:#e84c4a; border-radius:7px; text-align:left;\">4 Points</div>\n",
    "\n",
    "Complete the implementation of the function `ask_gpteecs`, which takes in a string (`query_string`) containing a question about EECS courses, a positive integer `n`, and a bag of words matrix `bow`. `ask_gpteecs` should return a **string** containing the result of:\n",
    "\n",
    "- querying Llama 3 using `query_llama` from Question 4.1,\n",
    "- where the query contains **both** the contents of `query_string` and\n",
    "- the **top `n`** most similar syllabus documents,\n",
    "- stitched together in a way that you deem appropriate.\n",
    "\n",
    "Here's what we mean by \"in a way that you deem appropriate.\" Suppose our query is `'yooo I am very very very interested in a practical machine learning course'`, and suppose `n=3` (the default).\n",
    "- The top 3 most similar documents are `'467.txt'`, `'445.txt'`, and `'453.txt'`.\n",
    "- If we just ask Llama, `'yooo I am very very very interested in a practical machine learning course'`, it won't know anything about EECS 467, EECS 445, or EECS 453. If we ask it, `'yooo I am very very very interested in a practical machine learning course, tell me about them: 467.txt, 445.txt, and 453.txt'`, it also won't know anything about those courses.\n",
    "- Instead, once we identify which (3) documents are most relevant, we need to read them in as strings once again using `open`, then create a new `query_string` that looks something like:\n",
    "\n",
    "```python\n",
    "'''\n",
    "Hi! I'm looking to answer this query that a student sent me, regarding EECS courses at the University of Michigan:\n",
    "\n",
    "yooo I am very very very interested in a practical machine learning course\n",
    "\n",
    "Here are some relevant courses from my knowledge base.\n",
    "\n",
    "here's EECS 467\n",
    "EECS 467: Autonomous Robots\n",
    "Software methods and implementation for robot perception, world mapping, ...\n",
    "...\n",
    "\n",
    "here's EECS 445\n",
    "Syllabus\n",
    "Introduction to Machine LearningFall 2016\n",
    "The course is a programming-focused introduction to Machine Learning.\n",
    "...\n",
    "\n",
    "here's EECS 453\n",
    "Course Instructor: Prof. Qing Qu\n",
    "Course Time: Mon/Wed 12:00 PM – 1:30 PM\n",
    "...\n",
    "'''\n",
    "```\n",
    "\n",
    "- You can structure your final query string however you'd like, and you're encouraged to experiment with different phrasings to see if they influence your results; you can start by copying the example format above, but then try and make it your own. (This is called **prompt engineering**.)\n",
    "- In the example above, we only included the first few lines of the relevant syllabi, but in your actual prompts, you'd include the entire text. You'll need to figure out a way of programmatically adding the course numbers and course syllabi text to your prompt string – remember, `n` might be something other than 3."
   ]
  },
  {
   "cell_type": "code",
   "execution_count": null,
   "id": "1478a13b",
   "metadata": {
    "tags": []
   },
   "outputs": [],
   "source": [
    "def ask_gpteecs(query_string, n=3, bow=bow):\n",
    "    ...\n",
    "\n",
    "# Feel free to change the inputs below to test out your implementation of ask_gpteecs.\n",
    "# The Markdown function behaves like the print function,\n",
    "# but renders text formatting (e.g. bolding, bullet points) when the output from Llama\n",
    "# contains these elements.\n",
    "Markdown(ask_gpteecs('yooo I am very very very interested in a practical machine learning course'))"
   ]
  },
  {
   "cell_type": "code",
   "execution_count": null,
   "id": "91302071",
   "metadata": {
    "deletable": false,
    "editable": false
   },
   "outputs": [],
   "source": [
    "grader.check(\"q04_07\")"
   ]
  },
  {
   "cell_type": "markdown",
   "id": "1dc2b034",
   "metadata": {},
   "source": [
    "**Great work!** You've now implemented Retrieval-Augmented Generation, and have your very own ChatGPT-like interface that knows about EECS classes.\n",
    "\n",
    "Unfortunately, it's not perfect. Look what happens with the following query:"
   ]
  },
  {
   "cell_type": "code",
   "execution_count": null,
   "id": "4aebb79d",
   "metadata": {},
   "outputs": [],
   "source": [
    "Markdown(ask_gpteecs('what is different about eecs 280 and eecs 281'))"
   ]
  },
  {
   "cell_type": "markdown",
   "id": "4c9b3bb0",
   "metadata": {},
   "source": [
    "At the bottom, the error says:\n",
    "\n",
    "```\n",
    "BadRequestError: Error code: 400 - {'error': {'message': 'Please reduce the length of the messages or completion.', 'type': 'invalid_request_error', 'param': 'messages', 'code': 'context_length_exceeded'}}\n",
    "```\n",
    "\n",
    "This is telling us that the query sent to Llama is longer than its **context window**, an idea we discussed at the start of Question 4. Since we're using the model `'llama3-8b-8192'`, the largest possible query we can send is 8192 tokens. If we take a look at the length of each syllabus, we see that the 280 and 281 syllabi together are longer than 8192 tokens (not including punctuation, or the input query, or our instructions):"
   ]
  },
  {
   "cell_type": "code",
   "execution_count": null,
   "id": "fefb6298",
   "metadata": {},
   "outputs": [],
   "source": [
    "bow.sum(axis=1).sort_values(ascending=False)"
   ]
  },
  {
   "cell_type": "markdown",
   "id": "d2f1efdd",
   "metadata": {},
   "source": [
    "Feel free to keep toying with `query_llama` (see the [Groq documentation here](https://console.groq.com/docs/quickstart) to see what you can customize) and `ask_gpteecs` to try and improve the performance of your implementation."
   ]
  },
  {
   "cell_type": "markdown",
   "id": "4e25ade0",
   "metadata": {
    "tags": []
   },
   "source": [
    "## Finish Line 🏁\n",
    "\n",
    "Congratulations! You're ready to submit Homework 6."
   ]
  },
  {
   "cell_type": "markdown",
   "id": "aec12fd2",
   "metadata": {},
   "source": [
    "To submit your homework:\n",
    "\n",
    "1. Select `Kernel -> Restart & Run All` to ensure that you have executed all cells, including the test cells.\n",
    "2. Read through the notebook to make sure everything is fine and all tests passed.\n",
    "3. Run the cell below to run all tests, and make sure that they all pass.\n",
    "4. Download your notebook using `File -> Download as -> Notebook (.ipynb)`, then upload your notebook to Gradescope under \"Homework 6\".\n",
    "5. Stick around while the Gradescope autograder grades your work. **Remember that Homework 6 has no hidden tests! This means the tests you see in your notebook are the exact same as the ones that will be used to grade your work on Gradescope. When you submit on Gradescope, you'll see your score shortly after you submit, once the autograder finishes running.** \n",
    "6. Check that you have a confirmation email from Gradescope and save it as proof of your submission."
   ]
  },
  {
   "cell_type": "markdown",
   "id": "6189604c",
   "metadata": {
    "deletable": false,
    "editable": false
   },
   "source": [
    "---\n",
    "\n",
    "To double-check your work, the cell below will rerun all of the autograder tests."
   ]
  },
  {
   "cell_type": "code",
   "execution_count": null,
   "id": "7bec44e1",
   "metadata": {
    "deletable": false,
    "editable": false
   },
   "outputs": [],
   "source": [
    "grader.check_all()"
   ]
  }
 ],
 "metadata": {
  "kernelspec": {
   "display_name": "Python 3 (ipykernel)",
   "language": "python",
   "name": "python3"
  },
  "language_info": {
   "codemirror_mode": {
    "name": "ipython",
    "version": 3
   },
   "file_extension": ".py",
   "mimetype": "text/x-python",
   "name": "python",
   "nbconvert_exporter": "python",
   "pygments_lexer": "ipython3",
   "version": "3.10.14"
  },
  "otter": {
   "tests": {
    "q01_01": {
     "name": "q01_01",
     "points": 2,
     "suites": [
      {
       "cases": [
        {
         "code": ">>> isinstance(query_1, str) and isinstance(run_sql(query_1), pd.DataFrame)\nTrue",
         "failure_message": "Make sure query_1 is a string and run_sql(query_1) returns a DataFrame!",
         "hidden": false,
         "locked": false
        },
        {
         "code": ">>> list(run_sql(query_1).columns) == ['purpose', 'total_loans']\nTrue",
         "failure_message": "DataFrame has incorrect column names.",
         "hidden": false,
         "locked": false
        },
        {
         "code": ">>> run_sql(query_1).shape == (8, 2)\nTrue",
         "failure_message": "DataFrame has incorrect shape.",
         "hidden": false,
         "locked": false
        },
        {
         "code": ">>> (run_sql(query_1)['purpose'].head(3) == ['debt_consolidation', 'credit_card', 'home_improvement']).all()\nTrue",
         "failure_message": "DataFrame has incorrect row order.",
         "hidden": false,
         "locked": false
        },
        {
         "code": ">>> out = run_sql(query_1)\n>>> np.isclose(out.loc[out['purpose'] == 'credit_card', 'total_loans'].iloc[0], 582675.0)\nTrue",
         "failure_message": "DataFrame has incorrect values.",
         "hidden": false,
         "locked": false
        }
       ],
       "scored": true,
       "setup": "",
       "teardown": "",
       "type": "doctest"
      }
     ]
    },
    "q01_02": {
     "name": "q01_02",
     "points": 2,
     "suites": [
      {
       "cases": [
        {
         "code": ">>> isinstance(query_2, str) and isinstance(run_sql(query_2), pd.DataFrame)\nTrue",
         "failure_message": "Make sure query_2 is a string and run_sql(query_2) returns a DataFrame!",
         "hidden": false,
         "locked": false
        },
        {
         "code": ">>> list(run_sql(query_2).columns) == ['state', 'average_credit']\nTrue",
         "failure_message": "DataFrame has incorrect column names.",
         "hidden": false,
         "locked": false
        },
        {
         "code": ">>> run_sql(query_2).shape == (14, 2)\nTrue",
         "failure_message": "DataFrame has incorrect shape.",
         "hidden": false,
         "locked": false
        },
        {
         "code": ">>> (run_sql(query_2)['state'].head(5) == ['FL', 'VA', 'NJ', 'OH', 'MI']).all()\nTrue",
         "failure_message": "DataFrame has incorrect row order.",
         "hidden": false,
         "locked": false
        },
        {
         "code": ">>> out = run_sql(query_2)\n>>> np.isclose(out.loc[out['state'] == 'TX', 'average_credit'].iloc[0], 699.3128390596745)\nTrue",
         "failure_message": "DataFrame has incorrect values.",
         "hidden": false,
         "locked": false
        }
       ],
       "scored": true,
       "setup": "",
       "teardown": "",
       "type": "doctest"
      }
     ]
    },
    "q01_03": {
     "name": "q01_03",
     "points": 2,
     "suites": [
      {
       "cases": [
        {
         "code": ">>> isinstance(query_3, str) and isinstance(run_sql(query_3), pd.DataFrame)\nTrue",
         "failure_message": "Make sure query_3 is a string and run_sql(query_3) returns a DataFrame!",
         "hidden": false,
         "locked": false
        },
        {
         "code": ">>> list(run_sql(query_3).columns) == ['amount', 'term', 'interest', 'monthly']\nTrue",
         "failure_message": "DataFrame has incorrect column names.",
         "hidden": false,
         "locked": false
        },
        {
         "code": ">>> run_sql(query_3).shape == (1, 4)\nTrue",
         "failure_message": "DataFrame has incorrect shape.",
         "hidden": false,
         "locked": false
        },
        {
         "code": ">>> (run_sql(query_3).iloc[0].to_numpy()[:-1] == [39475, 36, 23.88]).all()\nTrue",
         "failure_message": "Incorrect amount, term, or interest.",
         "hidden": false,
         "locked": false
        },
        {
         "code": ">>> np.isclose(run_sql(query_3).iloc[0].to_numpy()[-1], 1882.0802777777778)\nTrue",
         "failure_message": "Incorrect monthly payment amount.",
         "hidden": false,
         "locked": false
        }
       ],
       "scored": true,
       "setup": "",
       "teardown": "",
       "type": "doctest"
      }
     ]
    },
    "q02_01": {
     "name": "q02_01",
     "points": 2,
     "suites": [
      {
       "cases": [
        {
         "code": ">>> match_1(\"abcde]\") == False\nTrue",
         "failure_message": "match_1('abcde]') should return False.",
         "hidden": false,
         "locked": false
        },
        {
         "code": ">>> match_1(\"ab[cde\") == False\nTrue",
         "failure_message": "match_1('ab[cde') should return False.",
         "hidden": false,
         "locked": false
        },
        {
         "code": ">>> match_1(\"a[cd]\") == False\nTrue",
         "failure_message": "match_1('a[cd]') should return False.",
         "hidden": false,
         "locked": false
        },
        {
         "code": ">>> match_1(\"ab[cd]\") == True\nTrue",
         "failure_message": "match_1('ab[cd]') should return True.",
         "hidden": false,
         "locked": false
        },
        {
         "code": ">>> match_1(\"1ab[cd]\") == False\nTrue",
         "failure_message": "match_1('1ab[cd]') should return False.",
         "hidden": false,
         "locked": false
        },
        {
         "code": ">>> match_1(\"ab[cd]ef\") == True\nTrue",
         "failure_message": "match_1('ab[cd]ef') should return True.",
         "hidden": false,
         "locked": false
        },
        {
         "code": ">>> match_1(\"1b[#d] _\") == True\nTrue",
         "failure_message": "match_1('1b[#d] _') should return True.",
         "hidden": false,
         "locked": false
        },
        {
         "code": ">>> match_1('_ab[c#]') == False\nTrue",
         "failure_message": "match_1('_ab[c#]') should return False.",
         "hidden": false,
         "locked": false
        },
        {
         "code": ">>> match_1('_a[c#]!')\nTrue",
         "failure_message": "match_1('_a[c#]!') should return True.",
         "hidden": false,
         "locked": false
        }
       ],
       "scored": true,
       "setup": "",
       "teardown": "",
       "type": "doctest"
      }
     ]
    },
    "q02_02": {
     "name": "q02_02",
     "points": 2,
     "suites": [
      {
       "cases": [
        {
         "code": ">>> match_2(\"(123) 456-7890\") == False\nTrue",
         "failure_message": "match_2('(123) 456-7890') should return False.",
         "hidden": false,
         "locked": false
        },
        {
         "code": ">>> match_2(\"734-456-7890\") == False\nTrue",
         "failure_message": "match_2('734-456-7890') should return False.",
         "hidden": false,
         "locked": false
        },
        {
         "code": ">>> match_2(\"(734)45-7890\") == False\nTrue",
         "failure_message": "match_2('(734)45-7890') should return False.",
         "hidden": false,
         "locked": false
        },
        {
         "code": ">>> match_2(\"(734) 456-7890\") == True\nTrue",
         "failure_message": "match_2('(734) 456-7890') should return True.",
         "hidden": false,
         "locked": false
        },
        {
         "code": ">>> match_2(\"(734)456-789\") == False\nTrue",
         "failure_message": "match_2('(734)456-789') should return False.",
         "hidden": false,
         "locked": false
        },
        {
         "code": ">>> match_2(\"(734)456-7890\") == False\nTrue",
         "failure_message": "match_2('(734)456-7890') should return False.",
         "hidden": false,
         "locked": false
        },
        {
         "code": ">>> match_2(\"a(734) 456-7890\") == False\nTrue",
         "failure_message": "match_2('a(734) 456-7890') should return False.",
         "hidden": false,
         "locked": false
        },
        {
         "code": ">>> match_2(\"(734) 456-7890b\") == False\nTrue",
         "failure_message": "match_2('(734) 456-7890b') should return False.",
         "hidden": false,
         "locked": false
        },
        {
         "code": ">>> match_2('(734) 235-6781')\nTrue",
         "failure_message": "match_2('(734) 235-6781') should return True.",
         "hidden": false,
         "locked": false
        },
        {
         "code": ">>> match_2('(abc) def-ghi') == False\nTrue",
         "failure_message": "match_2('(abc) def-ghi') should return False.",
         "hidden": false,
         "locked": false
        }
       ],
       "scored": true,
       "setup": "",
       "teardown": "",
       "type": "doctest"
      }
     ]
    },
    "q02_03": {
     "name": "q02_03",
     "points": 2,
     "suites": [
      {
       "cases": [
        {
         "code": ">>> match_3(\"qwertsd?\") == True\nTrue",
         "failure_message": "match_3('qwertsd?') should return True.",
         "hidden": false,
         "locked": false
        },
        {
         "code": ">>> match_3(\"qw?ertsd?\") == True\nTrue",
         "failure_message": "match_3('qw?ertsd?') should return True.",
         "hidden": false,
         "locked": false
        },
        {
         "code": ">>> match_3(\"ab c?\") == False\nTrue",
         "failure_message": "match_3('ab c?') should return False.",
         "hidden": false,
         "locked": false
        },
        {
         "code": ">>> match_3(\"ab   c ?\") == True\nTrue",
         "failure_message": "match_3('ab   c ?') should return True.",
         "hidden": false,
         "locked": false
        },
        {
         "code": ">>> match_3(\" asdfqwes ?\") == False\nTrue",
         "failure_message": "match_3(' asdfqwes ?') should return False.",
         "hidden": false,
         "locked": false
        },
        {
         "code": ">>> match_3(\" adfqwes ?\") == True\nTrue",
         "failure_message": "match_3(' adfqwes ?') should return True.",
         "hidden": false,
         "locked": false
        },
        {
         "code": ">>> match_3(\" adf!qes ?\") == False\nTrue",
         "failure_message": "match_3(' adf!qes ?') should return False.",
         "hidden": false,
         "locked": false
        },
        {
         "code": ">>> match_3(\" adf!qe? \") == False\nTrue",
         "failure_message": "match_3(' adf!qe? ') should return False.",
         "hidden": false,
         "locked": false
        },
        {
         "code": ">>> match_3('wwwWW  ?')\nTrue",
         "failure_message": "match_3('wwwWW  ?') should return True.",
         "hidden": false,
         "locked": false
        },
        {
         "code": ">>> match_3('wwwWW .? ') == False\nTrue",
         "failure_message": "match_3('wwwWW .? ') should return False.",
         "hidden": false,
         "locked": false
        }
       ],
       "scored": true,
       "setup": "",
       "teardown": "",
       "type": "doctest"
      }
     ]
    },
    "q02_04": {
     "name": "q02_04",
     "points": 3,
     "suites": [
      {
       "cases": [
        {
         "code": ">>> match_4(\"$$AaaaaBbbbc\") == True\nTrue",
         "failure_message": "match_4('$$AaaaaBbbbc') should return True.",
         "hidden": false,
         "locked": false
        },
        {
         "code": ">>> match_4(\"$!@#$aABc\") == True\nTrue",
         "failure_message": "match_4('$!@#$aABc') should return True.",
         "hidden": false,
         "locked": false
        },
        {
         "code": ">>> match_4(\"$a$aABc\") == False\nTrue",
         "failure_message": "match_4('$a$aABc') should return False.",
         "hidden": false,
         "locked": false
        },
        {
         "code": ">>> match_4(\"$iiuABc\") == False\nTrue",
         "failure_message": "match_4('$iiuABc') should return False.",
         "hidden": false,
         "locked": false
        },
        {
         "code": ">>> match_4(\"123$$$Abc\") == False\nTrue",
         "failure_message": "match_4('123$$$Abc') should return False.",
         "hidden": false,
         "locked": false
        },
        {
         "code": ">>> match_4(\"$$Abc\") == True\nTrue",
         "failure_message": "match_4('$$Abc') should return True.",
         "hidden": false,
         "locked": false
        },
        {
         "code": ">>> match_4(\"$qw345t$AAAc\") == False\nTrue",
         "failure_message": "match_4('$qw345t$AAAc') should return False.",
         "hidden": false,
         "locked": false
        },
        {
         "code": ">>> match_4(\"$s$Bca\") == False\nTrue",
         "failure_message": "match_4('$s$Bca') should return False.",
         "hidden": false,
         "locked": false
        },
        {
         "code": ">>> match_4(\"$!@$\") == False\nTrue",
         "failure_message": "match_4('$!@$') should return False.",
         "hidden": false,
         "locked": false
        },
        {
         "code": ">>> match_4('$qw!!  $aaBC')\nTrue",
         "failure_message": "match_4('$qw!!  $aaBC') should return True.",
         "hidden": false,
         "locked": false
        },
        {
         "code": ">>> match_4('$qw!!  ABC') == False\nTrue",
         "failure_message": "match_4('$qw!!  ABC')) should return False.",
         "hidden": false,
         "locked": false
        }
       ],
       "scored": true,
       "setup": "",
       "teardown": "",
       "type": "doctest"
      }
     ]
    },
    "q02_05": {
     "name": "q02_05",
     "points": 2,
     "suites": [
      {
       "cases": [
        {
         "code": ">>> match_5(\"eecs398.py\") == True\nTrue",
         "failure_message": "match_5('eecs398.py') should return True.",
         "hidden": false,
         "locked": false
        },
        {
         "code": ">>> match_5(\"here is a Python file eecs398.py\") == False\nTrue",
         "failure_message": "match_5('here is a Python file eecs398.py') should return False.",
         "hidden": false,
         "locked": false
        },
        {
         "code": ">>> match_5(\"eecs398py\") == False\nTrue",
         "failure_message": "match_5('eecs398py') should return False.",
         "hidden": false,
         "locked": false
        },
        {
         "code": ">>> match_5(\"eecs398..py\") == False\nTrue",
         "failure_message": "match_5('eecs398..py') should return False.",
         "hidden": false,
         "locked": false
        },
        {
         "code": ">>> match_5(\"eecs398+.py\") == False\nTrue",
         "failure_message": "match_5('eecs398+.py') should return False.",
         "hidden": false,
         "locked": false
        },
        {
         "code": ">>> match_5('eecs398_.py')\nTrue",
         "failure_message": "match_5('eecs398_.py') should return True.",
         "hidden": false,
         "locked": false
        },
        {
         "code": ">>> match_5('eecs398_.py.py') == False\nTrue",
         "failure_message": "match_5('eecs398_.py.py') should return False.",
         "hidden": false,
         "locked": false
        }
       ],
       "scored": true,
       "setup": "",
       "teardown": "",
       "type": "doctest"
      }
     ]
    },
    "q02_06": {
     "name": "q02_06",
     "points": 2,
     "suites": [
      {
       "cases": [
        {
         "code": ">>> match_6(\"aab_cbb_bc\") == False\nTrue",
         "failure_message": "match_6('aab_cbb_bc') should return False.",
         "hidden": false,
         "locked": false
        },
        {
         "code": ">>> match_6(\"aab_cbbbc\") == True\nTrue",
         "failure_message": "match_6('aab_cbbbc') should return True.",
         "hidden": false,
         "locked": false
        },
        {
         "code": ">>> match_6(\"aab_Abbbc\") == False\nTrue",
         "failure_message": "match_6('aab_Abbbc') should return False.",
         "hidden": false,
         "locked": false
        },
        {
         "code": ">>> match_6(\"abcdef\") == False\nTrue",
         "failure_message": "match_6('abcdef') should return False.",
         "hidden": false,
         "locked": false
        },
        {
         "code": ">>> match_6(\"ABCDEF_ABCD\") == False\nTrue",
         "failure_message": "match_6('ABCDEF_ABCD') should return False.",
         "hidden": false,
         "locked": false
        },
        {
         "code": ">>> match_6('zebra_') == False\nTrue",
         "failure_message": "match_6('zebra_') should return False.",
         "hidden": false,
         "locked": false
        },
        {
         "code": ">>> match_6('zebra_d')\nTrue",
         "failure_message": "match_6('zebra_d') should return True.",
         "hidden": false,
         "locked": false
        },
        {
         "code": ">>> match_6('here zebra_d') == False\nTrue",
         "failure_message": "match_6('here zebra_d') should return False.",
         "hidden": false,
         "locked": false
        }
       ],
       "scored": true,
       "setup": "",
       "teardown": "",
       "type": "doctest"
      }
     ]
    },
    "q02_07": {
     "name": "q02_07",
     "points": 2,
     "suites": [
      {
       "cases": [
        {
         "code": ">>> match_7(\"_abc_\") == True\nTrue",
         "failure_message": "match_7('_abc_') should return True.",
         "hidden": false,
         "locked": false
        },
        {
         "code": ">>> match_7(\"_ZeBr@45Din000!!!\\b_\") == True\nTrue",
         "failure_message": "match_7(\"_ZeBr@45Din000!!!\\b_\") should return True.",
         "hidden": false,
         "locked": false
        },
        {
         "code": ">>> match_7(\"abd\") == False\nTrue",
         "failure_message": "match_7('abd') should return False.",
         "hidden": false,
         "locked": false
        },
        {
         "code": ">>> match_7(\"bcd\") == False\nTrue",
         "failure_message": "match_7('bcd') should return False.",
         "hidden": false,
         "locked": false
        },
        {
         "code": ">>> match_7(\"_ncde\") == False\nTrue",
         "failure_message": "match_7('_ncde') should return False.",
         "hidden": false,
         "locked": false
        },
        {
         "code": ">>> match_7('_') == False\nTrue",
         "failure_message": "match_7('_') should return False.",
         "hidden": false,
         "locked": false
        },
        {
         "code": ">>> match_7('abc_dc_') == False\nTrue",
         "failure_message": "match_7('abc_dc_') should return False.",
         "hidden": false,
         "locked": false
        }
       ],
       "scored": true,
       "setup": "",
       "teardown": "",
       "type": "doctest"
      }
     ]
    },
    "q02_08": {
     "name": "q02_08",
     "points": 2,
     "suites": [
      {
       "cases": [
        {
         "code": ">>> match_8(\"ASJDKLFK10ASDO\") == False\nTrue",
         "failure_message": "match_8('ASJDKLFK10ASDO') should return False.",
         "hidden": false,
         "locked": false
        },
        {
         "code": ">>> match_8(\"iPhone 10\") == False\nTrue",
         "failure_message": "match_8('iPhone 10') should return False.",
         "hidden": false,
         "locked": false
        },
        {
         "code": ">>> match_8(\"ASJDKLFK0ASDo!!!!!!! !!!!!!!!!\")\nTrue",
         "failure_message": "match_8('ASJDKLFK0ASDo!!!!!!! !!!!!!!!!') should return True.",
         "hidden": false,
         "locked": false
        },
        {
         "code": ">>> match_8(\"JKLSDNM01IDKSL\") == False\nTrue",
         "failure_message": "match_8('JKLSDNM01IDKSL') should return False.",
         "hidden": false,
         "locked": false
        },
        {
         "code": ">>> match_8(\"ASDKJLdsi0SKLl\") == False\nTrue",
         "failure_message": "match_8('ASDKJLdsi0SKLl') should return False.",
         "hidden": false,
         "locked": false
        },
        {
         "code": ">>> match_8('ASDJKL9380JKAL')\nTrue",
         "failure_message": "match_8('ASDJKL9380JKAL') should return True.",
         "hidden": false,
         "locked": false
        },
        {
         "code": ">>> match_8(\"hi ASDJKL9380JKAL\") == False\nTrue",
         "failure_message": "match_8('hi ASDJKL9380JKAL') should return False.",
         "hidden": false,
         "locked": false
        },
        {
         "code": ">>> match_8('ASJDKLFK10ASDO') == False\nTrue",
         "failure_message": "match_8('ASJDKLFK10ASDO') should return False.",
         "hidden": false,
         "locked": false
        }
       ],
       "scored": true,
       "setup": "",
       "teardown": "",
       "type": "doctest"
      }
     ]
    },
    "q02_09": {
     "name": "q02_09",
     "points": 3,
     "suites": [
      {
       "cases": [
        {
         "code": ">>> match_9('MI-32-LAN-1232')\nTrue",
         "failure_message": "match_9('MI-32-LAN-1232') should return True.",
         "hidden": false,
         "locked": false
        },
        {
         "code": ">>> match_9('TX-32-DTW-1232')\nTrue",
         "failure_message": "match_9('TX-32-DTW-1232') should return True.",
         "hidden": false,
         "locked": false
        },
        {
         "code": ">>> match_9('CA-32-LAN-1232') == False\nTrue",
         "failure_message": "match_9('CA-32-LAN-1232') should return False.",
         "hidden": false,
         "locked": false
        },
        {
         "code": ">>> match_9('mI-32-LAN-1232') == False\nTrue",
         "failure_message": "match_9('mI-32-LAN-1232') should return False.",
         "hidden": false,
         "locked": false
        },
        {
         "code": ">>> match_9('ca-23-SAN-1231') == False\nTrue",
         "failure_message": "match_9('ca-23-SAN-1231') should return False.",
         "hidden": false,
         "locked": false
        },
        {
         "code": ">>> match_9('TX-00-JFK-1345')\nTrue",
         "failure_message": "match_9('TX-00-JFK-1345') should return True.",
         "hidden": false,
         "locked": false
        },
        {
         "code": ">>> match_9('TX-00') == False\nTrue",
         "failure_message": "match_9('TX-00') should return False.",
         "hidden": false,
         "locked": false
        },
        {
         "code": ">>> match_9('TX-000-JFK-1345') == False\nTrue",
         "failure_message": "match_9('TX-000-JFK-1345') should return False.",
         "hidden": false,
         "locked": false
        },
        {
         "code": ">>> match_9('TX-00-JFK-134') == False\nTrue",
         "failure_message": "match_9('TX-00-JFK-134') should return False.",
         "hidden": false,
         "locked": false
        },
        {
         "code": ">>> match_9('ca-00-JFK-1345') == False\nTrue",
         "failure_message": "match_9('ca-00-JFK-1345') should return False.",
         "hidden": false,
         "locked": false
        },
        {
         "code": ">>> match_9('MI-19-DTW-1998')\nTrue",
         "failure_message": "match_9('MI-19-DTW-1998') should return True.",
         "hidden": false,
         "locked": false
        },
        {
         "code": ">>> match_9('MI-19-DTW-19980') == False\nTrue",
         "failure_message": "match_9('MI-19-DTW-19980') should return False.",
         "hidden": false,
         "locked": false
        }
       ],
       "scored": true,
       "setup": "",
       "teardown": "",
       "type": "doctest"
      }
     ]
    },
    "q02_10": {
     "name": "q02_10",
     "points": 3,
     "suites": [
      {
       "cases": [
        {
         "code": ">>> match_10('ABCdef') == ['bcd']\nTrue",
         "failure_message": "match_10('ABCdef') should return ['bcd'].",
         "hidden": false,
         "locked": false
        },
        {
         "code": ">>> match_10(' DEFaabc !g ') == ['def', 'bcg']\nTrue",
         "failure_message": "match_10(' DEFaabc !g ') should return ['def', 'bcg'].",
         "hidden": false,
         "locked": false
        },
        {
         "code": ">>> match_10('Come ti chiami?') == ['com', 'eti', 'chi']\nTrue",
         "failure_message": "match_10('Come ti chiami?') should return ['com', 'eti', 'chi'].",
         "hidden": false,
         "locked": false
        },
        {
         "code": ">>> match_10('and') == []\nTrue",
         "failure_message": "match_10('and') should return [].",
         "hidden": false,
         "locked": false
        },
        {
         "code": ">>> match_10('Ab..DEF') == ['bde']\nTrue",
         "failure_message": "match_10('Ab..DEF') should return ['bde'].",
         "hidden": false,
         "locked": false
        },
        {
         "code": ">>> match_10('acaadac!') == ['cdc']\nTrue",
         "failure_message": "match_10('acaadac!') should return ['cdc'].",
         "hidden": false,
         "locked": false
        },
        {
         "code": ">>> match_10('h9i9hOWW44areY@') == ['h9i', '9ho', 'ww4', '4re']\nTrue",
         "failure_message": "match_10('h9i9hOWW44areY@') should return ['h9i', '9ho', 'ww4', '4re'].",
         "hidden": false,
         "locked": false
        },
        {
         "code": ">>> match_10('FINALS are COMING A') == ['fin', 'lsr', 'eco', 'min']\nTrue",
         "failure_message": "match_10('FINALS are COMING A') should return ['fin', 'lsr', 'eco', 'min'].",
         "hidden": false,
         "locked": false
        }
       ],
       "scored": true,
       "setup": "",
       "teardown": "",
       "type": "doctest"
      }
     ]
    },
    "q03_01": {
     "name": "q03_01",
     "points": 2,
     "suites": [
      {
       "cases": [
        {
         "code": ">>> out = extract_ssns('bitcoin:1BvBMSEYstWetqTFn5Au4m4GFg7xJaNVN2$jk%^3\\t,test@test55.ca,lkj5r%ji|ssn:423-01-9575,530 High Street')\n>>> out[0] == '423-01-9575'\nTrue",
         "failure_message": "The first SSN in the example string should be 423-01-9575.",
         "hidden": false,
         "locked": false
        },
        {
         "code": ">>> s = open('data/messy.txt', encoding='utf8').read()\n>>> out = extract_ssns(s)\n>>> 2200 <= len(out) <= 3000\nTrue",
         "failure_message": "Between 2200 and 3000 SSNs should be extracted.",
         "hidden": false,
         "locked": false
        },
        {
         "code": ">>> s = open('data/messy.txt', encoding='utf8').read()\n>>> out = extract_ssns(s)\n>>> sixes = len([x for x in out if x[0] == '6'])\n>>> 300 <= sixes <= 350\nTrue",
         "failure_message": "Between 300 and 350 SSNs beginning with 6 should be extracted.",
         "hidden": false,
         "locked": false
        },
        {
         "code": ">>> s = open('data/messy.txt', encoding='utf8').read()\n>>> out = extract_ssns(s)\n>>> '634-49-4764' in out[15]\nTrue",
         "failure_message": "'634-49-4764' should be among the SSNs extracted.",
         "hidden": false,
         "locked": false
        }
       ],
       "scored": true,
       "setup": "",
       "teardown": "",
       "type": "doctest"
      }
     ]
    },
    "q03_02": {
     "name": "q03_02",
     "points": 2,
     "suites": [
      {
       "cases": [
        {
         "code": ">>> out = extract_bitcoin_addresses('bitcoin:1BvBMSEYstWetqTFn5Au4m4GFg7xJaNVN2$jk%^3\\t,test@test55.umich.edu,lkj5r%ji|ssn:423-01-9575,530 High Street')\n>>> out[0] == '1BvBMSEYstWetqTFn5Au4m4GFg7xJaNVN2'\nTrue",
         "failure_message": "The first bitcoin address in the example string should be 1BvBMSEYstWetqTFn5Au4m4GFg7xJaNVN2.",
         "hidden": false,
         "locked": false
        },
        {
         "code": ">>> s = open('data/messy.txt', encoding='utf8').read()\n>>> out = extract_bitcoin_addresses(s)\n>>> 2500 <= len(out) <= 3000\nTrue",
         "failure_message": "Between 2500 and 3000 bitcoin addresses need to be extracted.",
         "hidden": false,
         "locked": false
        },
        {
         "code": ">>> s = open('data/messy.txt', encoding='utf8').read()\n>>> out = extract_bitcoin_addresses(s)\n>>> 'null' not in out\nTrue",
         "failure_message": "The string 'null' should not be in the returned list.",
         "hidden": false,
         "locked": false
        }
       ],
       "scored": true,
       "setup": "",
       "teardown": "",
       "type": "doctest"
      }
     ]
    },
    "q03_03": {
     "name": "q03_03",
     "points": 2,
     "suites": [
      {
       "cases": [
        {
         "code": ">>> out = extract_emails('bitcoin:1BvBMSEYstWetqTFn5Au4m4GFg7xJaNVN2$jk%^3\\t,test@test55.umich.edu,lkj5r%ji|ssn:423-01-9575,530 High Street')\n>>> out[0] == 'test@test55.umich.edu'\nTrue",
         "failure_message": "The first email in the example string should be \"test@test55.umich.edu\".",
         "hidden": false,
         "locked": false
        },
        {
         "code": ">>> s = open('data/messy.txt', encoding='utf8').read()\n>>> out = extract_emails(s)\n>>> out[0] == 'dottewell0@gnu.org'\nTrue",
         "failure_message": "Between 550 and 1000 emails should be extracted.",
         "hidden": false,
         "locked": false
        },
        {
         "code": ">>> s = open('data/messy.txt', encoding='utf8').read()\n>>> out = extract_emails(s)\n>>> 550 <= len(out) <= 1000\nTrue",
         "failure_message": "Between 550 and 1000 emails should be extracted.",
         "hidden": false,
         "locked": false
        },
        {
         "code": ">>> s = open('data/messy.txt', encoding='utf8').read()\n>>> out = extract_emails(s)\n>>> gov = len([x for x in out if '.gov' in x])\n>>> 25 <= gov <= 100\nTrue",
         "failure_message": "Between 25 and 100 emails should contain \".gov\".",
         "hidden": false,
         "locked": false
        },
        {
         "code": ">>> s = open('data/messy.txt', encoding='utf8').read()\n>>> out = extract_emails(s)\n>>> sd = len([x for x in out if 'google.pl' in x])\n>>> 1 <= sd <= 4\nTrue",
         "failure_message": "Between 1 and 4 emails should contain \"google.pl\".",
         "hidden": false,
         "locked": false
        },
        {
         "code": ">>> s = open('data/messy.txt', encoding='utf8').read()\n>>> out = extract_emails(s)\n>>> 'ihouseleeme@mit.edu' in out\nTrue",
         "failure_message": "'ihouseleeme@mit.edu' should be among the emails extracted.",
         "hidden": false,
         "locked": false
        },
        {
         "code": ">>> s = open('data/messy.txt', encoding='utf8').read()\n>>> out = extract_emails(s)\n>>> 'null' not in out\nTrue",
         "failure_message": "The returned list should have no empty strings.",
         "hidden": false,
         "locked": false
        }
       ],
       "scored": true,
       "setup": "",
       "teardown": "",
       "type": "doctest"
      }
     ]
    },
    "q03_04": {
     "name": "q03_04",
     "points": 2,
     "suites": [
      {
       "cases": [
        {
         "code": ">>> out = extract_street_addresses('bitcoin:1BvBMSEYstWetqTFn5Au4m4GFg7xJaNVN2$jk%^3\\t,test@test55.umich.edu,lkj5r%ji|ssn:423-01-9575,530 High Street')\n>>> out[0] == '530 High Street'\nTrue",
         "failure_message": "The first street address in the example string should be '530 High Street'.",
         "hidden": false,
         "locked": false
        },
        {
         "code": ">>> s = open('data/messy.txt', encoding='utf8').read()\n>>> out = extract_street_addresses(s)\n>>> 700 <= len(out) <= 1400\nTrue",
         "failure_message": "Between 700 and 1400 addresses should be extracted.",
         "hidden": false,
         "locked": false
        },
        {
         "code": ">>> s = open('data/messy.txt', encoding='utf8').read()\n>>> out = extract_street_addresses(s)\n>>> addr = len([x for x in out if x[-4:] == 'Lane'])\n>>> 30 <= addr <= 60\nTrue",
         "failure_message": "Between 30 and 60 addresses ending in \"Lane\" should be extracted.",
         "hidden": false,
         "locked": false
        },
        {
         "code": ">>> s = open('data/messy.txt', encoding='utf8').read()\n>>> out = extract_street_addresses(s)\n>>> '732 Butterfield Plaza' in out\nTrue",
         "failure_message": "'732 Butterfield Plaza' should be extracted as a street address from messy.txt.",
         "hidden": false,
         "locked": false
        }
       ],
       "scored": true,
       "setup": "",
       "teardown": "",
       "type": "doctest"
      }
     ]
    },
    "q04_01": {
     "name": "q04_01",
     "points": 1,
     "suites": [
      {
       "cases": [
        {
         "code": ">>> isinstance(query_llama('Tell me a joke about data science'), str)\nTrue",
         "failure_message": "Make sure query_llama returns a string.",
         "hidden": false,
         "locked": false
        },
        {
         "code": ">>> query_llama('Tell me a joke about data science') != query_llama('What is 1+1')\nTrue",
         "failure_message": "Make sure query_llama isn't hard-coded to always return the same string.",
         "hidden": false,
         "locked": false
        }
       ],
       "scored": true,
       "setup": "",
       "teardown": "",
       "type": "doctest"
      }
     ]
    },
    "q04_02": {
     "name": "q04_02",
     "points": 1,
     "suites": [
      {
       "cases": [
        {
         "code": ">>> tokenize('hi there') == ['hi', 'there']\nTrue",
         "failure_message": "Incorrect output for input 'hi there'.",
         "hidden": false,
         "locked": false
        },
        {
         "code": ">>> tokenize(\"EECS 398-003: Practical Data Science, Fall 2024's about data management and applied machine learning.\") == ['eecs', '398', '003', 'practical', 'data', 'science', 'fall', '2024', 's', 'about', 'data', 'management', 'and', 'applied', 'machine', 'learning']\nTrue",
         "failure_message": "Incorrect output for input \"EECS 398-003 Practical Data Science's about data management and applied machine learning.\".",
         "hidden": false,
         "locked": false
        },
        {
         "code": ">>> out = tokenize(open('data/syllabi/485.txt', 'r').read())\n>>> out[:20] == ['eecs', '485', 'web', 'systems', 'syllabus', 'the', 'university', 'of', 'michigan', 'fall', '2024', 'a', 'holistic', 'course', 'of', 'modern', 'web', 'systems', 'and', 'technologies']\nTrue",
         "failure_message": "Incorrect output for eecs485.txt (first 20 tokens).",
         "hidden": false,
         "locked": false
        },
        {
         "code": ">>> out = tokenize(open('data/syllabi/280.txt', 'r').read())\n>>> 'grade we ll compute it both ways and take the higher you can max out this credit even if you miss a few lectures labs' in ' '.join(out)\nTrue",
         "failure_message": "Incorrect output for eecs280.txt (missing substring).",
         "hidden": false,
         "locked": false
        },
        {
         "code": ">>> out = tokenize(open('data/syllabi/280.txt', 'r').read())\n>>> ('.' not in out) and ('!' not in out) and (':' not in out) and ('@' not in out)\nTrue",
         "failure_message": "Incorrect output for eecs280.txt (found punctuation, but there should be none).",
         "hidden": false,
         "locked": false
        },
        {
         "code": ">>> out = tokenize(open('data/syllabi/203.txt', 'r').read())\n>>> counts = pd.Series(out).value_counts()\n>>> counts.loc['the'] == 206 and counts.loc['prof'] == 3\nTrue",
         "failure_message": "Incorrect output for eecs203.txt (wrong frequency of tokens).",
         "hidden": false,
         "locked": false
        }
       ],
       "scored": true,
       "setup": "",
       "teardown": "",
       "type": "doctest"
      }
     ]
    },
    "q04_03": {
     "name": "q04_03",
     "points": 4,
     "suites": [
      {
       "cases": [
        {
         "code": ">>> out = files_to_bow('data/syllabi')\n>>> out.shape == (29, 4306)\nTrue",
         "failure_message": "Outputted DataFrame has incorrect shape.",
         "hidden": false,
         "locked": false
        },
        {
         "code": ">>> out = files_to_bow('data/syllabi')\n>>> (out.index == ['183.txt', '203.txt', '270.txt', '280.txt', '281.txt', '370.txt', '373.txt', '376.txt', '388.txt', '390.txt', '445.txt', '453.txt', '465.txt', '467.txt', '470.txt', '471.txt', '473.txt', '475.txt', '481.txt', '482.txt', '483.txt', '484.txt', '485.txt', '487.txt', '489.txt', '490.txt', '492.txt', '493.txt', '494.txt']).all()\nTrue",
         "failure_message": "Outputted DataFrame has incorrect index (remember to sort it in ascending order).",
         "hidden": false,
         "locked": false
        },
        {
         "code": ">>> out = files_to_bow('data/syllabi')\n>>> set(out.columns) >= {'data', 'machine', 'learning', 'professor', 'has'}\nTrue",
         "failure_message": "Outputted DataFrame has missing column names (i.e. missing tokens).",
         "hidden": false,
         "locked": false
        },
        {
         "code": ">>> out = files_to_bow('data/syllabi')\n>>> out.loc['280.txt', 'computer'] == 5\nTrue",
         "failure_message": "Outputted DataFrame has incorrect 'computer' frequency for 280.",
         "hidden": false,
         "locked": false
        },
        {
         "code": ">>> out = files_to_bow('data/syllabi')\n>>> (out.loc['493.txt'] > 0).sum() == 587\nTrue",
         "failure_message": "Outputted DataFrame has incorrect counts for 493.",
         "hidden": false,
         "locked": false
        },
        {
         "code": ">>> out = files_to_bow('data/syllabi')\n>>> out.sum(axis=1).max() == 4533 and out.sum(axis=1).idxmax() == '281.txt'\nTrue",
         "failure_message": "Outputted DataFrame has incorrect counts for 281.",
         "hidden": false,
         "locked": false
        }
       ],
       "scored": true,
       "setup": "",
       "teardown": "",
       "type": "doctest"
      }
     ]
    },
    "q04_04": {
     "name": "q04_04",
     "points": 3,
     "suites": [
      {
       "cases": [
        {
         "code": ">>> out = bow_to_tfidf(bow)\n>>> out.shape == (29, 4306)\nTrue",
         "failure_message": "Outputted DataFrame has incorrect shape.",
         "hidden": false,
         "locked": false
        },
        {
         "code": ">>> out = bow_to_tfidf(bow)\n>>> (out.index == ['183.txt', '203.txt', '270.txt', '280.txt', '281.txt', '370.txt', '373.txt', '376.txt', '388.txt', '390.txt', '445.txt', '453.txt', '465.txt', '467.txt', '470.txt', '471.txt', '473.txt', '475.txt', '481.txt', '482.txt', '483.txt', '484.txt', '485.txt', '487.txt', '489.txt', '490.txt', '492.txt', '493.txt', '494.txt']).all()\nTrue",
         "failure_message": "Outputted DataFrame has incorrect index (keep the same index as bow).",
         "hidden": false,
         "locked": false
        },
        {
         "code": ">>> out = bow_to_tfidf(bow)\n>>> np.isclose(out.loc['280.txt', 'computer'], 0.0006941026000778394)\nTrue",
         "failure_message": "Outputted DataFrame has incorrect 'computer' TF-IDF for 280.",
         "hidden": false,
         "locked": false
        },
        {
         "code": ">>> out = bow_to_tfidf(bow)\n>>> np.isclose(out.loc['485.txt', 'science'], 0.0005272966438261625)\nTrue",
         "failure_message": "Outputted DataFrame has incorrect 'science' TF-IDF for 485.",
         "hidden": false,
         "locked": false
        },
        {
         "code": ">>> out = bow_to_tfidf(bow)\n>>> out['the'].sum() == 0\nTrue",
         "failure_message": "Outputted DataFrame has non-zero TF-IDFs for \"the\", but all should be 0.",
         "hidden": false,
         "locked": false
        },
        {
         "code": ">>> out = bow_to_tfidf(bow)\n>>> (out.loc['484.txt'] > 0).sum() == 122\nTrue",
         "failure_message": "Outputted DataFrame has incorrect number of non-zero values for 484.",
         "hidden": false,
         "locked": false
        },
        {
         "code": ">>> out = bow_to_tfidf(bow)\n>>> out.loc['183.txt'].idxmax() == 'ecoach'\nTrue",
         "failure_message": "Outputted DataFrame has incorrect largest TF-IDF for 183.",
         "hidden": false,
         "locked": false
        }
       ],
       "scored": true,
       "setup": "",
       "teardown": "",
       "type": "doctest"
      }
     ]
    },
    "q04_05": {
     "name": "q04_05",
     "points": 3,
     "suites": [
      {
       "cases": [
        {
         "code": ">>> out = new_query_to_tfidf('yooo I am very very very interested in a practical machine learning course')\n>>> (out > 0).sum() == 7\nTrue",
         "failure_message": "Outputted Series has incorrect number of non-zero values for query below.",
         "hidden": false,
         "locked": false
        },
        {
         "code": ">>> out = new_query_to_tfidf('yooo I am very very very interested in a practical machine learning course')\n>>> np.allclose(np.sort(out[out > 0]), np.array([0.03252745, 0.0507112 , 0.09000548, 0.10933736, 0.15238473, 0.17451412, 0.32801208]))\nTrue",
         "failure_message": "Outputted Series has incorrect number values for query below.",
         "hidden": false,
         "locked": false
        },
        {
         "code": ">>> out = new_query_to_tfidf('yooo I am very very very interested in a practical machine learning course')\n>>> set(out[out > 0].index) == {'am', 'i', 'interested', 'learning', 'machine', 'practical', 'very'}\nTrue",
         "failure_message": "Outputted Series has incorrect non-zero values for query below.",
         "hidden": false,
         "locked": false
        },
        {
         "code": ">>> out = new_query_to_tfidf('sEIG;H I  seigh;o ')\n>>> set(out[out > 0].index) == {'h', 'i', 'o'} and np.allclose(np.sort(out[out > 0]), np.array([0.08457137, 0.35157158, 0.45373671]))\nTrue",
         "failure_message": "Outputted Series has incorrect non-zero values for query below.",
         "hidden": false,
         "locked": false
        },
        {
         "code": ">>> out = new_query_to_tfidf('sEIG;H I  seigh;o ')\n>>> np.allclose(np.sort(out[out > 0]), np.array([0.08457137, 0.35157158, 0.45373671]))\nTrue",
         "failure_message": "Outputted Series has incorrect non-zero values for query below.",
         "hidden": false,
         "locked": false
        },
        {
         "code": ">>> out = new_query_to_tfidf('logical programming Fundamentals C++ compiler operator linear FUNCtional computer science 60 exam')\n>>> set(out[out > 0].index) == {'60', 'c', 'compiler', 'computer', 'exam', 'functional', 'fundamentals', 'linear', 'operator', 'programming', 'science'}\nTrue",
         "failure_message": "Outputted Series has incorrect non-zero values for query below.",
         "hidden": false,
         "locked": false
        },
        {
         "code": ">>> out = new_query_to_tfidf('logical programming Fundamentals C++ compiler operator linear FUNCtional computer science 60 exam')\n>>> np.allclose(np.sort(out[out > 0]), np.array([0.01236833, 0.02302111, 0.04955893, 0.06068654, 0.08078338, 0.09750594, 0.10732119, 0.14648816, 0.14648816, 0.14648816, 0.28060799]))\nTrue",
         "failure_message": "Outputted Series has incorrect non-zero values for query below.",
         "hidden": false,
         "locked": false
        },
        {
         "code": ">>> out = new_query_to_tfidf('logical programming Fundamentals C++ compiler operator linear FUNCtional computer science 60 exam')\n>>> out.shape[0] == 4306\nTrue",
         "failure_message": "Outputted Series has incorrect shape.",
         "hidden": false,
         "locked": false
        }
       ],
       "scored": true,
       "setup": "",
       "teardown": "",
       "type": "doctest"
      }
     ]
    },
    "q04_06": {
     "name": "q04_06",
     "points": 3,
     "suites": [
      {
       "cases": [
        {
         "code": ">>> out = top_n_similar_documents('yooo I am very very very interested in a practical machine learning course', 3)\n>>> set(out) == {'445.txt', '453.txt', '467.txt'}\nTrue",
         "failure_message": "Incorrect documents for input 'yooo I am very very very interested in a practical machine learning course', n = 3.",
         "hidden": false,
         "locked": false
        },
        {
         "code": ">>> out = top_n_similar_documents('yooo I am very very very interested in a practical machine learning course', 3)\n>>> out == ['467.txt', '445.txt', '453.txt']\nTrue",
         "failure_message": "Incorrect document order for 'yooo I am very very very interested in a practical machine learning course', n = 3.",
         "hidden": false,
         "locked": false
        },
        {
         "code": ">>> out = top_n_similar_documents('C++ programming and systems design', 4)\n>>> out == ['482.txt', '473.txt', '370.txt', '281.txt']\nTrue",
         "failure_message": "Incorrect documents for 'C++ programming and systems design', n = 4.",
         "hidden": false,
         "locked": false
        },
        {
         "code": ">>> out = top_n_similar_documents('C++ programming and systems design', 6)\n>>> out == ['482.txt', '473.txt', '370.txt', '281.txt', '280.txt', '470.txt']\nTrue",
         "failure_message": "Incorrect documents for 'C++ programming and systems design', n = 6.",
         "hidden": false,
         "locked": false
        },
        {
         "code": ">>> out = top_n_similar_documents('mathematical foundations of computing', 3)\n>>> out == ['475.txt', '376.txt', '490.txt']\nTrue",
         "failure_message": "Incorrect documents for 'mathematical foundations of computing', n = 3.",
         "hidden": false,
         "locked": false
        },
        {
         "code": ">>> out = top_n_similar_documents('probability theory and randomness', 7)\n>>> out == ['376.txt', '475.txt', '492.txt', '203.txt', '453.txt', '487.txt', '445.txt']\nTrue",
         "failure_message": "Incorrect documents for 'probability theory and randomness', n = 7.",
         "hidden": false,
         "locked": false
        }
       ],
       "scored": true,
       "setup": "",
       "teardown": "",
       "type": "doctest"
      }
     ]
    },
    "q04_07": {
     "name": "q04_07",
     "points": 4,
     "suites": [
      {
       "cases": [
        {
         "code": ">>> outs = [ask_gpteecs('yooo I am very very very interested in a practical machine learning course') for _ in range(3)]\n>>> any([\"445\" in out for out in outs]) and len(set(outs)) >= 2\nTrue",
         "failure_message": "445 not found in response for the query \"yooo I am very very very interested in a practical machine learning course\", or queries were all the same when called repeatedly (but should not be).",
         "hidden": false,
         "locked": false
        },
        {
         "code": ">>> outs = [ask_gpteecs('programming') for _ in range(3)]\n>>> any([\"390\" in out or \"490\" in out for out in outs]) and len(set(outs)) >= 2\nTrue",
         "failure_message": "Neither 390 nor 490 found in response for the query \"programming\", or queries were all the same when called repeatedly (but should not be).",
         "hidden": false,
         "locked": false
        },
        {
         "code": ">>> outs = [ask_gpteecs('what professors are teaching eecs 280', n=1) for _ in range(3)]\n>>> any(['Juett' in out or 'Kamil' in out or 'Razak' in out for out in outs]) and len(set(outs)) >= 2\nTrue",
         "failure_message": "Neither Juett nor Kamil nor Razak found in response for the query below, or queries were all the same when called repeatedly (but should not be).",
         "hidden": false,
         "locked": false
        }
       ],
       "scored": true,
       "setup": "",
       "teardown": "",
       "type": "doctest"
      }
     ]
    }
   }
  }
 },
 "nbformat": 4,
 "nbformat_minor": 5
}
