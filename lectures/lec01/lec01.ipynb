{
 "cells": [
  {
   "cell_type": "code",
   "execution_count": null,
   "id": "40077d4e",
   "metadata": {
    "slideshow": {
     "slide_type": "skip"
    },
    "tags": []
   },
   "outputs": [],
   "source": [
    "from lec_utils import *"
   ]
  },
  {
   "cell_type": "markdown",
   "id": "3143de48",
   "metadata": {
    "slideshow": {
     "slide_type": "slide"
    },
    "tags": []
   },
   "source": [
    "<div class=\"alert alert-info\" markdown=\"1\">\n",
    "\n",
    "#### Lecture 1\n",
    "\n",
    "# Introduction\n",
    "\n",
    "### EECS 398-003: Practical Data Science, Fall 2024\n",
    "    \n",
    "</div>"
   ]
  },
  {
   "cell_type": "markdown",
   "id": "61dfa21e",
   "metadata": {
    "slideshow": {
     "slide_type": "slide"
    }
   },
   "source": [
    "<center><h2>Welcome to Practical Data Science! 🎉</h2></center>"
   ]
  },
  {
   "cell_type": "markdown",
   "id": "07213ce0",
   "metadata": {
    "slideshow": {
     "slide_type": "slide"
    }
   },
   "source": [
    "### Agenda\n",
    "\n",
    "- Who are we?\n",
    "- What is data science?\n",
    "- Course content and logistics.\n",
    "- Example: Trends in baby names 👶."
   ]
  },
  {
   "cell_type": "markdown",
   "id": "be426149",
   "metadata": {
    "slideshow": {
     "slide_type": "slide"
    }
   },
   "source": [
    "### Instructor: Suraj Rampure\n",
    "\n",
    "Call me Suraj, pronounced \"sooh-rudge\".\n",
    "\n",
    "- **First year as faculty at the  <b><span style=\"background-color: #FFCB05; color: #00274C\">University of Michigan</span></b>!**<br><small>Go Blue!</small>\n",
    "- Originally from Windsor, ON, Canada 🇨🇦.\n",
    "- BS and MS in EECS from UC Berkeley 🐻.\n",
    "- Just moved to Detroit from San Diego, where I taught data science for three years at UC San Diego.<br>\n",
    "<small>Forgive me if I say \"quarter\" a lot – UCSD was on the quarter system!</small>\n",
    "- Outside interests: traveling, hiking, eating out, watching basketball, visiting my dog 🐶, etc."
   ]
  },
  {
   "cell_type": "markdown",
   "id": "ed85218f",
   "metadata": {
    "slideshow": {
     "slide_type": "slide"
    }
   },
   "source": [
    "<center>\n",
    "    <img src=\"imgs/summer.png\" width=80%><small>Pictures from my road trip from San Diego to Michigan, the Leaning Tower of Pisa in Italy, and Interlaken in Switzerland.</small>\n",
    "</center>"
   ]
  },
  {
   "cell_type": "markdown",
   "id": "fc6a33c0",
   "metadata": {
    "slideshow": {
     "slide_type": "slide"
    }
   },
   "source": [
    "\n",
    "\n",
    "### Course staff\n",
    "\n",
    "In addition to the instructor, we have several staff members who are here to help you in discussion, office hours, and on Ed:\n",
    "\n",
    "- **1 GSI**: Nishant Kheterpal.\n",
    "- **3 IAs**: Kyle Hoffmeyer, Yutong Li, and Pranavi Pratapa.\n",
    "- **2 graders**: Neeru Uppalapati and Jingrui Zhuang."
   ]
  },
  {
   "cell_type": "markdown",
   "id": "1f67c73a",
   "metadata": {
    "slideshow": {
     "slide_type": "-"
    }
   },
   "source": [
    "Learn more about them at [practicaldsc.org/staff](https://practicaldsc.org/staff)."
   ]
  },
  {
   "cell_type": "markdown",
   "id": "b7e305e3",
   "metadata": {
    "slideshow": {
     "slide_type": "fragment"
    }
   },
   "source": [
    "**After class today**, come say hi to me and some of the TAs! We'll be at the tables in front of BBB in the diag from 3-4PM."
   ]
  },
  {
   "cell_type": "markdown",
   "id": "abc7ce30",
   "metadata": {
    "slideshow": {
     "slide_type": "slide"
    }
   },
   "source": [
    "### Please ask questions in lecture!\n",
    "\n",
    "- You're always free to ask questions during lecture, and I'll try and stop for them frequently. But still, you may not feel like asking your question out loud.\n",
    "\n",
    "- You can **type your questions anonymously** at the following link and I'll try and answer them.\n",
    "\n",
    "<div class=\"alert alert-warning\" align=center>\n",
    "    <h3><a style=\"text-decoration: none; color: #0066cc\" href=\"https://docs.google.com/forms/d/e/1FAIpQLSd4oliiZYeNh76jWy-arfEtoAkCrVSsobZxPwxifWggo3EO0Q/viewform\">practicaldsc.org/q</a></h3>\n",
    "    bookmark me!\n",
    "</div>\n",
    "\n",
    "- You'll also use this form to answer questions that I ask you during lecture.\n",
    "\n",
    "- You can also click the **Lecture Questions** link in the top-right corner of [practicaldsc.org](https://practicaldsc.org).\n",
    "\n",
    "<center><img src=\"imgs/ask-q.png\" width=50%></center>"
   ]
  },
  {
   "cell_type": "markdown",
   "id": "17020bab",
   "metadata": {
    "slideshow": {
     "slide_type": "slide"
    }
   },
   "source": [
    "<div class=\"alert alert-warning\">\n",
    "    <h3>Question 🤔 (Answer at <a style=\"text-decoration: none; color: #0066cc\" href=\"https://docs.google.com/forms/d/e/1FAIpQLSd4oliiZYeNh76jWy-arfEtoAkCrVSsobZxPwxifWggo3EO0Q/viewform\">practicaldsc.org/q</a>)</h3>\n",
    "</div>\n",
    "\n",
    "Select the <b><span style=\"color:red\">FALSE</span></b> statement below.\n",
    "\n",
    "A. I have size 16 feet.<br>\n",
    "B. I skipped the first grade.<br>\n",
    "C. I was rejected by Michigan when I applied for undergrad.<br>\n",
    "D. Soulja Boy (the rapper) used to follow me on Twitter.<br>\n",
    "E. One of the TAs is older than me.<br>"
   ]
  },
  {
   "cell_type": "markdown",
   "id": "edf518ca",
   "metadata": {
    "slideshow": {
     "slide_type": "slide"
    }
   },
   "source": [
    "## What is data science?"
   ]
  },
  {
   "cell_type": "markdown",
   "id": "d2145c39",
   "metadata": {
    "slideshow": {
     "slide_type": "slide"
    }
   },
   "source": [
    "### What is data science?\n",
    "\n",
    "<br>\n",
    "\n",
    "<center><img src='imgs/what-is-data-science.png' width=60%></center>\n",
    "\n",
    "Everyone seems to have their own definition of what data science is."
   ]
  },
  {
   "cell_type": "markdown",
   "id": "8395b7e5",
   "metadata": {
    "slideshow": {
     "slide_type": "slide"
    }
   },
   "source": [
    "### What is data science?\n",
    "\n",
    "<br>\n",
    "\n",
    "<center><img src='imgs/chatgpt-ds.png' width=60%></center>\n",
    "\n",
    "ChatGPT, too!"
   ]
  },
  {
   "cell_type": "markdown",
   "id": "1efb892b",
   "metadata": {
    "slideshow": {
     "slide_type": "slide"
    }
   },
   "source": [
    "### What is data science?\n",
    "\n",
    "<center><img src=\"imgs/image_0.png\"></center>\n",
    "\n",
    "In 2010, Drew Conway published his famous [Data Science Venn Diagram](http://drewconway.com/zia/2013/3/26/the-data-science-venn-diagram)."
   ]
  },
  {
   "cell_type": "markdown",
   "id": "8d0b484f",
   "metadata": {
    "slideshow": {
     "slide_type": "slide"
    }
   },
   "source": [
    "### What is data science?\n",
    "\n",
    "There isn't agreement on which \"Venn Diagram\" is correct!\n",
    "\n",
    "<center><img src=\"imgs/image_1.png\" width=30%></center>\n",
    "\n",
    "- **Why not?** The field is new and rapidly developing.\n",
    "- Make sure you're solid on the fundamentals, then find a niche that you enjoy.\n",
    "- Read Taylor, [Battle of the Data Science Venn Diagrams](https://deeplearning.lipingyang.org/wp-content/uploads/2017/10/Battle-of-the-Data-Science-Venn-Diagrams.pdf)."
   ]
  },
  {
   "cell_type": "markdown",
   "id": "dd48a8ec",
   "metadata": {
    "slideshow": {
     "slide_type": "slide"
    }
   },
   "source": [
    "### What does a _data scientist_ do?\n",
    "\n",
    "The chart below is taken from the [2016 Data Science Salary Survey](https://www.oreilly.com/radar/2016-data-science-salary-survey-results/), administered by O'Reilly. They asked respondents what they spend their time doing on a daily basis. What do you notice? <br>\n",
    "\n",
    "<center><img src='imgs/survey.png' width=40%></center>"
   ]
  },
  {
   "cell_type": "markdown",
   "id": "e164e0c6",
   "metadata": {
    "slideshow": {
     "slide_type": "slide"
    }
   },
   "source": [
    "The chart below is taken from the followup [2021 Data/AI Salary Survey](https://www.oreilly.com/radar/2021-data-ai-salary-survey/), also administered by O'Reilly. They asked respondents:\n",
    "\n",
    "> What technologies will have the biggest effect on compensation in the coming year?\n",
    "\n",
    "<center><img src='imgs/2021-most-relevant-skill.png' width=45%></center>"
   ]
  },
  {
   "cell_type": "markdown",
   "id": "5146c163",
   "metadata": {
    "slideshow": {
     "slide_type": "slide"
    }
   },
   "source": [
    "### What does a _data scientist_ do?"
   ]
  },
  {
   "cell_type": "markdown",
   "id": "86ff8e05",
   "metadata": {
    "slideshow": {
     "slide_type": "fragment"
    }
   },
   "source": [
    "My take: the job of a data scientist is to **ask and answer questions using data**."
   ]
  },
  {
   "cell_type": "markdown",
   "id": "dd1a883b",
   "metadata": {
    "slideshow": {
     "slide_type": "fragment"
    }
   },
   "source": [
    "This may sound simple, but **asking the right questions** can be hard, and answers can often be **ambiguous** – this uncertainty is what makes data science challenging!"
   ]
  },
  {
   "cell_type": "markdown",
   "id": "9d2f8d88",
   "metadata": {
    "slideshow": {
     "slide_type": "fragment"
    }
   },
   "source": [
    "Let's look at some examples of data science in practice."
   ]
  },
  {
   "cell_type": "markdown",
   "id": "86af436e",
   "metadata": {
    "slideshow": {
     "slide_type": "slide"
    }
   },
   "source": [
    "### Do people care about climate change?\n",
    "\n",
    "From [How Americans Think About Climate Change, in Six Maps](https://www.nytimes.com/interactive/2017/03/21/climate/how-americans-think-about-climate-change-in-six-maps.html?amp=&smid=fb-nytimes).\n",
    "\n",
    "<center><img src='imgs/nyt-climate-legend.png' width=35%></center>\n",
    "<center><img src='imgs/nyt-climate-harm.png' width=50%></center>"
   ]
  },
  {
   "cell_type": "markdown",
   "id": "0999754a-0033-44e2-8244-5fdaa037aebc",
   "metadata": {
    "slideshow": {
     "slide_type": "slide"
    }
   },
   "source": [
    "### Do people care about climate change?\n",
    "\n",
    "<center><img src='imgs/nyt-climate-legend.png' width=35%></center>\n",
    "<center><img src='imgs/nyt-climate-personal.png' width=50%></center>"
   ]
  },
  {
   "cell_type": "markdown",
   "id": "7c34fb09",
   "metadata": {
    "slideshow": {
     "slide_type": "slide"
    }
   },
   "source": [
    "An excerpt from the article:\n",
    "\n",
    "> Global warming is precisely the kind of threat humans are awful at dealing with: a problem with enormous consequences over the long term, but little that is sharply visible on a personal level in the short term. Humans are hard-wired for quick fight-or-flight reactions in the face of an imminent threat, **but not highly motivated to act against slow-moving and somewhat abstract problems, even if the challenges that they pose are ultimately dire**."
   ]
  },
  {
   "cell_type": "markdown",
   "id": "4cd37733",
   "metadata": {
    "slideshow": {
     "slide_type": "slide"
    }
   },
   "source": [
    "### Data science involves _people_ 🧍"
   ]
  },
  {
   "cell_type": "markdown",
   "id": "8d020032",
   "metadata": {
    "slideshow": {
     "slide_type": "fragment"
    }
   },
   "source": [
    "The decisions that we make as data scientists have the potential to impact the livelihoods of other people."
   ]
  },
  {
   "cell_type": "markdown",
   "id": "ad1cc967",
   "metadata": {
    "slideshow": {
     "slide_type": "fragment"
    }
   },
   "source": [
    "- Admissions and hiring."
   ]
  },
  {
   "cell_type": "markdown",
   "id": "c3639706",
   "metadata": {
    "slideshow": {
     "slide_type": "fragment"
    }
   },
   "source": [
    "- Hyper-personalized ad recommendations."
   ]
  },
  {
   "cell_type": "markdown",
   "id": "c8ef5091",
   "metadata": {
    "slideshow": {
     "slide_type": "fragment"
    }
   },
   "source": [
    "- Flu case forecasting."
   ]
  },
  {
   "cell_type": "markdown",
   "id": "39c92d2d",
   "metadata": {
    "slideshow": {
     "slide_type": "fragment"
    }
   },
   "source": [
    "The decisions you make as a data scientist go beyond the scope of your own computer!"
   ]
  },
  {
   "cell_type": "markdown",
   "id": "dfdae8ce",
   "metadata": {
    "slideshow": {
     "slide_type": "slide"
    }
   },
   "source": [
    "### What is this course really about, then?"
   ]
  },
  {
   "cell_type": "markdown",
   "id": "01e943ca",
   "metadata": {
    "slideshow": {
     "slide_type": "fragment"
    }
   },
   "source": [
    "- Good data analysis is not:\n",
    "    - A simple application of a statistics formula.\n",
    "    - A simple application of computer programs."
   ]
  },
  {
   "cell_type": "markdown",
   "id": "5e4a5924",
   "metadata": {
    "slideshow": {
     "slide_type": "fragment"
    }
   },
   "source": [
    "- There are many tools out there for data science, including Generative AI tools like ChatGPT, but they are merely tools. **They don’t do any of the important thinking – that's where you come in!**\n"
   ]
  },
  {
   "cell_type": "markdown",
   "id": "0c22fafe",
   "metadata": {
    "slideshow": {
     "slide_type": "slide"
    }
   },
   "source": [
    "## Course content"
   ]
  },
  {
   "cell_type": "markdown",
   "id": "04eb95e4",
   "metadata": {
    "slideshow": {
     "slide_type": "slide"
    }
   },
   "source": [
    "### Goals"
   ]
  },
  {
   "cell_type": "markdown",
   "id": "8306a28f",
   "metadata": {
    "slideshow": {
     "slide_type": "fragment"
    }
   },
   "source": [
    "**After this course, you'll be able to start with raw data and come up with accurate, meaningful insights that you can share with others.**"
   ]
  },
  {
   "cell_type": "markdown",
   "id": "0ee5270b",
   "metadata": {
    "slideshow": {
     "slide_type": "fragment"
    }
   },
   "source": [
    "- You'll learn how to use industry-standard data manipulation tools.\n",
    "<br><small>And you'll need to rely on documentation, like a real data scientist!</small>"
   ]
  },
  {
   "cell_type": "markdown",
   "id": "7e2f7c9d",
   "metadata": {
    "slideshow": {
     "slide_type": "fragment"
    }
   },
   "source": [
    "- You'll also understand the inner-workings of complicated statistical models."
   ]
  },
  {
   "cell_type": "markdown",
   "id": "0a400f29",
   "metadata": {
    "slideshow": {
     "slide_type": "fragment"
    }
   },
   "source": [
    "- Bigger picture, you'll practice turning vague ideas into concrete questions with quantitatively-measured answers."
   ]
  },
  {
   "cell_type": "markdown",
   "id": "7bde9bb7",
   "metadata": {
    "slideshow": {
     "slide_type": "fragment"
    }
   },
   "source": [
    "- At the end of it all, you'll:\n",
    "    - Be prepared for internships and data science \"take home\" interviews.\n",
    "    - Be ready to create your own portfolio of personal projects.\n",
    "    - Have the background and maturity to succeed in more advanced data science-adjacent (databases, machine learning, etc.) courses."
   ]
  },
  {
   "cell_type": "markdown",
   "id": "7e19534f",
   "metadata": {
    "slideshow": {
     "slide_type": "slide"
    }
   },
   "source": [
    "### Topics\n",
    "\n",
    "<br>\n",
    "\n",
    "<div style=\"width: 100%; height: 100%\">\n",
    "<div style=\"width: 50%; float: left\"> \n",
    "\n",
    "- Week 1: Python and Jupyter Notebooks.\n",
    "- Weeks 2-3: `numpy`, `pandas`, and Exploratory Data Analysis.\n",
    "- Weeks 4-5: Missing Data; Web Scraping and APIs.\n",
    "- Weeks 5-6: Text Processing.\n",
    "- Week 7: **Midterm Exam**.\n",
    "- Weeks 8-10: Linear Regression through Linear Algebra.\n",
    "- Weeks 11-12: Generalization, Regularization, and Cross-Validation.\n",
    "- Weeks 12-14: Gradient Descent and Logistic Regression.\n",
    "- Weeks 15-16: Unsupervised Learning, **Final Exam**.\n",
    "    \n",
    "</div>\n",
    "<div style=\"margin-left: 60%; height: 1px\" markdown=\"1\"> \n",
    "\n",
    "<center><img src=\"imgs/lifecycle-trimmed.png\">\n",
    "    \n",
    "The **data science lifecycle**, which we'll refer to throughout the semester, shows the typical progression of a data science project.\n",
    "</center>\n",
    "\n",
    " \n",
    "</div>\n",
    "</div>\n"
   ]
  },
  {
   "cell_type": "markdown",
   "id": "d0e2f4a9",
   "metadata": {
    "slideshow": {
     "slide_type": "slide"
    }
   },
   "source": [
    "### Prerequisites"
   ]
  },
  {
   "cell_type": "markdown",
   "id": "5a7d5353",
   "metadata": {
    "slideshow": {
     "slide_type": "fragment"
    }
   },
   "source": [
    "- The official prerequisites are programming (EECS 280), discrete math (EECS 203), calculus I and II, and linear algebra. An introductory statistics class is an advisory prerequisite."
   ]
  },
  {
   "cell_type": "markdown",
   "id": "0a652dc1",
   "metadata": {
    "slideshow": {
     "slide_type": "fragment"
    }
   },
   "source": [
    "- We will assume everyone has programmed before, seen some probability before, and is fluent with the basics of calculus and linear algebra."
   ]
  },
  {
   "cell_type": "markdown",
   "id": "32909a95",
   "metadata": {
    "slideshow": {
     "slide_type": "fragment"
    }
   },
   "source": [
    "- While we will rely on a background of linear algebra, we will point you to our new [LARDS: Linear Algebra Review for Data Science](https://practicaldsc.org/lin-alg) when necessary."
   ]
  },
  {
   "cell_type": "markdown",
   "id": "d44ca4a5",
   "metadata": {
    "slideshow": {
     "slide_type": "fragment"
    }
   },
   "source": [
    "- **We're here to help!**"
   ]
  },
  {
   "cell_type": "markdown",
   "id": "ee4d0050",
   "metadata": {
    "slideshow": {
     "slide_type": "slide"
    }
   },
   "source": [
    "## Course logistics"
   ]
  },
  {
   "cell_type": "markdown",
   "id": "0a2c2394-7c55-45f2-9668-fd3b945eda2c",
   "metadata": {
    "slideshow": {
     "slide_type": "slide"
    },
    "tags": []
   },
   "source": [
    "### Course website\n",
    "\n",
    "The course website is your one-stop-shop for all things related to the course.\n",
    "\n",
    "<br>\n",
    "\n",
    "<center><h3><a href=\"https://practicaldsc.org\">practicaldsc.org</a></h3></center>\n",
    "\n",
    "<br>\n",
    "\n",
    "Make sure to **read the [syllabus](https://practicaldsc.org/syllabus)**!"
   ]
  },
  {
   "cell_type": "markdown",
   "id": "c261d793",
   "metadata": {
    "slideshow": {
     "slide_type": "slide"
    }
   },
   "source": [
    "### Getting set up\n",
    "\n",
    "- **Ed**: Q&A forum. Must be active here, since this is where all announcements will be made.\n",
    "- **Gradescope**: Where you will submit all assignments for autograding, and where all of your grades will live.\n",
    "- **Canvas**: No ❌.\n",
    "\n",
    "In addition, you must fill out our [**Welcome Survey**](https://docs.google.com/forms/d/e/1FAIpQLSemfn-uzlSZUeY6rsonpboIv_6ANg9mGxWZ8tETDk4N4g4q_A/viewform) by **Monday, September 2nd** to tell us more about yourself and whether you need an alternate exam."
   ]
  },
  {
   "cell_type": "markdown",
   "id": "dae66a40",
   "metadata": {
    "slideshow": {
     "slide_type": "slide"
    }
   },
   "source": [
    "### Accessing course content on GitHub\n",
    "\n",
    "You will access all course content by pulling the course GitHub repository:\n",
    "\n",
    "<br>\n",
    "\n",
    "<center>\n",
    "<b><a href=\"https://github.com/practicaldsc/fa24\">github.com/practicaldsc/fa24</a></b>\n",
    "</center>\n",
    "\n",
    "<br>\n",
    "\n",
    "We will post HTML versions of lecture notebooks on the course website, but otherwise you must `git pull` from this repository to access all course materials (including blank copies of assignments)."
   ]
  },
  {
   "cell_type": "markdown",
   "id": "a7dcec94",
   "metadata": {
    "slideshow": {
     "slide_type": "slide"
    }
   },
   "source": [
    "### Environment setup\n",
    "\n",
    "- You're required to set up a Python environment on your own computer.\n",
    "- **To do so, follow the instructions on the [⚙️ Environment Setup](https://practicaldsc.org/env-setup) page of the course website ASAP (ideally before Thursday's class).**\n",
    "- Once you set up your environment, you will `git pull` the course repo every time a new assignment comes out.\n",
    "- **Note**: You will submit your work to Gradescope directly, without using Git.\n",
    "- We'll help you with this in Discussion 1 on Friday if you get stuck."
   ]
  },
  {
   "cell_type": "markdown",
   "id": "44ec2def",
   "metadata": {
    "slideshow": {
     "slide_type": "slide"
    }
   },
   "source": [
    "### Lectures"
   ]
  },
  {
   "cell_type": "markdown",
   "id": "0316b814",
   "metadata": {
    "slideshow": {
     "slide_type": "fragment"
    }
   },
   "source": [
    "- Lectures are held in-person on **Tuesdays and Thursdays from 1:30-3:00PM in 1500 EECS**."
   ]
  },
  {
   "cell_type": "markdown",
   "id": "c2109ae7",
   "metadata": {
    "slideshow": {
     "slide_type": "fragment"
    }
   },
   "source": [
    "- Attendance is not required, but is encouraged. Lectures are recorded.<br><small>There may not be space in the first few lectures since the room is overenrolled... oops!</small>"
   ]
  },
  {
   "cell_type": "markdown",
   "id": "e9de4b00",
   "metadata": {
    "slideshow": {
     "slide_type": "fragment"
    }
   },
   "source": [
    "- Lecture notebooks will be posted on the course website ahead of time, both in the form of runnable code (in our GitHub repo) and as static HTML files, which you can annotate on your tablet if you'd like.<br>\n",
    "<small>What's a notebook? You'll find out soon!</small>"
   ]
  },
  {
   "cell_type": "markdown",
   "id": "2c369d10",
   "metadata": {
    "slideshow": {
     "slide_type": "slide"
    }
   },
   "source": [
    "### Discussions"
   ]
  },
  {
   "cell_type": "markdown",
   "id": "0003ebe4",
   "metadata": {
    "slideshow": {
     "slide_type": "fragment"
    }
   },
   "source": [
    "- There are two discussion sections:\n",
    "    - Friday, 12:30-1:30PM, 2147 GGBL (capacity: 40).\n",
    "    - Friday, 2:30-3:30PM, 1670 BBB (capacity: 100)."
   ]
  },
  {
   "cell_type": "markdown",
   "id": "804f83f1",
   "metadata": {
    "slideshow": {
     "slide_type": "fragment"
    }
   },
   "source": [
    "- You can attend either discussion section, but if space fills up, priority will be given to students officially enrolled in that section."
   ]
  },
  {
   "cell_type": "markdown",
   "id": "6bfe6e79",
   "metadata": {
    "slideshow": {
     "slide_type": "fragment"
    }
   },
   "source": [
    "- In Discussion 1, we'll make sure your programming environment is set up correctly and help you get started on Homework 1. In subsequent discussions, we'll take up solutions to old exam problems, which you'll work on in groups."
   ]
  },
  {
   "cell_type": "markdown",
   "id": "32e15386",
   "metadata": {
    "slideshow": {
     "slide_type": "slide"
    }
   },
   "source": [
    "### Homeworks"
   ]
  },
  {
   "cell_type": "markdown",
   "id": "067dd7a5",
   "metadata": {
    "slideshow": {
     "slide_type": "fragment"
    }
   },
   "source": [
    "- In this course, you will learn the _practice_ of data science by... **practicing**!"
   ]
  },
  {
   "cell_type": "markdown",
   "id": "b849a42b",
   "metadata": {
    "slideshow": {
     "slide_type": "fragment"
    }
   },
   "source": [
    "- There will be ~**12 homework assignments** due weekly throughout the semester, to be completed **individually**.\n",
    "<br><small>Each one is shorter than an EECS 280/281 project, but there are more of them – so expect a constant, moderate workload.</small>"
   ]
  },
  {
   "cell_type": "markdown",
   "id": "268b4949",
   "metadata": {
    "slideshow": {
     "slide_type": "fragment"
    }
   },
   "source": [
    "- Homework assignments will mostly involve writing Python code in Jupyter Notebooks, but may occasionally involve doing some pen-and-paper math and answering some free-response questions."
   ]
  },
  {
   "cell_type": "markdown",
   "id": "ea9f7c71",
   "metadata": {
    "slideshow": {
     "slide_type": "fragment"
    }
   },
   "source": [
    "- Homeworks will come with public test cases that you can run locally, but ultimately you'll be graded using **hidden test cases on Gradescope**. We may also grade your code on style."
   ]
  },
  {
   "cell_type": "markdown",
   "id": "a8821a89",
   "metadata": {
    "slideshow": {
     "slide_type": "fragment"
    }
   },
   "source": [
    "- Homeworks are usually due on **Thursdays at 11:59PM**. Your lowest score is dropped, and you have 6 slip days to use throughout the semester (max 2 per homework)."
   ]
  },
  {
   "cell_type": "markdown",
   "id": "599177f8",
   "metadata": {
    "slideshow": {
     "slide_type": "slide"
    }
   },
   "source": [
    "### Exams"
   ]
  },
  {
   "cell_type": "markdown",
   "id": "5792da4e",
   "metadata": {
    "slideshow": {
     "slide_type": "fragment"
    }
   },
   "source": [
    "There are two **in-person, on-paper** exams, designed to (1) assess your understanding of the more theoretical concepts in the class and (2) make sure that you can write code independently."
   ]
  },
  {
   "cell_type": "markdown",
   "id": "73ffc1d2",
   "metadata": {
    "slideshow": {
     "slide_type": "fragment"
    }
   },
   "source": [
    "- **Midterm Exam (20%)**: Wednesday, October 9th, 7-9PM."
   ]
  },
  {
   "cell_type": "markdown",
   "id": "dc1290be",
   "metadata": {
    "slideshow": {
     "slide_type": "fragment"
    }
   },
   "source": [
    "- **Final Exam (30%)**: Thursday, December 12th, 4-6PM."
   ]
  },
  {
   "cell_type": "markdown",
   "id": "79a1678f",
   "metadata": {
    "slideshow": {
     "slide_type": "fragment"
    }
   },
   "source": [
    "- Your Final Exam score can **redeem** your Midterm Exam score (see the [Syllabus](https://practicaldsc.org/syllabus/#redemption-policy) for details)."
   ]
  },
  {
   "cell_type": "markdown",
   "id": "bbc7da48",
   "metadata": {
    "slideshow": {
     "slide_type": "fragment"
    }
   },
   "source": [
    "- Let us know on the [Welcome Survey](https://docs.google.com/forms/d/e/1FAIpQLSemfn-uzlSZUeY6rsonpboIv_6ANg9mGxWZ8tETDk4N4g4q_A/viewform) if you have a conflict."
   ]
  },
  {
   "cell_type": "markdown",
   "id": "7f4c5093",
   "metadata": {
    "slideshow": {
     "slide_type": "fragment"
    }
   },
   "source": [
    "- We will give you plenty of old exam problems to practice with."
   ]
  },
  {
   "cell_type": "markdown",
   "id": "6fc5d28a",
   "metadata": {
    "slideshow": {
     "slide_type": "slide"
    }
   },
   "source": [
    "### A typical week\n",
    "\n",
    "| Monday | Tuesday | Wednesday | Thursday | Friday     |\n",
    "| ------ | ------- | --------- | -------- | ---------- |\n",
    "|        | Lecture |           | Lecture  |  Discussion |\n",
    "| | | | <span style='color:red'><b>Homework N - 1 due 11:59PM</b></span> | <span style='color:red'><b>Homework N released</b></span> |\n"
   ]
  },
  {
   "cell_type": "markdown",
   "id": "534f5fcc",
   "metadata": {
    "slideshow": {
     "slide_type": "slide"
    }
   },
   "source": [
    "### Resources"
   ]
  },
  {
   "cell_type": "markdown",
   "id": "e77bf1ab",
   "metadata": {
    "slideshow": {
     "slide_type": "fragment"
    }
   },
   "source": [
    "- Your main resource will be lecture notebooks."
   ]
  },
  {
   "cell_type": "markdown",
   "id": "4e94f48d",
   "metadata": {
    "slideshow": {
     "slide_type": "fragment"
    }
   },
   "source": [
    "- Many lectures will also have supplemental readings that come from: \n",
    "    - [Learning Data Science](https://learningds.org/intro.html), a textbook for UC Berkeley version of this course.\n",
    "    - [notes.dsc80.com](https://notes.dsc80.com), lecture notes for (part of) the UCSD version of this course."
   ]
  },
  {
   "cell_type": "markdown",
   "id": "2ab473d4",
   "metadata": {
    "slideshow": {
     "slide_type": "fragment"
    }
   },
   "source": [
    "- You'll never be tested on something that appears in a supplemental reading but not in lecture/homework/discussion, but supplemental readings are still highly recommended!\n",
    "<br><small>Find an online resource that's useful? Send it to us and we'll link it on the website!</small>"
   ]
  },
  {
   "cell_type": "markdown",
   "id": "b2c18d41",
   "metadata": {
    "slideshow": {
     "slide_type": "slide"
    }
   },
   "source": [
    "### Caution ⚠️"
   ]
  },
  {
   "cell_type": "markdown",
   "id": "2c48816c",
   "metadata": {
    "slideshow": {
     "slide_type": "fragment"
    }
   },
   "source": [
    "This course will not be easy, because becoming fluent with working with data is hard!"
   ]
  },
  {
   "cell_type": "markdown",
   "id": "92451237",
   "metadata": {
    "slideshow": {
     "slide_type": "fragment"
    }
   },
   "source": [
    "- You will learn how to solve problems **independently** – documentation and the internet will be your friends.<br><small>I'm not going to tell you about every single Python feature in class!</small>"
   ]
  },
  {
   "cell_type": "markdown",
   "id": "f82673f9",
   "metadata": {
    "slideshow": {
     "slide_type": "fragment"
    }
   },
   "source": [
    "- Learning how to effectively check your work and debug is extremely useful."
   ]
  },
  {
   "cell_type": "markdown",
   "id": "03fc4002",
   "metadata": {
    "slideshow": {
     "slide_type": "fragment"
    }
   },
   "source": [
    "- Some tasks will be challenging, and you'll need to sit with them for a while. But, don't be afraid to ask for help!"
   ]
  },
  {
   "cell_type": "markdown",
   "id": "b2e9741c",
   "metadata": {
    "slideshow": {
     "slide_type": "slide"
    }
   },
   "source": [
    "<center><img src=\"imgs/ucsd-evals.png\" width=90%></center>\n",
    "\n",
    "<center>You'll have to work a lot, but we'll make the time spent worth it.</center>"
   ]
  },
  {
   "cell_type": "markdown",
   "id": "a2926e96",
   "metadata": {
    "slideshow": {
     "slide_type": "slide"
    }
   },
   "source": [
    "### Support 🫂"
   ]
  },
  {
   "cell_type": "markdown",
   "id": "8a14420a",
   "metadata": {
    "slideshow": {
     "slide_type": "fragment"
    }
   },
   "source": [
    "Once you've tried to solve problems on your own, we're glad to help."
   ]
  },
  {
   "cell_type": "markdown",
   "id": "6b509c93",
   "metadata": {
    "slideshow": {
     "slide_type": "fragment"
    }
   },
   "source": [
    "- We have several **office hours** in person each week. These are mostly in-person on North Campus, but some are on Central Campus and some are remote. See the [📆 Calendar](https://practicaldsc.org/calendar/) on the course website for details.\n",
    "<br><small>Come say hi, and come to sit and work on homeworks, even if you don't have any questions!</small>"
   ]
  },
  {
   "cell_type": "markdown",
   "id": "a050c52b",
   "metadata": {
    "slideshow": {
     "slide_type": "fragment"
    }
   },
   "source": [
    "- **Ed** is your friend too. Make your conceptual questions public, and make your debugging questions private."
   ]
  },
  {
   "cell_type": "markdown",
   "id": "f752ac9a",
   "metadata": {
    "slideshow": {
     "slide_type": "slide"
    }
   },
   "source": [
    "### Collaboration, Academic Integrity, and Generative AI"
   ]
  },
  {
   "cell_type": "markdown",
   "id": "b191612e",
   "metadata": {
    "slideshow": {
     "slide_type": "fragment"
    }
   },
   "source": [
    "- **Make sure to read the [Syllabus section on Collaboration and Academic Integrity](https://practicaldsc.org/syllabus#collaboration-and-academic-integrity).**"
   ]
  },
  {
   "cell_type": "markdown",
   "id": "4f218d4f",
   "metadata": {
    "slideshow": {
     "slide_type": "fragment"
    }
   },
   "source": [
    "- All homeworks are individual. Please discuss ideas and concepts with others, but no sharing code or posting code anywhere – collaboration must not result in solutions that are identifiably similar to other solutions, past or present.\n",
    "\n"
   ]
  },
  {
   "cell_type": "markdown",
   "id": "2604224a",
   "metadata": {
    "slideshow": {
     "slide_type": "fragment"
    }
   },
   "source": [
    "- We trust that you're here to learn and do the work for yourself."
   ]
  },
  {
   "cell_type": "markdown",
   "id": "192d0bd4",
   "metadata": {
    "slideshow": {
     "slide_type": "fragment"
    }
   },
   "source": [
    "- We know that tools, like ChatGPT and GitHub Copilot, can write code for you. Feel free to use such tools _with caution_."
   ]
  },
  {
   "cell_type": "markdown",
   "id": "d2fa299f",
   "metadata": {
    "slideshow": {
     "slide_type": "fragment"
    }
   },
   "source": [
    "- You won't be able to use ChatGPT on the exams, which are in-person and on paper, so make sure you **understand** how your code actually works."
   ]
  },
  {
   "cell_type": "markdown",
   "id": "e233aa3c",
   "metadata": {
    "slideshow": {
     "slide_type": "slide"
    }
   },
   "source": [
    "### Data Science: The People's Science\n",
    "\n",
    "We know students have enrolled in this course from a wide variety of backgrounds, and we're committed to helping everyone succeed."
   ]
  },
  {
   "cell_type": "code",
   "execution_count": null,
   "id": "cc49d87c",
   "metadata": {},
   "outputs": [],
   "source": [
    "from IPython.display import YouTubeVideo\n",
    "YouTubeVideo('YMnqPTLoj7o')"
   ]
  },
  {
   "cell_type": "markdown",
   "id": "7bd138d9",
   "metadata": {
    "slideshow": {
     "slide_type": "slide"
    }
   },
   "source": [
    "## Example: Trends in baby names 👶📈"
   ]
  },
  {
   "cell_type": "markdown",
   "id": "cdde9386",
   "metadata": {
    "slideshow": {
     "slide_type": "slide"
    }
   },
   "source": [
    "### Social Security's Top 10 Baby Names of 2023\n",
    "\n",
    "The [US Social Security Administration](https://www.ssa.gov/oact/babynames/index.html) releases an article each year listing the most popular baby names."
   ]
  },
  {
   "cell_type": "code",
   "execution_count": null,
   "id": "917fdca5",
   "metadata": {
    "slideshow": {
     "slide_type": "-"
    }
   },
   "outputs": [],
   "source": [
    "from IPython.display import YouTubeVideo\n",
    "YouTubeVideo('1HUjlpHI5us')"
   ]
  },
  {
   "cell_type": "markdown",
   "id": "b6334a22",
   "metadata": {
    "slideshow": {
     "slide_type": "fragment"
    }
   },
   "source": [
    "Let's see if we can verify these facts ourselves using raw data! Don't worry about any of the details here, just sit back and relax."
   ]
  },
  {
   "cell_type": "markdown",
   "id": "3158f04f-9416-4062-9b7a-ab975721667b",
   "metadata": {
    "slideshow": {
     "slide_type": "slide"
    },
    "tags": []
   },
   "source": [
    "### The data\n",
    "\n",
    "What we're seeing below is a `pandas` DataFrame (fancy word for \"table\"). The DataFrame contains one row for every combination of `'Name'`, `'Sex'`, and `'Year'`."
   ]
  },
  {
   "cell_type": "code",
   "execution_count": null,
   "id": "ba6829c9-5ece-42ca-a5f2-3d7065ec19b2",
   "metadata": {
    "scrolled": true
   },
   "outputs": [],
   "source": [
    "baby = pd.read_csv('data/baby.csv')\n",
    "baby"
   ]
  },
  {
   "cell_type": "markdown",
   "id": "13e393e8",
   "metadata": {
    "slideshow": {
     "slide_type": "fragment"
    }
   },
   "source": [
    "For instance, it's telling us that in 2022, there were 16573 female babies born with the name Olivia. (We don't have information for 2023, sadly.)\n",
    "\n",
    "Let's do some digging!"
   ]
  },
  {
   "cell_type": "markdown",
   "id": "ee668f32",
   "metadata": {
    "slideshow": {
     "slide_type": "slide"
    }
   },
   "source": [
    "### How many babies are in the dataset?"
   ]
  },
  {
   "cell_type": "code",
   "execution_count": null,
   "id": "60755db5",
   "metadata": {},
   "outputs": [],
   "source": [
    "baby['Count'].sum()"
   ]
  },
  {
   "cell_type": "markdown",
   "id": "b344390f",
   "metadata": {
    "slideshow": {
     "slide_type": "slide"
    }
   },
   "source": [
    "### How many babies were recorded in the dataset each year?"
   ]
  },
  {
   "cell_type": "code",
   "execution_count": null,
   "id": "80e618f9",
   "metadata": {},
   "outputs": [],
   "source": [
    "baby.groupby('Year')['Count'].sum()"
   ]
  },
  {
   "cell_type": "code",
   "execution_count": null,
   "id": "23cb095c",
   "metadata": {},
   "outputs": [],
   "source": [
    "baby.groupby('Year')['Count'].sum().plot(title='Number of Babies Born Per Year')"
   ]
  },
  {
   "cell_type": "markdown",
   "id": "d2929fc0",
   "metadata": {
    "slideshow": {
     "slide_type": "slide"
    }
   },
   "source": [
    "### What were the most common names in 2022?"
   ]
  },
  {
   "cell_type": "code",
   "execution_count": null,
   "id": "89a42c92",
   "metadata": {},
   "outputs": [],
   "source": [
    "def show_ten_most_common(df):\n",
    "    return (\n",
    "        df[df['Year'] == 2022]\n",
    "        .groupby('Name')['Count']\n",
    "        .sum()\n",
    "        .sort_values(ascending=False)\n",
    "        .head(10)\n",
    "        .sort_values()\n",
    "        .plot(kind='barh')\n",
    "        .show()\n",
    "    )"
   ]
  },
  {
   "cell_type": "code",
   "execution_count": null,
   "id": "1ba48781",
   "metadata": {},
   "outputs": [],
   "source": [
    "show_ten_most_common(baby)"
   ]
  },
  {
   "cell_type": "markdown",
   "id": "444fbec4",
   "metadata": {
    "slideshow": {
     "slide_type": "slide"
    }
   },
   "source": [
    "Can we create the same chart, separately for male and female babies?\n",
    "\n",
    "We can, easily, since we defined the function `show_ten_most_common`!"
   ]
  },
  {
   "cell_type": "code",
   "execution_count": null,
   "id": "22e517f9",
   "metadata": {},
   "outputs": [],
   "source": [
    "baby.groupby('Sex').apply(show_ten_most_common);"
   ]
  },
  {
   "cell_type": "markdown",
   "id": "b1bf7d1b-6ed3-4c6a-b210-481e1bcdd334",
   "metadata": {
    "slideshow": {
     "slide_type": "slide"
    },
    "tags": []
   },
   "source": [
    "### What about trends in individual names?"
   ]
  },
  {
   "cell_type": "code",
   "execution_count": null,
   "id": "27eb18db",
   "metadata": {},
   "outputs": [],
   "source": [
    "baby[baby['Name'] == 'Olivia']"
   ]
  },
  {
   "cell_type": "code",
   "execution_count": null,
   "id": "9e38d244",
   "metadata": {},
   "outputs": [],
   "source": [
    "(\n",
    "    baby[baby['Name'] == 'Olivia']\n",
    "    .groupby('Year')['Count']\n",
    "    .sum()\n",
    "    .plot(title='Number of Babies Born Named \"Olivia\" Per Year')\n",
    ")"
   ]
  },
  {
   "cell_type": "code",
   "execution_count": null,
   "id": "1de20c77",
   "metadata": {
    "slideshow": {
     "slide_type": "slide"
    }
   },
   "outputs": [],
   "source": [
    "def name_graph(name):\n",
    "    fig = (\n",
    "        baby[baby['Name'] == name]\n",
    "        .groupby('Year')['Count']\n",
    "        .sum()\n",
    "        .plot(title=f'Number of Babies Born Named \"{name}\" Per Year')\n",
    "    )\n",
    "    fig.show()"
   ]
  },
  {
   "cell_type": "code",
   "execution_count": null,
   "id": "630c3609",
   "metadata": {},
   "outputs": [],
   "source": [
    "name_graph('Suraj')"
   ]
  },
  {
   "cell_type": "markdown",
   "id": "fdeb94d7",
   "metadata": {
    "slideshow": {
     "slide_type": "slide"
    }
   },
   "source": [
    "### What about your names?"
   ]
  },
  {
   "cell_type": "code",
   "execution_count": null,
   "id": "5612398b",
   "metadata": {},
   "outputs": [],
   "source": [
    "from IPython.display import clear_output\n",
    "from ipywidgets import widgets"
   ]
  },
  {
   "cell_type": "code",
   "execution_count": null,
   "id": "e817304e",
   "metadata": {},
   "outputs": [],
   "source": [
    "# The first names of everyone in the class!\n",
    "class_first = np.load('data/names-fa24.npy', allow_pickle=True)\n",
    "class_first"
   ]
  },
  {
   "cell_type": "code",
   "execution_count": null,
   "id": "b5841a44",
   "metadata": {},
   "outputs": [],
   "source": [
    "dropdown_names = widgets.Dropdown(options=class_first, value='Suraj')\n",
    "\n",
    "def dropdown_names_handler(change):\n",
    "    if change['name'] == 'value' and (change['new'] != change['old']):\n",
    "        clear_output()\n",
    "        display(dropdown_names)\n",
    "        name_graph(change['new'])\n",
    "        \n",
    "display(dropdown_names)\n",
    "name_graph('Suraj')\n",
    "dropdown_names.observe(dropdown_names_handler)"
   ]
  },
  {
   "cell_type": "markdown",
   "id": "4170226a",
   "metadata": {
    "slideshow": {
     "slide_type": "slide"
    },
    "tags": []
   },
   "source": [
    "### This week...\n",
    "\n",
    "- After class today, come hang out at the tables in front of BBB in the diag from 3-4PM with me and some of the TAs.\n",
    "- On Thursday, you'll get your hands dirty with Jupyter Notebooks and Python.\n",
    "- Follow the instructions in [⚙️ Environment Setup](https://practicaldsc.org/env-setup) **before Thursday's class** so you can code along with me!\n",
    "- Homework 1 will be released Friday morning; we'll help you get started in Friday's discussion.\n",
    "- Fill out the [Welcome Survey](https://docs.google.com/forms/d/e/1FAIpQLSemfn-uzlSZUeY6rsonpboIv_6ANg9mGxWZ8tETDk4N4g4q_A/viewform) and read the [Syllabus](https://practicaldsc.org/syllabus)!"
   ]
  }
 ],
 "metadata": {
  "kernelspec": {
   "display_name": "Python 3 (ipykernel)",
   "language": "python",
   "name": "python3"
  },
  "language_info": {
   "codemirror_mode": {
    "name": "ipython",
    "version": 3
   },
   "file_extension": ".py",
   "mimetype": "text/x-python",
   "name": "python",
   "nbconvert_exporter": "python",
   "pygments_lexer": "ipython3",
   "version": "3.10.14"
  },
  "livereveal": {
   "scroll": true
  },
  "rise": {
   "transition": "none"
  }
 },
 "nbformat": 4,
 "nbformat_minor": 5
}
