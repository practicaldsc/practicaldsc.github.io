{
 "cells": [
  {
   "cell_type": "code",
   "execution_count": null,
   "id": "40077d4e",
   "metadata": {
    "slideshow": {
     "slide_type": "skip"
    },
    "tags": []
   },
   "outputs": [],
   "source": [
    "from lec_utils import *"
   ]
  },
  {
   "cell_type": "markdown",
   "id": "3143de48",
   "metadata": {
    "slideshow": {
     "slide_type": "slide"
    },
    "tags": []
   },
   "source": [
    "<div class=\"alert alert-info\" markdown=\"1\">\n",
    "\n",
    "#### Lecture 2\n",
    "\n",
    "# Python and Jupyter Notebooks\n",
    "\n",
    "### EECS 398-003: Practical Data Science, Fall 2024\n",
    "\n",
    "<small><a style=\"text-decoration: none\" href=\"https://practicaldsc.org\">practicaldsc.org</a> • <a style=\"text-decoration: none\" href=\"https://github.com/practicaldsc/fa24\">github.com/practicaldsc/fa24</a></small>\n",
    "    \n",
    "</div>"
   ]
  },
  {
   "cell_type": "markdown",
   "id": "0fb0e08a",
   "metadata": {
    "slideshow": {
     "slide_type": "slide"
    }
   },
   "source": [
    "### Announcements 📣\n",
    "\n",
    "- The [Welcome Survey](https://docs.google.com/forms/d/e/1FAIpQLSemfn-uzlSZUeY6rsonpboIv_6ANg9mGxWZ8tETDk4N4g4q_A/viewform) is due on **Monday, September 2nd**.<br><small>EECS 370 has the same midterm time as us. If you're in 370, sign up to take their alternate midterm exam the following day.</small>\n",
    "- Homework 1 will be released tomorrow and will be due on **Thursday, September 5th**.\n",
    "- We released a [Setup Walkthrough Video](https://www.loom.com/share/b74ed3c77fe74ef4a4fa4fcc2b247699) to supplement the steps in the [⚙️ Environment Setup](https://practicaldsc.org/env-setup) page of the course website. **Make sure to set up your environment ASAP!**\n",
    "- We also released an \"Example Homework\" assignment, which you should work through.<br><small>This isn't due, but exists to make sure that your environment is set up correctly, and that you know how to access, work on, and submit homeworks.</small>\n",
    "- Come to Discussion 1 tomorrow to hear some Jupyter Notebook tips and get started on Homework 1.<br><small>Attend either section, but if space fills up, priority is given to the students who are officially enrolled.</small>\n",
    "- The course just expanded to 160, so you should be let off the waitlist if you were on it.\n",
    "- Check out the new [Resources](https://practicaldsc.org/resources) tab on the course website, with links to lots of supplementary resources and past exams from similar classes!\n",
    "- Have any feedback on the course? Let us know at the [Anonymous Feedback Form](https://docs.google.com/forms/d/e/1FAIpQLSfoxQfKubwtj5HQJtUQILx0scuzApPeEIZg8fEQXCDhzrTM4g/viewform)."
   ]
  },
  {
   "cell_type": "markdown",
   "id": "07213ce0",
   "metadata": {
    "slideshow": {
     "slide_type": "slide"
    }
   },
   "source": [
    "### Agenda\n",
    "\n",
    "- The anatomy of Jupyter Notebooks.\n",
    "- Python.<br><small>Especially, in relation to C++.</small>\n",
    "- `numpy` arrays.\n",
    "    \n",
    "We're going to cover a lot quickly. The [Textbooks](https://practicaldsc.org/resources/#textbooks) section of the Resources tab on the course website has links to lots of great online resources about this material if you'd like other perspectives."
   ]
  },
  {
   "cell_type": "markdown",
   "id": "bcf4ea35",
   "metadata": {
    "slideshow": {
     "slide_type": "slide"
    }
   },
   "source": [
    "<div class=\"alert alert-warning\">\n",
    "    <h3>Question 🤔 (Answer at <a style=\"text-decoration: none; color: #0066cc\" href=\"https://docs.google.com/forms/d/e/1FAIpQLSd4oliiZYeNh76jWy-arfEtoAkCrVSsobZxPwxifWggo3EO0Q/viewform\">practicaldsc.org/q</a>)</h3>\n",
    "    \n",
    "Remember that you can always ask questions anonymously at this site during lecture!\n",
    "</div>\n",
    "\n",
    "Have you followed the instructions in the [⚙️ Environment Setup](https://practicaldsc.org/env-setup) page and set up your environment?\n",
    "\n",
    "- A. Yes, and I even tested out the Example Homework released yesterday.\n",
    "- B. Yes, I set up my environment, but haven't run any code yet.\n",
    "- C. I tried to, but I ran into some errors or got stuck.\n",
    "- D. I looked at the instructions, but haven't followed them yet.\n",
    "- E. Haven't started."
   ]
  },
  {
   "cell_type": "markdown",
   "id": "7a8c6b7f",
   "metadata": {
    "slideshow": {
     "slide_type": "slide"
    }
   },
   "source": [
    "## The anatomy of Jupyter Notebooks\n",
    "\n",
    "---\n",
    "\n",
    "Let's start by familiarizing ourselves with our programming environment."
   ]
  },
  {
   "cell_type": "markdown",
   "id": "ecba9269",
   "metadata": {
    "slideshow": {
     "slide_type": "slide"
    }
   },
   "source": [
    "### Jupyter Notebooks 📓"
   ]
  },
  {
   "cell_type": "markdown",
   "id": "e07d1fcd",
   "metadata": {
    "slideshow": {
     "slide_type": "fragment"
    }
   },
   "source": [
    "- Often, but not in this class, code is written in a text editor and then run in a command-line interface, or both steps are done in an IDE.\n",
    "\n",
    "<center>\n",
    "<img src='imgs/text-editor-terminal.png' width=800>\n",
    "</center>"
   ]
  },
  {
   "cell_type": "markdown",
   "id": "bb19b6cf",
   "metadata": {
    "slideshow": {
     "slide_type": "fragment"
    }
   },
   "source": [
    "- **Jupyter Notebooks** allow us to write and run code within a single document. They also allow us to embed text and images and look at visualizations.\n",
    "<br><small>Why Jupyter? It stands for **Ju**lia, **Py**thon, and **R**, the three original languages they were designed to support.</small>"
   ]
  },
  {
   "cell_type": "markdown",
   "id": "afe93daa",
   "metadata": {
    "slideshow": {
     "slide_type": "fragment"
    }
   },
   "source": [
    "- `.ipynb` is the extension for Jupyter Notebook files. `.ipynb` files can be opened and run in a few related applications, including JupyterLab, Jupyter Notebook, Jupyter Notebook Classic, and VSCode.\n",
    "<br><small>The [⚙️ Environment Setup](https://practicaldsc.org/env-setup) page walks you through how to launch each one.<br>Note that these lecture slides are a Jupyter Notebook also, we're just using a package to make them look like a presentation.</small>"
   ]
  },
  {
   "cell_type": "markdown",
   "id": "7e224a65",
   "metadata": {
    "slideshow": {
     "slide_type": "slide"
    }
   },
   "source": [
    "### Cells"
   ]
  },
  {
   "cell_type": "markdown",
   "id": "e4aed630",
   "metadata": {
    "slideshow": {
     "slide_type": "fragment"
    }
   },
   "source": [
    "The **cell** is the basic building block of a Jupyter Notebook. There are two main types of cells:"
   ]
  },
  {
   "cell_type": "markdown",
   "id": "dd4e1a25",
   "metadata": {
    "slideshow": {
     "slide_type": "fragment"
    }
   },
   "source": [
    "- **Code cells**, where you write and execute code.\n",
    "    - When run, code cells display the value of the last evaluated expression."
   ]
  },
  {
   "cell_type": "markdown",
   "id": "a66b6093",
   "metadata": {
    "slideshow": {
     "slide_type": "fragment"
    }
   },
   "source": [
    "- **Markdown cells**, where you write text and images that aren't Python code.\n",
    "    - Markdown cells are always \"run\", except when you're editing them. \n",
    "    - Double-click this cell and see what happens!\n",
    "    - Read more about Markdown [here](https://www.markdownguide.org/cheat-sheet/)."
   ]
  },
  {
   "cell_type": "markdown",
   "id": "5316d1a3",
   "metadata": {
    "slideshow": {
     "slide_type": "slide"
    }
   },
   "source": [
    "<center><img src='imgs/mdcell.png' width=90%>A code cell and Markdown cell, before and after being \"run\".</center>"
   ]
  },
  {
   "cell_type": "markdown",
   "id": "94cf2e64",
   "metadata": {
    "slideshow": {
     "slide_type": "slide"
    }
   },
   "source": [
    "### Using Python as a calculator\n",
    "\n",
    "To familarize ourselves with the notebook environment, let's run a few code cells involving arithmetic expressions. \n",
    "\n",
    "To run a code cell, either:\n",
    "- **Hit `shift` + `enter` (or `shift` + `return`) on your keyboard (strongly preferred)**, or\n",
    "- Press the \"▶ Run\" button in the toolbar."
   ]
  },
  {
   "cell_type": "code",
   "execution_count": null,
   "id": "c1f907ba",
   "metadata": {},
   "outputs": [],
   "source": [
    "# When you run this cell, the value of the expression appears, but isn't saved anywhere!\n",
    "# These are comments, by the way.\n",
    "17 ** 2"
   ]
  },
  {
   "cell_type": "code",
   "execution_count": null,
   "id": "e810a226",
   "metadata": {},
   "outputs": [],
   "source": [
    "# Integer division.\n",
    "25 // 4"
   ]
  },
  {
   "cell_type": "code",
   "execution_count": null,
   "id": "404bd765",
   "metadata": {
    "scrolled": true
   },
   "outputs": [],
   "source": [
    "min(-5.7, 1, 3) + max(4, 9, 7)"
   ]
  },
  {
   "cell_type": "code",
   "execution_count": null,
   "id": "c720a3f9",
   "metadata": {},
   "outputs": [],
   "source": [
    "# Why do we only see one line of output?\n",
    "2 - 4\n",
    "18 + 15.0"
   ]
  },
  {
   "cell_type": "code",
   "execution_count": null,
   "id": "361c1a55",
   "metadata": {},
   "outputs": [],
   "source": [
    "# Strings can be created using single, double, or triple quotes.\n",
    "# There's no difference between a string and a char.\n",
    "'678' + \"9\" * 3"
   ]
  },
  {
   "cell_type": "code",
   "execution_count": null,
   "id": "ff5f1133",
   "metadata": {},
   "outputs": [],
   "source": [
    "'''November 26,\n",
    "''' + \"1998\""
   ]
  },
  {
   "cell_type": "code",
   "execution_count": null,
   "id": "8622a05c",
   "metadata": {},
   "outputs": [],
   "source": [
    "# Put ? after the name of a function to see its documentation inline.\n",
    "# All notebook interfaces support tab for autocompletion, too.\n",
    "round?"
   ]
  },
  {
   "cell_type": "markdown",
   "id": "6c5aa9d2",
   "metadata": {
    "slideshow": {
     "slide_type": "slide"
    }
   },
   "source": [
    "### Edit mode vs. command mode"
   ]
  },
  {
   "cell_type": "markdown",
   "id": "c6d0ecc6",
   "metadata": {
    "slideshow": {
     "slide_type": "fragment"
    }
   },
   "source": [
    "When working in Jupyter Notebooks, we use keyboard shortcuts often. But the keyboard shortcuts that apply depend on the **mode** that we're in."
   ]
  },
  {
   "cell_type": "markdown",
   "id": "0aa6247e",
   "metadata": {
    "slideshow": {
     "slide_type": "fragment"
    }
   },
   "source": [
    "<span style='color:#66bb6a'><b>Edit mode</b></span>: when you're actively typing in a cell.\n",
    "\n",
    "<center><img src='imgs/editmode.png' width=40%></center>"
   ]
  },
  {
   "cell_type": "markdown",
   "id": "be7ead32",
   "metadata": {
    "slideshow": {
     "slide_type": "fragment"
    }
   },
   "source": [
    "<span style='color:#42a5f5'><b>Command mode</b></span>: when you're not actively typing in a cell.\n",
    "\n",
    "<center><img src='imgs/commandmode.png' width=45%></center>"
   ]
  },
  {
   "cell_type": "markdown",
   "id": "efe084a2",
   "metadata": {
    "slideshow": {
     "slide_type": "fragment"
    }
   },
   "source": [
    "Hit **escape** to switch from edit to command, and **enter** to switch from command to edit."
   ]
  },
  {
   "cell_type": "markdown",
   "id": "ffaec03d",
   "metadata": {
    "slideshow": {
     "slide_type": "slide"
    }
   },
   "source": [
    "### Keyboard shortcuts\n",
    "\n",
    "A few important keyboard shortcuts are listed below. **Don't feel the need to memorize them all!**\n",
    "- You can see them by hitting **H** while in command mode.\n",
    "- You can also just use the toolbar directly, rather than using a shortcut.\n",
    "\n",
    "| Action | Mode | Keyboard shortcut |\n",
    "| --- | --- | --- |\n",
    "| Run cell + jump to next cell | **Either (puts you in edit mode)** | SHIFT + ENTER |\n",
    "| Save the notebook | **Either** | CTRL/CMD + S |\n",
    "| Create new cell above/below | Command | A/B |\n",
    "| Convert cell to Markdown | Command | M |\n",
    "| Convert cell to code | Command | Y |"
   ]
  },
  {
   "cell_type": "markdown",
   "id": "71d1c698",
   "metadata": {
    "slideshow": {
     "slide_type": "slide"
    }
   },
   "source": [
    "## Python\n",
    "\n",
    "---\n",
    "\n",
    "Let's highlight some key features of Python, and contrast them to C++, a language you've likely used before in EECS 280/281 (though if you've received an override, never taken an EECS class, but have programmed before in another language, you'll be able to follow along, too)."
   ]
  },
  {
   "cell_type": "markdown",
   "id": "eb5a6c74",
   "metadata": {
    "slideshow": {
     "slide_type": "slide"
    }
   },
   "source": [
    "### Variable types and code compilation"
   ]
  },
  {
   "cell_type": "markdown",
   "id": "06667308",
   "metadata": {
    "slideshow": {
     "slide_type": "fragment"
    }
   },
   "source": [
    "- In C++, variable types need to be explicitly declared ahead of time, and are fixed (static) once declared. The compiler verifies that all types are consistent before the code is actually executed.\n",
    "\n",
    "<div>\n",
    "\n",
    "```cpp\n",
    "            // Compiler error!\n",
    "            int count = 7 + 9;\n",
    "            count = \"data science\";\n",
    "    \n",
    "```\n",
    "    \n",
    "<small>\n",
    "<div>\n",
    "\n",
    "```\n",
    "                    main.cpp:16:9: error: invalid conversion from ‘const char*’ to ‘int’ [-fpermissive]\n",
    "    \n",
    "```\n",
    "\n",
    "</div>\n",
    "</small>\n",
    "\n",
    "</div>\n",
    "   "
   ]
  },
  {
   "cell_type": "markdown",
   "id": "3ef58942",
   "metadata": {
    "slideshow": {
     "slide_type": "fragment"
    }
   },
   "source": [
    "- In Python, variable types don't need to be declared, and are free to change (dynamic).\n",
    "<br><small>Also, note that you don't need semicolons!</small>"
   ]
  },
  {
   "cell_type": "code",
   "execution_count": null,
   "id": "c1d450f7",
   "metadata": {},
   "outputs": [],
   "source": [
    "# Works just fine.\n",
    "count = 7 + 9\n",
    "count = \"data science\"\n",
    "count"
   ]
  },
  {
   "cell_type": "code",
   "execution_count": null,
   "id": "d9fa06f2",
   "metadata": {},
   "outputs": [],
   "source": [
    "type(count) # The type function returns the type of an object."
   ]
  },
  {
   "cell_type": "markdown",
   "id": "8aa3c09e",
   "metadata": {
    "slideshow": {
     "slide_type": "fragment"
    }
   },
   "source": [
    "- Since Python is interpreted, not compiled, it doesn't have any compiler errors. All errors occur at runtime.<br><small>This means that you can \"run\" lots of buggy code, but you may only spot the issues later on – <b>be careful!</b></small>"
   ]
  },
  {
   "cell_type": "code",
   "execution_count": null,
   "id": "089bbd0a",
   "metadata": {},
   "outputs": [],
   "source": [
    "# This function takes in a single argument and returns that argument + 1 / 0.\n",
    "# Python doesn't stop us from defining the function.\n",
    "def f(x):\n",
    "    return x + 1 / 0"
   ]
  },
  {
   "cell_type": "code",
   "execution_count": null,
   "id": "8a0aecc6",
   "metadata": {},
   "outputs": [],
   "source": [
    "f(15)"
   ]
  },
  {
   "cell_type": "markdown",
   "id": "afb4743e",
   "metadata": {
    "slideshow": {
     "slide_type": "slide"
    }
   },
   "source": [
    "### Variable types and compilers\n",
    "\n",
    "| | Python | C++ |\n",
    "| --- | --- | --- |\n",
    "| Do I need to define<br>the type of a variable<br>beforehand? | <span style=\"color:orange\"><b>No</b></span> <br>Python is dynamically typed. | <span style=\"color:blue\"><b>Yes</b></span><br>C++ is statically typed. |\n",
    "| Do I compile<br>my code before running it? | <span style=\"color:orange\"><b>No</b></span><br>Python is interpreted;<br>Python code is converted to<br>bytecode line-by-line<br> at runtime.<br><small><br>In fact, the standard implementation<br> of Python is written in C (called CPython).</small> | <span style=\"color:blue\"><b>Yes</b></span><br>The entirety of a<br> C++ program needs to be<br> compiled to bytecode<br> before it's run.<br><br><small>This is part of why C++ is <br>much <b>faster</b> than Python.</small> |"
   ]
  },
  {
   "cell_type": "markdown",
   "id": "4aae201a",
   "metadata": {
    "slideshow": {
     "slide_type": "fragment"
    }
   },
   "source": [
    "- You _can_ use type \"hints\" in Python, but they **aren't** verified at runtime."
   ]
  },
  {
   "cell_type": "code",
   "execution_count": null,
   "id": "17199e26",
   "metadata": {},
   "outputs": [],
   "source": [
    "name: str = 'Junior'\n",
    "name = 3.14"
   ]
  },
  {
   "cell_type": "markdown",
   "id": "8abf8abb",
   "metadata": {
    "slideshow": {
     "slide_type": "slide"
    }
   },
   "source": [
    "### Jupyter memory model"
   ]
  },
  {
   "cell_type": "markdown",
   "id": "12ce9f60",
   "metadata": {
    "slideshow": {
     "slide_type": "fragment"
    }
   },
   "source": [
    "- Python may be new to you, but in addition, code in a Jupyter Notebook behaves a little differently than code in a text editor + Terminal setup."
   ]
  },
  {
   "cell_type": "markdown",
   "id": "ac2ec2e8",
   "metadata": {
    "slideshow": {
     "slide_type": "fragment"
    }
   },
   "source": [
    "- Pretend your notebook has a brain 🧠."
   ]
  },
  {
   "cell_type": "markdown",
   "id": "e5e454a0",
   "metadata": {
    "slideshow": {
     "slide_type": "fragment"
    }
   },
   "source": [
    "- Everytime you run a cell with an assignment statement, it remembers that name-value binding."
   ]
  },
  {
   "cell_type": "markdown",
   "id": "ef526ec0",
   "metadata": {
    "slideshow": {
     "slide_type": "fragment"
    }
   },
   "source": [
    "- It will remember all name-value bindings as long as the current session is open, no matter how many cells you create or delete."
   ]
  },
  {
   "cell_type": "code",
   "execution_count": null,
   "id": "312c3f4c",
   "metadata": {},
   "outputs": [],
   "source": [
    "# We defined this a while ago, but it still remembers.\n",
    "# This is a common pattern: writing the name of a variable in a cell of its own\n",
    "# to check its value.\n",
    "count"
   ]
  },
  {
   "cell_type": "markdown",
   "id": "6d9cf2e1",
   "metadata": {
    "slideshow": {
     "slide_type": "fragment"
    }
   },
   "source": [
    "- But, quitting your Terminal ends your Jupyter Notebook session, and your notebook will forget everything it knows – **you’ll need to re-run all of your cells** the next time you open it."
   ]
  },
  {
   "cell_type": "markdown",
   "id": "5b42f14a",
   "metadata": {
    "slideshow": {
     "slide_type": "fragment"
    }
   },
   "source": [
    "- With this in mind, you should aim to structure your code in a **reproducible** manner – so that others can trace your steps. Let's look at some practices you **should avoid ❌**.<br><small>And by others, we mostly mean you, when you come back to your homework the next day.</small>"
   ]
  },
  {
   "cell_type": "markdown",
   "id": "c4d908ba",
   "metadata": {
    "slideshow": {
     "slide_type": "slide"
    }
   },
   "source": [
    "1. **Don't** delete cells that contain assignment statements."
   ]
  },
  {
   "cell_type": "code",
   "execution_count": null,
   "id": "4d90b76d",
   "metadata": {},
   "outputs": [],
   "source": [
    "# To illustrate the issue, run this cell and then delete it.\n",
    "age = 23"
   ]
  },
  {
   "cell_type": "code",
   "execution_count": null,
   "id": "1208ad23",
   "metadata": {},
   "outputs": [],
   "source": [
    "# If the above cell has been run, this cell will run just fine, even if you \n",
    "# delete the cell above. However, once your notebook \"forgets\" all of \n",
    "# the variables it knows about, this cell will error, \n",
    "# since `age` won't be defined anywhere!\n",
    "age + 15"
   ]
  },
  {
   "cell_type": "markdown",
   "id": "3f80eb4e",
   "metadata": {
    "slideshow": {
     "slide_type": "slide"
    }
   },
   "source": [
    "2. **Don't** use a variable in a cell **above** where it is defined."
   ]
  },
  {
   "cell_type": "code",
   "execution_count": null,
   "id": "1e1e7333",
   "metadata": {},
   "outputs": [],
   "source": [
    "# If you run the cell below first, then this cell will run just fine.\n",
    "# However, once your notebook \"forgets\" all of the variables\n",
    "# it knows about, and you run all of its cells in order,\n",
    "# this will cause an error, because you are trying to use\n",
    "# `weather` before its defined!\n",
    "weather - 4"
   ]
  },
  {
   "cell_type": "code",
   "execution_count": null,
   "id": "d483957d",
   "metadata": {},
   "outputs": [],
   "source": [
    "# To illustrate the issue, run this cell FIRST, then the cell above.\n",
    "weather = 72"
   ]
  },
  {
   "cell_type": "markdown",
   "id": "72950041",
   "metadata": {
    "slideshow": {
     "slide_type": "slide"
    }
   },
   "source": [
    "3. **Don't** overwrite built-in names!"
   ]
  },
  {
   "cell_type": "code",
   "execution_count": null,
   "id": "2c61f1a1",
   "metadata": {},
   "outputs": [],
   "source": [
    "min(2, 3)"
   ]
  },
  {
   "cell_type": "code",
   "execution_count": null,
   "id": "d3cf0dc5",
   "metadata": {},
   "outputs": [],
   "source": [
    "min = 17"
   ]
  },
  {
   "cell_type": "code",
   "execution_count": null,
   "id": "fe82ed99",
   "metadata": {},
   "outputs": [],
   "source": [
    "min(2, 3)"
   ]
  },
  {
   "cell_type": "markdown",
   "id": "96aac477",
   "metadata": {
    "slideshow": {
     "slide_type": "slide"
    }
   },
   "source": [
    "### Restarting the kernel"
   ]
  },
  {
   "cell_type": "markdown",
   "id": "d7ed327b",
   "metadata": {
    "slideshow": {
     "slide_type": "fragment"
    }
   },
   "source": [
    "If something doesn't seem right, you can **force** your notebook to forget everything it currently is remembering and give it a \"fresh start\". To do so:"
   ]
  },
  {
   "cell_type": "markdown",
   "id": "12ac80f4",
   "metadata": {
    "slideshow": {
     "slide_type": "fragment"
    }
   },
   "source": [
    "1. Save your notebook (by clicking the floppy disk icon or CTRL/CMD + S)."
   ]
  },
  {
   "cell_type": "markdown",
   "id": "5e84bcd5",
   "metadata": {
    "slideshow": {
     "slide_type": "fragment"
    }
   },
   "source": [
    "2. **Restart your kernel**.\n",
    "<br><small>The kernel is like the engine of a Jupyter Notebook. We're working with a Python kernel that has our `pds` conda environment installed.<br>There exist Jupyter kernels for many languages, including C++!</small>\n",
    "\n",
    "<center><img src='imgs/restart-kernel.png' width=40%></center>"
   ]
  },
  {
   "cell_type": "markdown",
   "id": "b3187fd7",
   "metadata": {
    "slideshow": {
     "slide_type": "slide"
    }
   },
   "source": [
    "### Aside: Terminal commands in Jupyter Notebooks\n",
    "\n",
    "You can run command-line operations in Jupyter Notebook cells by placing `!` before them."
   ]
  },
  {
   "cell_type": "code",
   "execution_count": null,
   "id": "9cb79f2a",
   "metadata": {},
   "outputs": [],
   "source": [
    "!ls imgs"
   ]
  },
  {
   "cell_type": "markdown",
   "id": "7f294b1c",
   "metadata": {},
   "source": [
    "This can be useful in figuring out the location of files that you need to load in, for instance."
   ]
  },
  {
   "cell_type": "markdown",
   "id": "604f0b35",
   "metadata": {
    "slideshow": {
     "slide_type": "slide"
    }
   },
   "source": [
    "### Data structures"
   ]
  },
  {
   "cell_type": "markdown",
   "id": "2f27bfa2",
   "metadata": {
    "slideshow": {
     "slide_type": "fragment"
    }
   },
   "source": [
    "- Python has a variety of built-in data structures, including lists, dictionaries, sets, and tuples."
   ]
  },
  {
   "cell_type": "markdown",
   "id": "77a6d12d",
   "metadata": {
    "slideshow": {
     "slide_type": "fragment"
    }
   },
   "source": [
    "- In this class, we'll most often use lists and dictionaries, along with more data science-specific data structures, like the `pandas` DataFrame (table) we heard about in Lecture 1 and the `numpy` array."
   ]
  },
  {
   "cell_type": "markdown",
   "id": "4abbd867",
   "metadata": {
    "slideshow": {
     "slide_type": "slide"
    }
   },
   "source": [
    "### Lists"
   ]
  },
  {
   "cell_type": "markdown",
   "id": "92434677",
   "metadata": {
    "slideshow": {
     "slide_type": "fragment"
    }
   },
   "source": [
    "- A list is an **ordered** collection of values. To create a new list from scratch, we use [square brackets]."
   ]
  },
  {
   "cell_type": "code",
   "execution_count": null,
   "id": "c5e63a57",
   "metadata": {},
   "outputs": [],
   "source": [
    "temps = [68, 72, 65, 64, 62, 61, 59, 64, 64, 63, 65, 62]\n",
    "temps"
   ]
  },
  {
   "cell_type": "markdown",
   "id": "e9f2246f",
   "metadata": {
    "slideshow": {
     "slide_type": "fragment"
    }
   },
   "source": [
    "- Many built-in functions work on lists."
   ]
  },
  {
   "cell_type": "code",
   "execution_count": null,
   "id": "40781ca7",
   "metadata": {},
   "outputs": [],
   "source": [
    "sum(temps) / len(temps)"
   ]
  },
  {
   "cell_type": "code",
   "execution_count": null,
   "id": "3795c08b",
   "metadata": {},
   "outputs": [],
   "source": [
    "max(['hey', 'hi', 'hello'])"
   ]
  },
  {
   "cell_type": "markdown",
   "id": "3d0a8eba",
   "metadata": {
    "slideshow": {
     "slide_type": "fragment"
    }
   },
   "source": [
    "- Unlike C++ arrays, lists can contain values of different types."
   ]
  },
  {
   "cell_type": "code",
   "execution_count": null,
   "id": "3c5df1d9",
   "metadata": {},
   "outputs": [],
   "source": [
    "mixed_list = [-2, 2.5, 'michigan', [1, 3], max]\n",
    "mixed_list"
   ]
  },
  {
   "cell_type": "markdown",
   "id": "608de0b7",
   "metadata": {
    "slideshow": {
     "slide_type": "fragment"
    }
   },
   "source": [
    "- Note that we're talking about lists now, since they're built-in, but we'll actually spend more time working with `numpy` arrays, which in some ways behave differently."
   ]
  },
  {
   "cell_type": "markdown",
   "id": "f5e28cbb",
   "metadata": {
    "slideshow": {
     "slide_type": "slide"
    }
   },
   "source": [
    "### Appending"
   ]
  },
  {
   "cell_type": "markdown",
   "id": "1310d4e9",
   "metadata": {
    "slideshow": {
     "slide_type": "fragment"
    }
   },
   "source": [
    "- We use the `append` **method** to add elements to the end of a list.<br><small>It is a method as we call it using \"dot\" notation, i.e. `groceries.append(...)` instead of `append(groceries, ...)`.</small>"
   ]
  },
  {
   "cell_type": "code",
   "execution_count": null,
   "id": "49d9edec",
   "metadata": {},
   "outputs": [],
   "source": [
    "groceries = ['eggs', 'milk']\n",
    "groceries"
   ]
  },
  {
   "cell_type": "code",
   "execution_count": null,
   "id": "3ea53469",
   "metadata": {},
   "outputs": [],
   "source": [
    "groceries.append('bread')"
   ]
  },
  {
   "cell_type": "code",
   "execution_count": null,
   "id": "13ad7422",
   "metadata": {},
   "outputs": [],
   "source": [
    "groceries"
   ]
  },
  {
   "cell_type": "markdown",
   "id": "41a33dbd",
   "metadata": {
    "slideshow": {
     "slide_type": "fragment"
    }
   },
   "source": [
    "- **Important**: Note that `groceries.append('bread')` didn’t return anything, but groceries was modified.<br><small>We say `append` is **destructive**, because it does something other than return an output. We try to avoid destructive operations when possible.</small>"
   ]
  },
  {
   "cell_type": "code",
   "execution_count": null,
   "id": "ed5a83f7",
   "metadata": {},
   "outputs": [],
   "source": [
    "groceries + ['yogurt'] # This is a new list, not a modification of groceries!"
   ]
  },
  {
   "cell_type": "markdown",
   "id": "a133861c",
   "metadata": {
    "slideshow": {
     "slide_type": "slide"
    }
   },
   "source": [
    "### Indexing\n",
    "\n",
    "Python, like most programming languages, is 0-indexed. This means that the **index**, or position, of the first element in a list is 0, not 1.<br><small>One reason: an element's index represents how far it is from the start of the list.</small>"
   ]
  },
  {
   "cell_type": "code",
   "execution_count": null,
   "id": "68488578",
   "metadata": {},
   "outputs": [],
   "source": [
    "nums = [3, 1, 'dog', -9.5, 'ucsd']"
   ]
  },
  {
   "cell_type": "code",
   "execution_count": null,
   "id": "2b112ea8",
   "metadata": {},
   "outputs": [],
   "source": [
    "nums[0]"
   ]
  },
  {
   "cell_type": "code",
   "execution_count": null,
   "id": "eeb8b724",
   "metadata": {},
   "outputs": [],
   "source": [
    "nums[3]"
   ]
  },
  {
   "cell_type": "code",
   "execution_count": null,
   "id": "42720635",
   "metadata": {},
   "outputs": [],
   "source": [
    "nums[-1] # Counts from the end."
   ]
  },
  {
   "cell_type": "code",
   "execution_count": null,
   "id": "7e2514bd",
   "metadata": {},
   "outputs": [],
   "source": [
    "nums[5]"
   ]
  },
  {
   "cell_type": "markdown",
   "id": "eaa350be",
   "metadata": {
    "slideshow": {
     "slide_type": "slide"
    }
   },
   "source": [
    "### Slicing\n",
    "\n",
    "We can use indexes to create a \"slice of a list. A slice is a new list containing elements from another list.\n",
    "\n",
    "```py\n",
    "list_name[start : stop]\n",
    "```\n",
    "\n",
    "The above slice consists of all elements in list_name starting with index `start` and ending right before index `stop`."
   ]
  },
  {
   "cell_type": "code",
   "execution_count": null,
   "id": "5dcddf9f",
   "metadata": {},
   "outputs": [],
   "source": [
    "nums"
   ]
  },
  {
   "cell_type": "code",
   "execution_count": null,
   "id": "6a961dfc",
   "metadata": {},
   "outputs": [],
   "source": [
    "nums[1:3]"
   ]
  },
  {
   "cell_type": "code",
   "execution_count": null,
   "id": "fff9542c",
   "metadata": {},
   "outputs": [],
   "source": [
    "nums[0:4]"
   ]
  },
  {
   "cell_type": "code",
   "execution_count": null,
   "id": "4c7e6d69",
   "metadata": {},
   "outputs": [],
   "source": [
    "# If you don't include 'start', the slice starts at the beginning of the list.\n",
    "nums[:4]"
   ]
  },
  {
   "cell_type": "code",
   "execution_count": null,
   "id": "4d190b79",
   "metadata": {},
   "outputs": [],
   "source": [
    "# If you don't include 'stop', the slice starts at the end of the list.\n",
    "nums[-2:]"
   ]
  },
  {
   "cell_type": "code",
   "execution_count": null,
   "id": "5089d5b1",
   "metadata": {},
   "outputs": [],
   "source": [
    "# Interesting...\n",
    "nums[::-1]"
   ]
  },
  {
   "cell_type": "markdown",
   "id": "d1860225",
   "metadata": {
    "slideshow": {
     "slide_type": "slide"
    }
   },
   "source": [
    "### Strings\n",
    "\n",
    "Strings are similar to lists: they have indexes as well. Each element of a string can be thought of as a \"character\", which is a string of length 1."
   ]
  },
  {
   "cell_type": "code",
   "execution_count": null,
   "id": "3a2e4528",
   "metadata": {},
   "outputs": [],
   "source": [
    "university = 'university of michigan'"
   ]
  },
  {
   "cell_type": "code",
   "execution_count": null,
   "id": "2306864d",
   "metadata": {},
   "outputs": [],
   "source": [
    "university[1]"
   ]
  },
  {
   "cell_type": "code",
   "execution_count": null,
   "id": "394a8f49",
   "metadata": {},
   "outputs": [],
   "source": [
    "university[11:13]"
   ]
  },
  {
   "cell_type": "code",
   "execution_count": null,
   "id": "3083c56c",
   "metadata": {},
   "outputs": [],
   "source": [
    "university[-8:]"
   ]
  },
  {
   "cell_type": "markdown",
   "id": "11bb3d77",
   "metadata": {
    "slideshow": {
     "slide_type": "slide"
    }
   },
   "source": [
    "### String methods\n",
    "\n",
    "Strings also come equipped with several methods."
   ]
  },
  {
   "cell_type": "code",
   "execution_count": null,
   "id": "6633a48f",
   "metadata": {},
   "outputs": [],
   "source": [
    "school = 'university of michigan'"
   ]
  },
  {
   "cell_type": "code",
   "execution_count": null,
   "id": "392bb22e",
   "metadata": {},
   "outputs": [],
   "source": [
    "school.upper()"
   ]
  },
  {
   "cell_type": "code",
   "execution_count": null,
   "id": "ed640d7e",
   "metadata": {},
   "outputs": [],
   "source": [
    "school.title()"
   ]
  },
  {
   "cell_type": "code",
   "execution_count": null,
   "id": "65060245",
   "metadata": {},
   "outputs": [],
   "source": [
    "school.split()"
   ]
  },
  {
   "cell_type": "code",
   "execution_count": null,
   "id": "b0519e15",
   "metadata": {},
   "outputs": [],
   "source": [
    "school.title().replace('i', 'ℹ️').split()"
   ]
  },
  {
   "cell_type": "code",
   "execution_count": null,
   "id": "a9251bd3",
   "metadata": {},
   "outputs": [],
   "source": [
    "school.find('f')"
   ]
  },
  {
   "cell_type": "markdown",
   "id": "614f1d5f",
   "metadata": {
    "slideshow": {
     "slide_type": "slide"
    }
   },
   "source": [
    "### Immutability"
   ]
  },
  {
   "cell_type": "markdown",
   "id": "7af94578",
   "metadata": {
    "slideshow": {
     "slide_type": "fragment"
    }
   },
   "source": [
    "- One key difference between lists and strings: you **can change** an element of a list, but **not** of a string."
   ]
  },
  {
   "cell_type": "markdown",
   "id": "2c4017ba",
   "metadata": {
    "slideshow": {
     "slide_type": "fragment"
    }
   },
   "source": [
    "- If you want to change any part of a string, you must make a new string. This is because lists are **mutable**, while strings are **immutable**.\n",
    "<br><small>Before and after running `test_list[1] = 99`, `test_list` still refers to the same object in memory under the hood.</small>"
   ]
  },
  {
   "cell_type": "code",
   "execution_count": null,
   "id": "10c4fad9",
   "metadata": {},
   "outputs": [],
   "source": [
    "test_list = [8, 0, 2, 4]\n",
    "test_string = 'zebra'"
   ]
  },
  {
   "cell_type": "code",
   "execution_count": null,
   "id": "d068f39c",
   "metadata": {},
   "outputs": [],
   "source": [
    "test_list[1] = 99\n",
    "test_list"
   ]
  },
  {
   "cell_type": "code",
   "execution_count": null,
   "id": "4ae08faf",
   "metadata": {},
   "outputs": [],
   "source": [
    "test_string[1] = 'f'"
   ]
  },
  {
   "cell_type": "code",
   "execution_count": null,
   "id": "8ac6c0d9",
   "metadata": {},
   "outputs": [],
   "source": [
    "# Since we can't \"change\" test_string, we need to make a \"new\" string \n",
    "# containing the parts of it that we wanted.\n",
    "# We can re-use the variable name test_string, though!\n",
    "test_string = test_string[:1] + 'f' + test_string[2:]\n",
    "test_string"
   ]
  },
  {
   "cell_type": "markdown",
   "id": "8f1425e2",
   "metadata": {
    "slideshow": {
     "slide_type": "fragment"
    }
   },
   "source": [
    "- _Most_ data structures – lists, dictionaries, `numpy` arrays, `pandas` DataFrames – are **mutable**, which means we need to be **extremely careful** when using them to modify them unexpectedly."
   ]
  },
  {
   "cell_type": "markdown",
   "id": "3c3df200",
   "metadata": {
    "slideshow": {
     "slide_type": "slide"
    }
   },
   "source": [
    "### Objects can have more than one variable name!"
   ]
  },
  {
   "cell_type": "markdown",
   "id": "330ecd06",
   "metadata": {
    "slideshow": {
     "slide_type": "fragment"
    }
   },
   "source": [
    "- Assignment statements in Python never copy data – all they do is create a new \"name\" for the expression on the right-hand side of `=`.\n",
    "\n",
    "```py\n",
    "            var_name = <some expression>\n",
    "```"
   ]
  },
  {
   "cell_type": "markdown",
   "id": "4abffb4c",
   "metadata": {
    "slideshow": {
     "slide_type": "fragment"
    }
   },
   "source": [
    "- If `value` is mutable, then any name referring to it will see those changes reflected, so **be careful!**"
   ]
  },
  {
   "cell_type": "code",
   "execution_count": null,
   "id": "6c8d4093",
   "metadata": {},
   "outputs": [],
   "source": [
    "x = [1, 2, 3, 4]\n",
    "y = x\n",
    "y[2] = ['hi', 'hello']"
   ]
  },
  {
   "cell_type": "code",
   "execution_count": null,
   "id": "d76d3a2e",
   "metadata": {},
   "outputs": [],
   "source": [
    "x"
   ]
  },
  {
   "cell_type": "code",
   "execution_count": null,
   "id": "ce91ac58",
   "metadata": {},
   "outputs": [],
   "source": [
    "y"
   ]
  },
  {
   "cell_type": "code",
   "execution_count": null,
   "id": "8c4e26ae",
   "metadata": {},
   "outputs": [],
   "source": [
    "y = x + [5] # This creates a new list!\n",
    "y"
   ]
  },
  {
   "cell_type": "code",
   "execution_count": null,
   "id": "6b3ddf24",
   "metadata": {},
   "outputs": [],
   "source": [
    "x"
   ]
  },
  {
   "cell_type": "markdown",
   "id": "7c201eb5",
   "metadata": {
    "slideshow": {
     "slide_type": "fragment"
    }
   },
   "source": [
    "- Python is notoriously opaque when it comes to variables and pointers. Here's a [good reference](https://nedbatchelder.com/text/names.html)."
   ]
  },
  {
   "cell_type": "markdown",
   "id": "e0b948bb",
   "metadata": {
    "slideshow": {
     "slide_type": "slide"
    }
   },
   "source": [
    "### Indentation and control flow"
   ]
  },
  {
   "cell_type": "markdown",
   "id": "6b6b4e4f",
   "metadata": {
    "slideshow": {
     "slide_type": "fragment"
    }
   },
   "source": [
    "- In C++, to define code blocks, you used `{`curly brackets`}`.\n",
    "\n",
    "```cpp\n",
    "            double future_value(double present_value, double APR, int months) {\n",
    "                double r = APR / 12.0 / 100.0;\n",
    "                return present_value * pow(1 + r, months);\n",
    "            }\n",
    "```"
   ]
  },
  {
   "cell_type": "markdown",
   "id": "469e2e85",
   "metadata": {
    "slideshow": {
     "slide_type": "fragment"
    }
   },
   "source": [
    "- In Python, you use a colon`:` and then **indent** the following lines by either a **tab** or **four spaces**."
   ]
  },
  {
   "cell_type": "code",
   "execution_count": null,
   "id": "d082211c",
   "metadata": {},
   "outputs": [],
   "source": [
    "def future_value(present_value, APR, months):\n",
    "    r = APR / 12 / 100\n",
    "    return present_value * (1 + r) ** months"
   ]
  },
  {
   "cell_type": "code",
   "execution_count": null,
   "id": "6c0b0366",
   "metadata": {},
   "outputs": [],
   "source": [
    "future_value(100, 7, 36)"
   ]
  },
  {
   "cell_type": "markdown",
   "id": "288e2e56",
   "metadata": {
    "slideshow": {
     "slide_type": "fragment"
    }
   },
   "source": [
    "- The `def` keyword defines a new function. `if`-statements, `for`-loops, and `while`-loops work similarly as in other languages."
   ]
  },
  {
   "cell_type": "markdown",
   "id": "ab9aeede",
   "metadata": {
    "slideshow": {
     "slide_type": "fragment"
    }
   },
   "source": [
    "- Let's work through several examples."
   ]
  },
  {
   "cell_type": "markdown",
   "id": "02515bda",
   "metadata": {
    "slideshow": {
     "slide_type": "slide"
    }
   },
   "source": [
    "<div class=\"alert alert-success\">\n",
    "<h3>Activity</h3>\n",
    "    \n",
    "Suppose we define the function `mystery` below.<br>\n",
    "    \n",
    "```py\n",
    "def mystery(vals):\n",
    "    vals[-1] = 15\n",
    "    return vals.append('BBB')\n",
    "```\n",
    "\n",
    "**Part 1**: After running the following cell 3 times, what is the value of `creature`? What is the output we see from this cell each time it is run?\n",
    "    \n",
    "```py\n",
    "creature = [1, 2, 3]\n",
    "mystery(creature)\n",
    "```\n",
    "    \n",
    "---\n",
    "    \n",
    "**Part 2**: Suppose we run Cell A once and Cell B 3 times. After doing so, what is the value of `creature`? What is the output we see from Cell B each time it is run?\n",
    "    \n",
    "```py\n",
    "# Cell A\n",
    "creature = [1, 2, 3]\n",
    "```\n",
    "    \n",
    "<br>\n",
    "    \n",
    "```py\n",
    "# Cell B\n",
    "mystery(creature)\n",
    "creature\n",
    "```\n",
    "\n",
    "**Try and answer without writing any code.**"
   ]
  },
  {
   "cell_type": "code",
   "execution_count": null,
   "id": "8b8d3e49-48d0-4f7c-9d0c-170763dbf8c1",
   "metadata": {},
   "outputs": [],
   "source": [
    "def mystery(vals):\n",
    "    vals[-1] = 15\n",
    "    return vals.append('BBB')"
   ]
  },
  {
   "cell_type": "markdown",
   "id": "bd1f1c08-c7d2-476b-bb25-1d66817d2304",
   "metadata": {},
   "source": [
    "Part 1:"
   ]
  },
  {
   "cell_type": "code",
   "execution_count": null,
   "id": "ea909503",
   "metadata": {},
   "outputs": [],
   "source": [
    "creature = [1, 2, 3]\n",
    "mystery(creature)"
   ]
  },
  {
   "cell_type": "code",
   "execution_count": null,
   "id": "7106807e-7cce-486e-908f-2df4b4dae810",
   "metadata": {},
   "outputs": [],
   "source": [
    "creature"
   ]
  },
  {
   "cell_type": "code",
   "execution_count": null,
   "id": "9dd23250-1924-4026-90a8-91bfa892d4fe",
   "metadata": {},
   "outputs": [],
   "source": []
  },
  {
   "cell_type": "markdown",
   "id": "3cf98100-a691-45d4-9a44-493943986b61",
   "metadata": {},
   "source": [
    "Part 2:"
   ]
  },
  {
   "cell_type": "code",
   "execution_count": null,
   "id": "df19d9e0-ac42-4edc-bcc1-9e73b6704121",
   "metadata": {},
   "outputs": [],
   "source": [
    "# Cell A\n",
    "creature = [1, 2, 3]"
   ]
  },
  {
   "cell_type": "code",
   "execution_count": null,
   "id": "74e937fb",
   "metadata": {},
   "outputs": [],
   "source": [
    "# (ran three times)\n",
    "mystery(creature)\n",
    "creature"
   ]
  },
  {
   "cell_type": "markdown",
   "id": "d1f06246",
   "metadata": {
    "slideshow": {
     "slide_type": "slide"
    }
   },
   "source": [
    "<div class=\"alert alert-success\">\n",
    "<h3>Activity</h3>\n",
    "    \n",
    "Suppose we run the cell below.\n",
    "    \n",
    "```py\n",
    "total = 3\n",
    "def square_and_cube(a, b):\n",
    "    return a ** 2 + total ** b\n",
    "```\n",
    "    \n",
    "Then, suppose we run the cell below twice.\n",
    "```py\n",
    "total = square_and_cube(1, 2)\n",
    "```\n",
    "\n",
    "What is the value of `total`? **Try and answer without writing any code.**\n",
    "    \n",
    "</div>"
   ]
  },
  {
   "cell_type": "code",
   "execution_count": null,
   "id": "e7cc4099",
   "metadata": {},
   "outputs": [],
   "source": [
    "total = 3\n",
    "def square_and_cube(a, b):\n",
    "    return a ** 2 + total ** b"
   ]
  },
  {
   "cell_type": "code",
   "execution_count": null,
   "id": "fb302cbe",
   "metadata": {},
   "outputs": [],
   "source": [
    "# (ran twice)\n",
    "total = square_and_cube(1, 2)"
   ]
  },
  {
   "cell_type": "code",
   "execution_count": null,
   "id": "f11999ce-df4b-4f14-9f3b-1af9fdf88f12",
   "metadata": {},
   "outputs": [],
   "source": [
    "total"
   ]
  },
  {
   "cell_type": "markdown",
   "id": "4b84c243",
   "metadata": {
    "slideshow": {
     "slide_type": "slide"
    }
   },
   "source": [
    "<div class=\"alert alert-success\">\n",
    "<h3>Activity</h3>\n",
    "    \n",
    "Complete the implementation of the function `missing_number`, which takes in a list `nums` containing unique integers between `1` and `n` **with one number missing**, and returns the only number in the range `1` to `n` that is missing from `nums`.\n",
    "\n",
    "Example behavior is shown below.\n",
    "    \n",
    "```py\n",
    ">>> missing_number([6, 2, 3, 5, 9, 8, 4, 1])\n",
    "7\n",
    ">>> missing_number([1, 2, 3, 4, 5])\n",
    "6\n",
    "```\n",
    "    \n",
    "***Hint***: Use a `for`-loop and the `range` function.\n",
    "   \n",
    "</div>"
   ]
  },
  {
   "cell_type": "code",
   "execution_count": null,
   "id": "7be678b5",
   "metadata": {},
   "outputs": [],
   "source": [
    "def missing_number(nums):\n",
    "    for i in range(1, len(nums) + 2):\n",
    "        if i not in nums:\n",
    "            return i"
   ]
  },
  {
   "cell_type": "code",
   "execution_count": null,
   "id": "55694356",
   "metadata": {},
   "outputs": [],
   "source": []
  },
  {
   "cell_type": "code",
   "execution_count": null,
   "id": "1dd80542",
   "metadata": {},
   "outputs": [],
   "source": []
  },
  {
   "cell_type": "code",
   "execution_count": null,
   "id": "da05faa8",
   "metadata": {},
   "outputs": [],
   "source": [
    "# Expecting: 7.\n",
    "missing_number([6, 2, 3, 5, 9, 8, 4, 1])"
   ]
  },
  {
   "cell_type": "code",
   "execution_count": null,
   "id": "002bdd76",
   "metadata": {},
   "outputs": [],
   "source": [
    "# Expecting: 6.\n",
    "missing_number([1, 2, 3, 4, 5])"
   ]
  },
  {
   "cell_type": "markdown",
   "id": "9d4dfaba",
   "metadata": {
    "slideshow": {
     "slide_type": "slide"
    }
   },
   "source": [
    "### `for`-loops in Python"
   ]
  },
  {
   "cell_type": "markdown",
   "id": "2dac8460",
   "metadata": {
    "slideshow": {
     "slide_type": "fragment"
    }
   },
   "source": [
    "- In Python, you can loop over any **iterable**. Strings, lists, and dictionaries are all examples of iterables."
   ]
  },
  {
   "cell_type": "markdown",
   "id": "4291be3a",
   "metadata": {
    "slideshow": {
     "slide_type": "fragment"
    }
   },
   "source": [
    "- All of the following are valid ways to write a `for`-loop.<br>\n",
    "    \n",
    "```py\n",
    "            for value in \"this is a string\":\n",
    "\n",
    "            for element in lst:                  # Assume lst is a list.\n",
    "\n",
    "            for i in range(len(lst)):\n",
    "    \n",
    "```"
   ]
  },
  {
   "cell_type": "markdown",
   "id": "1c7d34e3",
   "metadata": {
    "slideshow": {
     "slide_type": "fragment"
    }
   },
   "source": [
    "- One of the more common `for`-loop examples you may have seen in earlier classes involved performing some operation to every element of a sequence, e.g. doubling the numbers in a list.\n",
    "\n",
    "```py\n",
    "            def double(vals):\n",
    "                new_vals = []\n",
    "                for val in vals:\n",
    "                    new_vals.append(vals * 2)\n",
    "                return new_vals\n",
    "```"
   ]
  },
  {
   "cell_type": "markdown",
   "id": "e2eb4d95",
   "metadata": {
    "slideshow": {
     "slide_type": "fragment"
    }
   },
   "source": [
    "- We are going to **avoid ❌** these kinds of `for`-loops in this class, because there are **much faster** ways of achieving the same goal in `numpy` and `pandas`. We'll see these soon."
   ]
  },
  {
   "cell_type": "markdown",
   "id": "b3fc486d",
   "metadata": {
    "slideshow": {
     "slide_type": "fragment"
    }
   },
   "source": [
    "- `while`-loops will come up sparingly.<br><small>But conceptually, you should know how they work!</small>"
   ]
  },
  {
   "cell_type": "markdown",
   "id": "8dfbc4fb",
   "metadata": {
    "slideshow": {
     "slide_type": "slide"
    }
   },
   "source": [
    "### List comprehension\n",
    "\n",
    "In the situations when we do want to perform some operation to every element in a list, a common pattern is the **list comprehension**."
   ]
  },
  {
   "cell_type": "code",
   "execution_count": null,
   "id": "c9d3d8b9",
   "metadata": {},
   "outputs": [],
   "source": [
    "vals = [2, -1, 9, 4, 3, 8]"
   ]
  },
  {
   "cell_type": "code",
   "execution_count": null,
   "id": "a38160dd",
   "metadata": {},
   "outputs": [],
   "source": [
    "[val ** 2 for val in vals]"
   ]
  },
  {
   "cell_type": "code",
   "execution_count": null,
   "id": "24d86bdb",
   "metadata": {},
   "outputs": [],
   "source": [
    "[val ** 2 for val in vals if val % 2 == 0]"
   ]
  },
  {
   "cell_type": "code",
   "execution_count": null,
   "id": "2a8bc5d6",
   "metadata": {},
   "outputs": [],
   "source": [
    "[val ** 2 if val % 2 == 0 else val + 1 for val in vals]"
   ]
  },
  {
   "cell_type": "markdown",
   "id": "c474e933",
   "metadata": {
    "slideshow": {
     "slide_type": "slide"
    }
   },
   "source": [
    "### Dictionaries"
   ]
  },
  {
   "cell_type": "markdown",
   "id": "548111b6",
   "metadata": {
    "slideshow": {
     "slide_type": "fragment"
    }
   },
   "source": [
    "- A dictionary stores a collection of key-value pairs.\n",
    "<br><small>They are the equivalent of a map in C++.</small>"
   ]
  },
  {
   "cell_type": "markdown",
   "id": "955dc058",
   "metadata": {
    "slideshow": {
     "slide_type": "fragment"
    }
   },
   "source": [
    "-  `{`curly brackets`}` denote the start and end of a dictionary, a colon`:` is used to denote a single key value pair, and a comma`,` is used to separate key-value pairs."
   ]
  },
  {
   "cell_type": "code",
   "execution_count": null,
   "id": "a130276f",
   "metadata": {},
   "outputs": [],
   "source": [
    "dog = {'name': 'Junior', 'age': 15, 4: ['kibble', 'treat']}\n",
    "dog"
   ]
  },
  {
   "cell_type": "markdown",
   "id": "ea221e6e",
   "metadata": {
    "slideshow": {
     "slide_type": "fragment"
    }
   },
   "source": [
    "- We retrieve a value in a dictionary using its key."
   ]
  },
  {
   "cell_type": "code",
   "execution_count": null,
   "id": "3801f047",
   "metadata": {},
   "outputs": [],
   "source": [
    "dog['name']"
   ]
  },
  {
   "cell_type": "code",
   "execution_count": null,
   "id": "7ba37d19",
   "metadata": {},
   "outputs": [],
   "source": [
    "dog['height']"
   ]
  },
  {
   "cell_type": "markdown",
   "id": "0de256ae",
   "metadata": {
    "slideshow": {
     "slide_type": "fragment"
    }
   },
   "source": [
    "- After creation, we can add or change key-value pairs."
   ]
  },
  {
   "cell_type": "code",
   "execution_count": null,
   "id": "e56b66c3",
   "metadata": {},
   "outputs": [],
   "source": [
    "dog['color'] = 'beige'\n",
    "dog['tricks'] = {\n",
    "    'easy': ['roll over', 'paw'],\n",
    "    'medium': ['jump']\n",
    "}"
   ]
  },
  {
   "cell_type": "code",
   "execution_count": null,
   "id": "76c9361f",
   "metadata": {},
   "outputs": [],
   "source": [
    "dog"
   ]
  },
  {
   "cell_type": "markdown",
   "id": "165925d9",
   "metadata": {},
   "source": [
    "- A dictionary's keys must be immutable (numbers, strings, Booleans), while its values can be anything."
   ]
  },
  {
   "cell_type": "code",
   "execution_count": null,
   "id": "548aa644",
   "metadata": {},
   "outputs": [],
   "source": [
    "# Here, we're trying to add a value with a key of [1, 2].\n",
    "# Since [1, 2] is mutable, it can't be used as a key.\n",
    "dog[[1, 2]] = 'does this work?'"
   ]
  },
  {
   "cell_type": "markdown",
   "id": "d764d670",
   "metadata": {
    "slideshow": {
     "slide_type": "slide"
    }
   },
   "source": [
    "### Pre-activity setup\n",
    "\n",
    "The cell below reads in a file containing the state corresponding to each area code and stores it as a dictionary."
   ]
  },
  {
   "cell_type": "code",
   "execution_count": null,
   "id": "7a4cbdcd",
   "metadata": {},
   "outputs": [],
   "source": [
    "codes_dict = {}\n",
    "f = open('data/areacodes.txt', 'r')\n",
    "s = f.read()\n",
    "\n",
    "for l in s.split('\\n')[:-1]:\n",
    "    code, state = l.split(' — ')\n",
    "    codes_dict[int(code)] = state"
   ]
  },
  {
   "cell_type": "markdown",
   "id": "f583207d",
   "metadata": {
    "slideshow": {
     "slide_type": "slide"
    }
   },
   "source": [
    "<div class=\"alert alert-success\">\n",
    "<h3>Activity</h3>\n",
    "    \n",
    "`codes_dict` is a dictionary where each key is an area code and each value is the state corresponding to that code.\n",
    "\n",
    "```py\n",
    "codes_dict = {...\n",
    "208: 'Idaho',\n",
    "209: 'California',\n",
    "210: 'Texas',\n",
    "212: 'New York',\n",
    "213: 'California',\n",
    "...}\n",
    "```\n",
    "    \n",
    "Create a new dictionary, `states_dict`, where each key is a **state** and each value is a **list of area codes in that state**. For instance:\n",
    "    \n",
    "```py\n",
    "states_dict = {...\n",
    " 'Washington': [206, 253, ...],\n",
    " 'Michigan': [231, 248, ...],\n",
    " 'Idaho': [208],\n",
    " 'California': [209, 213, ...],\n",
    " 'Texas': [210, 214, ...],\n",
    " ...}\n",
    "    \n",
    "```\n",
    "    \n",
    "</div>"
   ]
  },
  {
   "cell_type": "code",
   "execution_count": null,
   "id": "fb6ec53b",
   "metadata": {},
   "outputs": [],
   "source": [
    "states_dict = {}\n",
    "for area_code in codes_dict:\n",
    "    state = codes_dict[area_code]\n",
    "    if state not in states_dict:\n",
    "        states_dict[state] = [area_code]\n",
    "    else:\n",
    "        states_dict[state].append(area_code)"
   ]
  },
  {
   "cell_type": "code",
   "execution_count": null,
   "id": "6e13d2f3",
   "metadata": {},
   "outputs": [],
   "source": [
    "states_dict"
   ]
  },
  {
   "cell_type": "markdown",
   "id": "af673330",
   "metadata": {
    "slideshow": {
     "slide_type": "slide"
    }
   },
   "source": [
    "## `numpy` arrays"
   ]
  },
  {
   "cell_type": "markdown",
   "id": "5f709202",
   "metadata": {
    "slideshow": {
     "slide_type": "slide"
    }
   },
   "source": [
    "### Import statements"
   ]
  },
  {
   "cell_type": "markdown",
   "id": "b2c941e3",
   "metadata": {
    "slideshow": {
     "slide_type": "fragment"
    }
   },
   "source": [
    "- We use `import` statements to add the objects (values, functions, classes) defined in other modules to our programs. There are a few different ways to `import`.\n",
    "<br><small>Other terms I'll use for \"module\" are \"library\" and \"package\".</small>"
   ]
  },
  {
   "cell_type": "markdown",
   "id": "ef461119",
   "metadata": {
    "slideshow": {
     "slide_type": "fragment"
    }
   },
   "source": [
    "- **Option 1**: `import module`.\n",
    "<br><small>Now, everytime we want to use a name in `module`, we must write `module.<name>`.</small>"
   ]
  },
  {
   "cell_type": "code",
   "execution_count": null,
   "id": "f88c762a",
   "metadata": {},
   "outputs": [],
   "source": [
    "import math"
   ]
  },
  {
   "cell_type": "code",
   "execution_count": null,
   "id": "5c904b72",
   "metadata": {},
   "outputs": [],
   "source": [
    "math.sqrt(15)"
   ]
  },
  {
   "cell_type": "code",
   "execution_count": null,
   "id": "adf303f5",
   "metadata": {},
   "outputs": [],
   "source": [
    "sqrt(15)"
   ]
  },
  {
   "cell_type": "markdown",
   "id": "5a52a57c",
   "metadata": {
    "slideshow": {
     "slide_type": "fragment"
    }
   },
   "source": [
    "- **Option 2**: `import module as mod`.\n",
    "<br>Now, everytime we want to use a name in `module`, we can write `m.<name>` instead of `module.<name>`."
   ]
  },
  {
   "cell_type": "code",
   "execution_count": null,
   "id": "a1c832f4",
   "metadata": {},
   "outputs": [],
   "source": [
    "# This is the standard way that we will import numpy.\n",
    "import numpy as np"
   ]
  },
  {
   "cell_type": "code",
   "execution_count": null,
   "id": "70077614",
   "metadata": {},
   "outputs": [],
   "source": [
    "np.pi"
   ]
  },
  {
   "cell_type": "code",
   "execution_count": null,
   "id": "97dc8e32",
   "metadata": {},
   "outputs": [],
   "source": [
    "np.linalg.inv([[2, 1], \n",
    "               [3, 4]])"
   ]
  },
  {
   "cell_type": "markdown",
   "id": "22e5c342",
   "metadata": {
    "slideshow": {
     "slide_type": "fragment"
    }
   },
   "source": [
    "- **Option 3**: `from module import ...`.\n",
    "<br><small>This way, we explicitly state the names we want to import from `module`.<br>To import everything, write `from module import *`.</br>"
   ]
  },
  {
   "cell_type": "code",
   "execution_count": null,
   "id": "eb4324c2",
   "metadata": {},
   "outputs": [],
   "source": [
    "# Importing a particular function from the requests module.\n",
    "from requests import get"
   ]
  },
  {
   "cell_type": "code",
   "execution_count": null,
   "id": "e7bdb747",
   "metadata": {},
   "outputs": [],
   "source": [
    "# This typically fills up the namespace with a lot of unnecessary names, so use sparingly.\n",
    "from math import *"
   ]
  },
  {
   "cell_type": "code",
   "execution_count": null,
   "id": "94d3e69c",
   "metadata": {},
   "outputs": [],
   "source": [
    "sqrt"
   ]
  },
  {
   "cell_type": "markdown",
   "id": "a95180d5",
   "metadata": {
    "slideshow": {
     "slide_type": "slide"
    }
   },
   "source": [
    "### NumPy\n",
    "\n",
    "<center>\n",
    "<img src='imgs/numpy.png' width=300>\n",
    "</center>"
   ]
  },
  {
   "cell_type": "markdown",
   "id": "832fef71",
   "metadata": {
    "slideshow": {
     "slide_type": "fragment"
    }
   },
   "source": [
    "- NumPy (pronounced \"num pie\") is a Python library (module) that provides support for **arrays** and operations on them."
   ]
  },
  {
   "cell_type": "markdown",
   "id": "8d25537e",
   "metadata": {
    "slideshow": {
     "slide_type": "fragment"
    }
   },
   "source": [
    "- The `pandas` library, which we will use for tabular data manipulation, works in conjunction with `numpy`."
   ]
  },
  {
   "cell_type": "markdown",
   "id": "0dfdb6b0",
   "metadata": {
    "slideshow": {
     "slide_type": "fragment"
    }
   },
   "source": [
    "- To use `numpy`, we need to import it. It's usually imported as `np` (but doesn't have to be!)<br><small>We also had to install it on your computer first, but you already did that when you set up your environment.</small>"
   ]
  },
  {
   "cell_type": "code",
   "execution_count": null,
   "id": "a503457b",
   "metadata": {},
   "outputs": [],
   "source": [
    "import numpy as np"
   ]
  },
  {
   "cell_type": "markdown",
   "id": "1c365c92",
   "metadata": {
    "slideshow": {
     "slide_type": "slide"
    }
   },
   "source": [
    "### Arrays"
   ]
  },
  {
   "cell_type": "markdown",
   "id": "987c5db3",
   "metadata": {
    "slideshow": {
     "slide_type": "fragment"
    }
   },
   "source": [
    "- The core data structure in `numpy` is the array. Moving forward, \"array\" will always refer to a `numpy` array."
   ]
  },
  {
   "cell_type": "markdown",
   "id": "00cc5acb",
   "metadata": {
    "slideshow": {
     "slide_type": "fragment"
    }
   },
   "source": [
    "- One way to instantiate an array is to pass a list as an argument to the function `np.array`."
   ]
  },
  {
   "cell_type": "code",
   "execution_count": null,
   "id": "2df67b5e",
   "metadata": {},
   "outputs": [],
   "source": [
    "np.array([4, 9, 1, 2])"
   ]
  },
  {
   "cell_type": "markdown",
   "id": "1902c4d9",
   "metadata": {
    "slideshow": {
     "slide_type": "fragment"
    }
   },
   "source": [
    "- Arrays, unlike lists, must be **homogenous** – all elements must be of the same type."
   ]
  },
  {
   "cell_type": "code",
   "execution_count": null,
   "id": "2c3bfa8a",
   "metadata": {},
   "outputs": [],
   "source": [
    "# All elements are converted to strings!\n",
    "np.array([1961, 'michigan'])"
   ]
  },
  {
   "cell_type": "markdown",
   "id": "1fd0d5be",
   "metadata": {
    "slideshow": {
     "slide_type": "slide"
    }
   },
   "source": [
    "### Array-number arithmetic\n",
    "\n",
    "- Arrays make it easy to perform the same operation to every element **without a `for`-loop**. This behavior is formally known as \"broadcasting\", but we often say these operations are **vectorized**.\n",
    "\n",
    "<center><img src=\"imgs/broadcasting.jpg\" width=80%></center>"
   ]
  },
  {
   "cell_type": "code",
   "execution_count": null,
   "id": "b9193d65",
   "metadata": {},
   "outputs": [],
   "source": [
    "temps"
   ]
  },
  {
   "cell_type": "code",
   "execution_count": null,
   "id": "e32cace9",
   "metadata": {},
   "outputs": [],
   "source": [
    "temp_array = np.array(temps)"
   ]
  },
  {
   "cell_type": "code",
   "execution_count": null,
   "id": "a0eb07d5",
   "metadata": {},
   "outputs": [],
   "source": [
    "# Increase all temperatures by 3 degrees.\n",
    "temp_array + 3"
   ]
  },
  {
   "cell_type": "code",
   "execution_count": null,
   "id": "5177746f",
   "metadata": {},
   "outputs": [],
   "source": [
    "# Halve all temperatures.\n",
    "temp_array / 2"
   ]
  },
  {
   "cell_type": "code",
   "execution_count": null,
   "id": "e120609d",
   "metadata": {},
   "outputs": [],
   "source": [
    "# Convert all temperatures to Celsius.\n",
    "(5 / 9) * (temp_array - 32)"
   ]
  },
  {
   "cell_type": "markdown",
   "id": "bd7ac891",
   "metadata": {
    "slideshow": {
     "slide_type": "fragment"
    }
   },
   "source": [
    "- **Note**: In none of the above cells did we actually modify `temp_array`! Each of those expressions created a new array. To actually change `temp_array`, we need to reassign it to a new array."
   ]
  },
  {
   "cell_type": "code",
   "execution_count": null,
   "id": "a66970ca",
   "metadata": {},
   "outputs": [],
   "source": [
    "temp_array"
   ]
  },
  {
   "cell_type": "code",
   "execution_count": null,
   "id": "63326f05",
   "metadata": {},
   "outputs": [],
   "source": [
    "temp_array = (5 / 9) * (temp_array - 32)"
   ]
  },
  {
   "cell_type": "code",
   "execution_count": null,
   "id": "71dd35ef",
   "metadata": {},
   "outputs": [],
   "source": [
    "# Now in Celsius!\n",
    "temp_array"
   ]
  },
  {
   "cell_type": "markdown",
   "id": "8289053e",
   "metadata": {
    "slideshow": {
     "slide_type": "slide"
    }
   },
   "source": [
    "### ⚠️ The dangers of unnecessary `for`-loops"
   ]
  },
  {
   "cell_type": "markdown",
   "id": "8649fedb",
   "metadata": {
    "slideshow": {
     "slide_type": "fragment"
    }
   },
   "source": [
    "- Under the hood, `numpy` is implemented in C and Fortran, which are compiled languages that are much faster than Python. As a result, these **vectorized** operations are much quicker than if we used a vanilla Python `for`-loop.<br><small>Also, the fact that arrays must be homogenous lend themselves to more efficient representations in memory.</small>"
   ]
  },
  {
   "cell_type": "markdown",
   "id": "6e7e5555",
   "metadata": {
    "slideshow": {
     "slide_type": "fragment"
    }
   },
   "source": [
    "- We can time code in a Jupyter Notebook. Let's try and square a long sequence of integers and see how long it takes with a Python loop:"
   ]
  },
  {
   "cell_type": "code",
   "execution_count": null,
   "id": "2f0c5235",
   "metadata": {},
   "outputs": [],
   "source": [
    "%%timeit\n",
    "squares = []\n",
    "for i in range(1_000_000):\n",
    "    squares.append(i * i)"
   ]
  },
  {
   "cell_type": "markdown",
   "id": "a1461c13",
   "metadata": {
    "slideshow": {
     "slide_type": "fragment"
    }
   },
   "source": [
    "- In vanilla Python, this takes about 0.04 seconds per loop. In `numpy`:"
   ]
  },
  {
   "cell_type": "code",
   "execution_count": null,
   "id": "1dae0772",
   "metadata": {},
   "outputs": [],
   "source": [
    "%%timeit\n",
    "squares = np.arange(1_000_000) ** 2"
   ]
  },
  {
   "cell_type": "markdown",
   "id": "07b6d506",
   "metadata": {
    "slideshow": {
     "slide_type": "fragment"
    }
   },
   "source": [
    "- Only takes about 0.001 seconds per loop, more than 40x faster!"
   ]
  },
  {
   "cell_type": "markdown",
   "id": "e1d6fcf2",
   "metadata": {
    "slideshow": {
     "slide_type": "slide"
    }
   },
   "source": [
    "### Element-wise arithmetic\n",
    "\n",
    "- We can apply arithmetic operations to multiple arrays, provided they have the same length.\n",
    "- The result is computed **element-wise**, which means that the arithmetic operation is applied to one pair of elements from each array at a time.\n",
    "\n",
    "<center><img src=\"imgs/elementwise.jpg\" width=80%></center>"
   ]
  },
  {
   "cell_type": "code",
   "execution_count": null,
   "id": "1e93d565",
   "metadata": {},
   "outputs": [],
   "source": [
    "a = np.array([4, 5, -1])\n",
    "b = np.array([2, 3, 2])"
   ]
  },
  {
   "cell_type": "code",
   "execution_count": null,
   "id": "81d4ad10",
   "metadata": {},
   "outputs": [],
   "source": [
    "a + b"
   ]
  },
  {
   "cell_type": "code",
   "execution_count": null,
   "id": "afc53263",
   "metadata": {},
   "outputs": [],
   "source": [
    "a / b"
   ]
  },
  {
   "cell_type": "code",
   "execution_count": null,
   "id": "7ff3fbe7",
   "metadata": {},
   "outputs": [],
   "source": [
    "a ** 2 + b ** 2"
   ]
  },
  {
   "cell_type": "markdown",
   "id": "5c378a3d",
   "metadata": {
    "slideshow": {
     "slide_type": "slide"
    }
   },
   "source": [
    "### Array methods\n",
    "\n",
    "Arrays come equipped with several handy methods; some examples are below, but you can read about them all [here](https://numpy.org/doc/stable/reference/generated/numpy.ndarray.html)."
   ]
  },
  {
   "cell_type": "code",
   "execution_count": null,
   "id": "38f1ba19",
   "metadata": {},
   "outputs": [],
   "source": [
    "arr = np.array([3, 8, 4, -3.2])"
   ]
  },
  {
   "cell_type": "code",
   "execution_count": null,
   "id": "bd9f7d94",
   "metadata": {},
   "outputs": [],
   "source": [
    "(2 ** arr).sum()"
   ]
  },
  {
   "cell_type": "code",
   "execution_count": null,
   "id": "c63c939e",
   "metadata": {},
   "outputs": [],
   "source": [
    "(2 ** arr).mean()"
   ]
  },
  {
   "cell_type": "code",
   "execution_count": null,
   "id": "8384c026",
   "metadata": {},
   "outputs": [],
   "source": [
    "(2 ** arr).max()"
   ]
  },
  {
   "cell_type": "code",
   "execution_count": null,
   "id": "59687bd1",
   "metadata": {
    "scrolled": true
   },
   "outputs": [],
   "source": [
    "(2 ** arr).argmax()"
   ]
  },
  {
   "cell_type": "code",
   "execution_count": null,
   "id": "3f05f141",
   "metadata": {},
   "outputs": [],
   "source": [
    "# An attribute, not a method.\n",
    "arr.shape"
   ]
  },
  {
   "cell_type": "markdown",
   "id": "5f8fc975",
   "metadata": {
    "slideshow": {
     "slide_type": "slide"
    }
   },
   "source": [
    "### Next time\n",
    "\n",
    "- We'll discuss how to work with 2D `numpy` arrays, and use it as an opportunity to review linear algebra.\n",
    "    - Applications: Image filtering, Google PageRank.\n",
    "- We'll then learn how to work with tabular data in `pandas` DataFrames."
   ]
  }
 ],
 "metadata": {
  "kernelspec": {
   "display_name": "Python 3 (ipykernel)",
   "language": "python",
   "name": "python3"
  },
  "language_info": {
   "codemirror_mode": {
    "name": "ipython",
    "version": 3
   },
   "file_extension": ".py",
   "mimetype": "text/x-python",
   "name": "python",
   "nbconvert_exporter": "python",
   "pygments_lexer": "ipython3",
   "version": "3.10.14"
  },
  "livereveal": {
   "scroll": true
  },
  "rise": {
   "transition": "none"
  }
 },
 "nbformat": 4,
 "nbformat_minor": 5
}
