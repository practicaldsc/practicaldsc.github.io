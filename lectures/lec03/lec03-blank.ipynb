{
 "cells": [
  {
   "cell_type": "code",
   "execution_count": null,
   "id": "8b941fe5",
   "metadata": {
    "deletable": true,
    "editable": true,
    "slideshow": {
     "slide_type": "skip"
    },
    "tags": []
   },
   "outputs": [],
   "source": [
    "from lec_utils import *\n",
    "from lec03_utils import *\n",
    "from PIL import Image"
   ]
  },
  {
   "cell_type": "markdown",
   "id": "7df64753",
   "metadata": {
    "deletable": true,
    "editable": true,
    "slideshow": {
     "slide_type": "slide"
    },
    "tags": []
   },
   "source": [
    "<div class=\"alert alert-info\" markdown=\"1\">\n",
    "\n",
    "#### Lecture 3\n",
    "\n",
    "# NumPy\n",
    "\n",
    "### EECS 398-003: Practical Data Science, Fall 2024\n",
    "\n",
    "<small><a style=\"text-decoration: none\" href=\"https://practicaldsc.org\">practicaldsc.org</a> • <a style=\"text-decoration: none\" href=\"https://github.com/practicaldsc/fa24\">github.com/practicaldsc/fa24</a></small>\n",
    "    \n",
    "</div>"
   ]
  },
  {
   "cell_type": "markdown",
   "id": "cc37bcb7",
   "metadata": {
    "deletable": true,
    "editable": true,
    "slideshow": {
     "slide_type": "slide"
    }
   },
   "source": [
    "### Announcements 📣\n",
    "\n",
    "- Homework 1 is due on **Thursday**.<br>\n",
    "<small>Post on [Ed](https://edstem.org/us/courses/61012/discussion/) or\n",
    "come to [Office Hours](https://practicaldsc.org/calendar) for help!</small>\n",
    "- The [Welcome Survey](https://docs.google.com/forms/d/e/1FAIpQLSemfn-uzlSZUeY6rsonpboIv_6ANg9mGxWZ8tETDk4N4g4q_A/viewform) was due yesterday; **please fill it out if you haven't already**!<br><small>EECS 370 has the same midterm time as us. If you're in 370, sign up to take their alternate midterm exam the following day.</small>\n",
    "- We released a [🎥 walkthrough video](https://youtu.be/IaEuWJCcwjk?si=l7Z2WFccA0_Rog0G) of the \"area codes\" dictionary example from Lecture 2.\n",
    "- We also posted the solutions to the exercises from Lecture 2 and Discussion 1 in our [public GitHub repository](https://github.com/practicaldsc/fa24). **Starting today, I'll post \"blank\" versions of lecture notebooks before class, and \"filled\" versions of notebooks with the code that I write _after_ class, so that you can code along with me.**\n",
    "- Check out the new [Resources](https://practicaldsc.org/resources) tab on the course website, with links to lots of supplementary resources and past exams from similar classes!"
   ]
  },
  {
   "cell_type": "markdown",
   "id": "2cfe56dc",
   "metadata": {
    "deletable": true,
    "editable": true,
    "slideshow": {
     "slide_type": "slide"
    }
   },
   "source": [
    "### Agenda\n",
    "\n",
    "- Recap: `for`-loops and dictionaries.\n",
    "- `numpy` arrays.\n",
    "- Multidimensional arrays and linear algebra.\n",
    "- Randomness and simulation."
   ]
  },
  {
   "cell_type": "markdown",
   "id": "8431c7b8",
   "metadata": {
    "deletable": true,
    "editable": true,
    "slideshow": {
     "slide_type": "slide"
    }
   },
   "source": [
    "### Aside: Python Tutor\n",
    "\n",
    "[Python Tutor](https://pythontutor.com), linked on the [Resources](https://practicaldsc.org/resources) tab of the course website, visualizes the execution of Python code."
   ]
  },
  {
   "cell_type": "code",
   "execution_count": null,
   "id": "b3064506",
   "metadata": {
    "deletable": true,
    "editable": true
   },
   "outputs": [],
   "source": [
    "# The mystery example from Lecture 2.\n",
    "from IPython.display import IFrame\n",
    "IFrame(width=\"800\", \n",
    "       height=\"500\", \n",
    "       frameborder=\"0\", \n",
    "       src=\"https://pythontutor.com/iframe-embed.html#code=def%20mystery%28vals%29%3A%0A%20%20%20%20vals%5B-1%5D%20%3D%2015%0A%20%20%20%20return%20vals.append%28'BBB'%29%0A%20%20%20%20%0Acreature%20%3D%20%5B1,%202,%203%5D%0A%0Amystery%28creature%29%0Amystery%28creature%29%0Amystery%28creature%29&codeDivHeight=400&codeDivWidth=350&cumulative=false&curInstr=14&heapPrimitives=nevernest&origin=opt-frontend.js&py=311&rawInputLstJSON=%5B%5D&textReferences=false\")"
   ]
  },
  {
   "cell_type": "markdown",
   "id": "5f43d5d0",
   "metadata": {
    "deletable": true,
    "editable": true,
    "slideshow": {
     "slide_type": "slide"
    }
   },
   "source": [
    "<div class=\"alert alert-warning\">\n",
    "    <h3>Question 🤔 (Answer at <a style=\"text-decoration: none; color: #0066cc\" href=\"https://docs.google.com/forms/d/e/1FAIpQLSd4oliiZYeNh76jWy-arfEtoAkCrVSsobZxPwxifWggo3EO0Q/viewform\">practicaldsc.org/q</a>)</h3>\n",
    "    \n",
    "How much progress have you made on Homework 1?<br><small>No judgement!</small>\n",
    "\n",
    "- A. I've submitted it!\n",
    "- B. I've finished more than half of it.\n",
    "- C. I've finished a few questions.\n",
    "- D. I've looked at it, but haven't written any code yet.\n",
    "- E. Haven't started at all."
   ]
  },
  {
   "cell_type": "markdown",
   "id": "0545831f",
   "metadata": {
    "deletable": true,
    "editable": true,
    "slideshow": {
     "slide_type": "slide"
    }
   },
   "source": [
    "## Recap: `for`-loops and dictionaries"
   ]
  },
  {
   "cell_type": "markdown",
   "id": "9614437a",
   "metadata": {
    "deletable": true,
    "editable": true,
    "slideshow": {
     "slide_type": "slide"
    }
   },
   "source": [
    "<center>\n",
    "\n",
    "<img src=\"imgs/c++.jpeg\" width=500>\n",
    "\n",
    "(<a href=\"https://x.com/TradfiSchizo/status/1828881639436357890\">source</a>)\n",
    "\n",
    "</center>"
   ]
  },
  {
   "cell_type": "markdown",
   "id": "2dfa4774",
   "metadata": {
    "deletable": true,
    "editable": true,
    "slideshow": {
     "slide_type": "slide"
    }
   },
   "source": [
    "### `for`-loops in Python"
   ]
  },
  {
   "cell_type": "markdown",
   "id": "5b88474c",
   "metadata": {
    "deletable": true,
    "editable": true,
    "slideshow": {
     "slide_type": "fragment"
    }
   },
   "source": [
    "- In Python, you can loop over any **iterable**. Strings, lists, and dictionaries are all examples of iterables."
   ]
  },
  {
   "cell_type": "markdown",
   "id": "80e31c32",
   "metadata": {
    "deletable": true,
    "editable": true,
    "slideshow": {
     "slide_type": "fragment"
    }
   },
   "source": [
    "- All of the following are valid ways to write a `for`-loop.<br>\n",
    "    \n",
    "```py\n",
    "            for value in \"this is a string\":\n",
    "\n",
    "            for element in lst:                  # Assume lst is a list.\n",
    "\n",
    "            for i in range(len(lst)):\n",
    "    \n",
    "```"
   ]
  },
  {
   "cell_type": "markdown",
   "id": "3c7821ca",
   "metadata": {
    "deletable": true,
    "editable": true,
    "slideshow": {
     "slide_type": "fragment"
    }
   },
   "source": [
    "- One of the more common `for`-loop examples you may have seen in earlier classes involved performing some operation to every element of a sequence, e.g. doubling the numbers in a list.\n",
    "\n",
    "```py\n",
    "            def double(vals):\n",
    "                new_vals = []\n",
    "                for val in vals:\n",
    "                    new_vals.append(vals * 2)\n",
    "                return new_vals\n",
    "```"
   ]
  },
  {
   "cell_type": "markdown",
   "id": "641abf10",
   "metadata": {
    "deletable": true,
    "editable": true,
    "slideshow": {
     "slide_type": "fragment"
    }
   },
   "source": [
    "- We are going to **avoid ❌** these kinds of `for`-loops in this class, because there are **much faster** ways of achieving the same goal in `numpy` and `pandas`. We'll see these soon."
   ]
  },
  {
   "cell_type": "markdown",
   "id": "98c6b647",
   "metadata": {
    "deletable": true,
    "editable": true,
    "slideshow": {
     "slide_type": "fragment"
    }
   },
   "source": [
    "- `while`-loops will come up sparingly.<br><small>But conceptually, you should know how they work!</small>"
   ]
  },
  {
   "cell_type": "markdown",
   "id": "cef61190",
   "metadata": {
    "deletable": true,
    "editable": true,
    "slideshow": {
     "slide_type": "slide"
    }
   },
   "source": [
    "### List comprehension\n",
    "\n",
    "In the situations when we do want to perform some operation to every element in a list, a common pattern is the **list comprehension**."
   ]
  },
  {
   "cell_type": "code",
   "execution_count": null,
   "id": "d748b163",
   "metadata": {
    "deletable": true,
    "editable": true
   },
   "outputs": [],
   "source": [
    "vals = [2, -1, 9, 4, 3, 8]"
   ]
  },
  {
   "cell_type": "code",
   "execution_count": null,
   "id": "c622252a",
   "metadata": {
    "deletable": true,
    "editable": true
   },
   "outputs": [],
   "source": [
    "..."
   ]
  },
  {
   "cell_type": "code",
   "execution_count": null,
   "id": "398620fa",
   "metadata": {
    "deletable": true,
    "editable": true
   },
   "outputs": [],
   "source": [
    "..."
   ]
  },
  {
   "cell_type": "code",
   "execution_count": null,
   "id": "70cf9870",
   "metadata": {
    "deletable": true,
    "editable": true
   },
   "outputs": [],
   "source": [
    "..."
   ]
  },
  {
   "cell_type": "markdown",
   "id": "195e0ad8",
   "metadata": {
    "deletable": true,
    "editable": true,
    "slideshow": {
     "slide_type": "slide"
    }
   },
   "source": [
    "### Dictionaries"
   ]
  },
  {
   "cell_type": "markdown",
   "id": "2cf1fbaa",
   "metadata": {
    "deletable": true,
    "editable": true,
    "slideshow": {
     "slide_type": "fragment"
    }
   },
   "source": [
    "- A dictionary stores a collection of key-value pairs.\n",
    "<br><small>They are the equivalent of a map in C++.</small>"
   ]
  },
  {
   "cell_type": "markdown",
   "id": "4c409ab7",
   "metadata": {
    "deletable": true,
    "editable": true,
    "slideshow": {
     "slide_type": "fragment"
    }
   },
   "source": [
    "-  `{`curly brackets`}` denote the start and end of a dictionary, a colon`:` is used to denote a single key value pair, and a comma`,` is used to separate key-value pairs."
   ]
  },
  {
   "cell_type": "code",
   "execution_count": null,
   "id": "8f525f1e",
   "metadata": {
    "deletable": true,
    "editable": true
   },
   "outputs": [],
   "source": [
    "dog = ...\n",
    "dog"
   ]
  },
  {
   "cell_type": "markdown",
   "id": "8874840a",
   "metadata": {
    "deletable": true,
    "editable": true,
    "slideshow": {
     "slide_type": "fragment"
    }
   },
   "source": [
    "- We retrieve a value in a dictionary using its key."
   ]
  },
  {
   "cell_type": "code",
   "execution_count": null,
   "id": "480a3d8a",
   "metadata": {
    "deletable": true,
    "editable": true
   },
   "outputs": [],
   "source": [
    "..."
   ]
  },
  {
   "cell_type": "code",
   "execution_count": null,
   "id": "a80ca911",
   "metadata": {
    "deletable": true,
    "editable": true
   },
   "outputs": [],
   "source": [
    "..."
   ]
  },
  {
   "cell_type": "markdown",
   "id": "e8d1940c",
   "metadata": {
    "deletable": true,
    "editable": true,
    "slideshow": {
     "slide_type": "fragment"
    }
   },
   "source": [
    "- After creation, we can add or change key-value pairs."
   ]
  },
  {
   "cell_type": "code",
   "execution_count": null,
   "id": "1e876adc",
   "metadata": {
    "deletable": true,
    "editable": true
   },
   "outputs": [],
   "source": [
    "..."
   ]
  },
  {
   "cell_type": "code",
   "execution_count": null,
   "id": "3c846632",
   "metadata": {
    "deletable": true,
    "editable": true
   },
   "outputs": [],
   "source": [
    "dog"
   ]
  },
  {
   "cell_type": "markdown",
   "id": "b61f9e9d",
   "metadata": {
    "deletable": true,
    "editable": true
   },
   "source": [
    "- A dictionary's keys must be immutable (numbers, strings, Booleans), while its values can be anything."
   ]
  },
  {
   "cell_type": "code",
   "execution_count": null,
   "id": "ccb4f9d2",
   "metadata": {
    "deletable": true,
    "editable": true
   },
   "outputs": [],
   "source": [
    "# Here, we're trying to add a value with a key of [1, 2].\n",
    "# Since [1, 2] is mutable, it can't be used as a key.\n",
    "..."
   ]
  },
  {
   "cell_type": "markdown",
   "id": "e3608a10",
   "metadata": {
    "deletable": true,
    "editable": true,
    "slideshow": {
     "slide_type": "slide"
    }
   },
   "source": [
    "<div class=\"alert alert-success\">\n",
    "<h3>Activity</h3>\n",
    "    \n",
    "Complete the implementation of the function `find_anagrams`, which takes in `words`, a list of strings, and returns a dictionary describing the anagrams present in `words`. Example behavior is given below.\n",
    "    \n",
    "```python\n",
    ">>> find_anagrams(['dog', 'hello', 'enlist', 'silent', 'a gentleman', 'god', 'elegant man', 'listen'])\n",
    "\n",
    "{'dgo': ['dog', 'god'],\n",
    " 'ehllo': ['hello'],\n",
    " 'eilnst': ['enlist', 'silent', 'listen'],\n",
    " ' aaeeglmnnt': ['a gentleman', 'elegant man']}\n",
    "```"
   ]
  },
  {
   "cell_type": "code",
   "execution_count": null,
   "id": "1cac618d",
   "metadata": {
    "deletable": true,
    "editable": true
   },
   "outputs": [],
   "source": [
    "example_words = ['dog', 'hello', 'enlist', 'silent', 'a gentleman', 'god', 'elegant man', 'listen']\n",
    "def find_anagrams(words):\n",
    "    ..."
   ]
  },
  {
   "cell_type": "code",
   "execution_count": null,
   "id": "8c88487b",
   "metadata": {
    "deletable": true,
    "editable": true
   },
   "outputs": [],
   "source": []
  },
  {
   "cell_type": "code",
   "execution_count": null,
   "id": "fe932272",
   "metadata": {
    "deletable": true,
    "editable": true
   },
   "outputs": [],
   "source": []
  },
  {
   "cell_type": "markdown",
   "id": "36a20435",
   "metadata": {
    "deletable": true,
    "editable": true,
    "slideshow": {
     "slide_type": "slide"
    }
   },
   "source": [
    "## `numpy` arrays"
   ]
  },
  {
   "cell_type": "markdown",
   "id": "b11257e7",
   "metadata": {
    "deletable": true,
    "editable": true,
    "slideshow": {
     "slide_type": "slide"
    }
   },
   "source": [
    "### Import statements"
   ]
  },
  {
   "cell_type": "markdown",
   "id": "aaef5675",
   "metadata": {
    "deletable": true,
    "editable": true,
    "slideshow": {
     "slide_type": "fragment"
    }
   },
   "source": [
    "- We use `import` statements to add the objects (values, functions, classes) defined in other modules to our programs. There are a few different ways to `import`.\n",
    "<br><small>Other terms I'll use for \"module\" are \"library\" and \"package\".</small>"
   ]
  },
  {
   "cell_type": "markdown",
   "id": "12fa19cf",
   "metadata": {
    "deletable": true,
    "editable": true,
    "slideshow": {
     "slide_type": "fragment"
    }
   },
   "source": [
    "- **Option 1**: `import module`.\n",
    "<br><small>Now, everytime we want to use a name in `module`, we must write `module.<name>`.</small>"
   ]
  },
  {
   "cell_type": "code",
   "execution_count": null,
   "id": "26c28715",
   "metadata": {
    "deletable": true,
    "editable": true
   },
   "outputs": [],
   "source": [
    "import math"
   ]
  },
  {
   "cell_type": "code",
   "execution_count": null,
   "id": "c15687fa",
   "metadata": {
    "deletable": true,
    "editable": true
   },
   "outputs": [],
   "source": [
    "..."
   ]
  },
  {
   "cell_type": "code",
   "execution_count": null,
   "id": "193d84c9",
   "metadata": {
    "deletable": true,
    "editable": true
   },
   "outputs": [],
   "source": [
    "..."
   ]
  },
  {
   "cell_type": "markdown",
   "id": "c4f3fc21",
   "metadata": {
    "deletable": true,
    "editable": true,
    "slideshow": {
     "slide_type": "fragment"
    }
   },
   "source": [
    "- **Option 2**: `import module as m`.\n",
    "<br>Now, everytime we want to use a name in `module`, we can write `m.<name>` instead of `module.<name>`."
   ]
  },
  {
   "cell_type": "code",
   "execution_count": null,
   "id": "06902750",
   "metadata": {
    "deletable": true,
    "editable": true
   },
   "outputs": [],
   "source": [
    "# This is the standard way that we will import numpy.\n",
    "import numpy as np"
   ]
  },
  {
   "cell_type": "code",
   "execution_count": null,
   "id": "dd5f7cb9",
   "metadata": {
    "deletable": true,
    "editable": true
   },
   "outputs": [],
   "source": [
    "..."
   ]
  },
  {
   "cell_type": "code",
   "execution_count": null,
   "id": "1c05d83b",
   "metadata": {
    "deletable": true,
    "editable": true
   },
   "outputs": [],
   "source": [
    "..."
   ]
  },
  {
   "cell_type": "markdown",
   "id": "f75a20c1",
   "metadata": {
    "deletable": true,
    "editable": true,
    "slideshow": {
     "slide_type": "fragment"
    }
   },
   "source": [
    "- **Option 3**: `from module import ...`.\n",
    "<br><small>This way, we explicitly state the names we want to import from `module`.<br>To import everything, write `from module import *`.</br>"
   ]
  },
  {
   "cell_type": "code",
   "execution_count": null,
   "id": "7ca915a2",
   "metadata": {
    "deletable": true,
    "editable": true
   },
   "outputs": [],
   "source": [
    "# Importing a particular function from the requests module.\n",
    "from requests import get"
   ]
  },
  {
   "cell_type": "code",
   "execution_count": null,
   "id": "027f63a0",
   "metadata": {
    "deletable": true,
    "editable": true
   },
   "outputs": [],
   "source": [
    "# This typically fills up the namespace with a lot of unnecessary names, so use sparingly.\n",
    "from math import *"
   ]
  },
  {
   "cell_type": "code",
   "execution_count": null,
   "id": "1013ad98",
   "metadata": {
    "deletable": true,
    "editable": true
   },
   "outputs": [],
   "source": [
    "sqrt"
   ]
  },
  {
   "cell_type": "markdown",
   "id": "08e1a024",
   "metadata": {
    "deletable": true,
    "editable": true,
    "slideshow": {
     "slide_type": "slide"
    }
   },
   "source": [
    "### NumPy\n",
    "\n",
    "<center>\n",
    "<img src='imgs/numpy.png' width=300>\n",
    "</center>"
   ]
  },
  {
   "cell_type": "markdown",
   "id": "91e22f27",
   "metadata": {
    "deletable": true,
    "editable": true,
    "slideshow": {
     "slide_type": "fragment"
    }
   },
   "source": [
    "- NumPy (pronounced \"num pie\") is a Python library (module) that provides support for **arrays** and operations on them."
   ]
  },
  {
   "cell_type": "markdown",
   "id": "d2280945",
   "metadata": {
    "deletable": true,
    "editable": true,
    "slideshow": {
     "slide_type": "fragment"
    }
   },
   "source": [
    "- The `pandas` library, which we will use for tabular data manipulation, works in conjunction with `numpy`."
   ]
  },
  {
   "cell_type": "markdown",
   "id": "c19ecc64",
   "metadata": {
    "deletable": true,
    "editable": true,
    "slideshow": {
     "slide_type": "fragment"
    }
   },
   "source": [
    "- To use `numpy`, we need to import it. It's usually imported as `np` (but doesn't have to be!)<br><small>We also had to install it on your computer first, but you already did that when you set up your environment.</small>"
   ]
  },
  {
   "cell_type": "code",
   "execution_count": null,
   "id": "5cf0b826",
   "metadata": {
    "deletable": true,
    "editable": true
   },
   "outputs": [],
   "source": [
    "import numpy as np"
   ]
  },
  {
   "cell_type": "markdown",
   "id": "303bdd05",
   "metadata": {
    "deletable": true,
    "editable": true,
    "slideshow": {
     "slide_type": "slide"
    }
   },
   "source": [
    "### Arrays"
   ]
  },
  {
   "cell_type": "markdown",
   "id": "bc38098e",
   "metadata": {
    "deletable": true,
    "editable": true,
    "slideshow": {
     "slide_type": "fragment"
    }
   },
   "source": [
    "- The core data structure in `numpy` is the array. Moving forward, \"array\" will always refer to a `numpy` array."
   ]
  },
  {
   "cell_type": "markdown",
   "id": "f0f2f247",
   "metadata": {
    "deletable": true,
    "editable": true,
    "slideshow": {
     "slide_type": "fragment"
    }
   },
   "source": [
    "- One way to instantiate an array is to pass a list as an argument to the function `np.array`."
   ]
  },
  {
   "cell_type": "code",
   "execution_count": null,
   "id": "4ea3bc3f",
   "metadata": {
    "deletable": true,
    "editable": true
   },
   "outputs": [],
   "source": [
    "..."
   ]
  },
  {
   "cell_type": "markdown",
   "id": "0b786365",
   "metadata": {
    "deletable": true,
    "editable": true,
    "slideshow": {
     "slide_type": "fragment"
    }
   },
   "source": [
    "- Arrays, unlike lists, must be **homogenous** – all elements must be of the same type."
   ]
  },
  {
   "cell_type": "code",
   "execution_count": null,
   "id": "55268c25",
   "metadata": {
    "deletable": true,
    "editable": true
   },
   "outputs": [],
   "source": [
    "# All elements are converted to strings!\n",
    "..."
   ]
  },
  {
   "cell_type": "markdown",
   "id": "f42a3336",
   "metadata": {
    "deletable": true,
    "editable": true,
    "slideshow": {
     "slide_type": "slide"
    }
   },
   "source": [
    "### Array-number arithmetic\n",
    "\n",
    "- Arrays make it easy to perform the same operation to every element **without a `for`-loop**. This behavior is formally known as \"broadcasting\", but we often say these operations are **vectorized**.\n",
    "\n",
    "<center><img src=\"imgs/broadcasting.jpg\" width=80%></center>"
   ]
  },
  {
   "cell_type": "code",
   "execution_count": null,
   "id": "eb1759fc",
   "metadata": {
    "deletable": true,
    "editable": true
   },
   "outputs": [],
   "source": [
    "temps = [68, 72, 65, 64, 62, 61, 59, 64, 64, 63, 65, 62]\n",
    "temps"
   ]
  },
  {
   "cell_type": "code",
   "execution_count": null,
   "id": "fecf6715",
   "metadata": {
    "deletable": true,
    "editable": true
   },
   "outputs": [],
   "source": [
    "temp_array = np.array(temps)"
   ]
  },
  {
   "cell_type": "code",
   "execution_count": null,
   "id": "a476b58f",
   "metadata": {
    "deletable": true,
    "editable": true
   },
   "outputs": [],
   "source": [
    "# Increase all temperatures by 3 degrees.\n",
    "..."
   ]
  },
  {
   "cell_type": "code",
   "execution_count": null,
   "id": "e2564456",
   "metadata": {
    "deletable": true,
    "editable": true
   },
   "outputs": [],
   "source": [
    "# Halve all temperatures.\n",
    "..."
   ]
  },
  {
   "cell_type": "code",
   "execution_count": null,
   "id": "4d310268",
   "metadata": {
    "deletable": true,
    "editable": true
   },
   "outputs": [],
   "source": [
    "# Convert all temperatures to Celsius.\n",
    "..."
   ]
  },
  {
   "cell_type": "markdown",
   "id": "b9e2b9eb",
   "metadata": {
    "deletable": true,
    "editable": true,
    "slideshow": {
     "slide_type": "fragment"
    }
   },
   "source": [
    "- **Note**: In none of the above cells did we actually modify `temp_array`! Each of those expressions created a new array. To actually change `temp_array`, we need to reassign it to a new array."
   ]
  },
  {
   "cell_type": "code",
   "execution_count": null,
   "id": "6f54d98b",
   "metadata": {
    "deletable": true,
    "editable": true
   },
   "outputs": [],
   "source": [
    "temp_array"
   ]
  },
  {
   "cell_type": "code",
   "execution_count": null,
   "id": "4459c0d5",
   "metadata": {
    "deletable": true,
    "editable": true
   },
   "outputs": [],
   "source": [
    "temp_array = ..."
   ]
  },
  {
   "cell_type": "code",
   "execution_count": null,
   "id": "c99c8b20",
   "metadata": {
    "deletable": true,
    "editable": true
   },
   "outputs": [],
   "source": [
    "# Now in Celsius!\n",
    "temp_array"
   ]
  },
  {
   "cell_type": "markdown",
   "id": "031d3ff1",
   "metadata": {
    "deletable": true,
    "editable": true,
    "slideshow": {
     "slide_type": "slide"
    }
   },
   "source": [
    "### ⚠️ The dangers of unnecessary `for`-loops"
   ]
  },
  {
   "cell_type": "markdown",
   "id": "e19ddb6a",
   "metadata": {
    "deletable": true,
    "editable": true,
    "slideshow": {
     "slide_type": "fragment"
    }
   },
   "source": [
    "- Under the hood, `numpy` is implemented in C and Fortran, which are compiled languages that are much faster than Python. As a result, these **vectorized** operations are much quicker than if we used a vanilla Python `for`-loop.<br><small>Also, the fact that arrays must be homogenous lend themselves to more efficient representations in memory.</small>"
   ]
  },
  {
   "cell_type": "markdown",
   "id": "9a06fa59",
   "metadata": {
    "deletable": true,
    "editable": true,
    "slideshow": {
     "slide_type": "fragment"
    }
   },
   "source": [
    "- We can time code in a Jupyter Notebook. Let's try and square a long sequence of integers and see how long it takes with a Python loop:"
   ]
  },
  {
   "cell_type": "code",
   "execution_count": null,
   "id": "41adde48",
   "metadata": {
    "deletable": true,
    "editable": true
   },
   "outputs": [],
   "source": [
    "%%timeit\n",
    "squares = []\n",
    "for i in range(1_000_000):\n",
    "    squares.append(i * i)"
   ]
  },
  {
   "cell_type": "markdown",
   "id": "1d0b06b2",
   "metadata": {
    "deletable": true,
    "editable": true,
    "slideshow": {
     "slide_type": "fragment"
    }
   },
   "source": [
    "- In vanilla Python, this takes about 0.04 seconds per loop. In `numpy`:"
   ]
  },
  {
   "cell_type": "code",
   "execution_count": null,
   "id": "6228b7cd",
   "metadata": {
    "deletable": true,
    "editable": true
   },
   "outputs": [],
   "source": [
    "%%timeit\n",
    "squares = np.arange(1_000_000) ** 2"
   ]
  },
  {
   "cell_type": "markdown",
   "id": "01dce3bf",
   "metadata": {
    "deletable": true,
    "editable": true,
    "slideshow": {
     "slide_type": "fragment"
    }
   },
   "source": [
    "- Only takes about 0.001 seconds per loop, more than 40x faster!"
   ]
  },
  {
   "cell_type": "markdown",
   "id": "02e8d19c",
   "metadata": {
    "deletable": true,
    "editable": true,
    "slideshow": {
     "slide_type": "slide"
    }
   },
   "source": [
    "### Element-wise arithmetic\n",
    "\n",
    "- We can apply arithmetic operations to multiple arrays, provided they have the same length.\n",
    "- The result is computed **element-wise**, which means that the arithmetic operation is applied to one pair of elements from each array at a time.\n",
    "\n",
    "<center><img src=\"imgs/elementwise.jpg\" width=80%></center>"
   ]
  },
  {
   "cell_type": "code",
   "execution_count": null,
   "id": "6d8d9a51",
   "metadata": {
    "deletable": true,
    "editable": true
   },
   "outputs": [],
   "source": [
    "a = np.array([4, 5, -1])\n",
    "b = np.array([2, 3, 2])"
   ]
  },
  {
   "cell_type": "code",
   "execution_count": null,
   "id": "c1e906ee",
   "metadata": {
    "deletable": true,
    "editable": true
   },
   "outputs": [],
   "source": [
    "..."
   ]
  },
  {
   "cell_type": "code",
   "execution_count": null,
   "id": "f21f662c",
   "metadata": {
    "deletable": true,
    "editable": true
   },
   "outputs": [],
   "source": [
    "..."
   ]
  },
  {
   "cell_type": "code",
   "execution_count": null,
   "id": "c334c382",
   "metadata": {
    "deletable": true,
    "editable": true
   },
   "outputs": [],
   "source": [
    "..."
   ]
  },
  {
   "cell_type": "markdown",
   "id": "29289bab",
   "metadata": {
    "deletable": true,
    "editable": true,
    "slideshow": {
     "slide_type": "slide"
    }
   },
   "source": [
    "### Array methods\n",
    "\n",
    "Arrays come equipped with several handy methods; some examples are below, but you can read about them all [here](https://numpy.org/doc/stable/reference/generated/numpy.ndarray.html)."
   ]
  },
  {
   "cell_type": "code",
   "execution_count": null,
   "id": "e9b2ee15",
   "metadata": {
    "deletable": true,
    "editable": true
   },
   "outputs": [],
   "source": [
    "arr = np.array([3, 8, 4, -3.2])"
   ]
  },
  {
   "cell_type": "code",
   "execution_count": null,
   "id": "fb1b9897",
   "metadata": {
    "deletable": true,
    "editable": true
   },
   "outputs": [],
   "source": [
    "..."
   ]
  },
  {
   "cell_type": "code",
   "execution_count": null,
   "id": "72acb204",
   "metadata": {
    "deletable": true,
    "editable": true
   },
   "outputs": [],
   "source": [
    "..."
   ]
  },
  {
   "cell_type": "code",
   "execution_count": null,
   "id": "6cbea119",
   "metadata": {
    "deletable": true,
    "editable": true
   },
   "outputs": [],
   "source": [
    "..."
   ]
  },
  {
   "cell_type": "code",
   "execution_count": null,
   "id": "32f016f1",
   "metadata": {
    "deletable": true,
    "editable": true,
    "scrolled": true
   },
   "outputs": [],
   "source": [
    "..."
   ]
  },
  {
   "cell_type": "code",
   "execution_count": null,
   "id": "d9e70748",
   "metadata": {
    "deletable": true,
    "editable": true
   },
   "outputs": [],
   "source": [
    "# An attribute, not a method.\n",
    "..."
   ]
  },
  {
   "cell_type": "markdown",
   "id": "e42fff49",
   "metadata": {
    "deletable": true,
    "editable": true,
    "slideshow": {
     "slide_type": "slide"
    }
   },
   "source": [
    "<div class=\"alert alert-warning\">\n",
    "    <h3>Question 🤔 (Answer at <a style=\"text-decoration: none; color: #0066cc\" href=\"https://docs.google.com/forms/d/e/1FAIpQLSd4oliiZYeNh76jWy-arfEtoAkCrVSsobZxPwxifWggo3EO0Q/viewform\">practicaldsc.org/q</a>)</h3>\n",
    "    \n",
    "What questions do we have about arrays so far?"
   ]
  },
  {
   "cell_type": "markdown",
   "id": "9f1a58e0",
   "metadata": {
    "deletable": true,
    "editable": true,
    "slideshow": {
     "slide_type": "slide"
    }
   },
   "source": [
    "<div class=\"alert alert-success\">\n",
    "<h3>Activity</h3>\n",
    "\n",
    "🎉 Congrats! 🎉 You won the lottery 💰. Here's how your payout works: on the first day of September, you are paid \\\\$0.01. Every day thereafter, your pay doubles, so on the second day you're paid \\\\$0.02, on the third day you're paid \\\\$0.04, on the fourth day you're paid \\\\$0.08, and so on.\n",
    "\n",
    "September has 30 days.\n",
    "\n",
    "Write a **one-line expression** that uses the numbers `2` and `30`, along with the function `np.arange` and at least one array method, that computes the total amount **in dollars** you will be paid in September. No `for`-loops or list comprehensions allowed!\n",
    "    \n",
    "<br>\n",
    "    \n",
    "***Note***: We have a [🎥 walkthrough video](https://youtu.be/w_witptT6Ts?si=1g42U-wIITfuax_a) of this problem, but don't watch it until you've tried it yourself!"
   ]
  },
  {
   "cell_type": "code",
   "execution_count": null,
   "id": "7697d903",
   "metadata": {
    "deletable": true,
    "editable": true
   },
   "outputs": [],
   "source": [
    "..."
   ]
  },
  {
   "cell_type": "markdown",
   "id": "75b7c830",
   "metadata": {
    "deletable": true,
    "editable": true,
    "slideshow": {
     "slide_type": "slide"
    }
   },
   "source": [
    "### Boolean filtering"
   ]
  },
  {
   "cell_type": "markdown",
   "id": "73de834d",
   "metadata": {
    "deletable": true,
    "editable": true,
    "slideshow": {
     "slide_type": "fragment"
    }
   },
   "source": [
    "- Comparisons with arrays yield **Boolean** arrays! These can be used to answer questions about the values in an array."
   ]
  },
  {
   "cell_type": "code",
   "execution_count": null,
   "id": "c7af4e2f",
   "metadata": {
    "deletable": true,
    "editable": true
   },
   "outputs": [],
   "source": [
    "temp_array"
   ]
  },
  {
   "cell_type": "code",
   "execution_count": null,
   "id": "c19980e6",
   "metadata": {
    "deletable": true,
    "editable": true
   },
   "outputs": [],
   "source": [
    "..."
   ]
  },
  {
   "cell_type": "markdown",
   "id": "73160ae3",
   "metadata": {
    "deletable": true,
    "editable": true,
    "slideshow": {
     "slide_type": "fragment"
    }
   },
   "source": [
    "- How many values are greater than or equal to 65?"
   ]
  },
  {
   "cell_type": "code",
   "execution_count": null,
   "id": "e2408241",
   "metadata": {
    "deletable": true,
    "editable": true
   },
   "outputs": [],
   "source": [
    "..."
   ]
  },
  {
   "cell_type": "markdown",
   "id": "021bc543",
   "metadata": {
    "deletable": true,
    "editable": true,
    "slideshow": {
     "slide_type": "fragment"
    }
   },
   "source": [
    "- What fraction of values are greater than or equal to 65?"
   ]
  },
  {
   "cell_type": "code",
   "execution_count": null,
   "id": "100a2f8b",
   "metadata": {
    "deletable": true,
    "editable": true
   },
   "outputs": [],
   "source": [
    "..."
   ]
  },
  {
   "cell_type": "markdown",
   "id": "0c4a0b0e",
   "metadata": {
    "deletable": true,
    "editable": true,
    "slideshow": {
     "slide_type": "fragment"
    }
   },
   "source": [
    "- Which values are greater than or equal to 65?"
   ]
  },
  {
   "cell_type": "code",
   "execution_count": null,
   "id": "de38511f",
   "metadata": {
    "deletable": true,
    "editable": true
   },
   "outputs": [],
   "source": [
    "..."
   ]
  },
  {
   "cell_type": "markdown",
   "id": "10f4fe28",
   "metadata": {
    "deletable": true,
    "editable": true,
    "slideshow": {
     "slide_type": "fragment"
    }
   },
   "source": [
    "- Which values are between 65 and 70?"
   ]
  },
  {
   "cell_type": "code",
   "execution_count": null,
   "id": "9afc3626",
   "metadata": {
    "deletable": true,
    "editable": true
   },
   "outputs": [],
   "source": [
    "# Note the parentheses!\n",
    "..."
   ]
  },
  {
   "cell_type": "code",
   "execution_count": null,
   "id": "6cf8806c",
   "metadata": {
    "deletable": true,
    "editable": true
   },
   "outputs": [],
   "source": [
    "# WRONG!\n",
    "..."
   ]
  },
  {
   "cell_type": "markdown",
   "id": "eb3c15d8",
   "metadata": {
    "deletable": true,
    "editable": true,
    "slideshow": {
     "slide_type": "slide"
    }
   },
   "source": [
    "### Note: & and | vs. and and or"
   ]
  },
  {
   "cell_type": "markdown",
   "id": "6f965e2f",
   "metadata": {
    "deletable": true,
    "editable": true,
    "slideshow": {
     "slide_type": "fragment"
    }
   },
   "source": [
    "- In Python, the standard symbols for \"and\" and \"or\" are, literally, `and` and `or`."
   ]
  },
  {
   "cell_type": "code",
   "execution_count": null,
   "id": "00e179c7",
   "metadata": {
    "deletable": true,
    "editable": true
   },
   "outputs": [],
   "source": [
    "if (5 > 3 and 'h' + 'i' == 'hi') or (-2 > 0):\n",
    "    print('success')"
   ]
  },
  {
   "cell_type": "markdown",
   "id": "7094806a",
   "metadata": {
    "deletable": true,
    "editable": true,
    "slideshow": {
     "slide_type": "fragment"
    }
   },
   "source": [
    "- But, when taking the **element-wise** and/or of two arrays, the standard operators don't work. Instead, use the **bitwise** operators: `&` for \"and\", `|` for \"or\"."
   ]
  },
  {
   "cell_type": "code",
   "execution_count": null,
   "id": "d393bc1c",
   "metadata": {
    "deletable": true,
    "editable": true
   },
   "outputs": [],
   "source": [
    "temp_array"
   ]
  },
  {
   "cell_type": "code",
   "execution_count": null,
   "id": "1384c238",
   "metadata": {
    "deletable": true,
    "editable": true
   },
   "outputs": [],
   "source": [
    "# Don't forget parentheses when using multiple conditions!\n",
    "temp_array[(temp_array % 2 == 0) | (temp_array == temp_array.min())]"
   ]
  },
  {
   "cell_type": "markdown",
   "id": "64eaf980",
   "metadata": {
    "deletable": true,
    "editable": true,
    "slideshow": {
     "slide_type": "fragment"
    }
   },
   "source": [
    "- Read more about this [here](https://notes.dsc10.com/02-data_sets/querying.html#multiple-conditions)."
   ]
  },
  {
   "cell_type": "markdown",
   "id": "97d3553f",
   "metadata": {
    "deletable": true,
    "editable": true,
    "slideshow": {
     "slide_type": "slide"
    }
   },
   "source": [
    "## Multidimensional arrays and linear algebra"
   ]
  },
  {
   "cell_type": "markdown",
   "id": "e8085ef6",
   "metadata": {
    "deletable": true,
    "editable": true,
    "slideshow": {
     "slide_type": "slide"
    }
   },
   "source": [
    "### Multidimensional arrays"
   ]
  },
  {
   "cell_type": "markdown",
   "id": "8a68c27c",
   "metadata": {
    "deletable": true,
    "editable": true,
    "slideshow": {
     "slide_type": "fragment"
    }
   },
   "source": [
    "- A matrix can be represented in code using a two dimensional (2D) array."
   ]
  },
  {
   "cell_type": "markdown",
   "id": "76a0424c",
   "metadata": {
    "deletable": true,
    "editable": true,
    "slideshow": {
     "slide_type": "fragment"
    }
   },
   "source": [
    "- 2D arrays also resemble tables, or DataFrames, so it's worthwhile to study how they work."
   ]
  },
  {
   "cell_type": "code",
   "execution_count": null,
   "id": "f761b71e",
   "metadata": {
    "deletable": true,
    "editable": true,
    "scrolled": true
   },
   "outputs": [],
   "source": [
    "nums = np.array([\n",
    "    [5, 1, 9, 7],\n",
    "    [9, 8, 2, 3],\n",
    "    [2, 5, 0, 4]\n",
    "])\n",
    "nums"
   ]
  },
  {
   "cell_type": "code",
   "execution_count": null,
   "id": "7b9c4c83",
   "metadata": {
    "deletable": true,
    "editable": true
   },
   "outputs": [],
   "source": [
    "# nums has 3 rows and 4 columns.\n",
    "..."
   ]
  },
  {
   "cell_type": "markdown",
   "id": "7905e4c3",
   "metadata": {
    "deletable": true,
    "editable": true,
    "slideshow": {
     "slide_type": "fragment"
    }
   },
   "source": [
    "- In addition to creating 2D arrays from scratch, we can also create 2D arrays by _reshaping_ other arrays."
   ]
  },
  {
   "cell_type": "code",
   "execution_count": null,
   "id": "96db484e",
   "metadata": {
    "deletable": true,
    "editable": true
   },
   "outputs": [],
   "source": [
    "# Here, we're asking to reshape np.arange(1, 7)\n",
    "# so that it has 2 rows and 3 columns.\n",
    "a = ...\n",
    "a"
   ]
  },
  {
   "cell_type": "markdown",
   "id": "71ee33a8",
   "metadata": {
    "deletable": true,
    "editable": true,
    "slideshow": {
     "slide_type": "slide"
    }
   },
   "source": [
    "### Operations along axes"
   ]
  },
  {
   "cell_type": "markdown",
   "id": "eff444df",
   "metadata": {
    "deletable": true,
    "editable": true,
    "slideshow": {
     "slide_type": "fragment"
    }
   },
   "source": [
    "- In 2D arrays (and DataFrames), axis 0 refers to the rows (up and down) and axis 1 refers to the columns (left and right).\n",
    "\n",
    "<center><img src='imgs/axis-sum.png' width=600></center>"
   ]
  },
  {
   "cell_type": "code",
   "execution_count": null,
   "id": "8fe8f4a8",
   "metadata": {
    "deletable": true,
    "editable": true
   },
   "outputs": [],
   "source": [
    "a"
   ]
  },
  {
   "cell_type": "markdown",
   "id": "07238280",
   "metadata": {
    "deletable": true,
    "editable": true,
    "slideshow": {
     "slide_type": "fragment"
    }
   },
   "source": [
    "- If we specify `axis=0`, `a.sum` will \"compress\" along axis 0."
   ]
  },
  {
   "cell_type": "code",
   "execution_count": null,
   "id": "cc0cf067",
   "metadata": {
    "deletable": true,
    "editable": true,
    "slideshow": {
     "slide_type": ""
    }
   },
   "outputs": [],
   "source": [
    "a.sum(axis=0)"
   ]
  },
  {
   "cell_type": "markdown",
   "id": "652da663",
   "metadata": {
    "deletable": true,
    "editable": true,
    "slideshow": {
     "slide_type": "fragment"
    }
   },
   "source": [
    "- If we specify `axis=1`, `a.sum` will \"compress\" along axis 1."
   ]
  },
  {
   "cell_type": "code",
   "execution_count": null,
   "id": "4ebf76ef",
   "metadata": {
    "deletable": true,
    "editable": true
   },
   "outputs": [],
   "source": [
    "a.sum(axis=1)"
   ]
  },
  {
   "cell_type": "markdown",
   "id": "4ba1f5fe",
   "metadata": {
    "deletable": true,
    "editable": true,
    "slideshow": {
     "slide_type": "slide"
    }
   },
   "source": [
    "### Selecting rows and columns from 2D arrays"
   ]
  },
  {
   "cell_type": "markdown",
   "id": "787ce398",
   "metadata": {
    "deletable": true,
    "editable": true,
    "slideshow": {
     "slide_type": "fragment"
    }
   },
   "source": [
    "- You can use `[`square brackets`]` to **slice** rows and columns out of an array, too."
   ]
  },
  {
   "cell_type": "markdown",
   "id": "174508e7",
   "metadata": {
    "deletable": true,
    "editable": true,
    "slideshow": {
     "slide_type": "fragment"
    }
   },
   "source": [
    "- The general convention is:\n",
    "\n",
    "```python\n",
    "        array[<row positions>, <column positions>]\n",
    "```"
   ]
  },
  {
   "cell_type": "code",
   "execution_count": null,
   "id": "b8ce2734",
   "metadata": {
    "deletable": true,
    "editable": true
   },
   "outputs": [],
   "source": [
    "a"
   ]
  },
  {
   "cell_type": "code",
   "execution_count": null,
   "id": "c7b653b4",
   "metadata": {
    "deletable": true,
    "editable": true,
    "scrolled": true
   },
   "outputs": [],
   "source": [
    "# Accesses row 0 and all columns.\n",
    "..."
   ]
  },
  {
   "cell_type": "code",
   "execution_count": null,
   "id": "0be13f06",
   "metadata": {
    "deletable": true,
    "editable": true
   },
   "outputs": [],
   "source": [
    "# Same as the above.\n",
    "..."
   ]
  },
  {
   "cell_type": "code",
   "execution_count": null,
   "id": "69f5849b",
   "metadata": {
    "deletable": true,
    "editable": true
   },
   "outputs": [],
   "source": [
    "# Accesses all rows and column 1.\n",
    "..."
   ]
  },
  {
   "cell_type": "code",
   "execution_count": null,
   "id": "3ed7fdc3",
   "metadata": {
    "deletable": true,
    "editable": true
   },
   "outputs": [],
   "source": [
    "# Access all rows and columns 0 and 2.\n",
    "a[:, [0, 2]]"
   ]
  },
  {
   "cell_type": "code",
   "execution_count": null,
   "id": "8cbcffb8",
   "metadata": {
    "deletable": true,
    "editable": true
   },
   "outputs": [],
   "source": [
    "# Accesses row 0 and columns 1 and onwards.\n",
    "..."
   ]
  },
  {
   "cell_type": "markdown",
   "id": "aeaaf337",
   "metadata": {
    "deletable": true,
    "editable": true,
    "slideshow": {
     "slide_type": "slide"
    }
   },
   "source": [
    "<div class=\"alert alert-success\">\n",
    "    <h3>Activity</h3>\n",
    "    Suppose we run the cell below.\n",
    "\n",
    "```python\n",
    "s = (5, 3)\n",
    "grid = np.ones(s) * 2 * np.arange(1, 16).reshape(s)\n",
    "grid[-1, 1:].sum()    \n",
    "```\n",
    "What is the output of the cell? **Try and answer without writing any code.**\n",
    "    \n",
    "    \n",
    "\n",
    "</div>"
   ]
  },
  {
   "cell_type": "code",
   "execution_count": null,
   "id": "41069d07",
   "metadata": {
    "deletable": true,
    "editable": true
   },
   "outputs": [],
   "source": [
    "..."
   ]
  },
  {
   "cell_type": "code",
   "execution_count": null,
   "id": "b213d62d",
   "metadata": {
    "deletable": true,
    "editable": true
   },
   "outputs": [],
   "source": []
  },
  {
   "cell_type": "code",
   "execution_count": null,
   "id": "94a051b5",
   "metadata": {
    "deletable": true,
    "editable": true
   },
   "outputs": [],
   "source": []
  },
  {
   "cell_type": "markdown",
   "id": "d0a3dae0",
   "metadata": {
    "deletable": true,
    "editable": true,
    "slideshow": {
     "slide_type": "slide"
    }
   },
   "source": [
    "### Linear algebra review"
   ]
  },
  {
   "cell_type": "markdown",
   "id": "3c99d2cf",
   "metadata": {
    "deletable": true,
    "editable": true,
    "slideshow": {
     "slide_type": "fragment"
    }
   },
   "source": [
    "- Arrays are used to perform computation in the context of linear algebra! For example, let's work through [Practice Question 8.1 from LARDS](https://practicaldsc.org/lin-alg/#projecting-onto-the-span-of-multiple-vectors-again), but this time using code."
   ]
  },
  {
   "cell_type": "markdown",
   "id": "3db0663c",
   "metadata": {
    "deletable": true,
    "editable": true,
    "slideshow": {
     "slide_type": "fragment"
    }
   },
   "source": [
    "- Consider the vectors $\\vec u$ and $\\vec v$, defined below:\n",
    "\n",
    "    $$\\vec u = \\begin{bmatrix} 1 \\\\ 0 \\\\ 0 \\end{bmatrix} \\qquad \\vec v = \\begin{bmatrix} 0 \\\\ 1 \\\\ 1 \\end{bmatrix}$$"
   ]
  },
  {
   "cell_type": "code",
   "execution_count": null,
   "id": "7cd8479f",
   "metadata": {
    "deletable": true,
    "editable": true
   },
   "outputs": [],
   "source": [
    "show_projection_plot()"
   ]
  },
  {
   "cell_type": "markdown",
   "id": "9d9993e6",
   "metadata": {
    "deletable": true,
    "editable": true,
    "slideshow": {
     "slide_type": "slide"
    }
   },
   "source": [
    "We define $X \\in \\mathbb{R}^{3 \\times 2}$ to be the matrix whose first column is $\\vec u$ and whose second column is $\\vec v$."
   ]
  },
  {
   "cell_type": "code",
   "execution_count": null,
   "id": "84a294e7",
   "metadata": {
    "deletable": true,
    "editable": true,
    "slideshow": {
     "slide_type": ""
    }
   },
   "outputs": [],
   "source": [
    "u = np.array([1, 0, 0]).reshape(-1, 1)\n",
    "v = np.array([0, 1, 1]).reshape(-1, 1)"
   ]
  },
  {
   "cell_type": "code",
   "execution_count": null,
   "id": "64db74a3",
   "metadata": {
    "deletable": true,
    "editable": true
   },
   "outputs": [],
   "source": [
    "u"
   ]
  },
  {
   "cell_type": "code",
   "execution_count": null,
   "id": "6ff14f3d",
   "metadata": {
    "deletable": true,
    "editable": true
   },
   "outputs": [],
   "source": [
    "v"
   ]
  },
  {
   "cell_type": "code",
   "execution_count": null,
   "id": "bcf5d5f9",
   "metadata": {
    "deletable": true,
    "editable": true
   },
   "outputs": [],
   "source": [
    "X = ...\n",
    "X"
   ]
  },
  {
   "cell_type": "markdown",
   "id": "30754fc7",
   "metadata": {
    "deletable": true,
    "editable": true,
    "slideshow": {
     "slide_type": "slide"
    }
   },
   "source": [
    "Show that:\n",
    "\n",
    "$$(X^TX)^{-1}X^T = \\begin{bmatrix} 1 & 0 & 0 \\\\ 0 & \\frac{1}{2} & \\frac{1}{2} \\end{bmatrix}$$"
   ]
  },
  {
   "cell_type": "code",
   "execution_count": null,
   "id": "d3603a2b",
   "metadata": {
    "deletable": true,
    "editable": true
   },
   "outputs": [],
   "source": [
    "..."
   ]
  },
  {
   "cell_type": "markdown",
   "id": "a5a45e94",
   "metadata": {
    "deletable": true,
    "editable": true,
    "slideshow": {
     "slide_type": "slide"
    }
   },
   "source": [
    "Find scalars $a$ and $b$ such that $a \\vec u + b \\vec v$ is the vector in $\\text{span}(\\vec u, \\vec v)$ that is as close to $\\vec y = \\begin{bmatrix} 4 \\\\ 2 \\\\ 8 \\end{bmatrix}$ as possible."
   ]
  },
  {
   "cell_type": "code",
   "execution_count": null,
   "id": "2f88edfe",
   "metadata": {
    "deletable": true,
    "editable": true
   },
   "outputs": [],
   "source": [
    "..."
   ]
  },
  {
   "cell_type": "markdown",
   "id": "7402e938",
   "metadata": {
    "deletable": true,
    "editable": true,
    "slideshow": {
     "slide_type": "slide"
    }
   },
   "source": [
    "Let $\\vec e = \\vec y - (a \\vec u + b \\vec v)$, where $a$ and $b$ are the values you found above. You should notice that the sum of the entries in $\\vec e$ is 0. Why?"
   ]
  },
  {
   "cell_type": "code",
   "execution_count": null,
   "id": "8cd6e839",
   "metadata": {
    "deletable": true,
    "editable": true
   },
   "outputs": [],
   "source": [
    "..."
   ]
  },
  {
   "cell_type": "markdown",
   "id": "db8c52ea",
   "metadata": {
    "deletable": true,
    "editable": true,
    "slideshow": {
     "slide_type": "slide"
    }
   },
   "source": [
    "<div class=\"alert alert-warning\">\n",
    "    <h3>Question 🤔 (Answer at <a style=\"text-decoration: none; color: #0066cc\" href=\"https://docs.google.com/forms/d/e/1FAIpQLSd4oliiZYeNh76jWy-arfEtoAkCrVSsobZxPwxifWggo3EO0Q/viewform\">practicaldsc.org/q</a>)</h3>\n",
    "    \n",
    "What questions do you have about multidimensional arrays and our linear algebra review?"
   ]
  },
  {
   "cell_type": "markdown",
   "id": "41103e0a",
   "metadata": {
    "deletable": true,
    "editable": true,
    "slideshow": {
     "slide_type": "slide"
    }
   },
   "source": [
    "### Example: Image processing"
   ]
  },
  {
   "cell_type": "markdown",
   "id": "3b21d903",
   "metadata": {
    "deletable": true,
    "editable": true,
    "slideshow": {
     "slide_type": "fragment"
    }
   },
   "source": [
    "- It turns out that **images** can be represented as 3D `numpy` arrays.\n",
    "\n",
    "<center><img src='imgs/three_d_array.png' width=250><small>(<a href=\"https://e2eml.school/convert_rgb_to_grayscale\">image source</a>)</small></center>"
   ]
  },
  {
   "cell_type": "markdown",
   "id": "96b66e87",
   "metadata": {
    "deletable": true,
    "editable": true,
    "slideshow": {
     "slide_type": "fragment"
    }
   },
   "source": [
    "- The color of each pixel can be described with three numbers under the RGB model – a red value, green value, and blue value. Each of these can vary from 0 to 1."
   ]
  },
  {
   "cell_type": "code",
   "execution_count": null,
   "id": "595da4bb",
   "metadata": {
    "deletable": true,
    "editable": true
   },
   "outputs": [],
   "source": [
    "img = np.asarray(Image.open('imgs/junior.jpeg')) / 255\n",
    "img"
   ]
  },
  {
   "cell_type": "code",
   "execution_count": null,
   "id": "96b912dc",
   "metadata": {
    "deletable": true,
    "editable": true
   },
   "outputs": [],
   "source": [
    "img.shape"
   ]
  },
  {
   "cell_type": "code",
   "execution_count": null,
   "id": "a5bd73ea",
   "metadata": {
    "deletable": true,
    "editable": true
   },
   "outputs": [],
   "source": [
    "plt.imshow(img)\n",
    "plt.axis('off');"
   ]
  },
  {
   "cell_type": "markdown",
   "id": "2d67c9e7",
   "metadata": {
    "deletable": true,
    "editable": true,
    "slideshow": {
     "slide_type": "slide"
    }
   },
   "source": [
    "### Applying a greyscale filter"
   ]
  },
  {
   "cell_type": "markdown",
   "id": "fa2ecf8e",
   "metadata": {
    "deletable": true,
    "editable": true,
    "slideshow": {
     "slide_type": "fragment"
    }
   },
   "source": [
    "- One way to convert an image to greyscale is to average its red, green, and blue values."
   ]
  },
  {
   "cell_type": "code",
   "execution_count": null,
   "id": "5f1f6df9",
   "metadata": {
    "deletable": true,
    "editable": true
   },
   "outputs": [],
   "source": [
    "mean_2d = ...\n",
    "mean_2d"
   ]
  },
  {
   "cell_type": "code",
   "execution_count": null,
   "id": "016a3316",
   "metadata": {
    "deletable": true,
    "editable": true
   },
   "outputs": [],
   "source": [
    "# This is just a single red channel!\n",
    "plt.imshow(mean_2d)\n",
    "plt.axis('off');"
   ]
  },
  {
   "cell_type": "markdown",
   "id": "b37d4884",
   "metadata": {
    "deletable": true,
    "editable": true,
    "slideshow": {
     "slide_type": "fragment"
    }
   },
   "source": [
    "- We need to _repeat_ `mean_2d` three times along axis 2, to use the same values for the red, green, and blue channels. `np.repeat` will help us here."
   ]
  },
  {
   "cell_type": "code",
   "execution_count": null,
   "id": "18613e2a",
   "metadata": {
    "deletable": true,
    "editable": true
   },
   "outputs": [],
   "source": [
    "# np.newaxis is an alias for None.\n",
    "# It helps us introduce an additional axis.\n",
    "np.arange(5)[:, np.newaxis]"
   ]
  },
  {
   "cell_type": "code",
   "execution_count": null,
   "id": "93fab58b",
   "metadata": {
    "deletable": true,
    "editable": true
   },
   "outputs": [],
   "source": [
    "np.repeat(np.arange(5)[:, np.newaxis], 3, axis=1)"
   ]
  },
  {
   "cell_type": "code",
   "execution_count": null,
   "id": "f42b99a0",
   "metadata": {
    "deletable": true,
    "editable": true
   },
   "outputs": [],
   "source": [
    "mean_3d = ...\n",
    "mean_3d"
   ]
  },
  {
   "cell_type": "code",
   "execution_count": null,
   "id": "7dddc844",
   "metadata": {
    "deletable": true,
    "editable": true
   },
   "outputs": [],
   "source": [
    "plt.imshow(mean_3d)\n",
    "plt.axis('off');"
   ]
  },
  {
   "cell_type": "markdown",
   "id": "97c34814",
   "metadata": {
    "deletable": true,
    "editable": true,
    "slideshow": {
     "slide_type": "skip"
    }
   },
   "source": [
    "### Applying a sepia filter\n",
    "\n",
    "_We won't walk through this example in lecture, but it's here for your reference._"
   ]
  },
  {
   "cell_type": "markdown",
   "id": "7781848f",
   "metadata": {
    "deletable": true,
    "editable": true,
    "slideshow": {
     "slide_type": "skip"
    }
   },
   "source": [
    "- Let's sepia-fy Junior!\n",
    "\n",
    "<center>\n",
    "<img src=\"imgs/apple-sepia.png\" width=50%>\n",
    "    <small>\n",
    "(<a href=\"https://support.apple.com/guide/motion/sepia-filter-motn169f8c87/mac\">Image credits</a>)</small>\n",
    "</center>"
   ]
  },
  {
   "cell_type": "markdown",
   "id": "d42befb7",
   "metadata": {
    "deletable": true,
    "editable": true,
    "slideshow": {
     "slide_type": "skip"
    }
   },
   "source": [
    "- From [here](https://stackoverflow.com/questions/1061093/how-is-a-sepia-tone-created), we can apply this conversion to each pixel.\n",
    "\n",
    "$$\\begin{align*}\n",
    "R_{\\text{sepia}} &= 0.393R + 0.769G + 0.189B \\\\ G_{\\text{sepia}} &= 0.349R + 0.686G + 0.168B \\\\\n",
    "B_{\\text{sepia}} &= 0.272R + 0.534G + 0.131B\\end{align*}$$"
   ]
  },
  {
   "cell_type": "code",
   "execution_count": null,
   "id": "00040270",
   "metadata": {
    "deletable": true,
    "editable": true,
    "slideshow": {
     "slide_type": "skip"
    }
   },
   "outputs": [],
   "source": [
    "sepia_filter = np.array([\n",
    "    [0.393, 0.769, 0.189],\n",
    "    [0.349, 0.686, 0.168],\n",
    "    [0.272, 0.534, 0.131]\n",
    "])"
   ]
  },
  {
   "cell_type": "code",
   "execution_count": null,
   "id": "c652809f",
   "metadata": {
    "deletable": true,
    "editable": true,
    "slideshow": {
     "slide_type": "skip"
    }
   },
   "outputs": [],
   "source": [
    "# Multiplies each pixel by the sepia_filter matrix.\n",
    "# Then, clips each RGB value to be between 0 and 1.\n",
    "filtered = (img @ sepia_filter.T).clip(0, 1)\n",
    "filtered"
   ]
  },
  {
   "cell_type": "code",
   "execution_count": null,
   "id": "f6f29136",
   "metadata": {
    "deletable": true,
    "editable": true,
    "slideshow": {
     "slide_type": "skip"
    }
   },
   "outputs": [],
   "source": [
    "plt.imshow(filtered)\n",
    "plt.axis('off');"
   ]
  },
  {
   "cell_type": "markdown",
   "id": "011c8622",
   "metadata": {
    "deletable": true,
    "editable": true,
    "slideshow": {
     "slide_type": "slide"
    }
   },
   "source": [
    "### Key takeaway: avoid `for`-loops whenever possible!\n",
    "\n",
    "You can do a lot without `for`-loops, both in `numpy` and in `pandas`."
   ]
  },
  {
   "cell_type": "markdown",
   "id": "d134674c",
   "metadata": {
    "deletable": true,
    "editable": true,
    "slideshow": {
     "slide_type": "slide"
    }
   },
   "source": [
    "## Randomness and simulation"
   ]
  },
  {
   "cell_type": "markdown",
   "id": "9e7ad425",
   "metadata": {
    "deletable": true,
    "editable": true,
    "slideshow": {
     "slide_type": "slide"
    }
   },
   "source": [
    "### `np.random`\n",
    "\n",
    "The submodule `np.random` contains various functions that produce **random** results.<br><small>These use [pseudo-random number generators](https://en.wikipedia.org/wiki/Pseudorandom_number_generator) to generate random-seeming sequences of results.</small>"
   ]
  },
  {
   "cell_type": "code",
   "execution_count": null,
   "id": "b062f083",
   "metadata": {
    "deletable": true,
    "editable": true
   },
   "outputs": [],
   "source": [
    "# Run this cell multiple times!\n",
    "# Returns a random integer between 1 and 6, inclusive.\n",
    "..."
   ]
  },
  {
   "cell_type": "code",
   "execution_count": null,
   "id": "671b5eac",
   "metadata": {
    "deletable": true,
    "editable": true
   },
   "outputs": [],
   "source": [
    "# Returns a random real number between 0 and 1.\n",
    "..."
   ]
  },
  {
   "cell_type": "code",
   "execution_count": null,
   "id": "5cd489bf",
   "metadata": {
    "deletable": true,
    "editable": true
   },
   "outputs": [],
   "source": [
    "# Returns a randomly selected element from the provided list, 5 times.\n",
    "..."
   ]
  },
  {
   "cell_type": "code",
   "execution_count": null,
   "id": "312d5bfd",
   "metadata": {
    "deletable": true,
    "editable": true
   },
   "outputs": [],
   "source": [
    "# Returns the number of occurrences of each outcome\n",
    "# in 12 trials of an experiment in which\n",
    "# outcome 1 happens 60% of the time and\n",
    "# outcome 2 happens 40% of the time.\n",
    "..."
   ]
  },
  {
   "cell_type": "markdown",
   "id": "4158de36",
   "metadata": {
    "deletable": true,
    "editable": true,
    "slideshow": {
     "slide_type": "slide"
    }
   },
   "source": [
    "### Simulations"
   ]
  },
  {
   "cell_type": "markdown",
   "id": "8c0d0c70",
   "metadata": {
    "deletable": true,
    "editable": true,
    "slideshow": {
     "slide_type": "fragment"
    }
   },
   "source": [
    "- Often, we'll want to estimate the probability of an event, but it may not be possible – or we may not know how – to calculate the probability exactly.<br><small>e.g., the probability that I see between 40 and 50 heads when I flip a fair coin 100 times.</small>"
   ]
  },
  {
   "cell_type": "markdown",
   "id": "9b1cb836",
   "metadata": {
    "deletable": true,
    "editable": true,
    "slideshow": {
     "slide_type": "fragment"
    }
   },
   "source": [
    "- Or, we may have a theoretical answer, and want to validate it using another approach."
   ]
  },
  {
   "cell_type": "markdown",
   "id": "3ec76b85",
   "metadata": {
    "deletable": true,
    "editable": true,
    "slideshow": {
     "slide_type": "fragment"
    }
   },
   "source": [
    "- In such cases, we can use the power of simulation. We can:\n",
    "    1. Figure out how to **simulate** one run of the experiment.<br><small>e.g., figure out how to get Python to flip a fair coin 100 times and count the number of heads.</small>\n",
    "    1. Repeat the experiment many, many times.\n",
    "    1. Compute the fraction of experiments in which our event occurs, and use this fraction as an estimate of the probability of our event.\n",
    "    \n",
    "    This is the basis of [Monte Carlo Methods](https://en.wikipedia.org/wiki/Monte_Carlo_method)."
   ]
  },
  {
   "cell_type": "markdown",
   "id": "432063f1",
   "metadata": {
    "deletable": true,
    "editable": true,
    "slideshow": {
     "slide_type": "fragment"
    }
   },
   "source": [
    "- Theory tells us that **the more repetitions we perform of our experiment, the closer our fraction will be to the true probability of the event**!\n",
    "<br><small>Specifically, the [Law of Large Numbers](https://en.wikipedia.org/wiki/Law_of_large_numbers) tells us this.</small>"
   ]
  },
  {
   "cell_type": "markdown",
   "id": "11fc5215",
   "metadata": {
    "deletable": true,
    "editable": true,
    "slideshow": {
     "slide_type": "slide"
    }
   },
   "source": [
    "### Example: Coin flipping"
   ]
  },
  {
   "cell_type": "markdown",
   "id": "a750d8de",
   "metadata": {
    "deletable": true,
    "editable": true,
    "slideshow": {
     "slide_type": "fragment"
    }
   },
   "source": [
    "- **Question**: What is the probability that I see between 40 and 50 heads, inclusive, when I flip a fair coin 100 times?"
   ]
  },
  {
   "cell_type": "markdown",
   "id": "11c5542d",
   "metadata": {
    "deletable": true,
    "editable": true,
    "slideshow": {
     "slide_type": "fragment"
    }
   },
   "source": [
    "- **Step 1**: Figure out how to **simulate** one run of the experiment.<br><small>e.g., figure out how to get Python to flip a fair coin 100 times and count the number of heads.</small>"
   ]
  },
  {
   "cell_type": "code",
   "execution_count": null,
   "id": "6f25d69b",
   "metadata": {
    "deletable": true,
    "editable": true
   },
   "outputs": [],
   "source": [
    "..."
   ]
  },
  {
   "cell_type": "code",
   "execution_count": null,
   "id": "2c6d25bf",
   "metadata": {
    "deletable": true,
    "editable": true
   },
   "outputs": [],
   "source": [
    "..."
   ]
  },
  {
   "cell_type": "code",
   "execution_count": null,
   "id": "40c47ef0",
   "metadata": {
    "deletable": true,
    "editable": true
   },
   "outputs": [],
   "source": [
    "def num_heads():\n",
    "    ...\n",
    "num_heads()"
   ]
  },
  {
   "cell_type": "markdown",
   "id": "8175953c",
   "metadata": {
    "deletable": true,
    "editable": true,
    "slideshow": {
     "slide_type": "fragment"
    }
   },
   "source": [
    "- **Step 2**: Repeat the experiment many, many times."
   ]
  },
  {
   "cell_type": "code",
   "execution_count": null,
   "id": "11ef1fc1",
   "metadata": {
    "deletable": true,
    "editable": true
   },
   "outputs": [],
   "source": [
    "outcomes = ...\n",
    "for _ in range(10_000):\n",
    "    ..."
   ]
  },
  {
   "cell_type": "markdown",
   "id": "a8d1a341",
   "metadata": {
    "deletable": true,
    "editable": true,
    "slideshow": {
     "slide_type": "fragment"
    }
   },
   "source": [
    "- **Step 3**: Compute the fraction of experiments in which our event occurs, and use this fraction as an estimate of the probability of our event."
   ]
  },
  {
   "cell_type": "code",
   "execution_count": null,
   "id": "cf175920",
   "metadata": {
    "deletable": true,
    "editable": true
   },
   "outputs": [],
   "source": [
    "px.histogram(outcomes)"
   ]
  },
  {
   "cell_type": "code",
   "execution_count": null,
   "id": "c54d2149",
   "metadata": {
    "deletable": true,
    "editable": true
   },
   "outputs": [],
   "source": [
    "..."
   ]
  },
  {
   "cell_type": "markdown",
   "id": "c832d633",
   "metadata": {
    "deletable": true,
    "editable": true,
    "slideshow": {
     "slide_type": "fragment"
    }
   },
   "source": [
    "- This is remarkably close to the true, theoretical answer!"
   ]
  },
  {
   "cell_type": "code",
   "execution_count": null,
   "id": "888cee23",
   "metadata": {
    "deletable": true,
    "editable": true
   },
   "outputs": [],
   "source": [
    "from scipy.stats import binom\n",
    "binom.cdf(50, 100, 0.5) - binom.cdf(39, 100, 0.5)"
   ]
  },
  {
   "cell_type": "markdown",
   "id": "1b44d6d9",
   "metadata": {
    "deletable": true,
    "editable": true,
    "slideshow": {
     "slide_type": "slide"
    }
   },
   "source": [
    "<div class=\"alert alert-warning\">\n",
    "    <h3>Question 🤔 (Answer at <a style=\"text-decoration: none; color: #0066cc\" href=\"https://docs.google.com/forms/d/e/1FAIpQLSd4oliiZYeNh76jWy-arfEtoAkCrVSsobZxPwxifWggo3EO0Q/viewform\">practicaldsc.org/q</a>)</h3>\n",
    "    \n",
    "What questions do you have about our coin flipping simulation?\n",
    "    \n",
    "Can you think of a way to perform the same simulation without **any** `for`-loops?"
   ]
  },
  {
   "cell_type": "markdown",
   "id": "9bc03a86",
   "metadata": {
    "deletable": true,
    "editable": true,
    "slideshow": {
     "slide_type": "slide"
    }
   },
   "source": [
    "### Example: The Birthday Paradox"
   ]
  },
  {
   "cell_type": "markdown",
   "id": "b3e3ca41",
   "metadata": {
    "deletable": true,
    "editable": true,
    "slideshow": {
     "slide_type": "fragment"
    }
   },
   "source": [
    "- There are ~80 students in the room right now. What are the chances at least 2 students share the same birthday?"
   ]
  },
  {
   "cell_type": "markdown",
   "id": "04e9f31a",
   "metadata": {
    "deletable": true,
    "editable": true,
    "slideshow": {
     "slide_type": "fragment"
    }
   },
   "source": [
    "- In general, **how many people must be in a room such that there's a 50% chance that at least 2 students share the same birthday?**"
   ]
  },
  {
   "cell_type": "markdown",
   "id": "ce3ae41d",
   "metadata": {
    "deletable": true,
    "editable": true,
    "slideshow": {
     "slide_type": "fragment"
    }
   },
   "source": [
    "- Let's define a function, `estimated_probability`, which takes in a class size, `n`, and returns the probability that in a class of `n` students, at least 2 students share the same birthday."
   ]
  },
  {
   "cell_type": "code",
   "execution_count": null,
   "id": "8578bf95",
   "metadata": {
    "deletable": true,
    "editable": true
   },
   "outputs": [],
   "source": [
    "def simulate_classroom(n):\n",
    "    # This helper function should take in a class size, n,\n",
    "    # and return True if a simulated classroom of size n\n",
    "    # has at least 2 students with the same birthday\n",
    "    # and False otherwise.\n",
    "    # This is not the most efficient solution, but works for now.\n",
    "    ...\n",
    "def estimated_probability(n):\n",
    "    ..."
   ]
  },
  {
   "cell_type": "code",
   "execution_count": null,
   "id": "de5e1f79",
   "metadata": {
    "deletable": true,
    "editable": true,
    "scrolled": true
   },
   "outputs": [],
   "source": [
    "..."
   ]
  },
  {
   "cell_type": "markdown",
   "id": "09f86111",
   "metadata": {
    "deletable": true,
    "editable": true,
    "slideshow": {
     "slide_type": "fragment"
    }
   },
   "source": [
    "- With 80 students, it's almost certain that 2 share the same birthday!<br>What's the minimum class size we'd need for a 50% chance that at least 2 share the same birthday?"
   ]
  },
  {
   "cell_type": "code",
   "execution_count": null,
   "id": "935a6c66",
   "metadata": {
    "deletable": true,
    "editable": true
   },
   "outputs": [],
   "source": [
    "probs = [estimated_probability(n) for n in range(1, 51)]"
   ]
  },
  {
   "cell_type": "code",
   "execution_count": null,
   "id": "f1551d13",
   "metadata": {
    "deletable": true,
    "editable": true
   },
   "outputs": [],
   "source": [
    "(\n",
    "    px\n",
    "    .bar(x=range(1, 51), \n",
    "         y=probs,\n",
    "         title='Probability that at least 2 students share the<br>same birthday in a class of n students')\n",
    "    .update_xaxes(title='$n$')\n",
    "    .update_yaxes(title='Probability')\n",
    ")"
   ]
  },
  {
   "cell_type": "markdown",
   "id": "8bb02a3f",
   "metadata": {
    "deletable": true,
    "editable": true,
    "slideshow": {
     "slide_type": "fragment"
    }
   },
   "source": [
    "- Lower than you might think!"
   ]
  },
  {
   "cell_type": "markdown",
   "id": "d6cf35c9",
   "metadata": {
    "deletable": true,
    "editable": true,
    "slideshow": {
     "slide_type": "slide"
    }
   },
   "source": [
    "### Next time\n",
    "\n",
    "On Thursday, we'll begin our deep dive into `pandas` DataFrames."
   ]
  }
 ],
 "metadata": {
  "celltoolbar": "None",
  "kernelspec": {
   "display_name": "Python 3 (ipykernel)",
   "language": "python",
   "name": "python3"
  },
  "language_info": {
   "codemirror_mode": {
    "name": "ipython",
    "version": 3
   },
   "file_extension": ".py",
   "mimetype": "text/x-python",
   "name": "python",
   "nbconvert_exporter": "python",
   "pygments_lexer": "ipython3",
   "version": "3.10.14"
  },
  "livereveal": {
   "scroll": true
  },
  "rise": {
   "transition": "none"
  }
 },
 "nbformat": 4,
 "nbformat_minor": 5
}
