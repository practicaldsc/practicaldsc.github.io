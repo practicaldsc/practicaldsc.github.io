{
 "cells": [
  {
   "cell_type": "code",
   "execution_count": null,
   "id": "815c95b8",
   "metadata": {
    "deletable": true,
    "editable": true,
    "slideshow": {
     "slide_type": "skip"
    },
    "tags": []
   },
   "outputs": [],
   "source": [
    "from lec_utils import *\n",
    "def show_grouping_animation():\n",
    "    src = \"https://docs.google.com/presentation/d/1tBaFyHseIGsX5wmE3BdNLeVHnKksQtpzLhHge8Tzly0/embed?start=false&loop=false&delayms=60000&rm=minimal\"\n",
    "    width = 960\n",
    "    height = 509\n",
    "    display(IFrame(src, width, height))\n",
    "def show_merging_animation():\n",
    "    src = \"https://docs.google.com/presentation/d/1HPJ7fiBLNEURsWYiY0qpqPR3qup68Mr0_B34GU99Y8Q/embed?start=false&loop=false&delayms=60000&rm=minimal\"\n",
    "    width = 865\n",
    "    height = 509\n",
    "    display(IFrame(src, width, height))"
   ]
  },
  {
   "cell_type": "markdown",
   "id": "1dc262c4",
   "metadata": {
    "deletable": true,
    "editable": true,
    "slideshow": {
     "slide_type": "slide"
    },
    "tags": []
   },
   "source": [
    "<div class=\"alert alert-info\" markdown=\"1\">\n",
    "\n",
    "#### Lecture 6\n",
    "\n",
    "# Grouping, Pivoting, and Merging\n",
    "\n",
    "### EECS 398-003: Practical Data Science, Fall 2024\n",
    "\n",
    "<small><a style=\"text-decoration: none\" href=\"https://practicaldsc.org\">practicaldsc.org</a> • <a style=\"text-decoration: none\" href=\"https://github.com/practicaldsc/fa24\">github.com/practicaldsc/fa24</a></small>\n",
    "    \n",
    "</div>"
   ]
  },
  {
   "cell_type": "markdown",
   "id": "89aedf5e",
   "metadata": {
    "deletable": true,
    "editable": true,
    "slideshow": {
     "slide_type": "slide"
    }
   },
   "source": [
    "### Announcements 📣\n",
    "\n",
    "- Homework 2 is due **tomorrow night** – we've provided a 24-hour extension to everyone since we released it a bit late. Don't be discouraged if you feel like there's a lot of reading or you have to do a lot of Googling – this is intentional, because this is how data scientists actually have to solve problems!\n",
    "<br><small>Post on [Ed](https://edstem.org/us/courses/61012/discussion/) or\n",
    "come to [Office Hours](https://practicaldsc.org/calendar) for help! We're using a queue for office hours now – access it from [practicaldsc.org/calendar](https://practicaldsc.org/calendar).</small>\n",
    "\n",
    "- [**study.practicaldsc.org**](https://study.practicaldsc.org) contains our discussion worksheets (and solutions), which are made up of old exam problems. Use these problems to build your theoretical understanding of the material!\n",
    "\n",
    "- Homework 1 scores are available on Gradescope.<br><small>Now, you can even see which hidden tests you failed.</small>"
   ]
  },
  {
   "cell_type": "markdown",
   "id": "08852f11",
   "metadata": {
    "deletable": true,
    "editable": true,
    "slideshow": {
     "slide_type": "slide"
    }
   },
   "source": [
    "### Agenda\n",
    "\n",
    "- Recap: `groupby`.\n",
    "- Advanced `groupby` usage.\n",
    "- Pivot tables using the `pivot_table` method.\n",
    "- Merging.\n",
    "\n",
    "Remember to follow along in lecture by accessing the \"blank\" lecture notebook in our [public GitHub repository](https://github.com/practicaldsc/fa24)."
   ]
  },
  {
   "cell_type": "markdown",
   "id": "81efc265",
   "metadata": {
    "deletable": true,
    "editable": true,
    "slideshow": {
     "slide_type": "slide"
    }
   },
   "source": [
    "<div class=\"alert alert-warning\">\n",
    "    <h3>Question 🤔 (Answer at <a style=\"text-decoration: none; color: #0066cc\" href=\"https://docs.google.com/forms/d/e/1FAIpQLSd4oliiZYeNh76jWy-arfEtoAkCrVSsobZxPwxifWggo3EO0Q/viewform\">practicaldsc.org/q</a>)</h3>\n",
    "    \n",
    "<small>Remember that you can always ask questions anonymously at the link above!</small>\n",
    "    \n",
    "We have 2 office hours on Central Campus each week, but not many students have attended. What should we do with them?\n",
    "    \n",
    "- A. Keep them – I'll come at some point.\n",
    "- B. Keep them on Central Campus, but change them to a different time (let us know when in the free response box).\n",
    "- C. Replace them with more North Campus Office hours (let us know when in the free response box)."
   ]
  },
  {
   "cell_type": "markdown",
   "id": "c3eea147",
   "metadata": {
    "deletable": true,
    "editable": true,
    "slideshow": {
     "slide_type": "slide"
    }
   },
   "source": [
    "## Recap: `groupby`\n",
    "\n",
    "Recall, we use `groupby` when we need to calculate something **for each** group.\n",
    "\n",
    "---"
   ]
  },
  {
   "cell_type": "code",
   "execution_count": null,
   "id": "3f52eff1",
   "metadata": {
    "deletable": true,
    "editable": true,
    "slideshow": {
     "slide_type": "slide"
    }
   },
   "outputs": [],
   "source": [
    "show_grouping_animation()"
   ]
  },
  {
   "cell_type": "markdown",
   "id": "e6848419",
   "metadata": {
    "deletable": true,
    "editable": true,
    "slideshow": {
     "slide_type": "slide"
    }
   },
   "source": [
    "Run the cell below to load in our dataset."
   ]
  },
  {
   "cell_type": "code",
   "execution_count": null,
   "id": "2acaf119",
   "metadata": {
    "deletable": true,
    "editable": true
   },
   "outputs": [],
   "source": [
    "penguins = sns.load_dataset('penguins').dropna().reset_index(drop=True)\n",
    "penguins"
   ]
  },
  {
   "cell_type": "markdown",
   "id": "2a16e38d",
   "metadata": {
    "deletable": true,
    "editable": true,
    "slideshow": {
     "slide_type": "slide"
    }
   },
   "source": [
    "### Example: Finding the mean `'bill_length_mm'` of each species"
   ]
  },
  {
   "cell_type": "markdown",
   "id": "eda17462",
   "metadata": {
    "deletable": true,
    "editable": true,
    "slideshow": {
     "slide_type": "fragment"
    }
   },
   "source": [
    "- If you were asked to find the mean `'bill_length_mm'` of `'Adelie'` penguins, you could do so using a query."
   ]
  },
  {
   "cell_type": "code",
   "execution_count": null,
   "id": "8c263248",
   "metadata": {
    "deletable": true,
    "editable": true
   },
   "outputs": [],
   "source": [
    "penguins.loc[penguins['species'] == 'Adelie', 'bill_length_mm'].mean() "
   ]
  },
  {
   "cell_type": "markdown",
   "id": "1d77b788",
   "metadata": {
    "deletable": true,
    "editable": true,
    "slideshow": {
     "slide_type": "fragment"
    }
   },
   "source": [
    "- But, you can find the mean `'bill_length_mm'` of all three species using `groupby`:"
   ]
  },
  {
   "cell_type": "code",
   "execution_count": null,
   "id": "74d72226",
   "metadata": {
    "deletable": true,
    "editable": true
   },
   "outputs": [],
   "source": [
    "# Read this as:\n",
    "#        for each 'species',  calculate the mean 'bill_length_mm'.\n",
    "penguins.groupby('species')['bill_length_mm'].mean() "
   ]
  },
  {
   "cell_type": "markdown",
   "id": "30d0069e",
   "metadata": {
    "deletable": true,
    "editable": true,
    "slideshow": {
     "slide_type": "slide"
    }
   },
   "source": [
    "### Understanding the syntax of `groupby`"
   ]
  },
  {
   "cell_type": "markdown",
   "id": "aa81931c",
   "metadata": {
    "deletable": true,
    "editable": true,
    "slideshow": {
     "slide_type": "fragment"
    }
   },
   "source": [
    "- <code style=\"background: none\"><strong><span style=\"color: #0066cc\">penguins.groupby('species')</span></strong><span style=\"color: #999\">['bill_length_mm'].mean()</span></code><br>First, tell `pandas` which column you want to group by. Since we're grouping by `'species'`, the remainder of the calculations will be done separately for each `'species'`."
   ]
  },
  {
   "cell_type": "markdown",
   "id": "b821609e",
   "metadata": {
    "deletable": true,
    "editable": true,
    "slideshow": {
     "slide_type": "fragment"
    }
   },
   "source": [
    "- <code style=\"background: none\"><span style=\"color: #999\">penguins.groupby('species')</span><strong><span style=\"color: #0066cc\">['bill_length_mm']</span></strong><span style=\"color: #999\">.mean()</span></code><br>Then, select the other column(s) that you want to aggregate. Here, we want to calculate mean `'bill_length_m'`s, so that's what we select.</span>"
   ]
  },
  {
   "cell_type": "markdown",
   "id": "d346ec9e",
   "metadata": {
    "deletable": true,
    "editable": true,
    "slideshow": {
     "slide_type": "fragment"
    }
   },
   "source": [
    "- <code style=\"background: none\"><span style=\"color: #999\">penguins.groupby('species')['bill_length_mm']</span><strong><span style=\"color: #0066cc\">.mean()</span></strong></code><br>Finally, we use an aggregation method. This is saying, for each `'species'`, compute the mean `'bill_length_mm'`."
   ]
  },
  {
   "cell_type": "markdown",
   "id": "f3552ea0",
   "metadata": {
    "deletable": true,
    "editable": true,
    "slideshow": {
     "slide_type": "slide"
    }
   },
   "source": [
    "## Advanced `groupby` usage\n",
    "\n",
    "---"
   ]
  },
  {
   "cell_type": "markdown",
   "id": "0eefa657",
   "metadata": {
    "deletable": true,
    "editable": true,
    "slideshow": {
     "slide_type": "slide"
    }
   },
   "source": [
    "### Beyond default aggregation methods"
   ]
  },
  {
   "cell_type": "markdown",
   "id": "6a53dc0b",
   "metadata": {
    "deletable": true,
    "editable": true,
    "slideshow": {
     "slide_type": "fragment"
    }
   },
   "source": [
    "- There are many built-in aggregation methods."
   ]
  },
  {
   "cell_type": "markdown",
   "id": "9a9ab46a",
   "metadata": {
    "deletable": true,
    "editable": true,
    "slideshow": {
     "slide_type": "fragment"
    }
   },
   "source": [
    "- What if you want to apply different aggregation methods to different columns?"
   ]
  },
  {
   "cell_type": "markdown",
   "id": "95106cfb",
   "metadata": {
    "deletable": true,
    "editable": true,
    "slideshow": {
     "slide_type": "fragment"
    }
   },
   "source": [
    "- What if the aggregation method you want to use doesn't already exist in `pandas`?"
   ]
  },
  {
   "cell_type": "markdown",
   "id": "6c305bce",
   "metadata": {
    "deletable": true,
    "editable": true,
    "slideshow": {
     "slide_type": "slide"
    }
   },
   "source": [
    "### The `aggregate` method"
   ]
  },
  {
   "cell_type": "markdown",
   "id": "50e937c2",
   "metadata": {
    "deletable": true,
    "editable": true,
    "slideshow": {
     "slide_type": "fragment"
    }
   },
   "source": [
    "- `DataFrameGroupBy` and `SeriesGroupBy` objects have a general `aggregate` method, which aggregates using one or more operations.<br><small>Remember, aggregation is the act of combining many values into a single value.</small>"
   ]
  },
  {
   "cell_type": "markdown",
   "id": "6727cdfe",
   "metadata": {
    "deletable": true,
    "editable": true,
    "slideshow": {
     "slide_type": "fragment"
    }
   },
   "source": [
    "- There are many ways of using `aggregate`; refer to [the documentation](https://pandas.pydata.org/pandas-docs/stable/reference/api/pandas.core.groupby.DataFrameGroupBy.aggregate.html) for a comprehensive list.<br><small>Per [the documentation](https://pandas.pydata.org/pandas-docs/stable/reference/api/pandas.DataFrame.agg.html), `agg` is an alias for `aggregate`.</small>"
   ]
  },
  {
   "cell_type": "markdown",
   "id": "11877233",
   "metadata": {
    "deletable": true,
    "editable": true,
    "slideshow": {
     "slide_type": "fragment"
    }
   },
   "source": [
    "- Example arguments:\n",
    "    - A single function.\n",
    "    - A list of functions.\n",
    "    - A dictionary mapping column names to functions."
   ]
  },
  {
   "cell_type": "markdown",
   "id": "56f56627",
   "metadata": {
    "deletable": true,
    "editable": true,
    "slideshow": {
     "slide_type": "fragment"
    }
   },
   "source": [
    "- We've attached a Reference Slide with examples."
   ]
  },
  {
   "cell_type": "markdown",
   "id": "f8c27669",
   "metadata": {
    "deletable": true,
    "editable": true,
    "slideshow": {
     "slide_type": "skip"
    }
   },
   "source": [
    "<div class=\"alert alert-danger\" markdown=\"1\">\n",
    "\n",
    "#### Reference Slide\n",
    "\n",
    "### Examples"
   ]
  },
  {
   "cell_type": "markdown",
   "id": "2e91fe77",
   "metadata": {
    "deletable": true,
    "editable": true,
    "slideshow": {
     "slide_type": "skip"
    }
   },
   "source": [
    "- How many penguins are there of each `'species'`, and what is the mean `'body_mass_g'` of each `'species'`?"
   ]
  },
  {
   "cell_type": "code",
   "execution_count": null,
   "id": "748d7f5a",
   "metadata": {
    "deletable": true,
    "editable": true,
    "slideshow": {
     "slide_type": "skip"
    }
   },
   "outputs": [],
   "source": [
    "(\n",
    "    penguins\n",
    "    .groupby('species')\n",
    "    ['body_mass_g']\n",
    "    .aggregate(['count', 'mean'])\n",
    ")"
   ]
  },
  {
   "cell_type": "markdown",
   "id": "c1511658",
   "metadata": {
    "deletable": true,
    "editable": true,
    "slideshow": {
     "slide_type": "skip"
    }
   },
   "source": [
    "- What is the maximum `'bill_length_mm'` of each `'species'`, and which `'island'`s is each `'species'` found on?"
   ]
  },
  {
   "cell_type": "code",
   "execution_count": null,
   "id": "126d6496",
   "metadata": {
    "deletable": true,
    "editable": true,
    "slideshow": {
     "slide_type": "skip"
    }
   },
   "outputs": [],
   "source": [
    "(\n",
    "    penguins\n",
    "    .groupby('species')\n",
    "    .agg({'bill_length_mm': 'max', 'island': 'unique'})\n",
    ")"
   ]
  },
  {
   "cell_type": "markdown",
   "id": "e3ea8821",
   "metadata": {
    "deletable": true,
    "editable": true,
    "slideshow": {
     "slide_type": "slide"
    }
   },
   "source": [
    "<div class=\"alert alert-success\">\n",
    "<h3>Activity</h3>\n",
    "\n",
    "What is the **interquartile range** of the `'body_mass_g'` of each `'species'`?\n",
    "    \n",
    "The interquartile range of a distribution is defined as:\n",
    "    \n",
    "$$\\text{75th percentile} - \\text{25th percentile}$$\n",
    "    \n",
    "***Hint***: Use `np.percentile`, and pass `agg`/`aggregate` a custom function."
   ]
  },
  {
   "cell_type": "code",
   "execution_count": null,
   "id": "90a885a9",
   "metadata": {
    "deletable": true,
    "editable": true
   },
   "outputs": [],
   "source": [
    "# Here, the argument to agg is a function,\n",
    "# which takes in a Series and returns a scalar.\n",
    "def iqr(s):\n",
    "    return np.percentile(s, 75) - np.percentile(s, 25)\n",
    "(\n",
    "    penguins\n",
    "    .groupby('species')\n",
    "    ['body_mass_g']\n",
    "    .agg(iqr)\n",
    ")"
   ]
  },
  {
   "cell_type": "markdown",
   "id": "4740f260",
   "metadata": {
    "deletable": true,
    "editable": true,
    "slideshow": {
     "slide_type": "slide"
    }
   },
   "source": [
    "<div class=\"alert alert-warning\">\n",
    "    <h3>Question 🤔 (Answer at <a style=\"text-decoration: none; color: #0066cc\" href=\"https://docs.google.com/forms/d/e/1FAIpQLSd4oliiZYeNh76jWy-arfEtoAkCrVSsobZxPwxifWggo3EO0Q/viewform\">practicaldsc.org/q</a>)</h3>\n",
    "    \n",
    "<small>Remember that you can always ask questions anonymously at the link above!</small>\n",
    "    \n",
    "What questions do you have?"
   ]
  },
  {
   "cell_type": "markdown",
   "id": "a2a15579",
   "metadata": {
    "deletable": true,
    "editable": true,
    "slideshow": {
     "slide_type": "slide"
    }
   },
   "source": [
    "### Split-apply-combine, revisited"
   ]
  },
  {
   "cell_type": "markdown",
   "id": "1dc57d63",
   "metadata": {
    "deletable": true,
    "editable": true,
    "slideshow": {
     "slide_type": "fragment"
    }
   },
   "source": [
    "- When we introduced the split-apply-combine pattern, the \"apply\" step involved **aggregation** – our final DataFrame had one row for each group.\n",
    "\n",
    "<center><img src=\"imgs/image_0.png\" width=40%></center>"
   ]
  },
  {
   "cell_type": "markdown",
   "id": "9f29ae26",
   "metadata": {
    "deletable": true,
    "editable": true,
    "slideshow": {
     "slide_type": "fragment"
    }
   },
   "source": [
    "- Instead of aggregating during the apply step, we could instead perform a **filtration**, in which we keep only the groups that satisfy some condition."
   ]
  },
  {
   "cell_type": "markdown",
   "id": "b0c7661a",
   "metadata": {
    "deletable": true,
    "editable": true,
    "slideshow": {
     "slide_type": "fragment"
    }
   },
   "source": [
    "- Or a **transformation**, in which we perform operations to every value within each group."
   ]
  },
  {
   "cell_type": "markdown",
   "id": "da2f9bf4",
   "metadata": {
    "deletable": true,
    "editable": true,
    "slideshow": {
     "slide_type": "slide"
    }
   },
   "source": [
    "### Grouping, then filtering"
   ]
  },
  {
   "cell_type": "markdown",
   "id": "71954524",
   "metadata": {
    "deletable": true,
    "editable": true,
    "slideshow": {
     "slide_type": "fragment"
    }
   },
   "source": [
    "- To keep only the groups that satisfy a particular condition, use the `filter` method on a `DataFrameGroupBy`/`SeriesGroupBy` object.<br><small>The `filter` method takes in a function, which itself takes in a DataFrame/Series and return a single Boolean. The result is a new DataFrame/Series with only the groups for which the filter function returned `True`.</small>"
   ]
  },
  {
   "cell_type": "markdown",
   "id": "04e27991",
   "metadata": {
    "deletable": true,
    "editable": true,
    "slideshow": {
     "slide_type": "fragment"
    }
   },
   "source": [
    "- For example, suppose we want only the `'species'` whose average `'bill_length_mm'` is above 39."
   ]
  },
  {
   "cell_type": "code",
   "execution_count": null,
   "id": "1bef9849",
   "metadata": {
    "deletable": true,
    "editable": true
   },
   "outputs": [],
   "source": [
    "(\n",
    "    penguins\n",
    "    .groupby('species')\n",
    "    .filter(lambda df: df['bill_length_mm'].mean() > 39)\n",
    ")"
   ]
  },
  {
   "cell_type": "markdown",
   "id": "3b44e70c",
   "metadata": {
    "deletable": true,
    "editable": true,
    "slideshow": {
     "slide_type": "fragment"
    }
   },
   "source": [
    "- No more `'Adelie'`s!"
   ]
  },
  {
   "cell_type": "markdown",
   "id": "01d11153",
   "metadata": {
    "deletable": true,
    "editable": true,
    "slideshow": {
     "slide_type": "slide"
    }
   },
   "source": [
    "<div class=\"alert alert-success\">\n",
    "<h3>Activity</h3>\n",
    "\n",
    "Create a new DataFrame with only the rows in `penguins` for popular `'species'` – that is, `'species'` with at least 100 penguins."
   ]
  },
  {
   "cell_type": "code",
   "execution_count": null,
   "id": "b99e8acb",
   "metadata": {
    "deletable": true,
    "editable": true
   },
   "outputs": [],
   "source": [
    "(\n",
    "    penguins\n",
    "    .groupby('species')\n",
    "    .filter(lambda df: df.shape[0] >= 100)\n",
    ")"
   ]
  },
  {
   "cell_type": "code",
   "execution_count": null,
   "id": "28672b6a",
   "metadata": {
    "deletable": true,
    "editable": true
   },
   "outputs": [],
   "source": [
    "# Note that to just find the 'species' with at least 100 penguins,\n",
    "# we didn't need to group:\n",
    "penguins['species'].value_counts()"
   ]
  },
  {
   "cell_type": "markdown",
   "id": "8e0010b1",
   "metadata": {
    "deletable": true,
    "editable": true,
    "slideshow": {
     "slide_type": "skip"
    }
   },
   "source": [
    "<div class=\"alert alert-danger\" markdown=\"1\">\n",
    "\n",
    "#### Reference Slide\n",
    "\n",
    "### Example: Z-Scoring"
   ]
  },
  {
   "cell_type": "markdown",
   "id": "4e6d4d19",
   "metadata": {
    "deletable": true,
    "editable": true,
    "slideshow": {
     "slide_type": "skip"
    }
   },
   "source": [
    "- Suppose we want to convert the `'body_mass_g'` column to to z-scores (i.e. standard units):\n",
    "\n",
    "$$z(x_i) = \\frac{x_i - \\text{mean of } x}{\\text{SD of } x}$$"
   ]
  },
  {
   "cell_type": "code",
   "execution_count": null,
   "id": "de3d2035",
   "metadata": {
    "deletable": true,
    "editable": true,
    "slideshow": {
     "slide_type": "skip"
    }
   },
   "outputs": [],
   "source": [
    "def z_score(x):\n",
    "    return (x - x.mean()) / x.std(ddof=0)"
   ]
  },
  {
   "cell_type": "code",
   "execution_count": null,
   "id": "6eabee50",
   "metadata": {
    "deletable": true,
    "editable": true,
    "slideshow": {
     "slide_type": "skip"
    }
   },
   "outputs": [],
   "source": [
    "z_score(penguins['body_mass_g'])"
   ]
  },
  {
   "cell_type": "markdown",
   "id": "9bf19f5f",
   "metadata": {
    "deletable": true,
    "editable": true,
    "slideshow": {
     "slide_type": "skip"
    }
   },
   "source": [
    "<div class=\"alert alert-danger\" markdown=\"1\">\n",
    "\n",
    "#### Reference Slide\n",
    "\n",
    "### Grouping, then transforming"
   ]
  },
  {
   "cell_type": "markdown",
   "id": "88a75de4",
   "metadata": {
    "deletable": true,
    "editable": true,
    "slideshow": {
     "slide_type": "skip"
    }
   },
   "source": [
    "- Now, what if we wanted the z-score within each group?"
   ]
  },
  {
   "cell_type": "markdown",
   "id": "c2a56ab7",
   "metadata": {
    "deletable": true,
    "editable": true,
    "slideshow": {
     "slide_type": "skip"
    }
   },
   "source": [
    "- To do so, we can use the `transform` method on a `DataFrameGroupBy` object. The `transform` method takes in a function, which itself takes in a Series and returns a new Series."
   ]
  },
  {
   "cell_type": "markdown",
   "id": "4471a384",
   "metadata": {
    "deletable": true,
    "editable": true,
    "slideshow": {
     "slide_type": "skip"
    }
   },
   "source": [
    "- A transformation produces a DataFrame or Series of the same size – it is **not** an aggregation!"
   ]
  },
  {
   "cell_type": "code",
   "execution_count": null,
   "id": "8c943cfd",
   "metadata": {
    "deletable": true,
    "editable": true,
    "slideshow": {
     "slide_type": "skip"
    }
   },
   "outputs": [],
   "source": [
    "z_mass = (penguins\n",
    "          .groupby('species')\n",
    "          ['body_mass_g']\n",
    "          .transform(z_score))\n",
    "z_mass"
   ]
  },
  {
   "cell_type": "code",
   "execution_count": null,
   "id": "f71fac71",
   "metadata": {
    "deletable": true,
    "editable": true,
    "slideshow": {
     "slide_type": "skip"
    }
   },
   "outputs": [],
   "source": [
    "penguins.assign(z_mass=z_mass)"
   ]
  },
  {
   "cell_type": "code",
   "execution_count": null,
   "id": "deafaeaa",
   "metadata": {
    "deletable": true,
    "editable": true,
    "slideshow": {
     "slide_type": "skip"
    }
   },
   "outputs": [],
   "source": [
    "display_df(penguins.assign(z_mass=z_mass), rows=8)"
   ]
  },
  {
   "cell_type": "markdown",
   "id": "da9fae20",
   "metadata": {
    "deletable": true,
    "editable": true,
    "slideshow": {
     "slide_type": "skip"
    }
   },
   "source": [
    "- Note that above, penguin 340 has a larger `'body_mass_g'` than penguin 0, but a lower `'z_mass'`.\n",
    "    - Penguin 0 has an above average `'body_mass_g'` among `'Adelie'` penguins.\n",
    "    - Penguin 340 has a below average `'body_mass_g'` among `'Gentoo'` penguins. Remember from earlier that the average `'body_mass_g'` of `'Gentoo'` penguins is much higher than for other species."
   ]
  },
  {
   "cell_type": "markdown",
   "id": "9dba0f65",
   "metadata": {
    "deletable": true,
    "editable": true,
    "slideshow": {
     "slide_type": "slide"
    }
   },
   "source": [
    "### Grouping with multiple columns"
   ]
  },
  {
   "cell_type": "markdown",
   "id": "e92faf3a",
   "metadata": {
    "deletable": true,
    "editable": true,
    "slideshow": {
     "slide_type": "fragment"
    }
   },
   "source": [
    "- When we group with multiple columns, one group is created for **every unique combination** of elements in the specified columns.<br><small>In the output below, why are there only 5 rows, rather than $3 \\times 3 = 9$ rows, when there are 3 unique `'species'` and 3 unique `'island'`s?</small>"
   ]
  },
  {
   "cell_type": "code",
   "execution_count": null,
   "id": "cd0d2d87",
   "metadata": {
    "deletable": true,
    "editable": true
   },
   "outputs": [],
   "source": [
    "# Read this as:\n",
    "species_and_island = (\n",
    "    penguins.groupby(['species', 'island'])         # for every combination of 'species' and 'island' in the DataFrame,\n",
    "    [['bill_length_mm', 'bill_depth_mm']].mean()    # calculate the mean 'bill_length_mm' and the mean 'bill_depth_mm'.\n",
    ")\n",
    "species_and_island"
   ]
  },
  {
   "cell_type": "markdown",
   "id": "17dcad4a",
   "metadata": {
    "deletable": true,
    "editable": true,
    "slideshow": {
     "slide_type": "fragment"
    }
   },
   "source": [
    "- When grouping by multiple columns, the resulting DataFrame has a `MultiIndex`."
   ]
  },
  {
   "cell_type": "code",
   "execution_count": null,
   "id": "9be6ae8f",
   "metadata": {
    "deletable": true,
    "editable": true
   },
   "outputs": [],
   "source": [
    "species_and_island['bill_length_mm'] "
   ]
  },
  {
   "cell_type": "code",
   "execution_count": null,
   "id": "ae3def20",
   "metadata": {
    "deletable": true,
    "editable": true
   },
   "outputs": [],
   "source": [
    "species_and_island.loc['Adelie'] "
   ]
  },
  {
   "cell_type": "code",
   "execution_count": null,
   "id": "3131f6de",
   "metadata": {
    "deletable": true,
    "editable": true
   },
   "outputs": [],
   "source": [
    "species_and_island.loc[('Adelie', 'Torgersen')] "
   ]
  },
  {
   "cell_type": "markdown",
   "id": "fa3274ff",
   "metadata": {
    "deletable": true,
    "editable": true,
    "slideshow": {
     "slide_type": "fragment"
    }
   },
   "source": [
    "- **Advice**: When working with a `MultiIndex`, use `reset_index` or set `as_index=False` in `groupby`."
   ]
  },
  {
   "cell_type": "code",
   "execution_count": null,
   "id": "a2807e2c",
   "metadata": {
    "deletable": true,
    "editable": true
   },
   "outputs": [],
   "source": [
    "# Now, this looks like a regular DataFrame!\n",
    "species_and_island.reset_index() "
   ]
  },
  {
   "cell_type": "markdown",
   "id": "1c778537",
   "metadata": {
    "deletable": true,
    "editable": true,
    "slideshow": {
     "slide_type": "slide"
    }
   },
   "source": [
    "<div class=\"alert alert-success\">\n",
    "<h3>Activity</h3>\n",
    "        \n",
    "Find the most popular <code>'Male'</code> and <code>'Female'</code> baby <code>'Name'</code> for each <code>'Year'</code> in <code>baby</code>. <b>Exclude</b> <code>'Year'</code>s where there were fewer than 1 million births recorded.\n",
    "</div>"
   ]
  },
  {
   "cell_type": "code",
   "execution_count": null,
   "id": "a32fbb37",
   "metadata": {
    "deletable": true,
    "editable": true,
    "scrolled": true
   },
   "outputs": [],
   "source": [
    "baby = pd.read_csv('data/baby.csv')\n",
    "baby"
   ]
  },
  {
   "cell_type": "code",
   "execution_count": null,
   "id": "905fe92f",
   "metadata": {
    "deletable": true,
    "editable": true
   },
   "outputs": [],
   "source": [
    "(\n",
    "    baby\n",
    "    .groupby('Year')\n",
    "    .filter(lambda df: df['Count'].sum() >= 1_000_000) # Keeps only the 'Year's with at least 1,000,000 births.\n",
    "    .sort_values('Count', ascending=False)             # Sorts by 'Count' in descending order, so the most popular 'Name's are always at the top.\n",
    "    .groupby(['Year', 'Sex'])                          # Finds the first row for every combination of ('Year', 'Sex').\n",
    "    .first()\n",
    ")"
   ]
  },
  {
   "cell_type": "code",
   "execution_count": null,
   "id": "49b8cbf4",
   "metadata": {
    "deletable": true,
    "editable": true
   },
   "outputs": [],
   "source": []
  },
  {
   "cell_type": "markdown",
   "id": "30eb8687",
   "metadata": {
    "deletable": true,
    "editable": true,
    "slideshow": {
     "slide_type": "slide"
    }
   },
   "source": [
    "## Pivot tables using the `pivot_table` method\n",
    "\n",
    "---"
   ]
  },
  {
   "cell_type": "markdown",
   "id": "910b1ac2",
   "metadata": {
    "deletable": true,
    "editable": true,
    "slideshow": {
     "slide_type": "slide"
    }
   },
   "source": [
    "### Pivot tables: An extension of grouping"
   ]
  },
  {
   "cell_type": "markdown",
   "id": "21e000b8",
   "metadata": {
    "deletable": true,
    "editable": true,
    "slideshow": {
     "slide_type": "fragment"
    }
   },
   "source": [
    "- Pivot tables are a compact way to display tables for humans to read:\n",
    "\n",
    "<table border=\"1\" class=\"dataframe\">\n",
    "  <thead>\n",
    "    <tr style=\"text-align: right;\">\n",
    "      <th>Sex</th>\n",
    "      <th>F</th>\n",
    "      <th>M</th>\n",
    "    </tr>\n",
    "    <tr>\n",
    "      <th>Year</th>\n",
    "      <th></th>\n",
    "      <th></th>\n",
    "    </tr>\n",
    "  </thead>\n",
    "  <tbody>\n",
    "    <tr>\n",
    "      <th>2018</th>\n",
    "      <td>1698373</td>\n",
    "      <td>1813377</td>\n",
    "    </tr>\n",
    "    <tr>\n",
    "      <th>2019</th>\n",
    "      <td>1675139</td>\n",
    "      <td>1790682</td>\n",
    "    </tr>\n",
    "    <tr>\n",
    "      <th>2020</th>\n",
    "      <td>1612393</td>\n",
    "      <td>1721588</td>\n",
    "    </tr>\n",
    "    <tr>\n",
    "      <th>2021</th>\n",
    "      <td>1635800</td>\n",
    "      <td>1743913</td>\n",
    "    </tr>\n",
    "    <tr>\n",
    "      <th>2022</th>\n",
    "      <td>1628730</td>\n",
    "      <td>1733166</td>\n",
    "    </tr>\n",
    "  </tbody>\n",
    "</table>"
   ]
  },
  {
   "cell_type": "markdown",
   "id": "9a4989e9",
   "metadata": {
    "deletable": true,
    "editable": true,
    "slideshow": {
     "slide_type": "fragment"
    }
   },
   "source": [
    "- Notice that each value in the table is a sum of the `'Count'`s, for different combinations of `'Year'` and `'Sex'`."
   ]
  },
  {
   "cell_type": "markdown",
   "id": "b7abd455",
   "metadata": {
    "deletable": true,
    "editable": true,
    "slideshow": {
     "slide_type": "fragment"
    }
   },
   "source": [
    "- **You can think of pivot tables as grouping using two columns, then \"pivoting\" one of the group labels into columns.**"
   ]
  },
  {
   "cell_type": "markdown",
   "id": "4cebf6c6",
   "metadata": {
    "deletable": true,
    "editable": true,
    "slideshow": {
     "slide_type": "slide"
    }
   },
   "source": [
    "### `pivot_table`"
   ]
  },
  {
   "cell_type": "markdown",
   "id": "3a9c3d27",
   "metadata": {
    "deletable": true,
    "editable": true,
    "slideshow": {
     "slide_type": "fragment"
    }
   },
   "source": [
    "- The `pivot_table` DataFrame method aggregates a DataFrame using two columns. To use it:\n",
    "<br><br>\n",
    "```python\n",
    "        df.pivot_table(index=index_col,\n",
    "                       columns=columns_col,\n",
    "                       values=values_col,\n",
    "                       aggfunc=func)\n",
    "```"
   ]
  },
  {
   "cell_type": "markdown",
   "id": "64f99898",
   "metadata": {
    "deletable": true,
    "editable": true,
    "slideshow": {
     "slide_type": "fragment"
    }
   },
   "source": [
    "- The resulting DataFrame will have:\n",
    "    - One row for every unique value in `index_col`.\n",
    "    - One column for every unique value in `columns_col`.\n",
    "    - Values determined by applying `func` on values in `values_col`."
   ]
  },
  {
   "cell_type": "code",
   "execution_count": null,
   "id": "3ff8446f",
   "metadata": {
    "deletable": true,
    "editable": true
   },
   "outputs": [],
   "source": [
    "last_5_years = baby[baby['Year'] >= 2018] \n",
    "last_5_years"
   ]
  },
  {
   "cell_type": "code",
   "execution_count": null,
   "id": "29c784ac",
   "metadata": {
    "deletable": true,
    "editable": true,
    "slideshow": {
     "slide_type": ""
    }
   },
   "outputs": [],
   "source": [
    "last_5_years.pivot_table(\n",
    "    index='Year',\n",
    "    columns='Sex',\n",
    "    values='Count',\n",
    "    aggfunc='sum',\n",
    ")"
   ]
  },
  {
   "cell_type": "code",
   "execution_count": null,
   "id": "abaea41e",
   "metadata": {
    "deletable": true,
    "editable": true
   },
   "outputs": [],
   "source": [
    "# Same information as above, but harder to read!\n",
    "(\n",
    "    last_5_years\n",
    "    .groupby(['Year', 'Sex'])\n",
    "    [['Count']]\n",
    "    .sum()\n",
    ")"
   ]
  },
  {
   "cell_type": "markdown",
   "id": "934fc17e",
   "metadata": {
    "deletable": true,
    "editable": true,
    "slideshow": {
     "slide_type": "slide"
    }
   },
   "source": [
    "### Example: Finding the number of penguins per `'island'` and `'species'`"
   ]
  },
  {
   "cell_type": "markdown",
   "id": "86d4eb90",
   "metadata": {
    "deletable": true,
    "editable": true,
    "slideshow": {
     "slide_type": "fragment"
    }
   },
   "source": [
    "- As a refresher, the `penguins` DataFrame looks like this:"
   ]
  },
  {
   "cell_type": "code",
   "execution_count": null,
   "id": "7ae17dd1",
   "metadata": {
    "deletable": true,
    "editable": true
   },
   "outputs": [],
   "source": [
    "penguins"
   ]
  },
  {
   "cell_type": "markdown",
   "id": "1bf9b6ef",
   "metadata": {
    "deletable": true,
    "editable": true,
    "slideshow": {
     "slide_type": "fragment"
    }
   },
   "source": [
    "- Suppose we want to find the number of penguins in `penguins` per `'island'` and `'species'`. We can do so _without_ `pivot_table`:"
   ]
  },
  {
   "cell_type": "code",
   "execution_count": null,
   "id": "ca0e802e",
   "metadata": {
    "deletable": true,
    "editable": true
   },
   "outputs": [],
   "source": [
    "penguins.value_counts(['island', 'species']) "
   ]
  },
  {
   "cell_type": "code",
   "execution_count": null,
   "id": "b3f3dd6b",
   "metadata": {
    "deletable": true,
    "editable": true
   },
   "outputs": [],
   "source": [
    "penguins.groupby(['island', 'species']).size() "
   ]
  },
  {
   "cell_type": "markdown",
   "id": "92c31f33",
   "metadata": {
    "deletable": true,
    "editable": true,
    "slideshow": {
     "slide_type": "fragment"
    }
   },
   "source": [
    "- But the data is arguably easier to interpret when we do use `pivot_table`:"
   ]
  },
  {
   "cell_type": "code",
   "execution_count": null,
   "id": "d7b1e46b",
   "metadata": {
    "deletable": true,
    "editable": true
   },
   "outputs": [],
   "source": [
    "penguins.pivot_table(\n",
    "    index='species', \n",
    "    columns='island', \n",
    "    values='bill_length_mm', # Choice of column here doesn't actually matter! Why?\n",
    "    aggfunc='count',\n",
    ")"
   ]
  },
  {
   "cell_type": "markdown",
   "id": "87538e4d",
   "metadata": {
    "deletable": true,
    "editable": true,
    "slideshow": {
     "slide_type": "fragment"
    }
   },
   "source": [
    "- Note that there is a `NaN` at the intersection of `'Biscoe'` and `'Chinstrap'`, because there were no Chinstrap penguins on Biscoe Island.<br><small>`NaN` stands for \"not a number.\" It is `numpy` and `pandas`' version of a null value (the regular Python null value is `None`). We'll learn more about how to deal with these soon.</small>"
   ]
  },
  {
   "cell_type": "markdown",
   "id": "ce0921a5",
   "metadata": {
    "deletable": true,
    "editable": true,
    "slideshow": {
     "slide_type": "fragment"
    }
   },
   "source": [
    "- We can either use the `fillna` method afterwards or the `fill_value` argument to fill in `NaN`s."
   ]
  },
  {
   "cell_type": "code",
   "execution_count": null,
   "id": "b85315e4",
   "metadata": {
    "deletable": true,
    "editable": true
   },
   "outputs": [],
   "source": [
    "penguins.pivot_table(\n",
    "    index='species', \n",
    "    columns='island', \n",
    "    values='bill_length_mm', \n",
    "    aggfunc='count',\n",
    "    fill_value=0,\n",
    ")"
   ]
  },
  {
   "cell_type": "markdown",
   "id": "00dc1203",
   "metadata": {
    "deletable": true,
    "editable": true,
    "slideshow": {
     "slide_type": "slide"
    }
   },
   "source": [
    "### Granularity, revisited"
   ]
  },
  {
   "cell_type": "markdown",
   "id": "1a6b21c4",
   "metadata": {
    "deletable": true,
    "editable": true,
    "slideshow": {
     "slide_type": "fragment"
    }
   },
   "source": [
    "- Each row of the original `penguins` DataFrame represented a single penguin, and each column represented features of the penguins."
   ]
  },
  {
   "cell_type": "code",
   "execution_count": null,
   "id": "56acc459",
   "metadata": {
    "deletable": true,
    "editable": true
   },
   "outputs": [],
   "source": [
    "penguins"
   ]
  },
  {
   "cell_type": "markdown",
   "id": "6ff95404",
   "metadata": {
    "deletable": true,
    "editable": true,
    "slideshow": {
     "slide_type": "fragment"
    }
   },
   "source": [
    "- What is the granularity of the DataFrame below?<br><small>That is, what does each row represent?</small>"
   ]
  },
  {
   "cell_type": "code",
   "execution_count": null,
   "id": "a2eccab7",
   "metadata": {
    "deletable": true,
    "editable": true
   },
   "outputs": [],
   "source": [
    "penguins.pivot_table(\n",
    "    index='species', \n",
    "    columns='island', \n",
    "    values='bill_length_mm', \n",
    "    aggfunc='count',\n",
    "    fill_value=0,\n",
    ")"
   ]
  },
  {
   "cell_type": "markdown",
   "id": "e402f7fa",
   "metadata": {
    "deletable": true,
    "editable": true,
    "slideshow": {
     "slide_type": "slide"
    }
   },
   "source": [
    "### Reshaping"
   ]
  },
  {
   "cell_type": "markdown",
   "id": "4d9cbb22",
   "metadata": {
    "deletable": true,
    "editable": true,
    "slideshow": {
     "slide_type": "fragment"
    }
   },
   "source": [
    "- `pivot_table` reshapes DataFrames from \"long\" to \"wide\"."
   ]
  },
  {
   "cell_type": "markdown",
   "id": "85b09a83",
   "metadata": {
    "deletable": true,
    "editable": true,
    "slideshow": {
     "slide_type": "fragment"
    }
   },
   "source": [
    "- Other DataFrame reshaping methods:\n",
    "    - `melt`: Un-pivots a DataFrame. Very useful in data cleaning.\n",
    "    - `pivot`: Like `pivot_table`, but doesn't do aggregation.\n",
    "    - `stack`: Pivots multi-level columns to multi-indices.\n",
    "    - `unstack`: Pivots multi-indices to columns."
   ]
  },
  {
   "cell_type": "markdown",
   "id": "ff92f843",
   "metadata": {
    "deletable": true,
    "editable": true,
    "slideshow": {
     "slide_type": "fragment"
    }
   },
   "source": [
    "- Google, the documentation, and ChatGPT are your friends!"
   ]
  },
  {
   "cell_type": "markdown",
   "id": "29d8abee",
   "metadata": {
    "deletable": true,
    "editable": true,
    "slideshow": {
     "slide_type": "slide"
    }
   },
   "source": [
    "<div class=\"alert alert-warning\">\n",
    "    <h3>Question 🤔 (Answer at <a style=\"text-decoration: none; color: #0066cc\" href=\"https://docs.google.com/forms/d/e/1FAIpQLSd4oliiZYeNh76jWy-arfEtoAkCrVSsobZxPwxifWggo3EO0Q/viewform\">practicaldsc.org/q</a>)</h3>\n",
    "    \n",
    "<small>Remember that you can always ask questions anonymously at the link above!</small>\n",
    "    \n",
    "What questions do you have?"
   ]
  },
  {
   "cell_type": "markdown",
   "id": "4d3901e8",
   "metadata": {
    "deletable": true,
    "editable": true,
    "slideshow": {
     "slide_type": "slide"
    }
   },
   "source": [
    "## Merging\n",
    "\n",
    "---"
   ]
  },
  {
   "cell_type": "code",
   "execution_count": null,
   "id": "a7ca2404",
   "metadata": {
    "deletable": true,
    "editable": true,
    "slideshow": {
     "slide_type": "slide"
    }
   },
   "outputs": [],
   "source": [
    "phones = pd.DataFrame().assign(\n",
    "    Model=['iPhone 16', 'iPhone 16 Pro Max', 'Samsung Galaxy S24 Ultra', 'Pixel 9 Pro'],\n",
    "    Price=[799, 1199, 1299, 999],\n",
    "    Screen=[6.1, 6.9, 6.8, 6.3]\n",
    ")\n",
    "inventory = pd.DataFrame().assign(\n",
    "    Handset=['iPhone 16 Pro Max', 'iPhone 16', 'Pixel 9 Pro', 'Pixel 9 Pro', 'iPhone 16', 'iPhone 15'],\n",
    "    Units=[50, 40, 10, 15, 100, 5],\n",
    "    Store=['Briarwood', 'Somerset', 'Arbor Hills', '12 Oaks', 'Briarwood', 'Oakland Mall']\n",
    ")"
   ]
  },
  {
   "cell_type": "markdown",
   "id": "6bf1ddc8",
   "metadata": {
    "deletable": true,
    "editable": true,
    "slideshow": {
     "slide_type": "slide"
    }
   },
   "source": [
    "### Example: Phone sales 📱"
   ]
  },
  {
   "cell_type": "code",
   "execution_count": null,
   "id": "14510f71",
   "metadata": {
    "deletable": true,
    "editable": true,
    "slideshow": {
     "slide_type": "-"
    }
   },
   "outputs": [],
   "source": [
    "# The DataFrame on the left contains information about phones on the market.\n",
    "# The DataFrame on the right contains information about the stock I have in my stores.\n",
    "dfs_side_by_side(phones, inventory)"
   ]
  },
  {
   "cell_type": "markdown",
   "id": "fc75dec6",
   "metadata": {
    "deletable": true,
    "editable": true,
    "slideshow": {
     "slide_type": "fragment"
    }
   },
   "source": [
    "- **Question**: If I sell all of the phones in my inventory, how much will I make in revenue?"
   ]
  },
  {
   "cell_type": "markdown",
   "id": "44b08e5f",
   "metadata": {
    "deletable": true,
    "editable": true,
    "slideshow": {
     "slide_type": "fragment"
    }
   },
   "source": [
    "- The information I need to answer the question is spread across multiple DataFrames."
   ]
  },
  {
   "cell_type": "markdown",
   "id": "7fb0948a",
   "metadata": {
    "deletable": true,
    "editable": true,
    "slideshow": {
     "slide_type": "fragment"
    }
   },
   "source": [
    "- The solution is to **merge** the two DataFrames together.<br><small>The SQL term for merge is **join**.</small>"
   ]
  },
  {
   "cell_type": "markdown",
   "id": "c966c0aa",
   "metadata": {
    "deletable": true,
    "editable": true,
    "slideshow": {
     "slide_type": "fragment"
    }
   },
   "source": [
    "- A merge is appropriate when we have two sources of information **about the same individuals** that is **linked by a common column(s)**.The common column(s) are called the **join key**.<br>"
   ]
  },
  {
   "cell_type": "markdown",
   "id": "74bc914f",
   "metadata": {
    "deletable": true,
    "editable": true,
    "slideshow": {
     "slide_type": "slide"
    }
   },
   "source": [
    "### If I sell all of the phones in my inventory, how much will I make in revenue?"
   ]
  },
  {
   "cell_type": "code",
   "execution_count": null,
   "id": "1d44827e",
   "metadata": {
    "deletable": true,
    "editable": true
   },
   "outputs": [],
   "source": [
    "combined = phones.merge(inventory, left_on='Model', right_on='Handset') \n",
    "combined"
   ]
  },
  {
   "cell_type": "code",
   "execution_count": null,
   "id": "cde319c8",
   "metadata": {
    "deletable": true,
    "editable": true
   },
   "outputs": [],
   "source": [
    "np.sum(combined['Price'] * combined['Units']) "
   ]
  },
  {
   "cell_type": "markdown",
   "id": "d48683b7",
   "metadata": {
    "deletable": true,
    "editable": true,
    "slideshow": {
     "slide_type": "slide"
    }
   },
   "source": [
    "### What just happened!? 🤯"
   ]
  },
  {
   "cell_type": "code",
   "execution_count": null,
   "id": "05843ace",
   "metadata": {
    "deletable": true,
    "editable": true,
    "scrolled": false
   },
   "outputs": [],
   "source": [
    "# Click through the presentation that appears.\n",
    "show_merging_animation()"
   ]
  },
  {
   "cell_type": "markdown",
   "id": "2e8b8cf0",
   "metadata": {
    "deletable": true,
    "editable": true,
    "slideshow": {
     "slide_type": "slide"
    }
   },
   "source": [
    "### The `merge` method"
   ]
  },
  {
   "cell_type": "markdown",
   "id": "8827a524",
   "metadata": {
    "deletable": true,
    "editable": true,
    "slideshow": {
     "slide_type": "fragment"
    }
   },
   "source": [
    "- The `merge` DataFrame method joins two DataFrames by columns or indexes.<br><small>As mentioned before, \"merge\" is just the `pandas` word for \"join.\"</small>"
   ]
  },
  {
   "cell_type": "markdown",
   "id": "73e069b7",
   "metadata": {
    "deletable": true,
    "editable": true,
    "slideshow": {
     "slide_type": "fragment"
    }
   },
   "source": [
    "- When using the `merge` method, the DataFrame before `merge` is the \"left\" DataFrame, and the DataFrame passed into `merge` is the \"right\" DataFrame.<br><small>In `phones.merge(inventory)`, `phones` is considered the \"left\" DataFrame and `inventory` is the \"right\" DataFrame.<br>The columns from the left DataFrame appear to the left of the columns from right DataFrame.</small>"
   ]
  },
  {
   "cell_type": "markdown",
   "id": "2abe093b",
   "metadata": {
    "deletable": true,
    "editable": true,
    "slideshow": {
     "slide_type": "fragment"
    }
   },
   "source": [
    "- By default:\n",
    "    - If join keys are not specified, all shared columns between the two DataFrames are used.\n",
    "    - The \"type\" of join performed is an inner join, which is just one of many types of joins."
   ]
  },
  {
   "cell_type": "markdown",
   "id": "699f25de",
   "metadata": {
    "deletable": true,
    "editable": true,
    "slideshow": {
     "slide_type": "slide"
    }
   },
   "source": [
    "### Inner joins"
   ]
  },
  {
   "cell_type": "markdown",
   "id": "1831c912",
   "metadata": {
    "deletable": true,
    "editable": true,
    "slideshow": {
     "slide_type": "fragment"
    }
   },
   "source": [
    "- The default type of join that `merge` performs is an **inner join**, which keeps the **intersection** of the join keys.\n",
    "\n",
    "<center><img src='imgs/inner-joins.png' width=300></center>"
   ]
  },
  {
   "cell_type": "code",
   "execution_count": null,
   "id": "fb9a1244",
   "metadata": {
    "deletable": true,
    "editable": true
   },
   "outputs": [],
   "source": [
    "# The DataFrame on the far right is the merged DataFrame.\n",
    "dfs_side_by_side(phones, inventory, phones.merge(inventory, left_on='Model', right_on='Handset'))"
   ]
  },
  {
   "cell_type": "markdown",
   "id": "a3803471",
   "metadata": {
    "deletable": true,
    "editable": true,
    "slideshow": {
     "slide_type": "fragment"
    }
   },
   "source": [
    "- Note that `'Samsung Galaxy S24 Ultra'` and `'iPhone 15'` do not appear in the merged DataFrame."
   ]
  },
  {
   "cell_type": "markdown",
   "id": "7bd52956",
   "metadata": {
    "deletable": true,
    "editable": true,
    "slideshow": {
     "slide_type": "fragment"
    }
   },
   "source": [
    "- That's because there is no `'Samsung Galaxy S24 Ultra'` in the right DataFrame (`inventory`), and no `'iPhone 15'` in the left DataFrame (`phones`)."
   ]
  },
  {
   "cell_type": "markdown",
   "id": "18c935fe",
   "metadata": {
    "deletable": true,
    "editable": true,
    "slideshow": {
     "slide_type": "slide"
    }
   },
   "source": [
    "### Other join types\n",
    "\n",
    "- We can change the type of join performed by changing the `how` argument in `merge`."
   ]
  },
  {
   "cell_type": "code",
   "execution_count": null,
   "id": "f8429d68",
   "metadata": {
    "deletable": true,
    "editable": true
   },
   "outputs": [],
   "source": [
    "phones.merge(inventory, left_on='Model', right_on='Handset', how='left')"
   ]
  },
  {
   "cell_type": "code",
   "execution_count": null,
   "id": "67b1e91e",
   "metadata": {
    "deletable": true,
    "editable": true
   },
   "outputs": [],
   "source": [
    "phones.merge(inventory, left_on='Model', right_on='Handset', how='right')"
   ]
  },
  {
   "cell_type": "code",
   "execution_count": null,
   "id": "4049623e",
   "metadata": {
    "deletable": true,
    "editable": true
   },
   "outputs": [],
   "source": [
    "phones.merge(inventory, left_on='Model', right_on='Handset', how='outer')"
   ]
  },
  {
   "cell_type": "markdown",
   "id": "65200da3",
   "metadata": {
    "deletable": true,
    "editable": true,
    "slideshow": {
     "slide_type": "fragment"
    }
   },
   "source": [
    "- The website [pandastutor.com](https://pandastutor.com) can help visualize DataFrame operations like these. [**Here's a direct link**](https://pandastutor.com/vis.html#code=%23%20The%20code%20below%20just%20initializes%20the%0A%23%20phones%20and%20inventory%20DataFrames%20as%20we've%20seen%20them%0A%23%20in%20lecture.%0A%23%20---%0Aimport%20pandas%20as%20pd%0Aimport%20io%0A%0Aphones%20%3D%20pd.read_csv%28io.StringIO%28'''%0AModel,Price,Screen%0AiPhone%2016,799,6.1%0AiPhone%2016%20Pro%20Max,1199,6.9%0ASamsung%20Galaxy%20S24%20Ultra,1299,6.8%0APixel%209%20Pro,999,6.3%0A'''%29%29%0A%0Ainventory%20%3D%20pd.read_csv%28io.StringIO%28'''%0AHandset,Units,Store%0AiPhone%2016%20Pro%20Max,50,Briarwood%0AiPhone%2016,40,Somerset%0APixel%209%20Pro,10,Arbor%20Hills%0APixel%209%20Pro,15,12%20Oaks%0AiPhone%2016,100,Briarwood%0AiPhone%2015,5,Oakland%20Mall%0A'''%29%29%0A%0A%23%20---%0A%0A%23%20Below,%20uncomment%20the%20line%20that%20you'd%20like%20to%20visualize!%0A%23%20phones.merge%28inventory,%20left_on%3D'Model',%20right_on%3D'Handset',%20how%3D'inner'%29%0A%0Aphones.merge%28inventory,%20left_on%3D'Model',%20right_on%3D'Handset',%20how%3D'left'%29%0A%0A%23%20phones.merge%28inventory,%20left_on%3D'Model',%20right_on%3D'Handset',%20how%3D'right'%29%0A%0A%23%20phones.merge%28inventory,%20left_on%3D'Model',%20right_on%3D'Handset',%20how%3D'outer'%29&d=2024-09-11&lang=py&v=v1) to this specific example.\n",
    "\n",
    "<center><img src=\"imgs/pt-screenshot.png\" width=800></center>"
   ]
  },
  {
   "cell_type": "markdown",
   "id": "10520b73",
   "metadata": {
    "deletable": true,
    "editable": true,
    "slideshow": {
     "slide_type": "slide"
    }
   },
   "source": [
    "### Different join types handle mismatches differently\n",
    "\n",
    "<center><img src='imgs/all-joins.png' width=400></center>"
   ]
  },
  {
   "cell_type": "markdown",
   "id": "329ce87c",
   "metadata": {
    "deletable": true,
    "editable": true,
    "slideshow": {
     "slide_type": "fragment"
    }
   },
   "source": [
    "- **Inner join**: Keep **only** the matching keys (intersection)."
   ]
  },
  {
   "cell_type": "markdown",
   "id": "1aecaea3",
   "metadata": {
    "deletable": true,
    "editable": true,
    "slideshow": {
     "slide_type": "fragment"
    }
   },
   "source": [
    "- **Outer join**: Keep **all** keys in both DataFrames (union)."
   ]
  },
  {
   "cell_type": "markdown",
   "id": "f7dbf3d2",
   "metadata": {
    "deletable": true,
    "editable": true,
    "slideshow": {
     "slide_type": "fragment"
    }
   },
   "source": [
    "- **Left join**: Keep all keys in the left DataFrame, whether or not they are in the right DataFrame."
   ]
  },
  {
   "cell_type": "markdown",
   "id": "5619e937",
   "metadata": {
    "deletable": true,
    "editable": true,
    "slideshow": {
     "slide_type": "fragment"
    }
   },
   "source": [
    "- **Right join**: Keep all keys in the right DataFrame, whether or not they are in the left DataFrame.<br><small> Note that `a.merge(b, how='left')` contains the same information as `b.merge(a, how='right')`, just in a different order.</small>"
   ]
  },
  {
   "cell_type": "markdown",
   "id": "b011847c",
   "metadata": {
    "deletable": true,
    "editable": true,
    "slideshow": {
     "slide_type": "skip"
    }
   },
   "source": [
    "<div class=\"alert alert-danger\" markdown=\"1\">\n",
    "\n",
    "#### Reference Slide\n",
    "\n",
    "### Notes on the `merge` method"
   ]
  },
  {
   "cell_type": "markdown",
   "id": "f1515f74",
   "metadata": {
    "deletable": true,
    "editable": true,
    "slideshow": {
     "slide_type": "skip"
    }
   },
   "source": [
    "- `merge` is flexible – you can merge using a combination of columns, or the index of the DataFrame."
   ]
  },
  {
   "cell_type": "markdown",
   "id": "8173349a",
   "metadata": {
    "deletable": true,
    "editable": true,
    "slideshow": {
     "slide_type": "skip"
    }
   },
   "source": [
    "-  If the two DataFrames have the same column names, `pandas` will add `_x` and `_y` to the duplicated column names to avoid having columns with the same name (change these the `suffixes` argument)."
   ]
  },
  {
   "cell_type": "markdown",
   "id": "14af05d9",
   "metadata": {
    "deletable": true,
    "editable": true,
    "slideshow": {
     "slide_type": "skip"
    }
   },
   "source": [
    "- There is, in fact, a `join` method, but it's actually a wrapper around `merge` with fewer options."
   ]
  },
  {
   "cell_type": "markdown",
   "id": "c3b8b9bd",
   "metadata": {
    "deletable": true,
    "editable": true,
    "slideshow": {
     "slide_type": "skip"
    }
   },
   "source": [
    "- **As always, the [documentation](https://pandas.pydata.org/docs/reference/api/pandas.DataFrame.merge.html) is your friend!**"
   ]
  },
  {
   "cell_type": "markdown",
   "id": "d90eee62",
   "metadata": {
    "deletable": true,
    "editable": true,
    "slideshow": {
     "slide_type": "skip"
    }
   },
   "source": [
    "<div class=\"alert alert-danger\" markdown=\"1\">\n",
    "\n",
    "#### Reference Slide\n",
    "\n",
    "### Lots of `pandas` operations do an implicit outer join!"
   ]
  },
  {
   "cell_type": "markdown",
   "id": "0735a03d",
   "metadata": {
    "deletable": true,
    "editable": true,
    "slideshow": {
     "slide_type": "skip"
    }
   },
   "source": [
    "- `pandas` will almost always try to match up index values using an outer join."
   ]
  },
  {
   "cell_type": "markdown",
   "id": "a5bfce19",
   "metadata": {
    "deletable": true,
    "editable": true,
    "slideshow": {
     "slide_type": "skip"
    }
   },
   "source": [
    "- It won't tell you that it's doing an outer join, it'll just throw `NaN`s in your result!"
   ]
  },
  {
   "cell_type": "code",
   "execution_count": null,
   "id": "323b02b1",
   "metadata": {
    "deletable": true,
    "editable": true,
    "slideshow": {
     "slide_type": "skip"
    }
   },
   "outputs": [],
   "source": [
    "df1 = pd.DataFrame({'a': [1, 2, 3]}, index=['hello', 'eecs398', 'students'])\n",
    "df2 = pd.DataFrame({'b': [10, 20, 30]}, index=['eecs398', 'is', 'awesome'])\n",
    "dfs_side_by_side(df1, df2)"
   ]
  },
  {
   "cell_type": "code",
   "execution_count": null,
   "id": "607e7594",
   "metadata": {
    "deletable": true,
    "editable": true,
    "slideshow": {
     "slide_type": "skip"
    }
   },
   "outputs": [],
   "source": [
    "df1['a'] + df2['b']"
   ]
  },
  {
   "cell_type": "markdown",
   "id": "3f55fe35",
   "metadata": {
    "deletable": true,
    "editable": true,
    "slideshow": {
     "slide_type": "slide"
    }
   },
   "source": [
    "### Activity setup"
   ]
  },
  {
   "cell_type": "code",
   "execution_count": null,
   "id": "5b09c02e",
   "metadata": {
    "deletable": true,
    "editable": true
   },
   "outputs": [],
   "source": [
    "midwest_cities = pd.DataFrame().assign(\n",
    "    city=['Ann Arbor', 'Detroit', 'Chicago', 'East Lansing'],\n",
    "    state=['Michigan', 'Michigan', 'Illinois', 'Michigan'],\n",
    "    today_high_temp=['79', '83', '87', '87']\n",
    ")\n",
    "schools = pd.DataFrame().assign(\n",
    "    name=['University of Michigan', 'University of Chicago', 'Wayne State University', 'Johns Hopkins University', 'UC San Diego', 'Concordia U-Ann Arbor', 'Michigan State University'], \n",
    "    city=['Ann Arbor', 'Chicago', 'Detroit', 'Baltimore', 'La Jolla', 'Ann Arbor', 'East Lansing'],\n",
    "    state=['Michigan', 'Illinois', 'Michigan', 'Maryland', 'California', 'Michigan', 'Michigan'],\n",
    "    graduation_rate=[0.87, 0.94, 0.78, 0.92, 0.81, 0.83, 0.91]\n",
    ")"
   ]
  },
  {
   "cell_type": "markdown",
   "id": "9f3c0c92",
   "metadata": {
    "deletable": true,
    "editable": true,
    "slideshow": {
     "slide_type": "slide"
    }
   },
   "source": [
    "<div class=\"alert alert-warning\">\n",
    "    <h3>Question 🤔 (Answer at <a style=\"text-decoration: none; color: #0066cc\" href=\"https://docs.google.com/forms/d/e/1FAIpQLSd4oliiZYeNh76jWy-arfEtoAkCrVSsobZxPwxifWggo3EO0Q/viewform\">practicaldsc.org/q</a>)</h3>\n",
    "    \n",
    "<small>Remember that you can always ask questions anonymously at the link above!</small>\n",
    "\n",
    "**Without writing code**, how many rows are in `midwest_cities.merge(schools, on='city')`?\n",
    "\n",
    "<br>\n",
    "    \n",
    "<center>\n",
    "A. <b>4</b> &nbsp;&nbsp;&nbsp;&nbsp;&nbsp;&nbsp;&nbsp;&nbsp;    B. <b>5</b> &nbsp;&nbsp;&nbsp;&nbsp;&nbsp;&nbsp;&nbsp;&nbsp;    C. <b>6</b> &nbsp;&nbsp;&nbsp;&nbsp;&nbsp;&nbsp;&nbsp;&nbsp;    D. <b>7</b> &nbsp;&nbsp;&nbsp;&nbsp;&nbsp;&nbsp;&nbsp;&nbsp;    E. <b>8</b></center>"
   ]
  },
  {
   "cell_type": "code",
   "execution_count": null,
   "id": "19159425",
   "metadata": {
    "deletable": true,
    "editable": true
   },
   "outputs": [],
   "source": [
    "dfs_side_by_side(midwest_cities, schools)"
   ]
  },
  {
   "cell_type": "code",
   "execution_count": null,
   "id": "14aa336c",
   "metadata": {
    "deletable": true,
    "editable": true
   },
   "outputs": [],
   "source": [
    "# Answer: 5.\n",
    "midwest_cities.merge(schools, on='city')"
   ]
  },
  {
   "cell_type": "code",
   "execution_count": null,
   "id": "6d1f3470",
   "metadata": {
    "deletable": true,
    "editable": true
   },
   "outputs": [],
   "source": []
  },
  {
   "cell_type": "markdown",
   "id": "c66d690d",
   "metadata": {
    "deletable": true,
    "editable": true,
    "slideshow": {
     "slide_type": "slide"
    }
   },
   "source": [
    "### Followup activity\n",
    "\n",
    "**Without writing code**, how many rows are in `midwest_cities.merge(schools, on='state')`?"
   ]
  },
  {
   "cell_type": "code",
   "execution_count": null,
   "id": "66e1f253",
   "metadata": {
    "deletable": true,
    "editable": true
   },
   "outputs": [],
   "source": [
    "dfs_side_by_side(midwest_cities, schools)"
   ]
  },
  {
   "cell_type": "code",
   "execution_count": null,
   "id": "1442722e",
   "metadata": {
    "deletable": true,
    "editable": true
   },
   "outputs": [],
   "source": [
    "# Answer: 13.\n",
    "midwest_cities.merge(schools, on='state')"
   ]
  },
  {
   "cell_type": "code",
   "execution_count": null,
   "id": "019e1c7d",
   "metadata": {
    "deletable": true,
    "editable": true
   },
   "outputs": [],
   "source": []
  },
  {
   "cell_type": "markdown",
   "id": "3b2ca53b",
   "metadata": {
    "deletable": true,
    "editable": true,
    "slideshow": {
     "slide_type": "slide"
    }
   },
   "source": [
    "<div class=\"alert alert-success\">\n",
    "<h3>Activity</h3>\n",
    "        \n",
    "Fill in the blank so that the last statement evaluates to `True`.\n",
    "\n",
    "```python\n",
    "df = midwest_cities.merge(schools, on='state')\n",
    "df.shape[0] == (____).sum()\n",
    "```\n",
    "\n",
    "**Don't** use `merge` (or `join`) in your solution!\n"
   ]
  },
  {
   "cell_type": "code",
   "execution_count": null,
   "id": "ff9cb402",
   "metadata": {
    "deletable": true,
    "editable": true
   },
   "outputs": [],
   "source": [
    "midwest_cities['state'].value_counts()"
   ]
  },
  {
   "cell_type": "code",
   "execution_count": null,
   "id": "899a4294",
   "metadata": {
    "deletable": true,
    "editable": true
   },
   "outputs": [],
   "source": [
    "schools['state'].value_counts()"
   ]
  },
  {
   "cell_type": "code",
   "execution_count": null,
   "id": "698b7801",
   "metadata": {
    "deletable": true,
    "editable": true
   },
   "outputs": [],
   "source": [
    "# When we multiply the above two Series,\n",
    "# the product is done by matching up the index.\n",
    "midwest_cities['state'].value_counts() * schools['state'].value_counts()"
   ]
  },
  {
   "cell_type": "code",
   "execution_count": null,
   "id": "b5ddf401",
   "metadata": {
    "deletable": true,
    "editable": true
   },
   "outputs": [],
   "source": [
    "# When we sum the resulting Series, the missing values are ignored.\n",
    "# The expression below evaluates to 13, which is the answer to the previous slide's question.\n",
    "(midwest_cities['state'].value_counts() * schools['state'].value_counts()).sum()"
   ]
  },
  {
   "cell_type": "code",
   "execution_count": null,
   "id": "81cc2738",
   "metadata": {
    "deletable": true,
    "editable": true
   },
   "outputs": [],
   "source": []
  },
  {
   "cell_type": "markdown",
   "id": "ba1ca1c9",
   "metadata": {
    "deletable": true,
    "editable": true,
    "slideshow": {
     "slide_type": "slide"
    }
   },
   "source": [
    "### What's next?"
   ]
  },
  {
   "cell_type": "markdown",
   "id": "2004e9a0",
   "metadata": {
    "deletable": true,
    "editable": true,
    "slideshow": {
     "slide_type": "fragment"
    }
   },
   "source": [
    "- How do we decide which type of visualization to create?"
   ]
  },
  {
   "cell_type": "markdown",
   "id": "02df4e15",
   "metadata": {
    "deletable": true,
    "editable": true,
    "slideshow": {
     "slide_type": "fragment"
    }
   },
   "source": [
    "- How do we deal with missing values?"
   ]
  },
  {
   "cell_type": "markdown",
   "id": "e942ec5e",
   "metadata": {
    "deletable": true,
    "editable": true,
    "slideshow": {
     "slide_type": "skip"
    }
   },
   "source": [
    "<div class=\"alert alert-danger\" markdown=\"1\">\n",
    "\n",
    "#### Reference Section\n",
    "\n",
    "## Another example\n",
    "\n",
    "The rest of the notebook contains an additional example of how `merge` can be used to solve larger problems. It's a good idea to walk through it as if it's an exercise. Try to fill in the missing code here, and look at the posted HTML on the course website (or `lec06-filled.ipynb`) for solutions.\n",
    "\n",
    "---"
   ]
  },
  {
   "cell_type": "markdown",
   "id": "1f425caf",
   "metadata": {
    "deletable": true,
    "editable": true,
    "slideshow": {
     "slide_type": "skip"
    }
   },
   "source": [
    "### Name categories"
   ]
  },
  {
   "cell_type": "markdown",
   "id": "50de6d00",
   "metadata": {
    "deletable": true,
    "editable": true,
    "slideshow": {
     "slide_type": "skip"
    }
   },
   "source": [
    "- This [New York Times article](https://archive.is/NpORG) claims that certain categories of names are becoming more popular. For example:\n",
    "\n",
    "    - Forbidden names like Lucifer, Lilith, Kali, and Danger.\n",
    "\n",
    "    - Evangelical names like Amen, Savior, Canaan, and Creed.\n",
    "\n",
    "    - Mythological names.\n",
    "\n",
    "    - It also claims that baby boomer names are becoming less popular."
   ]
  },
  {
   "cell_type": "markdown",
   "id": "b25cfb85",
   "metadata": {
    "deletable": true,
    "editable": true,
    "slideshow": {
     "slide_type": "skip"
    }
   },
   "source": [
    "- Let's see if we can verify these claims using data!"
   ]
  },
  {
   "cell_type": "markdown",
   "id": "fab23023",
   "metadata": {
    "deletable": true,
    "editable": true,
    "slideshow": {
     "slide_type": "skip"
    }
   },
   "source": [
    "### Loading in the data"
   ]
  },
  {
   "cell_type": "markdown",
   "id": "4644eafc",
   "metadata": {
    "deletable": true,
    "editable": true,
    "slideshow": {
     "slide_type": "skip"
    }
   },
   "source": [
    "- Our first DataFrame, `baby`, is the same as we saw earlier in the lecture. It has one row for every combination of `'Name'`, `'Sex'`, and `'Year'`."
   ]
  },
  {
   "cell_type": "code",
   "execution_count": null,
   "id": "4c2fe041",
   "metadata": {
    "deletable": true,
    "editable": true,
    "slideshow": {
     "slide_type": "skip"
    }
   },
   "outputs": [],
   "source": [
    "baby"
   ]
  },
  {
   "cell_type": "markdown",
   "id": "147a0253",
   "metadata": {
    "deletable": true,
    "editable": true,
    "slideshow": {
     "slide_type": "skip"
    }
   },
   "source": [
    "- Our second DataFrame, `nyt`, contains the New York Times' categorization of each of several names, based on the aforementioned article."
   ]
  },
  {
   "cell_type": "code",
   "execution_count": null,
   "id": "31711dfc",
   "metadata": {
    "deletable": true,
    "editable": true,
    "slideshow": {
     "slide_type": "skip"
    }
   },
   "outputs": [],
   "source": [
    "nyt = pd.read_csv('data/nyt_names.csv')\n",
    "nyt"
   ]
  },
  {
   "cell_type": "markdown",
   "id": "51c7d41c",
   "metadata": {
    "deletable": true,
    "editable": true,
    "slideshow": {
     "slide_type": "skip"
    }
   },
   "source": [
    "- **Issue**: To find the number of babies born with (for example) forbidden names each year, we need to combine information from both `baby` and `nyt`."
   ]
  },
  {
   "cell_type": "markdown",
   "id": "ad013a08",
   "metadata": {
    "deletable": true,
    "editable": true,
    "slideshow": {
     "slide_type": "skip"
    }
   },
   "source": [
    "- **Solution**: `merge` the two DataFrames!"
   ]
  },
  {
   "cell_type": "markdown",
   "id": "2e806484",
   "metadata": {
    "deletable": true,
    "editable": true,
    "slideshow": {
     "slide_type": "skip"
    }
   },
   "source": [
    "### Returning back to our original question\n",
    "\n",
    "**Your Job**: Assign `category_counts` to a DataFrame that contains one row for every combination of `'category'` in `nyt` and `'Year'` in `baby`. It should have three columns: `'category'`, `'Year'`, and `'Count'`, where `'Count'` contains the total number of babies born with that name `'category'` in that `'Year'`. The first few rows of the DataFrame you're meant to create are given below."
   ]
  },
  {
   "cell_type": "code",
   "execution_count": null,
   "id": "54faf603",
   "metadata": {
    "deletable": true,
    "editable": true,
    "slideshow": {
     "slide_type": "skip"
    }
   },
   "outputs": [],
   "source": [
    "category_counts = ...\n",
    "category_counts = (\n",
    "    baby\n",
    "    .merge(nyt, left_on='Name', right_on='nyt_name')\n",
    "    .groupby(['category', 'Year'])\n",
    "    ['Count']\n",
    "    .sum()\n",
    "    .reset_index()\n",
    ")\n",
    "category_counts"
   ]
  },
  {
   "cell_type": "markdown",
   "id": "bf8294f8",
   "metadata": {
    "deletable": true,
    "editable": true,
    "slideshow": {
     "slide_type": "skip"
    }
   },
   "source": [
    "Once you've done that, run the cell below!"
   ]
  },
  {
   "cell_type": "code",
   "execution_count": null,
   "id": "39ada4f6",
   "metadata": {
    "deletable": true,
    "editable": true,
    "slideshow": {
     "slide_type": "skip"
    }
   },
   "outputs": [],
   "source": [
    "# We'll talk about plotting code soon!\n",
    "import plotly.express as px\n",
    "fig = px.line(category_counts, x='Year', y='Count',\n",
    "              facet_col='category', facet_col_wrap=3,\n",
    "              facet_row_spacing=0.15,\n",
    "              width=600, height=400)\n",
    "fig.update_yaxes(matches=None, showticklabels=False)"
   ]
  }
 ],
 "metadata": {
  "celltoolbar": "None",
  "kernelspec": {
   "display_name": "Python 3 (ipykernel)",
   "language": "python",
   "name": "python3"
  },
  "language_info": {
   "codemirror_mode": {
    "name": "ipython",
    "version": 3
   },
   "file_extension": ".py",
   "mimetype": "text/x-python",
   "name": "python",
   "nbconvert_exporter": "python",
   "pygments_lexer": "ipython3",
   "version": "3.10.14"
  },
  "livereveal": {
   "scroll": true
  },
  "rise": {
   "transition": "none"
  }
 },
 "nbformat": 4,
 "nbformat_minor": 5
}
