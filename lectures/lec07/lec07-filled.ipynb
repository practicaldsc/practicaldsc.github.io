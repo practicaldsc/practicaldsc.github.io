{
 "cells": [
  {
   "cell_type": "code",
   "execution_count": null,
   "id": "33d945bc",
   "metadata": {
    "deletable": true,
    "editable": true,
    "slideshow": {
     "slide_type": "skip"
    },
    "tags": []
   },
   "outputs": [],
   "source": [
    "from lec_utils import *"
   ]
  },
  {
   "cell_type": "markdown",
   "id": "3b2315bf",
   "metadata": {
    "deletable": true,
    "editable": true,
    "slideshow": {
     "slide_type": "slide"
    },
    "tags": []
   },
   "source": [
    "<div class=\"alert alert-info\" markdown=\"1\">\n",
    "\n",
    "#### Lecture 7\n",
    "\n",
    "# Exploratory Data Analysis, Data Cleaning, and Visualization\n",
    "\n",
    "### EECS 398-003: Practical Data Science, Fall 2024\n",
    "\n",
    "<small><a style=\"text-decoration: none\" href=\"https://practicaldsc.org\">practicaldsc.org</a> • <a style=\"text-decoration: none\" href=\"https://github.com/practicaldsc/fa24\">github.com/practicaldsc/fa24</a></small>\n",
    "    \n",
    "</div>"
   ]
  },
  {
   "cell_type": "markdown",
   "id": "481a23a3",
   "metadata": {
    "deletable": true,
    "editable": true,
    "slideshow": {
     "slide_type": "slide"
    }
   },
   "source": [
    "### Announcements 📣\n",
    "\n",
    "- Homework 3 is due on **Thursday**. See [**this post on Ed**](https://edstem.org/us/courses/61012/discussion/5274722) for an important clarification.\n",
    "- We've slightly adjusted the Office Hours schedule – [**take a look**](https://practicaldsc.org/calendar), and please come by.<br><small>I have office hours after lecture on both Tuesday and Thursday now!</small>\n",
    "\n",
    "- [**study.practicaldsc.org**](https://study.practicaldsc.org) contains our discussion worksheets (and solutions), which are made up of old exam problems. Use these problems to build your theoretical understanding of the material!"
   ]
  },
  {
   "cell_type": "markdown",
   "id": "c1e2a1d0",
   "metadata": {
    "deletable": true,
    "editable": true,
    "slideshow": {
     "slide_type": "slide"
    }
   },
   "source": [
    "### Agenda\n",
    "\n",
    "- Merging practice problem.\n",
    "- Exploratory data analysis.\n",
    "- Data cleaning.\n",
    "- Visualization."
   ]
  },
  {
   "cell_type": "markdown",
   "id": "22c47037",
   "metadata": {
    "deletable": true,
    "editable": true,
    "slideshow": {
     "slide_type": "slide"
    }
   },
   "source": [
    "<div class=\"alert alert-warning\">\n",
    "    <h3>Question 🤔 (Answer at <a style=\"text-decoration: none; color: #0066cc\" href=\"https://docs.google.com/forms/d/e/1FAIpQLSd4oliiZYeNh76jWy-arfEtoAkCrVSsobZxPwxifWggo3EO0Q/viewform\">practicaldsc.org/q</a>)</h3>\n",
    "    \n",
    "<small>Remember that you can always ask questions anonymously at the link above!</small>\n",
    "    \n",
    "Consider the DataFrames `div_one` (left) and `coach` (right), shown below.\n",
    "    \n",
    "<center><img src=\"imgs/merges.png\" width=800></center>\n",
    "    \n",
    "What should we fill the blank in the `'Region'` column of `coach` so that the DataFrame `div_one.merge(coach, on='Region')` has 9 rows?\n",
    "- A. `'South'`.\n",
    "- B. `'West'`.\n",
    "- C. `'East'`.\n",
    "- D. `'Midwest'`."
   ]
  },
  {
   "cell_type": "markdown",
   "id": "27c518aa",
   "metadata": {
    "deletable": true,
    "editable": true,
    "slideshow": {
     "slide_type": "slide"
    }
   },
   "source": [
    "**After you've voted**, try it out yourself below.<br><small>ChatGPT doesn't even know the right answer – try asking it!</small>"
   ]
  },
  {
   "cell_type": "code",
   "execution_count": null,
   "id": "234e7212",
   "metadata": {
    "deletable": true,
    "editable": true
   },
   "outputs": [],
   "source": [
    "div_one = pd.DataFrame().assign(\n",
    "    Team=['Triton Circus', 'Wolverines', 'Golden Bears', 'Sooners', 'Patriots', 'Bruins'],\n",
    "    Region=['Midwest', 'Midwest', 'East', 'Midwest', 'West', 'West']\n",
    ")\n",
    "coach = pd.DataFrame().assign(\n",
    "    Team=['Triton Circus', 'Wolverines', 'Golden Bears', 'Sooners', 'Patriots', 'Bruins'],\n",
    "    Coach=['Coach Jason', 'Coach Jack', 'Coach Jason', 'Coach Ashley', 'Coach Nick', 'Coach Zoe'],\n",
    "    Region=['____', 'Midwest', 'Midwest', 'East', 'East', 'South'] # Test this out once you've guessed!\n",
    ")\n",
    "# div_one.merge(coach, on='Region').shape[0]"
   ]
  },
  {
   "cell_type": "code",
   "execution_count": null,
   "id": "97e2a53b",
   "metadata": {
    "deletable": true,
    "editable": true
   },
   "outputs": [],
   "source": []
  },
  {
   "cell_type": "code",
   "execution_count": null,
   "id": "a1b8c800",
   "metadata": {
    "deletable": true,
    "editable": true
   },
   "outputs": [],
   "source": []
  },
  {
   "cell_type": "markdown",
   "id": "f3b0eced",
   "metadata": {
    "deletable": true,
    "editable": true,
    "slideshow": {
     "slide_type": "slide"
    }
   },
   "source": [
    "## Exploratory data analysis\n",
    "\n",
    "---"
   ]
  },
  {
   "cell_type": "markdown",
   "id": "c552f088",
   "metadata": {
    "deletable": true,
    "editable": true,
    "slideshow": {
     "slide_type": "slide"
    }
   },
   "source": [
    "### Dataset overview"
   ]
  },
  {
   "cell_type": "markdown",
   "id": "304ccbb9",
   "metadata": {
    "deletable": true,
    "editable": true,
    "slideshow": {
     "slide_type": "fragment"
    }
   },
   "source": [
    "- [LendingClub](https://www.lendingclub.com/) is a platform that allows individuals to borrow money – that is, take on **loans**.\n"
   ]
  },
  {
   "cell_type": "markdown",
   "id": "a8da5fde",
   "metadata": {
    "deletable": true,
    "editable": true,
    "slideshow": {
     "slide_type": "fragment"
    }
   },
   "source": [
    "- Each row of the dataset corresponds to a different loan that the LendingClub approved and paid out.<br><small>The full dataset is over 300 MB, so we've sampled a subset for this lecture.</small>"
   ]
  },
  {
   "cell_type": "code",
   "execution_count": null,
   "id": "d3f3ad08",
   "metadata": {
    "deletable": true,
    "editable": true
   },
   "outputs": [],
   "source": [
    "loans = pd.read_csv('data/loans.csv')"
   ]
  },
  {
   "cell_type": "code",
   "execution_count": null,
   "id": "02c12ca1",
   "metadata": {
    "deletable": true,
    "editable": true
   },
   "outputs": [],
   "source": [
    "# Each time you run this cell, you'll see a different random subset of the DataFrame.\n",
    "loans.sample(5)"
   ]
  },
  {
   "cell_type": "code",
   "execution_count": null,
   "id": "f4226b9c",
   "metadata": {
    "deletable": true,
    "editable": true
   },
   "outputs": [],
   "source": [
    "# When a DataFrame has more columns than you can see in its preview,\n",
    "# it's a good idea to check the names of all columns.\n",
    "loans.columns"
   ]
  },
  {
   "cell_type": "markdown",
   "id": "62db33c2",
   "metadata": {
    "deletable": true,
    "editable": true,
    "slideshow": {
     "slide_type": "fragment"
    }
   },
   "source": [
    "- Not all of the columns are necessarily interesting, but here are some that might be:\n",
    "<br><small>FICO scores refer to credit scores.</small>"
   ]
  },
  {
   "cell_type": "code",
   "execution_count": null,
   "id": "d24d20a0",
   "metadata": {
    "deletable": true,
    "editable": true
   },
   "outputs": [],
   "source": [
    "# Again, run this a few times to get a sense of the typical values.\n",
    "loans[['loan_amnt', 'issue_d', 'term', 'int_rate', 'emp_title', 'fico_range_low']].sample(5)"
   ]
  },
  {
   "cell_type": "markdown",
   "id": "9bb9de8c",
   "metadata": {
    "deletable": true,
    "editable": true,
    "slideshow": {
     "slide_type": "slide"
    }
   },
   "source": [
    "### Lender decision-making"
   ]
  },
  {
   "cell_type": "markdown",
   "id": "17425a76",
   "metadata": {
    "deletable": true,
    "editable": true,
    "slideshow": {
     "slide_type": "fragment"
    }
   },
   "source": [
    "- Larger interest rates make the loan more expensive for the borrower – as a borrower, you want a lower interest rate!"
   ]
  },
  {
   "cell_type": "markdown",
   "id": "41119a35",
   "metadata": {
    "deletable": true,
    "editable": true,
    "slideshow": {
     "slide_type": "fragment"
    }
   },
   "source": [
    "- Even for the same loan amount, different borrowers were approved for different terms and interest rates:"
   ]
  },
  {
   "cell_type": "code",
   "execution_count": null,
   "id": "c1f948b5",
   "metadata": {
    "deletable": true,
    "editable": true
   },
   "outputs": [],
   "source": [
    "display_df(loans.loc[loans['loan_amnt'] == 3600, ['loan_amnt', 'term', 'int_rate']], rows=17)"
   ]
  },
  {
   "cell_type": "markdown",
   "id": "abb86df9",
   "metadata": {
    "deletable": true,
    "editable": true,
    "slideshow": {
     "slide_type": "fragment"
    }
   },
   "source": [
    "- **Why do different borrowers receive different terms and interest rates?**"
   ]
  },
  {
   "cell_type": "markdown",
   "id": "98b2c73a",
   "metadata": {
    "deletable": true,
    "editable": true,
    "slideshow": {
     "slide_type": "slide"
    }
   },
   "source": [
    "### Exploratory data analysis (EDA)"
   ]
  },
  {
   "cell_type": "markdown",
   "id": "de731450",
   "metadata": {
    "deletable": true,
    "editable": true,
    "slideshow": {
     "slide_type": "fragment"
    }
   },
   "source": [
    "- Historically, data analysis was dominated by formal statistics, including tools like confidence intervals, hypothesis tests, and statistical modeling."
   ]
  },
  {
   "cell_type": "markdown",
   "id": "e020febe",
   "metadata": {
    "deletable": true,
    "editable": true,
    "slideshow": {
     "slide_type": "fragment"
    }
   },
   "source": [
    "- In 1977, John Tukey [defined](https://search.worldcat.org/title/3058187) the term **exploratory data analysis**, which described a philosophy for proceeding about data analysis:\n",
    "\n",
    "    > Exploratory data analysis is actively incisive, rather than passively descriptive, with real emphasis on the discovery of the unexpected."
   ]
  },
  {
   "cell_type": "markdown",
   "id": "f05a3ec8",
   "metadata": {
    "deletable": true,
    "editable": true,
    "slideshow": {
     "slide_type": "fragment"
    }
   },
   "source": [
    "- Practically, EDA involves, among other things, computing summary statistics and drawing plots to understand the nature of the data at hand.\n",
    "\n",
    "    > The greatest gains from data come from surprises… The unexpected is best brought to our attention by **pictures**."
   ]
  },
  {
   "cell_type": "markdown",
   "id": "f6e103e7",
   "metadata": {
    "deletable": true,
    "editable": true,
    "slideshow": {
     "slide_type": "fragment"
    }
   },
   "source": [
    "- We'll discuss specific visualization techniques towards the end of the lecture."
   ]
  },
  {
   "cell_type": "markdown",
   "id": "734c9fec",
   "metadata": {
    "deletable": true,
    "editable": true,
    "slideshow": {
     "slide_type": "slide"
    }
   },
   "source": [
    "### Terminology"
   ]
  },
  {
   "cell_type": "markdown",
   "id": "8c2b4131",
   "metadata": {
    "deletable": true,
    "editable": true,
    "slideshow": {
     "slide_type": "fragment"
    }
   },
   "source": [
    "<center><img src=\"imgs/indiv-feat.png\" width=1200></center>"
   ]
  },
  {
   "cell_type": "markdown",
   "id": "4a79f627",
   "metadata": {
    "deletable": true,
    "editable": true,
    "slideshow": {
     "slide_type": "fragment"
    }
   },
   "source": [
    "- <span style=\"color:#6d9eeb\"><b>Individual (row)</b></span>: Person/place/thing for which data is recorded. Also called an **observation**."
   ]
  },
  {
   "cell_type": "markdown",
   "id": "19f2e486",
   "metadata": {
    "deletable": true,
    "editable": true,
    "slideshow": {
     "slide_type": "fragment"
    }
   },
   "source": [
    "- <span style=\"color:#ff9900\"><b>Feature (column)</b></span>: Something that is recorded for each individual. Also called a **variable** or **attribute**.<br><small>Here, \"variable\" doesn't mean Python variable!</small>"
   ]
  },
  {
   "cell_type": "markdown",
   "id": "b5f7c2a5",
   "metadata": {
    "deletable": true,
    "editable": true,
    "slideshow": {
     "slide_type": "fragment"
    }
   },
   "source": [
    "- There are two key types of features:\n",
    "    - **Numerical features**: It makes sense to do arithmetic with the values.\n",
    "    - **Categorical features**: Values fall into categories, that may or may not have some order to them."
   ]
  },
  {
   "cell_type": "markdown",
   "id": "4b417c8d",
   "metadata": {
    "deletable": true,
    "editable": true,
    "slideshow": {
     "slide_type": "slide"
    }
   },
   "source": [
    "### Feature types"
   ]
  },
  {
   "cell_type": "markdown",
   "id": "fe33dfd1",
   "metadata": {
    "deletable": true,
    "editable": true
   },
   "source": [
    "<center><img src=\"imgs/features.png\" width=1200></center>"
   ]
  },
  {
   "cell_type": "markdown",
   "id": "21a8419c",
   "metadata": {
    "deletable": true,
    "editable": true,
    "slideshow": {
     "slide_type": "slide"
    }
   },
   "source": [
    "<div class=\"alert alert-warning\">\n",
    "    <h3>Question 🤔 (Answer at <a style=\"text-decoration: none; color: #0066cc\" href=\"https://docs.google.com/forms/d/e/1FAIpQLSd4oliiZYeNh76jWy-arfEtoAkCrVSsobZxPwxifWggo3EO0Q/viewform\">practicaldsc.org/q</a>)</h3>\n",
    "    \n",
    "<small>Remember that you can always ask questions anonymously at the link above!</small>\n",
    "    \n",
    "Which of these are **not** a numerical feature?\n",
    "    \n",
    "- A. Fuel economy in miles per gallon.\n",
    "- B. Zip codes.\n",
    "- C. Number of semesters at Michigan.\n",
    "- D. Bank account number.\n",
    "- E. More than one of these are not numerical features."
   ]
  },
  {
   "cell_type": "markdown",
   "id": "6c5edf6e",
   "metadata": {
    "deletable": true,
    "editable": true,
    "slideshow": {
     "slide_type": "slide"
    }
   },
   "source": [
    "### Feature types vs. data types"
   ]
  },
  {
   "cell_type": "markdown",
   "id": "9f49d08c",
   "metadata": {
    "deletable": true,
    "editable": true,
    "slideshow": {
     "slide_type": "fragment"
    }
   },
   "source": [
    "- The data type `pandas` uses is not the same as the \"feature type\" we talked about just now!<br><small>There's a difference between feature type (categorical, numerical) and computational data type (string, int, float, etc.).</small>"
   ]
  },
  {
   "cell_type": "markdown",
   "id": "0559fab9",
   "metadata": {
    "deletable": true,
    "editable": true,
    "slideshow": {
     "slide_type": "fragment"
    }
   },
   "source": [
    "- Be careful: sometimes numerical features are stored as strings, and categorical features are stored as numbers."
   ]
  },
  {
   "cell_type": "code",
   "execution_count": null,
   "id": "e6b4d32e",
   "metadata": {
    "deletable": true,
    "editable": true
   },
   "outputs": [],
   "source": [
    "# The 'id's are stored as numbers, but are categorical (nominal).\n",
    "# Are these loan 'id's (unique to each loan) or customer 'id's (which could be duplicated)?\n",
    "# We'll investigate soon!\n",
    "loans['id']"
   ]
  },
  {
   "cell_type": "code",
   "execution_count": null,
   "id": "ba585b82",
   "metadata": {
    "deletable": true,
    "editable": true
   },
   "outputs": [],
   "source": [
    "# Loan 'term's are stored as strings, but are actually numerical (discrete).\n",
    "loans['term']"
   ]
  },
  {
   "cell_type": "markdown",
   "id": "46e9f554",
   "metadata": {
    "deletable": true,
    "editable": true,
    "slideshow": {
     "slide_type": "slide"
    }
   },
   "source": [
    "## Data cleaning\n",
    "\n",
    "---"
   ]
  },
  {
   "cell_type": "markdown",
   "id": "f03e2f2c",
   "metadata": {
    "deletable": true,
    "editable": true,
    "slideshow": {
     "slide_type": "slide"
    }
   },
   "source": [
    "### Four pillars of data cleaning"
   ]
  },
  {
   "cell_type": "markdown",
   "id": "0307031a",
   "metadata": {
    "deletable": true,
    "editable": true,
    "slideshow": {
     "slide_type": "fragment"
    }
   },
   "source": [
    "When loading in a dataset, to clean the data – that is, to prepare it for further analysis – we will:"
   ]
  },
  {
   "cell_type": "markdown",
   "id": "a6c3cca9",
   "metadata": {
    "deletable": true,
    "editable": true,
    "slideshow": {
     "slide_type": "fragment"
    }
   },
   "source": [
    "1. Perform **data quality checks**."
   ]
  },
  {
   "cell_type": "markdown",
   "id": "9ddb2bdb",
   "metadata": {
    "deletable": true,
    "editable": true,
    "slideshow": {
     "slide_type": "fragment"
    }
   },
   "source": [
    "2. Identify and handle **missing values**."
   ]
  },
  {
   "cell_type": "markdown",
   "id": "13b67f90",
   "metadata": {
    "deletable": true,
    "editable": true,
    "slideshow": {
     "slide_type": "fragment"
    }
   },
   "source": [
    "3. Perform **transformations**, including converting time series data to **timestamps**."
   ]
  },
  {
   "cell_type": "markdown",
   "id": "0368831b",
   "metadata": {
    "deletable": true,
    "editable": true,
    "slideshow": {
     "slide_type": "fragment"
    }
   },
   "source": [
    "4. Modify **structure** as necessary."
   ]
  },
  {
   "cell_type": "markdown",
   "id": "bad33346",
   "metadata": {
    "deletable": true,
    "editable": true,
    "slideshow": {
     "slide_type": "slide"
    }
   },
   "source": [
    "## Data cleaning: Data quality checks\n",
    "\n",
    "---"
   ]
  },
  {
   "cell_type": "markdown",
   "id": "13943b04",
   "metadata": {
    "deletable": true,
    "editable": true,
    "slideshow": {
     "slide_type": "slide"
    }
   },
   "source": [
    "### Data quality checks"
   ]
  },
  {
   "cell_type": "markdown",
   "id": "9ad41523",
   "metadata": {
    "deletable": true,
    "editable": true,
    "slideshow": {
     "slide_type": "fragment"
    }
   },
   "source": [
    "We often start an analysis by checking the quality of the data."
   ]
  },
  {
   "cell_type": "markdown",
   "id": "c74dea26",
   "metadata": {
    "deletable": true,
    "editable": true,
    "slideshow": {
     "slide_type": "fragment"
    }
   },
   "source": [
    "- Scope: Do the data match your understanding of the population? "
   ]
  },
  {
   "cell_type": "markdown",
   "id": "4ecaf0be",
   "metadata": {
    "deletable": true,
    "editable": true,
    "slideshow": {
     "slide_type": "fragment"
    }
   },
   "source": [
    "- Measurements and values: Are the values reasonable?"
   ]
  },
  {
   "cell_type": "markdown",
   "id": "62d97a25",
   "metadata": {
    "deletable": true,
    "editable": true,
    "slideshow": {
     "slide_type": "fragment"
    }
   },
   "source": [
    "- Relationships: Are related features in agreement?"
   ]
  },
  {
   "cell_type": "markdown",
   "id": "1b1d58d6",
   "metadata": {
    "deletable": true,
    "editable": true,
    "slideshow": {
     "slide_type": "fragment"
    }
   },
   "source": [
    "- Analysis: Which features might be useful in a future analysis? "
   ]
  },
  {
   "cell_type": "markdown",
   "id": "34281a8a",
   "metadata": {
    "deletable": true,
    "editable": true,
    "slideshow": {
     "slide_type": "slide"
    }
   },
   "source": [
    "### Scope: Do the data match your understanding of the population?"
   ]
  },
  {
   "cell_type": "markdown",
   "id": "6ee04c46",
   "metadata": {
    "deletable": true,
    "editable": true,
    "slideshow": {
     "slide_type": "fragment"
    }
   },
   "source": [
    "- Who does the data represent?"
   ]
  },
  {
   "cell_type": "markdown",
   "id": "90fc0970",
   "metadata": {
    "deletable": true,
    "editable": true,
    "slideshow": {
     "slide_type": "fragment"
    }
   },
   "source": [
    "- We were told that we're only looking at approved loans. What's the distribution of `'loan_status'`es?"
   ]
  },
  {
   "cell_type": "code",
   "execution_count": null,
   "id": "42f5a465",
   "metadata": {
    "deletable": true,
    "editable": true
   },
   "outputs": [],
   "source": [
    "loans.columns "
   ]
  },
  {
   "cell_type": "code",
   "execution_count": null,
   "id": "6607b2a7",
   "metadata": {
    "deletable": true,
    "editable": true
   },
   "outputs": [],
   "source": [
    "loans['loan_status'].value_counts() "
   ]
  },
  {
   "cell_type": "markdown",
   "id": "d01bfbbe",
   "metadata": {
    "deletable": true,
    "editable": true,
    "slideshow": {
     "slide_type": "fragment"
    }
   },
   "source": [
    "- Are the loans in our dataset specific to any particular state?"
   ]
  },
  {
   "cell_type": "code",
   "execution_count": null,
   "id": "dff0c07e",
   "metadata": {
    "deletable": true,
    "editable": true
   },
   "outputs": [],
   "source": [
    "loans['addr_state'].value_counts().head() "
   ]
  },
  {
   "cell_type": "markdown",
   "id": "b0d57346",
   "metadata": {
    "deletable": true,
    "editable": true,
    "slideshow": {
     "slide_type": "fragment"
    }
   },
   "source": [
    "- Were loans only given to applicants with excellent credit? Or were applicants with average credit approved for loans too?"
   ]
  },
  {
   "cell_type": "code",
   "execution_count": null,
   "id": "c9e7e402",
   "metadata": {
    "deletable": true,
    "editable": true,
    "scrolled": true
   },
   "outputs": [],
   "source": [
    "loans['fico_range_low'].describe() "
   ]
  },
  {
   "cell_type": "markdown",
   "id": "62db33fc",
   "metadata": {
    "deletable": true,
    "editable": true,
    "slideshow": {
     "slide_type": "slide"
    }
   },
   "source": [
    "### Measurements and values: Are the values reasonable?"
   ]
  },
  {
   "cell_type": "markdown",
   "id": "e43e45ef",
   "metadata": {
    "deletable": true,
    "editable": true,
    "slideshow": {
     "slide_type": "fragment"
    }
   },
   "source": [
    "- What's the distribution of `'loan_amnt'`s?<br><small>Run the cell below, then read [**this article**](https://www.lendingclub.com/help/personal-loan-faq/how-much-can-i-borrow) by the LendingClub.</small>"
   ]
  },
  {
   "cell_type": "code",
   "execution_count": null,
   "id": "4b7df22b",
   "metadata": {
    "deletable": true,
    "editable": true
   },
   "outputs": [],
   "source": [
    "# It seems like no loans were above $40,000.\n",
    "loans['loan_amnt'].agg(['min', 'median', 'mean', 'max']) "
   ]
  },
  {
   "cell_type": "markdown",
   "id": "594860cd",
   "metadata": {
    "deletable": true,
    "editable": true,
    "slideshow": {
     "slide_type": "fragment"
    }
   },
   "source": [
    "- What kinds of information does the `loans` DataFrame even hold?"
   ]
  },
  {
   "cell_type": "code",
   "execution_count": null,
   "id": "3cea8f23",
   "metadata": {
    "deletable": true,
    "editable": true
   },
   "outputs": [],
   "source": [
    "# The \"object\" dtype in pandas refers to anything that is not numeric/Boolean/time-related,\n",
    "# including strings.\n",
    "loans.info() "
   ]
  },
  {
   "cell_type": "markdown",
   "id": "75ea446b",
   "metadata": {
    "deletable": true,
    "editable": true,
    "slideshow": {
     "slide_type": "fragment"
    }
   },
   "source": [
    "- What's going on in the `'id'` column of `rest`?"
   ]
  },
  {
   "cell_type": "code",
   "execution_count": null,
   "id": "9085734d",
   "metadata": {
    "deletable": true,
    "editable": true,
    "scrolled": true
   },
   "outputs": [],
   "source": [
    "# Are there multiple rows with the same 'id'?\n",
    "# That is, are they person 'id's or loan 'id's?\n",
    "loans['id'].value_counts().max() "
   ]
  },
  {
   "cell_type": "markdown",
   "id": "3570c457",
   "metadata": {
    "deletable": true,
    "editable": true,
    "slideshow": {
     "slide_type": "slide"
    }
   },
   "source": [
    "### Relationships: Are related features in agreement?"
   ]
  },
  {
   "cell_type": "markdown",
   "id": "14c0052e",
   "metadata": {
    "deletable": true,
    "editable": true,
    "slideshow": {
     "slide_type": "fragment"
    }
   },
   "source": [
    "- Why are there two columns with credit scores, `'fico_range_low'` and `'fico_range_high'`? What do they both mean?"
   ]
  },
  {
   "cell_type": "code",
   "execution_count": null,
   "id": "4b15c645",
   "metadata": {
    "deletable": true,
    "editable": true
   },
   "outputs": [],
   "source": [
    "loans[['fico_range_low', 'fico_range_high']] "
   ]
  },
  {
   "cell_type": "code",
   "execution_count": null,
   "id": "0462e93f",
   "metadata": {
    "deletable": true,
    "editable": true
   },
   "outputs": [],
   "source": [
    "(loans['fico_range_high'] - loans['fico_range_low']).value_counts() "
   ]
  },
  {
   "cell_type": "markdown",
   "id": "91375f6a",
   "metadata": {
    "deletable": true,
    "editable": true,
    "slideshow": {
     "slide_type": "fragment"
    }
   },
   "source": [
    "- Does every `'sub_grade'` align with its related `'grade'`?"
   ]
  },
  {
   "cell_type": "code",
   "execution_count": null,
   "id": "12b6e16f",
   "metadata": {
    "deletable": true,
    "editable": true
   },
   "outputs": [],
   "source": [
    "loans[['grade', 'sub_grade']] "
   ]
  },
  {
   "cell_type": "code",
   "execution_count": null,
   "id": "59ac4061",
   "metadata": {
    "deletable": true,
    "editable": true
   },
   "outputs": [],
   "source": [
    "# Turns out, the answer is yes!\n",
    "# The .str accessor allows us to use the [0] operation\n",
    "# on every string in loans['sub_grade'].\n",
    "(loans['sub_grade'].str[0] == loans['grade']).all() "
   ]
  },
  {
   "cell_type": "markdown",
   "id": "fa0c9451",
   "metadata": {
    "deletable": true,
    "editable": true,
    "slideshow": {
     "slide_type": "slide"
    }
   },
   "source": [
    "## Data cleaning: Missing values\n",
    "\n",
    "---"
   ]
  },
  {
   "cell_type": "markdown",
   "id": "7b7a7732",
   "metadata": {
    "deletable": true,
    "editable": true,
    "slideshow": {
     "slide_type": "slide"
    }
   },
   "source": [
    "### Missing values"
   ]
  },
  {
   "cell_type": "markdown",
   "id": "582ee5c2",
   "metadata": {
    "deletable": true,
    "editable": true,
    "slideshow": {
     "slide_type": "fragment"
    }
   },
   "source": [
    "- Next, it's important to check for and handle missing value, i.e. **null** values, as they can have a big effect on your analysis."
   ]
  },
  {
   "cell_type": "code",
   "execution_count": null,
   "id": "8370d23d",
   "metadata": {
    "deletable": true,
    "editable": true
   },
   "outputs": [],
   "source": [
    "# Note that very few of the 'desc' (description) values are non-null!\n",
    "loans.info() "
   ]
  },
  {
   "cell_type": "code",
   "execution_count": null,
   "id": "d4e18672",
   "metadata": {
    "deletable": true,
    "editable": true
   },
   "outputs": [],
   "source": [
    "# Run this repeatedly to read a random sample of loan descriptions.\n",
    "for desc in loans.loc[loans['desc'].notna(), 'desc'].sample(3):\n",
    "    print(desc + '\\n')"
   ]
  },
  {
   "cell_type": "markdown",
   "id": "d8af3c7c",
   "metadata": {
    "deletable": true,
    "editable": true,
    "slideshow": {
     "slide_type": "fragment"
    }
   },
   "source": [
    "- The `.isna()` Series method checks whether each element in a Series is missing (`True`) or present (`False`). `.notna()` does the opposite."
   ]
  },
  {
   "cell_type": "code",
   "execution_count": null,
   "id": "670d0800",
   "metadata": {
    "deletable": true,
    "editable": true
   },
   "outputs": [],
   "source": [
    "# The percentage of values in each column that are missing.\n",
    "loans.isna().mean().sort_values(ascending=False) * 100 "
   ]
  },
  {
   "cell_type": "markdown",
   "id": "982ca044",
   "metadata": {
    "deletable": true,
    "editable": true,
    "slideshow": {
     "slide_type": "fragment"
    }
   },
   "source": [
    "- It _appears_ that applicants who submitted descriptions with their loan applications were given higher interest rates on average than those who didn't submit descriptions.<br><small>But, this could've happened for a variety of reasons, not just because they submitted a description.</small>"
   ]
  },
  {
   "cell_type": "code",
   "execution_count": null,
   "id": "c4cef19e",
   "metadata": {
    "deletable": true,
    "editable": true
   },
   "outputs": [],
   "source": [
    "(\n",
    "    loans\n",
    "    .assign(submitted_description=loans['desc'].notna())\n",
    "    .groupby('submitted_description')\n",
    "    ['int_rate']\n",
    "    .agg(['mean', 'median'])\n",
    ")"
   ]
  },
  {
   "cell_type": "markdown",
   "id": "5bd06d27",
   "metadata": {
    "deletable": true,
    "editable": true,
    "slideshow": {
     "slide_type": "fragment"
    }
   },
   "source": [
    "- There are many ways of handling missing values, which we'll discuss more in a future lecture. But a good first step is to check how many there are!"
   ]
  },
  {
   "cell_type": "markdown",
   "id": "282efeb2",
   "metadata": {
    "deletable": true,
    "editable": true,
    "slideshow": {
     "slide_type": "slide"
    }
   },
   "source": [
    "### Aside: Series operations with null values"
   ]
  },
  {
   "cell_type": "markdown",
   "id": "b8b521e4",
   "metadata": {
    "deletable": true,
    "editable": true,
    "slideshow": {
     "slide_type": "fragment"
    }
   },
   "source": [
    "- The `numpy`/`pandas` null value, `np.nan`, is typically ignored when using `numpy`/`pandas` operations."
   ]
  },
  {
   "cell_type": "code",
   "execution_count": null,
   "id": "29b4d862",
   "metadata": {
    "deletable": true,
    "editable": true
   },
   "outputs": [],
   "source": [
    "# Note the NaN at the very bottom.\n",
    "loans['mths_since_last_delinq']"
   ]
  },
  {
   "cell_type": "code",
   "execution_count": null,
   "id": "11a8201c",
   "metadata": {
    "deletable": true,
    "editable": true
   },
   "outputs": [],
   "source": [
    "loans['mths_since_last_delinq'].sum() "
   ]
  },
  {
   "cell_type": "markdown",
   "id": "ebf0e29d",
   "metadata": {
    "deletable": true,
    "editable": true,
    "slideshow": {
     "slide_type": "fragment"
    }
   },
   "source": [
    "- But, `np.nan`s typically aren't ignored when using regular Python operations."
   ]
  },
  {
   "cell_type": "code",
   "execution_count": null,
   "id": "164d8647",
   "metadata": {
    "deletable": true,
    "editable": true
   },
   "outputs": [],
   "source": [
    "sum(loans['mths_since_last_delinq']) "
   ]
  },
  {
   "cell_type": "markdown",
   "id": "250e8a61",
   "metadata": {
    "deletable": true,
    "editable": true,
    "slideshow": {
     "slide_type": "fragment"
    }
   },
   "source": [
    "- As an aside, the regular Python null value is `None`."
   ]
  },
  {
   "cell_type": "code",
   "execution_count": null,
   "id": "cc2a2c35",
   "metadata": {
    "deletable": true,
    "editable": true
   },
   "outputs": [],
   "source": [
    "None"
   ]
  },
  {
   "cell_type": "code",
   "execution_count": null,
   "id": "b3a4764b",
   "metadata": {
    "deletable": true,
    "editable": true
   },
   "outputs": [],
   "source": [
    "np.nan"
   ]
  },
  {
   "cell_type": "markdown",
   "id": "fd3f85f4",
   "metadata": {
    "deletable": true,
    "editable": true,
    "slideshow": {
     "slide_type": "slide"
    }
   },
   "source": [
    "## Data cleaning: Transformations and timestamps\n",
    "\n",
    "---"
   ]
  },
  {
   "cell_type": "markdown",
   "id": "47a0245b",
   "metadata": {
    "deletable": true,
    "editable": true,
    "slideshow": {
     "slide_type": "slide"
    }
   },
   "source": [
    "### Transformations"
   ]
  },
  {
   "cell_type": "markdown",
   "id": "3e95416a",
   "metadata": {
    "deletable": true,
    "editable": true,
    "slideshow": {
     "slide_type": "fragment"
    }
   },
   "source": [
    "- A **transformation** results from performing some operation on every element in a sequence, e.g. a Series.\n"
   ]
  },
  {
   "cell_type": "markdown",
   "id": "db7cb837",
   "metadata": {
    "deletable": true,
    "editable": true,
    "slideshow": {
     "slide_type": "fragment"
    }
   },
   "source": [
    "- When preparing data for analysis, we often need to:\n",
    "    - Perform type conversions (e.g. changing the string `'$2.99'` to the float `2.99`).\n",
    "    - Perform unit conversions (e.g. feet to meters).\n",
    "    - Extract relevant information from strings."
   ]
  },
  {
   "cell_type": "markdown",
   "id": "d0756b16",
   "metadata": {
    "deletable": true,
    "editable": true,
    "slideshow": {
     "slide_type": "fragment"
    }
   },
   "source": [
    "- For example, we can't currently use the `'term'` column to do any calculations, since its values are stored as strings (despite being numerical)."
   ]
  },
  {
   "cell_type": "code",
   "execution_count": null,
   "id": "25a49c7e",
   "metadata": {
    "deletable": true,
    "editable": true
   },
   "outputs": [],
   "source": [
    "loans['term']"
   ]
  },
  {
   "cell_type": "markdown",
   "id": "ccbfee3b",
   "metadata": {
    "deletable": true,
    "editable": true,
    "slideshow": {
     "slide_type": "fragment"
    }
   },
   "source": [
    "- Many of the values in `'emp_title'` are stored inconsistently, meaning they mean the same thing, but appear differently. Without further cleaning, this would make it harder to, for example, find the total number of nurses that were given loans."
   ]
  },
  {
   "cell_type": "code",
   "execution_count": null,
   "id": "46575c63",
   "metadata": {
    "deletable": true,
    "editable": true
   },
   "outputs": [],
   "source": [
    "(loans['emp_title'] == 'registered nurse').sum() "
   ]
  },
  {
   "cell_type": "code",
   "execution_count": null,
   "id": "69285bfd",
   "metadata": {
    "deletable": true,
    "editable": true
   },
   "outputs": [],
   "source": [
    "(loans['emp_title'] == 'nurse').sum() "
   ]
  },
  {
   "cell_type": "code",
   "execution_count": null,
   "id": "d7d2ce32",
   "metadata": {
    "deletable": true,
    "editable": true
   },
   "outputs": [],
   "source": [
    "(loans['emp_title'] == 'rn').sum() "
   ]
  },
  {
   "cell_type": "markdown",
   "id": "5baeb117",
   "metadata": {
    "deletable": true,
    "editable": true,
    "slideshow": {
     "slide_type": "slide"
    }
   },
   "source": [
    "### One solution: The `apply` method"
   ]
  },
  {
   "cell_type": "markdown",
   "id": "a3a1594b",
   "metadata": {
    "deletable": true,
    "editable": true,
    "slideshow": {
     "slide_type": "fragment"
    }
   },
   "source": [
    "- The Series `apply` method allows us to use a function on every element in a Series."
   ]
  },
  {
   "cell_type": "code",
   "execution_count": null,
   "id": "69f3eea9",
   "metadata": {
    "deletable": true,
    "editable": true
   },
   "outputs": [],
   "source": [
    "def clean_term(term_string):\n",
    "    return int(term_string.split()[0])"
   ]
  },
  {
   "cell_type": "code",
   "execution_count": null,
   "id": "0116ef77",
   "metadata": {
    "deletable": true,
    "editable": true
   },
   "outputs": [],
   "source": [
    "loans['term'].apply(clean_term) "
   ]
  },
  {
   "cell_type": "markdown",
   "id": "1d852434",
   "metadata": {
    "deletable": true,
    "editable": true,
    "slideshow": {
     "slide_type": "fragment"
    }
   },
   "source": [
    "- There is also an `apply` method for DataFrames, in which you can use a function on every row (if you set `axis=1`) or every column (if you set `axis=0`) of a DataFrame."
   ]
  },
  {
   "cell_type": "markdown",
   "id": "aa8d9bd6",
   "metadata": {
    "deletable": true,
    "editable": true,
    "slideshow": {
     "slide_type": "fragment"
    }
   },
   "source": [
    "- There is also an `apply` method for DataFrameGroupBy/SeriesGroupBy objects, as you're seeing in Question 2.3 of Homework 3!"
   ]
  },
  {
   "cell_type": "markdown",
   "id": "f1e9bc89",
   "metadata": {
    "deletable": true,
    "editable": true,
    "slideshow": {
     "slide_type": "slide"
    }
   },
   "source": [
    "### The price of `apply`"
   ]
  },
  {
   "cell_type": "markdown",
   "id": "ed089476",
   "metadata": {
    "deletable": true,
    "editable": true,
    "slideshow": {
     "slide_type": "fragment"
    }
   },
   "source": [
    "- Unfortunately, `apply` runs really slowly!"
   ]
  },
  {
   "cell_type": "code",
   "execution_count": null,
   "id": "4fffbc37",
   "metadata": {
    "deletable": true,
    "editable": true
   },
   "outputs": [],
   "source": [
    "%%timeit\n",
    "loans['term'].apply(clean_term)"
   ]
  },
  {
   "cell_type": "code",
   "execution_count": null,
   "id": "bbb38a92",
   "metadata": {
    "deletable": true,
    "editable": true
   },
   "outputs": [],
   "source": [
    "%%timeit\n",
    "res = []\n",
    "for term in loans['term']:\n",
    "    res.append(clean_term(term))"
   ]
  },
  {
   "cell_type": "markdown",
   "id": "24931eff",
   "metadata": {
    "deletable": true,
    "editable": true,
    "slideshow": {
     "slide_type": "fragment"
    }
   },
   "source": [
    "- **Internally, `apply` actually just runs a `for`-loop!**"
   ]
  },
  {
   "cell_type": "markdown",
   "id": "04642efd",
   "metadata": {
    "deletable": true,
    "editable": true,
    "slideshow": {
     "slide_type": "fragment"
    }
   },
   "source": [
    "- So, when possible – say, **when applying arithmetic operations** – we should work on Series objects directly and avoid `apply`!"
   ]
  },
  {
   "cell_type": "code",
   "execution_count": null,
   "id": "aa0c09c8",
   "metadata": {
    "deletable": true,
    "editable": true
   },
   "outputs": [],
   "source": [
    "%%timeit\n",
    "loans['int_rate'] // 10 * 10 # Rounds down to the nearest multiple of 10."
   ]
  },
  {
   "cell_type": "code",
   "execution_count": null,
   "id": "0e16e9b9",
   "metadata": {
    "deletable": true,
    "editable": true
   },
   "outputs": [],
   "source": [
    "%%timeit\n",
    "loans['int_rate'].apply(lambda y: y // 10 * 10)"
   ]
  },
  {
   "cell_type": "markdown",
   "id": "eb6ad81c",
   "metadata": {
    "deletable": true,
    "editable": true,
    "slideshow": {
     "slide_type": "fragment"
    }
   },
   "source": [
    "- Above, the solution involving `apply` is ~10x slower than the one that uses direct vectorized operations."
   ]
  },
  {
   "cell_type": "markdown",
   "id": "e092e331",
   "metadata": {
    "deletable": true,
    "editable": true,
    "slideshow": {
     "slide_type": "slide"
    }
   },
   "source": [
    "### The `.str` accessor"
   ]
  },
  {
   "cell_type": "markdown",
   "id": "e6e1a15d",
   "metadata": {
    "deletable": true,
    "editable": true,
    "slideshow": {
     "slide_type": "fragment"
    }
   },
   "source": [
    "- For string operations, `pandas` provides a convenient `.str` accessor.<br><small>You've seen examples of it in practice already, with `.str.contains`, and also with `.str[0]` earlier in today's lecture.</small>"
   ]
  },
  {
   "cell_type": "markdown",
   "id": "4f46e211",
   "metadata": {
    "deletable": true,
    "editable": true,
    "slideshow": {
     "slide_type": "fragment"
    }
   },
   "source": [
    "- Mental model: the operations that come after `.str` are used on every single element of the Series that comes before `.str`."
   ]
  },
  {
   "cell_type": "code",
   "execution_count": null,
   "id": "405b7bb4",
   "metadata": {
    "deletable": true,
    "editable": true
   },
   "outputs": [],
   "source": [
    "# Here, we use .split() on every string in loans['term'].\n",
    "loans['term'].str.split() "
   ]
  },
  {
   "cell_type": "code",
   "execution_count": null,
   "id": "f9158bdd",
   "metadata": {
    "deletable": true,
    "editable": true
   },
   "outputs": [],
   "source": [
    "loans['term'].str.split().str[0].astype(int) "
   ]
  },
  {
   "cell_type": "markdown",
   "id": "26092141",
   "metadata": {
    "deletable": true,
    "editable": true,
    "slideshow": {
     "slide_type": "fragment"
    }
   },
   "source": [
    "- One might think that it's quicker than `apply`, but it's actually even slower. But, we still use it in practice since it allows us to write concise code."
   ]
  },
  {
   "cell_type": "markdown",
   "id": "8f8e2464",
   "metadata": {
    "deletable": true,
    "editable": true,
    "slideshow": {
     "slide_type": "slide"
    }
   },
   "source": [
    "### Creating timestamps ⏱️"
   ]
  },
  {
   "cell_type": "markdown",
   "id": "08759569",
   "metadata": {
    "deletable": true,
    "editable": true,
    "slideshow": {
     "slide_type": "fragment"
    }
   },
   "source": [
    "- When dealing with values containing dates and times, it's good practice to convert the values to \"timestamp\" objects."
   ]
  },
  {
   "cell_type": "code",
   "execution_count": null,
   "id": "8bfe4224",
   "metadata": {
    "deletable": true,
    "editable": true
   },
   "outputs": [],
   "source": [
    "# Stored as strings.\n",
    "loans['issue_d']"
   ]
  },
  {
   "cell_type": "markdown",
   "id": "09c97e8b",
   "metadata": {
    "deletable": true,
    "editable": true,
    "slideshow": {
     "slide_type": "fragment"
    }
   },
   "source": [
    "- To do so, we use the `pd.to_datetime` function.<br><small>It takes in a date format string; you can see examples of how they work [**here**](https://docs.python.org/3/library/datetime.html#strftime-and-strptime-behavior).</small>"
   ]
  },
  {
   "cell_type": "code",
   "execution_count": null,
   "id": "a2db2f1c",
   "metadata": {
    "deletable": true,
    "editable": true,
    "scrolled": true
   },
   "outputs": [],
   "source": [
    "pd.to_datetime(loans['issue_d'], format='%b-%Y') "
   ]
  },
  {
   "cell_type": "markdown",
   "id": "1d76a42b",
   "metadata": {
    "deletable": true,
    "editable": true,
    "slideshow": {
     "slide_type": "slide"
    }
   },
   "source": [
    "### Aside: The `pipe` method🚰"
   ]
  },
  {
   "cell_type": "markdown",
   "id": "5ccef8ee",
   "metadata": {
    "deletable": true,
    "editable": true,
    "slideshow": {
     "slide_type": "fragment"
    }
   },
   "source": [
    "- There are a few steps we've performed to clean up our dataset.\n",
    "    - Convert loan `'term'`s to integers.\n",
    "    - Convert loan issue dates, `'issue_d'`s, to timestamps."
   ]
  },
  {
   "cell_type": "markdown",
   "id": "d96dc58e",
   "metadata": {
    "deletable": true,
    "editable": true,
    "slideshow": {
     "slide_type": "fragment"
    }
   },
   "source": [
    "- When we manipulate DataFrames, it's best to define individual functions for each step, then use the `pipe` **method** to chain them all together.<br><small>The `pipe` method takes in a function, which itself takes in DataFrame and returns a DataFrame.</small>"
   ]
  },
  {
   "cell_type": "code",
   "execution_count": null,
   "id": "3604f47a",
   "metadata": {
    "deletable": true,
    "editable": true
   },
   "outputs": [],
   "source": [
    "def clean_term_column(df):\n",
    "    return df.assign(\n",
    "        term=df['term'].str.split().str[0].astype(int)\n",
    "    )\n",
    "def clean_date_column(df):\n",
    "    return (\n",
    "        df\n",
    "        .assign(date=pd.to_datetime(df['issue_d'], format='%b-%Y'))\n",
    "        .drop(columns=['issue_d'])\n",
    "    )"
   ]
  },
  {
   "cell_type": "code",
   "execution_count": null,
   "id": "dcafe517",
   "metadata": {
    "deletable": true,
    "editable": true
   },
   "outputs": [],
   "source": [
    "loans = (\n",
    "    pd.read_csv('data/loans.csv')\n",
    "    .pipe(clean_term_column)\n",
    "    .pipe(clean_date_column)\n",
    ")\n",
    "loans"
   ]
  },
  {
   "cell_type": "code",
   "execution_count": null,
   "id": "e9d6bf00",
   "metadata": {
    "deletable": true,
    "editable": true
   },
   "outputs": [],
   "source": [
    "# Same as above, just way harder to read and write.\n",
    "clean_date_column(clean_term_column(pd.read_csv('data/loans.csv'))) "
   ]
  },
  {
   "cell_type": "markdown",
   "id": "42924016",
   "metadata": {
    "deletable": true,
    "editable": true,
    "slideshow": {
     "slide_type": "slide"
    }
   },
   "source": [
    "### Working with timestamps"
   ]
  },
  {
   "cell_type": "markdown",
   "id": "519e2105",
   "metadata": {
    "deletable": true,
    "editable": true,
    "slideshow": {
     "slide_type": "fragment"
    }
   },
   "source": [
    "- We often want to adjust the granularity of timestamps to see overall trends, or seasonality."
   ]
  },
  {
   "cell_type": "markdown",
   "id": "1cced5c6",
   "metadata": {
    "deletable": true,
    "editable": true,
    "slideshow": {
     "slide_type": "fragment"
    }
   },
   "source": [
    "- To do so, use the `resample` DataFrame method ([documentation](https://pandas.pydata.org/pandas-docs/stable/user_guide/timeseries.html#dateoffset-objects)).<br><small>Think of it like a version of `groupby`, but for timestamps.</small>"
   ]
  },
  {
   "cell_type": "code",
   "execution_count": null,
   "id": "3a5601b8",
   "metadata": {
    "deletable": true,
    "editable": true
   },
   "outputs": [],
   "source": [
    "# This shows us the average interest rate given out to loans in every 6 month interval.\n",
    "loans.resample('6M', on='date')['int_rate'].mean() "
   ]
  },
  {
   "cell_type": "markdown",
   "id": "b2bbe1fa",
   "metadata": {
    "deletable": true,
    "editable": true,
    "slideshow": {
     "slide_type": "fragment"
    }
   },
   "source": [
    "- We can also do arithmetic with timestamps."
   ]
  },
  {
   "cell_type": "code",
   "execution_count": null,
   "id": "39307d86",
   "metadata": {
    "deletable": true,
    "editable": true
   },
   "outputs": [],
   "source": [
    "# Not meaningful in this example, but possible.\n",
    "loans['date'].diff() "
   ]
  },
  {
   "cell_type": "code",
   "execution_count": null,
   "id": "28110660",
   "metadata": {
    "deletable": true,
    "editable": true
   },
   "outputs": [],
   "source": [
    "# If each loan was for 60 months,\n",
    "# this is a Series of when they'd end.\n",
    "# Unfortunately, pd.DateOffset isn't vectorized, so\n",
    "# if you'd want to use a different month offset for each row\n",
    "# (like we'd need to, since some loans are 36 months\n",
    "# and some are 60 months), you'd need to use `.apply`.\n",
    "loans['date'] + pd.DateOffset(months=60) "
   ]
  },
  {
   "cell_type": "markdown",
   "id": "55701144",
   "metadata": {
    "deletable": true,
    "editable": true,
    "slideshow": {
     "slide_type": "slide"
    }
   },
   "source": [
    "### The `.dt` accessor"
   ]
  },
  {
   "cell_type": "markdown",
   "id": "86977ef2",
   "metadata": {
    "deletable": true,
    "editable": true,
    "slideshow": {
     "slide_type": "fragment"
    }
   },
   "source": [
    "- Like with Series of strings, `pandas` has a `.dt` accessor for properties of timestamps ([documentation](https://pandas.pydata.org/docs/user_guide/basics.html#basics-dt-accessors))."
   ]
  },
  {
   "cell_type": "code",
   "execution_count": null,
   "id": "57416cfe",
   "metadata": {
    "deletable": true,
    "editable": true
   },
   "outputs": [],
   "source": [
    "loans['date'].dt.year"
   ]
  },
  {
   "cell_type": "code",
   "execution_count": null,
   "id": "4a09bc06",
   "metadata": {
    "deletable": true,
    "editable": true
   },
   "outputs": [],
   "source": [
    "loans['date'].dt.month"
   ]
  },
  {
   "cell_type": "markdown",
   "id": "659cd7f0",
   "metadata": {
    "deletable": true,
    "editable": true,
    "slideshow": {
     "slide_type": "slide"
    }
   },
   "source": [
    "<div class=\"alert alert-danger\" markdown=\"1\">\n",
    "\n",
    "#### Reference Section\n",
    "\n",
    "## Data cleaning: Modifying structure\n",
    "\n",
    "---\n",
    "\n",
    "See the posted lecture notebook for more details about another useful DataFrame method, `melt`."
   ]
  },
  {
   "cell_type": "markdown",
   "id": "8515e404",
   "metadata": {
    "deletable": true,
    "editable": true,
    "slideshow": {
     "slide_type": "skip"
    }
   },
   "source": [
    "### Reshaping DataFrames"
   ]
  },
  {
   "cell_type": "markdown",
   "id": "b613d6df",
   "metadata": {
    "deletable": true,
    "editable": true,
    "slideshow": {
     "slide_type": "skip"
    }
   },
   "source": [
    "We often **reshape** the DataFrame's structure to make it more convenient for analysis. For example, we can:"
   ]
  },
  {
   "cell_type": "markdown",
   "id": "756c8f70",
   "metadata": {
    "deletable": true,
    "editable": true,
    "slideshow": {
     "slide_type": "skip"
    }
   },
   "source": [
    "- Simplify structure by removing columns or taking a set of rows for a particular period of time or geographic area.<br><small>We already did this!</small>"
   ]
  },
  {
   "cell_type": "markdown",
   "id": "f0a20076",
   "metadata": {
    "deletable": true,
    "editable": true,
    "slideshow": {
     "slide_type": "skip"
    }
   },
   "source": [
    "- Adjust granularity by aggregating rows together.<br><small>To do this, use `groupby` (or `resample`, if working with timestamps).</small>"
   ]
  },
  {
   "cell_type": "markdown",
   "id": "31066585",
   "metadata": {
    "deletable": true,
    "editable": true,
    "slideshow": {
     "slide_type": "skip"
    }
   },
   "source": [
    "- Reshape structure, most commonly by using the DataFrame `melt` method to un-pivot a dataframe."
   ]
  },
  {
   "cell_type": "markdown",
   "id": "d266c1c4",
   "metadata": {
    "deletable": true,
    "editable": true,
    "slideshow": {
     "slide_type": "skip"
    }
   },
   "source": [
    "### Using `melt`"
   ]
  },
  {
   "cell_type": "markdown",
   "id": "9bb7e92e",
   "metadata": {
    "deletable": true,
    "editable": true,
    "slideshow": {
     "slide_type": "skip"
    }
   },
   "source": [
    "- The `melt` method is common enough that we'll give it a special mention."
   ]
  },
  {
   "cell_type": "markdown",
   "id": "c534c502",
   "metadata": {
    "deletable": true,
    "editable": true,
    "slideshow": {
     "slide_type": "skip"
    }
   },
   "source": [
    "- We'll often encounter pivot tables (esp. from government data), which we call *wide* data."
   ]
  },
  {
   "cell_type": "markdown",
   "id": "773e75b0",
   "metadata": {
    "deletable": true,
    "editable": true,
    "slideshow": {
     "slide_type": "skip"
    }
   },
   "source": [
    "- The methods we've introduced work better with *long-form* data, or *tidy* data."
   ]
  },
  {
   "cell_type": "markdown",
   "id": "34fc724f",
   "metadata": {
    "deletable": true,
    "editable": true,
    "slideshow": {
     "slide_type": "skip"
    }
   },
   "source": [
    "- To go from wide to long, `melt`.\n",
    "\n",
    "<center><img src='imgs/wide-vs-long.svg' width=40%></center>"
   ]
  },
  {
   "cell_type": "markdown",
   "id": "94fec3a8",
   "metadata": {
    "deletable": true,
    "editable": true,
    "slideshow": {
     "slide_type": "skip"
    }
   },
   "source": [
    "### Example usage of `melt`"
   ]
  },
  {
   "cell_type": "code",
   "execution_count": null,
   "id": "0362d368",
   "metadata": {
    "deletable": true,
    "editable": true,
    "slideshow": {
     "slide_type": "skip"
    }
   },
   "outputs": [],
   "source": [
    "wide_example = pd.DataFrame({\n",
    "    'Year': [2001, 2002],\n",
    "    'Jan': [10, 130],\n",
    "    'Feb': [20, 200],\n",
    "    'Mar': [30, 340]\n",
    "}).set_index('Year')\n",
    "wide_example"
   ]
  },
  {
   "cell_type": "code",
   "execution_count": null,
   "id": "adc082ed",
   "metadata": {
    "deletable": true,
    "editable": true,
    "slideshow": {
     "slide_type": "skip"
    }
   },
   "outputs": [],
   "source": [
    "wide_example.melt(ignore_index=False)"
   ]
  },
  {
   "cell_type": "markdown",
   "id": "c0e2b4c2",
   "metadata": {
    "deletable": true,
    "editable": true,
    "slideshow": {
     "slide_type": "slide"
    }
   },
   "source": [
    "## Visualization\n",
    "\n",
    "---"
   ]
  },
  {
   "cell_type": "markdown",
   "id": "e1033fff",
   "metadata": {
    "deletable": true,
    "editable": true,
    "slideshow": {
     "slide_type": "slide"
    }
   },
   "source": [
    "### Napoleon's March\n",
    "\n",
    "> \"Probably the best statistical graphic ever drawn, this map by Charles Joseph Minard portrays the losses suffered by Napoleon's army in the Russian campaign of 1812.\" ([source](https://www.edwardtufte.com/tufte/posters))\n",
    "\n",
    "<center><img src=\"imgs/minard.jpg\" width=1200></center>"
   ]
  },
  {
   "cell_type": "markdown",
   "id": "f9407266",
   "metadata": {
    "deletable": true,
    "editable": true,
    "slideshow": {
     "slide_type": "slide"
    }
   },
   "source": [
    "### Why visualize?"
   ]
  },
  {
   "cell_type": "markdown",
   "id": "2f8b76d5",
   "metadata": {
    "deletable": true,
    "editable": true,
    "slideshow": {
     "slide_type": "fragment"
    }
   },
   "source": [
    "- Computers are better than humans at crunching numbers, but humans are better at identifying visual patterns."
   ]
  },
  {
   "cell_type": "markdown",
   "id": "bc4f2d4c",
   "metadata": {
    "deletable": true,
    "editable": true,
    "slideshow": {
     "slide_type": "fragment"
    }
   },
   "source": [
    "- Visualizations allow us to understand lots of data quickly – they make it easier to spot trends and **communicate** our results with others."
   ]
  },
  {
   "cell_type": "markdown",
   "id": "9cba83fe",
   "metadata": {
    "deletable": true,
    "editable": true,
    "slideshow": {
     "slide_type": "fragment"
    }
   },
   "source": [
    "- There are many types of visualizations; the right choice depends on the type of data at hand.<br><small>In this class, we'll look at scatter plots, line plots, bar charts, histograms, choropleths, and boxplots.</small>"
   ]
  },
  {
   "cell_type": "markdown",
   "id": "4ea3a368",
   "metadata": {
    "deletable": true,
    "editable": true,
    "slideshow": {
     "slide_type": "slide"
    }
   },
   "source": [
    "### Choosing the correct type of visualization"
   ]
  },
  {
   "cell_type": "markdown",
   "id": "5ac5deb5",
   "metadata": {
    "deletable": true,
    "editable": true,
    "slideshow": {
     "slide_type": "fragment"
    }
   },
   "source": [
    "- The type of visualization we create depends on the types of features we're visualizing."
   ]
  },
  {
   "cell_type": "markdown",
   "id": "a93b807d",
   "metadata": {
    "deletable": true,
    "editable": true,
    "slideshow": {
     "slide_type": "fragment"
    }
   },
   "source": [
    "- We'll directly learn how to produce the **bolded** visualizations below, but the others are also options.<br><small>See more examples [**here**](https://learningds.org/ch/10/eda_feature_types.html#the-importance-of-feature-types).</small>"
   ]
  },
  {
   "cell_type": "markdown",
   "id": "3ea81669",
   "metadata": {
    "deletable": true,
    "editable": true,
    "slideshow": {
     "slide_type": "fragment"
    }
   },
   "source": [
    "| Feature types | Options |\n",
    "| --- | --- |\n",
    "| Single categorical feature | **Bar charts**, pie charts, dot plots |\n",
    "| Single numerical feature | **Histograms**, **box plots**, density curves,<br>rug plots, **violin plots**  |\n",
    "| Two numerical features | **Scatter plots**, **line plots**, heat maps,<br> contour plots |\n",
    "| One categorical and one numerical feature<br><small>It really depends on the nature of the features themselves!</small> | **Side-by-side** histograms, **box plots**, or **bar charts**,<br> overlaid line plots or density curves|"
   ]
  },
  {
   "cell_type": "markdown",
   "id": "28277ec6",
   "metadata": {
    "deletable": true,
    "editable": true,
    "slideshow": {
     "slide_type": "fragment"
    }
   },
   "source": [
    "- Note that we use the words \"plot\", \"chart\", and \"graph\" mean the same thing."
   ]
  },
  {
   "cell_type": "markdown",
   "id": "6ad2e138",
   "metadata": {
    "deletable": true,
    "editable": true,
    "slideshow": {
     "slide_type": "slide"
    }
   },
   "source": [
    "### `plotly`"
   ]
  },
  {
   "cell_type": "markdown",
   "id": "4c0ac349",
   "metadata": {
    "deletable": true,
    "editable": true,
    "slideshow": {
     "slide_type": "fragment"
    }
   },
   "source": [
    "- We've used `plotly` in lecture briefly, and you've even used it in Homework 1 and Homework 3, but we've never formally discussed it."
   ]
  },
  {
   "cell_type": "markdown",
   "id": "7c7a61c1",
   "metadata": {
    "deletable": true,
    "editable": true,
    "slideshow": {
     "slide_type": "fragment"
    }
   },
   "source": [
    "- It's a visualization library that enables **interactive** visualizations.\n",
    "\n",
    "<center><img src=\"imgs/plotly.png\" width=400></center>"
   ]
  },
  {
   "cell_type": "markdown",
   "id": "45bf8e1e",
   "metadata": {
    "deletable": true,
    "editable": true,
    "slideshow": {
     "slide_type": "slide"
    }
   },
   "source": [
    "### Using `plotly`"
   ]
  },
  {
   "cell_type": "markdown",
   "id": "69da2f69",
   "metadata": {
    "deletable": true,
    "editable": true,
    "slideshow": {
     "slide_type": "fragment"
    }
   },
   "source": [
    "- We can use `plotly` using the `plotly.express` syntax.\n",
    "    - `plotly` is very flexible, but it can be verbose; `plotly.express` allows us to make plots quickly.\n",
    "    - See the [**documentation here**](https://plotly.com/python/plotly-express) – it's very rich.<br><small>There are good examples for almost everything!</small>"
   ]
  },
  {
   "cell_type": "code",
   "execution_count": null,
   "id": "4d2e646e",
   "metadata": {
    "deletable": true,
    "editable": true
   },
   "outputs": [],
   "source": [
    "import plotly.express as px"
   ]
  },
  {
   "cell_type": "markdown",
   "id": "f6f10532",
   "metadata": {
    "deletable": true,
    "editable": true,
    "slideshow": {
     "slide_type": "fragment"
    }
   },
   "source": [
    "- Alternatively, we can use `plotly` by setting `pandas` plotting backend to `'plotly'` and using the DataFrame/Series `plot` method.<br><small>By default, the plotting backend is `matplotlib`, which creates non-interactive visualizations.</small>"
   ]
  },
  {
   "cell_type": "code",
   "execution_count": null,
   "id": "8283bb9b",
   "metadata": {
    "deletable": true,
    "editable": true
   },
   "outputs": [],
   "source": [
    "pd.options.plotting.backend = 'plotly'"
   ]
  },
  {
   "cell_type": "markdown",
   "id": "3022dc47",
   "metadata": {
    "deletable": true,
    "editable": true,
    "slideshow": {
     "slide_type": "fragment"
    }
   },
   "source": [
    "- Now, we're going to look at several examples. Focus on _what_ is being visualized and _why_; read the notebook later for the _how_."
   ]
  },
  {
   "cell_type": "markdown",
   "id": "3dc71202",
   "metadata": {
    "deletable": true,
    "editable": true,
    "slideshow": {
     "slide_type": "slide"
    }
   },
   "source": [
    "### Bar charts"
   ]
  },
  {
   "cell_type": "markdown",
   "id": "99e6470f",
   "metadata": {
    "deletable": true,
    "editable": true,
    "slideshow": {
     "slide_type": "fragment"
    }
   },
   "source": [
    "- Bar charts are used to show:\n",
    "    - The distribution of a single categorical feature, or\n",
    "    - The relationship between one categorical feature and one numerical feature."
   ]
  },
  {
   "cell_type": "markdown",
   "id": "e41bea05",
   "metadata": {
    "deletable": true,
    "editable": true,
    "slideshow": {
     "slide_type": "fragment"
    }
   },
   "source": [
    "- Usage: `px.bar` / `px.barh` or `df.plot(kind='bar)'` / `df.plot(kind='barh')`.<br><small>`'h'` stands for \"horizontal.\"</small>"
   ]
  },
  {
   "cell_type": "markdown",
   "id": "eec15e26",
   "metadata": {
    "deletable": true,
    "editable": true,
    "slideshow": {
     "slide_type": "fragment"
    }
   },
   "source": [
    "- Example: What is the distribution of `'addr_state'`s in `loans`?"
   ]
  },
  {
   "cell_type": "code",
   "execution_count": null,
   "id": "c5d9bfca",
   "metadata": {
    "deletable": true,
    "editable": true
   },
   "outputs": [],
   "source": [
    "# Here, we're using the .plot method on loans['addr_state'], which is a Series.\n",
    "# We prefer horizontal bar charts, since they're easier to read.\n",
    "(\n",
    "    loans['addr_state']\n",
    "    .value_counts()\n",
    "    .plot(kind='barh')\n",
    ")"
   ]
  },
  {
   "cell_type": "code",
   "execution_count": null,
   "id": "9369e37b",
   "metadata": {
    "deletable": true,
    "editable": true
   },
   "outputs": [],
   "source": [
    "# A little formatting goes a long way!\n",
    "(\n",
    "    loans['addr_state']\n",
    "    .value_counts()\n",
    "    .sort_values()\n",
    "    .head(10)\n",
    "    .plot(kind='barh', title='States of Residence for Successful Loan Applicants')\n",
    "    .update_layout()\n",
    ")"
   ]
  },
  {
   "cell_type": "markdown",
   "id": "a07588ac",
   "metadata": {
    "deletable": true,
    "editable": true,
    "slideshow": {
     "slide_type": "fragment"
    }
   },
   "source": [
    "- Example: What is the average `'int_rate'` for each `'home_ownership'` status?"
   ]
  },
  {
   "cell_type": "code",
   "execution_count": null,
   "id": "4c4eb0f1",
   "metadata": {
    "deletable": true,
    "editable": true
   },
   "outputs": [],
   "source": [
    "(\n",
    "    loans\n",
    "    .groupby('home_ownership')\n",
    "    ['int_rate']\n",
    "    .mean()\n",
    "    .plot(kind='barh', title='Average Interest Rate by Home Ownership Status')\n",
    ")"
   ]
  },
  {
   "cell_type": "code",
   "execution_count": null,
   "id": "22a806b5",
   "metadata": {
    "deletable": true,
    "editable": true
   },
   "outputs": [],
   "source": [
    "# The \"ANY\" category seems to be an outlier.\n",
    "loans['home_ownership'].value_counts()"
   ]
  },
  {
   "cell_type": "markdown",
   "id": "1f7f4858",
   "metadata": {
    "deletable": true,
    "editable": true,
    "slideshow": {
     "slide_type": "slide"
    }
   },
   "source": [
    "### Side-by-side bar charts"
   ]
  },
  {
   "cell_type": "markdown",
   "id": "65d68980",
   "metadata": {
    "deletable": true,
    "editable": true,
    "slideshow": {
     "slide_type": "fragment"
    }
   },
   "source": [
    "- Instead of just looking at `'int_rate'`s for different, `'home_ownership'` statuses, we could also group by loan `'term'`s, too. As we'll see, `'term'` impacts `'int_rate'` far more than `'home_ownership'`."
   ]
  },
  {
   "cell_type": "code",
   "execution_count": null,
   "id": "3eb8d75f",
   "metadata": {
    "deletable": true,
    "editable": true
   },
   "outputs": [],
   "source": [
    "(\n",
    "    loans\n",
    "    .groupby('home_ownership')\n",
    "    .filter(lambda df: df.shape[0] > 1) # Gets rid of the \"ANY\" category.\n",
    "    .groupby(['home_ownership', 'term'])\n",
    "    [['int_rate']]\n",
    "    .mean()\n",
    ")"
   ]
  },
  {
   "cell_type": "markdown",
   "id": "7f61ddb9",
   "metadata": {
    "deletable": true,
    "editable": true,
    "slideshow": {
     "slide_type": "fragment"
    }
   },
   "source": [
    "- A side-by-side bar chart, which we can create by setting the `color` and `barmode` arguments, makes the pattern clear:"
   ]
  },
  {
   "cell_type": "code",
   "execution_count": null,
   "id": "116520a9",
   "metadata": {
    "deletable": true,
    "editable": true
   },
   "outputs": [],
   "source": [
    "# Annoyingly, the side-by-side bar chart doesn't work properly\n",
    "# if the column that separates colors (here, 'term')\n",
    "# isn't made up of strings.\n",
    "(\n",
    "    loans\n",
    "    .assign(term=loans['term'].astype(str) + ' months')\n",
    "    .groupby('home_ownership')\n",
    "    .filter(lambda df: df.shape[0] > 1)\n",
    "    .groupby(['home_ownership', 'term'])\n",
    "    [['int_rate']]\n",
    "    .mean()\n",
    "    .reset_index()\n",
    "    .plot(kind='bar', \n",
    "          y='int_rate', \n",
    "          x='home_ownership', \n",
    "          color='term', \n",
    "          barmode='group',\n",
    "          title='Average Interest Rate by Home Ownership Status and Loan Term',\n",
    "          width=800)\n",
    ")"
   ]
  },
  {
   "cell_type": "markdown",
   "id": "4916556e",
   "metadata": {
    "deletable": true,
    "editable": true,
    "slideshow": {
     "slide_type": "fragment"
    }
   },
   "source": [
    "- **Why do longer loans have higher `'int_rate'`s on average?**"
   ]
  },
  {
   "cell_type": "markdown",
   "id": "73570055",
   "metadata": {
    "deletable": true,
    "editable": true,
    "slideshow": {
     "slide_type": "slide"
    }
   },
   "source": [
    "### Histograms"
   ]
  },
  {
   "cell_type": "markdown",
   "id": "e0bb6e73",
   "metadata": {
    "deletable": true,
    "editable": true,
    "slideshow": {
     "slide_type": "fragment"
    }
   },
   "source": [
    "- The previous slide showed the **average** `'int_rate'` for different combinations of `'home_ownership'` status and `'term'`. But what if we want to visualize more about `'int_rate'`s than just their average?"
   ]
  },
  {
   "cell_type": "markdown",
   "id": "81ec03ec",
   "metadata": {
    "deletable": true,
    "editable": true,
    "slideshow": {
     "slide_type": "fragment"
    }
   },
   "source": [
    "- Histograms are used to show the distribution of a single numerical feature."
   ]
  },
  {
   "cell_type": "markdown",
   "id": "9cbd5834",
   "metadata": {
    "deletable": true,
    "editable": true,
    "slideshow": {
     "slide_type": "fragment"
    }
   },
   "source": [
    "- Usage: `px.histogram` or `df.plot(kind='hist')`."
   ]
  },
  {
   "cell_type": "markdown",
   "id": "47ff2c86",
   "metadata": {
    "deletable": true,
    "editable": true,
    "slideshow": {
     "slide_type": "fragment"
    }
   },
   "source": [
    "- Example: What is the distribution of `'int_rate'`?"
   ]
  },
  {
   "cell_type": "code",
   "execution_count": null,
   "id": "88f28941",
   "metadata": {
    "deletable": true,
    "editable": true
   },
   "outputs": [],
   "source": [
    "(\n",
    "    loans\n",
    "    .plot(kind='hist', x='int_rate', title='Distribution of Interest Rates')\n",
    ")"
   ]
  },
  {
   "cell_type": "markdown",
   "id": "e9b50293",
   "metadata": {
    "deletable": true,
    "editable": true,
    "slideshow": {
     "slide_type": "fragment"
    }
   },
   "source": [
    "- With fewer bins, we see less detail (and less noise) in the shape of the distribution.<br><small>Play with the slider that appears when you run the cell below!</small>"
   ]
  },
  {
   "cell_type": "code",
   "execution_count": null,
   "id": "07b8a9a9",
   "metadata": {
    "deletable": true,
    "editable": true
   },
   "outputs": [],
   "source": [
    "from ipywidgets import interact\n",
    "def hist_bins(nbins):\n",
    "    (\n",
    "        loans\n",
    "        .plot(kind='hist', x='int_rate', nbins=nbins, title='Distribution of Interest Rates')\n",
    "        .show()\n",
    "    )\n",
    "interact(hist_bins, nbins=(1, 51));"
   ]
  },
  {
   "cell_type": "markdown",
   "id": "1350417e",
   "metadata": {
    "deletable": true,
    "editable": true,
    "slideshow": {
     "slide_type": "slide"
    }
   },
   "source": [
    "### Box plots and violin plots"
   ]
  },
  {
   "cell_type": "markdown",
   "id": "457f1de5",
   "metadata": {
    "deletable": true,
    "editable": true,
    "slideshow": {
     "slide_type": "fragment"
    }
   },
   "source": [
    "- Box plots and violin plots are alternatives to histograms, in that they also are used to show the distribution of quantitative features.<br><small>Learn more about box plots [**here**](https://datatab.net/tutorial/box-plot).</small>"
   ]
  },
  {
   "cell_type": "markdown",
   "id": "eee72951",
   "metadata": {
    "deletable": true,
    "editable": true,
    "slideshow": {
     "slide_type": "fragment"
    }
   },
   "source": [
    "- The benefit to them is that they're easily stacked side-by-side to compare distributions."
   ]
  },
  {
   "cell_type": "markdown",
   "id": "e0e1dba8",
   "metadata": {
    "deletable": true,
    "editable": true,
    "slideshow": {
     "slide_type": "fragment"
    }
   },
   "source": [
    "- Example: What is the distribution of `'int_rate'`?"
   ]
  },
  {
   "cell_type": "code",
   "execution_count": null,
   "id": "89207833",
   "metadata": {
    "deletable": true,
    "editable": true
   },
   "outputs": [],
   "source": [
    "(\n",
    "    loans\n",
    "    .plot(kind='hist', x='int_rate', title='Distribution of Interest Rates')\n",
    ")"
   ]
  },
  {
   "cell_type": "markdown",
   "id": "e23956bc",
   "metadata": {
    "deletable": true,
    "editable": true,
    "slideshow": {
     "slide_type": "fragment"
    }
   },
   "source": [
    "- Example: What is the distribution of `'int_rate'`, separately for each loan `'term'`?"
   ]
  },
  {
   "cell_type": "code",
   "execution_count": null,
   "id": "3d602060",
   "metadata": {
    "deletable": true,
    "editable": true
   },
   "outputs": [],
   "source": [
    "(\n",
    "    loans\n",
    "    .plot(kind='box', y='int_rate', color='term', orientation='v', \n",
    "          title='Distribution of Interest Rates by Loan Term')\n",
    ")"
   ]
  },
  {
   "cell_type": "code",
   "execution_count": null,
   "id": "bb41f8a1",
   "metadata": {
    "deletable": true,
    "editable": true
   },
   "outputs": [],
   "source": [
    "(\n",
    "    loans\n",
    "    .plot(kind='violin', y='int_rate', color='term', orientation='v', \n",
    "          title='Distribution of Interest Rates by Loan Term')\n",
    ")"
   ]
  },
  {
   "cell_type": "markdown",
   "id": "2b803287",
   "metadata": {
    "deletable": true,
    "editable": true,
    "slideshow": {
     "slide_type": "fragment"
    }
   },
   "source": [
    "- Overlaid histograms can be used to show the distributions of multiple numerical features, too."
   ]
  },
  {
   "cell_type": "code",
   "execution_count": null,
   "id": "dc79f4e5",
   "metadata": {
    "deletable": true,
    "editable": true
   },
   "outputs": [],
   "source": [
    "(\n",
    "    loans\n",
    "    .plot(kind='hist', x='int_rate', color='term', marginal='box', nbins=20,\n",
    "          title='Distribution of Interest Rates by Loan Term')\n",
    ")"
   ]
  },
  {
   "cell_type": "markdown",
   "id": "f7445f7c",
   "metadata": {
    "deletable": true,
    "editable": true,
    "slideshow": {
     "slide_type": "slide"
    }
   },
   "source": [
    "### Scatter plots"
   ]
  },
  {
   "cell_type": "markdown",
   "id": "025d8df1",
   "metadata": {
    "deletable": true,
    "editable": true,
    "slideshow": {
     "slide_type": "fragment"
    }
   },
   "source": [
    "- Scatter plots are used to show the relationship between two quantitative features."
   ]
  },
  {
   "cell_type": "markdown",
   "id": "bdb1afb0",
   "metadata": {
    "deletable": true,
    "editable": true,
    "slideshow": {
     "slide_type": "fragment"
    }
   },
   "source": [
    "- Usage: `px.scatter` or `df.plot(kind='scatter')`."
   ]
  },
  {
   "cell_type": "markdown",
   "id": "e73e3583",
   "metadata": {
    "deletable": true,
    "editable": true,
    "slideshow": {
     "slide_type": "fragment"
    }
   },
   "source": [
    "- Example: What is the relationship between `'int_rate'` and debt-to-income ratio, `'dti'`?"
   ]
  },
  {
   "cell_type": "code",
   "execution_count": null,
   "id": "104e07db",
   "metadata": {
    "deletable": true,
    "editable": true
   },
   "outputs": [],
   "source": [
    "(\n",
    "    loans\n",
    "    .sample(200, random_state=23)\n",
    "    .plot(kind='scatter', x='dti', y='int_rate', title='Interest Rate vs. Debt-to-Income Ratio')\n",
    ")"
   ]
  },
  {
   "cell_type": "markdown",
   "id": "036721b5",
   "metadata": {
    "deletable": true,
    "editable": true,
    "slideshow": {
     "slide_type": "fragment"
    }
   },
   "source": [
    "- There are a multitude of ways that scatter plots can be customized. We can color points based on groups, we can resize points based on another numeric column, we can give them hover labels, etc."
   ]
  },
  {
   "cell_type": "code",
   "execution_count": null,
   "id": "b9bb26b6",
   "metadata": {
    "deletable": true,
    "editable": true
   },
   "outputs": [],
   "source": [
    "(\n",
    "    loans\n",
    "    .assign(term=loans['term'].astype(str))\n",
    "    .sample(200, random_state=23)\n",
    "    .plot(kind='scatter', x='dti', y='int_rate', color='term',\n",
    "          hover_name='id', size='loan_amnt',\n",
    "          title='Interest Rate vs. Debt-to-Income Ratio')\n",
    ")"
   ]
  },
  {
   "cell_type": "markdown",
   "id": "1d8d03c9",
   "metadata": {
    "deletable": true,
    "editable": true,
    "slideshow": {
     "slide_type": "slide"
    }
   },
   "source": [
    "### Line charts"
   ]
  },
  {
   "cell_type": "markdown",
   "id": "9f19aa7a",
   "metadata": {
    "deletable": true,
    "editable": true,
    "slideshow": {
     "slide_type": "fragment"
    }
   },
   "source": [
    "- Line charts are used to show how one quantitative feature changes over time."
   ]
  },
  {
   "cell_type": "markdown",
   "id": "6f1e2bb0",
   "metadata": {
    "deletable": true,
    "editable": true,
    "slideshow": {
     "slide_type": "fragment"
    }
   },
   "source": [
    "- Usage: `px.line` or `df.plot(kind='line')`."
   ]
  },
  {
   "cell_type": "markdown",
   "id": "23647235",
   "metadata": {
    "deletable": true,
    "editable": true,
    "slideshow": {
     "slide_type": "fragment"
    }
   },
   "source": [
    "- Example: How many loans were given out each year in our dataset?<br><small>This is likely not true of the market in general, or even LendingClub in general, but just a consequence of where our dataset came from.</small>"
   ]
  },
  {
   "cell_type": "code",
   "execution_count": null,
   "id": "2fe09381",
   "metadata": {
    "deletable": true,
    "editable": true
   },
   "outputs": [],
   "source": [
    "(\n",
    "    loans\n",
    "    .assign(year=loans['date'].dt.year)\n",
    "    ['year']\n",
    "    .value_counts()\n",
    "    .sort_index()\n",
    "    .plot(kind='line', title='Number of Loans Given Per Year')\n",
    ")"
   ]
  },
  {
   "cell_type": "markdown",
   "id": "ee66550f",
   "metadata": {
    "deletable": true,
    "editable": true,
    "slideshow": {
     "slide_type": "fragment"
    }
   },
   "source": [
    "- Example: How has the average `'int_rate'` changed over time?"
   ]
  },
  {
   "cell_type": "code",
   "execution_count": null,
   "id": "1b59110a",
   "metadata": {
    "deletable": true,
    "editable": true
   },
   "outputs": [],
   "source": [
    "(\n",
    "    loans\n",
    "    .resample('6M', on='date')\n",
    "    ['int_rate']\n",
    "    .mean()\n",
    "    .plot(kind='line', title='Average Interest Rate over Time')\n",
    ")"
   ]
  },
  {
   "cell_type": "markdown",
   "id": "7da02c2e",
   "metadata": {
    "deletable": true,
    "editable": true,
    "slideshow": {
     "slide_type": "fragment"
    }
   },
   "source": [
    "- Example: How has the average `'int_rate'` changed over time, separately for 36 month and 60 month loans?"
   ]
  },
  {
   "cell_type": "code",
   "execution_count": null,
   "id": "c8b5eaed",
   "metadata": {
    "deletable": true,
    "editable": true
   },
   "outputs": [],
   "source": [
    "(\n",
    "    loans\n",
    "    .groupby('term')\n",
    "    .resample('6M', on='date')\n",
    "    ['int_rate']\n",
    "    .mean()\n",
    "    .reset_index()\n",
    "    .plot(kind='line', x='date', y='int_rate', color='term',\n",
    "          title='Average Interest Rate over Time')\n",
    ")"
   ]
  }
 ],
 "metadata": {
  "celltoolbar": "None",
  "kernelspec": {
   "display_name": "Python 3 (ipykernel)",
   "language": "python",
   "name": "python3"
  },
  "language_info": {
   "codemirror_mode": {
    "name": "ipython",
    "version": 3
   },
   "file_extension": ".py",
   "mimetype": "text/x-python",
   "name": "python",
   "nbconvert_exporter": "python",
   "pygments_lexer": "ipython3",
   "version": "3.10.14"
  },
  "livereveal": {
   "scroll": true
  },
  "rise": {
   "transition": "none"
  }
 },
 "nbformat": 4,
 "nbformat_minor": 5
}
