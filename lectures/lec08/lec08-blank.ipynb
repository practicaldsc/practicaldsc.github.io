{
 "cells": [
  {
   "cell_type": "code",
   "execution_count": null,
   "id": "60321aef",
   "metadata": {
    "deletable": true,
    "editable": true,
    "slideshow": {
     "slide_type": "skip"
    },
    "tags": []
   },
   "outputs": [],
   "source": [
    "from lec_utils import *\n",
    "def multiple_kdes(ser_map, title=\"\"):\n",
    "    values = [ser_map[key].dropna() for key in ser_map]\n",
    "    labels = list(ser_map.keys())\n",
    "    fig = ff.create_distplot(\n",
    "        hist_data=values,\n",
    "        group_labels=labels,\n",
    "        show_rug=False,\n",
    "        show_hist=False,\n",
    "        colors=px.colors.qualitative.Dark2[: len(ser_map)],\n",
    "    )\n",
    "    return fig.update_layout(title=title, width=1000).update_xaxes(title=\"child\")"
   ]
  },
  {
   "cell_type": "markdown",
   "id": "7256cc19",
   "metadata": {
    "deletable": true,
    "editable": true,
    "slideshow": {
     "slide_type": "slide"
    },
    "tags": []
   },
   "source": [
    "<div class=\"alert alert-info\" markdown=\"1\">\n",
    "\n",
    "#### Lecture 8\n",
    "\n",
    "# More Visualization, Missing Values\n",
    "\n",
    "### EECS 398-003: Practical Data Science, Fall 2024\n",
    "\n",
    "<small><a style=\"text-decoration: none\" href=\"https://practicaldsc.org\">practicaldsc.org</a> • <a style=\"text-decoration: none\" href=\"https://github.com/practicaldsc/fa24\">github.com/practicaldsc/fa24</a></small>\n",
    "    \n",
    "</div>"
   ]
  },
  {
   "cell_type": "markdown",
   "id": "d63f059e",
   "metadata": {
    "deletable": true,
    "editable": true,
    "slideshow": {
     "slide_type": "slide"
    }
   },
   "source": [
    "### Announcements 📣\n",
    "\n",
    "- Homework 3 is due **tonight**. See [**this post on Ed**](https://edstem.org/us/courses/61012/discussion/5274722) for an important clarification.\n",
    "- We've slightly adjusted the Office Hours schedule – [**take a look**](https://practicaldsc.org/calendar), and please come by.<br><small>I have office hours right after lecture today!</small>\n",
    "\n",
    "- [study.practicaldsc.org](https://study.practicaldsc.org) contains our discussion worksheets (and solutions), which are made up of old exam problems. Use these problems to build your theoretical understanding of the material, and **come to discussion!**"
   ]
  },
  {
   "cell_type": "markdown",
   "id": "6048a92a",
   "metadata": {
    "deletable": true,
    "editable": true,
    "slideshow": {
     "slide_type": "slide"
    }
   },
   "source": [
    "### Agenda\n",
    "\n",
    "- Recap: Types of visualizations.\n",
    "- Visualization best practices.\n",
    "- Handling missing values."
   ]
  },
  {
   "cell_type": "markdown",
   "id": "25aceff8",
   "metadata": {
    "deletable": true,
    "editable": true,
    "slideshow": {
     "slide_type": "slide"
    }
   },
   "source": [
    "## Recap: Types of visualizations\n",
    "\n",
    "---"
   ]
  },
  {
   "cell_type": "markdown",
   "id": "57ba5398",
   "metadata": {
    "deletable": true,
    "editable": true,
    "slideshow": {
     "slide_type": "slide"
    }
   },
   "source": [
    "### Dataset setup"
   ]
  },
  {
   "cell_type": "markdown",
   "id": "5ea8a1b9",
   "metadata": {
    "deletable": true,
    "editable": true,
    "slideshow": {
     "slide_type": "fragment"
    }
   },
   "source": [
    "- Run the cell below to load in our dataset and clean it, using the functions defined in the last lecture."
   ]
  },
  {
   "cell_type": "code",
   "execution_count": null,
   "id": "9ca7f350",
   "metadata": {
    "deletable": true,
    "editable": true
   },
   "outputs": [],
   "source": [
    "def clean_term_column(df):\n",
    "    return df.assign(\n",
    "        term=df['term'].str.split().str[0].astype(int)\n",
    "    )\n",
    "def clean_date_column(df):\n",
    "    return (\n",
    "        df\n",
    "        .assign(date=pd.to_datetime(df['issue_d'], format='%b-%Y'))\n",
    "        .drop(columns=['issue_d'])\n",
    "    )"
   ]
  },
  {
   "cell_type": "code",
   "execution_count": null,
   "id": "06b0c3aa",
   "metadata": {
    "deletable": true,
    "editable": true
   },
   "outputs": [],
   "source": [
    "loans = (\n",
    "    pd.read_csv('data/loans.csv')\n",
    "    .pipe(clean_term_column)\n",
    "    .pipe(clean_date_column)\n",
    ")"
   ]
  },
  {
   "cell_type": "markdown",
   "id": "6dfbce7e",
   "metadata": {
    "deletable": true,
    "editable": true,
    "slideshow": {
     "slide_type": "fragment"
    }
   },
   "source": [
    "- Each time you run the cell below, you'll see a different sample of rows in `loans`."
   ]
  },
  {
   "cell_type": "code",
   "execution_count": null,
   "id": "38fd4059",
   "metadata": {
    "deletable": true,
    "editable": true
   },
   "outputs": [],
   "source": [
    "loans.sample(5)"
   ]
  },
  {
   "cell_type": "markdown",
   "id": "8b8f4706",
   "metadata": {
    "deletable": true,
    "editable": true,
    "slideshow": {
     "slide_type": "slide"
    }
   },
   "source": [
    "### Choosing the correct type of visualization"
   ]
  },
  {
   "cell_type": "markdown",
   "id": "5c91ffdc",
   "metadata": {
    "deletable": true,
    "editable": true,
    "slideshow": {
     "slide_type": "fragment"
    }
   },
   "source": [
    "- The type of visualization we create depends on the types of features we're visualizing."
   ]
  },
  {
   "cell_type": "markdown",
   "id": "8df89532",
   "metadata": {
    "deletable": true,
    "editable": true,
    "slideshow": {
     "slide_type": "fragment"
    }
   },
   "source": [
    "- We'll directly learn how to produce the **bolded** visualizations below, but the others are also options.<br><small>See more examples [**here**](https://learningds.org/ch/10/eda_feature_types.html#the-importance-of-feature-types).</small>"
   ]
  },
  {
   "cell_type": "markdown",
   "id": "f3ee94b8",
   "metadata": {
    "deletable": true,
    "editable": true,
    "slideshow": {
     "slide_type": "fragment"
    }
   },
   "source": [
    "| Feature types | Options |\n",
    "| --- | --- |\n",
    "| Single categorical feature | **Bar charts**, pie charts, dot plots |\n",
    "| Single numerical feature | **Histograms**, **box plots**, density curves,<br>rug plots, **violin plots**  |\n",
    "| Two numerical features | **Scatter plots**, **line plots**, heat maps,<br> contour plots |\n",
    "| One categorical and one numerical feature<br><small>It really depends on the nature of the features themselves!</small> | **Side-by-side** histograms, **box plots**, or **bar charts**,<br> overlaid line plots or density curves|"
   ]
  },
  {
   "cell_type": "markdown",
   "id": "6e2879c3",
   "metadata": {
    "deletable": true,
    "editable": true,
    "slideshow": {
     "slide_type": "fragment"
    }
   },
   "source": [
    "- Note that we use the words \"plot\", \"chart\", and \"graph\" to mean the same thing."
   ]
  },
  {
   "cell_type": "markdown",
   "id": "7ee7a5cc",
   "metadata": {
    "deletable": true,
    "editable": true,
    "slideshow": {
     "slide_type": "slide"
    }
   },
   "source": [
    "### Bar charts"
   ]
  },
  {
   "cell_type": "markdown",
   "id": "697df672",
   "metadata": {
    "deletable": true,
    "editable": true,
    "slideshow": {
     "slide_type": "fragment"
    }
   },
   "source": [
    "- Bar charts are used to show:\n",
    "    - The distribution of a single categorical feature, or\n",
    "    - The relationship between one categorical feature and one numerical feature."
   ]
  },
  {
   "cell_type": "markdown",
   "id": "a537830c",
   "metadata": {
    "deletable": true,
    "editable": true,
    "slideshow": {
     "slide_type": "fragment"
    }
   },
   "source": [
    "- Usage: `px.bar` / `px.barh` or `df.plot(kind='bar')` / `df.plot(kind='barh')`.<br><small>`'h'` stands for \"horizontal.\"</small>"
   ]
  },
  {
   "cell_type": "markdown",
   "id": "6ffe67b8",
   "metadata": {
    "deletable": true,
    "editable": true,
    "slideshow": {
     "slide_type": "fragment"
    }
   },
   "source": [
    "- Example: What is the distribution of `'addr_state'`s in `loans`?"
   ]
  },
  {
   "cell_type": "code",
   "execution_count": null,
   "id": "69973249",
   "metadata": {
    "deletable": true,
    "editable": true
   },
   "outputs": [],
   "source": [
    "# Here, we're using the .plot method on loans['addr_state'], which is a Series.\n",
    "# We prefer horizontal bar charts, since they're easier to read.\n",
    "(\n",
    "    loans['addr_state']\n",
    "    .value_counts()\n",
    "    .plot(kind='barh')\n",
    ")"
   ]
  },
  {
   "cell_type": "code",
   "execution_count": null,
   "id": "fb91e2cb",
   "metadata": {
    "deletable": true,
    "editable": true
   },
   "outputs": [],
   "source": [
    "# A little formatting goes a long way!\n",
    "(\n",
    "    loans['addr_state']\n",
    "    .value_counts()\n",
    "    .head(10)\n",
    "    .sort_values()\n",
    "    .plot(kind='barh', title='States of Residence for Successful Loan Applicants')\n",
    "    .update_layout()\n",
    ")"
   ]
  },
  {
   "cell_type": "markdown",
   "id": "3f8d9f45",
   "metadata": {
    "deletable": true,
    "editable": true,
    "slideshow": {
     "slide_type": "fragment"
    }
   },
   "source": [
    "- Example: What is the average `'int_rate'` for each `'home_ownership'` status?"
   ]
  },
  {
   "cell_type": "code",
   "execution_count": null,
   "id": "9f05081c",
   "metadata": {
    "deletable": true,
    "editable": true
   },
   "outputs": [],
   "source": [
    "(\n",
    "    loans\n",
    "    .groupby('home_ownership')\n",
    "    ['int_rate']\n",
    "    .mean()\n",
    "    .plot(kind='barh', title='Average Interest Rate by Home Ownership Status')\n",
    ")"
   ]
  },
  {
   "cell_type": "code",
   "execution_count": null,
   "id": "227699c9",
   "metadata": {
    "deletable": true,
    "editable": true
   },
   "outputs": [],
   "source": [
    "# The \"ANY\" category seems to be an outlier.\n",
    "loans['home_ownership'].value_counts()"
   ]
  },
  {
   "cell_type": "markdown",
   "id": "b733c53c",
   "metadata": {
    "deletable": true,
    "editable": true,
    "slideshow": {
     "slide_type": "slide"
    }
   },
   "source": [
    "### Side-by-side bar charts"
   ]
  },
  {
   "cell_type": "markdown",
   "id": "79b094e0",
   "metadata": {
    "deletable": true,
    "editable": true,
    "slideshow": {
     "slide_type": "fragment"
    }
   },
   "source": [
    "- Instead of just looking at `'int_rate'`s for different, `'home_ownership'` statuses, we could also group by loan `'term'`s, too. As we'll see, `'term'` impacts `'int_rate'` far more than `'home_ownership'`."
   ]
  },
  {
   "cell_type": "code",
   "execution_count": null,
   "id": "c3d5b0ed",
   "metadata": {
    "deletable": true,
    "editable": true
   },
   "outputs": [],
   "source": [
    "(\n",
    "    loans\n",
    "    .groupby('home_ownership')\n",
    "    .filter(lambda df: df.shape[0] > 1) # Gets rid of the \"ANY\" category.\n",
    "    .groupby(['home_ownership', 'term'])\n",
    "    [['int_rate']]\n",
    "    .mean()\n",
    ")"
   ]
  },
  {
   "cell_type": "markdown",
   "id": "f5d437d7",
   "metadata": {
    "deletable": true,
    "editable": true,
    "slideshow": {
     "slide_type": "fragment"
    }
   },
   "source": [
    "- A side-by-side bar chart, which we can create by setting the `color` and `barmode` arguments, makes the pattern clear:"
   ]
  },
  {
   "cell_type": "code",
   "execution_count": null,
   "id": "49874a80",
   "metadata": {
    "deletable": true,
    "editable": true
   },
   "outputs": [],
   "source": [
    "# Annoyingly, the side-by-side bar chart doesn't work properly\n",
    "# if the column that separates colors (here, 'term')\n",
    "# isn't made up of strings.\n",
    "(\n",
    "    loans\n",
    "    .assign(term=loans['term'].astype(str) + ' months')\n",
    "    .groupby('home_ownership')\n",
    "    .filter(lambda df: df.shape[0] > 1)\n",
    "    .groupby(['home_ownership', 'term'])\n",
    "    [['int_rate']]\n",
    "    .mean()\n",
    "    .reset_index()\n",
    "    .plot(kind='bar', \n",
    "          y='int_rate', \n",
    "          x='home_ownership', \n",
    "          color='term', \n",
    "          barmode='group',\n",
    "          title='Average Interest Rate by Home Ownership Status and Loan Term',\n",
    "          width=800)\n",
    ")"
   ]
  },
  {
   "cell_type": "markdown",
   "id": "ec3d581a",
   "metadata": {
    "deletable": true,
    "editable": true,
    "slideshow": {
     "slide_type": "fragment"
    }
   },
   "source": [
    "- **Why do longer loans have higher `'int_rate'`s on average?**"
   ]
  },
  {
   "cell_type": "markdown",
   "id": "bc110022",
   "metadata": {
    "deletable": true,
    "editable": true,
    "slideshow": {
     "slide_type": "slide"
    }
   },
   "source": [
    "### Histograms"
   ]
  },
  {
   "cell_type": "markdown",
   "id": "1c5458ff",
   "metadata": {
    "deletable": true,
    "editable": true,
    "slideshow": {
     "slide_type": "fragment"
    }
   },
   "source": [
    "- The previous slide showed the **average** `'int_rate'` for different combinations of `'home_ownership'` status and `'term'`. But what if we want to visualize more about `'int_rate'`s than just their average?"
   ]
  },
  {
   "cell_type": "markdown",
   "id": "68169ec2",
   "metadata": {
    "deletable": true,
    "editable": true,
    "slideshow": {
     "slide_type": "fragment"
    }
   },
   "source": [
    "- Histograms are used to show the distribution of a single numerical feature."
   ]
  },
  {
   "cell_type": "markdown",
   "id": "c6b7d5fc",
   "metadata": {
    "deletable": true,
    "editable": true,
    "slideshow": {
     "slide_type": "fragment"
    }
   },
   "source": [
    "- Usage: `px.histogram` or `df.plot(kind='hist')`."
   ]
  },
  {
   "cell_type": "markdown",
   "id": "8a69df46",
   "metadata": {
    "deletable": true,
    "editable": true,
    "slideshow": {
     "slide_type": "fragment"
    }
   },
   "source": [
    "- Example: What is the distribution of `'int_rate'`?"
   ]
  },
  {
   "cell_type": "code",
   "execution_count": null,
   "id": "0c2f6f8b",
   "metadata": {
    "deletable": true,
    "editable": true
   },
   "outputs": [],
   "source": [
    "(\n",
    "    loans\n",
    "    .plot(kind='hist', x='int_rate', title='Distribution of Interest Rates')\n",
    ")"
   ]
  },
  {
   "cell_type": "markdown",
   "id": "cf8cb5b4",
   "metadata": {
    "deletable": true,
    "editable": true,
    "slideshow": {
     "slide_type": "fragment"
    }
   },
   "source": [
    "- With fewer bins, we see less detail (and less noise) in the shape of the distribution.<br><small>Play with the slider that appears when you run the cell below!</small>"
   ]
  },
  {
   "cell_type": "code",
   "execution_count": null,
   "id": "e706233e",
   "metadata": {
    "deletable": true,
    "editable": true
   },
   "outputs": [],
   "source": [
    "from ipywidgets import interact\n",
    "def hist_bins(nbins):\n",
    "    (\n",
    "        loans\n",
    "        .plot(kind='hist', x='int_rate', nbins=nbins, title='Distribution of Interest Rates')\n",
    "        .show()\n",
    "    )\n",
    "interact(hist_bins, nbins=(1, 51));"
   ]
  },
  {
   "cell_type": "markdown",
   "id": "4b0ac557",
   "metadata": {
    "deletable": true,
    "editable": true,
    "slideshow": {
     "slide_type": "slide"
    }
   },
   "source": [
    "<div class=\"alert alert-warning\">\n",
    "    <h3>Question 🤔 (Answer at <a style=\"text-decoration: none; color: #0066cc\" href=\"https://docs.google.com/forms/d/e/1FAIpQLSd4oliiZYeNh76jWy-arfEtoAkCrVSsobZxPwxifWggo3EO0Q/viewform\">practicaldsc.org/q</a>)</h3>\n",
    "    \n",
    "<small>Remember that you can always ask questions anonymously at the link above!</small>\n",
    "    \n",
    "Based on the histogram below, what is the relationship between the mean and median interest rate?\n",
    "    \n",
    "- A. Mean > median.\n",
    "- B. Mean $\\approx$ median.\n",
    "- C. Mean < median."
   ]
  },
  {
   "cell_type": "code",
   "execution_count": null,
   "id": "e88f7ac6",
   "metadata": {
    "deletable": true,
    "editable": true
   },
   "outputs": [],
   "source": [
    "(\n",
    "    loans\n",
    "    .plot(kind='hist', x='int_rate', title='Distribution of Interest Rates')\n",
    ")"
   ]
  },
  {
   "cell_type": "markdown",
   "id": "3b58049a",
   "metadata": {
    "deletable": true,
    "editable": true,
    "slideshow": {
     "slide_type": "slide"
    }
   },
   "source": [
    "### Box plots and violin plots"
   ]
  },
  {
   "cell_type": "markdown",
   "id": "a688898b",
   "metadata": {
    "deletable": true,
    "editable": true,
    "slideshow": {
     "slide_type": "fragment"
    }
   },
   "source": [
    "- Box plots and violin plots are alternatives to histograms, in that they also are used to show the distribution of quantitative features.<br><small>Learn more about box plots [**here**](https://datatab.net/tutorial/box-plot).</small>"
   ]
  },
  {
   "cell_type": "markdown",
   "id": "9bb39395",
   "metadata": {
    "deletable": true,
    "editable": true,
    "slideshow": {
     "slide_type": "fragment"
    }
   },
   "source": [
    "- The benefit to them is that they're easily stacked side-by-side to compare distributions."
   ]
  },
  {
   "cell_type": "markdown",
   "id": "8ba6c3b1",
   "metadata": {
    "deletable": true,
    "editable": true,
    "slideshow": {
     "slide_type": "fragment"
    }
   },
   "source": [
    "- Example: What is the distribution of `'int_rate'`?"
   ]
  },
  {
   "cell_type": "code",
   "execution_count": null,
   "id": "3c0e6e33",
   "metadata": {
    "deletable": true,
    "editable": true
   },
   "outputs": [],
   "source": [
    "(\n",
    "    loans\n",
    "    .plot(kind='box', x='int_rate', title='Distribution of Interest Rates')\n",
    ")"
   ]
  },
  {
   "cell_type": "markdown",
   "id": "6a95bea1",
   "metadata": {
    "deletable": true,
    "editable": true,
    "slideshow": {
     "slide_type": "fragment"
    }
   },
   "source": [
    "- Example: What is the distribution of `'int_rate'`, separately for each loan `'term'`?"
   ]
  },
  {
   "cell_type": "code",
   "execution_count": null,
   "id": "a7839c2e",
   "metadata": {
    "deletable": true,
    "editable": true
   },
   "outputs": [],
   "source": [
    "(\n",
    "    loans\n",
    "    .plot(kind='box', y='int_rate', color='term', orientation='v', \n",
    "          title='Distribution of Interest Rates by Loan Term')\n",
    ")"
   ]
  },
  {
   "cell_type": "code",
   "execution_count": null,
   "id": "f01407e1",
   "metadata": {
    "deletable": true,
    "editable": true
   },
   "outputs": [],
   "source": [
    "(\n",
    "    loans\n",
    "    .plot(kind='violin', y='int_rate', color='term', orientation='v', \n",
    "          title='Distribution of Interest Rates by Loan Term')\n",
    ")"
   ]
  },
  {
   "cell_type": "markdown",
   "id": "83991f1c",
   "metadata": {
    "deletable": true,
    "editable": true,
    "slideshow": {
     "slide_type": "fragment"
    }
   },
   "source": [
    "- Overlaid histograms can be used to show the distributions of multiple numerical features, too."
   ]
  },
  {
   "cell_type": "code",
   "execution_count": null,
   "id": "3488c6ae",
   "metadata": {
    "deletable": true,
    "editable": true
   },
   "outputs": [],
   "source": [
    "(\n",
    "    loans\n",
    "    .plot(kind='hist', x='int_rate', color='term', marginal='box', nbins=20,\n",
    "          title='Distribution of Interest Rates by Loan Term')\n",
    ")"
   ]
  },
  {
   "cell_type": "markdown",
   "id": "b4ed2569",
   "metadata": {
    "deletable": true,
    "editable": true,
    "slideshow": {
     "slide_type": "slide"
    }
   },
   "source": [
    "### Scatter plots"
   ]
  },
  {
   "cell_type": "markdown",
   "id": "b0cba7b4",
   "metadata": {
    "deletable": true,
    "editable": true,
    "slideshow": {
     "slide_type": "fragment"
    }
   },
   "source": [
    "- Scatter plots are used to show the relationship between two quantitative features."
   ]
  },
  {
   "cell_type": "markdown",
   "id": "bf08eee9",
   "metadata": {
    "deletable": true,
    "editable": true,
    "slideshow": {
     "slide_type": "fragment"
    }
   },
   "source": [
    "- Usage: `px.scatter` or `df.plot(kind='scatter')`."
   ]
  },
  {
   "cell_type": "markdown",
   "id": "62cb10e4",
   "metadata": {
    "deletable": true,
    "editable": true,
    "slideshow": {
     "slide_type": "fragment"
    }
   },
   "source": [
    "- Example: What is the relationship between `'int_rate'` and debt-to-income ratio, `'dti'`?"
   ]
  },
  {
   "cell_type": "code",
   "execution_count": null,
   "id": "3af1a7cc",
   "metadata": {
    "deletable": true,
    "editable": true
   },
   "outputs": [],
   "source": [
    "(\n",
    "    loans\n",
    "    .sample(200, random_state=23)\n",
    "    .plot(kind='scatter', x='dti', y='int_rate', title='Interest Rate vs. Debt-to-Income Ratio')\n",
    ")"
   ]
  },
  {
   "cell_type": "markdown",
   "id": "efe0bd6b",
   "metadata": {
    "deletable": true,
    "editable": true,
    "slideshow": {
     "slide_type": "fragment"
    }
   },
   "source": [
    "- There are a multitude of ways that scatter plots can be customized. We can color points based on groups, we can resize points based on another numeric column, we can give them hover labels, etc."
   ]
  },
  {
   "cell_type": "code",
   "execution_count": null,
   "id": "da5d78bb",
   "metadata": {
    "deletable": true,
    "editable": true
   },
   "outputs": [],
   "source": [
    "(\n",
    "    loans\n",
    "    .assign(term=loans['term'].astype(str))\n",
    "    .sample(200, random_state=23)\n",
    "    .plot(kind='scatter', x='dti', y='int_rate', color='term',\n",
    "          hover_name='id', size='loan_amnt',\n",
    "          title='Interest Rate vs. Debt-to-Income Ratio')\n",
    ")"
   ]
  },
  {
   "cell_type": "markdown",
   "id": "4a87d8c8",
   "metadata": {
    "deletable": true,
    "editable": true,
    "slideshow": {
     "slide_type": "slide"
    }
   },
   "source": [
    "### Line charts"
   ]
  },
  {
   "cell_type": "markdown",
   "id": "adeb2df1",
   "metadata": {
    "deletable": true,
    "editable": true,
    "slideshow": {
     "slide_type": "fragment"
    }
   },
   "source": [
    "- Line charts are used to show how one quantitative feature changes over time."
   ]
  },
  {
   "cell_type": "markdown",
   "id": "8c9c1c60",
   "metadata": {
    "deletable": true,
    "editable": true,
    "slideshow": {
     "slide_type": "fragment"
    }
   },
   "source": [
    "- Usage: `px.line` or `df.plot(kind='line')`."
   ]
  },
  {
   "cell_type": "markdown",
   "id": "00bbe4ab",
   "metadata": {
    "deletable": true,
    "editable": true,
    "slideshow": {
     "slide_type": "fragment"
    }
   },
   "source": [
    "- Example: How many loans were given out each year in our dataset?<br><small>This is likely not true of the market in general, or even LendingClub in general, but just a consequence of where our dataset came from.</small>"
   ]
  },
  {
   "cell_type": "code",
   "execution_count": null,
   "id": "f645d92f",
   "metadata": {
    "deletable": true,
    "editable": true
   },
   "outputs": [],
   "source": [
    "(\n",
    "    loans\n",
    "    .assign(year=loans['date'].dt.year)\n",
    "    ['year']\n",
    "    .value_counts()\n",
    "    .sort_index()\n",
    "    .plot(kind='line', title='Number of Loans Given Per Year')\n",
    ")"
   ]
  },
  {
   "cell_type": "markdown",
   "id": "25b61089",
   "metadata": {
    "deletable": true,
    "editable": true,
    "slideshow": {
     "slide_type": "fragment"
    }
   },
   "source": [
    "- Example: How has the average `'int_rate'` changed over time?"
   ]
  },
  {
   "cell_type": "code",
   "execution_count": null,
   "id": "ddd8a99a",
   "metadata": {
    "deletable": true,
    "editable": true
   },
   "outputs": [],
   "source": [
    "(\n",
    "    loans\n",
    "    .resample('6M', on='date')\n",
    "    ['int_rate']\n",
    "    .mean()\n",
    "    .plot(kind='line', title='Average Interest Rate over Time')\n",
    ")"
   ]
  },
  {
   "cell_type": "markdown",
   "id": "db4b5fe4",
   "metadata": {
    "deletable": true,
    "editable": true,
    "slideshow": {
     "slide_type": "fragment"
    }
   },
   "source": [
    "- Example: How has the average `'int_rate'` changed over time, separately for 36 month and 60 month loans?"
   ]
  },
  {
   "cell_type": "code",
   "execution_count": null,
   "id": "8aa9a715",
   "metadata": {
    "deletable": true,
    "editable": true
   },
   "outputs": [],
   "source": [
    "..."
   ]
  },
  {
   "cell_type": "markdown",
   "id": "c386dc82",
   "metadata": {
    "deletable": true,
    "editable": true,
    "slideshow": {
     "slide_type": "slide"
    }
   },
   "source": [
    "### Even more examples"
   ]
  },
  {
   "cell_type": "markdown",
   "id": "3ce639ba",
   "metadata": {
    "deletable": true,
    "editable": true,
    "slideshow": {
     "slide_type": "fragment"
    }
   },
   "source": [
    "- We've uploaded a supplementary notebook, `lec08-extra.ipynb` that contains even more examples of visualizations created in `plotly`. There's also an HTML version, posted on the course website."
   ]
  },
  {
   "cell_type": "markdown",
   "id": "6fc377e4",
   "metadata": {
    "deletable": true,
    "editable": true,
    "slideshow": {
     "slide_type": "fragment"
    }
   },
   "source": [
    "- Refer to it, along with the [`plotly` examples library](https://plotly.com/python/), for inspiration and reference!"
   ]
  },
  {
   "cell_type": "markdown",
   "id": "14966580",
   "metadata": {
    "deletable": true,
    "editable": true,
    "slideshow": {
     "slide_type": "slide"
    }
   },
   "source": [
    "## Visualization best practices\n",
    "\n",
    "---"
   ]
  },
  {
   "cell_type": "markdown",
   "id": "24204896",
   "metadata": {
    "deletable": true,
    "editable": true,
    "slideshow": {
     "slide_type": "slide"
    }
   },
   "source": [
    "### Visualizations complement statistics\n",
    "\n",
    "<center><img src=\"imgs/dino.png\" width=800></center>\n",
    "\n",
    "<center>These 13 scatter plots, take from <a href=\"https://www.research.autodesk.com/publications/same-stats-different-graphs/\">here</a>, all have the same means and standard deviations of $x$ and $y$, and the same correlations. But they look very different!</center>"
   ]
  },
  {
   "cell_type": "markdown",
   "id": "d205588c",
   "metadata": {
    "deletable": true,
    "editable": true,
    "slideshow": {
     "slide_type": "slide"
    }
   },
   "source": [
    "### Why visualize?"
   ]
  },
  {
   "cell_type": "markdown",
   "id": "dc210a44",
   "metadata": {
    "deletable": true,
    "editable": true,
    "slideshow": {
     "slide_type": "fragment"
    }
   },
   "source": [
    "- In this lecture, we created several visualizations using just a single dataset.\n",
    "\n",
    "<center><img src=\"imgs/array.png\" width=1300</center>"
   ]
  },
  {
   "cell_type": "markdown",
   "id": "40ae420f",
   "metadata": {
    "deletable": true,
    "editable": true,
    "slideshow": {
     "slide_type": "fragment"
    }
   },
   "source": [
    "- The visualizations we want to create will often dictate the data cleaning steps we take.<br><small>For example, the plot of average interest rate over time wouldn't have been possible if we hadn't converted dates to timestamp objects!</small>"
   ]
  },
  {
   "cell_type": "markdown",
   "id": "d2c1deb7",
   "metadata": {
    "deletable": true,
    "editable": true,
    "slideshow": {
     "slide_type": "fragment"
    }
   },
   "source": [
    "- One reason to create visualizations is for **us** to better understand our data."
   ]
  },
  {
   "cell_type": "markdown",
   "id": "b6cb67fa",
   "metadata": {
    "deletable": true,
    "editable": true,
    "slideshow": {
     "slide_type": "fragment"
    }
   },
   "source": [
    "- Another reason is to **_accurately communicate_ a message to other people**!"
   ]
  },
  {
   "cell_type": "markdown",
   "id": "d6fb4218",
   "metadata": {
    "deletable": true,
    "editable": true,
    "slideshow": {
     "slide_type": "slide"
    }
   },
   "source": [
    "<center><img src=\"imgs/bad-india.jpg\" width=600>\n",
    "\n",
    "</center>\n",
    "\n",
    "<br>\n",
    "\n",
    "<center>What's wrong with <a href=\"https://x.com/JeffDean/status/1291613522942504962\">this visualization</a>?</center>"
   ]
  },
  {
   "cell_type": "markdown",
   "id": "a32068b5",
   "metadata": {
    "deletable": true,
    "editable": true,
    "slideshow": {
     "slide_type": "slide"
    }
   },
   "source": [
    "<center><img src=\"imgs/bad-bar.png\" width=600>\n",
    "\n",
    "</center>\n",
    "\n",
    "<br>\n",
    "\n",
    "<center>What's wrong with <a href=\"https://www.researchgate.net/publication/2564098_User_Adaptive_Information_Visualization#pf2\">this visualization</a>?</center>"
   ]
  },
  {
   "cell_type": "markdown",
   "id": "282618b8",
   "metadata": {
    "deletable": true,
    "editable": true,
    "slideshow": {
     "slide_type": "slide"
    }
   },
   "source": [
    "### Example: Populations of continents"
   ]
  },
  {
   "cell_type": "markdown",
   "id": "760f64cc",
   "metadata": {
    "deletable": true,
    "editable": true,
    "slideshow": {
     "slide_type": "fragment"
    }
   },
   "source": [
    "- Below, we load in a dataset with information about various countries over time, maintained by [Gapminder](https://www.gapminder.org/)."
   ]
  },
  {
   "cell_type": "code",
   "execution_count": null,
   "id": "29e211ee",
   "metadata": {
    "deletable": true,
    "editable": true
   },
   "outputs": [],
   "source": [
    "world = px.data.gapminder() # The dataset is built into plotly.express.\n",
    "world"
   ]
  },
  {
   "cell_type": "markdown",
   "id": "c757485e",
   "metadata": {
    "deletable": true,
    "editable": true,
    "slideshow": {
     "slide_type": "fragment"
    }
   },
   "source": [
    "- Let's suppose we're interested in understanding the distribution of Earth's population by continent."
   ]
  },
  {
   "cell_type": "code",
   "execution_count": null,
   "id": "9cbf1190",
   "metadata": {
    "deletable": true,
    "editable": true
   },
   "outputs": [],
   "source": [
    "pop_by_cont = (\n",
    "    world[world['year'] == world['year'].max()]\n",
    "    .groupby('continent')\n",
    "    ['pop']\n",
    "    .sum()\n",
    ")\n",
    "pop_by_cont"
   ]
  },
  {
   "cell_type": "markdown",
   "id": "e7566582",
   "metadata": {
    "deletable": true,
    "editable": true,
    "slideshow": {
     "slide_type": "fragment"
    }
   },
   "source": [
    "- We've been taught to draw a bar chart:"
   ]
  },
  {
   "cell_type": "code",
   "execution_count": null,
   "id": "5e9b667b",
   "metadata": {
    "deletable": true,
    "editable": true
   },
   "outputs": [],
   "source": [
    "(\n",
    "    pop_by_cont\n",
    "    .sort_values()\n",
    "    .plot(kind='barh', title='Distribution of Population by Continent')\n",
    ")"
   ]
  },
  {
   "cell_type": "markdown",
   "id": "fdb90b04",
   "metadata": {
    "deletable": true,
    "editable": true,
    "slideshow": {
     "slide_type": "fragment"
    }
   },
   "source": [
    "- Or, we _could_ draw a pie chart:"
   ]
  },
  {
   "cell_type": "code",
   "execution_count": null,
   "id": "53bf4c42",
   "metadata": {
    "deletable": true,
    "editable": true
   },
   "outputs": [],
   "source": [
    "px.pie(\n",
    "    pop_by_cont.reset_index(), \n",
    "    values='pop',\n",
    "    names='continent',\n",
    "    title='Distribution of Population by Continent'\n",
    ").update_traces(textinfo='label')"
   ]
  },
  {
   "cell_type": "markdown",
   "id": "f49898f1",
   "metadata": {
    "deletable": true,
    "editable": true,
    "slideshow": {
     "slide_type": "fragment"
    }
   },
   "source": [
    "- In which plot is it easier to see that Africa's population is larger than that of the Americas?"
   ]
  },
  {
   "cell_type": "markdown",
   "id": "d3bea768",
   "metadata": {
    "deletable": true,
    "editable": true,
    "slideshow": {
     "slide_type": "slide"
    }
   },
   "source": [
    "### Takeaway: Make comparisons easy!"
   ]
  },
  {
   "cell_type": "markdown",
   "id": "045a6620",
   "metadata": {
    "deletable": true,
    "editable": true,
    "slideshow": {
     "slide_type": "fragment"
    }
   },
   "source": [
    "- In the mid-1980s, statisticians ran experiments comparing how easily human subjects were able to tell apart changes in length, angle, area, volume, color, and other **visual encodings**.<br><small>Read [**this article**](https://peteraldhous.com/ucb/2016/dataviz/week2.html) for more details.</small>\n",
    "\n",
    "<center><img src=\"imgs/perception.png\" width=500></center>"
   ]
  },
  {
   "cell_type": "markdown",
   "id": "33ed800e",
   "metadata": {
    "deletable": true,
    "editable": true,
    "slideshow": {
     "slide_type": "fragment"
    }
   },
   "source": [
    "- **Your job is to make comparisons easy!** Avoid pie charts and other visual representations that make it difficult to understand the data.<br><small>In the women's heights example, the area of the India figure is tiny compared to the area of the Latvia figure, despite only representing a value 5 inches smaller.</small> "
   ]
  },
  {
   "cell_type": "markdown",
   "id": "e9b197c7",
   "metadata": {
    "deletable": true,
    "editable": true,
    "slideshow": {
     "slide_type": "slide"
    }
   },
   "source": [
    "### Aside: What is a distribution?"
   ]
  },
  {
   "cell_type": "markdown",
   "id": "1f393859",
   "metadata": {
    "deletable": true,
    "editable": true,
    "slideshow": {
     "slide_type": "fragment"
    }
   },
   "source": [
    "- **Question**: Why does the following bar chart **not** contain a distribution?\n",
    "\n",
    "<center><img src=\"imgs/not-dist.png\" width=500></center>"
   ]
  },
  {
   "cell_type": "markdown",
   "id": "07798714",
   "metadata": {
    "deletable": true,
    "editable": true,
    "slideshow": {
     "slide_type": "fragment"
    }
   },
   "source": [
    "- **Answer**: Because individuals can be in multiple categories, and the frequencies don't add to 100%.<br><small>Read the fine print!</small>"
   ]
  },
  {
   "cell_type": "markdown",
   "id": "a65d4e92",
   "metadata": {
    "deletable": true,
    "editable": true,
    "slideshow": {
     "slide_type": "fragment"
    }
   },
   "source": [
    "- The distribution of a feature tells us the unique values of a feature, and how often they occur.<br><small>If using counts, they should add up to the number of data points; if using percentages, they should add up to 100%.</small>"
   ]
  },
  {
   "cell_type": "code",
   "execution_count": null,
   "id": "ab07f668",
   "metadata": {
    "deletable": true,
    "editable": true
   },
   "outputs": [],
   "source": [
    "# Actually a distribution!\n",
    "(\n",
    "    pop_by_cont\n",
    "    .sort_values()\n",
    "    .plot(kind='barh', title='Distribution of Population by Continent')\n",
    ")"
   ]
  },
  {
   "cell_type": "markdown",
   "id": "538db6a3",
   "metadata": {
    "deletable": true,
    "editable": true,
    "slideshow": {
     "slide_type": "slide"
    }
   },
   "source": [
    "### Example: Number of Walmarts"
   ]
  },
  {
   "cell_type": "markdown",
   "id": "a0bee090",
   "metadata": {
    "deletable": true,
    "editable": true,
    "slideshow": {
     "slide_type": "fragment"
    }
   },
   "source": [
    "- Below, we load in a dataset describing each Walmart location in the US as of 2006."
   ]
  },
  {
   "cell_type": "code",
   "execution_count": null,
   "id": "65eca939",
   "metadata": {
    "deletable": true,
    "editable": true
   },
   "outputs": [],
   "source": [
    "wm = pd.read_csv('data/walmart.csv')\n",
    "wm"
   ]
  },
  {
   "cell_type": "code",
   "execution_count": null,
   "id": "ffc52c1c",
   "metadata": {
    "deletable": true,
    "editable": true
   },
   "outputs": [],
   "source": [
    "wm.columns"
   ]
  },
  {
   "cell_type": "markdown",
   "id": "2da49f5a",
   "metadata": {
    "deletable": true,
    "editable": true,
    "slideshow": {
     "slide_type": "fragment"
    }
   },
   "source": [
    "- Let's visualize the number of Walmarts per state. We could use a bar chart, as in the continents example."
   ]
  },
  {
   "cell_type": "code",
   "execution_count": null,
   "id": "a2e32377",
   "metadata": {
    "deletable": true,
    "editable": true
   },
   "outputs": [],
   "source": [
    "wm_per_state = wm['STRSTATE'].value_counts()\n",
    "wm_per_state"
   ]
  },
  {
   "cell_type": "code",
   "execution_count": null,
   "id": "87664941",
   "metadata": {
    "deletable": true,
    "editable": true,
    "slideshow": {
     "slide_type": "fragment"
    }
   },
   "outputs": [],
   "source": [
    "wm_per_state.head(10).sort_values().plot(kind='barh', title='Number of Walmarts Per State')"
   ]
  },
  {
   "cell_type": "markdown",
   "id": "70ba7fc1",
   "metadata": {
    "deletable": true,
    "editable": true,
    "slideshow": {
     "slide_type": "fragment"
    }
   },
   "source": [
    "- But, perhaps a more interesting visualization is a **choropleth**."
   ]
  },
  {
   "cell_type": "code",
   "execution_count": null,
   "id": "0eb36c49",
   "metadata": {
    "deletable": true,
    "editable": true
   },
   "outputs": [],
   "source": [
    "choro = px.choropleth(wm_per_state.reset_index(),\n",
    "             locations='STRSTATE',\n",
    "             color='count',\n",
    "             locationmode='USA-states',\n",
    "             scope='usa',\n",
    "             title='Number of Walmarts Per State')\n",
    "choro"
   ]
  },
  {
   "cell_type": "markdown",
   "id": "e9ff594b",
   "metadata": {
    "deletable": true,
    "editable": true,
    "slideshow": {
     "slide_type": "slide"
    }
   },
   "source": [
    "### Takeaway: Choose an appropriate color scheme!"
   ]
  },
  {
   "cell_type": "markdown",
   "id": "cd4fdfd1",
   "metadata": {
    "deletable": true,
    "editable": true,
    "slideshow": {
     "slide_type": "fragment"
    }
   },
   "source": [
    "- **Question**: What is different between the following two choropleths?\n",
    "\n",
    "<center><img src=\"imgs/repl.png\" width=800></center>"
   ]
  },
  {
   "cell_type": "code",
   "execution_count": null,
   "id": "6e8c23cf",
   "metadata": {
    "deletable": true,
    "editable": true
   },
   "outputs": [],
   "source": [
    "choro"
   ]
  },
  {
   "cell_type": "markdown",
   "id": "7c079256",
   "metadata": {
    "deletable": true,
    "editable": true,
    "slideshow": {
     "slide_type": "fragment"
    }
   },
   "source": [
    "- **Answer**: In the top choropleth, the feature being compared across states is **categorical** (political party). In the bottom choropleth, the feature being compared across states is **numerical** (number of Walmarts)."
   ]
  },
  {
   "cell_type": "markdown",
   "id": "0b5c43c8",
   "metadata": {
    "deletable": true,
    "editable": true,
    "slideshow": {
     "slide_type": "fragment"
    }
   },
   "source": [
    "- When comparing **categories**, use very different colors for each category, ideally choosing from a known [color-blind friendly color palette](https://davidmathlogic.com/colorblind/#%23D81B60-%231E88E5-%23FFC107-%23004D40)."
   ]
  },
  {
   "cell_type": "markdown",
   "id": "fc136c8c",
   "metadata": {
    "deletable": true,
    "editable": true,
    "slideshow": {
     "slide_type": "fragment"
    }
   },
   "source": [
    "- When comparing **numbers**, choose an appropriate _continuous_ color scheme.<br><small>There are two types: sequential, where larger values are more intense and smaller values are less intensive; or diverging, where both large and small values are equally intense, but in different colors.</small>"
   ]
  },
  {
   "cell_type": "markdown",
   "id": "d3b934b9",
   "metadata": {
    "deletable": true,
    "editable": true,
    "slideshow": {
     "slide_type": "slide"
    }
   },
   "source": [
    "### More examples"
   ]
  },
  {
   "cell_type": "markdown",
   "id": "fb921211",
   "metadata": {
    "deletable": true,
    "editable": true,
    "slideshow": {
     "slide_type": "fragment"
    }
   },
   "source": [
    "- Here's another example of a **sequential** continuous color scale in action:"
   ]
  },
  {
   "cell_type": "code",
   "execution_count": null,
   "id": "48c66bed",
   "metadata": {
    "deletable": true,
    "editable": true
   },
   "outputs": [],
   "source": [
    "px.choropleth(wm_per_state.reset_index(),\n",
    "             locations='STRSTATE',\n",
    "             color='count',\n",
    "             locationmode='USA-states',\n",
    "             scope='usa',\n",
    "             title='Number of Walmarts Per State',\n",
    "             color_continuous_scale='greens')"
   ]
  },
  {
   "cell_type": "markdown",
   "id": "28df24e1",
   "metadata": {
    "deletable": true,
    "editable": true,
    "slideshow": {
     "slide_type": "fragment"
    }
   },
   "source": [
    "- Here's a **diverging** color scale, where dark blue means \"large\" and dark red means \"small.\" Here, it feels unnatural that states with very few Walmarts and very many Walmarts are similarly \"intense.\""
   ]
  },
  {
   "cell_type": "code",
   "execution_count": null,
   "id": "d0ad57ee",
   "metadata": {
    "deletable": true,
    "editable": true
   },
   "outputs": [],
   "source": [
    "px.choropleth(wm_per_state.reset_index(),\n",
    "             locations='STRSTATE',\n",
    "             color='count',\n",
    "             locationmode='USA-states',\n",
    "             scope='usa',\n",
    "             title='Number of Walmarts Per State',\n",
    "             color_continuous_scale='rdbu')"
   ]
  },
  {
   "cell_type": "markdown",
   "id": "c4fe358a",
   "metadata": {
    "deletable": true,
    "editable": true,
    "slideshow": {
     "slide_type": "fragment"
    }
   },
   "source": [
    "- But, diverging color schemes like the one above make sense in other cases, e.g. in [political choropleths that show voting margins](https://www.270towin.com/maps/consensus-2024-presidential-election-forecast)."
   ]
  },
  {
   "cell_type": "markdown",
   "id": "243bb1fb",
   "metadata": {
    "deletable": true,
    "editable": true,
    "slideshow": {
     "slide_type": "slide"
    }
   },
   "source": [
    "### More resources"
   ]
  },
  {
   "cell_type": "markdown",
   "id": "f1a729dc",
   "metadata": {
    "deletable": true,
    "editable": true,
    "slideshow": {
     "slide_type": "fragment"
    }
   },
   "source": [
    "- Entire courses are dedicated to data visualization.<br><small>Unfortunately, we don't have an entire semester to dedicate to it ourselves!</small>"
   ]
  },
  {
   "cell_type": "markdown",
   "id": "8717e5cf",
   "metadata": {
    "deletable": true,
    "editable": true,
    "slideshow": {
     "slide_type": "fragment"
    }
   },
   "source": [
    "- We've just provided you with a few high-level considerations to be aware of when making plots."
   ]
  },
  {
   "cell_type": "markdown",
   "id": "e3987f7b",
   "metadata": {
    "deletable": true,
    "editable": true,
    "slideshow": {
     "slide_type": "fragment"
    }
   },
   "source": [
    "- For more resources, look at:\n",
    "    - [This lecture](https://ds100.org/su20/lecture/lec10) I taught at another university that discusses some of these ideas in more depth.\n",
    "    - [This visualization course at UC San Diego](https://dsc-courses.github.io/dsc106-wi24).\n",
    "    - [This visualization course at the University of Washington](https://courses.cs.washington.edu/courses/cse442/23au/).\n",
    "    - [This visualization course at UC Berkeley](https://peteraldhous.com/ucb/2016/dataviz/)."
   ]
  },
  {
   "cell_type": "markdown",
   "id": "10fa61ab",
   "metadata": {
    "deletable": true,
    "editable": true,
    "slideshow": {
     "slide_type": "slide"
    }
   },
   "source": [
    "## Handling missing values\n",
    "\n",
    "---"
   ]
  },
  {
   "cell_type": "markdown",
   "id": "8a0f737e",
   "metadata": {
    "deletable": true,
    "editable": true,
    "slideshow": {
     "slide_type": "slide"
    }
   },
   "source": [
    "### Intentionally missing values and default replacements"
   ]
  },
  {
   "cell_type": "markdown",
   "id": "c58a1b4e",
   "metadata": {
    "deletable": true,
    "editable": true,
    "slideshow": {
     "slide_type": "fragment"
    }
   },
   "source": [
    "- Sometimes, values are missing **intentionally**, or by design. In these cases, we **can't** fill in the missing values.<br><small>For instance, if we survey students and ask \"if you're from Michigan, what high school did you go to?\", the students not from Michigan will have missing responses. But, there's **nothing to fill in**, since they're not from Michigan!</small>"
   ]
  },
  {
   "cell_type": "markdown",
   "id": "da0b5c19",
   "metadata": {
    "deletable": true,
    "editable": true,
    "slideshow": {
     "slide_type": "fragment"
    }
   },
   "source": [
    "- Other times, missing values have a **default** replacement.<br><small>For instance, you automatically get a 0 for all assignments you don't submit in this class. So, when calculating your grades, I'll need to fill in all of your `NaN`s with 0. The DataFrame/Series `fillna` method helps with this.</small>"
   ]
  },
  {
   "cell_type": "markdown",
   "id": "82bb4c0e",
   "metadata": {
    "deletable": true,
    "editable": true,
    "slideshow": {
     "slide_type": "fragment"
    }
   },
   "source": [
    "- **Most situations are more complicated than this, though!**<br><small>**Don't** get in the habit of just automatically filling all null values with 0.</small>"
   ]
  },
  {
   "cell_type": "markdown",
   "id": "cb61a7fd",
   "metadata": {
    "deletable": true,
    "editable": true,
    "slideshow": {
     "slide_type": "slide"
    }
   },
   "source": [
    "### Generally, what do we do with missing data?"
   ]
  },
  {
   "cell_type": "markdown",
   "id": "87f85b1d",
   "metadata": {
    "deletable": true,
    "editable": true,
    "slideshow": {
     "slide_type": "fragment"
    }
   },
   "source": [
    "- Consider a feature, $Y$.<br><small>Imagine $Y$ is a column in a DataFrame.</small>"
   ]
  },
  {
   "cell_type": "markdown",
   "id": "f5b880e8",
   "metadata": {
    "deletable": true,
    "editable": true,
    "slideshow": {
     "slide_type": "fragment"
    }
   },
   "source": [
    "- Some of its values, $Y_\\text{present}$, are present, while others, $Y_\\text{missing}$, are missing."
   ]
  },
  {
   "cell_type": "markdown",
   "id": "0847b105",
   "metadata": {
    "deletable": true,
    "editable": true,
    "slideshow": {
     "slide_type": "fragment"
    }
   },
   "source": [
    "- **Issue**: $Y_\\text{present}$ may **look** different than the full dataset, $Y$.<br><small>Remember, we don't get to see $Y$.</small>"
   ]
  },
  {
   "cell_type": "markdown",
   "id": "b6a08892",
   "metadata": {
    "deletable": true,
    "editable": true,
    "slideshow": {
     "slide_type": "fragment"
    }
   },
   "source": [
    "- That is, the mean, median, and variance of $Y_\\text{present}$ may be different than that of $Y$."
   ]
  },
  {
   "cell_type": "markdown",
   "id": "dc391a9c",
   "metadata": {
    "deletable": true,
    "editable": true,
    "slideshow": {
     "slide_type": "fragment"
    }
   },
   "source": [
    "- Furthermore, the correlations between $Y_\\text{present}$ and other features may be different than the correlations between $Y$ and other features."
   ]
  },
  {
   "cell_type": "markdown",
   "id": "fe94d56f",
   "metadata": {
    "deletable": true,
    "editable": true,
    "slideshow": {
     "slide_type": "slide"
    }
   },
   "source": [
    "### Example: Heights"
   ]
  },
  {
   "cell_type": "markdown",
   "id": "45379e9e",
   "metadata": {
    "deletable": true,
    "editable": true,
    "slideshow": {
     "slide_type": "fragment"
    }
   },
   "source": [
    "- Below, we load in a dataset containing the heights of parents and their children. Some of the `'child'`'s heights are missing."
   ]
  },
  {
   "cell_type": "markdown",
   "id": "c98c7a25",
   "metadata": {
    "deletable": true,
    "editable": true,
    "slideshow": {
     "slide_type": "fragment"
    }
   },
   "source": [
    "- **Aside**: The dataset was collected by [Sir Francis Galton](https://en.wikipedia.org/wiki/Francis_Galton), who developed many key ideas in statistics (including correlation and regression) for the purposes of eugenics, which he is also the originator of."
   ]
  },
  {
   "cell_type": "code",
   "execution_count": null,
   "id": "9704f0cf",
   "metadata": {
    "deletable": true,
    "editable": true
   },
   "outputs": [],
   "source": [
    "heights = pd.read_csv('data/heights-missing-2.csv')\n",
    "heights.head()"
   ]
  },
  {
   "cell_type": "markdown",
   "id": "eb656683",
   "metadata": {
    "deletable": true,
    "editable": true,
    "slideshow": {
     "slide_type": "fragment"
    }
   },
   "source": [
    "- **Goal**: Try and fill the missing values in `heights['child']` using the information **we do have**."
   ]
  },
  {
   "cell_type": "markdown",
   "id": "8b65906a",
   "metadata": {
    "deletable": true,
    "editable": true,
    "slideshow": {
     "slide_type": "fragment"
    }
   },
   "source": [
    "- **Plan**: Discuss several ideas on how to solve this problem.<br><small>In practice, the approach you use depends on the situation.</small>"
   ]
  },
  {
   "cell_type": "markdown",
   "id": "f22cc7b8",
   "metadata": {
    "deletable": true,
    "editable": true,
    "slideshow": {
     "slide_type": "slide"
    }
   },
   "source": [
    "### Aside: Kernel density estimates"
   ]
  },
  {
   "cell_type": "markdown",
   "id": "2a4b3012",
   "metadata": {
    "deletable": true,
    "editable": true,
    "slideshow": {
     "slide_type": "fragment"
    }
   },
   "source": [
    "- In this section, we'll need to visualize the distributions of many numerical features."
   ]
  },
  {
   "cell_type": "markdown",
   "id": "8f8f1fa2",
   "metadata": {
    "deletable": true,
    "editable": true,
    "slideshow": {
     "slide_type": "fragment"
    }
   },
   "source": [
    "- To do so, we'll use yet another visualization, a **kernel density estimate** (KDE). Think of a KDE as a smoothed version of a histogram."
   ]
  },
  {
   "cell_type": "code",
   "execution_count": null,
   "id": "68812b9f",
   "metadata": {
    "deletable": true,
    "editable": true
   },
   "outputs": [],
   "source": [
    "heights['child'].plot(kind='hist', nbins=30)"
   ]
  },
  {
   "cell_type": "code",
   "execution_count": null,
   "id": "1e8ab971",
   "metadata": {
    "deletable": true,
    "editable": true
   },
   "outputs": [],
   "source": [
    "# You can see how multiple_kdes is defined at the top of the notebook.\n",
    "multiple_kdes({'Before Imputation': heights['child']})"
   ]
  },
  {
   "cell_type": "markdown",
   "id": "dbb6d5bb",
   "metadata": {
    "deletable": true,
    "editable": true,
    "slideshow": {
     "slide_type": "slide"
    }
   },
   "source": [
    "### Idea: Dropping missing values"
   ]
  },
  {
   "cell_type": "markdown",
   "id": "448b66db",
   "metadata": {
    "deletable": true,
    "editable": true,
    "slideshow": {
     "slide_type": "fragment"
    }
   },
   "source": [
    "- One solution is to \"drop\" all rows with missing values, and do calculations with just the values that we have."
   ]
  },
  {
   "cell_type": "markdown",
   "id": "dd90cd38",
   "metadata": {
    "deletable": true,
    "editable": true,
    "slideshow": {
     "slide_type": "fragment"
    }
   },
   "source": [
    "- This is called **listwise deletion**."
   ]
  },
  {
   "cell_type": "code",
   "execution_count": null,
   "id": "ca873794",
   "metadata": {
    "deletable": true,
    "editable": true,
    "slideshow": {
     "slide_type": "fragment"
    }
   },
   "outputs": [],
   "source": [
    "heights"
   ]
  },
  {
   "cell_type": "code",
   "execution_count": null,
   "id": "81c8b224",
   "metadata": {
    "deletable": true,
    "editable": true
   },
   "outputs": [],
   "source": [
    "heights.dropna()"
   ]
  },
  {
   "cell_type": "markdown",
   "id": "5157538f",
   "metadata": {
    "deletable": true,
    "editable": true,
    "slideshow": {
     "slide_type": "fragment"
    }
   },
   "source": [
    "- **Issue**: We went from 934 to 765 rows, which means we lost 18% of rows for all columns, even columns in which no values were originally missing."
   ]
  },
  {
   "cell_type": "markdown",
   "id": "7855a3c9",
   "metadata": {
    "deletable": true,
    "editable": true,
    "slideshow": {
     "slide_type": "fragment"
    }
   },
   "source": [
    "- Most `numpy`/`pandas` methods already ignore missing values when performing calculations, so we don't _need_ to do anything to ignore the missing values when calculating the mean and standard deviation."
   ]
  },
  {
   "cell_type": "code",
   "execution_count": null,
   "id": "cf81bf8d",
   "metadata": {
    "deletable": true,
    "editable": true
   },
   "outputs": [],
   "source": [
    "..."
   ]
  },
  {
   "cell_type": "code",
   "execution_count": null,
   "id": "e313d3c0",
   "metadata": {
    "deletable": true,
    "editable": true
   },
   "outputs": [],
   "source": [
    "..."
   ]
  },
  {
   "cell_type": "markdown",
   "id": "f3bcb521",
   "metadata": {
    "deletable": true,
    "editable": true,
    "slideshow": {
     "slide_type": "slide"
    }
   },
   "source": [
    "### Idea: Mean imputation"
   ]
  },
  {
   "cell_type": "markdown",
   "id": "dfa099b0",
   "metadata": {
    "deletable": true,
    "editable": true,
    "slideshow": {
     "slide_type": "fragment"
    }
   },
   "source": [
    "- Suppose we need all of the missing values to be filled in, or **imputed**, for our future analyses, meaning we can't just drop them."
   ]
  },
  {
   "cell_type": "markdown",
   "id": "d0146de2",
   "metadata": {
    "deletable": true,
    "editable": true,
    "slideshow": {
     "slide_type": "fragment"
    }
   },
   "source": [
    "- A **terrible** idea would be to impute all of the missing values with 0. Why?"
   ]
  },
  {
   "cell_type": "code",
   "execution_count": null,
   "id": "8b16ad10",
   "metadata": {
    "deletable": true,
    "editable": true
   },
   "outputs": [],
   "source": [
    "heights['child']"
   ]
  },
  {
   "cell_type": "code",
   "execution_count": null,
   "id": "18e06016",
   "metadata": {
    "deletable": true,
    "editable": true
   },
   "outputs": [],
   "source": [
    "# DON'T do this!\n",
    "..."
   ]
  },
  {
   "cell_type": "markdown",
   "id": "735bdf39",
   "metadata": {
    "deletable": true,
    "editable": true,
    "slideshow": {
     "slide_type": "fragment"
    }
   },
   "source": [
    "- A better idea is to impute missing values with the **mean** of the observed values."
   ]
  },
  {
   "cell_type": "code",
   "execution_count": null,
   "id": "dda890a4",
   "metadata": {
    "deletable": true,
    "editable": true
   },
   "outputs": [],
   "source": [
    "heights['child']"
   ]
  },
  {
   "cell_type": "code",
   "execution_count": null,
   "id": "2ba57d48",
   "metadata": {
    "deletable": true,
    "editable": true
   },
   "outputs": [],
   "source": [
    "heights['child'].mean()"
   ]
  },
  {
   "cell_type": "code",
   "execution_count": null,
   "id": "12a6dad6",
   "metadata": {
    "deletable": true,
    "editable": true
   },
   "outputs": [],
   "source": [
    "mean_imputed = ...\n",
    "mean_imputed"
   ]
  },
  {
   "cell_type": "markdown",
   "id": "500053ca",
   "metadata": {
    "deletable": true,
    "editable": true,
    "slideshow": {
     "slide_type": "fragment"
    }
   },
   "source": [
    "- The mean of `mean_imputed` is the **same** as the mean of `'child'` **before** we imputed. Why?"
   ]
  },
  {
   "cell_type": "code",
   "execution_count": null,
   "id": "891bf7f3",
   "metadata": {
    "deletable": true,
    "editable": true
   },
   "outputs": [],
   "source": [
    "# Mean before imputation:\n",
    "..."
   ]
  },
  {
   "cell_type": "code",
   "execution_count": null,
   "id": "2218268a",
   "metadata": {
    "deletable": true,
    "editable": true
   },
   "outputs": [],
   "source": [
    "# Mean after imputation:\n",
    "..."
   ]
  },
  {
   "cell_type": "markdown",
   "id": "d4080a76",
   "metadata": {
    "deletable": true,
    "editable": true,
    "slideshow": {
     "slide_type": "fragment"
    }
   },
   "source": [
    "- What do you think a _histogram_ of `mean_imputed` would look like?"
   ]
  },
  {
   "cell_type": "code",
   "execution_count": null,
   "id": "45e7df73",
   "metadata": {
    "deletable": true,
    "editable": true
   },
   "outputs": [],
   "source": [
    "..."
   ]
  },
  {
   "cell_type": "markdown",
   "id": "dcd6a43a",
   "metadata": {
    "deletable": true,
    "editable": true,
    "slideshow": {
     "slide_type": "slide"
    }
   },
   "source": [
    "### Mean imputation destroys spread!"
   ]
  },
  {
   "cell_type": "markdown",
   "id": "d4894022",
   "metadata": {
    "deletable": true,
    "editable": true,
    "slideshow": {
     "slide_type": "fragment"
    }
   },
   "source": [
    "- Let's look at the distribution of `heights['child']` <span style=\"color:#1c9e76\"><b>before</b></span> we filled in missing values along with the distribution of `mean_imputed`, <span style=\"color:#d95f01\"><b>after</b></span> we filled in missing values."
   ]
  },
  {
   "cell_type": "code",
   "execution_count": null,
   "id": "aba2c535",
   "metadata": {
    "deletable": true,
    "editable": true
   },
   "outputs": [],
   "source": [
    "multiple_kdes({'Before Imputation': heights['child'], \n",
    "               'After Mean Imputation': mean_imputed})"
   ]
  },
  {
   "cell_type": "markdown",
   "id": "489d3cd4",
   "metadata": {
    "deletable": true,
    "editable": true,
    "slideshow": {
     "slide_type": "fragment"
    }
   },
   "source": [
    "- The standard deviation after imputing with the mean is much lower! The true distribution of `'child'` likely does not look like the distribution on the right."
   ]
  },
  {
   "cell_type": "code",
   "execution_count": null,
   "id": "d2a1985f",
   "metadata": {
    "deletable": true,
    "editable": true
   },
   "outputs": [],
   "source": [
    "heights['child'].std()"
   ]
  },
  {
   "cell_type": "code",
   "execution_count": null,
   "id": "0c01c7f2",
   "metadata": {
    "deletable": true,
    "editable": true
   },
   "outputs": [],
   "source": [
    "mean_imputed.std()"
   ]
  },
  {
   "cell_type": "markdown",
   "id": "85e2ce42",
   "metadata": {
    "deletable": true,
    "editable": true,
    "slideshow": {
     "slide_type": "fragment"
    }
   },
   "source": [
    "- This makes it harder to use the imputed `'child'` column in analyses with other columns."
   ]
  },
  {
   "cell_type": "markdown",
   "id": "989a2b9e",
   "metadata": {
    "deletable": true,
    "editable": true,
    "slideshow": {
     "slide_type": "slide"
    }
   },
   "source": [
    "### Mean imputation and listwise deletion introduce bias!"
   ]
  },
  {
   "cell_type": "markdown",
   "id": "09aa3925",
   "metadata": {
    "deletable": true,
    "editable": true,
    "slideshow": {
     "slide_type": "fragment"
    }
   },
   "source": [
    "- **What if the values that are missing, $Y_\\text{missing}$, _are not_ a representative sample of the full dataset, $Y$**?<br><small>Equivalently, what if the values that are **present** are not a representative sample of the full dataset?</small>"
   ]
  },
  {
   "cell_type": "markdown",
   "id": "5896e3d7",
   "metadata": {
    "deletable": true,
    "editable": true,
    "slideshow": {
     "slide_type": "fragment"
    }
   },
   "source": [
    "- For example, _if_ shorter heights are more likely to be missing than larger heights, then:\n",
    "    - The mean of the present values will be **too big**.\n",
    "    \n",
    "    $$\\text{mean}(Y_\\text{present}) > \\text{mean}(Y)$$\n",
    "    \n",
    "    - So, by replacing missing values with the mean, our estimates will all be **too big**."
   ]
  },
  {
   "cell_type": "markdown",
   "id": "c34e9274",
   "metadata": {
    "deletable": true,
    "editable": true,
    "slideshow": {
     "slide_type": "fragment"
    }
   },
   "source": [
    "- Instead of filling all missing values with the same one value, can we do something to prevent this added bias?"
   ]
  },
  {
   "cell_type": "markdown",
   "id": "e21271ae",
   "metadata": {
    "deletable": true,
    "editable": true,
    "slideshow": {
     "slide_type": "slide"
    }
   },
   "source": [
    "### Idea: Conditional mean imputation"
   ]
  },
  {
   "cell_type": "markdown",
   "id": "c8d8a8cd",
   "metadata": {
    "deletable": true,
    "editable": true,
    "slideshow": {
     "slide_type": "fragment"
    }
   },
   "source": [
    "- If we have reason to believe the chance that a `'height'` is missing **depends** on another feature, we can use that other feature to inform how we fill the missing value!"
   ]
  },
  {
   "cell_type": "markdown",
   "id": "bb3ec0ed",
   "metadata": {
    "deletable": true,
    "editable": true,
    "slideshow": {
     "slide_type": "fragment"
    }
   },
   "source": [
    "- For example, if we have reason to believe that heights are more likely to be missing for `'female'` children than `'male'` children, we could fill in the missing `'female'` and `'male'` heights separately."
   ]
  },
  {
   "cell_type": "code",
   "execution_count": null,
   "id": "b5ea83d1",
   "metadata": {
    "deletable": true,
    "editable": true
   },
   "outputs": [],
   "source": [
    "# Here, we're computing the proportion of 'child' heights that are missing\n",
    "# per gender.\n",
    "..."
   ]
  },
  {
   "cell_type": "markdown",
   "id": "1413ed12",
   "metadata": {
    "deletable": true,
    "editable": true,
    "slideshow": {
     "slide_type": "fragment"
    }
   },
   "source": [
    "- That seems to be the case here, so let's try it. We can use the `groupby` `transform` method."
   ]
  },
  {
   "cell_type": "code",
   "execution_count": null,
   "id": "f7b45866",
   "metadata": {
    "deletable": true,
    "editable": true
   },
   "outputs": [],
   "source": [
    "# The mean 'female' observed 'child' height is 64.03, while\n",
    "# the mean 'male' observed 'child' height is 69.13.\n",
    "heights.groupby('gender')['child'].mean()"
   ]
  },
  {
   "cell_type": "code",
   "execution_count": null,
   "id": "d05db81b",
   "metadata": {
    "deletable": true,
    "editable": true
   },
   "outputs": [],
   "source": [
    "heights"
   ]
  },
  {
   "cell_type": "code",
   "execution_count": null,
   "id": "2a63d034",
   "metadata": {
    "deletable": true,
    "editable": true
   },
   "outputs": [],
   "source": [
    "# Note the first missing 'child' height is filled in with\n",
    "# 69.13, the mean of the observed 'male' heights, since\n",
    "# they are a 'male' child!\n",
    "conditional_mean_imputed = ...\n",
    "...\n",
    "conditional_mean_imputed"
   ]
  },
  {
   "cell_type": "markdown",
   "id": "9d8c6639",
   "metadata": {
    "deletable": true,
    "editable": true,
    "slideshow": {
     "slide_type": "slide"
    }
   },
   "source": [
    "### Pros and cons of conditional mean imputation"
   ]
  },
  {
   "cell_type": "markdown",
   "id": "1e90c648",
   "metadata": {
    "deletable": true,
    "editable": true,
    "slideshow": {
     "slide_type": "fragment"
    }
   },
   "source": [
    "- Instead of having a single \"spike\", the conditionally-imputed distribution has two smaller \"spikes\".<br><small>In this case, one at the observed `'female'` mean and one at the observed `'male'` mean.</small>"
   ]
  },
  {
   "cell_type": "code",
   "execution_count": null,
   "id": "b6c8b58d",
   "metadata": {
    "deletable": true,
    "editable": true
   },
   "outputs": [],
   "source": [
    "multiple_kdes({'Before Imputation': heights['child'], \n",
    "               'After Mean Imputation': mean_imputed,\n",
    "               'After Conditional Mean Imputation': conditional_mean_imputed})"
   ]
  },
  {
   "cell_type": "markdown",
   "id": "97715f63",
   "metadata": {
    "deletable": true,
    "editable": true,
    "slideshow": {
     "slide_type": "fragment"
    }
   },
   "source": [
    "- **Pro ✅**: The conditionally-imputed column's **mean** is likely to be closer to the **true** mean than if we just dropped all missing values, since we attempted to account for the imbalance in missingness."
   ]
  },
  {
   "cell_type": "code",
   "execution_count": null,
   "id": "ce8218c3",
   "metadata": {
    "deletable": true,
    "editable": true
   },
   "outputs": [],
   "source": [
    "# The mean of just our present values.\n",
    "heights['child'].mean()"
   ]
  },
  {
   "cell_type": "code",
   "execution_count": null,
   "id": "29598d5d",
   "metadata": {
    "deletable": true,
    "editable": true
   },
   "outputs": [],
   "source": [
    "# Lower than above, reflecting the fact that we are missing\n",
    "# more 'female' heights and 'female' heights\n",
    "# tend to be lower.\n",
    "conditional_mean_imputed.mean()"
   ]
  },
  {
   "cell_type": "markdown",
   "id": "62791abf",
   "metadata": {
    "deletable": true,
    "editable": true,
    "slideshow": {
     "slide_type": "fragment"
    }
   },
   "source": [
    "- **Con ❌**: The conditionally-imputed column likely still has a lower standard deviation than the true `'height'` column.<br><small>The true `'height'` column likely doesn't look like the right-most histogram above.</small>"
   ]
  },
  {
   "cell_type": "markdown",
   "id": "3bec829e",
   "metadata": {
    "deletable": true,
    "editable": true,
    "slideshow": {
     "slide_type": "fragment"
    }
   },
   "source": [
    "- **Con ❌**: The chance that `'child'`'s heights are missing may depend on other columns, too, and we didn't account for those. There may still be bias."
   ]
  },
  {
   "cell_type": "markdown",
   "id": "3af46c95",
   "metadata": {
    "deletable": true,
    "editable": true,
    "slideshow": {
     "slide_type": "slide"
    }
   },
   "source": [
    "### Idea: Regression imputation"
   ]
  },
  {
   "cell_type": "markdown",
   "id": "944a6113",
   "metadata": {
    "deletable": true,
    "editable": true,
    "slideshow": {
     "slide_type": "fragment"
    }
   },
   "source": [
    "- A common solution is to fill in missing values by using other features to **predict** what the missing value would have been."
   ]
  },
  {
   "cell_type": "code",
   "execution_count": null,
   "id": "049a9c50",
   "metadata": {
    "deletable": true,
    "editable": true
   },
   "outputs": [],
   "source": [
    "# There's nothing special about the values passed into .iloc below;\n",
    "# they're just for illustration.\n",
    "heights.iloc[[0, 2, 919, 11, 4, 8, 9]]"
   ]
  },
  {
   "cell_type": "markdown",
   "id": "d150910a",
   "metadata": {
    "deletable": true,
    "editable": true,
    "slideshow": {
     "slide_type": "fragment"
    }
   },
   "source": [
    "- We'll learn how to make such predictions in the second half of the course."
   ]
  },
  {
   "cell_type": "markdown",
   "id": "a709bcdd",
   "metadata": {
    "deletable": true,
    "editable": true,
    "slideshow": {
     "slide_type": "slide"
    }
   },
   "source": [
    "### Idea: Probabilistic imputation"
   ]
  },
  {
   "cell_type": "markdown",
   "id": "e1f94b85",
   "metadata": {
    "deletable": true,
    "editable": true,
    "slideshow": {
     "slide_type": "fragment"
    }
   },
   "source": [
    "- Since **we don't know** what the missing values would have been, one could argue our technique for filling in missing values should incorporate this uncertainty."
   ]
  },
  {
   "cell_type": "markdown",
   "id": "a94c46dd",
   "metadata": {
    "deletable": true,
    "editable": true,
    "slideshow": {
     "slide_type": "fragment"
    }
   },
   "source": [
    "- We could fill in missing values using a **random sample** of observed values.<br><small>This avoids the key issue with mean imputation, where we fill all missing values with the same one value. It also limits the bias present if the missing values weren't a representative sample, since we're filling them in with a range of different values.</small>"
   ]
  },
  {
   "cell_type": "code",
   "execution_count": null,
   "id": "ba7d78ef",
   "metadata": {
    "deletable": true,
    "editable": true
   },
   "outputs": [],
   "source": [
    "# impute_prob should take in a Series with missing values\n",
    "# and return an imputed Series.\n",
    "def impute_prob(s):\n",
    "    s = s.copy()\n",
    "    # Find the number of missing values.\n",
    "    num_missing = ...\n",
    "    # Take a sample of size num_missing from the present values.\n",
    "    sample = ...\n",
    "    # Fill in the missing values with our random sample.\n",
    "    ...\n",
    "    return s"
   ]
  },
  {
   "cell_type": "markdown",
   "id": "87d0fa29",
   "metadata": {
    "deletable": true,
    "editable": true,
    "slideshow": {
     "slide_type": "fragment"
    }
   },
   "source": [
    "- Each time we run the cell below, the missing values in `heights['child']` are filled in with a different sample of present values in `heights['child']`!"
   ]
  },
  {
   "cell_type": "code",
   "execution_count": null,
   "id": "67a37ab1",
   "metadata": {
    "deletable": true,
    "editable": true
   },
   "outputs": [],
   "source": [
    "# The number at the very top is constantly changing!\n",
    "prob_imputed = impute_prob(heights['child'])\n",
    "print('Mean:', prob_imputed.mean())\n",
    "prob_imputed"
   ]
  },
  {
   "cell_type": "markdown",
   "id": "0c4e2a87",
   "metadata": {
    "deletable": true,
    "editable": true,
    "slideshow": {
     "slide_type": "fragment"
    }
   },
   "source": [
    "- To account for the fact that each run is slightly different, a common strategy is **multiple imputation**.<br><small>This involves performing probabilistic imputation many (> 5) times, performing further analysis on each new dataset (e.g. building a regression model), and aggregating the results.</small>"
   ]
  },
  {
   "cell_type": "markdown",
   "id": "a8865bd0",
   "metadata": {
    "deletable": true,
    "editable": true,
    "slideshow": {
     "slide_type": "fragment"
    }
   },
   "source": [
    "- Probabilistic imputation can even be done **conditionally**!<br><small>Now, missing `'male'` heights are filled in using a sample of observed `'male'` heights, and missing `'female'` heights are filled in using a sample of observed `'female'` heights!</small>"
   ]
  },
  {
   "cell_type": "code",
   "execution_count": null,
   "id": "01dc2d3e",
   "metadata": {
    "deletable": true,
    "editable": true
   },
   "outputs": [],
   "source": [
    "conditional_prob_imputed = ...\n",
    "...\n",
    "conditional_prob_imputed"
   ]
  },
  {
   "cell_type": "markdown",
   "id": "ab1f3507",
   "metadata": {
    "deletable": true,
    "editable": true,
    "slideshow": {
     "slide_type": "slide"
    }
   },
   "source": [
    "### Visualizing imputation strategies"
   ]
  },
  {
   "cell_type": "code",
   "execution_count": null,
   "id": "312b02c4",
   "metadata": {
    "deletable": true,
    "editable": true
   },
   "outputs": [],
   "source": [
    "multiple_kdes({'Before Imputation': heights['child'], \n",
    "               'After Mean Imputation': mean_imputed,\n",
    "               'After Conditional Mean Imputation': conditional_mean_imputed,\n",
    "               'After Probabilistic Imputation': prob_imputed,\n",
    "               'After Conditional Probabilistic Imputation': conditional_prob_imputed})"
   ]
  },
  {
   "cell_type": "markdown",
   "id": "3c64e13d",
   "metadata": {
    "deletable": true,
    "editable": true,
    "slideshow": {
     "slide_type": "slide"
    }
   },
   "source": [
    "<div class=\"alert alert-success\">\n",
    "<h3>Activity</h3>\n",
    "\n",
    "Work on [**UCSD DSC 80 Spring 2022 Final Exam, Problem 5 (Parts 1-4)**](https://practice.dsc80.com/sp22-final/index.html#Problem-5)."
   ]
  },
  {
   "cell_type": "markdown",
   "id": "9d3a9356",
   "metadata": {
    "deletable": true,
    "editable": true,
    "slideshow": {
     "slide_type": "slide"
    }
   },
   "source": [
    "### Missingness mechanisms"
   ]
  },
  {
   "cell_type": "markdown",
   "id": "363cc8e9",
   "metadata": {
    "deletable": true,
    "editable": true,
    "slideshow": {
     "slide_type": "fragment"
    }
   },
   "source": [
    "There are three key **missingness mechanisms**, which describe _how_ data in a column can be missing."
   ]
  },
  {
   "cell_type": "markdown",
   "id": "e605ecbb",
   "metadata": {
    "deletable": true,
    "editable": true,
    "slideshow": {
     "slide_type": "fragment"
    }
   },
   "source": [
    "- **Missing completely at random (MCAR)**: Data are MCAR if the chance that a value is missing is **completely independent** of other columns and the actual missing value.<br><small>Example: Suppose that after the Midterm Exam, I randomly choose 5 scores to delete on Gradescope, meaning that 5 students have missing grades. MCAR is **ideal, but rare!**</small>"
   ]
  },
  {
   "cell_type": "markdown",
   "id": "fab12eb3",
   "metadata": {
    "deletable": true,
    "editable": true,
    "slideshow": {
     "slide_type": "fragment"
    }
   },
   "source": [
    "- **Missing at random (MAR)**: Data are MAR if the chance that a value is missing **depends on other columns**.<br><small>Example: Suppose that after the Midterm Exam, I randomly choose 5 scores to delete on Gradescope **among** sophomore students. Now, scores are missing at random **dependent on class standing**.</small>"
   ]
  },
  {
   "cell_type": "markdown",
   "id": "5c28aad0",
   "metadata": {
    "deletable": true,
    "editable": true,
    "slideshow": {
     "slide_type": "fragment"
    }
   },
   "source": [
    "- **Not missing at random (NMAR)**: Data are NMAR if the chance that a value is missing **depends on the actual missing value itself**.<br><small>Example: Suppose that after the Midterm Exam, I randomly delete 5 of the 10 lowest scores on Gradescope. Now, scores are **not** missing at random, since the chance a value is missing depends on how large it is.</small>"
   ]
  },
  {
   "cell_type": "markdown",
   "id": "b697f9ea",
   "metadata": {
    "deletable": true,
    "editable": true,
    "slideshow": {
     "slide_type": "fragment"
    }
   },
   "source": [
    "- Statistical imputation packages usually assume data are MAR.<br><small>MCAR is usually unrealistic to assume. If data are NMAR, you can't impute missing values, since the other features in your data **can't explain** the missingness.</small>"
   ]
  },
  {
   "cell_type": "markdown",
   "id": "2f27165a",
   "metadata": {
    "deletable": true,
    "editable": true,
    "slideshow": {
     "slide_type": "slide"
    }
   },
   "source": [
    "### How do we know if data are MCAR?"
   ]
  },
  {
   "cell_type": "markdown",
   "id": "c3fc5879",
   "metadata": {
    "deletable": true,
    "editable": true,
    "slideshow": {
     "slide_type": "fragment"
    }
   },
   "source": [
    "- It seems that if our data are MCAR, there is no risk to dropping missing values.<br><small>In the MCAR setting, just imagine we're being given a large, random sample of the true dataset.</small>"
   ]
  },
  {
   "cell_type": "markdown",
   "id": "da072266",
   "metadata": {
    "deletable": true,
    "editable": true,
    "slideshow": {
     "slide_type": "fragment"
    }
   },
   "source": [
    "- If the data are not MCAR, though, then dropping the missing values will introduce bias.<br><small>For instance, suppose we asked people \"How much do you give to charity?\" People who give little are less likely to respond, so the average response is **biased high**.</small>"
   ]
  },
  {
   "cell_type": "markdown",
   "id": "143683e7",
   "metadata": {
    "deletable": true,
    "editable": true,
    "slideshow": {
     "slide_type": "fragment"
    }
   },
   "source": [
    "- There is no perfect procedure for determining if our data are MCAR, MAR, or NMAR; we mostly have to use our understanding of how the data is generated."
   ]
  },
  {
   "cell_type": "markdown",
   "id": "9f24ef25",
   "metadata": {
    "deletable": true,
    "editable": true,
    "slideshow": {
     "slide_type": "fragment"
    }
   },
   "source": [
    "- But, we can _try_ to determine whether $Y_\\text{missing}$ is similar to $Y$, using the information we **do have** in other columns.<br><small>We did this earlier, when looking at the proportion of missing `'child'` heights for each `'gender'`.</small>"
   ]
  },
  {
   "cell_type": "markdown",
   "id": "a36d7751",
   "metadata": {
    "deletable": true,
    "editable": true,
    "slideshow": {
     "slide_type": "slide"
    }
   },
   "source": [
    "### Summary of imputation techniques"
   ]
  },
  {
   "cell_type": "markdown",
   "id": "4ee33af8",
   "metadata": {
    "deletable": true,
    "editable": true,
    "slideshow": {
     "slide_type": "fragment"
    }
   },
   "source": [
    "- Consider whether values are missing intentionally, or whether there's a default replacement."
   ]
  },
  {
   "cell_type": "markdown",
   "id": "77e2bb43",
   "metadata": {
    "deletable": true,
    "editable": true,
    "slideshow": {
     "slide_type": "fragment"
    }
   },
   "source": [
    "- Listwise deletion.<br><small>Drop, or ignore, missing values.</small>"
   ]
  },
  {
   "cell_type": "markdown",
   "id": "bee1093f",
   "metadata": {
    "deletable": true,
    "editable": true,
    "slideshow": {
     "slide_type": "fragment"
    }
   },
   "source": [
    "- (Conditional) mean imputation.<br><small>Fill in missing values with the mean of observed values. If there's a reason to believe the missingness depends on another categorical column, fill in missing values with the observed mean separately for each category.</small>"
   ]
  },
  {
   "cell_type": "markdown",
   "id": "1e78c047",
   "metadata": {
    "deletable": true,
    "editable": true,
    "slideshow": {
     "slide_type": "fragment"
    }
   },
   "source": [
    "- (Conditional) Probabilistic imputation.<small>Fill in missing values with a random sample of observed values. If there's a reason to believe the missingness depends on another categorical column, fill in missing values with a random sample drawn separately for each category.</small>"
   ]
  },
  {
   "cell_type": "markdown",
   "id": "3d8d8672",
   "metadata": {
    "deletable": true,
    "editable": true,
    "slideshow": {
     "slide_type": "fragment"
    }
   },
   "source": [
    "- Regression imputation.<br><small>Predict missing values using other features.</small>"
   ]
  },
  {
   "cell_type": "markdown",
   "id": "914c8d51",
   "metadata": {
    "deletable": true,
    "editable": true,
    "slideshow": {
     "slide_type": "slide"
    }
   },
   "source": [
    "### What's next?"
   ]
  },
  {
   "cell_type": "markdown",
   "id": "f583811c",
   "metadata": {
    "deletable": true,
    "editable": true,
    "slideshow": {
     "slide_type": "fragment"
    }
   },
   "source": [
    "- So far, our data has just been given to us as a CSV.<br><small>Sometimes it's messy, and we need to clean it.</small>"
   ]
  },
  {
   "cell_type": "markdown",
   "id": "b2b08a7a",
   "metadata": {
    "deletable": true,
    "editable": true,
    "slideshow": {
     "slide_type": "fragment"
    }
   },
   "source": [
    "- But, what if the data we want is somewhere on the internet?"
   ]
  }
 ],
 "metadata": {
  "celltoolbar": "None",
  "kernelspec": {
   "display_name": "Python 3 (ipykernel)",
   "language": "python",
   "name": "python3"
  },
  "language_info": {
   "codemirror_mode": {
    "name": "ipython",
    "version": 3
   },
   "file_extension": ".py",
   "mimetype": "text/x-python",
   "name": "python",
   "nbconvert_exporter": "python",
   "pygments_lexer": "ipython3",
   "version": "3.10.14"
  },
  "livereveal": {
   "scroll": true
  },
  "rise": {
   "transition": "none"
  }
 },
 "nbformat": 4,
 "nbformat_minor": 5
}
