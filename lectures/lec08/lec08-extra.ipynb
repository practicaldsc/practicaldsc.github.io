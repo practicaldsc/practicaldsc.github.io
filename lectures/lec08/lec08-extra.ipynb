{
 "cells": [
  {
   "cell_type": "code",
   "execution_count": null,
   "id": "e14ee825",
   "metadata": {},
   "outputs": [],
   "source": [
    "from lec_utils import *"
   ]
  },
  {
   "cell_type": "markdown",
   "id": "ce46bc8a-06e5-4c08-a817-c9c893ecb3d2",
   "metadata": {},
   "source": [
    "<div class=\"alert alert-info\" markdown=\"1\">\n",
    "\n",
    "#### Lecture 8 Supplement\n",
    "\n",
    "# More Visualization Examples\n",
    "\n",
    "### EECS 398-003: Practical Data Science, Fall 2024\n",
    "\n",
    "<small><a style=\"text-decoration: none\" href=\"https://practicaldsc.org\">practicaldsc.org</a> • <a style=\"text-decoration: none\" href=\"https://github.com/practicaldsc/fa24\">github.com/practicaldsc/fa24</a></small>\n",
    "    \n",
    "</div>"
   ]
  },
  {
   "cell_type": "markdown",
   "id": "5adb4635",
   "metadata": {},
   "source": [
    "This notebook just serves to show you even more examples of visualizations you can create using `plotly`."
   ]
  },
  {
   "cell_type": "markdown",
   "id": "f9a4625b",
   "metadata": {},
   "source": [
    "## Historical examples\n",
    "\n",
    "---\n",
    "\n",
    "William Playfair is known as the \"father of data visualization\", and is the creator of line charts, bar charts, and pie charts, among other things.\n",
    "\n",
    "In this first section, we'll create some of his historical charts using `plotly`!"
   ]
  },
  {
   "cell_type": "markdown",
   "id": "e692f3d9-08d9-4ada-adb5-7db3c7835fbd",
   "metadata": {},
   "source": [
    "### Imports and exports from Scotland\n",
    "\n",
    "First, we'll recreate the **very first known example of a bar chart**, which depicts the\n",
    "imports and exports of Scotland to various countries in 1781.\n",
    "\n",
    "<img src='imgs/scotland.png' width=500>"
   ]
  },
  {
   "cell_type": "code",
   "execution_count": null,
   "id": "5f47fe6b-0dec-4a19-a4a8-210327e750f1",
   "metadata": {},
   "outputs": [],
   "source": [
    "scotland = pd.read_csv('data/playfair-scotland.csv')\n",
    "scotland"
   ]
  },
  {
   "cell_type": "markdown",
   "id": "afea2190-d046-48c6-9da2-51fc712be5e4",
   "metadata": {},
   "source": [
    "Let's see how we can make an interactive version of this plot. The library `plotly` will come in handy here."
   ]
  },
  {
   "cell_type": "code",
   "execution_count": null,
   "id": "c7690cc2-db27-4373-bf10-df84dbad8500",
   "metadata": {},
   "outputs": [],
   "source": [
    "fig = px.bar(scotland.sort_values('imports', ascending=False), \n",
    "             x=['exports', 'imports'], \n",
    "             y='country', \n",
    "             barmode='group', \n",
    "             orientation='h',\n",
    "             color_discrete_map={\n",
    "                 'exports': '#151EA6',\n",
    "                 'imports': '#FCB305',\n",
    "              },      \n",
    "             title='Exports and Imports of <b>Scotland</b> to and from different parts for one Year'\n",
    "            )\n",
    "\n",
    "fig.update_layout(\n",
    "    font_family=\"Arial\",\n",
    "    title_font_family=\"Arial\",\n",
    "    paper_bgcolor='#FFFFFF',\n",
    "    plot_bgcolor='#FFFFFF',\n",
    "    legend = {\n",
    "        'title': '',\n",
    "        'orientation': 'h'\n",
    "    }\n",
    ")\n",
    "\n",
    "fig.add_annotation( # add a text callout with arrow\n",
    "    text=\"no exports to Greenland!\", x=10000, y=\"Greenland\", ax=125,\n",
    "    arrowhead=2, showarrow=True\n",
    ")\n",
    "\n",
    "fig.update_xaxes(title_text='',\n",
    "                 side='top',\n",
    "                 showline=True, \n",
    "                 linewidth=2, \n",
    "                 linecolor='black',\n",
    "                 mirror=True,\n",
    "                 showgrid=True, \n",
    "                 gridwidth=1, \n",
    "                 gridcolor='#EEEEEE',\n",
    "                 tick0=0, \n",
    "                 dtick=25000,\n",
    "                 tickangle=0)\n",
    "\n",
    "fig.update_yaxes(title_text='',\n",
    "                 side='right',\n",
    "                 showline=True, \n",
    "                 linewidth=2, \n",
    "                 linecolor='black',\n",
    "                 mirror=True,\n",
    "                 showgrid=True, \n",
    "                 gridwidth=1, \n",
    "                 gridcolor='#EEEEEE',\n",
    "                 tickson='boundaries')"
   ]
  },
  {
   "cell_type": "markdown",
   "id": "42a3685c-907c-46df-b6cd-756ba83a5122",
   "metadata": {},
   "source": [
    "As an aside – what if we want to export this chart to HTML, to put on a website? (Say, for making a data science portfolio?)\n",
    "\n",
    "The `.to_html()` method will come in handy."
   ]
  },
  {
   "cell_type": "code",
   "execution_count": null,
   "id": "91026138-01c2-40d6-af83-2ce1fa66a58a",
   "metadata": {},
   "outputs": [],
   "source": [
    "with open('scotland.html', 'w') as f:\n",
    "    f.write(fig.to_html())\n",
    "    f.close()"
   ]
  },
  {
   "cell_type": "markdown",
   "id": "fe5d2330-43bf-41a4-b5d4-7fd968c22291",
   "metadata": {},
   "source": [
    "### Wheat and wages\n",
    "\n",
    "This next plot shows the relationship between weekly labor wages and\n",
    "the cost of a “quarter” of wheat, along with a timeline of English monarchs, from 1565 to 1821.\n",
    "\n",
    "<img src='imgs/wheat-wages.png' width=800>"
   ]
  },
  {
   "cell_type": "code",
   "execution_count": null,
   "id": "24f9f10f-f9be-41bd-bca9-c92308d30e39",
   "metadata": {},
   "outputs": [],
   "source": [
    "wheat = pd.read_csv('data/Wheat.csv').drop(columns=['Unnamed: 0']).iloc[:-1]\n",
    "wheat.head()"
   ]
  },
  {
   "cell_type": "markdown",
   "id": "87dd5813-404c-4c18-bffe-e41e6baec429",
   "metadata": {},
   "source": [
    "This task is a bit different, since it involves two different types of visualizations – a line chart and a bar chart."
   ]
  },
  {
   "cell_type": "code",
   "execution_count": null,
   "id": "2130cfae-38f2-4910-aa2f-29b4a471464a",
   "metadata": {},
   "outputs": [],
   "source": [
    "px.line(wheat, x='Year', y='Wages')"
   ]
  },
  {
   "cell_type": "code",
   "execution_count": null,
   "id": "5842e101-345b-494c-be9b-0a66be807f31",
   "metadata": {},
   "outputs": [],
   "source": [
    "px.bar(wheat, x='Year', y='Wages')"
   ]
  },
  {
   "cell_type": "markdown",
   "id": "d693425f-eb9c-4d18-bfc0-2e72e765b1cf",
   "metadata": {},
   "source": [
    "Instead of using `plotly.express`, which is a \"lite\" version of `plotly`, we will use `plotly`'s `graph_objects` module."
   ]
  },
  {
   "cell_type": "code",
   "execution_count": null,
   "id": "bb7baf9f-d5d9-4682-b241-89fc48523087",
   "metadata": {},
   "outputs": [],
   "source": [
    "import plotly.graph_objects as go"
   ]
  },
  {
   "cell_type": "code",
   "execution_count": null,
   "id": "23641251-8714-4521-a284-3efca79fb60b",
   "metadata": {},
   "outputs": [],
   "source": [
    "wheat_fig = go.Figure()\n",
    "\n",
    "# Add bar chart\n",
    "wheat_fig.add_trace(\n",
    "    go.Bar(\n",
    "        x=wheat['Year'],\n",
    "        y=wheat['Wheat'],\n",
    "        name='Wheat',\n",
    "        marker={'color': '#AAAAAA'},\n",
    "        width=5\n",
    "    )\n",
    ")\n",
    "\n",
    "# Add line chart\n",
    "wheat_fig.add_trace(\n",
    "    go.Scatter(\n",
    "        x=wheat['Year'],\n",
    "        y=wheat['Wages'],\n",
    "        name='Wages',\n",
    "        marker={'color': 'red'},\n",
    "        fill='tozeroy',\n",
    "        fillcolor='rgba(135,206,235,0.65)'\n",
    "    )\n",
    ")\n",
    "\n",
    "# Adjust overall attributes\n",
    "wheat_fig.update_layout(\n",
    "    font_family=\"Arial\",\n",
    "    title_font_family=\"Arial\",\n",
    "    paper_bgcolor='#FFFFFF',\n",
    "    plot_bgcolor='#FFFFFF',\n",
    "    showlegend=False\n",
    ")\n",
    "\n",
    "# Adjust x-axis\n",
    "wheat_fig.update_xaxes(title_text='<i>5 Years each division</i>', \n",
    "                       tickmode='array',\n",
    "                       tickvals=[1565, 1600, 1650, 1700, 1750, 1800, 1820], \n",
    "                       tickangle=0,\n",
    "                       showgrid=False,\n",
    "                       showline=True, \n",
    "                       linewidth=2, \n",
    "                       linecolor='black',\n",
    "                       mirror=True)\n",
    "\n",
    "# Adjust y-axis\n",
    "wheat_fig.update_yaxes(title_text='<i>Price of the Quarter of Wheat in Shillings</i>',\n",
    "                       side='right',\n",
    "                       tick0=0, \n",
    "                       dtick=5, \n",
    "                       gridcolor='#EEEEEE',\n",
    "                       gridwidth=1,\n",
    "                       showline=True, \n",
    "                       linewidth=2, \n",
    "                       linecolor='black',\n",
    "                       mirror=True)\n",
    "\n",
    "# Add annotations\n",
    "wheat_fig.add_annotation( # add a text callout with arrow\n",
    "    text=\"<i>Weekly Wages of a Good Mechanic</i>\", \n",
    "    x=1640, \n",
    "    y=9, \n",
    "    showarrow=False, \n",
    "    font = {\n",
    "        'size': 10,\n",
    "        'color': 'white'\n",
    "    }\n",
    "    \n",
    ")\n",
    "\n",
    "# Add annotations\n",
    "title_text = 'CHART,<br><i>Showing at One View</i><br><i>The Price of The Quarter of Wheat</i><br>& Wages of Labour by the Week,<br>-- from --<br><i>The Year 1565 to 1821</i><br>-- by --<br><i>William Playfair</i>'\n",
    "\n",
    "wheat_fig.add_annotation(\n",
    "    text=title_text, \n",
    "    x=1640, \n",
    "    y=70, \n",
    "    font = {\n",
    "        'size': 10,\n",
    "        'color': 'black'\n",
    "    },\n",
    "    bordercolor=\"black\",\n",
    "    borderwidth=2,\n",
    "    borderpad=4,\n",
    "    bgcolor=\"#FFFFFF\",\n",
    "    opacity=1\n",
    "    \n",
    ")\n",
    "\n",
    "wheat_fig.add_annotation(\n",
    "    text=\"<i>Weekly Wages of a Good Mechanic</i>\", \n",
    "    x=1640, \n",
    "    y=9, \n",
    "    showarrow=False, \n",
    "    font = {\n",
    "        'size': 10,\n",
    "        'color': 'black'\n",
    "    }\n",
    "    \n",
    ")"
   ]
  },
  {
   "cell_type": "markdown",
   "id": "8f26ed74-c733-4acc-a415-29bbf8784dec",
   "metadata": {},
   "source": [
    "### Distribution of the Turkish Empire\n",
    "\n",
    "Finally, we'll look at Playfair's first pie chart, describing the land distribution of the Turkish Empire.\n",
    "\n",
    "<center><img src=\"imgs/pie.png\" width=400></center>"
   ]
  },
  {
   "cell_type": "code",
   "execution_count": null,
   "id": "ac9ded6c-b9f6-4691-842b-3b4dc2a10124",
   "metadata": {},
   "outputs": [],
   "source": [
    "dist = pd.DataFrame().assign(\n",
    "    continent=['African', 'European', 'Asiatic'],\n",
    "    proportion=[0.2, 0.25, 0.55]\n",
    ")\n",
    "\n",
    "dist"
   ]
  },
  {
   "cell_type": "code",
   "execution_count": null,
   "id": "2cd34a2b-8c7f-47c4-a17b-68e7ee9dd468",
   "metadata": {},
   "outputs": [],
   "source": [
    "px.pie(dist,\n",
    "       values='proportion',\n",
    "       names='continent',\n",
    "       width=400,\n",
    "       height=300)"
   ]
  },
  {
   "cell_type": "markdown",
   "id": "0c5d5ce4-4241-405b-b119-451ca720eb0a",
   "metadata": {},
   "source": [
    "## Other examples\n",
    "\n",
    "---"
   ]
  },
  {
   "cell_type": "markdown",
   "id": "370f0f56",
   "metadata": {},
   "source": [
    "### Gantt charts (i.e. timelines)"
   ]
  },
  {
   "cell_type": "code",
   "execution_count": null,
   "id": "08209a7a-f4aa-4e62-9050-d1c798194a6f",
   "metadata": {},
   "outputs": [],
   "source": [
    "phases = [\n",
    " ['Newborn', '1998-11-26', '1999-11-26', 'Canada'],\n",
    " ['Toddler, Preschooler', '1999-11-26', '2005-09-03', 'US'],\n",
    " ['Elementary School Student', '2005-09-03', '2009-06-30', 'Canada'],\n",
    " ['Middle School Student', '2009-09-15', '2012-06-15', 'Canada'],\n",
    " ['High School Student', '2012-09-05', '2016-05-30', 'Canada'],\n",
    " ['Undergrad @ UC Berkeley', '2016-08-22','2020-05-15', 'US'],\n",
    " ['Masters @ UC Berkeley', '2020-08-25', '2021-05-14', 'Canada'],\n",
    " ['Lecturer @ UCSD', '2021-09-01', '2024-06-30', 'US'],\n",
    " ['Lecturer @ UMich', '2024-08-26', '2024-09-19', 'US']]\n",
    "\n",
    "phases_df = pd.DataFrame(phases, columns=['Phase', 'Start', 'End', 'Location'])\n",
    "phases_df"
   ]
  },
  {
   "cell_type": "code",
   "execution_count": null,
   "id": "c106295e-2b2c-4c6d-8778-07f2ccf0a76d",
   "metadata": {},
   "outputs": [],
   "source": [
    "tim = px.timeline(phases_df,\n",
    "                  x_start = 'Start',\n",
    "                  x_end = 'End',\n",
    "                  y = 'Phase',\n",
    "                  text = 'Location',\n",
    "                  title = 'My Life Trajectory',\n",
    "                  width=700,\n",
    "                  height=400)\n",
    "\n",
    "tim.update_yaxes(autorange='reversed')"
   ]
  },
  {
   "cell_type": "markdown",
   "id": "c1e24884-e85d-4719-af97-3af51feed2a5",
   "metadata": {},
   "source": [
    "### Animated scatter plots"
   ]
  },
  {
   "cell_type": "code",
   "execution_count": null,
   "id": "ce3f4760-4b21-4bac-96ae-fc79bc1c810a",
   "metadata": {},
   "outputs": [],
   "source": [
    "world = px.data.gapminder()\n",
    "world"
   ]
  },
  {
   "cell_type": "code",
   "execution_count": null,
   "id": "8c1c8475-b4e8-45b9-9c70-43432785ffa0",
   "metadata": {},
   "outputs": [],
   "source": [
    "px.scatter(world,\n",
    "           x = 'gdpPercap',\n",
    "           y = 'lifeExp', \n",
    "           hover_name = 'country',\n",
    "           color = 'continent',\n",
    "           size = 'pop',\n",
    "           size_max = 60,\n",
    "           log_x = True,\n",
    "           range_y = [30, 90],\n",
    "           animation_frame = 'year',\n",
    "           title = 'Life Expectancy, GDP Per Capita, and Population over Time'\n",
    "          )"
   ]
  },
  {
   "cell_type": "markdown",
   "id": "1c063916-9720-4a7c-a726-21e286032152",
   "metadata": {},
   "source": [
    "### Animated histograms"
   ]
  },
  {
   "cell_type": "code",
   "execution_count": null,
   "id": "9b56966c-883a-440d-9e96-f0f19bebcbce",
   "metadata": {
    "scrolled": false
   },
   "outputs": [],
   "source": [
    "px.histogram(world,\n",
    "            x = 'lifeExp',\n",
    "            animation_frame = 'year',\n",
    "            range_x = [20, 90],\n",
    "            range_y = [0, 50],\n",
    "            title = 'Distribution of Life Expectancy over Time')"
   ]
  },
  {
   "cell_type": "markdown",
   "id": "84bdb6da-2741-42fc-ac99-c3466a1c2dae",
   "metadata": {},
   "source": [
    "### 3D scatter plots"
   ]
  },
  {
   "cell_type": "code",
   "execution_count": null,
   "id": "75a3552b-911c-47ca-8e86-8cdfcb9b6ca3",
   "metadata": {},
   "outputs": [],
   "source": [
    "penguins = sns.load_dataset('penguins')\n",
    "penguins"
   ]
  },
  {
   "cell_type": "code",
   "execution_count": null,
   "id": "d19feacd-c7f4-455b-9c9a-697497a1730b",
   "metadata": {},
   "outputs": [],
   "source": [
    "px.scatter_3d(penguins,\n",
    "             x = 'bill_length_mm',\n",
    "             y = 'bill_depth_mm',\n",
    "             z = 'flipper_length_mm',\n",
    "             color = 'species',\n",
    "             hover_name = 'island',\n",
    "             title = 'Flipper Length vs. Bill Depth vs. Bill Length')"
   ]
  }
 ],
 "metadata": {
  "kernelspec": {
   "display_name": "Python 3 (ipykernel)",
   "language": "python",
   "name": "python3"
  },
  "language_info": {
   "codemirror_mode": {
    "name": "ipython",
    "version": 3
   },
   "file_extension": ".py",
   "mimetype": "text/x-python",
   "name": "python",
   "nbconvert_exporter": "python",
   "pygments_lexer": "ipython3",
   "version": "3.10.14"
  }
 },
 "nbformat": 4,
 "nbformat_minor": 5
}
