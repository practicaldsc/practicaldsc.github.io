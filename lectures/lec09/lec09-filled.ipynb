{
 "cells": [
  {
   "cell_type": "code",
   "execution_count": null,
   "id": "2f68842b",
   "metadata": {
    "deletable": true,
    "editable": true,
    "slideshow": {
     "slide_type": "skip"
    },
    "tags": []
   },
   "outputs": [],
   "source": [
    "from lec_utils import *"
   ]
  },
  {
   "cell_type": "markdown",
   "id": "d9d4b758",
   "metadata": {
    "deletable": true,
    "editable": true,
    "slideshow": {
     "slide_type": "slide"
    },
    "tags": []
   },
   "source": [
    "<div class=\"alert alert-info\" markdown=\"1\">\n",
    "\n",
    "#### Lecture 9\n",
    "\n",
    "# Web Scraping\n",
    "\n",
    "### EECS 398-003: Practical Data Science, Fall 2024\n",
    "\n",
    "<small><a style=\"text-decoration: none\" href=\"https://practicaldsc.org\">practicaldsc.org</a> • <a style=\"text-decoration: none\" href=\"https://github.com/practicaldsc/fa24\">github.com/practicaldsc/fa24</a></small>\n",
    "    \n",
    "</div>"
   ]
  },
  {
   "cell_type": "markdown",
   "id": "22957c23",
   "metadata": {
    "deletable": true,
    "editable": true,
    "slideshow": {
     "slide_type": "slide"
    }
   },
   "source": [
    "### Announcements 📣\n",
    "\n",
    "- Homework 4 is due on **Thursday**.\n",
    "- Homework 2 scores are available on Gradescope.\n",
    "- The Midterm Exam is in a few weeks – start working through old exam problems [**here**](https://study.practicaldsc.org/).<br><small>You can even see an example old exam PDF.</small>"
   ]
  },
  {
   "cell_type": "markdown",
   "id": "7d8b2628",
   "metadata": {
    "deletable": true,
    "editable": true,
    "slideshow": {
     "slide_type": "slide"
    }
   },
   "source": [
    "### Agenda\n",
    "\n",
    "- Recap: Handling missing values.\n",
    "- Introduction to HTTP.\n",
    "- The structure of HTML.\n",
    "- Parsing HTML.\n",
    "    - Example: Scraping quotes.\n",
    "    - Example: Scraping the Happening @ Michigan page."
   ]
  },
  {
   "cell_type": "markdown",
   "id": "c95821c0",
   "metadata": {
    "deletable": true,
    "editable": true,
    "slideshow": {
     "slide_type": "slide"
    }
   },
   "source": [
    "## Recap: Handling missing values\n",
    "\n",
    "---"
   ]
  },
  {
   "cell_type": "markdown",
   "id": "9e97a2d1",
   "metadata": {
    "deletable": true,
    "editable": true,
    "slideshow": {
     "slide_type": "slide"
    }
   },
   "source": [
    "### Summary of imputation techniques"
   ]
  },
  {
   "cell_type": "markdown",
   "id": "b300cdf5",
   "metadata": {
    "deletable": true,
    "editable": true,
    "slideshow": {
     "slide_type": "fragment"
    }
   },
   "source": [
    "- Consider whether values are missing intentionally, or whether there's a default replacement."
   ]
  },
  {
   "cell_type": "markdown",
   "id": "e63358d1",
   "metadata": {
    "deletable": true,
    "editable": true,
    "slideshow": {
     "slide_type": "fragment"
    }
   },
   "source": [
    "- Listwise deletion.<br><small>Drop, or ignore, missing values.</small>"
   ]
  },
  {
   "cell_type": "markdown",
   "id": "70f7df6e",
   "metadata": {
    "deletable": true,
    "editable": true,
    "slideshow": {
     "slide_type": "fragment"
    }
   },
   "source": [
    "- (Conditional) mean imputation.<br><small>Fill in missing values with the mean of observed values. If there's a reason to believe the missingness depends on another categorical column, fill in missing values with the observed mean separately for each category.</small>"
   ]
  },
  {
   "cell_type": "markdown",
   "id": "e97e7ba8",
   "metadata": {
    "deletable": true,
    "editable": true,
    "slideshow": {
     "slide_type": "fragment"
    }
   },
   "source": [
    "- (Conditional) Probabilistic imputation.<br><small>Fill in missing values with a random sample of observed values. If there's a reason to believe the missingness depends on another categorical column, fill in missing values with a random sample drawn separately for each category.</small>"
   ]
  },
  {
   "cell_type": "markdown",
   "id": "11742cfc",
   "metadata": {
    "deletable": true,
    "editable": true,
    "slideshow": {
     "slide_type": "fragment"
    }
   },
   "source": [
    "- Regression imputation.<br><small>Predict missing values using other features.</small>"
   ]
  },
  {
   "cell_type": "markdown",
   "id": "5bcbcca5",
   "metadata": {
    "deletable": true,
    "editable": true,
    "slideshow": {
     "slide_type": "slide"
    }
   },
   "source": [
    "<div class=\"alert alert-success\">\n",
    "<h3>Activity</h3>\n",
    "\n",
    "Work on [**UCSD DSC 80 Spring 2022 Final Exam, Problem 5 (Parts 1-4)**](https://practice.dsc80.com/sp22-final/index.html#Problem-5)."
   ]
  },
  {
   "cell_type": "markdown",
   "id": "0b1e687b",
   "metadata": {
    "deletable": true,
    "editable": true,
    "slideshow": {
     "slide_type": "slide"
    }
   },
   "source": [
    "### Missingness mechanisms"
   ]
  },
  {
   "cell_type": "markdown",
   "id": "a84d9976",
   "metadata": {
    "deletable": true,
    "editable": true,
    "slideshow": {
     "slide_type": "fragment"
    }
   },
   "source": [
    "There are three key **missingness mechanisms**, which describe _how_ data in a column can be missing."
   ]
  },
  {
   "cell_type": "markdown",
   "id": "7fb6f54a",
   "metadata": {
    "deletable": true,
    "editable": true,
    "slideshow": {
     "slide_type": "fragment"
    }
   },
   "source": [
    "- **Missing completely at random (MCAR)**: Data are MCAR if the chance that a value is missing is **completely independent** of other columns and the actual missing value.<br><small>Example: Suppose that after the Midterm Exam, I randomly choose 5 scores to delete on Gradescope, meaning that 5 students have missing grades. MCAR is **ideal, but rare!**</small>"
   ]
  },
  {
   "cell_type": "markdown",
   "id": "504d9892",
   "metadata": {
    "deletable": true,
    "editable": true,
    "slideshow": {
     "slide_type": "fragment"
    }
   },
   "source": [
    "- **Missing at random (MAR)**: Data are MAR if the chance that a value is missing **depends on other columns**.<br><small>Example: Suppose that after the Midterm Exam, I randomly choose 5 scores to delete on Gradescope **among** sophomore students. Now, scores are missing at random **dependent on class standing**.</small>"
   ]
  },
  {
   "cell_type": "markdown",
   "id": "0fbb3062",
   "metadata": {
    "deletable": true,
    "editable": true,
    "slideshow": {
     "slide_type": "fragment"
    }
   },
   "source": [
    "- **Not missing at random (NMAR)**: Data are NMAR if the chance that a value is missing **depends on the actual missing value itself**.<br><small>Example: Suppose that after the Midterm Exam, I randomly delete 5 of the 10 lowest scores on Gradescope. Now, scores are **not** missing at random, since the chance a value is missing depends on how large it is.</small>"
   ]
  },
  {
   "cell_type": "markdown",
   "id": "9f9cd3b5",
   "metadata": {
    "deletable": true,
    "editable": true,
    "slideshow": {
     "slide_type": "fragment"
    }
   },
   "source": [
    "- Statistical imputation packages usually assume data are MAR.<br><small>MCAR is usually unrealistic to assume. If data are NMAR, you can't impute missing values, since the other features in your data **can't explain** the missingness.</small>"
   ]
  },
  {
   "cell_type": "markdown",
   "id": "ba753dee",
   "metadata": {
    "deletable": true,
    "editable": true,
    "slideshow": {
     "slide_type": "slide"
    }
   },
   "source": [
    "### How do we know if data are MCAR?"
   ]
  },
  {
   "cell_type": "markdown",
   "id": "82115d8f",
   "metadata": {
    "deletable": true,
    "editable": true,
    "slideshow": {
     "slide_type": "fragment"
    }
   },
   "source": [
    "- It seems that if our data are MCAR, there is no risk to dropping missing values.<br><small>In the MCAR setting, just imagine we're being given a large, random sample of the true dataset.</small>"
   ]
  },
  {
   "cell_type": "markdown",
   "id": "3d5eedd0",
   "metadata": {
    "deletable": true,
    "editable": true,
    "slideshow": {
     "slide_type": "fragment"
    }
   },
   "source": [
    "- If the data are not MCAR, though, then dropping the missing values will introduce bias.<br><small>For instance, suppose we asked people \"How much do you give to charity?\" People who give little are less likely to respond, so the average response is **biased high**.</small>"
   ]
  },
  {
   "cell_type": "markdown",
   "id": "a0900438",
   "metadata": {
    "deletable": true,
    "editable": true,
    "slideshow": {
     "slide_type": "fragment"
    }
   },
   "source": [
    "- There is no perfect procedure for determining if our data are MCAR, MAR, or NMAR; we mostly have to use our understanding of how the data is generated."
   ]
  },
  {
   "cell_type": "markdown",
   "id": "277f11ca",
   "metadata": {
    "deletable": true,
    "editable": true,
    "slideshow": {
     "slide_type": "fragment"
    }
   },
   "source": [
    "- But, we can _try_ to determine whether $Y_\\text{missing}$ is similar to $Y$, using the information we **do have** in other columns.<br><small>We did this earlier, when looking at the proportion of missing `'child'` heights for each `'gender'`.</small>"
   ]
  },
  {
   "cell_type": "markdown",
   "id": "5c1ed3e5",
   "metadata": {
    "deletable": true,
    "editable": true,
    "slideshow": {
     "slide_type": "slide"
    }
   },
   "source": [
    "<div class=\"alert alert-warning\">\n",
    "    <h3>Question 🤔 (Answer at <a style=\"text-decoration: none; color: #0066cc\" href=\"https://docs.google.com/forms/d/e/1FAIpQLSd4oliiZYeNh76jWy-arfEtoAkCrVSsobZxPwxifWggo3EO0Q/viewform\">practicaldsc.org/q</a>)</h3>\n",
    "    \n",
    "<small>Remember that you can always ask questions anonymously at the link above!</small>\n",
    "    \n",
    "What lingering questions do we have about how to handle missing values?"
   ]
  },
  {
   "cell_type": "markdown",
   "id": "eea31484",
   "metadata": {
    "deletable": true,
    "editable": true,
    "slideshow": {
     "slide_type": "slide"
    }
   },
   "source": [
    "## Introduction to HTTP\n",
    "\n",
    "---"
   ]
  },
  {
   "cell_type": "markdown",
   "id": "c3262717",
   "metadata": {
    "deletable": true,
    "editable": true,
    "slideshow": {
     "slide_type": "slide"
    }
   },
   "source": [
    "<center><img src=\"imgs/ds-lifecycle.svg\" width=\"60%\"></center>"
   ]
  },
  {
   "cell_type": "markdown",
   "id": "df12b62a",
   "metadata": {
    "deletable": true,
    "editable": true,
    "slideshow": {
     "slide_type": "slide"
    }
   },
   "source": [
    "### Data sources"
   ]
  },
  {
   "cell_type": "markdown",
   "id": "ca54b7dd",
   "metadata": {
    "deletable": true,
    "editable": true,
    "slideshow": {
     "slide_type": "fragment"
    }
   },
   "source": [
    "- Often, the data you need doesn't exist in \"clean\" `.csv` files."
   ]
  },
  {
   "cell_type": "markdown",
   "id": "7ad71bf4",
   "metadata": {
    "deletable": true,
    "editable": true,
    "slideshow": {
     "slide_type": "fragment"
    }
   },
   "source": [
    "- **Solution**: Collect your own data from the internet!<br><small>For most questions you can think of, the answer exists somewhere on the internet. If not, you can run our own survey – also on the internet!</small>"
   ]
  },
  {
   "cell_type": "markdown",
   "id": "a6ae71f6",
   "metadata": {
    "deletable": true,
    "editable": true,
    "slideshow": {
     "slide_type": "slide"
    }
   },
   "source": [
    "### Manual copy-pasting"
   ]
  },
  {
   "cell_type": "markdown",
   "id": "9e91dd0f",
   "metadata": {
    "deletable": true,
    "editable": true,
    "slideshow": {
     "slide_type": "fragment"
    }
   },
   "source": [
    "- If data is already nicely formatted in a table online, sometimes we can easily copy it and paste it into a `.csv` or `.tsv` file.<br><small>`.tsv` stands for \"tab-separated values\", just like `.csv` stands for \"comma-separated values.\"</small> "
   ]
  },
  {
   "cell_type": "markdown",
   "id": "d859b520",
   "metadata": {
    "deletable": true,
    "editable": true,
    "slideshow": {
     "slide_type": "fragment"
    }
   },
   "source": [
    "- For example, open the 2024 Michigan Football schedule [**here**](https://mgoblue.com/sports/football/schedule) and click \"Text Only\".\n",
    "\n",
    "\n",
    "<center><img src=\"imgs/mich-schedule.png\" width=700><br><small>This is what you should see.</small></center>"
   ]
  },
  {
   "cell_type": "markdown",
   "id": "46c7915c",
   "metadata": {
    "deletable": true,
    "editable": true,
    "slideshow": {
     "slide_type": "fragment"
    }
   },
   "source": [
    "- Copy the text in the table at the bottom and save it in a file named `2024-schedule.tsv` in your `data` folder.<br><small>You may need to do some minor reformatting in the `.tsv` file before this works.<br>**As a challenge**, see if you can find a way to do this entirely within your Terminal, i.e. without opening a text editor!</small>"
   ]
  },
  {
   "cell_type": "code",
   "execution_count": null,
   "id": "f94ea742",
   "metadata": {
    "deletable": true,
    "editable": true
   },
   "outputs": [],
   "source": [
    "schedule = pd.read_csv('data/2024-schedule.tsv', sep='\\t') \n",
    "schedule.head()"
   ]
  },
  {
   "cell_type": "markdown",
   "id": "68f8d40d",
   "metadata": {
    "deletable": true,
    "editable": true,
    "slideshow": {
     "slide_type": "fragment"
    }
   },
   "source": [
    "- For Wikipedia specifically, you can use [Wikitable2CSV](https://wikitable2csv.ggor.de/), which converts Wikipedia tables to `.csv` files for you."
   ]
  },
  {
   "cell_type": "markdown",
   "id": "84230e10",
   "metadata": {
    "deletable": true,
    "editable": true,
    "slideshow": {
     "slide_type": "slide"
    }
   },
   "source": [
    "### Programatically accessing data"
   ]
  },
  {
   "cell_type": "markdown",
   "id": "81620920",
   "metadata": {
    "deletable": true,
    "editable": true,
    "slideshow": {
     "slide_type": "fragment"
    }
   },
   "source": [
    "- We won't always be able to copy-paste tables from online, and even when we can, it's not easily **reproducible**.<br><small>What if [mgoblue.com](https://mgoblue.com/sports/football/schedule) didn't have a \"Text Only\" option? Or what if the schedule changes – how can I prevent myself from having to copy-and-paste again?</small>"
   ]
  },
  {
   "cell_type": "markdown",
   "id": "90c5370c",
   "metadata": {
    "deletable": true,
    "editable": true,
    "slideshow": {
     "slide_type": "fragment"
    }
   },
   "source": [
    "- There are two ways to programmatically access data on the internet: either **by scraping**, or **through an API**.<br><small>By programmatically, we mean by writing code.</small>"
   ]
  },
  {
   "cell_type": "markdown",
   "id": "821e415f",
   "metadata": {
    "deletable": true,
    "editable": true,
    "slideshow": {
     "slide_type": "fragment"
    }
   },
   "source": [
    "- We will discuss the differences between both approaches, but for now, the important part is that they **both use HTTP**."
   ]
  },
  {
   "cell_type": "markdown",
   "id": "466f1205",
   "metadata": {
    "deletable": true,
    "editable": true,
    "slideshow": {
     "slide_type": "fragment"
    }
   },
   "source": [
    "- **Note**: We'll cover the essentials of how the internet works for the purposes of accessing data, but for more details, take [EECS 485](https://eecs485.org)."
   ]
  },
  {
   "cell_type": "markdown",
   "id": "f8134d42",
   "metadata": {
    "deletable": true,
    "editable": true,
    "slideshow": {
     "slide_type": "slide"
    }
   },
   "source": [
    "### Goal"
   ]
  },
  {
   "cell_type": "markdown",
   "id": "ea972a20",
   "metadata": {
    "deletable": true,
    "editable": true,
    "slideshow": {
     "slide_type": "fragment"
    }
   },
   "source": [
    "- Our goal in today's lecture will be to programatically create a DataFrame containing all of the events at the Happening @ Michigan page, taken from [events.umich.edu](https://events.umich.edu)."
   ]
  },
  {
   "cell_type": "markdown",
   "id": "8efe8977",
   "metadata": {
    "deletable": true,
    "editable": true,
    "slideshow": {
     "slide_type": "fragment"
    }
   },
   "source": [
    "- Somehow, we'll start with the link to a webpage that looks like:\n",
    "\n",
    "<center><img src=\"imgs/events.png\" width=800><small>Today's event page will look different, since I wrote this lecture yesterday!</small></center>"
   ]
  },
  {
   "cell_type": "markdown",
   "id": "dcf92c30",
   "metadata": {
    "deletable": true,
    "editable": true,
    "slideshow": {
     "slide_type": "fragment"
    }
   },
   "source": [
    "- And end with a DataFrame like this one, all just by writing code:\n",
    "\n",
    "<table border=\"1\" class=\"dataframe\" width=1200>\n",
    "  <thead>\n",
    "    <tr style=\"text-align: right;\">\n",
    "      <th></th>\n",
    "      <th>title</th>\n",
    "      <th>time</th>\n",
    "      <th>location</th>\n",
    "    </tr>\n",
    "  </thead>\n",
    "  <tbody>\n",
    "    <tr>\n",
    "      <th>0</th>\n",
    "      <td>International Students Career Series: Coffee Chat with the University Career Center</td>\n",
    "      <td>Sep 23, 2024 9:00am</td>\n",
    "      <td>University Career Center, 3200 Student Activities Building, Program Room (3003), 515 E Jefferson St, Ann Arbor, MI, United States</td>\n",
    "    </tr>\n",
    "    <tr>\n",
    "      <th>1</th>\n",
    "      <td>Alaska Teachers &amp; Personnel Informational Meeting</td>\n",
    "      <td>Sep 23, 2024 10:00am</td>\n",
    "      <td></td>\n",
    "    </tr>\n",
    "    <tr>\n",
    "      <th>2</th>\n",
    "      <td>Michigan in Washington Fall 2024 Application Deadline</td>\n",
    "      <td>Sep 23, 2024 10:00am</td>\n",
    "      <td></td>\n",
    "    </tr>\n",
    "    <tr>\n",
    "      <th>3</th>\n",
    "      <td>EEB Prelim Seminar Series - Evolution of “Collecting” Behavior in Deep Sea Carrier Snails</td>\n",
    "      <td>Sep 23, 2024 10:30am</td>\n",
    "      <td>Biological Sciences Building</td>\n",
    "    </tr>\n",
    "    <tr>\n",
    "      <th>4</th>\n",
    "      <td>Huron Affinity Group Overview (iMatter Teams)</td>\n",
    "      <td>Sep 23, 2024 11:00am</td>\n",
    "      <td></td>\n",
    "    </tr>\n",
    "  </tbody>\n",
    "</table>"
   ]
  },
  {
   "cell_type": "markdown",
   "id": "3d42c1de",
   "metadata": {
    "deletable": true,
    "editable": true,
    "slideshow": {
     "slide_type": "slide"
    }
   },
   "source": [
    "### The request-response model"
   ]
  },
  {
   "cell_type": "markdown",
   "id": "6bce0025",
   "metadata": {
    "deletable": true,
    "editable": true,
    "slideshow": {
     "slide_type": "fragment"
    }
   },
   "source": [
    "- HTTP stands for **Hypertext Transfer Protocol**.<br><small>It was developed in 1989 by Tim Berners-Lee (and friends). The \"S\" in HTTPS stands for \"secure\".</small>"
   ]
  },
  {
   "cell_type": "markdown",
   "id": "9c7083e8",
   "metadata": {
    "deletable": true,
    "editable": true,
    "slideshow": {
     "slide_type": "fragment"
    }
   },
   "source": [
    "- HTTP follows the **request-response** model.\n",
    "\n",
    "<center><img src='imgs/req-response.png' width=500></center>"
   ]
  },
  {
   "cell_type": "markdown",
   "id": "6d7c4830",
   "metadata": {
    "deletable": true,
    "editable": true,
    "slideshow": {
     "slide_type": "fragment"
    }
   },
   "source": [
    "- A <b><span style=\"color:blue\">request</span></b> is made by the <b><span style=\"color:blue\">client</span></b>.\n"
   ]
  },
  {
   "cell_type": "markdown",
   "id": "08f73893",
   "metadata": {
    "deletable": true,
    "editable": true,
    "slideshow": {
     "slide_type": "fragment"
    }
   },
   "source": [
    "- A <b><span style=\"color:orange\">response</span></b> is returned by the <b><span style=\"color:orange\">server</span></b>.\n"
   ]
  },
  {
   "cell_type": "markdown",
   "id": "863ec0c0",
   "metadata": {
    "deletable": true,
    "editable": true,
    "slideshow": {
     "slide_type": "fragment"
    }
   },
   "source": [
    "- **Example**: YouTube search 🎥.\n",
    "    - Consider the following URL: https://www.youtube.com/results?search_query=iphone+16+pro+unboxing.\n",
    "    - Your web browser, a **client**, makes an HTTP **request** with a search query.\n",
    "    - The **server**, YouTube, is a computer that is sitting somewhere else.\n",
    "    - The server returns a **response** that contains the search results.\n",
    "    - **Note**: ?search_query=iphone+16+pro+unboxing is called a \"query string.\""
   ]
  },
  {
   "cell_type": "markdown",
   "id": "79bc5e92",
   "metadata": {
    "deletable": true,
    "editable": true,
    "slideshow": {
     "slide_type": "slide"
    }
   },
   "source": [
    "### Consequences of the request-response model"
   ]
  },
  {
   "cell_type": "markdown",
   "id": "288f1d0c",
   "metadata": {
    "deletable": true,
    "editable": true,
    "slideshow": {
     "slide_type": "fragment"
    }
   },
   "source": [
    "- When a request is sent to view content on a webpage, the server must:\n",
    "    - process your request (i.e. prepare data for the response).\n",
    "    - send content back to the client in its response."
   ]
  },
  {
   "cell_type": "markdown",
   "id": "0d07193b",
   "metadata": {
    "deletable": true,
    "editable": true,
    "slideshow": {
     "slide_type": "fragment"
    }
   },
   "source": [
    "- Remember, servers are computers.  Someone has to pay to keep these computers running.<br><small>**Every time you access a website, someone has to pay.**</small>"
   ]
  },
  {
   "cell_type": "markdown",
   "id": "c78a6f57",
   "metadata": {
    "deletable": true,
    "editable": true,
    "slideshow": {
     "slide_type": "fragment"
    }
   },
   "source": [
    "- If you make too many requests, the server may block your IP address, or **you may even take down the website**!<br><small>A journalist scraped and accidentally took down the Cook County Inmate Locater, and as a result, inmate's families weren't able to contact them while the site was down.</small>"
   ]
  },
  {
   "cell_type": "markdown",
   "id": "eb3fcaf6",
   "metadata": {
    "deletable": true,
    "editable": true,
    "slideshow": {
     "slide_type": "slide"
    }
   },
   "source": [
    "### HTTP request methods"
   ]
  },
  {
   "cell_type": "markdown",
   "id": "37f3b2be",
   "metadata": {
    "deletable": true,
    "editable": true,
    "slideshow": {
     "slide_type": "fragment"
    }
   },
   "source": [
    "- The request methods you will use most often are `GET` and `POST`; see [Mozilla's web docs](https://developer.mozilla.org/en-US/docs/Web/HTTP/Methods) for a detailed list of request methods.    "
   ]
  },
  {
   "cell_type": "markdown",
   "id": "7a6053ac",
   "metadata": {
    "deletable": true,
    "editable": true,
    "slideshow": {
     "slide_type": "fragment"
    }
   },
   "source": [
    "- `GET` is used to request data **from** a specified resource.<br><small>Almost all of the requests we'll make in this class are `GET` requests.<br>To load websites, your web browser uses a lot of `GET` requests!</small>"
   ]
  },
  {
   "cell_type": "markdown",
   "id": "7b915f6b",
   "metadata": {
    "deletable": true,
    "editable": true,
    "slideshow": {
     "slide_type": "fragment"
    }
   },
   "source": [
    "- `POST` is used to **send** data to the server. <br><small>For example, uploading a photo to Instagram or entering credit card information on Amazon.</small>"
   ]
  },
  {
   "cell_type": "markdown",
   "id": "eaab07cc",
   "metadata": {
    "deletable": true,
    "editable": true,
    "slideshow": {
     "slide_type": "fragment"
    }
   },
   "source": [
    "- You can make requests directly in your Terminal using the `curl` method, which you'll learn more about in EECS 485. **Here, we'll make requests using the `requests` Python module!**<br><small>There are other packages that work similarly (e.g. `urllib`), but `requests` is arguably the easiest to use.</small>"
   ]
  },
  {
   "cell_type": "code",
   "execution_count": null,
   "id": "1efacc7a",
   "metadata": {
    "deletable": true,
    "editable": true
   },
   "outputs": [],
   "source": [
    "import requests"
   ]
  },
  {
   "cell_type": "markdown",
   "id": "b66be233",
   "metadata": {
    "deletable": true,
    "editable": true,
    "slideshow": {
     "slide_type": "slide"
    }
   },
   "source": [
    "### Example: `GET` requests via `requests`"
   ]
  },
  {
   "cell_type": "markdown",
   "id": "63060f3a",
   "metadata": {
    "deletable": true,
    "editable": true,
    "slideshow": {
     "slide_type": "fragment"
    }
   },
   "source": [
    "- For instance, let's access the source code of the events page, https://events.umich.edu."
   ]
  },
  {
   "cell_type": "code",
   "execution_count": null,
   "id": "fbbbded8",
   "metadata": {
    "deletable": true,
    "editable": true
   },
   "outputs": [],
   "source": [
    "res = requests.get('https://events.umich.edu') "
   ]
  },
  {
   "cell_type": "markdown",
   "id": "bfa5aa18",
   "metadata": {
    "deletable": true,
    "editable": true,
    "slideshow": {
     "slide_type": "fragment"
    }
   },
   "source": [
    "- `res` is now a `Response` object."
   ]
  },
  {
   "cell_type": "code",
   "execution_count": null,
   "id": "27269499",
   "metadata": {
    "deletable": true,
    "editable": true
   },
   "outputs": [],
   "source": [
    "res"
   ]
  },
  {
   "cell_type": "markdown",
   "id": "c5ed091f",
   "metadata": {
    "deletable": true,
    "editable": true,
    "slideshow": {
     "slide_type": "fragment"
    }
   },
   "source": [
    "- The `text` attribute of `res` is a string that containing the entire response."
   ]
  },
  {
   "cell_type": "code",
   "execution_count": null,
   "id": "7bc79be2",
   "metadata": {
    "deletable": true,
    "editable": true
   },
   "outputs": [],
   "source": [
    "type(res.text) "
   ]
  },
  {
   "cell_type": "code",
   "execution_count": null,
   "id": "56ddbec1",
   "metadata": {
    "deletable": true,
    "editable": true
   },
   "outputs": [],
   "source": [
    "len(res.text) "
   ]
  },
  {
   "cell_type": "code",
   "execution_count": null,
   "id": "196851d9",
   "metadata": {
    "deletable": true,
    "editable": true
   },
   "outputs": [],
   "source": [
    "print(res.text[:2000]) "
   ]
  },
  {
   "cell_type": "markdown",
   "id": "cf1e6e46",
   "metadata": {
    "deletable": true,
    "editable": true,
    "slideshow": {
     "slide_type": "fragment"
    }
   },
   "source": [
    "- The response is a string containing **HTML**, the markup language used to format information on the internet. The events data we're looking for is in `res.text` _somewhere_, but we have to search for it and extract it."
   ]
  },
  {
   "cell_type": "markdown",
   "id": "424e57a2",
   "metadata": {
    "deletable": true,
    "editable": true,
    "slideshow": {
     "slide_type": "skip"
    }
   },
   "source": [
    "<div class=\"alert alert-danger\" markdown=\"1\">\n",
    "\n",
    "#### Reference Slide\n",
    "\n",
    "### Example: `POST` requests via `requests`"
   ]
  },
  {
   "cell_type": "markdown",
   "id": "dd24327c",
   "metadata": {
    "deletable": true,
    "editable": true,
    "slideshow": {
     "slide_type": "skip"
    }
   },
   "source": [
    "- The following call to `requests.post` makes a post request to https://httpbin.org/post, with a `'name'` parameter of `'Go Blue'`."
   ]
  },
  {
   "cell_type": "code",
   "execution_count": null,
   "id": "e284a572",
   "metadata": {
    "deletable": true,
    "editable": true,
    "slideshow": {
     "slide_type": "skip"
    }
   },
   "outputs": [],
   "source": [
    "post_res = requests.post('https://httpbin.org/post',\n",
    "                         data={'name': 'Go Blue'})\n",
    "post_res"
   ]
  },
  {
   "cell_type": "code",
   "execution_count": null,
   "id": "f6cf03bc",
   "metadata": {
    "deletable": true,
    "editable": true,
    "scrolled": false,
    "slideshow": {
     "slide_type": "skip"
    }
   },
   "outputs": [],
   "source": [
    "post_res.text"
   ]
  },
  {
   "cell_type": "markdown",
   "id": "f7a6ce09",
   "metadata": {
    "deletable": true,
    "editable": true,
    "slideshow": {
     "slide_type": "skip"
    }
   },
   "source": [
    "- Now, the response is a string describing a JSON object. We'll learn how to work with these later in the lecture and into Lecture 10, but for now, note that we can use the `.json()` method to convert it to a Python dictionary."
   ]
  },
  {
   "cell_type": "code",
   "execution_count": null,
   "id": "e4f8e45a",
   "metadata": {
    "deletable": true,
    "editable": true,
    "slideshow": {
     "slide_type": "skip"
    }
   },
   "outputs": [],
   "source": [
    "post_res.json()"
   ]
  },
  {
   "cell_type": "markdown",
   "id": "eff13012",
   "metadata": {
    "deletable": true,
    "editable": true,
    "slideshow": {
     "slide_type": "skip"
    }
   },
   "source": [
    "- What happens when we try and make a `POST` request somewhere where we're unable to?"
   ]
  },
  {
   "cell_type": "code",
   "execution_count": null,
   "id": "3d2ca911",
   "metadata": {
    "deletable": true,
    "editable": true,
    "scrolled": true,
    "slideshow": {
     "slide_type": "skip"
    }
   },
   "outputs": [],
   "source": [
    "yt_res = requests.post('https://youtube.com',\n",
    "                       data={'name': 'Go Blue'})\n",
    "yt_res"
   ]
  },
  {
   "cell_type": "code",
   "execution_count": null,
   "id": "303fc3d7",
   "metadata": {
    "deletable": true,
    "editable": true,
    "scrolled": false,
    "slideshow": {
     "slide_type": "skip"
    }
   },
   "outputs": [],
   "source": [
    "# This takes the text of yt_res and renders it as an HTML document within our notebook!\n",
    "HTML(yt_res.text)"
   ]
  },
  {
   "cell_type": "markdown",
   "id": "c75fbe4b",
   "metadata": {
    "deletable": true,
    "editable": true,
    "slideshow": {
     "slide_type": "slide"
    }
   },
   "source": [
    "### HTTP status codes"
   ]
  },
  {
   "cell_type": "markdown",
   "id": "fc4c0c70",
   "metadata": {
    "deletable": true,
    "editable": true,
    "slideshow": {
     "slide_type": "fragment"
    }
   },
   "source": [
    "- When we **request** data from a website, the server includes an **HTTP status code** in the response.  "
   ]
  },
  {
   "cell_type": "markdown",
   "id": "e5868735",
   "metadata": {
    "deletable": true,
    "editable": true,
    "slideshow": {
     "slide_type": "fragment"
    }
   },
   "source": [
    "* The most common status code is `200`, which means there were no issues.  "
   ]
  },
  {
   "cell_type": "markdown",
   "id": "e2082b8b",
   "metadata": {
    "deletable": true,
    "editable": true,
    "slideshow": {
     "slide_type": "fragment"
    }
   },
   "source": [
    "* Other times, you will see a different status code, describing some sort of event or error.\n",
    "    - Common examples: `403`: forbidden, `404`: page not found, `500`: internal server error.\n",
    "    - [The first digit of a status describes its general \"category.\"](https://developer.mozilla.org/en-US/docs/Web/HTTP/Status)"
   ]
  },
  {
   "cell_type": "markdown",
   "id": "07ef76a5",
   "metadata": {
    "deletable": true,
    "editable": true,
    "slideshow": {
     "slide_type": "fragment"
    }
   },
   "source": [
    "- For example, the CSE faculty page doesn't let us scrape it.<br><small>Nothing is stopping us from opening Chrome, clicking \"View Page Source\", and manually downloading the HTML, though!</small>"
   ]
  },
  {
   "cell_type": "code",
   "execution_count": null,
   "id": "537fe10c",
   "metadata": {
    "deletable": true,
    "editable": true
   },
   "outputs": [],
   "source": [
    "res = requests.get('https://cse.engin.umich.edu/people/faculty/') \n",
    "res.status_code"
   ]
  },
  {
   "cell_type": "markdown",
   "id": "8fa8ff1b",
   "metadata": {
    "deletable": true,
    "editable": true,
    "slideshow": {
     "slide_type": "fragment"
    }
   },
   "source": [
    "- As an aside, you can render HTML directly in a notebook using the `IPython.display.HTML` function."
   ]
  },
  {
   "cell_type": "code",
   "execution_count": null,
   "id": "7fdd1336",
   "metadata": {
    "deletable": true,
    "editable": true
   },
   "outputs": [],
   "source": [
    "from IPython.display import HTML\n",
    "HTML(res.text)"
   ]
  },
  {
   "cell_type": "markdown",
   "id": "861afd01",
   "metadata": {
    "deletable": true,
    "editable": true,
    "slideshow": {
     "slide_type": "skip"
    }
   },
   "source": [
    "<div class=\"alert alert-danger\" markdown=\"1\">\n",
    "\n",
    "#### Reference Slide\n",
    "\n",
    "### Handling unsuccessful requests"
   ]
  },
  {
   "cell_type": "markdown",
   "id": "81ed71b8",
   "metadata": {
    "deletable": true,
    "editable": true,
    "slideshow": {
     "slide_type": "skip"
    }
   },
   "source": [
    "- Sometimes, websites either don't want you to scrape, or prohibit you from scraping.<br><small>It's best practice to check the website's `robots.txt` file, where they specify who is and isn't allowed to scrape.<br>As we saw on the previous slide, the CSE website blocks us from scraping it, as we got a 403: Forbidden status code.</small>"
   ]
  },
  {
   "cell_type": "markdown",
   "id": "84f7d2e9",
   "metadata": {
    "deletable": true,
    "editable": true,
    "slideshow": {
     "slide_type": "skip"
    }
   },
   "source": [
    "- Some unsuccessful requests can be re-tried, depending on the issue.<br><small>A good first step is to wait a little, then try again.</small>"
   ]
  },
  {
   "cell_type": "markdown",
   "id": "8a4dbae0",
   "metadata": {
    "deletable": true,
    "editable": true,
    "slideshow": {
     "slide_type": "skip"
    }
   },
   "source": [
    "- A common issue is that you're making too many requests to a particular server at a time. If this is the case, you are being **rate-limited**; one solution is to increase the time between each request.<br><small>You can even do this programatically, say, using `time.sleep`.</small>"
   ]
  },
  {
   "cell_type": "markdown",
   "id": "7819dd66",
   "metadata": {
    "deletable": true,
    "editable": true,
    "slideshow": {
     "slide_type": "skip"
    }
   },
   "source": [
    "- See [LDS 14](https://learningds.org/ch/14/web_http.html) for more examples."
   ]
  },
  {
   "cell_type": "markdown",
   "id": "3a4d6ebe",
   "metadata": {
    "deletable": true,
    "editable": true,
    "slideshow": {
     "slide_type": "slide"
    }
   },
   "source": [
    "## The structure of HTML\n",
    "\n",
    "---"
   ]
  },
  {
   "cell_type": "markdown",
   "id": "991db4dc",
   "metadata": {
    "deletable": true,
    "editable": true,
    "slideshow": {
     "slide_type": "slide"
    }
   },
   "source": [
    "### Scraping vs. APIs"
   ]
  },
  {
   "cell_type": "markdown",
   "id": "1913db98",
   "metadata": {
    "deletable": true,
    "editable": true,
    "slideshow": {
     "slide_type": "fragment"
    }
   },
   "source": [
    "- We mentioned earlier that there are two ways to programmatically access data on the internet: either **by scraping**, or **through an API**."
   ]
  },
  {
   "cell_type": "markdown",
   "id": "d3bb6d11",
   "metadata": {
    "deletable": true,
    "editable": true,
    "slideshow": {
     "slide_type": "fragment"
    }
   },
   "source": [
    "- **Scraping** is the act of emulating a web browser to access its HTML source code.<small>When scraping, you get back data as HTML and have to **parse** that HTML to extract the information you want. Parse means to \"extract meaning from a sequence of symbols\".\n",
    "\n",
    "<center>\n",
    "    \n",
    "| ✅ Pros | ❌ Cons |\n",
    "| --- | --- |\n",
    "| If the website exists, you can usually scrape it.<br><small>This is what Google does!</small> | Scraping and parsing code gets **messy**, since <br>HTML documents contain lots of content unrelated to the<br>information you're trying to find (advertisements, formatting).<br><br>When the website's structure changes, your code will need to, too.<br><br>The site owner may not _want_ you to scrape it!</small>\n",
    "    \n",
    "    \n",
    "</center>"
   ]
  },
  {
   "cell_type": "markdown",
   "id": "487cff1d",
   "metadata": {
    "deletable": true,
    "editable": true,
    "slideshow": {
     "slide_type": "fragment"
    }
   },
   "source": [
    "- An application programming interface, or **API**, is a service that makes data directly available to the user in a **convenient** fashion. Usually, APIs give us code back as JSON objects.<br><small>APIs are made by organizations that host data. For example, X (formally known as Twitter) has an [API](https://developer.twitter.com/en/docs/twitter-api), as does [OpenAI](https://platform.openai.com/docs/overview?lang=python), the creators of ChatGPT.</small>\n",
    "\n",
    "\n",
    "| ✅ Pros | ❌ Cons |\n",
    "| --- | --- |\n",
    "| If an API exists, the data are usually clean, up-to-date, and ready to use.<br><br>The presence of an API signals that the data provider<br> is okay with you using their data.<br><br>The data provider can plan and regulate data usage.<br><small>Sometimes, you may need to create an API \"key\",<br>which is like an account for using the API.<br>APIs can often give you access to data that isn't publicly available.</small> | APIs don't always exist for the data you want! |"
   ]
  },
  {
   "cell_type": "markdown",
   "id": "90f098d6",
   "metadata": {
    "deletable": true,
    "editable": true,
    "slideshow": {
     "slide_type": "fragment"
    }
   },
   "source": [
    "- We're learning how to scrape now, and will see how to use APIs after."
   ]
  },
  {
   "cell_type": "markdown",
   "id": "a8d5dcb6",
   "metadata": {
    "deletable": true,
    "editable": true,
    "slideshow": {
     "slide_type": "slide"
    }
   },
   "source": [
    "### What is HTML?"
   ]
  },
  {
   "cell_type": "markdown",
   "id": "fb440a62",
   "metadata": {
    "deletable": true,
    "editable": true,
    "slideshow": {
     "slide_type": "fragment"
    }
   },
   "source": [
    "- HTML (Hypertext Markup Language) is **the** basic building block of the internet. "
   ]
  },
  {
   "cell_type": "markdown",
   "id": "92484d50",
   "metadata": {
    "deletable": true,
    "editable": true,
    "slideshow": {
     "slide_type": "fragment"
    }
   },
   "source": [
    "- It is a **markup language**, not a programming language.<br><small>Markup languages specify what something should _look like_, while programming languages specify what something should _calculate_ or _do_.</small>"
   ]
  },
  {
   "cell_type": "markdown",
   "id": "b2de00ca",
   "metadata": {
    "deletable": true,
    "editable": true,
    "slideshow": {
     "slide_type": "fragment"
    }
   },
   "source": [
    "- Specifically, it defines the content and layout of a webpage, and as such, it is what you get back when you scrape a webpage."
   ]
  },
  {
   "cell_type": "markdown",
   "id": "27aed752",
   "metadata": {
    "deletable": true,
    "editable": true,
    "slideshow": {
     "slide_type": "fragment"
    }
   },
   "source": [
    "- We're only going to learn enough HTML to help us scrape information.<br><small>See [this tutorial](https://developer.mozilla.org/en-US/docs/Learn/Getting_started_with_the_web/HTML_basics) for more details on HTML.</small>"
   ]
  },
  {
   "cell_type": "markdown",
   "id": "e2716e31",
   "metadata": {
    "deletable": true,
    "editable": true,
    "slideshow": {
     "slide_type": "slide"
    }
   },
   "source": [
    "### An example webpage"
   ]
  },
  {
   "cell_type": "markdown",
   "id": "d0e8ace8",
   "metadata": {
    "deletable": true,
    "editable": true,
    "slideshow": {
     "slide_type": "fragment"
    }
   },
   "source": [
    "- For instance, here's the source code of a very basic webpage."
   ]
  },
  {
   "cell_type": "code",
   "execution_count": null,
   "id": "d2dc99d9",
   "metadata": {
    "deletable": true,
    "editable": true
   },
   "outputs": [],
   "source": [
    "!cat data/lec09_ex1.html"
   ]
  },
  {
   "cell_type": "markdown",
   "id": "f02686c1",
   "metadata": {
    "deletable": true,
    "editable": true,
    "slideshow": {
     "slide_type": "fragment"
    }
   },
   "source": [
    "- Here's what that webpage actually looks like:"
   ]
  },
  {
   "cell_type": "code",
   "execution_count": null,
   "id": "6be8f7b3",
   "metadata": {
    "deletable": true,
    "editable": true,
    "slideshow": {
     "slide_type": "-"
    }
   },
   "outputs": [],
   "source": [
    "HTML('data/lec09_ex1.html')"
   ]
  },
  {
   "cell_type": "markdown",
   "id": "bfe1aac3",
   "metadata": {
    "deletable": true,
    "editable": true,
    "slideshow": {
     "slide_type": "slide"
    }
   },
   "source": [
    "### The anatomy of HTML documents"
   ]
  },
  {
   "cell_type": "markdown",
   "id": "f8dcf227",
   "metadata": {
    "deletable": true,
    "editable": true,
    "slideshow": {
     "slide_type": "fragment"
    }
   },
   "source": [
    "- **HTML document**: The totality of markup that makes up a webpage."
   ]
  },
  {
   "cell_type": "markdown",
   "id": "90a44472",
   "metadata": {
    "deletable": true,
    "editable": true,
    "slideshow": {
     "slide_type": "fragment"
    }
   },
   "source": [
    "- **Document Object Model (DOM)**: The internal representation of an HTML document as a hierarchical **tree** structure."
   ]
  },
  {
   "cell_type": "markdown",
   "id": "e3b3578e",
   "metadata": {
    "deletable": true,
    "editable": true,
    "slideshow": {
     "slide_type": "fragment"
    }
   },
   "source": [
    "- **HTML element**: An object in the DOM, such as a paragraph, header, or title."
   ]
  },
  {
   "cell_type": "markdown",
   "id": "599c7c2e",
   "metadata": {
    "deletable": true,
    "editable": true,
    "slideshow": {
     "slide_type": "fragment"
    }
   },
   "source": [
    "- **HTML tags**: Markers that denote the **start** and **end** of an element, such as `<p>` and `</p>`."
   ]
  },
  {
   "cell_type": "markdown",
   "id": "bfcecc26",
   "metadata": {
    "deletable": true,
    "editable": true,
    "slideshow": {
     "slide_type": "fragment"
    }
   },
   "source": [
    "- **Attributes**: Some tags have **attributes**, which further specify how to display information.\n",
    "\n",
    "```html\n",
    "        <p style=\"color: red\">Look at my red text!</p>\n",
    "```"
   ]
  },
  {
   "cell_type": "markdown",
   "id": "54f7cec5",
   "metadata": {
    "deletable": true,
    "editable": true,
    "slideshow": {
     "slide_type": "slide"
    }
   },
   "source": [
    "### Example: Pages and trees"
   ]
  },
  {
   "cell_type": "markdown",
   "id": "bdb20d50",
   "metadata": {
    "deletable": true,
    "editable": true,
    "slideshow": {
     "slide_type": "fragment"
    }
   },
   "source": [
    "- For the following webpage:\n",
    "\n",
    "<center>\n",
    "\n",
    "<img src=\"imgs/webpage_anatomy.png\" width=600>\n",
    "\n",
    "</center>"
   ]
  },
  {
   "cell_type": "markdown",
   "id": "b7249dee",
   "metadata": {
    "deletable": true,
    "editable": true,
    "slideshow": {
     "slide_type": "fragment"
    }
   },
   "source": [
    "- The DOM tree would look like:\n",
    "\n",
    "<center><img src=\"imgs/dom_tree.png\" width=600></center>"
   ]
  },
  {
   "cell_type": "markdown",
   "id": "f844bf5e",
   "metadata": {
    "deletable": true,
    "editable": true,
    "slideshow": {
     "slide_type": "fragment"
    }
   },
   "source": [
    "- **Why do we care?** Extracting information out of an HTML document will involve **traversing** this tree."
   ]
  },
  {
   "cell_type": "markdown",
   "id": "c6c93d72",
   "metadata": {
    "deletable": true,
    "editable": true,
    "slideshow": {
     "slide_type": "fragment"
    }
   },
   "source": [
    "- See the attached reference slides for examples of common tags."
   ]
  },
  {
   "cell_type": "markdown",
   "id": "690c8789",
   "metadata": {
    "deletable": true,
    "editable": true,
    "slideshow": {
     "slide_type": "skip"
    }
   },
   "source": [
    "<div class=\"alert alert-danger\" markdown=\"1\">\n",
    "\n",
    "#### Reference Slide\n",
    "\n",
    "### Useful tags to know"
   ]
  },
  {
   "cell_type": "markdown",
   "id": "eacf368d",
   "metadata": {
    "deletable": true,
    "editable": true,
    "slideshow": {
     "slide_type": "skip"
    }
   },
   "source": [
    "- Often, the information we're looking for is nestled in one of these tags:\n",
    "\n",
    "|Element|Description|\n",
    "|:---|:---|\n",
    "|`<html>`|the document|\n",
    "|`<head>`|the header|\n",
    "|`<body>`|the body|\n",
    "|`<div>` |a logical division of the document|\n",
    "|`<span>`|an *inline* logical division|\n",
    "|`<p>`|a paragraph|\n",
    "| `<a>`| an anchor (hyperlink)|\n",
    "|`<h1>, <h2>, ...`| header(s) |\n",
    "|`<img>`| an image |"
   ]
  },
  {
   "cell_type": "markdown",
   "id": "b31500f2",
   "metadata": {
    "deletable": true,
    "editable": true,
    "slideshow": {
     "slide_type": "skip"
    }
   },
   "source": [
    "- There are many, many more. See [this article](https://en.wikipedia.org/wiki/HTML_element) for examples."
   ]
  },
  {
   "cell_type": "markdown",
   "id": "a3c74fe6",
   "metadata": {
    "deletable": true,
    "editable": true,
    "slideshow": {
     "slide_type": "skip"
    }
   },
   "source": [
    "<div class=\"alert alert-danger\" markdown=\"1\">\n",
    "\n",
    "#### Reference Slide\n",
    "\n",
    "### Example tags and attributes"
   ]
  },
  {
   "cell_type": "markdown",
   "id": "2b338ba7",
   "metadata": {
    "deletable": true,
    "editable": true,
    "slideshow": {
     "slide_type": "skip"
    }
   },
   "source": [
    "- Tags can have **attributes**, which further specify how to display information on a webpage."
   ]
  },
  {
   "cell_type": "markdown",
   "id": "18179b62",
   "metadata": {
    "deletable": true,
    "editable": true,
    "slideshow": {
     "slide_type": "skip"
    }
   },
   "source": [
    "- For instance, `<img>` tags have `src` and `alt` attributes, among others:<br>\n",
    "\n",
    "```html\n",
    "        <img src=\"cool-visualization.png\" alt=\"My box plot that I'm super proud of.\" width=500>\n",
    "```"
   ]
  },
  {
   "cell_type": "markdown",
   "id": "829a227b",
   "metadata": {
    "deletable": true,
    "editable": true,
    "slideshow": {
     "slide_type": "skip"
    }
   },
   "source": [
    "- Hyperlinks have `href` attributes: \n",
    "\n",
    "```html\n",
    "        Click <a href=\"https://study.practicaldsc.org\">this link</a> to access past exams.\n",
    "```"
   ]
  },
  {
   "cell_type": "markdown",
   "id": "013db5f5",
   "metadata": {
    "deletable": true,
    "editable": true,
    "slideshow": {
     "slide_type": "skip"
    }
   },
   "source": [
    "- The `<div>` tag is one of the more common tags. It defines a \"section\" of an HTML document, and is often used as a container for other HTML elements.<br><small>Think of `<div>`s like cells in Jupyter Notebooks.</small>\n",
    "    \n",
    "```html\n",
    "        <div class=\"background\">\n",
    "          <h3>This is a heading</h3>\n",
    "          <p>This is a paragraph.</p>\n",
    "        </div>\n",
    "```"
   ]
  },
  {
   "cell_type": "markdown",
   "id": "4c031055",
   "metadata": {
    "deletable": true,
    "editable": true,
    "slideshow": {
     "slide_type": "skip"
    }
   },
   "source": [
    "- Often, the information we're looking for is stored in an attribute!<br><small>You can imagine a situation where we want to get the URL behind a button, for example.</small>"
   ]
  },
  {
   "cell_type": "markdown",
   "id": "43974873",
   "metadata": {
    "deletable": true,
    "editable": true,
    "slideshow": {
     "slide_type": "slide"
    }
   },
   "source": [
    "<div class=\"alert alert-warning\">\n",
    "    <h3>Question 🤔 (Answer at <a style=\"text-decoration: none; color: #0066cc\" href=\"https://docs.google.com/forms/d/e/1FAIpQLSd4oliiZYeNh76jWy-arfEtoAkCrVSsobZxPwxifWggo3EO0Q/viewform\">practicaldsc.org/q</a>)</h3>\n",
    "    \n",
    "<small>Remember that you can always ask questions anonymously at the link above!</small>\n",
    "    \n",
    "What lingering questions do we have about the Document Object Model and the structure of HTML?"
   ]
  },
  {
   "cell_type": "markdown",
   "id": "0ce4886d",
   "metadata": {
    "deletable": true,
    "editable": true,
    "slideshow": {
     "slide_type": "slide"
    }
   },
   "source": [
    "## Parsing HTML\n",
    "\n",
    "---"
   ]
  },
  {
   "cell_type": "markdown",
   "id": "b57c3a8f",
   "metadata": {
    "deletable": true,
    "editable": true,
    "slideshow": {
     "slide_type": "slide"
    }
   },
   "source": [
    "### Beautiful Soup 🍜"
   ]
  },
  {
   "cell_type": "markdown",
   "id": "468ef9c2",
   "metadata": {
    "deletable": true,
    "editable": true,
    "slideshow": {
     "slide_type": "fragment"
    }
   },
   "source": [
    "- [Beautiful Soup 4](https://www.crummy.com/software/BeautifulSoup/bs4/doc/) is a Python HTML parser.<br><small>Remember, **parse** means to \"extract meaning from a sequence of symbols\"."
   ]
  },
  {
   "cell_type": "markdown",
   "id": "ba6a24b2",
   "metadata": {
    "deletable": true,
    "editable": true,
    "slideshow": {
     "slide_type": "fragment"
    }
   },
   "source": [
    "- **Warning**: Beautiful Soup 4 and Beautiful Soup 3 work differently, so make sure you are using and looking at documentation for Beautiful Soup 4.<br><small>Rest assured, the `pds` conda environment already has Beautiful Soup 4 installed.</small>"
   ]
  },
  {
   "cell_type": "markdown",
   "id": "e665f54f",
   "metadata": {
    "deletable": true,
    "editable": true,
    "slideshow": {
     "slide_type": "slide"
    }
   },
   "source": [
    "### Example HTML document"
   ]
  },
  {
   "cell_type": "markdown",
   "id": "9a9a9afc",
   "metadata": {
    "deletable": true,
    "editable": true,
    "slideshow": {
     "slide_type": "fragment"
    }
   },
   "source": [
    "- To start, we'll work with the source code for an HTML page with the DOM tree shown below:\n",
    "\n",
    "<center><img src=\"imgs/dom_tree_1.png\" width=600></center>"
   ]
  },
  {
   "cell_type": "markdown",
   "id": "1f4b651d",
   "metadata": {
    "deletable": true,
    "editable": true,
    "slideshow": {
     "slide_type": "fragment"
    }
   },
   "source": [
    "- The string `html_string` contains an HTML \"document\"."
   ]
  },
  {
   "cell_type": "code",
   "execution_count": null,
   "id": "22f438f8",
   "metadata": {
    "deletable": true,
    "editable": true,
    "slideshow": {
     "slide_type": "-"
    }
   },
   "outputs": [],
   "source": [
    "html_string = '''\n",
    "<html>\n",
    "    <body>\n",
    "      <div id=\"content\">\n",
    "        <h1>Heading here</h1>\n",
    "        <p>My First paragraph</p>\n",
    "        <p>My <em>second</em> paragraph</p>\n",
    "        <hr>\n",
    "      </div>\n",
    "      <div id=\"nav\">\n",
    "        <ul>\n",
    "          <li>item 1</li>\n",
    "          <li>item 2</li>\n",
    "          <li>item 3</li>\n",
    "        </ul>\n",
    "      </div>\n",
    "    </body>\n",
    "</html>\n",
    "'''.strip()"
   ]
  },
  {
   "cell_type": "code",
   "execution_count": null,
   "id": "effcc08c",
   "metadata": {
    "deletable": true,
    "editable": true,
    "scrolled": true
   },
   "outputs": [],
   "source": [
    "HTML(html_string)"
   ]
  },
  {
   "cell_type": "markdown",
   "id": "39d6cf59",
   "metadata": {
    "deletable": true,
    "editable": true,
    "slideshow": {
     "slide_type": "slide"
    }
   },
   "source": [
    "### Instantiating `BeautifulSoup` objects"
   ]
  },
  {
   "cell_type": "markdown",
   "id": "cdcff6b6",
   "metadata": {
    "deletable": true,
    "editable": true,
    "slideshow": {
     "slide_type": "fragment"
    }
   },
   "source": [
    "- `bs4`'s `BeautifulSoup` function takes in a string or file-like object representing HTML and returns a **parsed** document."
   ]
  },
  {
   "cell_type": "code",
   "execution_count": null,
   "id": "f8847e7b",
   "metadata": {
    "deletable": true,
    "editable": true
   },
   "outputs": [],
   "source": [
    "# We also could have used:\n",
    "# import bs4\n",
    "# But, then we'd need to use bs4.BeautifulSoup every time.\n",
    "from bs4 import BeautifulSoup"
   ]
  },
  {
   "cell_type": "code",
   "execution_count": null,
   "id": "fd9bea10",
   "metadata": {
    "deletable": true,
    "editable": true
   },
   "outputs": [],
   "source": [
    "BeautifulSoup?"
   ]
  },
  {
   "cell_type": "markdown",
   "id": "eb237c82",
   "metadata": {
    "deletable": true,
    "editable": true,
    "slideshow": {
     "slide_type": "fragment"
    }
   },
   "source": [
    "- Normally, we pass the result of a `GET` request to `BeautifulSoup`, but here we will pass our hand-crafted `html_string`."
   ]
  },
  {
   "cell_type": "code",
   "execution_count": null,
   "id": "1421b0ee",
   "metadata": {
    "deletable": true,
    "editable": true
   },
   "outputs": [],
   "source": [
    "soup = BeautifulSoup(html_string) \n",
    "soup"
   ]
  },
  {
   "cell_type": "code",
   "execution_count": null,
   "id": "df0beee2",
   "metadata": {
    "deletable": true,
    "editable": true
   },
   "outputs": [],
   "source": [
    "type(soup)"
   ]
  },
  {
   "cell_type": "markdown",
   "id": "a9bea0b8",
   "metadata": {
    "deletable": true,
    "editable": true,
    "slideshow": {
     "slide_type": "fragment"
    }
   },
   "source": [
    "- `BeautifulSoup` objects have several useful attributes, e.g. `text`:"
   ]
  },
  {
   "cell_type": "code",
   "execution_count": null,
   "id": "4284f621",
   "metadata": {
    "deletable": true,
    "editable": true
   },
   "outputs": [],
   "source": [
    "print(soup.text) "
   ]
  },
  {
   "cell_type": "markdown",
   "id": "b12892cc",
   "metadata": {
    "deletable": true,
    "editable": true,
    "slideshow": {
     "slide_type": "slide"
    }
   },
   "source": [
    "### Finding elements in a BeautifulSoup object"
   ]
  },
  {
   "cell_type": "markdown",
   "id": "b3a4237a",
   "metadata": {
    "deletable": true,
    "editable": true,
    "slideshow": {
     "slide_type": "fragment"
    }
   },
   "source": [
    "- The two main methods you will use to extract information from a BeautifulSoup object are `find` and `find_all`."
   ]
  },
  {
   "cell_type": "markdown",
   "id": "89df70fb",
   "metadata": {
    "deletable": true,
    "editable": true,
    "slideshow": {
     "slide_type": "fragment"
    }
   },
   "source": [
    "- `soup.find(tag)` finds the **first** instance of a tag (the first one on the page, i.e. the first one that DFS sees), and returns just that tag.<br><small>It has several optional arguments: **look at the documentation!**</small>"
   ]
  },
  {
   "cell_type": "markdown",
   "id": "d7ed727d",
   "metadata": {
    "deletable": true,
    "editable": true,
    "slideshow": {
     "slide_type": "fragment"
    }
   },
   "source": [
    "- `soup.find_all(tag)` will find **all** instances of a tag, and returns a **list** of tags."
   ]
  },
  {
   "cell_type": "markdown",
   "id": "a7a373e9",
   "metadata": {
    "deletable": true,
    "editable": true,
    "slideshow": {
     "slide_type": "fragment"
    }
   },
   "source": [
    "- Remember: **`find` finds tags!**"
   ]
  },
  {
   "cell_type": "markdown",
   "id": "d7e0ec52",
   "metadata": {
    "deletable": true,
    "editable": true,
    "slideshow": {
     "slide_type": "slide"
    }
   },
   "source": [
    "### Using `find`"
   ]
  },
  {
   "cell_type": "markdown",
   "id": "0a944cea",
   "metadata": {
    "deletable": true,
    "editable": true,
    "slideshow": {
     "slide_type": "fragment"
    }
   },
   "source": [
    "- Let's try and extract the first `<div>` subtree.\n",
    "\n",
    "<center><img src=\"imgs/dom_tree_1.png\" width=600></center> "
   ]
  },
  {
   "cell_type": "code",
   "execution_count": null,
   "id": "b2aa532b",
   "metadata": {
    "deletable": true,
    "editable": true,
    "scrolled": true
   },
   "outputs": [],
   "source": [
    "soup.find('div') "
   ]
  },
  {
   "cell_type": "markdown",
   "id": "a284efc7",
   "metadata": {
    "deletable": true,
    "editable": true,
    "slideshow": {
     "slide_type": "fragment"
    }
   },
   "source": [
    "<center><img src=\"imgs/dom_subtree_1.png\" width=325></center>  "
   ]
  },
  {
   "cell_type": "markdown",
   "id": "25afc3d6",
   "metadata": {
    "deletable": true,
    "editable": true,
    "slideshow": {
     "slide_type": "fragment"
    }
   },
   "source": [
    "- Let's try and find the `<div>` element that has an `id` attribute equal to `'nav'`."
   ]
  },
  {
   "cell_type": "code",
   "execution_count": null,
   "id": "64a200e1",
   "metadata": {
    "deletable": true,
    "editable": true
   },
   "outputs": [],
   "source": [
    "soup.find('div', attrs={'id': 'nav'}) "
   ]
  },
  {
   "cell_type": "markdown",
   "id": "3a20c2c1",
   "metadata": {
    "deletable": true,
    "editable": true,
    "slideshow": {
     "slide_type": "fragment"
    }
   },
   "source": [
    "- `find` will return the first occurrence of a tag, regardless of its depth in the tree."
   ]
  },
  {
   "cell_type": "code",
   "execution_count": null,
   "id": "6ba00c79",
   "metadata": {
    "deletable": true,
    "editable": true
   },
   "outputs": [],
   "source": [
    "# The ul child is not at the top of the tree, but we can still find it.\n",
    "soup.find('ul') "
   ]
  },
  {
   "cell_type": "markdown",
   "id": "58c3fc58",
   "metadata": {
    "deletable": true,
    "editable": true,
    "slideshow": {
     "slide_type": "slide"
    }
   },
   "source": [
    "### Using `find_all`"
   ]
  },
  {
   "cell_type": "markdown",
   "id": "9a28613c",
   "metadata": {
    "deletable": true,
    "editable": true,
    "slideshow": {
     "slide_type": "fragment"
    }
   },
   "source": [
    "- `find_all` returns a list of all matching tags."
   ]
  },
  {
   "cell_type": "code",
   "execution_count": null,
   "id": "e924b38b",
   "metadata": {
    "deletable": true,
    "editable": true
   },
   "outputs": [],
   "source": [
    "soup"
   ]
  },
  {
   "cell_type": "code",
   "execution_count": null,
   "id": "625c1524",
   "metadata": {
    "deletable": true,
    "editable": true
   },
   "outputs": [],
   "source": [
    "soup.find_all('div') "
   ]
  },
  {
   "cell_type": "code",
   "execution_count": null,
   "id": "76a60bde",
   "metadata": {
    "deletable": true,
    "editable": true
   },
   "outputs": [],
   "source": [
    "soup.find_all('li') "
   ]
  },
  {
   "cell_type": "markdown",
   "id": "f0fe2496",
   "metadata": {
    "deletable": true,
    "editable": true,
    "slideshow": {
     "slide_type": "fragment"
    }
   },
   "source": [
    "- We often use the `find_all` method in conjunction with a `for`-loop or list comprehension, to perform some operation on every matching tag."
   ]
  },
  {
   "cell_type": "code",
   "execution_count": null,
   "id": "a2c3966c",
   "metadata": {
    "deletable": true,
    "editable": true
   },
   "outputs": [],
   "source": [
    "[x.text for x in soup.find_all('li')] "
   ]
  },
  {
   "cell_type": "markdown",
   "id": "41bff26c",
   "metadata": {
    "deletable": true,
    "editable": true,
    "slideshow": {
     "slide_type": "slide"
    }
   },
   "source": [
    "### Node attributes"
   ]
  },
  {
   "cell_type": "markdown",
   "id": "d0b787af",
   "metadata": {
    "deletable": true,
    "editable": true,
    "slideshow": {
     "slide_type": "fragment"
    }
   },
   "source": [
    "- The `text` attribute of a tag element gets the text between the opening and closing tags."
   ]
  },
  {
   "cell_type": "code",
   "execution_count": null,
   "id": "c7858f27",
   "metadata": {
    "deletable": true,
    "editable": true
   },
   "outputs": [],
   "source": [
    "soup.find('p') "
   ]
  },
  {
   "cell_type": "code",
   "execution_count": null,
   "id": "f2516121",
   "metadata": {
    "deletable": true,
    "editable": true
   },
   "outputs": [],
   "source": [
    "soup.find('p').text "
   ]
  },
  {
   "cell_type": "markdown",
   "id": "806e5a4a",
   "metadata": {
    "deletable": true,
    "editable": true,
    "slideshow": {
     "slide_type": "fragment"
    }
   },
   "source": [
    "- The `attrs` attribute of a tag element lists all of its attributes."
   ]
  },
  {
   "cell_type": "code",
   "execution_count": null,
   "id": "1895c157",
   "metadata": {
    "deletable": true,
    "editable": true
   },
   "outputs": [],
   "source": [
    "soup.find('div') "
   ]
  },
  {
   "cell_type": "code",
   "execution_count": null,
   "id": "ee1906c4",
   "metadata": {
    "deletable": true,
    "editable": true
   },
   "outputs": [],
   "source": [
    "soup.find('div').text "
   ]
  },
  {
   "cell_type": "code",
   "execution_count": null,
   "id": "b1aa9fcd",
   "metadata": {
    "deletable": true,
    "editable": true
   },
   "outputs": [],
   "source": [
    "soup.find('div').attrs "
   ]
  },
  {
   "cell_type": "markdown",
   "id": "f0a88045",
   "metadata": {
    "deletable": true,
    "editable": true,
    "slideshow": {
     "slide_type": "fragment"
    }
   },
   "source": [
    "- The `get` method of a tag element **gets the value of an attribute**.<br><small>`find` and `get` are easy to get confused, but you'll use them both a lot.</small>"
   ]
  },
  {
   "cell_type": "code",
   "execution_count": null,
   "id": "107578eb",
   "metadata": {
    "deletable": true,
    "editable": true
   },
   "outputs": [],
   "source": [
    "soup.find('div').get('id') "
   ]
  },
  {
   "cell_type": "markdown",
   "id": "f7a463eb",
   "metadata": {
    "deletable": true,
    "editable": true,
    "slideshow": {
     "slide_type": "fragment"
    }
   },
   "source": [
    "- The `get` method must be called directly on the node that contains the attribute you're looking for."
   ]
  },
  {
   "cell_type": "code",
   "execution_count": null,
   "id": "108d9e45",
   "metadata": {
    "deletable": true,
    "editable": true
   },
   "outputs": [],
   "source": [
    "soup"
   ]
  },
  {
   "cell_type": "code",
   "execution_count": null,
   "id": "393a5134",
   "metadata": {
    "deletable": true,
    "editable": true
   },
   "outputs": [],
   "source": [
    "# While there are multiple 'id' attributes, none of them are in the <html> tag at the top.\n",
    "soup.get('id') "
   ]
  },
  {
   "cell_type": "code",
   "execution_count": null,
   "id": "20c940bd",
   "metadata": {
    "deletable": true,
    "editable": true,
    "scrolled": true
   },
   "outputs": [],
   "source": [
    "soup.find('div').get('id') "
   ]
  },
  {
   "cell_type": "markdown",
   "id": "1e1b3fa9",
   "metadata": {
    "deletable": true,
    "editable": true,
    "slideshow": {
     "slide_type": "slide"
    }
   },
   "source": [
    "<div class=\"alert alert-success\" markdown=\"1\">\n",
    "    <h3>Activity</h3>\n",
    "    \n",
    "Consider the following HTML document, which represents a webpage containing the top few songs with the most streams on Spotify today in Canada.\n",
    "\n",
    "```html\n",
    "<head>\n",
    "    <title>3*Canada-2022-06-04</title>\n",
    "</head>\n",
    "<body>\n",
    "    <h1>Spotify Top 3 - Canada</h1>\n",
    "    <table>\n",
    "        <tr class='heading'>\n",
    "            <th>Rank</th>\n",
    "            <th>Artist(s)</th> \n",
    "            <th>Song</th>\n",
    "        </tr>\n",
    "        <tr class=1>\n",
    "            <td>1</td>\n",
    "            <td>Harry Styles</td> \n",
    "            <td>As It Was</td>\n",
    "        </tr>\n",
    "        <tr class=2>\n",
    "            <td>2</td>\n",
    "            <td>Jack Harlow</td> \n",
    "            <td>First Class</td>\n",
    "        </tr>\n",
    "        <tr class=3>\n",
    "            <td>3</td>\n",
    "            <td>Kendrick Lamar</td> \n",
    "            <td>N95</td>\n",
    "        </tr>\n",
    "    </table>\n",
    "</body>\n",
    "```"
   ]
  },
  {
   "cell_type": "markdown",
   "id": "50e73bb9",
   "metadata": {
    "deletable": true,
    "editable": true
   },
   "source": [
    "- **Part 1**: How many leaf nodes are there in the DOM tree of the previous document — that is, how many nodes have no children?"
   ]
  },
  {
   "cell_type": "markdown",
   "id": "362b2fd6",
   "metadata": {
    "deletable": true,
    "editable": true
   },
   "source": [
    "- **Part 2**: What does the following line of code evaluate to?\n",
    "\n",
    "```python\n",
    "        len(soup.find_all(\"td\"))\n",
    "```"
   ]
  },
  {
   "cell_type": "markdown",
   "id": "3237a470",
   "metadata": {
    "deletable": true,
    "editable": true
   },
   "source": [
    "- **Part 3**: What does the following line of code evaluate to?\n",
    "\n",
    "```python\n",
    "        soup.find(\"tr\").get(\"class\")\n",
    "```"
   ]
  },
  {
   "cell_type": "markdown",
   "id": "afa67720",
   "metadata": {
    "deletable": true,
    "editable": true,
    "slideshow": {
     "slide_type": "slide"
    }
   },
   "source": [
    "## Example: Scraping quotes\n",
    "\n",
    "---"
   ]
  },
  {
   "cell_type": "markdown",
   "id": "a9aa48ce",
   "metadata": {
    "deletable": true,
    "editable": true,
    "slideshow": {
     "slide_type": "slide"
    }
   },
   "source": [
    "### Example: Scraping quotes"
   ]
  },
  {
   "cell_type": "markdown",
   "id": "5e535bd9",
   "metadata": {
    "deletable": true,
    "editable": true,
    "slideshow": {
     "slide_type": "fragment"
    }
   },
   "source": [
    "- Navigate to [quotes.toscrape.com](https://quotes.toscrape.com).\n",
    "\n",
    "<center><img src=\"imgs/quotes2scrape.png\" width=60%></center>"
   ]
  },
  {
   "cell_type": "markdown",
   "id": "4cc6652a",
   "metadata": {
    "deletable": true,
    "editable": true,
    "slideshow": {
     "slide_type": "fragment"
    }
   },
   "source": [
    "- **Goal**: Extract quotes, and relevant metadata, into a DataFrame."
   ]
  },
  {
   "cell_type": "markdown",
   "id": "99dace88",
   "metadata": {
    "deletable": true,
    "editable": true,
    "slideshow": {
     "slide_type": "fragment"
    }
   },
   "source": [
    "- Specifically, let's try to make a DataFrame that looks like the one below:\n",
    "\n",
    "<table border=\"1\" class=\"dataframe\">\n",
    "  <thead>\n",
    "    <tr style=\"text-align: right;\">\n",
    "      <th></th>\n",
    "      <th>quote</th>\n",
    "      <th>author</th>\n",
    "      <th>author_url</th>\n",
    "      <th>tags</th>\n",
    "    </tr>\n",
    "  </thead>\n",
    "  <tbody>\n",
    "    <tr>\n",
    "      <th>0</th>\n",
    "      <td>“The world as we have created it is a process of our thinking. It cannot be changed without changing our thinking.”</td>\n",
    "      <td>Albert Einstein</td>\n",
    "      <td>https://quotes.toscrape.com/author/Albert-Einstein</td>\n",
    "      <td>change,deep-thoughts,thinking,world</td>\n",
    "    </tr>\n",
    "    <tr>\n",
    "      <th>1</th>\n",
    "      <td>“It is our choices, Harry, that show what we truly are, far more than our abilities.”</td>\n",
    "      <td>J.K. Rowling</td>\n",
    "      <td>https://quotes.toscrape.com/author/J-K-Rowling</td>\n",
    "      <td>abilities,choices</td>\n",
    "    </tr>\n",
    "    <tr>\n",
    "      <th>2</th>\n",
    "      <td>“There are only two ways to live your life. One is as though nothing is a miracle. The other is as though everything is a miracle.”</td>\n",
    "      <td>Albert Einstein</td>\n",
    "      <td>https://quotes.toscrape.com/author/Albert-Einstein</td>\n",
    "      <td>inspirational,life,live,miracle,miracles</td>\n",
    "    </tr>\n",
    "  </tbody>\n",
    "</table>"
   ]
  },
  {
   "cell_type": "markdown",
   "id": "942290a1",
   "metadata": {
    "deletable": true,
    "editable": true,
    "slideshow": {
     "slide_type": "slide"
    }
   },
   "source": [
    "### Organizing our work"
   ]
  },
  {
   "cell_type": "markdown",
   "id": "a67cf2ea",
   "metadata": {
    "deletable": true,
    "editable": true,
    "slideshow": {
     "slide_type": "fragment"
    }
   },
   "source": [
    "- Eventually, we will implement a single function, `make_quote_df`, which takes in an integer `n` and returns a **DataFrame** with the quotes on the **first `n` pages** of [quotes.toscrape.com](https://quotes.toscrape.com)."
   ]
  },
  {
   "cell_type": "markdown",
   "id": "7e11d50d",
   "metadata": {
    "deletable": true,
    "editable": true,
    "slideshow": {
     "slide_type": "fragment"
    }
   },
   "source": [
    "- Along the way, we'll implement several helper functions, with the goal of separating our logic: **each function should either request information, OR parse, but not both!**"
   ]
  },
  {
   "cell_type": "markdown",
   "id": "1677320c",
   "metadata": {
    "deletable": true,
    "editable": true,
    "slideshow": {
     "slide_type": "fragment"
    }
   },
   "source": [
    "- This makes it easier to debug and catch errors."
   ]
  },
  {
   "cell_type": "markdown",
   "id": "d8a10ce5",
   "metadata": {
    "deletable": true,
    "editable": true,
    "slideshow": {
     "slide_type": "fragment"
    }
   },
   "source": [
    "- It also avoids **unnecessary requests**."
   ]
  },
  {
   "cell_type": "markdown",
   "id": "a56f6129",
   "metadata": {
    "deletable": true,
    "editable": true,
    "slideshow": {
     "slide_type": "slide"
    }
   },
   "source": [
    "### Downloading a single page"
   ]
  },
  {
   "cell_type": "markdown",
   "id": "70c51c46",
   "metadata": {
    "deletable": true,
    "editable": true,
    "slideshow": {
     "slide_type": "fragment"
    }
   },
   "source": [
    "- First, let's figure out how to download a single page from [quotes.toscrape.com](https://quotes.toscrape.com)."
   ]
  },
  {
   "cell_type": "markdown",
   "id": "cc292bf3",
   "metadata": {
    "deletable": true,
    "editable": true,
    "slideshow": {
     "slide_type": "fragment"
    }
   },
   "source": [
    "- The URLs seem to be formatted a very particular way:\n",
    "\n",
    "```html\n",
    "        https://quotes.toscrape.com/page/2\n",
    "```"
   ]
  },
  {
   "cell_type": "code",
   "execution_count": null,
   "id": "99309631",
   "metadata": {
    "deletable": true,
    "editable": true,
    "slideshow": {
     "slide_type": "-"
    }
   },
   "outputs": [],
   "source": [
    "def download_page(i):\n",
    "    url = f'https://quotes.toscrape.com/page/{i}'\n",
    "    res = requests.get(url)\n",
    "    return BeautifulSoup(res.text)"
   ]
  },
  {
   "cell_type": "markdown",
   "id": "30908c68",
   "metadata": {
    "deletable": true,
    "editable": true,
    "slideshow": {
     "slide_type": "fragment"
    }
   },
   "source": [
    "- Let's test our function on a single page, like Page 2.<br><small>There's nothing special about Page 2; we chose it arbitrarily.</small>"
   ]
  },
  {
   "cell_type": "code",
   "execution_count": null,
   "id": "2c377b5a",
   "metadata": {
    "deletable": true,
    "editable": true
   },
   "outputs": [],
   "source": [
    "soup = download_page(2) \n",
    "soup"
   ]
  },
  {
   "cell_type": "markdown",
   "id": "41665e0f",
   "metadata": {
    "deletable": true,
    "editable": true,
    "slideshow": {
     "slide_type": "fragment"
    }
   },
   "source": [
    "- Now that this works, later on, we can call `download_page(1)`, `download_page(2)`, `download_page(3)`, ..., `download_page(n)`."
   ]
  },
  {
   "cell_type": "markdown",
   "id": "4c0fd1ca",
   "metadata": {
    "deletable": true,
    "editable": true,
    "slideshow": {
     "slide_type": "slide"
    }
   },
   "source": [
    "### Parsing a single page"
   ]
  },
  {
   "cell_type": "markdown",
   "id": "5e0fcdb2",
   "metadata": {
    "deletable": true,
    "editable": true,
    "slideshow": {
     "slide_type": "fragment"
    }
   },
   "source": [
    "- Now, let's try and extract the relevant information out of the `soup` object for Page 2."
   ]
  },
  {
   "cell_type": "markdown",
   "id": "998f6365",
   "metadata": {
    "deletable": true,
    "editable": true,
    "slideshow": {
     "slide_type": "fragment"
    }
   },
   "source": [
    "- **Open [quotes.toscrape.com/page/2](https://quotes.toscrape.com/page/2/) in Chrome, right click the page, and click \"Inspect\"!**<br><small>This will help us find where each quote is located in the HTML.</small>"
   ]
  },
  {
   "cell_type": "code",
   "execution_count": null,
   "id": "69f20039",
   "metadata": {
    "deletable": true,
    "editable": true
   },
   "outputs": [],
   "source": [
    "divs = soup.find_all('div', class_='quote') \n",
    "# The above is a shortcut for the following, just for when the attribute key is class:\n",
    "# divs = soup.find_all('div', attrs={'class': 'quote'})"
   ]
  },
  {
   "cell_type": "code",
   "execution_count": null,
   "id": "3bc93a04",
   "metadata": {
    "deletable": true,
    "editable": true
   },
   "outputs": [],
   "source": [
    "divs[0]"
   ]
  },
  {
   "cell_type": "markdown",
   "id": "b24ca56c",
   "metadata": {
    "deletable": true,
    "editable": true,
    "slideshow": {
     "slide_type": "fragment"
    }
   },
   "source": [
    "- From this `<div>`, we can extract the quote, author name, author's URL, and tags.<br><small>Strategy: Figure out how to process one `<div>`, then put that logic in a function to use on other `<div>`s."
   ]
  },
  {
   "cell_type": "code",
   "execution_count": null,
   "id": "48832507",
   "metadata": {
    "deletable": true,
    "editable": true
   },
   "outputs": [],
   "source": [
    "# The quote.\n",
    "divs[0].find('span', class_='text').text "
   ]
  },
  {
   "cell_type": "code",
   "execution_count": null,
   "id": "44b44a1f",
   "metadata": {
    "deletable": true,
    "editable": true
   },
   "outputs": [],
   "source": [
    "# The author.\n",
    "divs[0].find('small', class_='author').text "
   ]
  },
  {
   "cell_type": "code",
   "execution_count": null,
   "id": "287f17d8",
   "metadata": {
    "deletable": true,
    "editable": true
   },
   "outputs": [],
   "source": [
    "# The URL for the author.\n",
    "divs[0].find('a').get('href') "
   ]
  },
  {
   "cell_type": "code",
   "execution_count": null,
   "id": "42302fde",
   "metadata": {
    "deletable": true,
    "editable": true
   },
   "outputs": [],
   "source": [
    "# The quote's tags.\n",
    "divs[0].find('meta', class_='keywords').get('content') "
   ]
  },
  {
   "cell_type": "markdown",
   "id": "97c97f73",
   "metadata": {
    "deletable": true,
    "editable": true,
    "slideshow": {
     "slide_type": "slide"
    }
   },
   "source": [
    "### Parsing a single quote, and then a single page"
   ]
  },
  {
   "cell_type": "markdown",
   "id": "2f45acbf",
   "metadata": {
    "deletable": true,
    "editable": true,
    "slideshow": {
     "slide_type": "fragment"
    }
   },
   "source": [
    "- Let's implement a function that takes in a `<div>` corresponding to a single quote and returns a dictionary containing the quote's information.<br><small>Why use a dictionary? Passing `pd.DataFrame` a list of dictionaries is an easy way to create a DataFrame.</small>"
   ]
  },
  {
   "cell_type": "code",
   "execution_count": null,
   "id": "cac3d262",
   "metadata": {
    "deletable": true,
    "editable": true
   },
   "outputs": [],
   "source": [
    "def process_quote(div):\n",
    "    quote = div.find('span', class_='text').text\n",
    "    author = div.find('small', class_='author').text\n",
    "    author_url = 'https://quotes.toscrape.com' + div.find('a').get('href')\n",
    "    tags = div.find('meta', class_='keywords').get('content')\n",
    "    return {'quote': quote, 'author': author, 'author_url': author_url, 'tags': tags}"
   ]
  },
  {
   "cell_type": "code",
   "execution_count": null,
   "id": "0072e22e",
   "metadata": {
    "deletable": true,
    "editable": true
   },
   "outputs": [],
   "source": [
    "# Make sure everything here looks correct based on what's on the webpage!\n",
    "process_quote(divs[4]) "
   ]
  },
  {
   "cell_type": "markdown",
   "id": "fe1443fb",
   "metadata": {
    "deletable": true,
    "editable": true,
    "slideshow": {
     "slide_type": "fragment"
    }
   },
   "source": [
    "- Now, we can implement a function that takes in a **list** of `<div>`s, calls `process_quote` on each `<div>` in the list, and returns a **DataFrame**."
   ]
  },
  {
   "cell_type": "code",
   "execution_count": null,
   "id": "85544bca",
   "metadata": {
    "deletable": true,
    "editable": true
   },
   "outputs": [],
   "source": [
    "def process_page(divs):\n",
    "    return pd.DataFrame([process_quote(div) for div in divs])"
   ]
  },
  {
   "cell_type": "code",
   "execution_count": null,
   "id": "d4a05786",
   "metadata": {
    "deletable": true,
    "editable": true,
    "scrolled": true
   },
   "outputs": [],
   "source": [
    "process_page(divs)"
   ]
  },
  {
   "cell_type": "markdown",
   "id": "abc957bf",
   "metadata": {
    "deletable": true,
    "editable": true,
    "slideshow": {
     "slide_type": "slide"
    }
   },
   "source": [
    "### Putting it all together"
   ]
  },
  {
   "cell_type": "markdown",
   "id": "f86aa6c6",
   "metadata": {
    "deletable": true,
    "editable": true,
    "slideshow": {
     "slide_type": "fragment"
    }
   },
   "source": [
    "- Now, we can implement `make_quote_df`."
   ]
  },
  {
   "cell_type": "code",
   "execution_count": null,
   "id": "d3706e04",
   "metadata": {
    "deletable": true,
    "editable": true
   },
   "outputs": [],
   "source": [
    "def make_quote_df(n):\n",
    "    '''Returns a DataFrame containing the quotes on the first n pages of https://quotes.toscrape.com/.''' # This is called a docstring!\n",
    "    dfs = []\n",
    "    for i in range(1, n+1):\n",
    "        # Download page n and create a BeautifulSoup object.\n",
    "        soup = download_page(i)\n",
    "        # Create DataFrame using the information in that page.\n",
    "        divs = soup.find_all('div', class_='quote')\n",
    "        df = process_page(divs)\n",
    "        # Append DataFrame to dfs.\n",
    "        dfs.append(df)\n",
    "    # Stitch all DataFrames together.\n",
    "    return pd.concat(dfs).reset_index(drop=True)"
   ]
  },
  {
   "cell_type": "code",
   "execution_count": null,
   "id": "d86104d1",
   "metadata": {
    "deletable": true,
    "editable": true,
    "scrolled": true
   },
   "outputs": [],
   "source": [
    "quotes = make_quote_df(3)\n",
    "quotes.head()"
   ]
  },
  {
   "cell_type": "markdown",
   "id": "126c4676",
   "metadata": {
    "deletable": true,
    "editable": true,
    "slideshow": {
     "slide_type": "fragment"
    }
   },
   "source": [
    "- Now, `quotes` is s DataFrame, like any other!"
   ]
  },
  {
   "cell_type": "code",
   "execution_count": null,
   "id": "c18d18dd",
   "metadata": {
    "deletable": true,
    "editable": true
   },
   "outputs": [],
   "source": [
    "quotes[quotes['author'] == 'Albert Einstein'] "
   ]
  },
  {
   "cell_type": "markdown",
   "id": "6f2739ac",
   "metadata": {
    "deletable": true,
    "editable": true,
    "slideshow": {
     "slide_type": "skip"
    }
   },
   "source": [
    "<div class=\"alert alert-danger\" markdown=\"1\">\n",
    "\n",
    "#### Reference Slide\n",
    "\n",
    "### Summary of our steps"
   ]
  },
  {
   "cell_type": "markdown",
   "id": "4692071c",
   "metadata": {
    "deletable": true,
    "editable": true,
    "slideshow": {
     "slide_type": "skip"
    }
   },
   "source": [
    "1. Implement `download_page(i)`, which downloads a **single page** (page `i`) and returns a `BeautifulSoup` object of the response."
   ]
  },
  {
   "cell_type": "markdown",
   "id": "c7f750ba",
   "metadata": {
    "deletable": true,
    "editable": true,
    "slideshow": {
     "slide_type": "skip"
    }
   },
   "source": [
    "2. Implement `process_quote(div)`, which takes in a `<div>` tree corresponding to a **single quote** and returns a dictionary containing all of the relevant information for that quote."
   ]
  },
  {
   "cell_type": "markdown",
   "id": "4a9bd69d",
   "metadata": {
    "deletable": true,
    "editable": true,
    "slideshow": {
     "slide_type": "skip"
    }
   },
   "source": [
    "3. Implement `process_page(divs)`, which takes in a list of `<div>` trees corresponding to a **single page** and returns a DataFrame containing all of the relevant information for all quotes on that page."
   ]
  },
  {
   "cell_type": "markdown",
   "id": "998762e4",
   "metadata": {
    "deletable": true,
    "editable": true,
    "slideshow": {
     "slide_type": "skip"
    }
   },
   "source": [
    "4. Implement `make_quote_df(n)`."
   ]
  },
  {
   "cell_type": "markdown",
   "id": "99fde0d6",
   "metadata": {
    "deletable": true,
    "editable": true,
    "slideshow": {
     "slide_type": "slide"
    }
   },
   "source": [
    "## Example: Scraping the Happening @ Michigan page\n",
    "\n",
    "---"
   ]
  },
  {
   "cell_type": "markdown",
   "id": "42d85006",
   "metadata": {
    "deletable": true,
    "editable": true,
    "slideshow": {
     "slide_type": "slide"
    }
   },
   "source": [
    "### Example: Scraping the Happening @ Michigan page"
   ]
  },
  {
   "cell_type": "markdown",
   "id": "7d928f35",
   "metadata": {
    "deletable": true,
    "editable": true,
    "slideshow": {
     "slide_type": "fragment"
    }
   },
   "source": [
    "- As we stated earlier, our ultimate goal in today's lecture is to create a DataFrame with the information about each event at [events.umich.edu](https://events.umich.edu)."
   ]
  },
  {
   "cell_type": "code",
   "execution_count": null,
   "id": "629c8d2c",
   "metadata": {
    "deletable": true,
    "editable": true
   },
   "outputs": [],
   "source": [
    "res = requests.get('https://events.umich.edu')\n",
    "res"
   ]
  },
  {
   "cell_type": "code",
   "execution_count": null,
   "id": "fafd1aa0",
   "metadata": {
    "deletable": true,
    "editable": true
   },
   "outputs": [],
   "source": [
    "soup = BeautifulSoup(res.text)"
   ]
  },
  {
   "cell_type": "markdown",
   "id": "1b6c0166",
   "metadata": {
    "deletable": true,
    "editable": true,
    "slideshow": {
     "slide_type": "fragment"
    }
   },
   "source": [
    "- Let's start by opening the page in Chrome, right clicking on the page, and clicking \"Inspect\".<br><small>As we can see, the HTML is much more complicated this time – this is usually the case for real websites!</small>"
   ]
  },
  {
   "cell_type": "markdown",
   "id": "6038dfd2",
   "metadata": {
    "deletable": true,
    "editable": true,
    "slideshow": {
     "slide_type": "slide"
    }
   },
   "source": [
    "### Identifying `<div>`s"
   ]
  },
  {
   "cell_type": "markdown",
   "id": "0cdd0994",
   "metadata": {
    "deletable": true,
    "editable": true,
    "slideshow": {
     "slide_type": "fragment"
    }
   },
   "source": [
    "- It's not easy identifying which `<div>`s we want. The Inspect tool makes this easier, but it's good to verify that `find_all` is finding the right number of elements."
   ]
  },
  {
   "cell_type": "code",
   "execution_count": null,
   "id": "65957651",
   "metadata": {
    "deletable": true,
    "editable": true,
    "slideshow": {
     "slide_type": "-"
    }
   },
   "outputs": [],
   "source": [
    "divs = soup.find_all(class_='col-xs-12') "
   ]
  },
  {
   "cell_type": "code",
   "execution_count": null,
   "id": "31f4822a",
   "metadata": {
    "deletable": true,
    "editable": true
   },
   "outputs": [],
   "source": [
    "len(divs)"
   ]
  },
  {
   "cell_type": "markdown",
   "id": "7c28b431",
   "metadata": {
    "deletable": true,
    "editable": true,
    "slideshow": {
     "slide_type": "fragment"
    }
   },
   "source": [
    "- Again, let's deal with one `<div>` at a time. First, we should extract the title of the event."
   ]
  },
  {
   "cell_type": "code",
   "execution_count": null,
   "id": "d8f6aa3d",
   "metadata": {
    "deletable": true,
    "editable": true
   },
   "outputs": [],
   "source": [
    "divs[0]"
   ]
  },
  {
   "cell_type": "code",
   "execution_count": null,
   "id": "02e1e8ad",
   "metadata": {
    "deletable": true,
    "editable": true
   },
   "outputs": [],
   "source": [
    "divs[0].find('div', class_='event-title').find('a').get('title') "
   ]
  },
  {
   "cell_type": "markdown",
   "id": "319b6c24",
   "metadata": {
    "deletable": true,
    "editable": true,
    "slideshow": {
     "slide_type": "fragment"
    }
   },
   "source": [
    "- The time and location, too."
   ]
  },
  {
   "cell_type": "code",
   "execution_count": null,
   "id": "72c3ee26",
   "metadata": {
    "deletable": true,
    "editable": true
   },
   "outputs": [],
   "source": [
    "divs[0].find('time').get('datetime') "
   ]
  },
  {
   "cell_type": "code",
   "execution_count": null,
   "id": "7917785d",
   "metadata": {
    "deletable": true,
    "editable": true
   },
   "outputs": [],
   "source": [
    "divs[0].find('ul').find('a').get('title') "
   ]
  },
  {
   "cell_type": "markdown",
   "id": "09c9223c",
   "metadata": {
    "deletable": true,
    "editable": true,
    "slideshow": {
     "slide_type": "slide"
    }
   },
   "source": [
    "### Parsing a single event, and then every event"
   ]
  },
  {
   "cell_type": "markdown",
   "id": "3d59c18d",
   "metadata": {
    "deletable": true,
    "editable": true,
    "slideshow": {
     "slide_type": "fragment"
    }
   },
   "source": [
    "- As before, we'll implement a function that takes in a BeautifulSoup object corresponding to a single `<div>` and returns a dictionary with the relevant information about that event."
   ]
  },
  {
   "cell_type": "code",
   "execution_count": null,
   "id": "13e5426e",
   "metadata": {
    "deletable": true,
    "editable": true
   },
   "outputs": [],
   "source": [
    "def process_event(div):\n",
    "    title = div.find('div', class_='event-title').find('a').get('title')\n",
    "    location = div.find('ul').find('a').get('title')\n",
    "    time = pd.to_datetime(div.find('time').get('datetime')) # Good idea!\n",
    "    return {'title': title, 'time': time, 'location': location}"
   ]
  },
  {
   "cell_type": "code",
   "execution_count": null,
   "id": "5cff1e3f",
   "metadata": {
    "deletable": true,
    "editable": true
   },
   "outputs": [],
   "source": [
    "process_event(divs[12])"
   ]
  },
  {
   "cell_type": "markdown",
   "id": "c11d6599",
   "metadata": {
    "deletable": true,
    "editable": true,
    "slideshow": {
     "slide_type": "fragment"
    }
   },
   "source": [
    "- Now, we can call it on every `<div>` in `divs`.<br><small>Remember, we already ran `divs = soup.find_all(class_='col-xs-12')`.</small>"
   ]
  },
  {
   "cell_type": "code",
   "execution_count": null,
   "id": "9f7a3a31",
   "metadata": {
    "deletable": true,
    "editable": true
   },
   "outputs": [],
   "source": [
    "row_list = []\n",
    "for div in divs:\n",
    "    try:\n",
    "        row_list.append(process_event(div))\n",
    "    except Exception as e:\n",
    "        print(e)"
   ]
  },
  {
   "cell_type": "code",
   "execution_count": null,
   "id": "7cabdd34",
   "metadata": {
    "deletable": true,
    "editable": true
   },
   "outputs": [],
   "source": [
    "events = pd.DataFrame(row_list) \n",
    "events.head()"
   ]
  },
  {
   "cell_type": "markdown",
   "id": "a1cdbc3a",
   "metadata": {
    "deletable": true,
    "editable": true,
    "slideshow": {
     "slide_type": "fragment"
    }
   },
   "source": [
    "- Now, `events` is a DataFrame, like any other!"
   ]
  },
  {
   "cell_type": "code",
   "execution_count": null,
   "id": "666c659f",
   "metadata": {
    "deletable": true,
    "editable": true
   },
   "outputs": [],
   "source": [
    "# Which events are in-person today?\n",
    "events[~events['location'].isin(['Virtual', ''])] "
   ]
  },
  {
   "cell_type": "markdown",
   "id": "f30ca8e5",
   "metadata": {
    "deletable": true,
    "editable": true,
    "slideshow": {
     "slide_type": "slide"
    }
   },
   "source": [
    "### Web data in practice"
   ]
  },
  {
   "cell_type": "markdown",
   "id": "7eff1a69",
   "metadata": {
    "deletable": true,
    "editable": true,
    "slideshow": {
     "slide_type": "fragment"
    }
   },
   "source": [
    "- [The spread of true and false news online](https://www.science.org/doi/full/10.1126/science.aap9559) by Vosoughi et al. compared how true and false news spreads via X (Twitter):\n",
    "\n",
    "> There is worldwide concern over false news and the possibility that it can influence political, economic, and social well-being. To understand how false news spreads, Vosoughi et al. used a data set of rumor cascades on Twitter from 2006 to 2017. About 126,000 rumors were spread by ∼3 million people. False news reached more people than the truth; the top 1% of false news cascades diffused to between 1000 and 100,000 people, whereas the truth rarely diffused to more than 1000 people. Falsehood also diffused faster than the truth. The degree of novelty and the emotional reactions of recipients may be responsible for the differences observed."
   ]
  },
  {
   "cell_type": "markdown",
   "id": "4955d665",
   "metadata": {
    "deletable": true,
    "editable": true,
    "slideshow": {
     "slide_type": "fragment"
    }
   },
   "source": [
    "- To conduct this study, the authors used the X API for accessing tweets and web-scraped fact-checking websites to verify whether news was false or not."
   ]
  },
  {
   "cell_type": "markdown",
   "id": "05455c52",
   "metadata": {
    "deletable": true,
    "editable": true,
    "slideshow": {
     "slide_type": "slide"
    }
   },
   "source": [
    "### Summary, next time"
   ]
  },
  {
   "cell_type": "markdown",
   "id": "0d3a6c53",
   "metadata": {
    "deletable": true,
    "editable": true,
    "slideshow": {
     "slide_type": "fragment"
    }
   },
   "source": [
    "- Beautiful Soup is an HTML parser that allows us to (somewhat) easily extract information from HTML documents.\n",
    "    - `soup.find` and `soup.find_all` are the methods you will use most often."
   ]
  },
  {
   "cell_type": "markdown",
   "id": "9fcb73e0",
   "metadata": {
    "deletable": true,
    "editable": true,
    "slideshow": {
     "slide_type": "fragment"
    }
   },
   "source": [
    "- When writing scraping code:\n",
    "    - Use \"inspect element\" to identify the names of tags and attributes that are relevant to the information you want to extract.\n",
    "    - Separate your logic for making requests and for parsing."
   ]
  },
  {
   "cell_type": "markdown",
   "id": "26b1e78f",
   "metadata": {
    "deletable": true,
    "editable": true,
    "slideshow": {
     "slide_type": "fragment"
    }
   },
   "source": [
    "- **Next time**: Accessing data (and other services) through APIs."
   ]
  }
 ],
 "metadata": {
  "celltoolbar": "None",
  "kernelspec": {
   "display_name": "Python 3 (ipykernel)",
   "language": "python",
   "name": "python3"
  },
  "language_info": {
   "codemirror_mode": {
    "name": "ipython",
    "version": 3
   },
   "file_extension": ".py",
   "mimetype": "text/x-python",
   "name": "python",
   "nbconvert_exporter": "python",
   "pygments_lexer": "ipython3",
   "version": "3.10.14"
  },
  "livereveal": {
   "scroll": true
  },
  "rise": {
   "transition": "none"
  }
 },
 "nbformat": 4,
 "nbformat_minor": 5
}
