{
 "cells": [
  {
   "cell_type": "code",
   "execution_count": null,
   "id": "1639cdb7",
   "metadata": {
    "deletable": true,
    "editable": true,
    "slideshow": {
     "slide_type": "skip"
    },
    "tags": []
   },
   "outputs": [],
   "source": [
    "from lec_utils import *\n",
    "# For illustration purposes only.\n",
    "def err():\n",
    "    raise ValueError('😭😭😭 I just deleted all of your files! 😭😭😭')"
   ]
  },
  {
   "cell_type": "markdown",
   "id": "029068b0",
   "metadata": {
    "deletable": true,
    "editable": true,
    "slideshow": {
     "slide_type": "slide"
    },
    "tags": []
   },
   "source": [
    "<div class=\"alert alert-info\" markdown=\"1\">\n",
    "\n",
    "#### Lecture 10\n",
    "\n",
    "# APIs, SQL, and Spreadsheets\n",
    "\n",
    "### EECS 398-003: Practical Data Science, Fall 2024\n",
    "\n",
    "<small><a style=\"text-decoration: none\" href=\"https://practicaldsc.org\">practicaldsc.org</a> • <a style=\"text-decoration: none\" href=\"https://github.com/practicaldsc/fa24\">github.com/practicaldsc/fa24</a></small>\n",
    "    \n",
    "</div>"
   ]
  },
  {
   "cell_type": "markdown",
   "id": "accb1cac",
   "metadata": {
    "deletable": true,
    "editable": true,
    "slideshow": {
     "slide_type": "slide"
    }
   },
   "source": [
    "### Announcements 📣\n",
    "\n",
    "- Homework 4 is due **tonight**. Watch [**this video**](https://www.loom.com/share/58287a89121545fdbd0131d22c2d9c94?sid=d1aff353-d54c-4d9e-b55b-7b5015f683a8) before submitting!<br><small>TL;DR: Make sure `hw04.ipynb` is smaller than 1 MB before submitting.</small>\n",
    "- The Midterm Exam is in a few weeks – start working through old exam problems [**here**](https://study.practicaldsc.org/).<br><small>You can even see an example old exam PDF.</small>\n",
    "- Looking for sources of data, or other supplemental resources? Look at our updated [**Resources**](https://practicaldsc.org/resources) page!"
   ]
  },
  {
   "cell_type": "markdown",
   "id": "6df9b967",
   "metadata": {
    "deletable": true,
    "editable": true,
    "slideshow": {
     "slide_type": "slide"
    }
   },
   "source": [
    "### Agenda\n",
    "\n",
    "- Example: Scraping the Happening @ Michigan page.\n",
    "- APIs and JSON.\n",
    "- Generalized table manipulation.\n",
    "    - SQL.\n",
    "    - Google Sheets."
   ]
  },
  {
   "cell_type": "markdown",
   "id": "fac4b26d",
   "metadata": {
    "deletable": true,
    "editable": true,
    "slideshow": {
     "slide_type": "slide"
    }
   },
   "source": [
    "<div class=\"alert alert-success\" markdown=\"1\">\n",
    "    <h3>Activity</h3>\n",
    "    \n",
    "Consider the following HTML document, which represents a webpage containing the top few songs with the most streams on Spotify today in Canada.\n",
    "\n",
    "```html\n",
    "<head>\n",
    "    <title>3*Canada-2022-06-04</title>\n",
    "</head>\n",
    "<body>\n",
    "    <h1>Spotify Top 3 - Canada</h1>\n",
    "    <table>\n",
    "        <tr class='heading'>\n",
    "            <th>Rank</th>\n",
    "            <th>Artist(s)</th> \n",
    "            <th>Song</th>\n",
    "        </tr>\n",
    "        <tr class=1>\n",
    "            <td>1</td>\n",
    "            <td>Harry Styles</td> \n",
    "            <td>As It Was</td>\n",
    "        </tr>\n",
    "        <tr class=2>\n",
    "            <td>2</td>\n",
    "            <td>Jack Harlow</td> \n",
    "            <td>First Class</td>\n",
    "        </tr>\n",
    "        <tr class=3>\n",
    "            <td>3</td>\n",
    "            <td>Kendrick Lamar</td> \n",
    "            <td>N95</td>\n",
    "        </tr>\n",
    "    </table>\n",
    "</body>\n",
    "```"
   ]
  },
  {
   "cell_type": "markdown",
   "id": "38a07861",
   "metadata": {
    "deletable": true,
    "editable": true
   },
   "source": [
    "- **Part 1**: How many leaf nodes are there in the DOM tree of the previous document — that is, how many nodes have no children?"
   ]
  },
  {
   "cell_type": "markdown",
   "id": "29ae2362",
   "metadata": {
    "deletable": true,
    "editable": true
   },
   "source": [
    "- **Part 2**: What does the following line of code evaluate to?\n",
    "\n",
    "```python\n",
    "        len(soup.find_all(\"td\"))\n",
    "```"
   ]
  },
  {
   "cell_type": "markdown",
   "id": "7c425c48",
   "metadata": {
    "deletable": true,
    "editable": true
   },
   "source": [
    "- **Part 3**: What does the following line of code evaluate to?\n",
    "\n",
    "```python\n",
    "        soup.find(\"tr\").get(\"class\")\n",
    "```"
   ]
  },
  {
   "cell_type": "markdown",
   "id": "e5fc432b",
   "metadata": {
    "deletable": true,
    "editable": true,
    "slideshow": {
     "slide_type": "slide"
    }
   },
   "source": [
    "## Example: Scraping the Happening @ Michigan page\n",
    "\n",
    "---"
   ]
  },
  {
   "cell_type": "markdown",
   "id": "ccd849c8",
   "metadata": {
    "deletable": true,
    "editable": true,
    "slideshow": {
     "slide_type": "slide"
    }
   },
   "source": [
    "### Example: Scraping the Happening @ Michigan page"
   ]
  },
  {
   "cell_type": "markdown",
   "id": "0da3d71b",
   "metadata": {
    "deletable": true,
    "editable": true,
    "slideshow": {
     "slide_type": "fragment"
    }
   },
   "source": [
    "- Our goal is to create a DataFrame with the information about each event at [events.umich.edu](https://events.umich.edu).\n",
    "\n",
    "<center><img src=\"imgs/events.png\" width=800><small>Today's event page will look different, since I wrote this part of the lecture a few days ago!</small></center>"
   ]
  },
  {
   "cell_type": "code",
   "execution_count": null,
   "id": "9a204e6d",
   "metadata": {
    "deletable": true,
    "editable": true
   },
   "outputs": [],
   "source": [
    "import requests\n",
    "from bs4 import BeautifulSoup"
   ]
  },
  {
   "cell_type": "code",
   "execution_count": null,
   "id": "d2b883e8",
   "metadata": {
    "deletable": true,
    "editable": true
   },
   "outputs": [],
   "source": [
    "res = requests.get('https://events.umich.edu') \n",
    "res"
   ]
  },
  {
   "cell_type": "code",
   "execution_count": null,
   "id": "60e0ca8c",
   "metadata": {
    "deletable": true,
    "editable": true
   },
   "outputs": [],
   "source": [
    "soup = BeautifulSoup(res.text)"
   ]
  },
  {
   "cell_type": "markdown",
   "id": "ad2a8a19",
   "metadata": {
    "deletable": true,
    "editable": true,
    "slideshow": {
     "slide_type": "fragment"
    }
   },
   "source": [
    "- Let's start by opening the page in Chrome, right clicking on the page, and clicking \"Inspect\".<br><small>As we can see, the HTML is much more complicated this time – this is usually the case for real websites!</small>"
   ]
  },
  {
   "cell_type": "markdown",
   "id": "d4ba9a72",
   "metadata": {
    "deletable": true,
    "editable": true,
    "slideshow": {
     "slide_type": "slide"
    }
   },
   "source": [
    "### Identifying `<div>`s"
   ]
  },
  {
   "cell_type": "markdown",
   "id": "66eb095c",
   "metadata": {
    "deletable": true,
    "editable": true,
    "slideshow": {
     "slide_type": "fragment"
    }
   },
   "source": [
    "- It's not easy identifying which `<div>`s we want. The Inspect tool makes this easier, but it's good to verify that `find_all` is finding the right number of elements."
   ]
  },
  {
   "cell_type": "code",
   "execution_count": null,
   "id": "662d88c5",
   "metadata": {
    "deletable": true,
    "editable": true,
    "slideshow": {
     "slide_type": "-"
    }
   },
   "outputs": [],
   "source": [
    "divs = soup.find_all(class_='col-xs-12') "
   ]
  },
  {
   "cell_type": "code",
   "execution_count": null,
   "id": "7a07f7d1",
   "metadata": {
    "deletable": true,
    "editable": true
   },
   "outputs": [],
   "source": [
    "len(divs)"
   ]
  },
  {
   "cell_type": "markdown",
   "id": "f79a25d5",
   "metadata": {
    "deletable": true,
    "editable": true,
    "slideshow": {
     "slide_type": "fragment"
    }
   },
   "source": [
    "- Again, let's deal with one `<div>` at a time. First, we should extract the title of the event."
   ]
  },
  {
   "cell_type": "code",
   "execution_count": null,
   "id": "0071e421",
   "metadata": {
    "deletable": true,
    "editable": true
   },
   "outputs": [],
   "source": [
    "divs[0]"
   ]
  },
  {
   "cell_type": "code",
   "execution_count": null,
   "id": "71ba0eb0",
   "metadata": {
    "deletable": true,
    "editable": true
   },
   "outputs": [],
   "source": [
    "divs[0].find('div', class_='event-title').find('a').get('title') "
   ]
  },
  {
   "cell_type": "markdown",
   "id": "2d33dccc",
   "metadata": {
    "deletable": true,
    "editable": true,
    "slideshow": {
     "slide_type": "fragment"
    }
   },
   "source": [
    "- The time and location, too."
   ]
  },
  {
   "cell_type": "code",
   "execution_count": null,
   "id": "9f562f25",
   "metadata": {
    "deletable": true,
    "editable": true
   },
   "outputs": [],
   "source": [
    "divs[0].find('time').get('datetime') "
   ]
  },
  {
   "cell_type": "code",
   "execution_count": null,
   "id": "0624dff0",
   "metadata": {
    "deletable": true,
    "editable": true
   },
   "outputs": [],
   "source": [
    "divs[0].find('ul').find('a').get('title') "
   ]
  },
  {
   "cell_type": "markdown",
   "id": "b42b5487",
   "metadata": {
    "deletable": true,
    "editable": true,
    "slideshow": {
     "slide_type": "slide"
    }
   },
   "source": [
    "### Parsing a single event, and then every event"
   ]
  },
  {
   "cell_type": "markdown",
   "id": "e18f7d5f",
   "metadata": {
    "deletable": true,
    "editable": true,
    "slideshow": {
     "slide_type": "fragment"
    }
   },
   "source": [
    "- As before, we'll implement a function that takes in a BeautifulSoup object corresponding to a single `<div>` and returns a dictionary with the relevant information about that event."
   ]
  },
  {
   "cell_type": "code",
   "execution_count": null,
   "id": "9ac96816",
   "metadata": {
    "deletable": true,
    "editable": true
   },
   "outputs": [],
   "source": [
    "def process_event(div):\n",
    "    title = div.find('div', class_='event-title').find('a').get('title')\n",
    "    location = div.find('ul').find('a').get('title')\n",
    "    time = pd.to_datetime(div.find('time').get('datetime')) # Good idea!\n",
    "    return {'title': title, 'time': time, 'location': location}"
   ]
  },
  {
   "cell_type": "code",
   "execution_count": null,
   "id": "27e7bdd1",
   "metadata": {
    "deletable": true,
    "editable": true
   },
   "outputs": [],
   "source": [
    "process_event(divs[12])"
   ]
  },
  {
   "cell_type": "markdown",
   "id": "91dc5dff",
   "metadata": {
    "deletable": true,
    "editable": true,
    "slideshow": {
     "slide_type": "fragment"
    }
   },
   "source": [
    "- Now, we can call it on every `<div>` in `divs`.<br><small>Remember, we already ran `divs = soup.find_all(class_='col-xs-12')`.</small>"
   ]
  },
  {
   "cell_type": "code",
   "execution_count": null,
   "id": "5a49aa9b",
   "metadata": {
    "deletable": true,
    "editable": true
   },
   "outputs": [],
   "source": [
    "row_list = []\n",
    "for div in divs:\n",
    "    try:\n",
    "        row_list.append(process_event(div))\n",
    "    except Exception as e:\n",
    "        print(e)"
   ]
  },
  {
   "cell_type": "code",
   "execution_count": null,
   "id": "0bc4e6fb",
   "metadata": {
    "deletable": true,
    "editable": true
   },
   "outputs": [],
   "source": [
    "events = pd.DataFrame(row_list) \n",
    "events.head()"
   ]
  },
  {
   "cell_type": "markdown",
   "id": "487364c9",
   "metadata": {
    "deletable": true,
    "editable": true,
    "slideshow": {
     "slide_type": "fragment"
    }
   },
   "source": [
    "- Now, `events` is a DataFrame, like any other!"
   ]
  },
  {
   "cell_type": "code",
   "execution_count": null,
   "id": "41b2b008",
   "metadata": {
    "deletable": true,
    "editable": true
   },
   "outputs": [],
   "source": [
    "# Which events are in-person today?\n",
    "events[~events['location'].isin(['Virtual', ''])] "
   ]
  },
  {
   "cell_type": "markdown",
   "id": "38fa0e93",
   "metadata": {
    "deletable": true,
    "editable": true,
    "slideshow": {
     "slide_type": "slide"
    }
   },
   "source": [
    "### Web data in practice"
   ]
  },
  {
   "cell_type": "markdown",
   "id": "5aed4d53",
   "metadata": {
    "deletable": true,
    "editable": true,
    "slideshow": {
     "slide_type": "fragment"
    }
   },
   "source": [
    "- [The spread of true and false news online](https://www.science.org/doi/full/10.1126/science.aap9559) by Vosoughi et al. compared how true and false news spreads via X (Twitter):\n",
    "\n",
    "> There is worldwide concern over false news and the possibility that it can influence political, economic, and social well-being. To understand how false news spreads, Vosoughi et al. used a data set of rumor cascades on Twitter from 2006 to 2017. About 126,000 rumors were spread by ∼3 million people. False news reached more people than the truth; the top 1% of false news cascades diffused to between 1000 and 100,000 people, whereas the truth rarely diffused to more than 1000 people. Falsehood also diffused faster than the truth. The degree of novelty and the emotional reactions of recipients may be responsible for the differences observed."
   ]
  },
  {
   "cell_type": "markdown",
   "id": "070666aa",
   "metadata": {
    "deletable": true,
    "editable": true,
    "slideshow": {
     "slide_type": "fragment"
    }
   },
   "source": [
    "- To conduct this study, the authors used the X API for accessing tweets and web-scraped fact-checking websites to verify whether news was false or not."
   ]
  },
  {
   "cell_type": "markdown",
   "id": "d0e26b16",
   "metadata": {
    "deletable": true,
    "editable": true,
    "slideshow": {
     "slide_type": "slide"
    }
   },
   "source": [
    "## APIs and JSON\n",
    "\n",
    "---"
   ]
  },
  {
   "cell_type": "markdown",
   "id": "c4890af9",
   "metadata": {
    "deletable": true,
    "editable": true,
    "slideshow": {
     "slide_type": "slide"
    }
   },
   "source": [
    "### Recap: Scraping vs. APIs"
   ]
  },
  {
   "cell_type": "markdown",
   "id": "067e3b86",
   "metadata": {
    "deletable": true,
    "editable": true,
    "slideshow": {
     "slide_type": "fragment"
    }
   },
   "source": [
    "- There are two ways to programmatically access data on the internet: either **by scraping**, or **through an API**."
   ]
  },
  {
   "cell_type": "markdown",
   "id": "3fbb6f26",
   "metadata": {
    "deletable": true,
    "editable": true,
    "slideshow": {
     "slide_type": "fragment"
    }
   },
   "source": [
    "- **Scraping** is the act of emulating a web browser to access its HTML source code.<br><small>When scraping, you get back data as HTML and have to **parse** that HTML to extract the information you want. Parse means to \"extract meaning from a sequence of symbols\"."
   ]
  },
  {
   "cell_type": "markdown",
   "id": "b4470303",
   "metadata": {
    "deletable": true,
    "editable": true,
    "slideshow": {
     "slide_type": "fragment"
    }
   },
   "source": [
    "- An application programming interface, or **API**, is a service that makes data directly available to the user in a **convenient** fashion. Usually, APIs give us code back as JSON objects.<br><small>APIs are made by organizations that host data. For example, X (formally known as Twitter) has an [API](https://developer.twitter.com/en/docs/twitter-api), as does [OpenAI](https://platform.openai.com/docs/overview?lang=python), the creators of ChatGPT.</small>"
   ]
  },
  {
   "cell_type": "markdown",
   "id": "375ecaa7",
   "metadata": {
    "deletable": true,
    "editable": true,
    "slideshow": {
     "slide_type": "fragment"
    }
   },
   "source": [
    "- To understand how to use an API, we must learn how to work with JSON objects."
   ]
  },
  {
   "cell_type": "markdown",
   "id": "75e19fac",
   "metadata": {
    "deletable": true,
    "editable": true,
    "slideshow": {
     "slide_type": "slide"
    }
   },
   "source": [
    "<center><img src='imgs/json.png' width=50%></center>"
   ]
  },
  {
   "cell_type": "markdown",
   "id": "cd39dd13",
   "metadata": {
    "deletable": true,
    "editable": true,
    "slideshow": {
     "slide_type": "slide"
    }
   },
   "source": [
    "### JSON"
   ]
  },
  {
   "cell_type": "markdown",
   "id": "7fe2f116",
   "metadata": {
    "deletable": true,
    "editable": true,
    "slideshow": {
     "slide_type": "fragment"
    }
   },
   "source": [
    "- JSON stands for **JavaScript Object Notation**. It is a lightweight format for storing and transferring data."
   ]
  },
  {
   "cell_type": "markdown",
   "id": "99ea01d4",
   "metadata": {
    "deletable": true,
    "editable": true,
    "slideshow": {
     "slide_type": "fragment"
    }
   },
   "source": [
    "- It is:\n",
    "    - very easy for computers to read and write.\n",
    "    - moderately easy for programmers to read and write by hand.\n",
    "    - meant to be generated and parsed."
   ]
  },
  {
   "cell_type": "markdown",
   "id": "fd928117",
   "metadata": {
    "deletable": true,
    "editable": true,
    "slideshow": {
     "slide_type": "fragment"
    }
   },
   "source": [
    "- Most modern languages have an interface for working with JSON objects.<br><small>JSON objects _resemble_ Python dictionaries (but are not the same!).</small>"
   ]
  },
  {
   "cell_type": "markdown",
   "id": "ded7a843",
   "metadata": {
    "deletable": true,
    "editable": true,
    "slideshow": {
     "slide_type": "slide"
    }
   },
   "source": [
    "### JSON data types\n",
    "\n",
    "| Type | Description |\n",
    "| --- | --- |\n",
    "| String | Anything inside double quotes. |\n",
    "| Number | Any number (no difference between ints and floats). |\n",
    "| Boolean | `true` and `false`. |\n",
    "| Null | JSON's empty value, denoted by `null`. |\n",
    "| Array | Like Python lists. |\n",
    "| Object | A collection of key-value pairs, like dictionaries. Keys must be strings, values can be anything (even other objects). |\n",
    "\n",
    "See [json-schema.org](https://json-schema.org/understanding-json-schema/reference/type.html) for more details."
   ]
  },
  {
   "cell_type": "markdown",
   "id": "79a54053",
   "metadata": {
    "deletable": true,
    "editable": true,
    "slideshow": {
     "slide_type": "slide"
    }
   },
   "source": [
    "### Example JSON object\n",
    "\n",
    "See `data/family.json`.\n",
    "\n",
    "<center><img src='imgs/hierarchy.png' width=50%></center>"
   ]
  },
  {
   "cell_type": "code",
   "execution_count": null,
   "id": "eb5c251f",
   "metadata": {
    "deletable": true,
    "editable": true
   },
   "outputs": [],
   "source": [
    "!cat data/family.json"
   ]
  },
  {
   "cell_type": "code",
   "execution_count": null,
   "id": "f07cd9b6",
   "metadata": {
    "deletable": true,
    "editable": true
   },
   "outputs": [],
   "source": [
    "import json\n",
    "with open('data/family.json', 'r') as f:\n",
    "    family_str = f.read()\n",
    "    family_tree = json.loads(family_str)"
   ]
  },
  {
   "cell_type": "code",
   "execution_count": null,
   "id": "ba7ead13",
   "metadata": {
    "deletable": true,
    "editable": true
   },
   "outputs": [],
   "source": [
    "family_tree"
   ]
  },
  {
   "cell_type": "code",
   "execution_count": null,
   "id": "8470bcf9",
   "metadata": {
    "deletable": true,
    "editable": true
   },
   "outputs": [],
   "source": [
    "family_tree['children'][1]['children'][0]['age'] "
   ]
  },
  {
   "cell_type": "markdown",
   "id": "adb4d4a0",
   "metadata": {
    "deletable": true,
    "editable": true,
    "slideshow": {
     "slide_type": "skip"
    }
   },
   "source": [
    "<div class=\"alert alert-danger\" markdown=\"1\">\n",
    "\n",
    "#### Reference Slide\n",
    "\n",
    "### Aside: `eval`"
   ]
  },
  {
   "cell_type": "markdown",
   "id": "57a7c51e",
   "metadata": {
    "deletable": true,
    "editable": true,
    "slideshow": {
     "slide_type": "skip"
    }
   },
   "source": [
    "- `eval`, which stands for \"evaluate\", is a function built into Python."
   ]
  },
  {
   "cell_type": "markdown",
   "id": "143e248d",
   "metadata": {
    "deletable": true,
    "editable": true,
    "slideshow": {
     "slide_type": "skip"
    }
   },
   "source": [
    "- It takes in a **string containing a Python expression** and evaluates it in the current context."
   ]
  },
  {
   "cell_type": "code",
   "execution_count": null,
   "id": "4c83df71",
   "metadata": {
    "deletable": true,
    "editable": true,
    "slideshow": {
     "slide_type": "skip"
    }
   },
   "outputs": [],
   "source": [
    "x = 4\n",
    "eval('x + 5')"
   ]
  },
  {
   "cell_type": "markdown",
   "id": "027ca3dc",
   "metadata": {
    "deletable": true,
    "editable": true,
    "slideshow": {
     "slide_type": "skip"
    }
   },
   "source": [
    "- It seems like `eval` can do the same thing that `json.loads` does..."
   ]
  },
  {
   "cell_type": "code",
   "execution_count": null,
   "id": "0b4eed0c",
   "metadata": {
    "deletable": true,
    "editable": true,
    "slideshow": {
     "slide_type": "skip"
    }
   },
   "outputs": [],
   "source": [
    "eval(family_str)"
   ]
  },
  {
   "cell_type": "markdown",
   "id": "2cb5fd55",
   "metadata": {
    "deletable": true,
    "editable": true,
    "slideshow": {
     "slide_type": "skip"
    }
   },
   "source": [
    "- But you should **almost never use `eval`**."
   ]
  },
  {
   "cell_type": "code",
   "execution_count": null,
   "id": "e243a08c",
   "metadata": {
    "deletable": true,
    "editable": true,
    "scrolled": true,
    "slideshow": {
     "slide_type": "skip"
    },
    "tags": [
     "raises-exception"
    ]
   },
   "outputs": [],
   "source": [
    "with open('data/evil_family.json', 'r') as f:\n",
    "    evil_family_str = f.read()\n",
    "eval(evil_family_str)"
   ]
  },
  {
   "cell_type": "markdown",
   "id": "349928d5",
   "metadata": {
    "deletable": true,
    "editable": true,
    "slideshow": {
     "slide_type": "skip"
    }
   },
   "source": [
    "- Oh no! Since `evil_family.json`, which could have been downloaded from the internet, contained malicious code, we now lost all of our files."
   ]
  },
  {
   "cell_type": "markdown",
   "id": "62278278",
   "metadata": {
    "deletable": true,
    "editable": true,
    "slideshow": {
     "slide_type": "skip"
    }
   },
   "source": [
    "- This happened because `eval` **evaluates** all parts of the input string as if it were Python code."
   ]
  },
  {
   "cell_type": "markdown",
   "id": "c1cddd6b",
   "metadata": {
    "deletable": true,
    "editable": true,
    "slideshow": {
     "slide_type": "skip"
    }
   },
   "source": [
    "- You never need to do this – instead, use the `.json()` method of a response object, or use the `json` library."
   ]
  },
  {
   "cell_type": "markdown",
   "id": "fa781b91",
   "metadata": {
    "deletable": true,
    "editable": true,
    "slideshow": {
     "slide_type": "skip"
    }
   },
   "source": [
    "<div class=\"alert alert-danger\" markdown=\"1\">\n",
    "\n",
    "#### Reference Slide\n",
    "\n",
    "### Using the `json` module"
   ]
  },
  {
   "cell_type": "markdown",
   "id": "1a38a792",
   "metadata": {
    "deletable": true,
    "editable": true,
    "slideshow": {
     "slide_type": "skip"
    }
   },
   "source": [
    "- `json.load(f)` loads a JSON file from a file object."
   ]
  },
  {
   "cell_type": "markdown",
   "id": "81cc1f38",
   "metadata": {
    "deletable": true,
    "editable": true,
    "slideshow": {
     "slide_type": "skip"
    }
   },
   "source": [
    "- `json.loads(f)` loads a JSON file from a **s**tring."
   ]
  },
  {
   "cell_type": "code",
   "execution_count": null,
   "id": "0abfb72d",
   "metadata": {
    "deletable": true,
    "editable": true,
    "slideshow": {
     "slide_type": "skip"
    },
    "tags": [
     "raises-exception"
    ]
   },
   "outputs": [],
   "source": [
    "json.loads(evil_family_str)"
   ]
  },
  {
   "cell_type": "markdown",
   "id": "680d93a4",
   "metadata": {
    "deletable": true,
    "editable": true,
    "slideshow": {
     "slide_type": "skip"
    }
   },
   "source": [
    "- Since `util.err()` is not a string in JSON (there are no quotes around it), `json.loads` is not able to parse it as a JSON object."
   ]
  },
  {
   "cell_type": "markdown",
   "id": "49e9a00c",
   "metadata": {
    "deletable": true,
    "editable": true,
    "slideshow": {
     "slide_type": "skip"
    }
   },
   "source": [
    "- This \"safety check\" is intentional."
   ]
  },
  {
   "cell_type": "markdown",
   "id": "07a797d2",
   "metadata": {
    "deletable": true,
    "editable": true,
    "slideshow": {
     "slide_type": "skip"
    }
   },
   "source": [
    "<div class=\"alert alert-danger\" markdown=\"1\">\n",
    "\n",
    "#### Reference Slide\n",
    "\n",
    "### Key takeaways"
   ]
  },
  {
   "cell_type": "markdown",
   "id": "8d6691b7",
   "metadata": {
    "deletable": true,
    "editable": true,
    "slideshow": {
     "slide_type": "skip"
    }
   },
   "source": [
    "- Never trust data from an unfamiliar site."
   ]
  },
  {
   "cell_type": "markdown",
   "id": "6887ded4",
   "metadata": {
    "deletable": true,
    "editable": true,
    "slideshow": {
     "slide_type": "skip"
    }
   },
   "source": [
    "- **Never** use `eval` on \"raw\" data that you didn't create!"
   ]
  },
  {
   "cell_type": "markdown",
   "id": "7aaf2456",
   "metadata": {
    "deletable": true,
    "editable": true,
    "slideshow": {
     "slide_type": "skip"
    }
   },
   "source": [
    "- The JSON data format needs to be **parsed**, not evaluated as a dictionary. It was designed with safety in mind!"
   ]
  },
  {
   "cell_type": "markdown",
   "id": "1ef3f983",
   "metadata": {
    "deletable": true,
    "editable": true,
    "slideshow": {
     "slide_type": "slide"
    }
   },
   "source": [
    "### Aside: `pd.read_json`"
   ]
  },
  {
   "cell_type": "markdown",
   "id": "33358bba",
   "metadata": {
    "deletable": true,
    "editable": true,
    "slideshow": {
     "slide_type": "fragment"
    }
   },
   "source": [
    "- `pandas` also has a built-in `read_json` function."
   ]
  },
  {
   "cell_type": "code",
   "execution_count": null,
   "id": "0346df6a",
   "metadata": {
    "deletable": true,
    "editable": true
   },
   "outputs": [],
   "source": [
    "with open('data/family.json', 'r') as f:\n",
    "    family_df = pd.read_json(f)\n",
    "family_df"
   ]
  },
  {
   "cell_type": "markdown",
   "id": "fc72fa2c",
   "metadata": {
    "deletable": true,
    "editable": true,
    "slideshow": {
     "slide_type": "fragment"
    }
   },
   "source": [
    "- It only makes sense to use it, though, when you have a JSON file that has some sort of tabular structure. Our family tree example does not."
   ]
  },
  {
   "cell_type": "markdown",
   "id": "023389b7",
   "metadata": {
    "deletable": true,
    "editable": true,
    "slideshow": {
     "slide_type": "slide"
    }
   },
   "source": [
    "### API terminology"
   ]
  },
  {
   "cell_type": "markdown",
   "id": "3bc1aaef",
   "metadata": {
    "deletable": true,
    "editable": true,
    "slideshow": {
     "slide_type": "fragment"
    }
   },
   "source": [
    "- A URL, or uniform resource locator, describes the location of a website or resource."
   ]
  },
  {
   "cell_type": "markdown",
   "id": "bd805f41",
   "metadata": {
    "deletable": true,
    "editable": true,
    "slideshow": {
     "slide_type": "fragment"
    }
   },
   "source": [
    "- API requests are just `GET`/`POST` requests to a specially maintained URL."
   ]
  },
  {
   "cell_type": "markdown",
   "id": "5cb746ec",
   "metadata": {
    "deletable": true,
    "editable": true,
    "slideshow": {
     "slide_type": "fragment"
    }
   },
   "source": [
    "- As an example, we'll look at the [Pokémon API](https://pokeapi.co)."
   ]
  },
  {
   "cell_type": "markdown",
   "id": "071fa265",
   "metadata": {
    "deletable": true,
    "editable": true,
    "slideshow": {
     "slide_type": "fragment"
    }
   },
   "source": [
    "- All requests are made to:\n",
    "\n",
    "```\n",
    "        https://pokeapi.co/api/v2/{endpoint}/{name}\n",
    "```"
   ]
  },
  {
   "cell_type": "markdown",
   "id": "5daea4ac",
   "metadata": {
    "deletable": true,
    "editable": true,
    "slideshow": {
     "slide_type": "fragment"
    }
   },
   "source": [
    "- For example, to learn about Pikachu, we use the `pokemon` **endpoint** with name `pikachu`.\n",
    "\n",
    "        https://pokeapi.co/api/v2/pokemon/pikachu"
   ]
  },
  {
   "cell_type": "markdown",
   "id": "ff9f4650",
   "metadata": {
    "deletable": true,
    "editable": true,
    "slideshow": {
     "slide_type": "fragment"
    }
   },
   "source": [
    "- Or, to learn about all water Pokemon, we use the `type` endpoint with name `water`.\n",
    "\n",
    "        https://pokeapi.co/api/v2/pokemon/pikachu"
   ]
  },
  {
   "cell_type": "markdown",
   "id": "a32bf725",
   "metadata": {
    "deletable": true,
    "editable": true,
    "slideshow": {
     "slide_type": "slide"
    }
   },
   "source": [
    "### API requests"
   ]
  },
  {
   "cell_type": "markdown",
   "id": "4ab0bbdc",
   "metadata": {
    "deletable": true,
    "editable": true,
    "slideshow": {
     "slide_type": "fragment"
    }
   },
   "source": [
    "- To illustrate, let's make a `GET` request to learn more about Pikachu."
   ]
  },
  {
   "cell_type": "code",
   "execution_count": null,
   "id": "e9927e91",
   "metadata": {
    "deletable": true,
    "editable": true
   },
   "outputs": [],
   "source": [
    "def request_pokemon(name):\n",
    "    url = f'https://pokeapi.co/api/v2/pokemon/{name}'\n",
    "    return requests.get(url)\n",
    "res = request_pokemon('pikachu')\n",
    "res"
   ]
  },
  {
   "cell_type": "markdown",
   "id": "9400dfdf",
   "metadata": {
    "deletable": true,
    "editable": true,
    "slideshow": {
     "slide_type": "fragment"
    }
   },
   "source": [
    "- Remember, the 200 status code is good! Let's take a look at the **content**:"
   ]
  },
  {
   "cell_type": "code",
   "execution_count": null,
   "id": "1006812b",
   "metadata": {
    "deletable": true,
    "editable": true
   },
   "outputs": [],
   "source": [
    "res.content[:1000]"
   ]
  },
  {
   "cell_type": "markdown",
   "id": "c2bb9266",
   "metadata": {
    "deletable": true,
    "editable": true,
    "slideshow": {
     "slide_type": "slide"
    }
   },
   "source": [
    "### Working with JSON objects"
   ]
  },
  {
   "cell_type": "markdown",
   "id": "02845a74",
   "metadata": {
    "deletable": true,
    "editable": true,
    "slideshow": {
     "slide_type": "fragment"
    }
   },
   "source": [
    "- The response we got back looks like JSON. We can extract the JSON from this request with the `json` method (or by passing `res.text` to `json.loads`)."
   ]
  },
  {
   "cell_type": "code",
   "execution_count": null,
   "id": "045128c1",
   "metadata": {
    "deletable": true,
    "editable": true
   },
   "outputs": [],
   "source": [
    "pikachu = res.json()\n",
    "pikachu"
   ]
  },
  {
   "cell_type": "code",
   "execution_count": null,
   "id": "ce4c60bb",
   "metadata": {
    "deletable": true,
    "editable": true
   },
   "outputs": [],
   "source": [
    "pikachu.keys()"
   ]
  },
  {
   "cell_type": "code",
   "execution_count": null,
   "id": "4425472f",
   "metadata": {
    "deletable": true,
    "editable": true
   },
   "outputs": [],
   "source": [
    "pikachu['weight']"
   ]
  },
  {
   "cell_type": "code",
   "execution_count": null,
   "id": "87041dda",
   "metadata": {
    "deletable": true,
    "editable": true
   },
   "outputs": [],
   "source": [
    "pikachu['abilities'][1]['ability']['name']"
   ]
  },
  {
   "cell_type": "markdown",
   "id": "2c91275a",
   "metadata": {
    "deletable": true,
    "editable": true,
    "slideshow": {
     "slide_type": "slide"
    }
   },
   "source": [
    "### Invalid `GET` requests"
   ]
  },
  {
   "cell_type": "markdown",
   "id": "321bbe99",
   "metadata": {
    "deletable": true,
    "editable": true,
    "slideshow": {
     "slide_type": "fragment"
    }
   },
   "source": [
    "- Let's try a `GET` request for `'wolverine'`."
   ]
  },
  {
   "cell_type": "code",
   "execution_count": null,
   "id": "96155caf",
   "metadata": {
    "deletable": true,
    "editable": true
   },
   "outputs": [],
   "source": [
    "request_pokemon('wolverine')"
   ]
  },
  {
   "cell_type": "markdown",
   "id": "a297a361",
   "metadata": {
    "deletable": true,
    "editable": true,
    "slideshow": {
     "slide_type": "fragment"
    }
   },
   "source": [
    "- We receive a 404 error, since there is no Pokemon named `'wolverine'`!"
   ]
  },
  {
   "cell_type": "markdown",
   "id": "aafd06fb",
   "metadata": {
    "deletable": true,
    "editable": true,
    "slideshow": {
     "slide_type": "slide"
    }
   },
   "source": [
    "### More on APIs"
   ]
  },
  {
   "cell_type": "markdown",
   "id": "f7654f7a",
   "metadata": {
    "deletable": true,
    "editable": true,
    "slideshow": {
     "slide_type": "fragment"
    }
   },
   "source": [
    "- We accessed the Pokémon API by making requests. But, some APIs exist as Python _wrappers_, which allow you to make requests by calling Python functions.<br><small>`request_pokemon` is essentially a wrapper for (a small part of) the Pokémon API.</small>"
   ]
  },
  {
   "cell_type": "markdown",
   "id": "abd357f8",
   "metadata": {
    "deletable": true,
    "editable": true,
    "slideshow": {
     "slide_type": "fragment"
    }
   },
   "source": [
    "- Some APIs will require you to create an API key, and send that key as part of your request.<br><small>See Homework 5 for an example!</small>"
   ]
  },
  {
   "cell_type": "markdown",
   "id": "c0378769",
   "metadata": {
    "deletable": true,
    "editable": true,
    "slideshow": {
     "slide_type": "fragment"
    }
   },
   "source": [
    "- Many of the APIs you'll use are \"REST\" APIs. Learn more about RESTful APIs [here](https://en.wikipedia.org/wiki/REST#Architectural_constraints).<br><small>REST stands for \"Representational State Transfer.\" One of the key properties of a RESTful API is that servers don't store any information about previous requests, or who is making them."
   ]
  },
  {
   "cell_type": "markdown",
   "id": "7325250c",
   "metadata": {
    "deletable": true,
    "editable": true,
    "slideshow": {
     "slide_type": "slide"
    }
   },
   "source": [
    "## Generalized table manipulation\n",
    "\n",
    "---"
   ]
  },
  {
   "cell_type": "markdown",
   "id": "ed749725",
   "metadata": {
    "deletable": true,
    "editable": true,
    "slideshow": {
     "slide_type": "slide"
    }
   },
   "source": [
    "### Representations of tabular data"
   ]
  },
  {
   "cell_type": "markdown",
   "id": "e2de7f18",
   "metadata": {
    "deletable": true,
    "editable": true,
    "slideshow": {
     "slide_type": "fragment"
    }
   },
   "source": [
    "- In this class, we've worked with DataFrames in `pandas`."
   ]
  },
  {
   "cell_type": "markdown",
   "id": "8ffdd4f4",
   "metadata": {
    "deletable": true,
    "editable": true,
    "slideshow": {
     "slide_type": "fragment"
    }
   },
   "source": [
    "- When we say `pandas` DataFrame, we're talking about the `pandas` API for its DataFrame objects."
   ]
  },
  {
   "cell_type": "markdown",
   "id": "f70bd0eb",
   "metadata": {
    "deletable": true,
    "editable": true,
    "slideshow": {
     "slide_type": "fragment"
    }
   },
   "source": [
    "- When we say \"DataFrame\", we're referring to a general way to represent data.<br><small>DataFrames organize data into rows and columns, with labels for both rows and columns.</small>"
   ]
  },
  {
   "cell_type": "markdown",
   "id": "6cfd77ac",
   "metadata": {
    "deletable": true,
    "editable": true,
    "slideshow": {
     "slide_type": "fragment"
    }
   },
   "source": [
    "- There many other ways to work with data tables, each of which have their pros and cons.<br><small>Some examples include R data frames, SQL databases, spreadsheets in Google Sheets/Excel, or even matrices from linear algebra.</small>"
   ]
  },
  {
   "cell_type": "markdown",
   "id": "9a034614",
   "metadata": {
    "deletable": true,
    "editable": true,
    "slideshow": {
     "slide_type": "slide"
    }
   },
   "source": [
    "### Alternatives"
   ]
  },
  {
   "cell_type": "markdown",
   "id": "e90ede1f",
   "metadata": {
    "deletable": true,
    "editable": true,
    "slideshow": {
     "slide_type": "fragment"
    }
   },
   "source": [
    "- Below, we discuss pros and cons of (some of) the ways we can work with tabular data.\n",
    "\n",
    "| Platform               | **Pros ✅**                                          | **Cons ❌**                                            |\n",
    "|------------------------|--------------------------------------------------|----------------------------------------------------|\n",
    "| **`pandas` DataFrames**   | Works well with the Python ecosystem (for visualization, machien learning, domain-specifc purposes, etc.), extremely flexible, reproducible steps  | Steep learning curve (need to know Python too) and messy code, easy to make destructive in-place modifications, no persistence (everything starts from a `CSV` file)  |\n",
    "| **R data frames**        | Designed specifically for data science so statistics and visualizations are easy; reproducible steps | R isn't as general-purpose as Python, no persistence  |\n",
    "| **SQL**                | Scalable, good for maintaining many large, important datasets with many concurrent users | Requires lots of infrastructure, advanced operations can be challenging  |\n",
    "| **Spreadsheets**        | Widespread use, very easy to get started, easy for sharing | Steps aren't reproducible, advanced operations can be challenging |"
   ]
  },
  {
   "cell_type": "markdown",
   "id": "de079862",
   "metadata": {
    "deletable": true,
    "editable": true,
    "slideshow": {
     "slide_type": "fragment"
    }
   },
   "source": [
    "- A common workflow is to load a subset of data in from a database system into `pandas`, then do further cleaning and visualization."
   ]
  },
  {
   "cell_type": "markdown",
   "id": "12c198f0",
   "metadata": {
    "deletable": true,
    "editable": true,
    "slideshow": {
     "slide_type": "fragment"
    }
   },
   "source": [
    "- Another is to load and clean data in `pandas`, then store it in a database system for others to use."
   ]
  },
  {
   "cell_type": "markdown",
   "id": "01bf345a",
   "metadata": {
    "deletable": true,
    "editable": true,
    "slideshow": {
     "slide_type": "slide"
    }
   },
   "source": [
    "### Relational algebra"
   ]
  },
  {
   "cell_type": "markdown",
   "id": "ef6dfce0",
   "metadata": {
    "deletable": true,
    "editable": true,
    "slideshow": {
     "slide_type": "fragment"
    }
   },
   "source": [
    "- **Relational algebra** captures common data operations between many data table systems.<br><small>We won't test you on relational algebra syntax, but if you'd like to learn more, take EECS 484: Database Management Systems.</small>"
   ]
  },
  {
   "cell_type": "markdown",
   "id": "c9a8b38a",
   "metadata": {
    "deletable": true,
    "editable": true,
    "slideshow": {
     "slide_type": "fragment"
    }
   },
   "source": [
    "- For example, the following expression describes a calculation in relational algebra:\n",
    "\n",
    "    $$\\pi_{\\text{int_rate}}(\\sigma_{\\text{state} = \\text{\"MI\"}}(\\text{loans}))$$\n",
    "\n",
    "    <br><small>$\\pi$ stands for \"**p**roject,\" i.e. selecting columns $\\sigma$ stands for \"**s**elect,\" i.e. selecting rows."
   ]
  },
  {
   "cell_type": "markdown",
   "id": "a4372427",
   "metadata": {
    "deletable": true,
    "editable": true,
    "slideshow": {
     "slide_type": "fragment"
    }
   },
   "source": [
    "- In `pandas`, we'd implement this expression as follows:\n",
    "\n",
    "```python\n",
    "        loans.loc[loans['state'] == 'MI', 'int_rate']\n",
    "```"
   ]
  },
  {
   "cell_type": "markdown",
   "id": "73abb40b",
   "metadata": {
    "deletable": true,
    "editable": true,
    "slideshow": {
     "slide_type": "fragment"
    }
   },
   "source": [
    "- How would we implement it in SQL? Or a spreadsheet?"
   ]
  },
  {
   "cell_type": "markdown",
   "id": "04502fe9",
   "metadata": {
    "deletable": true,
    "editable": true,
    "slideshow": {
     "slide_type": "slide"
    }
   },
   "source": [
    "### Comparing `pandas`, SQL, and Google Sheets"
   ]
  },
  {
   "cell_type": "markdown",
   "id": "78d1918d",
   "metadata": {
    "deletable": true,
    "editable": true,
    "slideshow": {
     "slide_type": "fragment"
    }
   },
   "source": [
    "- To show you how the tabular manipulation skills you've learned in `pandas` generalize to other systems, we will answer a few questions in all three of the above platforms."
   ]
  },
  {
   "cell_type": "markdown",
   "id": "7884c807",
   "metadata": {
    "deletable": true,
    "editable": true,
    "slideshow": {
     "slide_type": "fragment"
    }
   },
   "source": [
    "- First, we'll work through our analysis in `pandas`, and then in SQL, and finally, in a Google Sheets document."
   ]
  },
  {
   "cell_type": "markdown",
   "id": "9d1346b2",
   "metadata": {
    "deletable": true,
    "editable": true,
    "slideshow": {
     "slide_type": "slide"
    }
   },
   "source": [
    "### Overview: Top 200 streams"
   ]
  },
  {
   "cell_type": "markdown",
   "id": "85d374e8",
   "metadata": {
    "deletable": true,
    "editable": true,
    "slideshow": {
     "slide_type": "fragment"
    }
   },
   "source": [
    "- Our dataset contains the number of streams for the top 200 songs on Spotify, for the week leading up to September 19th.<br><small>We downloaded it from [**here**](https://charts.spotify.com/charts/view/regional-global-weekly/latest). This is the most recent week it let us download.</small>"
   ]
  },
  {
   "cell_type": "markdown",
   "id": "2abcfd16",
   "metadata": {
    "deletable": true,
    "editable": true,
    "slideshow": {
     "slide_type": "fragment"
    }
   },
   "source": [
    "- Let's load it in as a `pandas` DataFrame."
   ]
  },
  {
   "cell_type": "code",
   "execution_count": null,
   "id": "0b6e1d39",
   "metadata": {
    "deletable": true,
    "editable": true
   },
   "outputs": [],
   "source": [
    "charts = pd.read_csv('data/regional-global-weekly-2024-09-19.csv') \n",
    "charts"
   ]
  },
  {
   "cell_type": "code",
   "execution_count": null,
   "id": "f42b0ad0",
   "metadata": {
    "deletable": true,
    "editable": true
   },
   "outputs": [],
   "source": [
    "charts.columns "
   ]
  },
  {
   "cell_type": "markdown",
   "id": "0c5c3df7",
   "metadata": {
    "deletable": true,
    "editable": true,
    "slideshow": {
     "slide_type": "fragment"
    }
   },
   "source": [
    "- As an aside, we can play Spotify songs directly in our notebooks!"
   ]
  },
  {
   "cell_type": "code",
   "execution_count": null,
   "id": "7a813cbf",
   "metadata": {
    "deletable": true,
    "editable": true
   },
   "outputs": [],
   "source": [
    "def show_spotify(uri):\n",
    "    code = uri[uri.rfind(':')+1:]\n",
    "    src = f\"https://open.spotify.com/embed/track/{code}\"\n",
    "    width = 400\n",
    "    height = 75\n",
    "    display(IFrame(src, width, height))"
   ]
  },
  {
   "cell_type": "code",
   "execution_count": null,
   "id": "278a0d46",
   "metadata": {
    "deletable": true,
    "editable": true
   },
   "outputs": [],
   "source": [
    "my_uri = charts.loc[charts['track_name'] == 'Yellow', 'uri'].iloc[0] \n",
    "my_uri"
   ]
  },
  {
   "cell_type": "code",
   "execution_count": null,
   "id": "7d4d4047",
   "metadata": {
    "deletable": true,
    "editable": true
   },
   "outputs": [],
   "source": [
    "show_spotify(my_uri)"
   ]
  },
  {
   "cell_type": "markdown",
   "id": "0d81b64a",
   "metadata": {
    "deletable": true,
    "editable": true,
    "slideshow": {
     "slide_type": "slide"
    }
   },
   "source": [
    "<small><small style=\"color:#4c9eff\">Complete using `pandas`.</small></small><br>\n",
    "**Task 1**: Find the total number of streams of songs by Sabrina Carpenter."
   ]
  },
  {
   "cell_type": "code",
   "execution_count": null,
   "id": "72de4950",
   "metadata": {
    "deletable": true,
    "editable": true
   },
   "outputs": [],
   "source": [
    "task_1 = charts.loc[charts['artist_names'] == 'Sabrina Carpenter', 'streams'].sum()\n",
    "task_1"
   ]
  },
  {
   "cell_type": "markdown",
   "id": "46d4a3f8",
   "metadata": {
    "deletable": true,
    "editable": true,
    "slideshow": {
     "slide_type": "slide"
    }
   },
   "source": [
    "<small><small style=\"color:#4c9eff\">Complete using `pandas`.</small></small><br>\n",
    "**Task 2**: Find the total number of streams per artist, sorted by number of streams in descending order. Only show the top 5 artists."
   ]
  },
  {
   "cell_type": "code",
   "execution_count": null,
   "id": "ff02edb5",
   "metadata": {
    "deletable": true,
    "editable": true
   },
   "outputs": [],
   "source": [
    "task_2 = (\n",
    "    charts\n",
    "    .groupby('artist_names')\n",
    "    ['streams']\n",
    "    .sum()\n",
    "    .sort_values(ascending=False)\n",
    "    .head(5)\n",
    ")\n",
    "task_2"
   ]
  },
  {
   "cell_type": "markdown",
   "id": "27393399",
   "metadata": {
    "deletable": true,
    "editable": true,
    "slideshow": {
     "slide_type": "slide"
    }
   },
   "source": [
    "<small><small style=\"color:#4c9eff\">Complete using `pandas`.</small></small><br>\n",
    "**Task 3**: Find the artist with the lowest average number of streams, among artists with at least 5 songs in the Top 200."
   ]
  },
  {
   "cell_type": "code",
   "execution_count": null,
   "id": "9cb7e955",
   "metadata": {
    "deletable": true,
    "editable": true
   },
   "outputs": [],
   "source": [
    "task_3 = (\n",
    "    charts\n",
    "    .groupby('artist_names')\n",
    "    .filter(lambda df: df.shape[0] >= 5)\n",
    "    .groupby('artist_names')\n",
    "    ['streams']\n",
    "    .mean()\n",
    "    .sort_values()\n",
    "    .head(1)\n",
    ")\n",
    "task_3"
   ]
  },
  {
   "cell_type": "markdown",
   "id": "cfb83138",
   "metadata": {
    "deletable": true,
    "editable": true,
    "slideshow": {
     "slide_type": "slide"
    }
   },
   "source": [
    "<small><small style=\"color:#4c9eff\">Complete using `pandas`.</small></small><br>\n",
    "**Task 4**: Find the number of songs with a higher ranking this week than last week."
   ]
  },
  {
   "cell_type": "code",
   "execution_count": null,
   "id": "67bd1c88",
   "metadata": {
    "deletable": true,
    "editable": true
   },
   "outputs": [],
   "source": [
    "task_4 = charts[charts['rank'] > charts['previous_rank']].shape[0]\n",
    "task_4"
   ]
  },
  {
   "cell_type": "markdown",
   "id": "88b8ab87",
   "metadata": {
    "deletable": true,
    "editable": true,
    "slideshow": {
     "slide_type": "slide"
    }
   },
   "source": [
    "<small><small style=\"color:#4c9eff\">Complete using `pandas`.</small></small><br>\n",
    "**Task 5**: `charts_old` contains the Top 200 songs in the previous week.\n",
    "\n",
    "Find the song with the largest increase in streams between last week and this week, among songs that were in the Top 200 in both weeks."
   ]
  },
  {
   "cell_type": "code",
   "execution_count": null,
   "id": "250368ca",
   "metadata": {
    "deletable": true,
    "editable": true
   },
   "outputs": [],
   "source": [
    "charts_old = pd.read_csv('data/regional-global-weekly-2024-09-12.csv')\n",
    "charts_old.head()"
   ]
  },
  {
   "cell_type": "code",
   "execution_count": null,
   "id": "2ff0c52b",
   "metadata": {
    "deletable": true,
    "editable": true
   },
   "outputs": [],
   "source": [
    "with_old = (\n",
    "    charts[['uri', 'track_name', 'artist_names', 'streams']]\n",
    "    .merge(charts_old[['uri', 'streams',]], on='uri', suffixes=('_new', '_old'))\n",
    ")\n",
    "task_5 = (\n",
    "    with_old\n",
    "    .assign(change=with_old['streams_new'] - with_old['streams_old'])\n",
    "    .sort_values('change', ascending=False)\n",
    "    [['track_name', 'artist_names', 'change']]\n",
    "    .head(1)\n",
    ")\n",
    "task_5"
   ]
  },
  {
   "cell_type": "markdown",
   "id": "f03a8dde",
   "metadata": {
    "deletable": true,
    "editable": true,
    "slideshow": {
     "slide_type": "slide"
    }
   },
   "source": [
    "<small><small style=\"color:#4c9eff\">Complete using `pandas`.</small></small><br>\n",
    "**Task 6**: Find the 4 songs with the most artists."
   ]
  },
  {
   "cell_type": "code",
   "execution_count": null,
   "id": "373fad28",
   "metadata": {
    "deletable": true,
    "editable": true
   },
   "outputs": [],
   "source": [
    "task_6 = (\n",
    "    charts\n",
    "    .assign(num_artists=charts['artist_names'].str.count(', '))\n",
    "    .sort_values('num_artists', ascending=False)\n",
    "    .head(4)\n",
    ")\n",
    "task_6"
   ]
  },
  {
   "cell_type": "markdown",
   "id": "6460e995",
   "metadata": {
    "deletable": true,
    "editable": true,
    "slideshow": {
     "slide_type": "slide"
    }
   },
   "source": [
    "## SQL\n",
    "\n",
    "---"
   ]
  },
  {
   "cell_type": "markdown",
   "id": "e02365d6",
   "metadata": {
    "deletable": true,
    "editable": true,
    "slideshow": {
     "slide_type": "slide"
    }
   },
   "source": [
    "### Overview: SQL"
   ]
  },
  {
   "cell_type": "markdown",
   "id": "df53cc42",
   "metadata": {
    "deletable": true,
    "editable": true,
    "slideshow": {
     "slide_type": "fragment"
    }
   },
   "source": [
    "- SQL stands for \"Structured Query Language\". It is **the** standard language for database manipulation.<br><small>Each database system – for instance, MySQL, SQLite, DuckDB, or PostgreSQL – has its own slightly different version of SQL with special features to that system.</small> "
   ]
  },
  {
   "cell_type": "markdown",
   "id": "2acfdba4",
   "metadata": {
    "deletable": true,
    "editable": true,
    "slideshow": {
     "slide_type": "fragment"
    }
   },
   "source": [
    "- SQL is a **declarative** language.<br><small>In SQL, you just describe _what_ you want calculated, not _how_ you want it calculated. It's the database engine's job to figure out _how_ to process your **query**.</small>\n",
    "\n",
    "```sql\n",
    "        SELECT artist_names, SUM(streams) AS total_streams FROM charts\n",
    "        GROUP BY artist_names\n",
    "        ORDER BY total_streams DESC\n",
    "        LIMIT 5;\n",
    "```\n",
    "\n",
    "<br><center><small>One of the SQL queries we'll write shortly.</small></center>"
   ]
  },
  {
   "cell_type": "markdown",
   "id": "a5af645d",
   "metadata": {
    "deletable": true,
    "editable": true,
    "slideshow": {
     "slide_type": "fragment"
    }
   },
   "source": [
    "- We'll work with two SQL database platforms: SQLite and DuckDB.<br><small>SQLite comes pre-installed on most systems. DuckDB is open-source, and integrates with `pandas` really well.</small>"
   ]
  },
  {
   "cell_type": "markdown",
   "id": "be78dae2",
   "metadata": {
    "deletable": true,
    "editable": true,
    "slideshow": {
     "slide_type": "slide"
    }
   },
   "source": [
    "### Example SQL syntax"
   ]
  },
  {
   "cell_type": "markdown",
   "id": "4484ce1b",
   "metadata": {
    "deletable": true,
    "editable": true,
    "slideshow": {
     "slide_type": "fragment"
    }
   },
   "source": [
    "- All code we write in SQL is referred to as a \"query\", and all SQL queries follow the same general template:\n",
    "\n",
    "<center><img src=\"imgs/sql.png\" width=900>\n",
    "\n",
    "<br>\n",
    "(<a href=\"https://learnsql.com/blog/sql-query-basic-elements/\">source</a>)\n",
    "\n",
    "</center>"
   ]
  },
  {
   "cell_type": "markdown",
   "id": "f8a73f8e",
   "metadata": {
    "deletable": true,
    "editable": true,
    "slideshow": {
     "slide_type": "fragment"
    }
   },
   "source": [
    "- [W3Schools](https://www.w3schools.com/sql/sql_examples.asp) has examples of SQL syntax, as does the example above."
   ]
  },
  {
   "cell_type": "markdown",
   "id": "b53e045f",
   "metadata": {
    "deletable": true,
    "editable": true,
    "slideshow": {
     "slide_type": "slide"
    }
   },
   "source": [
    "### Connecting to a database using `sqlite3`"
   ]
  },
  {
   "cell_type": "markdown",
   "id": "780c326a",
   "metadata": {
    "deletable": true,
    "editable": true,
    "slideshow": {
     "slide_type": "fragment"
    }
   },
   "source": [
    "- `sqlite3` comes pre-installed on most operating systems."
   ]
  },
  {
   "cell_type": "markdown",
   "id": "860eaa69",
   "metadata": {
    "deletable": true,
    "editable": true,
    "slideshow": {
     "slide_type": "fragment"
    }
   },
   "source": [
    "- We'll answer our first few tasks by working with `sqlite3` in the command-line."
   ]
  },
  {
   "cell_type": "markdown",
   "id": "acc92683",
   "metadata": {
    "deletable": true,
    "editable": true,
    "slideshow": {
     "slide_type": "fragment"
    }
   },
   "source": [
    "- To follow along:\n",
    "    1. Open your Terminal.\n",
    "    2. `cd` to the `lec10/data` folder.\n",
    "    3. Run `sqlite3 spotify.db`."
   ]
  },
  {
   "cell_type": "markdown",
   "id": "37808da5",
   "metadata": {
    "deletable": true,
    "editable": true,
    "slideshow": {
     "slide_type": "fragment"
    }
   },
   "source": [
    "- These steps will open a `sqlite3` interpreter, connected to the `spotify.db` **database**.<br><small>A database file can contain multiple tables. This one contains two: `charts` and `charts_old`.</small>"
   ]
  },
  {
   "cell_type": "markdown",
   "id": "de6a9644",
   "metadata": {
    "deletable": true,
    "editable": true,
    "slideshow": {
     "slide_type": "slide"
    }
   },
   "source": [
    "<small><small style=\"color:#ffac3f\">Complete using SQL.</small></small><br>\n",
    "**Task 1**: Find the total number of streams of songs by Sabrina Carpenter."
   ]
  },
  {
   "cell_type": "markdown",
   "id": "60833d9b",
   "metadata": {
    "deletable": true,
    "editable": true,
    "slideshow": {
     "slide_type": "fragment"
    }
   },
   "source": [
    "<center><img src=\"imgs/task-1.png\" width=700></center>"
   ]
  },
  {
   "cell_type": "code",
   "execution_count": null,
   "id": "4578ea41",
   "metadata": {
    "deletable": true,
    "editable": true,
    "slideshow": {
     "slide_type": "fragment"
    }
   },
   "outputs": [],
   "source": [
    "task_1"
   ]
  },
  {
   "cell_type": "markdown",
   "id": "5009ddfb",
   "metadata": {
    "deletable": true,
    "editable": true,
    "slideshow": {
     "slide_type": "slide"
    }
   },
   "source": [
    "<small><small style=\"color:#ffac3f\">Complete using SQL.</small></small><br>\n",
    "**Task 2**: Find the total number of streams per artist, sorted by number of streams in descending order. Only show the top 5 artists."
   ]
  },
  {
   "cell_type": "markdown",
   "id": "3cff9fe9",
   "metadata": {
    "deletable": true,
    "editable": true,
    "slideshow": {
     "slide_type": "fragment"
    }
   },
   "source": [
    "<center><img src=\"imgs/task-2.png\" width=700></center>"
   ]
  },
  {
   "cell_type": "code",
   "execution_count": null,
   "id": "f5c812be",
   "metadata": {
    "deletable": true,
    "editable": true,
    "slideshow": {
     "slide_type": "fragment"
    }
   },
   "outputs": [],
   "source": [
    "task_2"
   ]
  },
  {
   "cell_type": "markdown",
   "id": "84b8470a",
   "metadata": {
    "deletable": true,
    "editable": true,
    "slideshow": {
     "slide_type": "slide"
    }
   },
   "source": [
    "### Aside: DuckDB"
   ]
  },
  {
   "cell_type": "markdown",
   "id": "3e557342",
   "metadata": {
    "deletable": true,
    "editable": true,
    "slideshow": {
     "slide_type": "fragment"
    }
   },
   "source": [
    "- Instead of having to run all of our SQL queries in the Terminal using a `.db` file, we can use DuckDB, which allows us to execute queries in a notebook **using a `pandas` DataFrame**!"
   ]
  },
  {
   "cell_type": "markdown",
   "id": "832feac4",
   "metadata": {
    "deletable": true,
    "editable": true,
    "slideshow": {
     "slide_type": "fragment"
    }
   },
   "source": [
    "- To use DuckDB, `pip install` it:"
   ]
  },
  {
   "cell_type": "code",
   "execution_count": null,
   "id": "20badf82",
   "metadata": {
    "deletable": true,
    "editable": true
   },
   "outputs": [],
   "source": [
    "!pip install duckdb"
   ]
  },
  {
   "cell_type": "code",
   "execution_count": null,
   "id": "60d728cf",
   "metadata": {
    "deletable": true,
    "editable": true
   },
   "outputs": [],
   "source": [
    "import duckdb"
   ]
  },
  {
   "cell_type": "markdown",
   "id": "ab7ef1f4",
   "metadata": {
    "deletable": true,
    "editable": true,
    "slideshow": {
     "slide_type": "fragment"
    }
   },
   "source": [
    "- Then, use the `run_sql` function, defined below, to execute SQL queries using the DataFrames in our notebook as SQL tables."
   ]
  },
  {
   "cell_type": "code",
   "execution_count": null,
   "id": "9302425c",
   "metadata": {
    "deletable": true,
    "editable": true
   },
   "outputs": [],
   "source": [
    "def run_sql(query_str, as_df=False):\n",
    "    out = duckdb.query(query_str)\n",
    "    if as_df:\n",
    "        return out.to_df()\n",
    "    else:\n",
    "        return out"
   ]
  },
  {
   "cell_type": "code",
   "execution_count": null,
   "id": "99f84460",
   "metadata": {
    "deletable": true,
    "editable": true
   },
   "outputs": [],
   "source": [
    "run_sql('''\n",
    "SELECT artist_names, SUM(streams) AS total_streams FROM charts\n",
    "GROUP BY artist_names\n",
    "ORDER BY total_streams DESC\n",
    "LIMIT 5;\n",
    "''')"
   ]
  },
  {
   "cell_type": "markdown",
   "id": "4766b385",
   "metadata": {
    "deletable": true,
    "editable": true,
    "slideshow": {
     "slide_type": "fragment"
    }
   },
   "source": [
    "- We can even ask for the output back as a DataFrame!<br><small>This means that you can combine both SQL operations and `pandas` operations.</small>"
   ]
  },
  {
   "cell_type": "code",
   "execution_count": null,
   "id": "ed33b5d7",
   "metadata": {
    "deletable": true,
    "editable": true
   },
   "outputs": [],
   "source": [
    "run_sql('''\n",
    "SELECT artist_names, SUM(streams) AS total_streams FROM charts\n",
    "GROUP BY artist_names\n",
    "ORDER BY total_streams DESC\n",
    "LIMIT 5;\n",
    "''', as_df=True)"
   ]
  },
  {
   "cell_type": "markdown",
   "id": "25ef7f57",
   "metadata": {
    "deletable": true,
    "editable": true,
    "slideshow": {
     "slide_type": "slide"
    }
   },
   "source": [
    "<small><small style=\"color:#ffac3f\">Complete using SQL.</small></small><br>\n",
    "**Task 3**: Find the artist with the lowest average number of streams, among artists with at least 5 songs in the Top 200."
   ]
  },
  {
   "cell_type": "code",
   "execution_count": null,
   "id": "18391b7b",
   "metadata": {
    "deletable": true,
    "editable": true
   },
   "outputs": [],
   "source": [
    "run_sql('''\n",
    "SELECT artist_names, AVG(streams) as avg_streams FROM charts\n",
    "GROUP BY artist_names\n",
    "HAVING COUNT(*) >= 5\n",
    "ORDER BY avg_streams\n",
    "LIMIT 1;\n",
    "''')"
   ]
  },
  {
   "cell_type": "code",
   "execution_count": null,
   "id": "7dd03515",
   "metadata": {
    "deletable": true,
    "editable": true
   },
   "outputs": [],
   "source": [
    "task_3"
   ]
  },
  {
   "cell_type": "markdown",
   "id": "b23b665b",
   "metadata": {
    "deletable": true,
    "editable": true,
    "slideshow": {
     "slide_type": "slide"
    }
   },
   "source": [
    "<small><small style=\"color:#ffac3f\">Complete using SQL.</small></small><br>\n",
    "**Task 4**: Find the number of songs with a higher ranking this week than last week."
   ]
  },
  {
   "cell_type": "code",
   "execution_count": null,
   "id": "e1c80040",
   "metadata": {
    "deletable": true,
    "editable": true
   },
   "outputs": [],
   "source": [
    "run_sql('''\n",
    "SELECT COUNT(*) as num_songs FROM (\n",
    "    SELECT * FROM charts\n",
    "    WHERE rank > previous_rank\n",
    ")\n",
    "''')"
   ]
  },
  {
   "cell_type": "code",
   "execution_count": null,
   "id": "07602e10",
   "metadata": {
    "deletable": true,
    "editable": true
   },
   "outputs": [],
   "source": [
    "task_4"
   ]
  },
  {
   "cell_type": "markdown",
   "id": "ed272ad7",
   "metadata": {
    "deletable": true,
    "editable": true,
    "slideshow": {
     "slide_type": "slide"
    }
   },
   "source": [
    "<small><small style=\"color:#ffac3f\">Complete using SQL.</small></small><br>\n",
    "**Task 5**: `charts_old` contains the Top 200 songs in the previous week.\n",
    "\n",
    "Find the song with the largest increase in streams between last week and this week, among songs that were in the Top 200 in both weeks."
   ]
  },
  {
   "cell_type": "code",
   "execution_count": null,
   "id": "6007366f",
   "metadata": {
    "deletable": true,
    "editable": true
   },
   "outputs": [],
   "source": [
    "run_sql('''\n",
    "SELECT track_name, artist_names, (new_streams - old_streams) AS change\n",
    "FROM (\n",
    "    SELECT charts.uri, \n",
    "           charts.track_name, \n",
    "           charts.artist_names, \n",
    "           charts.streams AS new_streams, \n",
    "           charts_old.uri, \n",
    "           charts_old.streams AS old_streams\n",
    "    FROM charts\n",
    "    INNER JOIN charts_old ON charts.uri = charts_old.uri\n",
    ") AS merged\n",
    "ORDER BY change DESC\n",
    "LIMIT 1;\n",
    "''', as_df=True)"
   ]
  },
  {
   "cell_type": "code",
   "execution_count": null,
   "id": "140bb806",
   "metadata": {
    "deletable": true,
    "editable": true
   },
   "outputs": [],
   "source": [
    "task_5"
   ]
  },
  {
   "cell_type": "markdown",
   "id": "78f18e21",
   "metadata": {
    "deletable": true,
    "editable": true,
    "slideshow": {
     "slide_type": "slide"
    }
   },
   "source": [
    "<small><small style=\"color:#ffac3f\">Complete using SQL.</small></small><br>\n",
    "**Task 6**: Find the 4 songs with the most artists.<br>\n",
    "<small>Fun fact: the syntax used in our solution doesn't exist in SQLite, but **does** exist in DuckDB.</small>"
   ]
  },
  {
   "cell_type": "code",
   "execution_count": null,
   "id": "a8ac5ffa",
   "metadata": {
    "deletable": true,
    "editable": true
   },
   "outputs": [],
   "source": [
    "run_sql('''\n",
    "SELECT track_name, artist_names, array_length(str_split(artist_names, ', ')) AS num_artists\n",
    "FROM charts\n",
    "ORDER BY num_artists DESC\n",
    "LIMIT 4;\n",
    "''', as_df=True)"
   ]
  },
  {
   "cell_type": "code",
   "execution_count": null,
   "id": "dd6a013b",
   "metadata": {
    "deletable": true,
    "editable": true
   },
   "outputs": [],
   "source": [
    "task_6"
   ]
  },
  {
   "cell_type": "markdown",
   "id": "93adccf1",
   "metadata": {
    "deletable": true,
    "editable": true,
    "slideshow": {
     "slide_type": "slide"
    }
   },
   "source": [
    "## Google Sheets\n",
    "\n",
    "---"
   ]
  },
  {
   "cell_type": "markdown",
   "id": "c397771f",
   "metadata": {
    "deletable": true,
    "editable": true,
    "slideshow": {
     "slide_type": "slide"
    }
   },
   "source": [
    "### Overview: Google Sheets"
   ]
  },
  {
   "cell_type": "markdown",
   "id": "ac441b73",
   "metadata": {
    "deletable": true,
    "editable": true,
    "slideshow": {
     "slide_type": "fragment"
    }
   },
   "source": [
    "- While we're big fans of writing code in this class, in the business world, spreadsheets are (still) the most common tool for tabular data manipulation."
   ]
  },
  {
   "cell_type": "markdown",
   "id": "658a91b3",
   "metadata": {
    "deletable": true,
    "editable": true,
    "slideshow": {
     "slide_type": "fragment"
    }
   },
   "source": [
    "- Spreadsheets are great for showing information directly to someone else, and are easy to share."
   ]
  },
  {
   "cell_type": "markdown",
   "id": "5ec339f1",
   "metadata": {
    "deletable": true,
    "editable": true,
    "slideshow": {
     "slide_type": "fragment"
    }
   },
   "source": [
    "- Microsoft Excel is widely popular, but Google Sheets is increasingly common as well, and you've likely used it before."
   ]
  },
  {
   "cell_type": "markdown",
   "id": "ed26a3d6",
   "metadata": {
    "deletable": true,
    "editable": true,
    "slideshow": {
     "slide_type": "fragment"
    }
   },
   "source": [
    "- Follow along by opening [**this Google Sheet**](https://docs.google.com/spreadsheets/d/1OFWqms0UN-9Lr5HxwPdZsgpPlLir8fy67dN0PD0beug/edit?usp=sharing) and going to File > Make a copy."
   ]
  },
  {
   "cell_type": "markdown",
   "id": "a99961d3",
   "metadata": {
    "deletable": true,
    "editable": true,
    "slideshow": {
     "slide_type": "slide"
    }
   },
   "source": [
    "<small><small style=\"color:#b96fff\">Complete using Google Sheets.</small></small><br>\n",
    "**Task 1**: Find the total number of streams of songs by Sabrina Carpenter."
   ]
  },
  {
   "cell_type": "markdown",
   "id": "a6146118",
   "metadata": {
    "deletable": true,
    "editable": true,
    "slideshow": {
     "slide_type": "fragment"
    }
   },
   "source": [
    "Relevant functions: `FILTER`, `SUMIF`."
   ]
  },
  {
   "cell_type": "code",
   "execution_count": null,
   "id": "e05e2ccc",
   "metadata": {
    "deletable": true,
    "editable": true,
    "slideshow": {
     "slide_type": "fragment"
    }
   },
   "outputs": [],
   "source": [
    "task_1"
   ]
  },
  {
   "cell_type": "markdown",
   "id": "0b88b45e",
   "metadata": {
    "deletable": true,
    "editable": true,
    "slideshow": {
     "slide_type": "slide"
    }
   },
   "source": [
    "<small><small style=\"color:#b96fff\">Complete using Google Sheets.</small></small><br>\n",
    "**Task 2**: Find the total number of streams per artist, sorted by number of streams in descending order. Only show the top 5 artists."
   ]
  },
  {
   "cell_type": "markdown",
   "id": "08b38891",
   "metadata": {
    "deletable": true,
    "editable": true,
    "slideshow": {
     "slide_type": "fragment"
    }
   },
   "source": [
    "Relevant functions: `UNIQUE`, `SUMIF`."
   ]
  },
  {
   "cell_type": "code",
   "execution_count": null,
   "id": "509345cd",
   "metadata": {
    "deletable": true,
    "editable": true,
    "slideshow": {
     "slide_type": "fragment"
    }
   },
   "outputs": [],
   "source": [
    "task_2"
   ]
  },
  {
   "cell_type": "markdown",
   "id": "a5496cb3",
   "metadata": {
    "deletable": true,
    "editable": true,
    "slideshow": {
     "slide_type": "slide"
    }
   },
   "source": [
    "<small><small style=\"color:#b96fff\">Complete using Google Sheets.</small></small><br>\n",
    "**Task 3**: Find the artist with the lowest average number of streams, among artists with at least 5 songs in the Top 200."
   ]
  },
  {
   "cell_type": "markdown",
   "id": "6275fa9a",
   "metadata": {
    "deletable": true,
    "editable": true,
    "slideshow": {
     "slide_type": "fragment"
    }
   },
   "source": [
    "Relevant functions: `AVERAGEIF`."
   ]
  },
  {
   "cell_type": "code",
   "execution_count": null,
   "id": "b6b7bb21",
   "metadata": {
    "deletable": true,
    "editable": true,
    "slideshow": {
     "slide_type": "fragment"
    }
   },
   "outputs": [],
   "source": [
    "task_3"
   ]
  },
  {
   "cell_type": "markdown",
   "id": "a35182ef",
   "metadata": {
    "deletable": true,
    "editable": true,
    "slideshow": {
     "slide_type": "slide"
    }
   },
   "source": [
    "<small><small style=\"color:#b96fff\">Complete using Google Sheets.</small></small><br>\n",
    "**Task 4**: Find the number of songs with a higher ranking this week than last week."
   ]
  },
  {
   "cell_type": "markdown",
   "id": "d65c5ba8",
   "metadata": {
    "deletable": true,
    "editable": true,
    "slideshow": {
     "slide_type": "fragment"
    }
   },
   "source": [
    "Relevant functions: `IF`."
   ]
  },
  {
   "cell_type": "code",
   "execution_count": null,
   "id": "5fe00001",
   "metadata": {
    "deletable": true,
    "editable": true,
    "slideshow": {
     "slide_type": "fragment"
    }
   },
   "outputs": [],
   "source": [
    "task_4"
   ]
  },
  {
   "cell_type": "markdown",
   "id": "e42ccf34",
   "metadata": {
    "deletable": true,
    "editable": true,
    "slideshow": {
     "slide_type": "slide"
    }
   },
   "source": [
    "<small><small style=\"color:#b96fff\">Complete using Google Sheets.</small></small><br>\n",
    "**Task 5**: `charts_old` contains the Top 200 songs in the previous week.\n",
    "\n",
    "Find the song with the largest increase in streams between last week and this week, among songs that were in the Top 200 in both weeks."
   ]
  },
  {
   "cell_type": "markdown",
   "id": "068019ed",
   "metadata": {
    "deletable": true,
    "editable": true,
    "slideshow": {
     "slide_type": "fragment"
    }
   },
   "source": [
    "Relevant functions: `FILTER`."
   ]
  },
  {
   "cell_type": "code",
   "execution_count": null,
   "id": "3506eddc",
   "metadata": {
    "deletable": true,
    "editable": true,
    "slideshow": {
     "slide_type": "fragment"
    }
   },
   "outputs": [],
   "source": [
    "task_5"
   ]
  },
  {
   "cell_type": "markdown",
   "id": "5435cacb",
   "metadata": {
    "deletable": true,
    "editable": true,
    "slideshow": {
     "slide_type": "slide"
    }
   },
   "source": [
    "<small><small style=\"color:#b96fff\">Complete using Google Sheets.</small></small><br>\n",
    "**Task 6**: Find the 4 songs with the most artists."
   ]
  },
  {
   "cell_type": "markdown",
   "id": "5b969cfd",
   "metadata": {
    "deletable": true,
    "editable": true,
    "slideshow": {
     "slide_type": "fragment"
    }
   },
   "source": [
    "Relevant functions: `SPLIT`, `LEN`, `SUBSTITUTE`."
   ]
  },
  {
   "cell_type": "code",
   "execution_count": null,
   "id": "66d62969",
   "metadata": {
    "deletable": true,
    "editable": true,
    "slideshow": {
     "slide_type": "fragment"
    }
   },
   "outputs": [],
   "source": [
    "task_6"
   ]
  },
  {
   "cell_type": "markdown",
   "id": "5d4d3371",
   "metadata": {
    "deletable": true,
    "editable": true,
    "slideshow": {
     "slide_type": "slide"
    }
   },
   "source": [
    "### Key takeaways"
   ]
  },
  {
   "cell_type": "markdown",
   "id": "60b6568e",
   "metadata": {
    "deletable": true,
    "editable": true,
    "slideshow": {
     "slide_type": "fragment"
    }
   },
   "source": [
    "- The DataFrame manipulation techniques we've learned about over the past month generalize to other systems that you might be exposed to."
   ]
  },
  {
   "cell_type": "markdown",
   "id": "3dd3c381",
   "metadata": {
    "deletable": true,
    "editable": true,
    "slideshow": {
     "slide_type": "fragment"
    }
   },
   "source": [
    "- In 20 years, `pandas` may not exist, but grouping, pivoting, querying, etc. are all **concepts** that still will be useful."
   ]
  },
  {
   "cell_type": "markdown",
   "id": "3e80ac82",
   "metadata": {
    "deletable": true,
    "editable": true,
    "slideshow": {
     "slide_type": "slide"
    }
   },
   "source": [
    "### What's next?"
   ]
  },
  {
   "cell_type": "markdown",
   "id": "fd019dc6",
   "metadata": {
    "deletable": true,
    "editable": true,
    "slideshow": {
     "slide_type": "fragment"
    }
   },
   "source": [
    "- Next week, we'll learn how to extract information from messy, text data."
   ]
  },
  {
   "cell_type": "markdown",
   "id": "77ddda05",
   "metadata": {
    "deletable": true,
    "editable": true,
    "slideshow": {
     "slide_type": "fragment"
    }
   },
   "source": [
    "- Then, after the Midterm Exam, we'll switch our focus to machine learning!"
   ]
  }
 ],
 "metadata": {
  "celltoolbar": "None",
  "kernelspec": {
   "display_name": "Python 3 (ipykernel)",
   "language": "python",
   "name": "python3"
  },
  "language_info": {
   "codemirror_mode": {
    "name": "ipython",
    "version": 3
   },
   "file_extension": ".py",
   "mimetype": "text/x-python",
   "name": "python",
   "nbconvert_exporter": "python",
   "pygments_lexer": "ipython3",
   "version": "3.10.14"
  },
  "livereveal": {
   "scroll": true
  },
  "rise": {
   "transition": "none"
  }
 },
 "nbformat": 4,
 "nbformat_minor": 5
}
