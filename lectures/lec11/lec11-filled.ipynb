{
 "cells": [
  {
   "cell_type": "code",
   "execution_count": null,
   "id": "2277f190",
   "metadata": {
    "deletable": true,
    "editable": true,
    "slideshow": {
     "slide_type": "skip"
    }
   },
   "outputs": [],
   "source": [
    "from lec_utils import *"
   ]
  },
  {
   "cell_type": "markdown",
   "id": "0c3ecb48",
   "metadata": {
    "deletable": true,
    "editable": true,
    "slideshow": {
     "slide_type": "slide"
    },
    "tags": []
   },
   "source": [
    "<div class=\"alert alert-info\" markdown=\"1\">\n",
    "\n",
    "#### Lecture 11\n",
    "\n",
    "# Regular Expressions\n",
    "\n",
    "### EECS 398-003: Practical Data Science, Fall 2024\n",
    "\n",
    "<small><a style=\"text-decoration: none\" href=\"https://practicaldsc.org\">practicaldsc.org</a> • <a style=\"text-decoration: none\" href=\"https://github.com/practicaldsc/fa24\">github.com/practicaldsc/fa24</a></small>\n",
    "    \n",
    "</div>"
   ]
  },
  {
   "cell_type": "markdown",
   "id": "255eef25",
   "metadata": {
    "deletable": true,
    "editable": true,
    "slideshow": {
     "slide_type": "slide"
    }
   },
   "source": [
    "### Announcements 📣\n",
    "\n",
    "- Homework 5 is due on **Thursday**. It includes a required [**Pre-Midterm Survey**](https://docs.google.com/forms/d/e/1FAIpQLSfCT2TfFUWF0gbnfuV_at0bG3w0Za9-KuLIA7cpZm0NL5jbKQ/viewform).<br><small>Homework 6 will be released later this week, but won't be due until after Fall Break.</small>\n",
    "- The Midterm Exam is on **Wednesday, October 9th from 7-9PM**.\n",
    "    - Lectures 1-12 and Homeworks 1-6 are in scope.\n",
    "    - The lecture before the exam will be review, and the TAs will run a review session on **Monday from 6-8PM in FXB 1109** too.\n",
    "    - You can bring **one double-sided 8.5\"x11\" notes sheet that you handwrite yourself (no printing, no using an iPad, etc.)**.\n",
    "    - Work through old exam problems [**here**](https://study.practicaldsc.org/).\n",
    "- Looking for sources of data, or other supplemental resources? Look at our updated [**Resources**](https://practicaldsc.org/resources) page!"
   ]
  },
  {
   "cell_type": "markdown",
   "id": "db82affe",
   "metadata": {
    "deletable": true,
    "editable": true,
    "slideshow": {
     "slide_type": "slide"
    }
   },
   "source": [
    "### Aside: Spreadsheets"
   ]
  },
  {
   "cell_type": "markdown",
   "id": "675e167a",
   "metadata": {
    "deletable": true,
    "editable": true,
    "slideshow": {
     "slide_type": "fragment"
    }
   },
   "source": [
    "- We recorded a walkthrough video, [**linked here**](https://www.loom.com/share/eb06b185428542c391f21e55480a0d2d?sid=21ac597b-b8e5-4b3b-8c09-a3a3d7d5a219), on the spreadsheets part of Lecture 10 that we didn't get to cover last Thursday.<br><small>We won't have time to cover it now, either.</small>"
   ]
  },
  {
   "cell_type": "code",
   "execution_count": null,
   "id": "a13dc00e",
   "metadata": {
    "deletable": true,
    "editable": true
   },
   "outputs": [],
   "source": [
    "from IPython.display import IFrame\n",
    "IFrame(src='https://www.loom.com/embed/eb06b185428542c391f21e55480a0d2d?sid=3891cb7f-a4c9-4a34-8211-0347a283d413',\n",
    "       width=400, height=300)"
   ]
  },
  {
   "cell_type": "markdown",
   "id": "c3e545f2",
   "metadata": {
    "deletable": true,
    "editable": true,
    "slideshow": {
     "slide_type": "fragment"
    }
   },
   "source": [
    "- The spreadsheet I created in the video can be found [**here**](https://docs.google.com/spreadsheets/d/15RspFWbO_x7PHOJHc-DuyhTrQOlJ66nIKRBIkHBfcyM/edit?usp=sharing)."
   ]
  },
  {
   "cell_type": "markdown",
   "id": "01576d4e",
   "metadata": {
    "deletable": true,
    "editable": true,
    "slideshow": {
     "slide_type": "fragment"
    }
   },
   "source": [
    "- Spreadsheets won't be in an assignment or on an exam, but they will be useful at some point in your life, so now is as good a time as any to follow along and learn!<br><small>Let me know if you have any feedback or comments on it.</small>"
   ]
  },
  {
   "cell_type": "markdown",
   "id": "9eb92a8a",
   "metadata": {
    "deletable": true,
    "editable": true,
    "slideshow": {
     "slide_type": "slide"
    }
   },
   "source": [
    "### Agenda\n",
    "\n",
    "Today's lecture will mostly be about **regular expressions**. Good resources:\n",
    "- [regex101.com](https://regex101.com), a helpful site to have open while writing regular expressions.\n",
    "- Python [`re` library documentation](https://docs.python.org/3/library/re.html) and [how-to](https://docs.python.org/3/howto/regex.html).<br><small>The \"how-to\" is great, read it!</small>\n",
    "- [regex \"cheat sheet\"](https://practicaldsc.org/resources/other/berkeley-regex-reference.pdf).\n",
    "- These are all on the [**resources tab of the course website**](https://practicaldsc.org/resources) as well."
   ]
  },
  {
   "cell_type": "markdown",
   "id": "82f3c576",
   "metadata": {
    "deletable": true,
    "editable": true,
    "slideshow": {
     "slide_type": "slide"
    }
   },
   "source": [
    "## Motivation\n",
    "\n",
    "---"
   ]
  },
  {
   "cell_type": "code",
   "execution_count": null,
   "id": "5916371c",
   "metadata": {
    "deletable": true,
    "editable": true,
    "slideshow": {
     "slide_type": "slide"
    }
   },
   "outputs": [],
   "source": [
    "email = '''\n",
    "Thank you for buying our expensive product!\n",
    "If you have a complaint, please send it to complaints@compuserve.com or call (800) 867-5309.\n",
    "If you are happy with your purchase, please call us at (800) 123-4567; we'd love to hear from you!\n",
    "Due to high demand, please allow one-hundred (100) business days for a response.\n",
    "'''"
   ]
  },
  {
   "cell_type": "markdown",
   "id": "2c236a3c",
   "metadata": {
    "deletable": true,
    "editable": true,
    "slideshow": {
     "slide_type": "slide"
    }
   },
   "source": [
    "### Who called? 📞"
   ]
  },
  {
   "cell_type": "markdown",
   "id": "84a5930b",
   "metadata": {
    "deletable": true,
    "editable": true,
    "slideshow": {
     "slide_type": "fragment"
    }
   },
   "source": [
    "- **Goal**: Extract all phone numbers from a piece of text, **assuming** they are of the form `'(###) ###-####'`."
   ]
  },
  {
   "cell_type": "code",
   "execution_count": null,
   "id": "df6eb4b4",
   "metadata": {
    "deletable": true,
    "editable": true
   },
   "outputs": [],
   "source": [
    "print(email)"
   ]
  },
  {
   "cell_type": "markdown",
   "id": "9d7970ab",
   "metadata": {
    "deletable": true,
    "editable": true,
    "slideshow": {
     "slide_type": "fragment"
    }
   },
   "source": [
    "- We can do this using the same string methods we've come to know and love."
   ]
  },
  {
   "cell_type": "markdown",
   "id": "330849c1",
   "metadata": {
    "deletable": true,
    "editable": true,
    "slideshow": {
     "slide_type": "fragment"
    }
   },
   "source": [
    "- Strategy:\n",
    "    - Split by spaces.\n",
    "    - Check if there are any consecutive \"words\" where:\n",
    "        - the first \"word\" looks like an area code, like `'(678)'`.\n",
    "        - the second \"word\" looks like the last 7 digits of a phone number, like `'999-8212'`. "
   ]
  },
  {
   "cell_type": "markdown",
   "id": "671c72d9",
   "metadata": {
    "deletable": true,
    "editable": true,
    "slideshow": {
     "slide_type": "slide"
    }
   },
   "source": [
    "### Checking formatting"
   ]
  },
  {
   "cell_type": "markdown",
   "id": "9eb19d89",
   "metadata": {
    "deletable": true,
    "editable": true,
    "slideshow": {
     "slide_type": "fragment"
    }
   },
   "source": [
    "- Let's first implement a function that takes in a string and returns whether it looks like an area code."
   ]
  },
  {
   "cell_type": "code",
   "execution_count": null,
   "id": "563387f8",
   "metadata": {
    "deletable": true,
    "editable": true,
    "slideshow": {
     "slide_type": "-"
    }
   },
   "outputs": [],
   "source": [
    "def is_possibly_area_code(s):\n",
    "    '''Does `s` look like (678)?'''\n",
    "    return (len(s) == 5 and\n",
    "            s.startswith('(') and\n",
    "            s.endswith(')') and\n",
    "            s[1:4].isnumeric())"
   ]
  },
  {
   "cell_type": "code",
   "execution_count": null,
   "id": "1d6a1fdf",
   "metadata": {
    "deletable": true,
    "editable": true
   },
   "outputs": [],
   "source": [
    "is_possibly_area_code('(123)')"
   ]
  },
  {
   "cell_type": "code",
   "execution_count": null,
   "id": "21ef382a",
   "metadata": {
    "deletable": true,
    "editable": true
   },
   "outputs": [],
   "source": [
    "is_possibly_area_code('(99)')"
   ]
  },
  {
   "cell_type": "markdown",
   "id": "e0b7df43",
   "metadata": {
    "deletable": true,
    "editable": true,
    "slideshow": {
     "slide_type": "fragment"
    }
   },
   "source": [
    "- Let's also implement a function that takes in a string and returns whether it looks like the last 7 digits of a phone number."
   ]
  },
  {
   "cell_type": "code",
   "execution_count": null,
   "id": "8e807b14",
   "metadata": {
    "deletable": true,
    "editable": true
   },
   "outputs": [],
   "source": [
    "def is_last_7_phone_number(s):\n",
    "    '''Does `s` look like 999-8212?'''\n",
    "    return len(s) == 8 and s[0:3].isnumeric() and s[3] == '-' and s[4:].isnumeric()"
   ]
  },
  {
   "cell_type": "code",
   "execution_count": null,
   "id": "2b254765",
   "metadata": {
    "deletable": true,
    "editable": true
   },
   "outputs": [],
   "source": [
    "is_last_7_phone_number('999-8212')"
   ]
  },
  {
   "cell_type": "code",
   "execution_count": null,
   "id": "77f7a775",
   "metadata": {
    "deletable": true,
    "editable": true
   },
   "outputs": [],
   "source": [
    "is_last_7_phone_number('534 1100')"
   ]
  },
  {
   "cell_type": "markdown",
   "id": "1327f65f",
   "metadata": {
    "deletable": true,
    "editable": true,
    "slideshow": {
     "slide_type": "fragment"
    }
   },
   "source": [
    "- Finally, let's split the entire text by spaces, and check whether there are any instances where `pieces[i]` looks like an area code and `pieces[i+1]` looks like the last 7 digits of a phone number."
   ]
  },
  {
   "cell_type": "code",
   "execution_count": null,
   "id": "acf1f17e",
   "metadata": {
    "deletable": true,
    "editable": true
   },
   "outputs": [],
   "source": [
    "print(email)"
   ]
  },
  {
   "cell_type": "code",
   "execution_count": null,
   "id": "c3b6a4eb",
   "metadata": {
    "deletable": true,
    "editable": true,
    "slideshow": {
     "slide_type": "-"
    }
   },
   "outputs": [],
   "source": [
    "# Removes punctuation from the end of each string.\n",
    "pieces = [s.rstrip('.,?;\"\\'') for s in email.split()]\n",
    "for i in range(len(pieces) - 1):\n",
    "    if is_possibly_area_code(pieces[i]):\n",
    "        if is_last_7_phone_number(pieces[i+1]):\n",
    "            print(pieces[i], pieces[i+1])"
   ]
  },
  {
   "cell_type": "markdown",
   "id": "d51cac89",
   "metadata": {
    "deletable": true,
    "editable": true,
    "slideshow": {
     "slide_type": "slide"
    }
   },
   "source": [
    "### Is there a better way?"
   ]
  },
  {
   "cell_type": "markdown",
   "id": "5cdf4ae0",
   "metadata": {
    "deletable": true,
    "editable": true,
    "slideshow": {
     "slide_type": "fragment"
    }
   },
   "source": [
    "- This was an example of **pattern matching**."
   ]
  },
  {
   "cell_type": "markdown",
   "id": "1cd636b5",
   "metadata": {
    "deletable": true,
    "editable": true,
    "slideshow": {
     "slide_type": "fragment"
    }
   },
   "source": [
    "- Pattern matching can be done with string methods, but there is often a better approach: **regular expressions**."
   ]
  },
  {
   "cell_type": "code",
   "execution_count": null,
   "id": "80f1181f",
   "metadata": {
    "deletable": true,
    "editable": true,
    "slideshow": {
     "slide_type": ""
    }
   },
   "outputs": [],
   "source": [
    "print(email)"
   ]
  },
  {
   "cell_type": "code",
   "execution_count": null,
   "id": "18f32d86",
   "metadata": {
    "deletable": true,
    "editable": true
   },
   "outputs": [],
   "source": [
    "import re\n",
    "re.findall(r'\\(\\d{3}\\) \\d{3}-\\d{4}', email)"
   ]
  },
  {
   "cell_type": "markdown",
   "id": "a0e08457",
   "metadata": {
    "deletable": true,
    "editable": true,
    "slideshow": {
     "slide_type": "fragment"
    }
   },
   "source": [
    "<center><h3>🤯</h3></center>"
   ]
  },
  {
   "cell_type": "markdown",
   "id": "3770b436",
   "metadata": {
    "deletable": true,
    "editable": true,
    "slideshow": {
     "slide_type": "slide"
    }
   },
   "source": [
    "## Basic regular expressions\n",
    "\n",
    "---"
   ]
  },
  {
   "cell_type": "markdown",
   "id": "cc53e739",
   "metadata": {
    "deletable": true,
    "editable": true,
    "slideshow": {
     "slide_type": "slide"
    }
   },
   "source": [
    "### Regular expressions"
   ]
  },
  {
   "cell_type": "markdown",
   "id": "66644a63",
   "metadata": {
    "deletable": true,
    "editable": true,
    "slideshow": {
     "slide_type": "fragment"
    }
   },
   "source": [
    "- A regular expression, or **regex** for short, is a sequence of characters used to **match patterns in strings**."
   ]
  },
  {
   "cell_type": "markdown",
   "id": "dd6c8eeb",
   "metadata": {
    "deletable": true,
    "editable": true,
    "slideshow": {
     "slide_type": "fragment"
    }
   },
   "source": [
    "- For example, `\\(\\d{3}\\) \\d{3}-\\d{4}` describes a **pattern** that matches US phone numbers of the form `'(XXX) XXX-XXXX'`."
   ]
  },
  {
   "cell_type": "markdown",
   "id": "363db945",
   "metadata": {
    "deletable": true,
    "editable": true,
    "slideshow": {
     "slide_type": "fragment"
    }
   },
   "source": [
    "- Think of regex as a \"mini-language\".<br><small>Formally, they are a **grammar** for describing a language.</small>"
   ]
  },
  {
   "cell_type": "markdown",
   "id": "cce8304c",
   "metadata": {
    "deletable": true,
    "editable": true,
    "slideshow": {
     "slide_type": "fragment"
    }
   },
   "source": [
    "- **Pros ✅**: They are very powerful and are widely used – virtually every programming language has a module for working with them."
   ]
  },
  {
   "cell_type": "markdown",
   "id": "bf5fd98b",
   "metadata": {
    "deletable": true,
    "editable": true,
    "slideshow": {
     "slide_type": "fragment"
    }
   },
   "source": [
    "- **Cons ❌**: They can be hard to read and have many different \"dialects.\""
   ]
  },
  {
   "cell_type": "markdown",
   "id": "7671fa20",
   "metadata": {
    "deletable": true,
    "editable": true,
    "slideshow": {
     "slide_type": "slide"
    }
   },
   "source": [
    "### Writing regular expressions"
   ]
  },
  {
   "cell_type": "markdown",
   "id": "286fb916",
   "metadata": {
    "deletable": true,
    "editable": true,
    "slideshow": {
     "slide_type": "fragment"
    }
   },
   "source": [
    "- You will ultimately write most of your regular expressions in Python, using the `re` module. We will see how to do so shortly."
   ]
  },
  {
   "cell_type": "markdown",
   "id": "e36bcb98",
   "metadata": {
    "deletable": true,
    "editable": true,
    "slideshow": {
     "slide_type": "fragment"
    }
   },
   "source": [
    "- However, a useful tool for designing regular expressions is [**regex101.com**](https://regex101.com)."
   ]
  },
  {
   "cell_type": "markdown",
   "id": "fa7feac4",
   "metadata": {
    "deletable": true,
    "editable": true,
    "slideshow": {
     "slide_type": "fragment"
    }
   },
   "source": [
    "- We will use it heavily during lecture; you should have it open as we work through examples. **If you're trying to revisit this lecture in the future, you'll likely want to watch the recording; just looking at the notebook won't give you enough context.**"
   ]
  },
  {
   "cell_type": "markdown",
   "id": "6250009c",
   "metadata": {
    "deletable": true,
    "editable": true,
    "slideshow": {
     "slide_type": "slide"
    }
   },
   "source": [
    "### Literals\n",
    "\n",
    "- A literal is a character that has no special meaning.\n",
    "\n",
    "- Letters, numbers, and some symbols are all literals.\n",
    "\n",
    "- Some symbols, like `.`, `*`, `(`, and `)`, are special characters.\n",
    "\n",
    "- ***Example***: The regex `hey` matches the string `'hey'`. The regex `he.` also matches the string `'hey'`."
   ]
  },
  {
   "cell_type": "markdown",
   "id": "d7cdf7bf",
   "metadata": {
    "deletable": true,
    "editable": true,
    "slideshow": {
     "slide_type": "slide"
    }
   },
   "source": [
    "### Regex building blocks 🧱\n",
    "\n",
    "The four main building blocks for all regexes are shown below.<br><small><a href=\"https://www.cs.princeton.edu/courses/archive/spring17/cos226/lectures/54RegularExpressions.pdf)\">table source</a>, <a href=\"https://docs.google.com/presentation/d/1xQsqa7e3xDZ9nBiekbSBOecwvQm8pSVGa-FBoV6aJ7E/edit#slide=id.g11197671c7e_0_919\">inspiration</a>.</small>\n",
    "\n",
    "| operation | order of op. | example | matches ✅ | does not match ❌ |\n",
    "|:--- |:---|:---|:---|:---|\n",
    "| <span style='color:purple'><b>concatenation</b></span> | 3 | `AABAAB` | `'AABAAB'` | every other string |\n",
    "| <span style='color:purple'><b>or</b></span> | 4 | `AA\\|BAAB` | `'AA'`, `'BAAB'` | every other string |\n",
    "| <span style='color:purple'><b>closure</b><br>(zero or more)</span> | 2 | `AB*A` | `'AA'`, `'ABBBBBBA'` | `'AB'`, `'ABABA'` |\n",
    "| <span style='color:purple'><b>parentheses</b></span> | 1 | `A(A\\|B)AAB` <hr style=\"height:1px\"> `(AB)*A` | `'AAAAB'`, `'ABAAB'`<hr style=\"height:1px\">`'A'`, `'ABABABABA'` | every other string<hr style=\"height:1px\">`'AA'`, `'ABBA'` |\n",
    "\n",
    "Note that `|`, `(`, `)`, and `*` are **special characters**, not literals. They manipulate the characters around them."
   ]
  },
  {
   "cell_type": "markdown",
   "id": "a243e79c",
   "metadata": {
    "deletable": true,
    "editable": true,
    "slideshow": {
     "slide_type": "slide"
    }
   },
   "source": [
    "***Example (or, parentheses)***:\n",
    "- What does `EECS 280|398` match?\n",
    "- What does `EECS (280|398)` match?"
   ]
  },
  {
   "cell_type": "markdown",
   "id": "012cc554",
   "metadata": {
    "deletable": true,
    "editable": true,
    "slideshow": {
     "slide_type": "slide"
    }
   },
   "source": [
    "***Example (closure, parentheses)***:\n",
    "- What does `eecs*` match?\n",
    "- What does `(eecs)*` match?"
   ]
  },
  {
   "cell_type": "markdown",
   "id": "d6f848d0",
   "metadata": {
    "deletable": true,
    "editable": true,
    "slideshow": {
     "slide_type": "slide"
    }
   },
   "source": [
    "<div class=\"alert alert-success\" markdown=\"1\">\n",
    "    <h3>Activity</h3>\n",
    "\n",
    "Write a regular expression that matches `'billy'`, `'billlly'`, `'billlllly'`, etc.\n",
    "- First, think about how to match strings with any even number of `'l'`s, including zero `'l'`s (i.e. `'biy'`).\n",
    "- Then, think about how to match only strings with a **positive even** number of `'l'`s.\n",
    "\n",
    "</div>\n",
    "\n",
    "<br>\n",
    "\n",
    "<details>\n",
    "<summary>\n",
    "    ✅ Click here to see the answer <b>after</b> you've tried it yourself at <a href='https://regex101.com'>regex101.com</a>.\n",
    "</summary>\n",
    "<code>bi(ll)*y</code> will match any even number of <code>'l'</code>s, including 0.\n",
    "    \n",
    "To match only a positive even number of <code>'l'</code>s, we'd need to first \"fix into place\" two <code>'l'</code>s, and then follow that up with zero or more pairs of <code>'l'</code>s. This specifies the regular expression <code>bill(ll)*y</code>.\n",
    "    </details>"
   ]
  },
  {
   "cell_type": "markdown",
   "id": "2b84c7a5",
   "metadata": {
    "deletable": true,
    "editable": true,
    "slideshow": {
     "slide_type": "slide"
    }
   },
   "source": [
    "<div class=\"alert alert-success\" markdown=\"1\">\n",
    "    <h3>Activity</h3>\n",
    "\n",
    "Write a regular expression that matches `'billy'`, `'billlly'`, `'biggy'`, `'biggggy'`, etc.\n",
    "\n",
    "<br>\n",
    "\n",
    "Specifically, it should match any string with a **positive even** number of `'l'`s in the middle, or a **positive even** number of `'g'`s in the middle.\n",
    "\n",
    "</div>\n",
    "\n",
    "<br>\n",
    "\n",
    "<details>\n",
    "<summary>\n",
    "    ✅ Click here to see the answer <b>after</b> you've tried it yourself at <a href='https://regex101.com'>regex101.com</a>.\n",
    "</summary>\n",
    "\n",
    "Possible answers: <code>bi(ll(ll)\\*|gg(gg)\\*)y</code> or <code>bill(ll)\\*y|bigg(gg)\\*y</code>.\n",
    " \n",
    "<br>\n",
    "\n",
    "Note, <code>bill(ll)\\*|gg(gg)\\*y</code> is <b>not</b> a valid answer! This is because \"concatenation\" comes before \"or\" in the order of operations. This regular expression would match strings that match <code>bill(ll)\\*</code>, like <code>'billll'</code>, OR strings that match <code>gg(gg)\\*y</code>, like <code>'ggy'</code>.\n",
    "\n",
    "    \n",
    "</details>"
   ]
  },
  {
   "cell_type": "markdown",
   "id": "4aa21d34",
   "metadata": {
    "deletable": true,
    "editable": true,
    "slideshow": {
     "slide_type": "slide"
    }
   },
   "source": [
    "## Intermediate regex\n",
    "\n",
    "---"
   ]
  },
  {
   "cell_type": "markdown",
   "id": "7ba9f960",
   "metadata": {
    "deletable": true,
    "editable": true,
    "slideshow": {
     "slide_type": "slide"
    }
   },
   "source": [
    "### More regex syntax\n",
    "\n",
    "| operation | example | matches ✅ | does not match ❌ |\n",
    "|:--- |:---|:---|:---|\n",
    "| <span style='color:purple'><b>wildcard</b></span> | `.U.U.U.` | `'CUMULUS'`<br>`'JUGULUM'` | `'SUCCUBUS'`<br>`'TUMULTUOUS'` |\n",
    "| <span style='color:purple'><b>character class</b></span>  | `[A-Za-z][a-z]*` | `'word'`<br>`'Capitalized'` | `'camelCase'`<br>`'4illegal'` |\n",
    "| <span style='color:purple'><b>at least one</b></span> | `bi(ll)+y` | `'billy'`<br>`'billlllly'` | `'biy'`<br>`'bily'` |\n",
    "| <span style='color:purple'><b>between $i$ and $j$ occurrences</b></span> | `m[aeiou]{1,2}m` | `'mem'`<br>`'maam'`<br>`'miem'` | `'mm'`<br>`'mooom'`<br>`'meme'` |\n",
    "\n",
    "`.`, `[`, `]`, `+`, `{`, and `}` are also special characters, in addition to `|`, `(`, `)`, and `*`."
   ]
  },
  {
   "cell_type": "markdown",
   "id": "6421af4b",
   "metadata": {
    "deletable": true,
    "editable": true,
    "slideshow": {
     "slide_type": "slide"
    }
   },
   "source": [
    "***Example (character classes, at least one)***: `[A-E]+` is just shortform for `(A|B|C|D|E)(A|B|C|D|E)*`."
   ]
  },
  {
   "cell_type": "markdown",
   "id": "1b35a3ed",
   "metadata": {
    "deletable": true,
    "editable": true,
    "slideshow": {
     "slide_type": "slide"
    }
   },
   "source": [
    "***Example (wildcard)***: \n",
    "- What does `.` match? \n",
    "- What does `he.` match? \n",
    "- What does `...` match?"
   ]
  },
  {
   "cell_type": "markdown",
   "id": "7854bfcf",
   "metadata": {
    "deletable": true,
    "editable": true,
    "slideshow": {
     "slide_type": "slide"
    }
   },
   "source": [
    "***Example (at least one, closure)***: \n",
    "- What does `123+` match?\n",
    "- What does `123*` match?"
   ]
  },
  {
   "cell_type": "markdown",
   "id": "a8821044",
   "metadata": {
    "deletable": true,
    "editable": true,
    "slideshow": {
     "slide_type": "slide"
    }
   },
   "source": [
    "***Example (number of occurrences)***: What does `tri{3, 5}` match? Does it match `'triiiii'`?"
   ]
  },
  {
   "cell_type": "markdown",
   "id": "c5696840",
   "metadata": {
    "deletable": true,
    "editable": true,
    "slideshow": {
     "slide_type": "slide"
    }
   },
   "source": [
    "***Example (character classes, number of occurrences)***:\n",
    "What does `[1-6a-f]{3}-[7-9E-S]{2}` match?"
   ]
  },
  {
   "cell_type": "markdown",
   "id": "b9003297",
   "metadata": {
    "deletable": true,
    "editable": true,
    "slideshow": {
     "slide_type": "slide"
    }
   },
   "source": [
    "<div class=\"alert alert-success\" markdown=\"1\">\n",
    "    <h3>Activity</h3>\n",
    "\n",
    "Write a regular expression that matches any lowercase string has a repeated vowel, such as `'noon'`, `'peel'`, `'festoon'`, or `'zeebraa'`.\n",
    "\n",
    "</div>\n",
    "\n",
    "<br>\n",
    "\n",
    "<details>\n",
    "<summary>\n",
    "    ✅ Click here to see the answer <b>after</b> you've tried it yourself at <a href='https://regex101.com'>regex101.com</a>.\n",
    "</summary>\n",
    "\n",
    "One answer: <code>[a-z]\\*(aa|ee|ii|oo|uu)[a-z]\\*</code>\n",
    " \n",
    "<br>\n",
    "\n",
    "This regular expression matches strings of lowercase characters that have <code>'aa'</code>, <code>'ee'</code>, <code>'ii'</code>, <code>'oo'</code>, or <code>'uu'</code> in them anywhere. <code>[a-z]\\*</code> means \"zero or more of any lowercase characters\"; essentially we are saying it doesn't matter what letters come before or after the double vowels, as long as the double vowels exist somewhere.\n",
    "\n",
    "    \n",
    "</details>"
   ]
  },
  {
   "cell_type": "markdown",
   "id": "259a1955",
   "metadata": {
    "deletable": true,
    "editable": true,
    "slideshow": {
     "slide_type": "slide"
    }
   },
   "source": [
    "<div class=\"alert alert-success\" markdown=\"1\">\n",
    "    <h3>Activity</h3>\n",
    "\n",
    "Write a regular expression that matches any string that contains **both** a lowercase letter and a number, in any order. Examples include `'billy398'`, `'398!!billy'`, and `'bil3ly98'`.\n",
    "\n",
    "</div>\n",
    "\n",
    "<br>\n",
    "\n",
    "<details>\n",
    "<summary>\n",
    "    ✅ Click here to see the answer <b>after</b> you've tried it yourself at <a href='https://regex101.com'>regex101.com</a>.\n",
    "</summary>\n",
    "\n",
    "One answer: <code>(.\\*[a-z].\\*[0-9].\\*)|(.\\*[0-9].\\*[a-z].\\*)</code>\n",
    " \n",
    "<br>\n",
    "\n",
    "We can break the above regex into two parts – everything before the `|`, and everything after the `|`.\n",
    "\n",
    "The first part, <code>.\\*[a-z].\\*[0-9].\\*</code>, matches strings in which there is at least one lowercase character and at least one digit, with the lowercase character coming first.\n",
    "\n",
    "The second part, <code>.\\*[0-9].\\*[a-z].\\*</code>, matches strings in which there is at least one lowercase character and at least one digit, with the digit coming first.\n",
    "    \n",
    "Note, the <code>.\\*</code> between the digit and letter classes is needed in the event the string has non-digit and non-letter characters.\n",
    "    \n",
    "<b>This is the kind of task that would be easier to accomplish with regular Python string methods.</b>\n",
    "\n",
    "    \n",
    "</details>"
   ]
  },
  {
   "cell_type": "markdown",
   "id": "e39a14bd",
   "metadata": {
    "deletable": true,
    "editable": true,
    "slideshow": {
     "slide_type": "slide"
    }
   },
   "source": [
    "### Even more regex syntax\n",
    "\n",
    "| operation | example | matches ✅ | does not match ❌ |\n",
    "|:--- |:---|:---|:---|\n",
    "| <span style='color:purple'><b>escape character</b></span> | `umich\\.edu` | `'umich.edu'` | `'umich!edu'` |\n",
    "| <span style='color:purple'><b>beginning of line</b></span> | `^ark` | `'ark two'`<br>`'ark o ark'` | `'dark'` |\n",
    "| <span style='color:purple'><b>end of line</b></span>  | `ark$` | `'dark'`<br>`'ark o ark'` | `'ark two'` |\n",
    "| <span style='color:purple'><b>zero or one</b></span> | `cat?` | `'ca'`<br>`'cat'` | `'cart'` (matches `'ca'` only) |\n",
    "| <span style='color:purple'><b>built-in character classes*</b></span> | `\\w+` <br> `\\d+` | `'billy'`<br>`'231231'` | `'this person'`<br>`'858 people'` |\n",
    "| <span style='color:purple'><b>character class negation</b></span> | `[^a-z]+` | `'WOLVERINE551'`<br>`'1721$$'` | `'porch'`<br>`'billy.edu'` |"
   ]
  },
  {
   "cell_type": "markdown",
   "id": "ef1ad97b",
   "metadata": {
    "deletable": true,
    "editable": true,
    "slideshow": {
     "slide_type": "fragment"
    }
   },
   "source": [
    "****Note***: in Python's implementation of regex,\n",
    "- `\\d` refers to digits.\n",
    "- `\\w` refers to alphanumeric characters (`[A-Z][a-z][0-9]_`). **Whenever we say \"alphanumeric\" in an assignment, we're referring to `\\w`!**\n",
    "- `\\s` refers to whitespace.\n",
    "- `\\b` is a word boundary."
   ]
  },
  {
   "cell_type": "markdown",
   "id": "69f8cae0",
   "metadata": {
    "deletable": true,
    "editable": true,
    "slideshow": {
     "slide_type": "slide"
    }
   },
   "source": [
    "***Example (escaping)***: \n",
    "- What does `he.` match? \n",
    "- What does `he\\.` match? \n",
    "- What does `(734)` match? \n",
    "- What does `\\(734\\)` match?"
   ]
  },
  {
   "cell_type": "markdown",
   "id": "19611201",
   "metadata": {
    "deletable": true,
    "editable": true,
    "slideshow": {
     "slide_type": "slide"
    }
   },
   "source": [
    "***Example (anchors)***: \n",
    "- What does `734-764` match?\n",
    "- What does `^734-764` match?\n",
    "- What does `734-764$` match?"
   ]
  },
  {
   "cell_type": "markdown",
   "id": "19ac4ff5",
   "metadata": {
    "deletable": true,
    "editable": true,
    "slideshow": {
     "slide_type": "slide"
    }
   },
   "source": [
    "***Example (built-in character classes)***:\n",
    "\n",
    "- What does `\\d{3} \\d{3}-\\d{4}` match?\n",
    "- What does `\\bcat\\b` match? Does it find a match in `'my cat is hungry'`? What about `'concatenate'`, `'kitty cat'`, or `'in-the-cat-hat'`?\n",
    "\n",
    "<br><br>\n",
    "\n",
    "Remember, in Python's implementation of regex,\n",
    "- `\\d` refers to digits.\n",
    "- `\\w` refers to alphanumeric characters (`[A-Z][a-z][0-9]_`). **Whenever we say \"alphanumeric\" in an assignment, we're referring to `\\w`!**\n",
    "- `\\s` refers to whitespace.\n",
    "- `\\b` is a word boundary."
   ]
  },
  {
   "cell_type": "markdown",
   "id": "f1adc19a",
   "metadata": {
    "deletable": true,
    "editable": true,
    "slideshow": {
     "slide_type": "slide"
    }
   },
   "source": [
    "<div class=\"alert alert-success\" markdown=\"1\">\n",
    "    <h3>Activity</h3>\n",
    "\n",
    "Write a regular expression that matches any string that:\n",
    "- is between 5 and 10 characters long, and\n",
    "- is made up of only vowels (either uppercase or lowercase, including `'Y'` and `'y'`), periods, and spaces.\n",
    "\n",
    "Examples include `'yoo.ee.IOU'` and `'AI.I oey'`.\n",
    "\n",
    "</div>\n",
    "\n",
    "<br>\n",
    "\n",
    "<details>\n",
    "<summary>\n",
    "    ✅ Click here to see the answer <b>after</b> you've tried it yourself at <a href='https://regex101.com'>regex101.com</a>.\n",
    "</summary>\n",
    "\n",
    "One answer: <code>^[aeiouyAEIOUY. ]{5,10}$</code>\n",
    " \n",
    "<br>\n",
    "\n",
    "<b>Key idea</b>: Within a character class (i.e. <code>[...]</code>), special characters do not generally need to be escaped.\n",
    "\n",
    "\n",
    "    \n",
    "</details>"
   ]
  },
  {
   "cell_type": "markdown",
   "id": "c21cbd84",
   "metadata": {
    "deletable": true,
    "editable": true,
    "slideshow": {
     "slide_type": "slide"
    }
   },
   "source": [
    "<div class=\"alert alert-success\" markdown=\"1\">\n",
    "    <h3>Activity</h3><br><small>This is an old exam question!</small>\n",
    "    \n",
    "```\n",
    "^\\w{2,5}.\\d*\\/[^A-Z5]{1,}\n",
    "```\n",
    "\n",
    "Select all strings below that contain any match with the regular expression above.\n",
    "\n",
    "- `\"billy4/Za\"`\n",
    "- `\"billy4/za\"`\n",
    "- `\"DAI_s2154/pacific\"`\n",
    "- `\"daisy/ZZZZZ\"`\n",
    "- `\"bi_/_lly98\"`\n",
    "- `\"!@__!14/atlantic\"`"
   ]
  },
  {
   "cell_type": "markdown",
   "id": "2726f508",
   "metadata": {
    "deletable": true,
    "editable": true,
    "slideshow": {
     "slide_type": "slide"
    }
   },
   "source": [
    "## Regex in Python\n",
    "\n",
    "---"
   ]
  },
  {
   "cell_type": "markdown",
   "id": "0ad110c2",
   "metadata": {
    "deletable": true,
    "editable": true,
    "slideshow": {
     "slide_type": "slide"
    }
   },
   "source": [
    "### `re` in Python"
   ]
  },
  {
   "cell_type": "markdown",
   "id": "1fea71a5",
   "metadata": {
    "deletable": true,
    "editable": true,
    "slideshow": {
     "slide_type": "fragment"
    }
   },
   "source": [
    "- The `re` module is built into Python. It allows us to use regular expressions to find, extract, and replace strings."
   ]
  },
  {
   "cell_type": "code",
   "execution_count": null,
   "id": "7a3c3d78",
   "metadata": {
    "deletable": true,
    "editable": true,
    "scrolled": false
   },
   "outputs": [],
   "source": [
    "import re"
   ]
  },
  {
   "cell_type": "markdown",
   "id": "4fa3a265",
   "metadata": {
    "deletable": true,
    "editable": true,
    "slideshow": {
     "slide_type": "fragment"
    }
   },
   "source": [
    "- `re.findall` takes in a string `regex` and a string `text` and returns a list of all matches of `regex` in `text`. **You'll use this most often.**"
   ]
  },
  {
   "cell_type": "code",
   "execution_count": null,
   "id": "4d56d8d7",
   "metadata": {
    "deletable": true,
    "editable": true,
    "scrolled": false
   },
   "outputs": [],
   "source": [
    "re.findall('AB*A', \n",
    "           'here is a string for you: ABBBA. here is another: ABBBBBBBA')"
   ]
  },
  {
   "cell_type": "markdown",
   "id": "f507e42e",
   "metadata": {
    "deletable": true,
    "editable": true,
    "slideshow": {
     "slide_type": "fragment"
    }
   },
   "source": [
    "- `re.sub` takes in a string `regex`, a string `repl`, and a string `text`, and replaces all matches of `regex` in `text` with `repl`."
   ]
  },
  {
   "cell_type": "code",
   "execution_count": null,
   "id": "81b0f970",
   "metadata": {
    "deletable": true,
    "editable": true,
    "scrolled": false
   },
   "outputs": [],
   "source": [
    "re.sub('AB*A', \n",
    "       'billy', \n",
    "       'here is a string for you: ABBBA. here is another: ABBBBBBBA')"
   ]
  },
  {
   "cell_type": "markdown",
   "id": "9d5f18fa",
   "metadata": {
    "deletable": true,
    "editable": true,
    "slideshow": {
     "slide_type": "slide"
    }
   },
   "source": [
    "### Raw strings\n",
    "\n",
    "When using regular expressions in Python, it's a good idea to use **raw strings**, denoted by an `r` before the quotes, e.g. `r'exp'`."
   ]
  },
  {
   "cell_type": "code",
   "execution_count": null,
   "id": "8a4ef3d0",
   "metadata": {
    "deletable": true,
    "editable": true,
    "slideshow": {
     "slide_type": "-"
    }
   },
   "outputs": [],
   "source": [
    "re.findall('\\bcat\\b', 'my cat is hungry')"
   ]
  },
  {
   "cell_type": "code",
   "execution_count": null,
   "id": "609df13c",
   "metadata": {
    "deletable": true,
    "editable": true
   },
   "outputs": [],
   "source": [
    "re.findall(r'\\bcat\\b', 'my cat is hungry')"
   ]
  },
  {
   "cell_type": "code",
   "execution_count": null,
   "id": "0d6b2e1c",
   "metadata": {
    "deletable": true,
    "editable": true
   },
   "outputs": [],
   "source": [
    "# Huh?\n",
    "print('\\bcat\\b')"
   ]
  },
  {
   "cell_type": "markdown",
   "id": "885e8523",
   "metadata": {
    "deletable": true,
    "editable": true,
    "slideshow": {
     "slide_type": "slide"
    }
   },
   "source": [
    "### Capture groups"
   ]
  },
  {
   "cell_type": "markdown",
   "id": "ab6a5deb",
   "metadata": {
    "deletable": true,
    "editable": true,
    "slideshow": {
     "slide_type": "fragment"
    }
   },
   "source": [
    "- Surround a regex with `(` and `)` to define a **capture group** within a pattern. Capture groups are useful for extracting relevant parts of a string."
   ]
  },
  {
   "cell_type": "code",
   "execution_count": null,
   "id": "4a5fbf61",
   "metadata": {
    "deletable": true,
    "editable": true,
    "scrolled": false
   },
   "outputs": [],
   "source": [
    "re.findall(r'\\w+@(\\w+)\\.edu', \n",
    "           'my old email was billy@notumich.edu, my new email is notbilly@umich.edu')"
   ]
  },
  {
   "cell_type": "markdown",
   "id": "7fb497b1",
   "metadata": {
    "deletable": true,
    "editable": true,
    "slideshow": {
     "slide_type": "fragment"
    }
   },
   "source": [
    "- Notice what happens if we remove the `(` and `)`!"
   ]
  },
  {
   "cell_type": "code",
   "execution_count": null,
   "id": "0a0bee54",
   "metadata": {
    "deletable": true,
    "editable": true,
    "scrolled": true
   },
   "outputs": [],
   "source": [
    "re.findall(r'\\w+@\\w+\\.edu', \n",
    "           'my old email was billy@notumich.edu, my new email is notbilly@umich.edu')"
   ]
  },
  {
   "cell_type": "markdown",
   "id": "28525733",
   "metadata": {
    "deletable": true,
    "editable": true,
    "slideshow": {
     "slide_type": "fragment"
    }
   },
   "source": [
    "- Earlier, we also saw that parentheses can be used to group parts of a regex together. When using `re.findall`, all groups are treated as capturing groups."
   ]
  },
  {
   "cell_type": "code",
   "execution_count": null,
   "id": "bf1f9ae3",
   "metadata": {
    "deletable": true,
    "editable": true,
    "scrolled": false
   },
   "outputs": [],
   "source": [
    "# A regex that matches strings with two of the same vowel followed by 3 digits.\n",
    "# We only want to capture the digits, but...\n",
    "re.findall(r'(aa|ee|ii|oo|uu)(\\d{3})', 'eeoo124')"
   ]
  },
  {
   "cell_type": "markdown",
   "id": "81e6cfcb",
   "metadata": {
    "deletable": true,
    "editable": true,
    "slideshow": {
     "slide_type": "slide"
    }
   },
   "source": [
    "### Example: Extracting hashtags"
   ]
  },
  {
   "cell_type": "markdown",
   "id": "4892d6a7",
   "metadata": {
    "deletable": true,
    "editable": true,
    "slideshow": {
     "slide_type": "fragment"
    }
   },
   "source": [
    "- The dataset `'data/ira.csv'` contains tweets tagged by Twitter as likely being posted by the [Internet Research Agency](https://en.wikipedia.org/wiki/Internet_Research_Agency), the tweet factory facing allegations for attempting to influence US political elections.<br><small>For more context, read [this Wikipedia article](https://en.wikipedia.org/wiki/Russian_interference_in_the_2016_United_States_elections).</small>"
   ]
  },
  {
   "cell_type": "code",
   "execution_count": null,
   "id": "2814c39f",
   "metadata": {
    "deletable": true,
    "editable": true
   },
   "outputs": [],
   "source": [
    "tweets = pd.read_csv('data/ira.csv', names=['id', 'user', 'time', 'text'])\n",
    "tweets.head()"
   ]
  },
  {
   "cell_type": "code",
   "execution_count": null,
   "id": "bfd7a08d",
   "metadata": {
    "deletable": true,
    "editable": true
   },
   "outputs": [],
   "source": [
    "tweets.shape"
   ]
  },
  {
   "cell_type": "markdown",
   "id": "07c63fca",
   "metadata": {
    "deletable": true,
    "editable": true,
    "slideshow": {
     "slide_type": "fragment"
    }
   },
   "source": [
    "- **Question**: What are the most common hashtags among all 9000 tweets?<br><small>A hashtag is any **alphanumeric string** beginning with `'#'`, e.g. `'#GoBlue'`.</small>"
   ]
  },
  {
   "cell_type": "markdown",
   "id": "40e8b969",
   "metadata": {
    "deletable": true,
    "editable": true,
    "slideshow": {
     "slide_type": "slide"
    }
   },
   "source": [
    "### Extracting hashtags"
   ]
  },
  {
   "cell_type": "markdown",
   "id": "39462675",
   "metadata": {
    "deletable": true,
    "editable": true,
    "slideshow": {
     "slide_type": "fragment"
    }
   },
   "source": [
    "- We can use `re.findall` to find all of the hashtags in a particular string."
   ]
  },
  {
   "cell_type": "code",
   "execution_count": null,
   "id": "bb66db63",
   "metadata": {
    "deletable": true,
    "editable": true
   },
   "outputs": [],
   "source": [
    "example_tweet = tweets['text'].iloc[0]\n",
    "example_tweet"
   ]
  },
  {
   "cell_type": "code",
   "execution_count": null,
   "id": "7fdf9c16",
   "metadata": {
    "deletable": true,
    "editable": true
   },
   "outputs": [],
   "source": [
    "re.findall(r'#(\\w+)', example_tweet) "
   ]
  },
  {
   "cell_type": "code",
   "execution_count": null,
   "id": "e7cd29cd",
   "metadata": {
    "deletable": true,
    "editable": true
   },
   "outputs": [],
   "source": [
    "re.findall(r'#(\\w+)', 'hey there, no hashtags here') "
   ]
  },
  {
   "cell_type": "markdown",
   "id": "5919d0d3",
   "metadata": {
    "deletable": true,
    "editable": true,
    "slideshow": {
     "slide_type": "fragment"
    }
   },
   "source": [
    "- We can use the Series `str.findall` method, with the regular expression above, to extract hashtags out of each tweet in `tweets['text']`."
   ]
  },
  {
   "cell_type": "code",
   "execution_count": null,
   "id": "cc01972e",
   "metadata": {
    "deletable": true,
    "editable": true
   },
   "outputs": [],
   "source": [
    "tags = tweets['text'].str.findall(r'#(\\w+)') \n",
    "tags.head()"
   ]
  },
  {
   "cell_type": "markdown",
   "id": "8e8c6e1d",
   "metadata": {
    "deletable": true,
    "editable": true,
    "slideshow": {
     "slide_type": "fragment"
    }
   },
   "source": [
    "- We can use the `sum()` method on the above Series to concatenate all of these lists into a large list!"
   ]
  },
  {
   "cell_type": "code",
   "execution_count": null,
   "id": "e34a7a30",
   "metadata": {
    "deletable": true,
    "editable": true
   },
   "outputs": [],
   "source": [
    "(\n",
    "    pd.Series(tags.sum())\n",
    "    .value_counts()\n",
    "    .head(15)\n",
    "    .sort_values()\n",
    "    .plot(kind='barh', title='Most Common Hashtags in IRA Tweets')\n",
    ")"
   ]
  },
  {
   "cell_type": "markdown",
   "id": "6526d13e",
   "metadata": {
    "deletable": true,
    "editable": true,
    "slideshow": {
     "slide_type": "slide"
    }
   },
   "source": [
    "### Followup questions"
   ]
  },
  {
   "cell_type": "markdown",
   "id": "98b8aecc",
   "metadata": {
    "deletable": true,
    "editable": true,
    "slideshow": {
     "slide_type": "fragment"
    }
   },
   "source": [
    "- Which accounts were **tagged** most often?<br><small>For example, in the tweet `'I love being a @UMich student'`, user `'UMich'` is tagged.</small>"
   ]
  },
  {
   "cell_type": "markdown",
   "id": "c7013dc6",
   "metadata": {
    "deletable": true,
    "editable": true,
    "slideshow": {
     "slide_type": "fragment"
    }
   },
   "source": [
    "- Which accounts tweeted most often?"
   ]
  },
  {
   "cell_type": "markdown",
   "id": "6e3cca4b",
   "metadata": {
    "deletable": true,
    "editable": true,
    "slideshow": {
     "slide_type": "fragment"
    }
   },
   "source": [
    "- Which websites were **linked** most often?"
   ]
  },
  {
   "cell_type": "markdown",
   "id": "01039d4b",
   "metadata": {
    "deletable": true,
    "editable": true,
    "slideshow": {
     "slide_type": "fragment"
    }
   },
   "source": [
    "- **Why** were these hashtags used by these accounts?<br><small>Again, read the linked Wikipedia article, and do a bit of your own research! These tweets **aren't** by a random sample of Twitter users.</small>"
   ]
  },
  {
   "cell_type": "markdown",
   "id": "c710d5c6",
   "metadata": {
    "deletable": true,
    "editable": true,
    "slideshow": {
     "slide_type": "skip"
    }
   },
   "source": [
    "<div class=\"alert alert-danger\">\n",
    "    \n",
    "#### Reference Slide\n",
    "\n",
    "### Example: Log parsing"
   ]
  },
  {
   "cell_type": "markdown",
   "id": "59d4cebd",
   "metadata": {
    "deletable": true,
    "editable": true,
    "slideshow": {
     "slide_type": "skip"
    }
   },
   "source": [
    "- Web servers typically record every request made of them in the \"logs\"."
   ]
  },
  {
   "cell_type": "code",
   "execution_count": null,
   "id": "a1bde7c7",
   "metadata": {
    "deletable": true,
    "editable": true,
    "scrolled": false,
    "slideshow": {
     "slide_type": "skip"
    }
   },
   "outputs": [],
   "source": [
    "s = '''132.249.20.188 - - [01/Oct/2024:2:36:15 -0400] \"GET /my/home/ HTTP/1.1\" 200 2585'''"
   ]
  },
  {
   "cell_type": "markdown",
   "id": "242aa0c0",
   "metadata": {
    "deletable": true,
    "editable": true,
    "slideshow": {
     "slide_type": "skip"
    }
   },
   "source": [
    "- Let's use our new regex syntax (including capturing groups) to extract the day, month, year, and time from the log string `s`."
   ]
  },
  {
   "cell_type": "code",
   "execution_count": null,
   "id": "b1ba023c",
   "metadata": {
    "deletable": true,
    "editable": true,
    "scrolled": false,
    "slideshow": {
     "slide_type": "skip"
    }
   },
   "outputs": [],
   "source": [
    "exp = '\\[(.+)\\/(.+)\\/(.+):(.+):(.+):(.+) .+\\]'\n",
    "re.findall(exp, s)"
   ]
  },
  {
   "cell_type": "markdown",
   "id": "9d1bd435",
   "metadata": {
    "deletable": true,
    "editable": true,
    "slideshow": {
     "slide_type": "skip"
    }
   },
   "source": [
    "- While above regex works, it is not very **specific**. It _works_ on incorrectly formatted log strings."
   ]
  },
  {
   "cell_type": "code",
   "execution_count": null,
   "id": "96231e30",
   "metadata": {
    "deletable": true,
    "editable": true,
    "scrolled": false,
    "slideshow": {
     "slide_type": "skip"
    }
   },
   "outputs": [],
   "source": [
    "other_s = '[adr/jduy/wffsdffs:r4s4:4wsgdfd:asdf 7]'\n",
    "re.findall(exp, other_s)"
   ]
  },
  {
   "cell_type": "markdown",
   "id": "c58a7aa0",
   "metadata": {
    "deletable": true,
    "editable": true,
    "slideshow": {
     "slide_type": "skip"
    }
   },
   "source": [
    "<div class=\"alert alert-danger\">\n",
    "    \n",
    "#### Reference Slide\n",
    "\n",
    "### The more specific, the better!    "
   ]
  },
  {
   "cell_type": "markdown",
   "id": "b139913a",
   "metadata": {
    "deletable": true,
    "editable": true,
    "slideshow": {
     "slide_type": "skip"
    }
   },
   "source": [
    "- Be as specific in your pattern matching as possible – you don't want to match and extract strings that don't fit the pattern you care about.<br><small>`.*` matches every possible string, but we don't use it very often.</small>"
   ]
  },
  {
   "cell_type": "markdown",
   "id": "7985c55a",
   "metadata": {
    "deletable": true,
    "editable": true,
    "slideshow": {
     "slide_type": "skip"
    }
   },
   "source": [
    "- A better date extraction regex:\n",
    "    ```\n",
    "    \\[(\\d{2})\\/([A-Z]{1}[a-z]{2})\\/(\\d{4}):(\\d{2}):(\\d{2}):(\\d{2}) -\\d{4}\\]\n",
    "    ```\n",
    "    - `\\d{2}` matches any 2-digit number.\n",
    "    - `[A-Z]{1}` matches any single occurrence of any uppercase letter.\n",
    "    - `[a-z]{2}` matches any 2 consecutive occurrences of lowercase letters.\n",
    "    - Remember, special characters (`[`, `]`, `/`) need to be escaped with `\\`."
   ]
  },
  {
   "cell_type": "code",
   "execution_count": null,
   "id": "512ce8f5",
   "metadata": {
    "deletable": true,
    "editable": true,
    "scrolled": false,
    "slideshow": {
     "slide_type": "skip"
    }
   },
   "outputs": [],
   "source": [
    "s"
   ]
  },
  {
   "cell_type": "code",
   "execution_count": null,
   "id": "c14def5d",
   "metadata": {
    "deletable": true,
    "editable": true,
    "scrolled": false,
    "slideshow": {
     "slide_type": "skip"
    }
   },
   "outputs": [],
   "source": [
    "new_exp = '\\[(\\d{2})\\/([A-Z]{1}[a-z]{2})\\/(\\d{4}):(\\d{2}):(\\d{2}):(\\d{2}) -\\d{4}\\]'\n",
    "re.findall(new_exp, s)"
   ]
  },
  {
   "cell_type": "markdown",
   "id": "dbcf7143",
   "metadata": {
    "deletable": true,
    "editable": true,
    "slideshow": {
     "slide_type": "skip"
    }
   },
   "source": [
    "- A benefit of `new_exp` over `exp` is that it doesn't capture anything when the string doesn't follow the format we specified."
   ]
  },
  {
   "cell_type": "code",
   "execution_count": null,
   "id": "0dff04b7",
   "metadata": {
    "deletable": true,
    "editable": true,
    "scrolled": true,
    "slideshow": {
     "slide_type": "skip"
    }
   },
   "outputs": [],
   "source": [
    "other_s"
   ]
  },
  {
   "cell_type": "code",
   "execution_count": null,
   "id": "0e31379b",
   "metadata": {
    "deletable": true,
    "editable": true,
    "scrolled": false,
    "slideshow": {
     "slide_type": "skip"
    }
   },
   "outputs": [],
   "source": [
    "re.findall(new_exp, other_s)"
   ]
  }
 ],
 "metadata": {
  "celltoolbar": "None",
  "kernelspec": {
   "display_name": "Python 3 (ipykernel)",
   "language": "python",
   "name": "python3"
  },
  "language_info": {
   "codemirror_mode": {
    "name": "ipython",
    "version": 3
   },
   "file_extension": ".py",
   "mimetype": "text/x-python",
   "name": "python",
   "nbconvert_exporter": "python",
   "pygments_lexer": "ipython3",
   "version": "3.10.14"
  },
  "livereveal": {
   "scroll": true
  },
  "rise": {
   "transition": "none"
  }
 },
 "nbformat": 4,
 "nbformat_minor": 5
}
