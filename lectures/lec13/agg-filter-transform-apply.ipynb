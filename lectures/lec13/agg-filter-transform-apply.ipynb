{
 "cells": [
  {
   "cell_type": "markdown",
   "id": "a9530b71",
   "metadata": {},
   "source": [
    "# `agg`, `filter`, `transform`, and `apply` GroupBy Methods\n",
    "\n",
    "## EECS 398-003: Practical Data Science, Fall 2024\n",
    "\n",
    "### Live from Office Hours\n",
    "\n",
    "In office hours on Tuesday, October 8th, we walked through examples of how `agg`, `filter`, `transform`, and `apply` work. Watch a walkthrough of the notebook here: https://www.loom.com/share/4171bfc0e71c4722b10a6c8472d08cb5?sid=2dde2a35-e2a1-4619-8a16-5efb8570362d."
   ]
  },
  {
   "cell_type": "code",
   "execution_count": null,
   "id": "c68163ad",
   "metadata": {},
   "outputs": [],
   "source": [
    "import pandas as pd\n",
    "import numpy as np\n",
    "import plotly.express as px\n",
    "import seaborn as sns"
   ]
  },
  {
   "cell_type": "code",
   "execution_count": null,
   "id": "d9f7dbf8",
   "metadata": {},
   "outputs": [],
   "source": [
    "penguins = sns.load_dataset('penguins').dropna()\n",
    "penguins"
   ]
  },
  {
   "cell_type": "markdown",
   "id": "63635ee0",
   "metadata": {},
   "source": [
    "## agg\n",
    "\n",
    "---"
   ]
  },
  {
   "cell_type": "markdown",
   "id": "ee3b5956",
   "metadata": {},
   "source": [
    "Average bill length per species."
   ]
  },
  {
   "cell_type": "code",
   "execution_count": null,
   "id": "c46d83ba",
   "metadata": {},
   "outputs": [],
   "source": [
    "penguins.groupby('species')['bill_length_mm'].mean()"
   ]
  },
  {
   "cell_type": "markdown",
   "id": "fa27cd40",
   "metadata": {},
   "source": [
    "Average bill length and average bill depth per species."
   ]
  },
  {
   "cell_type": "code",
   "execution_count": null,
   "id": "ae7273c4",
   "metadata": {},
   "outputs": [],
   "source": [
    "penguins.groupby('species')[['bill_length_mm', 'bill_depth_mm']].mean()"
   ]
  },
  {
   "cell_type": "code",
   "execution_count": null,
   "id": "e72e0d98",
   "metadata": {},
   "outputs": [],
   "source": [
    "# penguins.groupby('species').mean() # Need to select relevant columns first!"
   ]
  },
  {
   "cell_type": "code",
   "execution_count": null,
   "id": "fb289287",
   "metadata": {},
   "outputs": [],
   "source": [
    "penguins.groupby('species')['bill_length_mm'].agg(['min', 'max'])"
   ]
  },
  {
   "cell_type": "code",
   "execution_count": null,
   "id": "17e98b11",
   "metadata": {},
   "outputs": [],
   "source": [
    "penguins.groupby('species').agg({'bill_length_mm': ['max', 'min'],\n",
    "                                 'bill_depth_mm': 'min',\n",
    "                                 'island': 'nunique'})"
   ]
  },
  {
   "cell_type": "code",
   "execution_count": null,
   "id": "2b0496c1",
   "metadata": {},
   "outputs": [],
   "source": [
    "penguins.groupby('species')['bill_length_mm'].mean()"
   ]
  },
  {
   "cell_type": "markdown",
   "id": "95506284",
   "metadata": {},
   "source": [
    "If giving `agg` a function, the function should:\n",
    "- Take in a Series.\n",
    "- Return a single value."
   ]
  },
  {
   "cell_type": "code",
   "execution_count": null,
   "id": "83663778",
   "metadata": {},
   "outputs": [],
   "source": [
    "(\n",
    "    penguins\n",
    "    .groupby('species')\n",
    "    ['bill_length_mm']\n",
    "    .agg(lambda s: np.percentile(s, 75) - np.percentile(s, 25))\n",
    ")"
   ]
  },
  {
   "cell_type": "markdown",
   "id": "8f5bc8ed",
   "metadata": {},
   "source": [
    "## filter\n",
    "\n",
    "---\n",
    "\n",
    "- Querying: Keeping **rows** that satisfy conditions.\n",
    "- Filtering: Keeping **groups** that satisfy conditions."
   ]
  },
  {
   "cell_type": "markdown",
   "id": "4a8cfd46",
   "metadata": {},
   "source": [
    "Show me the penguins that have a bill length over 40 mm."
   ]
  },
  {
   "cell_type": "code",
   "execution_count": null,
   "id": "ccc664b6",
   "metadata": {},
   "outputs": [],
   "source": [
    "penguins[penguins['bill_length_mm'] > 40]"
   ]
  },
  {
   "cell_type": "markdown",
   "id": "af34128a",
   "metadata": {},
   "source": [
    "Show me the **species** with an average bill length over 40 mm."
   ]
  },
  {
   "cell_type": "code",
   "execution_count": null,
   "id": "933bc668",
   "metadata": {},
   "outputs": [],
   "source": [
    "penguins"
   ]
  },
  {
   "cell_type": "markdown",
   "id": "2cd31ff8",
   "metadata": {},
   "source": [
    "`filter` takes in a function, that:\n",
    "- Takes in a DataFrame.\n",
    "- Returns a BOOLEAN."
   ]
  },
  {
   "cell_type": "code",
   "execution_count": null,
   "id": "6b96a838",
   "metadata": {
    "scrolled": false
   },
   "outputs": [],
   "source": [
    "penguins.groupby('species').filter(lambda df: df['bill_length_mm'].mean() > 40)"
   ]
  },
  {
   "cell_type": "code",
   "execution_count": null,
   "id": "4522e11a",
   "metadata": {},
   "outputs": [],
   "source": [
    "mean_lengths = penguins.groupby('species')['bill_length_mm'].mean()"
   ]
  },
  {
   "cell_type": "code",
   "execution_count": null,
   "id": "569a00e3",
   "metadata": {},
   "outputs": [],
   "source": [
    "mean_lengths"
   ]
  },
  {
   "cell_type": "code",
   "execution_count": null,
   "id": "a37e97ea",
   "metadata": {},
   "outputs": [],
   "source": [
    "mean_lengths[mean_lengths > 40].index"
   ]
  },
  {
   "cell_type": "code",
   "execution_count": null,
   "id": "441f8cb9",
   "metadata": {},
   "outputs": [],
   "source": [
    "penguins[penguins['species'].isin(mean_lengths[mean_lengths > 40].index)]"
   ]
  },
  {
   "cell_type": "markdown",
   "id": "5c3e8191",
   "metadata": {},
   "source": [
    "Here, the function that `filter` accepts:\n",
    "- Takes in a **Series** (which we've still called `df`).\n",
    "- Returns a BOOLEAN."
   ]
  },
  {
   "cell_type": "code",
   "execution_count": null,
   "id": "bb9a8ce3",
   "metadata": {},
   "outputs": [],
   "source": [
    "penguins.groupby('species')['bill_length_mm'].filter(lambda df: df.mean() > 40)"
   ]
  },
  {
   "cell_type": "markdown",
   "id": "7bd69024",
   "metadata": {},
   "source": [
    "## transform\n",
    "\n",
    "---"
   ]
  },
  {
   "cell_type": "code",
   "execution_count": null,
   "id": "fbb40510",
   "metadata": {},
   "outputs": [],
   "source": [
    "penguins"
   ]
  },
  {
   "cell_type": "code",
   "execution_count": null,
   "id": "48e5bda8",
   "metadata": {},
   "outputs": [],
   "source": [
    "penguins = sns.load_dataset('penguins')\n",
    "penguins"
   ]
  },
  {
   "cell_type": "code",
   "execution_count": null,
   "id": "a11b190a",
   "metadata": {
    "scrolled": true
   },
   "outputs": [],
   "source": [
    "penguins.isna().sum()"
   ]
  },
  {
   "cell_type": "markdown",
   "id": "4e60db11",
   "metadata": {},
   "source": [
    "$$\\text{z-score} = \\frac{\\text{value} - \\text{mean of column}}{\\text{SD of column}}$$"
   ]
  },
  {
   "cell_type": "code",
   "execution_count": null,
   "id": "292f926b",
   "metadata": {},
   "outputs": [],
   "source": [
    "def z_score(col):\n",
    "    return (col - col.mean()) / col.std()"
   ]
  },
  {
   "cell_type": "code",
   "execution_count": null,
   "id": "8eefcee1",
   "metadata": {},
   "outputs": [],
   "source": [
    "z_score(penguins['bill_length_mm'])"
   ]
  },
  {
   "cell_type": "markdown",
   "id": "58883f42",
   "metadata": {},
   "source": [
    "$z$-scoring the bill lengths, **separately** for each species. That is, when doing the transformation for a particular species, it only uses the mean and SD for that species, not all penguins overall."
   ]
  },
  {
   "cell_type": "code",
   "execution_count": null,
   "id": "84107fe6",
   "metadata": {},
   "outputs": [],
   "source": [
    "penguins.groupby('species')['bill_length_mm'].transform(z_score)"
   ]
  },
  {
   "cell_type": "markdown",
   "id": "eb0f3717",
   "metadata": {},
   "source": [
    "`transform` takes in a function, that:\n",
    "- Takes in a Series.\n",
    "- Returns a Series."
   ]
  },
  {
   "cell_type": "markdown",
   "id": "b7f6f3ce",
   "metadata": {},
   "source": [
    "## apply\n",
    "\n",
    "---"
   ]
  },
  {
   "cell_type": "code",
   "execution_count": null,
   "id": "05414db6",
   "metadata": {},
   "outputs": [],
   "source": [
    "penguins.groupby('species').apply(lambda df: df['bill_length_mm'].max())"
   ]
  },
  {
   "cell_type": "markdown",
   "id": "ee04f465",
   "metadata": {},
   "source": [
    "equivalent to:"
   ]
  },
  {
   "cell_type": "code",
   "execution_count": null,
   "id": "eee392fc",
   "metadata": {},
   "outputs": [],
   "source": [
    "penguins.groupby('species')['bill_length_mm'].max()"
   ]
  },
  {
   "cell_type": "markdown",
   "id": "1dc7ca6d",
   "metadata": {},
   "source": [
    "The bill length of the second heaviest penguin per species."
   ]
  },
  {
   "cell_type": "code",
   "execution_count": null,
   "id": "8ca259d1",
   "metadata": {},
   "outputs": [],
   "source": [
    "def bill_length_of_second_heaviest(df):\n",
    "    return df.sort_values('body_mass_g', ascending=False).iloc[1].loc['bill_length_mm']"
   ]
  },
  {
   "cell_type": "code",
   "execution_count": null,
   "id": "bb3afb67",
   "metadata": {},
   "outputs": [],
   "source": [
    "bill_length_of_second_heaviest(penguins)"
   ]
  },
  {
   "cell_type": "markdown",
   "id": "955fabb8",
   "metadata": {},
   "source": [
    "In this case, `apply` is taking in a function, that:\n",
    "- Takes in a DataFrame.\n",
    "- Returns a number. (but it could also return something else!)"
   ]
  },
  {
   "cell_type": "code",
   "execution_count": null,
   "id": "79bd2a1d",
   "metadata": {
    "scrolled": false
   },
   "outputs": [],
   "source": [
    "penguins.groupby('species').apply(bill_length_of_second_heaviest)"
   ]
  },
  {
   "cell_type": "markdown",
   "id": "5a3f9c52",
   "metadata": {},
   "source": [
    "Find me all the rows for the three heaviest penguins per species."
   ]
  },
  {
   "cell_type": "code",
   "execution_count": null,
   "id": "ed78c092",
   "metadata": {},
   "outputs": [],
   "source": [
    "def three_heaviest_penguins(penguins):\n",
    "    return penguins.sort_values('body_mass_g', ascending=False).head(3)"
   ]
  },
  {
   "cell_type": "code",
   "execution_count": null,
   "id": "e3747388",
   "metadata": {},
   "outputs": [],
   "source": [
    "three_heaviest_penguins(penguins)"
   ]
  },
  {
   "cell_type": "markdown",
   "id": "dcd149a6",
   "metadata": {},
   "source": [
    "In this case, `apply` takes in a function that:\n",
    "- Takes in a DataFrame.\n",
    "- Returns a DataFrame."
   ]
  },
  {
   "cell_type": "code",
   "execution_count": null,
   "id": "dca5440d",
   "metadata": {},
   "outputs": [],
   "source": [
    "penguins.groupby('species').apply(three_heaviest_penguins)"
   ]
  },
  {
   "cell_type": "markdown",
   "id": "06d85f0c",
   "metadata": {},
   "source": [
    "Moral of the story: `apply` is more general purpose than `agg`/`transform` (I believe `filter` is an edge-case)."
   ]
  },
  {
   "cell_type": "code",
   "execution_count": null,
   "id": "bf0ad60f",
   "metadata": {},
   "outputs": [],
   "source": [
    "penguins"
   ]
  },
  {
   "cell_type": "code",
   "execution_count": null,
   "id": "a818ebd5",
   "metadata": {},
   "outputs": [],
   "source": [
    "penguins['species'].str[0]"
   ]
  },
  {
   "cell_type": "code",
   "execution_count": null,
   "id": "114babee",
   "metadata": {},
   "outputs": [],
   "source": [
    "penguins.assign(first_letter_of_species = penguins['species'].str[0])"
   ]
  }
 ],
 "metadata": {
  "kernelspec": {
   "display_name": "Python 3 (ipykernel)",
   "language": "python",
   "name": "python3"
  },
  "language_info": {
   "codemirror_mode": {
    "name": "ipython",
    "version": 3
   },
   "file_extension": ".py",
   "mimetype": "text/x-python",
   "name": "python",
   "nbconvert_exporter": "python",
   "pygments_lexer": "ipython3",
   "version": "3.10.14"
  }
 },
 "nbformat": 4,
 "nbformat_minor": 5
}
