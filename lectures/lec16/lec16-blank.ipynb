{
 "cells": [
  {
   "cell_type": "code",
   "execution_count": null,
   "id": "bc0cf3fa",
   "metadata": {
    "deletable": true,
    "editable": true
   },
   "outputs": [],
   "source": [
    "from lec_utils import *"
   ]
  },
  {
   "cell_type": "markdown",
   "id": "cc9bf6de",
   "metadata": {
    "deletable": true,
    "editable": true
   },
   "source": [
    "<div class=\"alert alert-info\" markdown=\"1\">\n",
    "\n",
    "#### Lecture 16 Supplementary Notebook\n",
    "\n",
    "# Regression using Linear Algebra\n",
    "\n",
    "### EECS 398-003: Practical Data Science, Fall 2024\n",
    "\n",
    "<small><a style=\"text-decoration: none\" href=\"https://practicaldsc.org\">practicaldsc.org</a> • <a style=\"text-decoration: none\" href=\"https://github.com/practicaldsc/fa24\">github.com/practicaldsc/fa24</a></small>\n",
    "    \n",
    "</div>\n",
    "\n",
    "<div class=\"alert alert-warning\">\n",
    "\n",
    "**Note**: This notebook is only a supplementary notebook to the main lecture slides, which are in PDF form.\n",
    "\n",
    "The main lecture slides can be found at [practicaldsc.org](https://practicaldsc.org) under Lecture 16. (After the live lecture, an annotated version of the slides will be made available as well.)\n",
    "    \n",
    "</div>"
   ]
  },
  {
   "cell_type": "markdown",
   "id": "4689fec9",
   "metadata": {
    "deletable": true,
    "editable": true
   },
   "source": [
    "Let's once again load in the commute times dataset as a DataFrame."
   ]
  },
  {
   "cell_type": "code",
   "execution_count": null,
   "id": "4f7aa816",
   "metadata": {
    "deletable": true,
    "editable": true
   },
   "outputs": [],
   "source": [
    "df = pd.read_csv('data/commute-times.csv')\n",
    "df.head()"
   ]
  },
  {
   "cell_type": "markdown",
   "id": "0dab9287",
   "metadata": {
    "deletable": true,
    "editable": true
   },
   "source": [
    "There are many columns in here, but the only ones we're interested in for now are `'departure_hour'` and `'minutes'`."
   ]
  },
  {
   "cell_type": "code",
   "execution_count": null,
   "id": "effd8ce5",
   "metadata": {
    "deletable": true,
    "editable": true
   },
   "outputs": [],
   "source": [
    "df[['departure_hour', 'minutes']]"
   ]
  },
  {
   "cell_type": "code",
   "execution_count": null,
   "id": "fe484341",
   "metadata": {
    "deletable": true,
    "editable": true
   },
   "outputs": [],
   "source": [
    "fig = px.scatter(df,\n",
    "           x='departure_hour',\n",
    "           y='minutes',\n",
    "           size=np.ones(len(df)) * 50,\n",
    "           size_max=8)\n",
    "fig.update_xaxes(title='Home Departure Time (AM)')\n",
    "fig.update_yaxes(title='Minutes')\n",
    "fig.update_layout(title='Commuting Time vs. Home Departure Time')\n",
    "fig.update_layout(width=700)"
   ]
  },
  {
   "cell_type": "markdown",
   "id": "f6836e97",
   "metadata": {
    "deletable": true,
    "editable": true
   },
   "source": [
    "## Finding the Regression Line, Using the Old Formulas\n",
    "\n",
    "---\n",
    "\n",
    "Recall, the formulas for the optimal intercept ($w_0^*$) and slope ($w_1^*$) are\n",
    "\n",
    "$$w_1^* = r \\frac{\\sigma_y}{\\sigma_x}$$\n",
    "\n",
    "$$w_0^* = \\bar{y} - w_1^* \\bar{x}$$"
   ]
  },
  {
   "cell_type": "code",
   "execution_count": null,
   "id": "54a117b5",
   "metadata": {
    "deletable": true,
    "editable": true
   },
   "outputs": [],
   "source": [
    "def slope(x, y):\n",
    "    return np.corrcoef(x, y)[0, 1] * np.std(y) / np.std(x)"
   ]
  },
  {
   "cell_type": "code",
   "execution_count": null,
   "id": "5cf9d8f4",
   "metadata": {
    "deletable": true,
    "editable": true
   },
   "outputs": [],
   "source": [
    "def intercept(x, y):\n",
    "    return np.mean(y) - slope(x, y) * np.mean(x)"
   ]
  },
  {
   "cell_type": "code",
   "execution_count": null,
   "id": "be7a7cd5",
   "metadata": {
    "deletable": true,
    "editable": true
   },
   "outputs": [],
   "source": [
    "w0_star = intercept(df['departure_hour'], df['minutes'])\n",
    "w1_star = slope(df['departure_hour'], df['minutes'])\n",
    "# Just fancy printing – ignore these next two lines.\n",
    "rule_string = ('$$\\\\text{Predicted Commute Time (in Minutes)} = ' + \n",
    "               f'{round(w0_star, 2)} + {round(w1_star, 2)}' + \n",
    "               '\\cdot \\\\left( \\\\text{Departure Hour} \\\\right)$$')\n",
    "display(HTML(f'<h4>The best linear predictor for this dataset is</h4><br><center>{rule_string}</center>'))"
   ]
  },
  {
   "cell_type": "code",
   "execution_count": null,
   "id": "422f505d",
   "metadata": {
    "deletable": true,
    "editable": true
   },
   "outputs": [],
   "source": [
    "hline = px.line(x=[5.5, 11.5], y=[97.405, 48.265]).update_traces(line={'color': 'red', 'width': 4})\n",
    "fline1 = go.Figure(fig.data + hline.data)\n",
    "fline1.update_xaxes(title='Home Departure Time (AM)')\n",
    "fline1.update_yaxes(title='Minutes')\n",
    "fline1.update_layout(title='<span style=\"color:red\">Predicted Commute Time</span> = 142.45 - 8.19 * Departure Hour')\n",
    "fline1.update_layout(width=700, margin={'t': 60})"
   ]
  },
  {
   "cell_type": "markdown",
   "id": "0a877bd5",
   "metadata": {
    "deletable": true,
    "editable": true
   },
   "source": [
    "Now that we have $w_0^*$ and $w_1^*$, we can use them to make predictions."
   ]
  },
  {
   "cell_type": "code",
   "execution_count": null,
   "id": "f3543c19",
   "metadata": {
    "deletable": true,
    "editable": true
   },
   "outputs": [],
   "source": [
    "# The predicted commute time if I leave at 8:30AM.\n",
    "w0_star + w1_star * 8.5"
   ]
  },
  {
   "cell_type": "markdown",
   "id": "bc025da4",
   "metadata": {
    "deletable": true,
    "editable": true
   },
   "source": [
    "## Finding the Regression Line, Using the Normal Equations\n",
    "\n",
    "---\n",
    "\n",
    "Using our linear algebraic formulation, the optimal intercept and slope are given by the vector $\\vec{w}^*$, where:\n",
    "\n",
    "$$\\vec{w}^* = ({X^TX})^{-1} X^T\\vec{y}$$\n",
    "\n",
    "Here:\n",
    "- $X$ is a $n \\times 2$ matrix, called the **design matrix**, defined as:\n",
    "\n",
    "$${ X} = \\begin{bmatrix} { 1} & { x_1} \\\\ { 1} & { x_2} \\\\ \\vdots & \\vdots \\\\ { 1} & { x_n} \\end{bmatrix}$$\n",
    "\n",
    "- $\\vec{y}$ is a $n$-dimensional vector, called the **observation vector**, defined as:\n",
    "\n",
    "$$\\vec{y} = \\begin{bmatrix} y_1 \\\\ y_2 \\\\ \\vdots \\\\ y_n \\end{bmatrix}$$\n",
    "\n",
    "Let's construct $X$ and $y$ in code.\n",
    "\n",
    "First, the design matrix."
   ]
  },
  {
   "cell_type": "code",
   "execution_count": null,
   "id": "a98db10f",
   "metadata": {
    "deletable": true,
    "editable": true
   },
   "outputs": [],
   "source": [
    "# Create a new DataFrame by taking the 'departure_hour' column from df.\n",
    "X = df[['departure_hour']].copy()\n",
    "X"
   ]
  },
  {
   "cell_type": "code",
   "execution_count": null,
   "id": "9f258c7c",
   "metadata": {
    "deletable": true,
    "editable": true
   },
   "outputs": [],
   "source": [
    "# Add a column of all 1s to X.\n",
    "X['1'] = 1\n",
    "X"
   ]
  },
  {
   "cell_type": "code",
   "execution_count": null,
   "id": "19fb637b",
   "metadata": {
    "deletable": true,
    "editable": true
   },
   "outputs": [],
   "source": [
    "# Change the order of the columns and convert to an array.\n",
    "X = X[['1', 'departure_hour']].to_numpy()\n",
    "X"
   ]
  },
  {
   "cell_type": "markdown",
   "id": "1bb28b23",
   "metadata": {
    "deletable": true,
    "editable": true
   },
   "source": [
    "$\\vec{y}$ is already created for us: it's just the `'minutes'` column in `df`."
   ]
  },
  {
   "cell_type": "code",
   "execution_count": null,
   "id": "da5298fd",
   "metadata": {
    "deletable": true,
    "editable": true
   },
   "outputs": [],
   "source": [
    "y = df['minutes'].to_numpy()\n",
    "y"
   ]
  },
  {
   "cell_type": "markdown",
   "id": "87079475",
   "metadata": {
    "deletable": true,
    "editable": true
   },
   "source": [
    "Now, let's implement:\n",
    "\n",
    "$$\\vec{w}^* = ({X^TX})^{-1} X^T\\vec{y}$$"
   ]
  },
  {
   "cell_type": "code",
   "execution_count": null,
   "id": "2b66bc16",
   "metadata": {
    "deletable": true,
    "editable": true
   },
   "outputs": [],
   "source": [
    "# The @ symbol performs matrix multiplication!\n",
    "w_star_linalg = ...\n",
    "w_star_linalg"
   ]
  },
  {
   "cell_type": "markdown",
   "id": "659b5b96",
   "metadata": {
    "deletable": true,
    "editable": true
   },
   "source": [
    "These numbers look familiar!"
   ]
  },
  {
   "cell_type": "code",
   "execution_count": null,
   "id": "8f79daae",
   "metadata": {
    "deletable": true,
    "editable": true
   },
   "outputs": [],
   "source": [
    "# Old formulas.\n",
    "w0_star, w1_star"
   ]
  },
  {
   "cell_type": "markdown",
   "id": "023a5eca",
   "metadata": {
    "deletable": true,
    "editable": true
   },
   "source": [
    "Indeed, they're exactly the same as the `w0_star` and `w1_star` we found using our old formulas."
   ]
  },
  {
   "cell_type": "markdown",
   "id": "02695594",
   "metadata": {
    "deletable": true,
    "editable": true
   },
   "source": [
    "## Making Predictions\n",
    "\n",
    "---\n",
    "\n",
    "We know how to make predictions with the old formulas:"
   ]
  },
  {
   "cell_type": "code",
   "execution_count": null,
   "id": "d2b9d40d",
   "metadata": {
    "deletable": true,
    "editable": true
   },
   "outputs": [],
   "source": [
    "# The predicted commute time if I leave at 8:30AM.\n",
    "..."
   ]
  },
  {
   "cell_type": "markdown",
   "id": "5d4dd18c",
   "metadata": {
    "deletable": true,
    "editable": true
   },
   "source": [
    "How do we make predictions with the new formulas?\n",
    "\n",
    "To find the predicted commute time for every departure hour in our dataset, we can multiply $X$ by the optimal parameter vector, $\\vec{w}^*$.\n",
    "\n",
    "$$\\vec{h}^* = X \\vec{w}^*$$\n",
    "\n",
    "$\\vec{h}^*$ above is the optimal **hypothesis vector**."
   ]
  },
  {
   "cell_type": "code",
   "execution_count": null,
   "id": "3d1110dc",
   "metadata": {
    "deletable": true,
    "editable": true
   },
   "outputs": [],
   "source": [
    "all_preds = ...\n",
    "all_preds"
   ]
  },
  {
   "cell_type": "markdown",
   "id": "2d3dd8a7",
   "metadata": {
    "deletable": true,
    "editable": true
   },
   "source": [
    "To make a prediction for a single data point, we must take the **dot product** of the optimal parameter vector, $\\vec{w}^*$ (`w_star_linalg`) with a vector of the form $\\begin{bmatrix} 1 & x_\\text{new} \\end{bmatrix}^T$, since this is what the rows of $X$ look like."
   ]
  },
  {
   "cell_type": "code",
   "execution_count": null,
   "id": "b9acd924",
   "metadata": {
    "deletable": true,
    "editable": true
   },
   "outputs": [],
   "source": [
    "# Also the predicted commute time if I leave at 8:30AM.\n",
    "..."
   ]
  },
  {
   "cell_type": "markdown",
   "id": "1928ba12",
   "metadata": {
    "deletable": true,
    "editable": true
   },
   "source": [
    "This gives us the same prediction as before!"
   ]
  },
  {
   "cell_type": "markdown",
   "id": "e9f64d3d",
   "metadata": {
    "deletable": true,
    "editable": true
   },
   "source": [
    "## Multiple Linear Regression\n",
    "\n",
    "---\n",
    "\n",
    "Previously, with simple linear regression, our goal was to **fit** a hypothesis function of the form:\n",
    "\n",
    "$$\\begin{align*}\\text{pred. commute} &= H(\\text{departure hour}) \\\\ &= w_0 + w_1 \\cdot \\text{departure hour} \\end{align*}$$\n",
    "\n",
    "Now, we'll try and fit a linear regression model of the form:\n",
    "\n",
    "$$\\begin{align*}\\text{pred. commute} &= H(\\text{departure hour}) \\\\ &= w_0 + w_1 \\cdot \\text{departure hour} + w_2 \\cdot \\text{day of month} \\end{align*}$$"
   ]
  },
  {
   "cell_type": "code",
   "execution_count": null,
   "id": "6b7fbe93",
   "metadata": {
    "deletable": true,
    "editable": true
   },
   "outputs": [],
   "source": [
    "df['date']"
   ]
  },
  {
   "cell_type": "code",
   "execution_count": null,
   "id": "39c2923b",
   "metadata": {
    "deletable": true,
    "editable": true
   },
   "outputs": [],
   "source": [
    "df['day_of_month'] = pd.to_datetime(df['date']).dt.day"
   ]
  },
  {
   "cell_type": "code",
   "execution_count": null,
   "id": "bc000fa1",
   "metadata": {
    "deletable": true,
    "editable": true
   },
   "outputs": [],
   "source": [
    "df[['departure_hour', 'day_of_month', 'minutes']]"
   ]
  },
  {
   "cell_type": "markdown",
   "id": "b723353c",
   "metadata": {
    "deletable": true,
    "editable": true
   },
   "source": [
    "Let's create our new design matrix, $X$:\n",
    "\n",
    "$$X = \\begin{bmatrix}\n",
    "\t\t1      & \\text{departure hour}_1 & \\text{day}_1   \\\\\n",
    "\t\t1      & \\text{departure hour}_2 & \\text{day}_2    \\\\\n",
    "\t\t... & ... & ... \\\\\n",
    "\t\t1      & \\text{departure hour}_n & \\text{day}_n\n",
    "\t\\end{bmatrix}$$"
   ]
  },
  {
   "cell_type": "code",
   "execution_count": null,
   "id": "1acd3c85",
   "metadata": {
    "deletable": true,
    "editable": true
   },
   "outputs": [],
   "source": [
    "X = df[['departure_hour', 'day_of_month']].copy()\n",
    "X['1'] = 1\n",
    "X = X[['1', 'departure_hour', 'day_of_month']].to_numpy()\n",
    "X"
   ]
  },
  {
   "cell_type": "code",
   "execution_count": null,
   "id": "68b40cf7",
   "metadata": {
    "deletable": true,
    "editable": true
   },
   "outputs": [],
   "source": [
    "w_star_multiple = ...\n",
    "w_star_multiple"
   ]
  },
  {
   "cell_type": "markdown",
   "id": "4ec9613f",
   "metadata": {
    "deletable": true,
    "editable": true
   },
   "source": [
    "What do our predictions look like, for each row of the dataset?"
   ]
  },
  {
   "cell_type": "code",
   "execution_count": null,
   "id": "71b383c0",
   "metadata": {
    "deletable": true,
    "editable": true
   },
   "outputs": [],
   "source": [
    "XX, YY = np.mgrid[5:14:1, 0:31:1]\n",
    "Z = w_star_multiple[0] + w_star_multiple[1] * XX + w_star_multiple[2] * YY\n",
    "plane = go.Surface(x=XX, y=YY, z=Z, colorscale='Reds')\n",
    "fig = go.Figure(data=[plane])\n",
    "fig.add_trace(go.Scatter3d(x=df['departure_hour'], \n",
    "                           y=df['day_of_month'], \n",
    "                           z=df['minutes'], mode='markers', marker = {'color': '#656DF1'}))\n",
    "fig.update_layout(scene=dict(xaxis_title='Departure Hour',\n",
    "                             yaxis_title='Day of Month',\n",
    "                             zaxis_title='Minutes'),\n",
    "                  title='Commute Time vs. Departure Hour and Day of Month',\n",
    "                  width=1000, height=500)"
   ]
  },
  {
   "cell_type": "markdown",
   "id": "efe879c7",
   "metadata": {
    "deletable": true,
    "editable": true
   },
   "source": [
    "How do we make predictions for new datapoints?"
   ]
  },
  {
   "cell_type": "code",
   "execution_count": null,
   "id": "02392020",
   "metadata": {
    "deletable": true,
    "editable": true
   },
   "outputs": [],
   "source": [
    "# The predicted commute time if I leave at 8:30AM on the 15th of the month.\n",
    "..."
   ]
  },
  {
   "cell_type": "code",
   "execution_count": null,
   "id": "5a8804df",
   "metadata": {
    "deletable": true,
    "editable": true
   },
   "outputs": [],
   "source": [
    "# The predicted commute time if I leave at 8:30AM on the 30th of the month.\n",
    "..."
   ]
  }
 ],
 "metadata": {
  "celltoolbar": "None",
  "kernelspec": {
   "display_name": "Python 3 (ipykernel)",
   "language": "python",
   "name": "python3"
  },
  "language_info": {
   "codemirror_mode": {
    "name": "ipython",
    "version": 3
   },
   "file_extension": ".py",
   "mimetype": "text/x-python",
   "name": "python",
   "nbconvert_exporter": "python",
   "pygments_lexer": "ipython3",
   "version": "3.10.14"
  }
 },
 "nbformat": 4,
 "nbformat_minor": 5
}
