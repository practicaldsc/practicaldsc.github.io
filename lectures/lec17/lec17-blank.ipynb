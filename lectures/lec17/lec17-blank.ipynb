{
 "cells": [
  {
   "cell_type": "code",
   "execution_count": null,
   "id": "d86ea998",
   "metadata": {
    "deletable": true,
    "editable": true,
    "slideshow": {
     "slide_type": "skip"
    }
   },
   "outputs": [],
   "source": [
    "from lec_utils import *"
   ]
  },
  {
   "cell_type": "markdown",
   "id": "2520b69f",
   "metadata": {
    "deletable": true,
    "editable": true,
    "slideshow": {
     "slide_type": "slide"
    },
    "tags": []
   },
   "source": [
    "<div class=\"alert alert-info\" markdown=\"1\">\n",
    "\n",
    "#### Lecture 17\n",
    "\n",
    "# Multiple Linear Regression and Feature Engineering\n",
    "\n",
    "### EECS 398-003: Practical Data Science, Fall 2024\n",
    "\n",
    "<small><a style=\"text-decoration: none\" href=\"https://practicaldsc.org\">practicaldsc.org</a> • <a style=\"text-decoration: none\" href=\"https://github.com/practicaldsc/fa24\">github.com/practicaldsc/fa24</a></small>\n",
    "    \n",
    "</div>\n",
    "\n",
    "<script type=\"text/x-mathjax-config\">\n",
    "  MathJax.Hub.Config({\n",
    "    TeX: {\n",
    "      extensions: [\"color.js\"],\n",
    "      packages: {\"[+]\": [\"color\"]},\n",
    "    }\n",
    "  });\n",
    "  </script>\n",
    "  <script src=\"https://cdnjs.cloudflare.com/ajax/libs/mathjax/2.7.5/MathJax.js?config=TeX-AMS_HTML\"></script>"
   ]
  },
  {
   "cell_type": "markdown",
   "id": "a4c9f9c9",
   "metadata": {
    "deletable": true,
    "editable": true,
    "slideshow": {
     "slide_type": "slide"
    }
   },
   "source": [
    "### Announcements 📣\n",
    "\n",
    "- Homework 8 is due on **Friday** (not Thursday!).\n",
    "- Homework 7 solutions are available at [**#259 on Ed**](https://edstem.org/us/courses/61012/discussion/5597496).\n",
    "- Check out the new [**FAQs page on the course website**](https://practicaldsc.org/faqs).<br><small>It has answers to frequently-asked theoretical questions.</small>\n",
    "- The IA application is out for next semester and is due on **Monday**! See [**#238 on Ed**](https://edstem.org/us/courses/61012/discussion/5563220) for more details."
   ]
  },
  {
   "cell_type": "markdown",
   "id": "bf93b726",
   "metadata": {
    "deletable": true,
    "editable": true,
    "slideshow": {
     "slide_type": "slide"
    }
   },
   "source": [
    "### Agenda\n",
    "\n",
    "- Recap: Regression and linear algebra.\n",
    "- Multiple linear regression.\n",
    "- Regression in `sklearn`.\n",
    "- Feature engineering.\n",
    "- Example: Horsepower 🚗.\n",
    "\n",
    "Today's lecture is back to being in a notebook, but is still quite math heavy."
   ]
  },
  {
   "cell_type": "markdown",
   "id": "128846c8",
   "metadata": {
    "deletable": true,
    "editable": true,
    "slideshow": {
     "slide_type": "slide"
    }
   },
   "source": [
    "<div class=\"alert alert-warning\">\n",
    "    <h3>Question 🤔 (Answer at <a style=\"text-decoration: none; color: #0066cc\" href=\"https://docs.google.com/forms/d/e/1FAIpQLSd4oliiZYeNh76jWy-arfEtoAkCrVSsobZxPwxifWggo3EO0Q/viewform\">practicaldsc.org/q</a>)</h3>\n",
    "    \n",
    "Remember that you can always ask questions anonymously at the link above!"
   ]
  },
  {
   "cell_type": "markdown",
   "id": "84640339",
   "metadata": {
    "deletable": true,
    "editable": true,
    "slideshow": {
     "slide_type": "slide"
    }
   },
   "source": [
    "## Recap: Regression and linear algebra\n",
    "\n",
    "---"
   ]
  },
  {
   "cell_type": "markdown",
   "id": "d4dafdfd",
   "metadata": {
    "deletable": true,
    "editable": true,
    "slideshow": {
     "slide_type": "slide"
    }
   },
   "source": [
    "### Terminology recap"
   ]
  },
  {
   "cell_type": "markdown",
   "id": "ecef1495",
   "metadata": {
    "deletable": true,
    "editable": true,
    "slideshow": {
     "slide_type": "fragment"
    }
   },
   "source": [
    "- Define the **design matrix** $\\color{#007aff} X \\in \\mathbb{R}^{n \\times 2}$, **observation vector** $\\color{orange} \\vec{y} \\in \\mathbb{R}^n$, and parameter vector $\\vec{w} \\in \\mathbb{R}^2$ as:\n",
    "\n",
    "$${\\color{#007aff} {X} = \\begin{bmatrix} {\\color{#007aff} 1} & {\\color{#007aff} x_1} \\\\ {\\color{#007aff} 1} & {\\color{#007aff} x_2} \\\\ \\vdots & \\vdots \\\\ {\\color{#007aff} 1} & {\\color{#007aff} x_n} \\end{bmatrix}} \\qquad {\\color{orange} \\vec{y} = \\begin{bmatrix} y_1 \\\\ y_2 \\\\ \\vdots \\\\ y_n \\end{bmatrix}} \\qquad \\vec{w} = \\begin{bmatrix} w_0 \\\\ w_1 \\end{bmatrix}$$\n"
   ]
  },
  {
   "cell_type": "markdown",
   "id": "058baa23",
   "metadata": {
    "deletable": true,
    "editable": true,
    "slideshow": {
     "slide_type": "fragment"
    }
   },
   "source": [
    "- Our goal is to find the $\\vec w^*$ that minimizes $R_\\text{sq}(\\vec{w}) = \\frac{1}{n}  \\lVert {\\color{orange} \\vec{y}} - {\\color{#007aff} X}\\vec{w} \\rVert^2$."
   ]
  },
  {
   "cell_type": "markdown",
   "id": "7eebcc36",
   "metadata": {
    "deletable": true,
    "editable": true,
    "slideshow": {
     "slide_type": "fragment"
    }
   },
   "source": [
    "- Last lecture, we showed that the best $\\vec w^*$ is one that satisfies the **normal equations**:\n",
    "\n",
    "$${\\color{#007aff} X^TX} \\vec{w}^* = {\\color{#007aff} X^T} {\\color{orange} \\vec y}$$"
   ]
  },
  {
   "cell_type": "markdown",
   "id": "f5530f96",
   "metadata": {
    "deletable": true,
    "editable": true,
    "slideshow": {
     "slide_type": "fragment"
    }
   },
   "source": [
    "- **If** ${\\color{#007aff} X^TX}$ is invertible, there's a unique solution for $\\vec w^*$:\n",
    "\n",
    "$$\\vec w^* = ({\\color{#007aff}{X^TX}})^{-1} {\\color{#007aff}{X^T}}\\color{orange}\\vec{y}$$"
   ]
  },
  {
   "cell_type": "markdown",
   "id": "d9d92942",
   "metadata": {
    "deletable": true,
    "editable": true,
    "slideshow": {
     "slide_type": "fragment"
    }
   },
   "source": [
    "- We chose $\\vec{w}^*$ so that ${\\color{purple} \\vec h^*} = {\\color{#007aff} X} \\vec{w}^*$ is **the projection of $\\color{orange} \\vec{y}$ onto the span of the columns of the design matrix, $\\color{#007aff}X$**."
   ]
  },
  {
   "cell_type": "markdown",
   "id": "2906cb64",
   "metadata": {
    "deletable": true,
    "editable": true,
    "slideshow": {
     "slide_type": "slide"
    }
   },
   "source": [
    "### The optimal parameter vector, $\\vec{w}^*$"
   ]
  },
  {
   "cell_type": "markdown",
   "id": "2ff10593",
   "metadata": {
    "deletable": true,
    "editable": true,
    "slideshow": {
     "slide_type": "fragment"
    }
   },
   "source": [
    "- To find the optimal model parameters for simple linear regression, $w_0^*$ and $w_1^*$, we previously minimized $R_\\text{sq}(w_0, w_1) = \\frac{1}{n} \\sum_{i = 1}^n ({\\color{orange} y_i} - (w_0 + w_1 {\\color{#007aff} x_i}))^2$."
   ]
  },
  {
   "cell_type": "markdown",
   "id": "ec39d004",
   "metadata": {
    "deletable": true,
    "editable": true,
    "slideshow": {
     "slide_type": "fragment"
    }
   },
   "source": [
    "- We found, using calculus, that:\n",
    "    - $\\boxed{w_1^* = \\frac{\\sum_{i = 1}^n (x_i - \\bar{x})(y_i - \\bar{y})}{\\sum_{i = 1}^n (x_i - \\bar{x})^2} = r \\frac{\\sigma_y}{\\sigma_x}}$.\n",
    "    - $\\boxed{w_0^* = \\bar{y} - w_1^* \\bar{x}}$."
   ]
  },
  {
   "cell_type": "markdown",
   "id": "0cc2d7ab",
   "metadata": {
    "deletable": true,
    "editable": true,
    "slideshow": {
     "slide_type": "fragment"
    }
   },
   "source": [
    "- Another way of finding optimal model parameters for simple linear regression is to find the $\\vec{w}^*$ that minimizes $R_\\text{sq}(\\vec{w}) = \\frac{1}{n}  \\lVert {\\color{orange} \\vec{y}} - {\\color{#007aff} X}\\vec{w} \\rVert^2$."
   ]
  },
  {
   "cell_type": "markdown",
   "id": "0998386c",
   "metadata": {
    "deletable": true,
    "editable": true,
    "slideshow": {
     "slide_type": "fragment"
    }
   },
   "source": [
    "- The minimizer, if ${\\color{#007aff}{X^TX}}$ is invertible, is the vector $\\boxed{\\vec{w}^* = ({\\color{#007aff}{X^TX}})^{-1} {\\color{#007aff}{X^T}}\\color{orange}\\vec{y}}$.<br><small>If not, solve the **normal equations** from the previous slide.</small>"
   ]
  },
  {
   "cell_type": "markdown",
   "id": "e33ae717",
   "metadata": {
    "deletable": true,
    "editable": true,
    "slideshow": {
     "slide_type": "fragment"
    }
   },
   "source": [
    "- These $\\boxed{\\text{formulas}}$ are equivalent!"
   ]
  },
  {
   "cell_type": "markdown",
   "id": "de5379c8",
   "metadata": {
    "deletable": true,
    "editable": true,
    "slideshow": {
     "slide_type": "slide"
    }
   },
   "source": [
    "## Multiple linear regression\n",
    "\n",
    "---"
   ]
  },
  {
   "cell_type": "markdown",
   "id": "8a8bf8ca",
   "metadata": {
    "deletable": true,
    "editable": true,
    "slideshow": {
     "slide_type": "slide"
    }
   },
   "source": [
    "<center>\n",
    "\n",
    "<img src=\"imgs/multiple-head.png\" width=40%>\n",
    "\n",
    "So far, we've fit **simple** linear regression models, which use only **one** feature (`'departure_hour'`) for making predictions.\n",
    "\n",
    "</center>"
   ]
  },
  {
   "cell_type": "markdown",
   "id": "0e82b701",
   "metadata": {
    "deletable": true,
    "editable": true,
    "slideshow": {
     "slide_type": "slide"
    }
   },
   "source": [
    "### Incorporating multiple features"
   ]
  },
  {
   "cell_type": "markdown",
   "id": "d4c5fddf",
   "metadata": {
    "deletable": true,
    "editable": true,
    "slideshow": {
     "slide_type": "fragment"
    }
   },
   "source": [
    "- In the context of the commute times dataset, the simple linear regression model we fit was of the form:\n",
    "\n",
    "$$\\begin{align*}\\text{pred. commute} &= H(\\text{departure hour}) \\\\ &= w_0 + w_1 \\cdot \\text{departure hour} \\end{align*}$$"
   ]
  },
  {
   "cell_type": "markdown",
   "id": "f1d66ca9",
   "metadata": {
    "deletable": true,
    "editable": true,
    "slideshow": {
     "slide_type": "fragment"
    }
   },
   "source": [
    "- Now, we'll try and fit a multiple linear regression model of the form:\n",
    "\n",
    "$$\\begin{align*}\\text{pred. commute} &= H(\\text{departure hour, day of month}) \\\\ &= w_0 + w_1 \\cdot \\text{departure hour} + w_2 \\cdot \\text{day of month} \\end{align*}$$"
   ]
  },
  {
   "cell_type": "markdown",
   "id": "ff74efa1",
   "metadata": {
    "deletable": true,
    "editable": true,
    "slideshow": {
     "slide_type": "fragment"
    }
   },
   "source": [
    "- Linear regression with **multiple** features is called **multiple linear regression**."
   ]
  },
  {
   "cell_type": "markdown",
   "id": "61d36e0d",
   "metadata": {
    "deletable": true,
    "editable": true,
    "slideshow": {
     "slide_type": "fragment"
    }
   },
   "source": [
    "- How do we find $w_0^*$, $w_1^*$, and $w_2^*$?\n"
   ]
  },
  {
   "cell_type": "markdown",
   "id": "ec6122bf",
   "metadata": {
    "deletable": true,
    "editable": true,
    "slideshow": {
     "slide_type": "slide"
    }
   },
   "source": [
    "### Geometric interpretation"
   ]
  },
  {
   "cell_type": "markdown",
   "id": "fb125183",
   "metadata": {
    "deletable": true,
    "editable": true,
    "slideshow": {
     "slide_type": "fragment"
    }
   },
   "source": [
    "- The hypothesis function:\n",
    "\n",
    "    $$H(\\text{departure hour}) = w_0 + w_1 \\cdot \\text{departure hour}$$\n",
    "\n",
    "    looks like a **line** in 2D."
   ]
  },
  {
   "cell_type": "markdown",
   "id": "fb6bbf64",
   "metadata": {
    "deletable": true,
    "editable": true,
    "slideshow": {
     "slide_type": "fragment"
    }
   },
   "source": [
    "- **Questions**: \n",
    "    - How many dimensions do we need to graph the hypothesis function:\n",
    "\n",
    "    $$H(\\text{departure hour, day of month}) = w_0 + w_1 \\cdot \\text{departure hour} + w_2 \\cdot \\text{day of month}$$\n",
    "\n",
    "    - What is the shape of the hypothesis function?"
   ]
  },
  {
   "cell_type": "markdown",
   "id": "5861b5b2",
   "metadata": {
    "deletable": true,
    "editable": true,
    "slideshow": {
     "slide_type": "slide"
    }
   },
   "source": [
    "<center>\n",
    "\n",
    "<img src=\"imgs/plane.png\" width=40%>\n",
    "\n",
    "Our new hypothesis function is a **plane** in 3D!<br>Our goal is to find the **plane** of best fit that pierces through the cloud of points.\n",
    "\n",
    "</center>"
   ]
  },
  {
   "cell_type": "markdown",
   "id": "3487b776",
   "metadata": {
    "deletable": true,
    "editable": true,
    "slideshow": {
     "slide_type": "slide"
    }
   },
   "source": [
    "### The hypothesis vector"
   ]
  },
  {
   "cell_type": "markdown",
   "id": "0f200c54",
   "metadata": {
    "deletable": true,
    "editable": true,
    "slideshow": {
     "slide_type": "fragment"
    }
   },
   "source": [
    "- When our hypothesis function is of the form:\n",
    "\n",
    "    $$H(\\text{departure hour}) = w_0 + w_1 \\cdot \\text{departure hour} + w_2 \\cdot \\text{day of month}$$\n",
    "\n",
    "    the hypothesis vector $\\color{purple} \\vec{h} \\in \\mathbb{R}^n$ can be written as:\n",
    "\n",
    "$${\\color{purple} \\vec{h}} = \\begin{bmatrix}\n",
    "    H(\\text{departure hour}_1, \\text{day}_1) \\\\\n",
    "    H(\\text{departure hour}_2, \\text{day}_2) \\\\\n",
    "        ... \\\\\n",
    "     H(\\text{departure hour}_n, \\text{day}_n) \\\\\n",
    "    \\end{bmatrix}\n",
    "    = \\begin{bmatrix}\n",
    "        1      & \\text{departure hour}_1 & \\text{day}_1   \\\\\n",
    "        1      & \\text{departure hour}_2 & \\text{day}_2    \\\\\n",
    "        ... & ... & ... \\\\\n",
    "        1      & \\text{departure hour}_n & \\text{day}_n\n",
    "    \\end{bmatrix} \\begin{bmatrix}\n",
    "        w_0 \\\\\n",
    "        w_1 \\\\\n",
    "        w_2\n",
    "    \\end{bmatrix}  $$"
   ]
  },
  {
   "cell_type": "markdown",
   "id": "26e3c60c",
   "metadata": {
    "deletable": true,
    "editable": true,
    "slideshow": {
     "slide_type": "slide"
    }
   },
   "source": [
    "### Finding the optimal parameters"
   ]
  },
  {
   "cell_type": "markdown",
   "id": "af60be84",
   "metadata": {
    "deletable": true,
    "editable": true,
    "slideshow": {
     "slide_type": "fragment"
    }
   },
   "source": [
    "- To find the optimal parameter vector, $\\vec{w}^*$, we can use the **design matrix** $\\color{#007aff} X \\in \\mathbb{R}^{n \\times 3}$ and **observation vector** $\\color{orange} \\vec y \\in \\mathbb{R}^n$:\n",
    "\n",
    "$${\\color{#007aff} X = \\begin{bmatrix}\n",
    "        1      & \\text{departure hour}_1 & \\text{day}_1   \\\\\n",
    "        1      & \\text{departure hour}_2 & \\text{day}_2    \\\\\n",
    "        ... & ... & ... \\\\\n",
    "        1      & \\text{departure hour}_n & \\text{day}_n\n",
    "    \\end{bmatrix}} \\qquad {\\color{orange} \\vec{y} = \\begin{bmatrix} \\text{commute time}_1 \\\\ \\text{commute time}_2 \\\\ \\vdots \\\\ \\text{commute time}_n \\end{bmatrix}}$$"
   ]
  },
  {
   "cell_type": "markdown",
   "id": "87e7b63e",
   "metadata": {
    "deletable": true,
    "editable": true,
    "slideshow": {
     "slide_type": "fragment"
    }
   },
   "source": [
    "- Then, all we need to do is solve the normal equations once again:\n",
    "\n",
    "    $${\\color{#007aff} X^TX} \\vec{w}^* = {\\color{#007aff} X^T} {\\color{orange} \\vec y}$$\n",
    "\n",
    "    If ${\\color{#007aff} X^TX}$ is invertible, we know the solution is:\n",
    "\n",
    "$$\\vec{w}^* = ({\\color{#007aff}{X^TX}})^{-1} {\\color{#007aff}{X^T}}\\color{orange}\\vec{y}$$"
   ]
  },
  {
   "cell_type": "markdown",
   "id": "98972681",
   "metadata": {
    "deletable": true,
    "editable": true,
    "slideshow": {
     "slide_type": "fragment"
    }
   },
   "source": [
    "- Let's generalize this notion beyond just two features."
   ]
  },
  {
   "cell_type": "markdown",
   "id": "67e60b2e",
   "metadata": {
    "deletable": true,
    "editable": true,
    "slideshow": {
     "slide_type": "slide"
    }
   },
   "source": [
    "### Notation for multiple linear regression"
   ]
  },
  {
   "cell_type": "markdown",
   "id": "d30385e3",
   "metadata": {
    "deletable": true,
    "editable": true,
    "slideshow": {
     "slide_type": "fragment"
    }
   },
   "source": [
    "- We will need to keep track of multiple features for every individual in our dataset.<br><small>In practice, we could have hundreds, millions, or billions of features!</small>"
   ]
  },
  {
   "cell_type": "markdown",
   "id": "55988d12",
   "metadata": {
    "deletable": true,
    "editable": true,
    "slideshow": {
     "slide_type": "fragment"
    }
   },
   "source": [
    "- As before, subscripts distinguish between individuals in our dataset. We have $n$ individuals, also called **training examples**."
   ]
  },
  {
   "cell_type": "markdown",
   "id": "2e74d5c3",
   "metadata": {
    "deletable": true,
    "editable": true,
    "slideshow": {
     "slide_type": "fragment"
    }
   },
   "source": [
    "- Superscripts distinguish between **features**. We have $d$ features. \n",
    "\n",
    "    $$\\text{departure hour:} \\:\\: \\color{#007aff}x^{(1)}$$\n",
    "\n",
    "    $$\\text{day of month:} \\:\\: \\color{#007aff}x^{(2)}$$\n",
    "\n",
    "    Think of $\\color{#007aff} x^{(1)}$, $\\color{#007aff}x^{(2)}$, ... as new variable names, like new letters."
   ]
  },
  {
   "cell_type": "markdown",
   "id": "e69f3cf0",
   "metadata": {
    "deletable": true,
    "editable": true,
    "slideshow": {
     "slide_type": "slide"
    }
   },
   "source": [
    "### Feature vectors"
   ]
  },
  {
   "cell_type": "markdown",
   "id": "45f422ef",
   "metadata": {
    "deletable": true,
    "editable": true,
    "slideshow": {
     "slide_type": "fragment"
    }
   },
   "source": [
    "- Suppose we have the following dataset.\n",
    "\n",
    "<center>\n",
    "\n",
    "<img src=\"imgs/example-values.png\" width=35%>\n",
    "\n",
    "</center>"
   ]
  },
  {
   "cell_type": "markdown",
   "id": "67f198f9",
   "metadata": {
    "deletable": true,
    "editable": true,
    "slideshow": {
     "slide_type": "fragment"
    }
   },
   "source": [
    "- We can represent each day with a **feature vector**, $\\color{#007aff} \\vec{x} = \\begin{bmatrix} x^{(1)} \\\\ x^{(2)} \\end{bmatrix}$:"
   ]
  },
  {
   "cell_type": "markdown",
   "id": "b62400fa",
   "metadata": {
    "deletable": true,
    "editable": true,
    "slideshow": {
     "slide_type": "fragment"
    }
   },
   "source": [
    "$$\\color{#007aff} \\vec x_1 = \\begin{bmatrix} 8.45 \\\\ 22 \\end{bmatrix} \\qquad \\vec x_2 = \\begin{bmatrix} 8.90 \\\\ 28 \\end{bmatrix} \\qquad \\vec x_2 = \\begin{bmatrix} 8.72 \\\\ 18 \\end{bmatrix}$$"
   ]
  },
  {
   "cell_type": "markdown",
   "id": "69f89c6b",
   "metadata": {
    "deletable": true,
    "editable": true,
    "slideshow": {
     "slide_type": "slide"
    }
   },
   "source": [
    "### Augmented feature vectors"
   ]
  },
  {
   "cell_type": "markdown",
   "id": "4e411b7b",
   "metadata": {
    "deletable": true,
    "editable": true,
    "slideshow": {
     "slide_type": "fragment"
    }
   },
   "source": [
    "- The **augmented feature vector** $\\text{Aug}({\\color{#007aff}\\vec x})$ is the vector obtained by adding a 1 to the front of feature vector $\\color{#007aff} \\vec x$:"
   ]
  },
  {
   "cell_type": "markdown",
   "id": "06b616b3",
   "metadata": {
    "deletable": true,
    "editable": true
   },
   "source": [
    "$$\n",
    "{\\color{#007aff} \\vec x = \\begin{bmatrix}\n",
    "    {\\color{#007aff}x^{(1)}} \\\\ {\\color{#007aff}x^{(2)}} \\\\ \\vdots \\\\ {\\color{#007aff}x^{(d)}}\n",
    "\\end{bmatrix}\n",
    "\\qquad\n",
    "\\text{Aug}({\\color{#007aff} \\vec x}) = \\begin{bmatrix}\n",
    "    1 \\\\ {\\color{#007aff}x^{(1)}} \\\\ {\\color{#007aff}x^{(2)}} \\\\ \\vdots \\\\ {\\color{#007aff} x^{(d)}}\n",
    "\\end{bmatrix}}\n",
    "\\qquad\n",
    "\\vec w = \\begin{bmatrix}\n",
    "    w_0 \\\\ w_1 \\\\ w_2\\\\ \\vdots \\\\ w_d \n",
    "\\end{bmatrix}\n",
    "$$"
   ]
  },
  {
   "cell_type": "markdown",
   "id": "be47666e",
   "metadata": {
    "deletable": true,
    "editable": true,
    "slideshow": {
     "slide_type": "fragment"
    }
   },
   "source": [
    "- For example, if $\\color{#007aff} \\vec x_1 = \\begin{bmatrix} 8.45 \\\\ 22 \\end{bmatrix}$, then $\\text{Aug}({\\color{#007aff} \\vec x_1}) = {\\color{#007aff} \\begin{bmatrix} 1 \\\\ 8.45 \\\\ 22 \\end{bmatrix}}$."
   ]
  },
  {
   "cell_type": "markdown",
   "id": "fea40467",
   "metadata": {
    "deletable": true,
    "editable": true,
    "slideshow": {
     "slide_type": "fragment"
    }
   },
   "source": [
    "- Then, our hypothesis function for a single data point is:\n",
    "$$\\begin{align*}\n",
    "                H({\\color{#007aff} \\vec x}) &= w_0 + w_1 {\\color{#007aff} x^{(1)}} + w_2 {\\color{#007aff} x^{(2)}} + \\ldots + w_d {\\color{#007aff} x^{(d)}}\\\\\n",
    "                               &=    \\vec w \\cdot \\text{Aug}({\\color{#007aff} \\vec x})\n",
    "\\end{align*}$$"
   ]
  },
  {
   "cell_type": "markdown",
   "id": "aba396c4",
   "metadata": {
    "deletable": true,
    "editable": true,
    "slideshow": {
     "slide_type": "slide"
    }
   },
   "source": [
    "### The general problem"
   ]
  },
  {
   "cell_type": "markdown",
   "id": "7432a8de",
   "metadata": {
    "deletable": true,
    "editable": true,
    "slideshow": {
     "slide_type": "fragment"
    }
   },
   "source": [
    "-  We have $n$ data points, $\\left({\\color{#007aff} \\vec x_1}, {\\color{orange}y_1}\\right), \\left({\\color{#007aff} \\vec x_2}, {\\color{orange}y_2}\\right),  \\ldots, \\left({\\color{#007aff} \\vec x_n}, {\\color{orange}y_n}\\right)$,\n",
    "where each $\\color{#007aff} \\vec x_i$ is a feature vector of $d$ features:\n",
    "$${\\color{#007aff}\\vec{x_i}} = \\begin{bmatrix} \n",
    "{\\color{#007aff}x^{(1)}_i} \\\\ {\\color{#007aff}x^{(2)}_i} \\\\ \\vdots \\\\ {\\color{#007aff}x^{(d)}_i}\n",
    "\\end{bmatrix}$$\t   "
   ]
  },
  {
   "cell_type": "markdown",
   "id": "295824a0",
   "metadata": {
    "deletable": true,
    "editable": true,
    "slideshow": {
     "slide_type": "fragment"
    }
   },
   "source": [
    "-  We want to find a good linear hypothesis function:\n",
    "$$\\begin{align*}\n",
    "                H({\\color{#007aff} \\vec x}) &= w_0 + w_1 {\\color{#007aff} x^{(1)}} + w_2 {\\color{#007aff} x^{(2)}} + \\ldots + w_d {\\color{#007aff} x^{(d)}}\\\\\n",
    "                               &=    \\vec w \\cdot \\text{Aug}({\\color{#007aff} \\vec x})\n",
    "\\end{align*}$$"
   ]
  },
  {
   "cell_type": "markdown",
   "id": "f7296ace",
   "metadata": {
    "deletable": true,
    "editable": true,
    "slideshow": {
     "slide_type": "slide"
    }
   },
   "source": [
    "### The general solution"
   ]
  },
  {
   "cell_type": "markdown",
   "id": "1ba46d3d",
   "metadata": {
    "deletable": true,
    "editable": true,
    "slideshow": {
     "slide_type": "fragment"
    }
   },
   "source": [
    "- Define the **design matrix** $ X \\in \\mathbb{R}^{n \\times (d + 1)}$ and **observation vector** $\\color{orange} \\vec y \\in \\mathbb{R}^n$:\n",
    "\n",
    "$${\\color{#007aff} X=  \\begin{bmatrix}  \n",
    "{1} & { x^{(1)}_1} & { x^{(2)}_1} & \\dots & { x^{(d)}_1} \\\\\\\\\n",
    "{ 1} & { x^{(1)}_2} & { x^{(2)}_2} & \\dots & { x^{(d)}_2} \\\\\\\\\n",
    "\\vdots & \\vdots & \\vdots  &  & \\vdots \\\\\\\\\n",
    "{ 1} & { x^{(1)}_n} & { x^{(2)}_n} & \\dots & { x^{(d)}_n}\n",
    "\\end{bmatrix} = \\begin{bmatrix} \n",
    "       \\text{Aug}({\\vec{x_1}})^T \\\\\\\\\n",
    "       \\text{Aug}({\\vec{x_2}})^T \\\\\\\\\n",
    "       \\vdots \\\\\\\\\n",
    "       \\text{Aug}({\\vec{x_n}})^T\n",
    "   \\end{bmatrix}} \\qquad {\\color{orange} \\vec y = \\begin{bmatrix} {\\color{orange} y_1} \\\\ {\\color{orange} y_2} \\\\ \\vdots \\\\ {\\color{orange} y_n} \\end{bmatrix}}$$"
   ]
  },
  {
   "cell_type": "markdown",
   "id": "68512c8e",
   "metadata": {
    "deletable": true,
    "editable": true,
    "slideshow": {
     "slide_type": "fragment"
    }
   },
   "source": [
    "- Then, solve the **normal equations** to find the optimal parameter vector, $\\vec{w}^*$:\n",
    "\n",
    "    $${\\color{#007aff} X^TX} \\vec{w}^* = {\\color{#007aff} X^T} {\\color{orange} \\vec y}$$\n"
   ]
  },
  {
   "cell_type": "markdown",
   "id": "f9304dfd",
   "metadata": {
    "deletable": true,
    "editable": true,
    "slideshow": {
     "slide_type": "slide"
    }
   },
   "source": [
    "### Note on parameters"
   ]
  },
  {
   "cell_type": "markdown",
   "id": "61ea74ac",
   "metadata": {
    "deletable": true,
    "editable": true,
    "slideshow": {
     "slide_type": "fragment"
    }
   },
   "source": [
    "-  With $d$ features, $\\vec w$ has $d+1$ entries."
   ]
  },
  {
   "cell_type": "markdown",
   "id": "72e28db6",
   "metadata": {
    "deletable": true,
    "editable": true,
    "slideshow": {
     "slide_type": "fragment"
    }
   },
   "source": [
    "- Again, $\\vec w^*$ represents our **optimal** parameter vector, that minimizes mean squared error."
   ]
  },
  {
   "cell_type": "markdown",
   "id": "dd7e93ad",
   "metadata": {
    "deletable": true,
    "editable": true,
    "slideshow": {
     "slide_type": "fragment"
    }
   },
   "source": [
    "-  $w_0^*$ is the **bias**, also known as the **intercept**."
   ]
  },
  {
   "cell_type": "markdown",
   "id": "5fbaa0bd",
   "metadata": {
    "deletable": true,
    "editable": true,
    "slideshow": {
     "slide_type": "fragment"
    }
   },
   "source": [
    "-  $w_1^*, w_2^*, ... , w_d^*$ each give the **weight**, or **coefficient**, or **slope**, of a feature.\n",
    "\n",
    "<br>\n",
    "\n",
    "$$H^*({\\color{#007aff} \\vec x}) = w_0^* + w_1^* {\\color{#007aff} x^{(1)}} + w_2^* {\\color{#007aff} x^{(2)}} + \\ldots + w_d^* {\\color{#007aff} x^{(d)}}$$"
   ]
  },
  {
   "cell_type": "markdown",
   "id": "8ccea776",
   "metadata": {
    "deletable": true,
    "editable": true,
    "slideshow": {
     "slide_type": "slide"
    }
   },
   "source": [
    "<div class=\"alert alert-warning\">\n",
    "    <h3>Question 🤔 (Answer at <a style=\"text-decoration: none; color: #0066cc\" href=\"https://docs.google.com/forms/d/e/1FAIpQLSd4oliiZYeNh76jWy-arfEtoAkCrVSsobZxPwxifWggo3EO0Q/viewform\">practicaldsc.org/q</a>)</h3>\n",
    "    \n",
    "Remember that you can always ask questions anonymously at the link above!"
   ]
  },
  {
   "cell_type": "markdown",
   "id": "97cb553f",
   "metadata": {
    "deletable": true,
    "editable": true,
    "slideshow": {
     "slide_type": "slide"
    }
   },
   "source": [
    "## Regression in `sklearn`"
   ]
  },
  {
   "cell_type": "markdown",
   "id": "bbcb3764",
   "metadata": {
    "deletable": true,
    "editable": true,
    "slideshow": {
     "slide_type": "slide"
    }
   },
   "source": [
    "### Loading the data"
   ]
  },
  {
   "cell_type": "markdown",
   "id": "23f00cc3",
   "metadata": {
    "deletable": true,
    "editable": true,
    "slideshow": {
     "slide_type": "fragment"
    }
   },
   "source": [
    "- Run the cell below to load in our commute times dataset."
   ]
  },
  {
   "cell_type": "code",
   "execution_count": null,
   "id": "52e742c8",
   "metadata": {
    "deletable": true,
    "editable": true
   },
   "outputs": [],
   "source": [
    "df = pd.read_csv('data/commute-times.csv')\n",
    "df['day_of_month'] = pd.to_datetime(df['date']).dt.day\n",
    "df.head()"
   ]
  },
  {
   "cell_type": "markdown",
   "id": "834b261f",
   "metadata": {
    "deletable": true,
    "editable": true,
    "slideshow": {
     "slide_type": "fragment"
    }
   },
   "source": [
    "- For now, the only relevant columns for us are `'departure_hour'`, `'day_of_month'`, and `'minutes'`."
   ]
  },
  {
   "cell_type": "code",
   "execution_count": null,
   "id": "3e332233",
   "metadata": {
    "deletable": true,
    "editable": true
   },
   "outputs": [],
   "source": [
    "df[['departure_hour', 'day_of_month', 'minutes']]"
   ]
  },
  {
   "cell_type": "markdown",
   "id": "375e03af",
   "metadata": {
    "deletable": true,
    "editable": true,
    "slideshow": {
     "slide_type": "slide"
    }
   },
   "source": [
    "### `sklearn`"
   ]
  },
  {
   "cell_type": "markdown",
   "id": "9805b843",
   "metadata": {
    "deletable": true,
    "editable": true,
    "slideshow": {
     "slide_type": "fragment"
    }
   },
   "source": [
    "- `sklearn` (scikit-learn) implements many common steps in the feature and model creation pipeline.<br><small>It is **widely** used throughout [industry](https://scikit-learn.org/stable/testimonials/testimonials.html#:~:text=It%20is%20very%20widely%20used,very%20approachable%20and%20very%20powerful.) and academia.</small>\n",
    "\n",
    "<center><img src='imgs/sklearn.png' width=20%></center>"
   ]
  },
  {
   "cell_type": "markdown",
   "id": "a7386dbf",
   "metadata": {
    "deletable": true,
    "editable": true,
    "slideshow": {
     "slide_type": "fragment"
    }
   },
   "source": [
    "- It interfaces with `numpy` arrays, and to an extent, `pandas` DataFrames."
   ]
  },
  {
   "cell_type": "markdown",
   "id": "de656f0c",
   "metadata": {
    "deletable": true,
    "editable": true,
    "slideshow": {
     "slide_type": "fragment"
    }
   },
   "source": [
    "- Huge benefit: the [documentation online](https://scikit-learn.org/stable/modules/classes.html) is excellent."
   ]
  },
  {
   "cell_type": "markdown",
   "id": "c4a58ce2",
   "metadata": {
    "deletable": true,
    "editable": true,
    "slideshow": {
     "slide_type": "slide"
    }
   },
   "source": [
    "### The `LinearRegression` class"
   ]
  },
  {
   "cell_type": "markdown",
   "id": "4cbff7c7",
   "metadata": {
    "deletable": true,
    "editable": true,
    "slideshow": {
     "slide_type": "fragment"
    }
   },
   "source": [
    "- `sklearn` comes with several subpackages, including `linear_model` and `tree`, each of which contains several classes of models."
   ]
  },
  {
   "cell_type": "markdown",
   "id": "84212be8",
   "metadata": {
    "deletable": true,
    "editable": true,
    "slideshow": {
     "slide_type": "fragment"
    }
   },
   "source": [
    "- We'll start with the `LinearRegression` class from `linear_model`."
   ]
  },
  {
   "cell_type": "code",
   "execution_count": null,
   "id": "0f0b2687",
   "metadata": {
    "deletable": true,
    "editable": true
   },
   "outputs": [],
   "source": [
    "from sklearn.linear_model import LinearRegression"
   ]
  },
  {
   "cell_type": "markdown",
   "id": "8504380c",
   "metadata": {
    "deletable": true,
    "editable": true,
    "slideshow": {
     "slide_type": "fragment"
    }
   },
   "source": [
    "- **Important**: From [the documentation](https://scikit-learn.org/stable/modules/generated/sklearn.linear_model.LinearRegression.html#sklearn.linear_model.LinearRegression), we have:\n",
    "> LinearRegression fits a linear model with coefficients w = (w1, …, wp) to minimize the residual sum of squares between the observed targets in the dataset, and the targets predicted by the linear approximation.\n",
    "\n",
    "    In other words, **`LinearRegression` minimizes mean squared error by default**! (Per the documentation, it also includes an intercept term by default.)"
   ]
  },
  {
   "cell_type": "code",
   "execution_count": null,
   "id": "f3a39544",
   "metadata": {
    "deletable": true,
    "editable": true
   },
   "outputs": [],
   "source": [
    "LinearRegression?"
   ]
  },
  {
   "cell_type": "markdown",
   "id": "dadd59c5",
   "metadata": {
    "deletable": true,
    "editable": true,
    "slideshow": {
     "slide_type": "slide"
    }
   },
   "source": [
    "### Fitting a multiple linear regression model"
   ]
  },
  {
   "cell_type": "markdown",
   "id": "28f66638",
   "metadata": {
    "deletable": true,
    "editable": true,
    "slideshow": {
     "slide_type": "fragment"
    }
   },
   "source": [
    "- Let's aim to use `sklearn` to find the optimal parameters for the following model:\n",
    "\n",
    "    $$\\text{predicted commute time} = w_0 + w_1 \\cdot \\text{departure hour} + w_2 \\cdot \\text{day of month}$$"
   ]
  },
  {
   "cell_type": "markdown",
   "id": "5ef1f67b",
   "metadata": {
    "deletable": true,
    "editable": true,
    "slideshow": {
     "slide_type": "fragment"
    }
   },
   "source": [
    "- First, we must instantiate a `LinearRegression` object and fit it. By calling `fit`, we are saying \"minimize mean squared error on this dataset and find $w^*$.\""
   ]
  },
  {
   "cell_type": "code",
   "execution_count": null,
   "id": "1364d339",
   "metadata": {
    "deletable": true,
    "editable": true
   },
   "outputs": [],
   "source": [
    "model_multiple = LinearRegression()\n",
    "# Note that there are two arguments to fit – X and y!\n",
    "# (It is not necessary to write X= and y=)\n",
    "..."
   ]
  },
  {
   "cell_type": "markdown",
   "id": "383374d2",
   "metadata": {
    "deletable": true,
    "editable": true,
    "slideshow": {
     "slide_type": "fragment"
    }
   },
   "source": [
    "- After fitting, we can access $w^*$ – that is, the best intercept and coefficients."
   ]
  },
  {
   "cell_type": "code",
   "execution_count": null,
   "id": "5d0741ff",
   "metadata": {
    "deletable": true,
    "editable": true,
    "scrolled": true
   },
   "outputs": [],
   "source": [
    "..."
   ]
  },
  {
   "cell_type": "markdown",
   "id": "a1355596",
   "metadata": {
    "deletable": true,
    "editable": true,
    "slideshow": {
     "slide_type": "fragment"
    }
   },
   "source": [
    "- These coefficients tell us that the \"best way\" (according to squared loss) to make commute time predictions using a linear model is using:\n",
    "\n",
    "$$\\text{predicted commute time} = 141.86 - 8.22 \\cdot \\text{departure hour} + 0.06 \\cdot \\text{day of month}$$"
   ]
  },
  {
   "cell_type": "markdown",
   "id": "398eb057",
   "metadata": {
    "deletable": true,
    "editable": true,
    "slideshow": {
     "slide_type": "fragment"
    }
   },
   "source": [
    "- This is the **plane of best fit** given historical data; it is not a causal statement."
   ]
  },
  {
   "cell_type": "markdown",
   "id": "0ddd52b5",
   "metadata": {
    "deletable": true,
    "editable": true,
    "slideshow": {
     "slide_type": "slide"
    }
   },
   "source": [
    "- Let's visualize this model, as we did in Lecture 16."
   ]
  },
  {
   "cell_type": "code",
   "execution_count": null,
   "id": "a376cad1",
   "metadata": {
    "deletable": true,
    "editable": true
   },
   "outputs": [],
   "source": [
    "XX, YY = np.mgrid[5:14:1, 0:31:1]\n",
    "Z = model_multiple.intercept_ + model_multiple.coef_[0] * XX + model_multiple.coef_[1] * YY\n",
    "plane = go.Surface(x=XX, y=YY, z=Z, colorscale='Reds')\n",
    "fig = go.Figure(data=[plane])\n",
    "fig.add_trace(go.Scatter3d(x=df['departure_hour'], \n",
    "                           y=df['day_of_month'], \n",
    "                           z=df['minutes'], mode='markers', marker = {'color': '#656DF1'}))\n",
    "fig.update_layout(scene=dict(xaxis_title='Departure Hour',\n",
    "                             yaxis_title='Day of Month',\n",
    "                             zaxis_title='Minutes'),\n",
    "                  title='Commute Time vs. Departure Hour and Day of Month',\n",
    "                  width=1000, height=500)"
   ]
  },
  {
   "cell_type": "markdown",
   "id": "db07664d",
   "metadata": {
    "deletable": true,
    "editable": true,
    "slideshow": {
     "slide_type": "slide"
    }
   },
   "source": [
    "### Making predictions"
   ]
  },
  {
   "cell_type": "markdown",
   "id": "0f2a7db7",
   "metadata": {
    "deletable": true,
    "editable": true,
    "slideshow": {
     "slide_type": "fragment"
    }
   },
   "source": [
    "- Fit `LinearRegression` objects also have a `predict` method, which can be used to predict commute times given a `'departure_hour'` and `'day_of_month'`."
   ]
  },
  {
   "cell_type": "code",
   "execution_count": null,
   "id": "339a5505",
   "metadata": {
    "deletable": true,
    "editable": true
   },
   "outputs": [],
   "source": [
    "# What if I leave at 9:15AM on the 26th of the month?\n",
    "..."
   ]
  },
  {
   "cell_type": "code",
   "execution_count": null,
   "id": "b5c3d85e",
   "metadata": {
    "deletable": true,
    "editable": true,
    "scrolled": true
   },
   "outputs": [],
   "source": [
    "# Since we trained on a DataFrame, the input to model_multiple.predict should also\n",
    "# be a DataFrame. To avoid having to do this, we can use .to_numpy()\n",
    "# when specifying X= and y=.\n",
    "model_multiple.predict(pd.DataFrame({'departure_hour': [9.25], 'day_of_month': [26]}))"
   ]
  },
  {
   "cell_type": "markdown",
   "id": "37db4eeb",
   "metadata": {
    "deletable": true,
    "editable": true,
    "slideshow": {
     "slide_type": "slide"
    }
   },
   "source": [
    "### Comparing models"
   ]
  },
  {
   "cell_type": "markdown",
   "id": "d0dc29b8",
   "metadata": {
    "deletable": true,
    "editable": true,
    "slideshow": {
     "slide_type": "fragment"
    }
   },
   "source": [
    "- Since we're going to start to fit lots of different models to the commute times dataset, it'll be useful to compare their mean squared errors."
   ]
  },
  {
   "cell_type": "markdown",
   "id": "ab484723",
   "metadata": {
    "deletable": true,
    "editable": true,
    "slideshow": {
     "slide_type": "fragment"
    }
   },
   "source": [
    "- `sklearn` has a built-in `mean_squared_error` function.<br><small>Remember, the units of MSE are the units of $y$, squared. So the value below is 96.78 $\\text{minutes}^2$.</small>"
   ]
  },
  {
   "cell_type": "code",
   "execution_count": null,
   "id": "340dda9e",
   "metadata": {
    "deletable": true,
    "editable": true
   },
   "outputs": [],
   "source": [
    "from sklearn.metrics import mean_squared_error"
   ]
  },
  {
   "cell_type": "code",
   "execution_count": null,
   "id": "e8413231",
   "metadata": {
    "deletable": true,
    "editable": true
   },
   "outputs": [],
   "source": [
    "..."
   ]
  },
  {
   "cell_type": "markdown",
   "id": "565a8454",
   "metadata": {
    "deletable": true,
    "editable": true,
    "slideshow": {
     "slide_type": "fragment"
    }
   },
   "source": [
    "- Let's construct a dictionary to keep track of the MSEs we've seen so far."
   ]
  },
  {
   "cell_type": "code",
   "execution_count": null,
   "id": "4d840767",
   "metadata": {
    "deletable": true,
    "editable": true
   },
   "outputs": [],
   "source": [
    "mse_dict = {}\n",
    "mse_dict['departure_hour + day_of_month'] = mean_squared_error(df['minutes'], model_multiple.predict(df[['departure_hour', 'day_of_month']]))"
   ]
  },
  {
   "cell_type": "markdown",
   "id": "249a5c90",
   "metadata": {
    "deletable": true,
    "editable": true,
    "slideshow": {
     "slide_type": "fragment"
    }
   },
   "source": [
    "- To compare, let's also fit and measure a simple linear model and constant model."
   ]
  },
  {
   "cell_type": "code",
   "execution_count": null,
   "id": "55d61381",
   "metadata": {
    "deletable": true,
    "editable": true
   },
   "outputs": [],
   "source": [
    "# Simple linear model.\n",
    "model_simple = LinearRegression()\n",
    "model_simple.fit(X=df[['departure_hour']], y=df['minutes'])\n",
    "mse_dict['departure_hour'] = mean_squared_error(df['minutes'], model_simple.predict(df[['departure_hour']]))"
   ]
  },
  {
   "cell_type": "code",
   "execution_count": null,
   "id": "dfbf53d7",
   "metadata": {
    "deletable": true,
    "editable": true
   },
   "outputs": [],
   "source": [
    "# Constant model.\n",
    "model_constant = df['minutes'].mean()\n",
    "mse_dict['constant'] = mean_squared_error(df['minutes'], np.ones(df.shape[0]) * model_constant)"
   ]
  },
  {
   "cell_type": "markdown",
   "id": "b63ff03b",
   "metadata": {
    "deletable": true,
    "editable": true,
    "slideshow": {
     "slide_type": "fragment"
    }
   },
   "source": [
    "- As we can see, adding `'day_of_month'` as a feature **barely** reduced our model's MSE.<br><small>Next week, when we learn about generalization, we'll see why sometimes adding more features is a **bad** thing!</small>"
   ]
  },
  {
   "cell_type": "code",
   "execution_count": null,
   "id": "f7cfd280",
   "metadata": {
    "deletable": true,
    "editable": true
   },
   "outputs": [],
   "source": [
    "mse_dict"
   ]
  },
  {
   "cell_type": "markdown",
   "id": "03add523",
   "metadata": {
    "deletable": true,
    "editable": true,
    "slideshow": {
     "slide_type": "slide"
    }
   },
   "source": [
    "### The `.score` method of a `LinearRegression` object"
   ]
  },
  {
   "cell_type": "markdown",
   "id": "d94c8707",
   "metadata": {
    "deletable": true,
    "editable": true,
    "slideshow": {
     "slide_type": "fragment"
    }
   },
   "source": [
    "- Model objects in `sklearn` that have already been fit have a `score` method."
   ]
  },
  {
   "cell_type": "code",
   "execution_count": null,
   "id": "6f9c482d",
   "metadata": {
    "deletable": true,
    "editable": true
   },
   "outputs": [],
   "source": [
    "..."
   ]
  },
  {
   "cell_type": "markdown",
   "id": "f546bf7d",
   "metadata": {
    "deletable": true,
    "editable": true,
    "slideshow": {
     "slide_type": "fragment"
    }
   },
   "source": [
    "- That doesn't look like the RMSE... what is it? 🤔"
   ]
  },
  {
   "cell_type": "markdown",
   "id": "8fc1461d",
   "metadata": {
    "deletable": true,
    "editable": true,
    "slideshow": {
     "slide_type": "slide"
    }
   },
   "source": [
    "### Aside: $R^2$"
   ]
  },
  {
   "cell_type": "markdown",
   "id": "cfcad367",
   "metadata": {
    "deletable": true,
    "editable": true,
    "slideshow": {
     "slide_type": "fragment"
    }
   },
   "source": [
    "- $R^2$, pronounced \"**coefficient of determination**\" or \"**multiple R-squared**\", is a measure of the **quality of a linear fit**."
   ]
  },
  {
   "cell_type": "markdown",
   "id": "bfbd8c11",
   "metadata": {
    "deletable": true,
    "editable": true,
    "slideshow": {
     "slide_type": "fragment"
    }
   },
   "source": [
    "- There are a few equivalent ways of computing it, assuming your model **is linear and has an intercept term**:\n",
    "\n",
    "$$R^2 = \\frac{\\text{var}(\\text{predicted $y$ values})}{\\text{var}(\\text{actual $y$ values})}$$\n",
    "\n",
    "$$R^2 = \\left[ \\text{correlation}(\\text{predicted $y$ values}, \\text{actual $y$ values}) \\right]^2$$"
   ]
  },
  {
   "cell_type": "markdown",
   "id": "068921ad",
   "metadata": {
    "deletable": true,
    "editable": true,
    "slideshow": {
     "slide_type": "fragment"
    }
   },
   "source": [
    "- Interpretation: $R^2$ is the **proportion of variance in $y$ that the linear model explains**."
   ]
  },
  {
   "cell_type": "markdown",
   "id": "8b42deaa",
   "metadata": {
    "deletable": true,
    "editable": true,
    "slideshow": {
     "slide_type": "fragment"
    }
   },
   "source": [
    "- In the simple linear regression case, it is the square of the correlation coefficient, $r$."
   ]
  },
  {
   "cell_type": "markdown",
   "id": "39e5360d",
   "metadata": {
    "deletable": true,
    "editable": true,
    "slideshow": {
     "slide_type": "fragment"
    }
   },
   "source": [
    "- **Key idea:** $R^2$ ranges from 0 to 1. **The closer it is to 1, the better the linear fit is.**<br><small>Just like $r$, $R^2$ has no units of measurement. This is unlike MSE, which has the units of $y$, squared.</small>"
   ]
  },
  {
   "cell_type": "markdown",
   "id": "eac29d0b",
   "metadata": {
    "deletable": true,
    "editable": true,
    "slideshow": {
     "slide_type": "skip"
    }
   },
   "source": [
    "<div class=\"alert alert-danger\" markdown=\"1\">\n",
    "\n",
    "#### Reference Slide\n",
    "\n",
    "### Calculating $R^2$"
   ]
  },
  {
   "cell_type": "markdown",
   "id": "df73e240",
   "metadata": {
    "deletable": true,
    "editable": true,
    "slideshow": {
     "slide_type": "skip"
    }
   },
   "source": [
    "- Let's calculate the $R^2$ for `model_multiple`'s predictions in three different ways."
   ]
  },
  {
   "cell_type": "code",
   "execution_count": null,
   "id": "a2af15de",
   "metadata": {
    "deletable": true,
    "editable": true,
    "scrolled": true,
    "slideshow": {
     "slide_type": "skip"
    }
   },
   "outputs": [],
   "source": [
    "pred = df.assign(predicted=model_multiple.predict(df[['departure_hour', 'day_of_month']]))\n",
    "pred"
   ]
  },
  {
   "cell_type": "markdown",
   "id": "d1f85c8f",
   "metadata": {
    "deletable": true,
    "editable": true,
    "slideshow": {
     "slide_type": "skip"
    }
   },
   "source": [
    "- **Method 1: $R^2 = \\frac{\\text{var}(\\text{predicted $y$ values})}{\\text{var}(\\text{actual $y$ values})}$**."
   ]
  },
  {
   "cell_type": "code",
   "execution_count": null,
   "id": "93277521",
   "metadata": {
    "deletable": true,
    "editable": true,
    "slideshow": {
     "slide_type": "skip"
    }
   },
   "outputs": [],
   "source": [
    "np.var(pred['predicted']) / np.var(pred['minutes'])"
   ]
  },
  {
   "cell_type": "markdown",
   "id": "d5ada42b",
   "metadata": {
    "deletable": true,
    "editable": true,
    "slideshow": {
     "slide_type": "skip"
    }
   },
   "source": [
    "- **Method 2:** $R^2 = \\left[ \\text{correlation}(\\text{predicted $y$ values}, \\text{actual $y$ values}) \\right]^2$.<br><small>Note: By correlation here, we are referring to $r$, the same correlation coefficient we saw last week.</small>"
   ]
  },
  {
   "cell_type": "code",
   "execution_count": null,
   "id": "e5b6d9fb",
   "metadata": {
    "deletable": true,
    "editable": true,
    "slideshow": {
     "slide_type": "skip"
    }
   },
   "outputs": [],
   "source": [
    "np.corrcoef(pred['predicted'], pred['minutes'])[0, 1] ** 2"
   ]
  },
  {
   "cell_type": "markdown",
   "id": "e02e3eb0",
   "metadata": {
    "deletable": true,
    "editable": true,
    "slideshow": {
     "slide_type": "skip"
    }
   },
   "source": [
    "- **Method 3:** `LinearRegression.score`."
   ]
  },
  {
   "cell_type": "code",
   "execution_count": null,
   "id": "af0d48df",
   "metadata": {
    "deletable": true,
    "editable": true,
    "scrolled": true,
    "slideshow": {
     "slide_type": "skip"
    }
   },
   "outputs": [],
   "source": [
    "model_multiple.score(df[['departure_hour', 'day_of_month']], df['minutes'])"
   ]
  },
  {
   "cell_type": "markdown",
   "id": "7d190927",
   "metadata": {
    "deletable": true,
    "editable": true,
    "slideshow": {
     "slide_type": "skip"
    }
   },
   "source": [
    "- All three methods provide the same result!"
   ]
  },
  {
   "cell_type": "markdown",
   "id": "600cd2c1",
   "metadata": {
    "deletable": true,
    "editable": true,
    "slideshow": {
     "slide_type": "slide"
    }
   },
   "source": [
    "### Relationship between $R^2$ and MSE"
   ]
  },
  {
   "cell_type": "markdown",
   "id": "fb4501d1",
   "metadata": {
    "deletable": true,
    "editable": true,
    "slideshow": {
     "slide_type": "fragment"
    }
   },
   "source": [
    "- For linear models with an intercept term,\n",
    "\n",
    "$$R^2 = 1 - \\frac{\\text{MSE}}{\\text{var}(\\text{actual $y$ values})}$$"
   ]
  },
  {
   "cell_type": "code",
   "execution_count": null,
   "id": "90d27528",
   "metadata": {
    "deletable": true,
    "editable": true
   },
   "outputs": [],
   "source": [
    "1 - mean_squared_error(pred['minutes'], pred['predicted']) / np.var(pred['minutes'])"
   ]
  },
  {
   "cell_type": "markdown",
   "id": "fdb1d350",
   "metadata": {
    "deletable": true,
    "editable": true,
    "slideshow": {
     "slide_type": "slide"
    }
   },
   "source": [
    "### `LinearRegression` class summary\n",
    "\n",
    "|Property|Example|Description|\n",
    "|---|---|---|\n",
    "|Initialize model parameters| `lr = LinearRegression()` | Create (empty) linear regression model|\n",
    "|Fit the model to the data | `lr.fit(X, y)` | Determines regression coefficients|\n",
    "|Use model for prediction |`lr.predict(X_new)`| Uses regression line to make predictions|\n",
    "|Evaluate the model| `lr.score(X, y)` | Calculates the $R^2$ of the LR model|\n",
    "|Access model attributes| `lr.coef_`, `lr.intercept_` | Accesses the regression coefficients and intercept|\n"
   ]
  },
  {
   "cell_type": "markdown",
   "id": "a94f4121",
   "metadata": {
    "deletable": true,
    "editable": true,
    "slideshow": {
     "slide_type": "slide"
    }
   },
   "source": [
    "### What's next?"
   ]
  },
  {
   "cell_type": "markdown",
   "id": "9d1aec10",
   "metadata": {
    "deletable": true,
    "editable": true,
    "slideshow": {
     "slide_type": "fragment"
    }
   },
   "source": [
    "- So far, in our journey to predict `'minutes'`, we've only used two numerical features in our dataset, `'departure_hour'` and `'day_of_month'`."
   ]
  },
  {
   "cell_type": "code",
   "execution_count": null,
   "id": "dc18e122",
   "metadata": {
    "deletable": true,
    "editable": true
   },
   "outputs": [],
   "source": [
    "df[['departure_hour', 'day_of_month', 'minutes']]"
   ]
  },
  {
   "cell_type": "markdown",
   "id": "dc6a59b2",
   "metadata": {
    "deletable": true,
    "editable": true,
    "slideshow": {
     "slide_type": "fragment"
    }
   },
   "source": [
    "- There's a lot of information in `df` that we didn't use –`'day'`, for example. We can't use these `'day'` in it's current form as it's non-numeric."
   ]
  },
  {
   "cell_type": "markdown",
   "id": "dcd8ae6a",
   "metadata": {
    "deletable": true,
    "editable": true,
    "slideshow": {
     "slide_type": "fragment"
    }
   },
   "source": [
    "- **How do we use categorical features in a regression model?**"
   ]
  },
  {
   "cell_type": "markdown",
   "id": "f6dc5ecc",
   "metadata": {
    "deletable": true,
    "editable": true,
    "slideshow": {
     "slide_type": "slide"
    }
   },
   "source": [
    "## Feature engineering ⚙️"
   ]
  },
  {
   "cell_type": "markdown",
   "id": "2919187e",
   "metadata": {
    "deletable": true,
    "editable": true,
    "slideshow": {
     "slide_type": "slide"
    }
   },
   "source": [
    "### The goal of feature engineering"
   ]
  },
  {
   "cell_type": "markdown",
   "id": "b00a3040",
   "metadata": {
    "deletable": true,
    "editable": true,
    "slideshow": {
     "slide_type": "fragment"
    }
   },
   "source": [
    "- **Feature engineering** is the act of finding **transformations** that transform data into effective **quantitative variables**."
   ]
  },
  {
   "cell_type": "markdown",
   "id": "4fada552",
   "metadata": {
    "deletable": true,
    "editable": true,
    "slideshow": {
     "slide_type": "fragment"
    }
   },
   "source": [
    "- A feature function $\\phi$ (phi, pronounced \"fea\") is a mapping from raw data to $d$-dimensional space, i.e. $\\phi: \\text{raw data} \\rightarrow \\mathbb{R}^d$.<br><small>If two observations $x_i$ and $x_j$ are \"similar\" in the raw data space, then $\\phi(x_i)$ and $\\phi(x_j)$ should also be \"similar.\"</small>"
   ]
  },
  {
   "cell_type": "markdown",
   "id": "14b9758b",
   "metadata": {
    "deletable": true,
    "editable": true,
    "slideshow": {
     "slide_type": "fragment"
    }
   },
   "source": [
    "- A \"good\" choice of features depends on many factors:\n",
    "    - The kind of data, i.e. quantitative, ordinal, or nominal.\n",
    "    - The relationship(s) being modeled.\n",
    "    - The model type, e.g. linear models, decision tree models, neural networks."
   ]
  },
  {
   "cell_type": "markdown",
   "id": "a75cc34d",
   "metadata": {
    "deletable": true,
    "editable": true,
    "slideshow": {
     "slide_type": "slide"
    }
   },
   "source": [
    "### One hot encoding"
   ]
  },
  {
   "cell_type": "markdown",
   "id": "9d4d1951",
   "metadata": {
    "deletable": true,
    "editable": true,
    "slideshow": {
     "slide_type": "fragment"
    }
   },
   "source": [
    "- One hot encoding is a transformation that turns a categorical feature into several binary features."
   ]
  },
  {
   "cell_type": "markdown",
   "id": "f0e42628",
   "metadata": {
    "deletable": true,
    "editable": true,
    "slideshow": {
     "slide_type": "fragment"
    }
   },
   "source": [
    "- Suppose a column has $N$ unique values, $A_1$, $A_2$, ..., $A_N$. For each unique value $A_i$, we define the following **feature function**:\n",
    "\n",
    "$$\\phi_i(x) = \\left\\{\\begin{array}{ll}1 & {\\rm if\\ } x == A_i \\\\ 0 &  {\\rm if\\ } x\\neq A_i \\\\ \\end{array}\\right. $$"
   ]
  },
  {
   "cell_type": "markdown",
   "id": "7ebd327b",
   "metadata": {
    "deletable": true,
    "editable": true,
    "slideshow": {
     "slide_type": "fragment"
    }
   },
   "source": [
    "- Note that 1 means \"yes\" and 0 means \"no\"."
   ]
  },
  {
   "cell_type": "markdown",
   "id": "53372274",
   "metadata": {
    "deletable": true,
    "editable": true,
    "slideshow": {
     "slide_type": "fragment"
    }
   },
   "source": [
    "- One hot encoding is also called \"dummy encoding\", and $\\phi(x)$ may also be referred to as an \"indicator variable\"."
   ]
  },
  {
   "cell_type": "markdown",
   "id": "f0a7fdf1",
   "metadata": {
    "deletable": true,
    "editable": true,
    "slideshow": {
     "slide_type": "slide"
    }
   },
   "source": [
    "### Example: One hot encoding `'day'`\n",
    "\n",
    "- For each unique value of `'day'` in our dataset, we must create a column for just that `'day'`."
   ]
  },
  {
   "cell_type": "code",
   "execution_count": null,
   "id": "626657ed",
   "metadata": {
    "deletable": true,
    "editable": true
   },
   "outputs": [],
   "source": [
    "df.head()"
   ]
  },
  {
   "cell_type": "code",
   "execution_count": null,
   "id": "5eb59d15",
   "metadata": {
    "deletable": true,
    "editable": true
   },
   "outputs": [],
   "source": [
    "df['day'].value_counts()"
   ]
  },
  {
   "cell_type": "code",
   "execution_count": null,
   "id": "00c47102",
   "metadata": {
    "deletable": true,
    "editable": true,
    "scrolled": true
   },
   "outputs": [],
   "source": [
    "..."
   ]
  },
  {
   "cell_type": "code",
   "execution_count": null,
   "id": "26c34f75",
   "metadata": {
    "deletable": true,
    "editable": true
   },
   "outputs": [],
   "source": [
    "for val in df['day'].unique():\n",
    "    df[f'day == {val}'] = (df['day'] == val).astype(int)"
   ]
  },
  {
   "cell_type": "code",
   "execution_count": null,
   "id": "3d36a048",
   "metadata": {
    "deletable": true,
    "editable": true
   },
   "outputs": [],
   "source": [
    "..."
   ]
  },
  {
   "cell_type": "markdown",
   "id": "43d9efaa",
   "metadata": {
    "deletable": true,
    "editable": true,
    "slideshow": {
     "slide_type": "slide"
    }
   },
   "source": [
    "### Using `'day'` as a feature, along with `'departure_hour'` and `'day_of_month'`"
   ]
  },
  {
   "cell_type": "markdown",
   "id": "65fea5e9",
   "metadata": {
    "deletable": true,
    "editable": true,
    "slideshow": {
     "slide_type": "fragment"
    }
   },
   "source": [
    "- Now that we've converted `'day'` to a numerical variable, we can use it as input in a regression model. Here's the model we'll try to fit:"
   ]
  },
  {
   "cell_type": "markdown",
   "id": "5e1a9525",
   "metadata": {
    "deletable": true,
    "editable": true,
    "slideshow": {
     "slide_type": "fragment"
    }
   },
   "source": [
    "$$\\begin{align*}\\text{predicted commute time} = w_0 &+ w_1 \\cdot \\text{departure hour} \\\\ &+ w_2 \\cdot \\text{day of month} \\\\ &+ w_3 \\cdot \\text{day == Mon} \\\\ \n",
    "&+ w_4 \\cdot \\text{day == Tue} \\\\ \n",
    "&+ w_5 \\cdot \\text{day == Wed} \\\\ \n",
    "&+ w_6 \\cdot \\text{day == Thu} \\end{align*}$$"
   ]
  },
  {
   "cell_type": "markdown",
   "id": "d45db5f7",
   "metadata": {
    "deletable": true,
    "editable": true,
    "slideshow": {
     "slide_type": "fragment"
    }
   },
   "source": [
    "- **Subtlety**: Since there are only 5 values of `'day'`, we don't need to include `'day == Fri'` as a feature. We know it's Friday if `'day == Mon'`, ..., `'day == Thu'` are all 0.<br><small>More on why next class!</small>"
   ]
  },
  {
   "cell_type": "code",
   "execution_count": null,
   "id": "68634032",
   "metadata": {
    "deletable": true,
    "editable": true
   },
   "outputs": [],
   "source": [
    "X_for_ohe = df[['departure_hour', \n",
    "                         'day_of_month',\n",
    "                         'day == Mon',\n",
    "                         'day == Tue',\n",
    "                         'day == Wed',\n",
    "                         'day == Thu']]\n",
    "X_for_ohe"
   ]
  },
  {
   "cell_type": "code",
   "execution_count": null,
   "id": "c0e464cc",
   "metadata": {
    "deletable": true,
    "editable": true
   },
   "outputs": [],
   "source": [
    "model_with_ohe = LinearRegression()\n",
    "model_with_ohe.fit(X=X_for_ohe, y=df['minutes'])"
   ]
  },
  {
   "cell_type": "markdown",
   "id": "0dba0349",
   "metadata": {
    "deletable": true,
    "editable": true,
    "slideshow": {
     "slide_type": "fragment"
    }
   },
   "source": [
    "- The following cell gives us our $w^*$s:"
   ]
  },
  {
   "cell_type": "code",
   "execution_count": null,
   "id": "59ff0c3c",
   "metadata": {
    "deletable": true,
    "editable": true,
    "scrolled": true
   },
   "outputs": [],
   "source": [
    "model_with_ohe.intercept_, model_with_ohe.coef_"
   ]
  },
  {
   "cell_type": "markdown",
   "id": "355070ab",
   "metadata": {
    "deletable": true,
    "editable": true,
    "slideshow": {
     "slide_type": "fragment"
    }
   },
   "source": [
    "- Thus, our trained linear model to predict commute time given `'departure_hour'`, `'day_of_month'`, and `'day'` (Mon, Tue, Wed, or Thu) is:\n",
    "\n",
    "$$\\begin{align*}\\text{predicted commute time} = 134 &- 8.42 \\cdot \\text{departure hour} \\\\ &- 0.03 \\cdot \\text{day of month} \\\\ \n",
    "&+ 5.09 \\cdot \\text{day == Mon} \\\\ \n",
    "&+ 16.38 \\cdot \\text{day == Tue} \\\\ \n",
    "&+ 5.12 \\cdot \\text{day == Wed} \\\\ \n",
    "&+ 11.5 \\cdot \\text{day == Thu} \\end{align*}$$"
   ]
  },
  {
   "cell_type": "markdown",
   "id": "fc6cba89",
   "metadata": {
    "deletable": true,
    "editable": true,
    "slideshow": {
     "slide_type": "slide"
    }
   },
   "source": [
    "### Visualizing our latest model"
   ]
  },
  {
   "cell_type": "markdown",
   "id": "5527b0f7",
   "metadata": {
    "deletable": true,
    "editable": true,
    "slideshow": {
     "slide_type": "fragment"
    }
   },
   "source": [
    "- Our trained linear model to predict commute time given `'departure_hour'`, `'day_of_month'`, and `'day'` (Mon, Tue, Wed, or Thu) is:\n",
    "\n",
    "$$\\begin{align*}\\text{predicted commute time} = 134 &- 8.42 \\cdot \\text{departure hour} \\\\ &- 0.03 \\cdot \\text{day of month} \\\\ \n",
    "&+ 5.09 \\cdot \\text{day == Mon} \\\\ \n",
    "&+ 16.38 \\cdot \\text{day == Tue} \\\\ \n",
    "&+ 5.12 \\cdot \\text{day == Wed} \\\\ \n",
    "&+ 11.5 \\cdot \\text{day == Thu} \\end{align*}$$"
   ]
  },
  {
   "cell_type": "markdown",
   "id": "2eb391a2",
   "metadata": {
    "deletable": true,
    "editable": true,
    "slideshow": {
     "slide_type": "fragment"
    }
   },
   "source": [
    "- Since we have 6 features here, we'd need 7 dimensions to graph our model."
   ]
  },
  {
   "cell_type": "markdown",
   "id": "e293a90b",
   "metadata": {
    "deletable": true,
    "editable": true,
    "slideshow": {
     "slide_type": "fragment"
    }
   },
   "source": [
    "- But, as we see in Homework 8, Question 6, our model is really a collection of **five parallel planes** in 3D, all with slightly different $z$-intercepts!"
   ]
  },
  {
   "cell_type": "markdown",
   "id": "e47d934f",
   "metadata": {
    "deletable": true,
    "editable": true,
    "slideshow": {
     "slide_type": "slide"
    }
   },
   "source": [
    "- If we want to visualize in 2D, we need to pick a single feature to place on the $x$-axis."
   ]
  },
  {
   "cell_type": "code",
   "execution_count": null,
   "id": "684d97b6",
   "metadata": {
    "deletable": true,
    "editable": true
   },
   "outputs": [],
   "source": [
    "fig = go.Figure()\n",
    "fig.add_trace(go.Scatter(x=df['departure_hour'], y=df['minutes'], \n",
    "                         mode='markers', name='Original Data'))\n",
    "fig.add_trace(go.Scatter(x=df['departure_hour'], y=model_with_ohe.predict(X_for_ohe), \n",
    "                         mode='markers', name='Predicted Commute Times using Departure Hour, <br>Day of Month, and Day of Week'))\n",
    "fig.update_layout(showlegend=True, title='Commute Time vs. Departure Hour',\n",
    "                  xaxis_title='Departure Hour', yaxis_title='Minutes', width=1000)"
   ]
  },
  {
   "cell_type": "markdown",
   "id": "48bdf69d",
   "metadata": {
    "deletable": true,
    "editable": true,
    "slideshow": {
     "slide_type": "fragment"
    }
   },
   "source": [
    "- Despite being a linear model, why **doesn't** this model **look** like a straight line?"
   ]
  },
  {
   "cell_type": "markdown",
   "id": "161211bb",
   "metadata": {
    "deletable": true,
    "editable": true,
    "slideshow": {
     "slide_type": "slide"
    }
   },
   "source": [
    "### Comparing our latest model to earlier models"
   ]
  },
  {
   "cell_type": "markdown",
   "id": "06675365",
   "metadata": {
    "deletable": true,
    "editable": true,
    "slideshow": {
     "slide_type": "fragment"
    }
   },
   "source": [
    "- Let's see how the inclusion of the day of the week impacts the quality of our predictions."
   ]
  },
  {
   "cell_type": "code",
   "execution_count": null,
   "id": "ca012a17",
   "metadata": {
    "deletable": true,
    "editable": true
   },
   "outputs": [],
   "source": [
    "mse_dict['departure_hour + day_of_month + ohe day'] = mean_squared_error(\n",
    "    df['minutes'],\n",
    "    model_with_ohe.predict(X_for_ohe)\n",
    ")"
   ]
  },
  {
   "cell_type": "code",
   "execution_count": null,
   "id": "9d05067a",
   "metadata": {
    "deletable": true,
    "editable": true
   },
   "outputs": [],
   "source": [
    "mse_dict"
   ]
  },
  {
   "cell_type": "markdown",
   "id": "77b1631c",
   "metadata": {
    "deletable": true,
    "editable": true,
    "slideshow": {
     "slide_type": "fragment"
    }
   },
   "source": [
    "- Adding the day of the week decreased our MSE **significantly**!"
   ]
  },
  {
   "cell_type": "markdown",
   "id": "ed8ad357",
   "metadata": {
    "deletable": true,
    "editable": true,
    "slideshow": {
     "slide_type": "slide"
    }
   },
   "source": [
    "### Reflection"
   ]
  },
  {
   "cell_type": "code",
   "execution_count": null,
   "id": "6d95afe4",
   "metadata": {
    "deletable": true,
    "editable": true
   },
   "outputs": [],
   "source": [
    "df.head()"
   ]
  },
  {
   "cell_type": "markdown",
   "id": "d9084f91",
   "metadata": {
    "deletable": true,
    "editable": true,
    "slideshow": {
     "slide_type": "fragment"
    }
   },
   "source": [
    "- We've one hot encoded `'day'`, but it required a `for`-loop."
   ]
  },
  {
   "cell_type": "markdown",
   "id": "86e9da5f",
   "metadata": {
    "deletable": true,
    "editable": true,
    "slideshow": {
     "slide_type": "fragment"
    }
   },
   "source": [
    "- Is there a way we could have encoded it without a `for`-loop?"
   ]
  },
  {
   "cell_type": "markdown",
   "id": "c7614e19",
   "metadata": {
    "deletable": true,
    "editable": true,
    "slideshow": {
     "slide_type": "fragment"
    }
   },
   "source": [
    "- Yes, using `sklearn.preprocessing`'s `OneHotEncoder`. More on this soon!"
   ]
  },
  {
   "cell_type": "markdown",
   "id": "79e3aab6",
   "metadata": {
    "deletable": true,
    "editable": true,
    "slideshow": {
     "slide_type": "slide"
    }
   },
   "source": [
    "<div class=\"alert alert-warning\">\n",
    "    <h3>Question 🤔 (Answer at <a style=\"text-decoration: none; color: #0066cc\" href=\"https://docs.google.com/forms/d/e/1FAIpQLSd4oliiZYeNh76jWy-arfEtoAkCrVSsobZxPwxifWggo3EO0Q/viewform\">practicaldsc.org/q</a>)</h3>\n",
    "    \n",
    "Remember that you can always ask questions anonymously at the link above!"
   ]
  },
  {
   "cell_type": "markdown",
   "id": "c4d5ff30",
   "metadata": {
    "deletable": true,
    "editable": true,
    "slideshow": {
     "slide_type": "slide"
    }
   },
   "source": [
    "## Example: Horsepower 🚗\n",
    "\n",
    "---"
   ]
  },
  {
   "cell_type": "markdown",
   "id": "38d773c5",
   "metadata": {
    "deletable": true,
    "editable": true,
    "slideshow": {
     "slide_type": "slide"
    }
   },
   "source": [
    "### Loading the (new) data"
   ]
  },
  {
   "cell_type": "markdown",
   "id": "705ea7ca",
   "metadata": {
    "deletable": true,
    "editable": true,
    "slideshow": {
     "slide_type": "fragment"
    }
   },
   "source": [
    "- The following dataset, built into the `seaborn` plotting library, contains various information about (older) cars."
   ]
  },
  {
   "cell_type": "code",
   "execution_count": null,
   "id": "2d905d48",
   "metadata": {
    "deletable": true,
    "editable": true
   },
   "outputs": [],
   "source": [
    "mpg = sns.load_dataset('mpg').dropna()\n",
    "mpg.head()"
   ]
  },
  {
   "cell_type": "markdown",
   "id": "d9f110e2",
   "metadata": {
    "deletable": true,
    "editable": true,
    "slideshow": {
     "slide_type": "fragment"
    }
   },
   "source": [
    "- We really do mean old:"
   ]
  },
  {
   "cell_type": "code",
   "execution_count": null,
   "id": "eb7dde5d",
   "metadata": {
    "deletable": true,
    "editable": true
   },
   "outputs": [],
   "source": [
    "mpg['model_year'].value_counts()"
   ]
  },
  {
   "cell_type": "markdown",
   "id": "5ee42679",
   "metadata": {
    "deletable": true,
    "editable": true,
    "slideshow": {
     "slide_type": "fragment"
    }
   },
   "source": [
    "- Let's investigate the relationship between `'horsepower'` and `'mpg'`."
   ]
  },
  {
   "cell_type": "markdown",
   "id": "41803e7f",
   "metadata": {
    "deletable": true,
    "editable": true,
    "slideshow": {
     "slide_type": "slide"
    }
   },
   "source": [
    "### The relationship between `'horsepower'` and `'mpg'`"
   ]
  },
  {
   "cell_type": "code",
   "execution_count": null,
   "id": "e52ebafd",
   "metadata": {
    "deletable": true,
    "editable": true,
    "scrolled": false
   },
   "outputs": [],
   "source": [
    "px.scatter(mpg, x='horsepower', y='mpg')"
   ]
  },
  {
   "cell_type": "markdown",
   "id": "88802fb8",
   "metadata": {
    "deletable": true,
    "editable": true,
    "slideshow": {
     "slide_type": "fragment"
    }
   },
   "source": [
    "- It appears that there is a negative association between `'horsepower'` and `'mpg'`, though it's not quite linear."
   ]
  },
  {
   "cell_type": "markdown",
   "id": "4020d078",
   "metadata": {
    "deletable": true,
    "editable": true,
    "slideshow": {
     "slide_type": "fragment"
    }
   },
   "source": [
    "- Let's try and fit a simple linear model that uses `'horsepower'` to predict `'mpg'` and see what happens."
   ]
  },
  {
   "cell_type": "markdown",
   "id": "9836bfe7",
   "metadata": {
    "deletable": true,
    "editable": true,
    "slideshow": {
     "slide_type": "slide"
    }
   },
   "source": [
    "### Predicting `'mpg'` using `'horsepower'`"
   ]
  },
  {
   "cell_type": "code",
   "execution_count": null,
   "id": "10ea68a8",
   "metadata": {
    "deletable": true,
    "editable": true
   },
   "outputs": [],
   "source": [
    "car_model = LinearRegression()\n",
    "car_model.fit(mpg[['horsepower']], mpg['mpg'])"
   ]
  },
  {
   "cell_type": "markdown",
   "id": "aa2aaaed",
   "metadata": {
    "deletable": true,
    "editable": true,
    "slideshow": {
     "slide_type": "fragment"
    }
   },
   "source": [
    "- What do our predictions look like?"
   ]
  },
  {
   "cell_type": "code",
   "execution_count": null,
   "id": "fa4d095e",
   "metadata": {
    "deletable": true,
    "editable": true
   },
   "outputs": [],
   "source": [
    "hp_points = pd.DataFrame({'horsepower': [25, 225]})\n",
    "fig = px.scatter(mpg, x='horsepower', y='mpg')\n",
    "fig.add_trace(go.Scatter(\n",
    "    x=hp_points['horsepower'],\n",
    "    y=car_model.predict(hp_points),\n",
    "    mode='lines',\n",
    "    name='Predicted MPG using Horsepower'\n",
    "))"
   ]
  },
  {
   "cell_type": "markdown",
   "id": "2eea591e",
   "metadata": {
    "deletable": true,
    "editable": true,
    "slideshow": {
     "slide_type": "fragment"
    }
   },
   "source": [
    "- Our regression line doesn't capture the curvature in the relationship between `'horsepower'` and `'mpg'`."
   ]
  },
  {
   "cell_type": "code",
   "execution_count": null,
   "id": "4ec16ccd",
   "metadata": {
    "deletable": true,
    "editable": true
   },
   "outputs": [],
   "source": [
    "car_model.score(mpg[['horsepower']], mpg['mpg'])"
   ]
  },
  {
   "cell_type": "markdown",
   "id": "845e7b9d",
   "metadata": {
    "deletable": true,
    "editable": true,
    "slideshow": {
     "slide_type": "slide"
    }
   },
   "source": [
    "### Linear in the parameters"
   ]
  },
  {
   "cell_type": "markdown",
   "id": "18f92bc9",
   "metadata": {
    "deletable": true,
    "editable": true,
    "slideshow": {
     "slide_type": "fragment"
    }
   },
   "source": [
    "-  **Using linear regression**, we can fit rules like:\n",
    "    $$\n",
    "    w_0 + w_1x+w_2x^2\n",
    "    \\qquad \\qquad \n",
    "    w_1e^{-x^{{(1)}^2}} + w_2 \\cos(x^{(2)}+\\pi) +w_3 \\frac{\\log 2x^{(3)}}{x^{(2)}}\n",
    "    $$\n",
    "    - This includes arbitrary polynomials.\n",
    "    - These are all linear combinations of (just) features."
   ]
  },
  {
   "cell_type": "markdown",
   "id": "0521c60c",
   "metadata": {
    "deletable": true,
    "editable": true,
    "slideshow": {
     "slide_type": "fragment"
    }
   },
   "source": [
    "- For any of the above examples, we **could** express our model as a product of a design matrix and parameter vector, and that's all that `LinearRegression` in `sklearn` needs.<br><small>What we put in the `X` argument to `model.fit` is up to us!</small>"
   ]
  },
  {
   "cell_type": "markdown",
   "id": "6642e534",
   "metadata": {
    "deletable": true,
    "editable": true,
    "slideshow": {
     "slide_type": "fragment"
    }
   },
   "source": [
    "-  Using linear regression, we **can't** fit rules like:\n",
    "    $$\n",
    "    w_0 + e^{w_1 x}\n",
    "    \\qquad \\qquad \n",
    "    w_0 + \\sin (w_1 x^{(1)} + w_2 x^{(2)})\n",
    "    $$\n",
    "    - These are **not** linear combinations of just features."
   ]
  },
  {
   "cell_type": "markdown",
   "id": "15898b72",
   "metadata": {
    "deletable": true,
    "editable": true,
    "slideshow": {
     "slide_type": "fragment"
    }
   },
   "source": [
    "-  We can have any number of parameters, as long as our hypothesis function is **linear in the parameters**, or linear when we think of it as a function of the parameters.\n",
    "\n",
    "$$w_0 + w_1 f_1(\\vec{x}) + w_2 f_2(\\vec{x}) + ... + w_d f_d(\\vec{x})$$"
   ]
  },
  {
   "cell_type": "markdown",
   "id": "92311a01",
   "metadata": {
    "deletable": true,
    "editable": true,
    "slideshow": {
     "slide_type": "slide"
    }
   },
   "source": [
    "### Linearization"
   ]
  },
  {
   "cell_type": "markdown",
   "id": "12c41c5a",
   "metadata": {
    "deletable": true,
    "editable": true,
    "slideshow": {
     "slide_type": "fragment"
    }
   },
   "source": [
    "- The [Tukey Mosteller Bulge Diagram](https://sites.stat.washington.edu/pds/stat423/Documents/LectureNotes/notes.423.ch4.pdf) helps us pick which transformations to apply to data in order to **linearize** it.\n",
    "\n",
    "<center><img src=\"imgs/bulge.png\" width=25%></center>"
   ]
  },
  {
   "cell_type": "markdown",
   "id": "58eac40a",
   "metadata": {
    "deletable": true,
    "editable": true,
    "slideshow": {
     "slide_type": "fragment"
    }
   },
   "source": [
    "- The bottom-left quadrant appears to match the shape of the scatter plot between `'horsepower'` and `'mpg'` the best – let's try taking the `log` of `'horsepower'` ($X$)."
   ]
  },
  {
   "cell_type": "code",
   "execution_count": null,
   "id": "5d56253f",
   "metadata": {
    "deletable": true,
    "editable": true
   },
   "outputs": [],
   "source": [
    "mpg['log hp'] = np.log(mpg['horsepower'])"
   ]
  },
  {
   "cell_type": "markdown",
   "id": "dd7ed77c",
   "metadata": {
    "deletable": true,
    "editable": true,
    "slideshow": {
     "slide_type": "fragment"
    }
   },
   "source": [
    "- What does our data look like now?"
   ]
  },
  {
   "cell_type": "code",
   "execution_count": null,
   "id": "be14ffcb",
   "metadata": {
    "deletable": true,
    "editable": true
   },
   "outputs": [],
   "source": [
    "px.scatter(mpg, x='log hp', y='mpg')"
   ]
  },
  {
   "cell_type": "markdown",
   "id": "87c10aed",
   "metadata": {
    "deletable": true,
    "editable": true,
    "slideshow": {
     "slide_type": "slide"
    }
   },
   "source": [
    "### Predicting `'mpg'` using `log('horsepower')`"
   ]
  },
  {
   "cell_type": "markdown",
   "id": "75a848b1",
   "metadata": {
    "deletable": true,
    "editable": true,
    "slideshow": {
     "slide_type": "fragment"
    }
   },
   "source": [
    "- Let's fit another linear model."
   ]
  },
  {
   "cell_type": "code",
   "execution_count": null,
   "id": "206750ed",
   "metadata": {
    "deletable": true,
    "editable": true
   },
   "outputs": [],
   "source": [
    "car_model_log = LinearRegression()\n",
    "car_model_log.fit(mpg[['log hp']], mpg['mpg'])"
   ]
  },
  {
   "cell_type": "markdown",
   "id": "63fd326f",
   "metadata": {
    "deletable": true,
    "editable": true,
    "slideshow": {
     "slide_type": "fragment"
    }
   },
   "source": [
    "- Note that implicitly, we defined the following design matrix:\n",
    "\n",
    "$$X = \\begin{bmatrix} 1 & \\log(x_1) \\\\ 1 & \\log(x_2) \\\\ \\vdots & \\vdots \\\\ 1 & \\log(x_n) \\end{bmatrix}$$"
   ]
  },
  {
   "cell_type": "markdown",
   "id": "dcd56384",
   "metadata": {
    "deletable": true,
    "editable": true,
    "slideshow": {
     "slide_type": "fragment"
    }
   },
   "source": [
    "- What do our predictions look like now?"
   ]
  },
  {
   "cell_type": "code",
   "execution_count": null,
   "id": "1436e39f",
   "metadata": {
    "deletable": true,
    "editable": true
   },
   "outputs": [],
   "source": [
    "fig = px.scatter(mpg, x='log hp', y='mpg')\n",
    "log_hp_points = pd.DataFrame({'log hp': [3.7, 5.5]})\n",
    "fig = px.scatter(mpg, x='log hp', y='mpg')\n",
    "fig.add_trace(go.Scatter(\n",
    "    x=log_hp_points['log hp'],\n",
    "    y=car_model_log.predict(log_hp_points),\n",
    "    mode='lines',\n",
    "    name='Predicted MPG using log(Horsepower)'\n",
    "))"
   ]
  },
  {
   "cell_type": "markdown",
   "id": "07ef06bd",
   "metadata": {
    "deletable": true,
    "editable": true,
    "slideshow": {
     "slide_type": "fragment"
    }
   },
   "source": [
    "- The fit looks a bit better! How about the $R^2$?"
   ]
  },
  {
   "cell_type": "code",
   "execution_count": null,
   "id": "7a8c2b66",
   "metadata": {
    "deletable": true,
    "editable": true
   },
   "outputs": [],
   "source": [
    "car_model_log.score(mpg[['log hp']], mpg['mpg'])"
   ]
  },
  {
   "cell_type": "markdown",
   "id": "db82748e",
   "metadata": {
    "deletable": true,
    "editable": true,
    "slideshow": {
     "slide_type": "fragment"
    }
   },
   "source": [
    "- Also a bit better!"
   ]
  },
  {
   "cell_type": "markdown",
   "id": "0fdb87bb",
   "metadata": {
    "deletable": true,
    "editable": true,
    "slideshow": {
     "slide_type": "slide"
    }
   },
   "source": [
    "- What do our predictions look like on the original, non-transformed scatter plot? Let's see:"
   ]
  },
  {
   "cell_type": "code",
   "execution_count": null,
   "id": "ca430992",
   "metadata": {
    "deletable": true,
    "editable": true
   },
   "outputs": [],
   "source": [
    "fig = px.scatter(mpg, x='horsepower', y='mpg')\n",
    "fig.add_trace(\n",
    "    go.Scatter(\n",
    "        x=mpg['horsepower'], \n",
    "        y=car_model_log.intercept_ + car_model_log.coef_[0] * np.log(mpg['horsepower']),  \n",
    "        mode='markers', name='Predicted MPG using log(Horsepower)'\n",
    "    )\n",
    ")\n",
    "fig"
   ]
  },
  {
   "cell_type": "markdown",
   "id": "b27e1fd5",
   "metadata": {
    "deletable": true,
    "editable": true,
    "slideshow": {
     "slide_type": "fragment"
    }
   },
   "source": [
    "- Our predictions that used $\\log(\\text{Horsepower})$ as an input don't fall on a straight line. We shouldn't expect them to; the orange dots come from:\n",
    "\n",
    "$$\\text{predicted MPG} = 108.70 - 18.582 \\cdot \\log(\\text{Horsepower})$$"
   ]
  },
  {
   "cell_type": "code",
   "execution_count": null,
   "id": "26f9b2a3",
   "metadata": {
    "deletable": true,
    "editable": true
   },
   "outputs": [],
   "source": [
    "car_model_log.intercept_, car_model_log.coef_"
   ]
  },
  {
   "cell_type": "markdown",
   "id": "50000836",
   "metadata": {
    "deletable": true,
    "editable": true,
    "slideshow": {
     "slide_type": "slide"
    }
   },
   "source": [
    "<div class=\"alert alert-warning\">\n",
    "    <h3>Question 🤔 (Answer at <a style=\"text-decoration: none; color: #0066cc\" href=\"https://docs.google.com/forms/d/e/1FAIpQLSd4oliiZYeNh76jWy-arfEtoAkCrVSsobZxPwxifWggo3EO0Q/viewform\">practicaldsc.org/q</a>)</h3>\n",
    "\n",
    "Which hypothesis function is **not** linear in the parameters?\n",
    "\n",
    "- A. $H(\\vec{x}) = w_1 (x^{(1)} x^{(2)}) + \\frac{w_2}{x^{(1)}} \\sin \\left( x^{(2)} \\right)$\n",
    "- B. $H(\\vec{x}) = 2^{w_1} x^{(1)}$\n",
    "- C. $H(\\vec{x}) = \\vec{w} \\cdot \\text{Aug}(\\vec{x})$\n",
    "- D. $H(\\vec{x}) = w_1 \\cos (x^{(1)}) + w_2 2^{x^{(2)} \\log x^{(3)}}$\n",
    "- E. More than one of the above."
   ]
  },
  {
   "cell_type": "markdown",
   "id": "c98cc06c",
   "metadata": {
    "deletable": true,
    "editable": true,
    "slideshow": {
     "slide_type": "slide"
    }
   },
   "source": [
    "### What's next?"
   ]
  },
  {
   "cell_type": "markdown",
   "id": "1f195a0d",
   "metadata": {
    "deletable": true,
    "editable": true,
    "slideshow": {
     "slide_type": "fragment"
    }
   },
   "source": [
    "- Next class, we'll look at more examples of feature transformations."
   ]
  },
  {
   "cell_type": "markdown",
   "id": "a9650cb2",
   "metadata": {
    "deletable": true,
    "editable": true,
    "slideshow": {
     "slide_type": "fragment"
    }
   },
   "source": [
    "- We'll also look at how to implement more of the feature engineering process in `sklearn`, ultimately creating **Pipeline** objects that both:\n",
    "    - Define a model.\n",
    "    - Define the necessary feature transformations to fit the model."
   ]
  }
 ],
 "metadata": {
  "celltoolbar": "None",
  "kernelspec": {
   "display_name": "Python 3 (ipykernel)",
   "language": "python",
   "name": "python3"
  },
  "language_info": {
   "codemirror_mode": {
    "name": "ipython",
    "version": 3
   },
   "file_extension": ".py",
   "mimetype": "text/x-python",
   "name": "python",
   "nbconvert_exporter": "python",
   "pygments_lexer": "ipython3",
   "version": "3.10.14"
  },
  "livereveal": {
   "scroll": true
  },
  "rise": {
   "transition": "none"
  }
 },
 "nbformat": 4,
 "nbformat_minor": 5
}
